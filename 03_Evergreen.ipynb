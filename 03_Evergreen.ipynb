{
 "cells": [
  {
   "cell_type": "markdown",
   "metadata": {},
   "source": [
    "# Master's Thesis: Investigating Maximum Rainfall Trends in Colorado"
   ]
  },
  {
   "cell_type": "markdown",
   "metadata": {},
   "source": [
    "<b>Institution:</b> University of Georgia <br>\n",
    "<b>Department:</b> Statistics <br>\n",
    "<b>Student:</b> Jeremy Mulcahey <br>\n",
    "<b>Advisor:</b> Dr. Lynne Seymour <br>\n",
    "<b>File:</b> 03_Evergreen<br>\n",
    "<b>Last Edit:</b> 7/4/2016"
   ]
  },
  {
   "cell_type": "markdown",
   "metadata": {},
   "source": [
    "Section 0: Preparing data <br>\n",
    "Section 1: Distribution of Max Precipitation and Trends<br>\n",
    "Section 2: Parameter Estimation, Distribution, and Trends"
   ]
  },
  {
   "cell_type": "markdown",
   "metadata": {},
   "source": [
    "##  Section 0: Preparing data"
   ]
  },
  {
   "cell_type": "code",
   "execution_count": 7,
   "metadata": {
    "collapsed": false
   },
   "outputs": [],
   "source": [
    "require(fitdistrplus); # required for parameter estimation\n",
    "require(caTools);      # required for smoothing\n",
    "require(repr);         # required for resizing plots in IRKernel\n",
    "require(\"IRdisplay\");  # graphic embedding\n",
    "require(MASS);         # testing"
   ]
  },
  {
   "cell_type": "code",
   "execution_count": 8,
   "metadata": {
    "collapsed": false
   },
   "outputs": [],
   "source": [
    "# establish working directorys\n",
    "setwd(\"C:/Users/jerem/Desktop/UGA/Master'sThesis/\")"
   ]
  },
  {
   "cell_type": "markdown",
   "metadata": {},
   "source": [
    "Data files for individual station names."
   ]
  },
  {
   "cell_type": "code",
   "execution_count": 9,
   "metadata": {
    "collapsed": false
   },
   "outputs": [],
   "source": [
    "data = read.csv(file = \"data/EVERGREEN_MonMax_GHCN.csv\", head=T)"
   ]
  },
  {
   "cell_type": "markdown",
   "metadata": {},
   "source": [
    "Adjust the data for later use."
   ]
  },
  {
   "cell_type": "code",
   "execution_count": 10,
   "metadata": {
    "collapsed": false
   },
   "outputs": [
    {
     "data": {
      "text/html": [
       "46"
      ],
      "text/latex": [
       "46"
      ],
      "text/markdown": [
       "46"
      ],
      "text/plain": [
       "[1] 46"
      ]
     },
     "metadata": {},
     "output_type": "display_data"
    }
   ],
   "source": [
    "# Create an index as x - used as needed\n",
    "month = seq(1,nrow(data),by=1)\n",
    "data = cbind(data,month)\n",
    "\n",
    "# first year of the data (changes by station name)\n",
    "firstYear = data$YEAR[1]\n",
    "\n",
    "# station name for plotting\n",
    "stationName = as.character(data$STATION_NAME[1])\n",
    "\n",
    "# -999 messed with the plotting - change to NA\n",
    "data[data==-999] = NA\n",
    "\n",
    "sum(is.na(data)) #print number of missing values"
   ]
  },
  {
   "cell_type": "markdown",
   "metadata": {},
   "source": [
    "Check number of years in the data set."
   ]
  },
  {
   "cell_type": "code",
   "execution_count": 11,
   "metadata": {
    "collapsed": false
   },
   "outputs": [
    {
     "data": {
      "text/html": [
       "52"
      ],
      "text/latex": [
       "52"
      ],
      "text/markdown": [
       "52"
      ],
      "text/plain": [
       "[1] 52"
      ]
     },
     "metadata": {},
     "output_type": "display_data"
    }
   ],
   "source": [
    "data$YEAR[nrow(data)]-firstYear"
   ]
  },
  {
   "cell_type": "markdown",
   "metadata": {},
   "source": [
    "Make a data frame of all the 10 year periods following the first year for data collected at the station."
   ]
  },
  {
   "cell_type": "code",
   "execution_count": 12,
   "metadata": {
    "collapsed": false
   },
   "outputs": [],
   "source": [
    "#create the first decade (first year and the following 9 years)\n",
    "max_PRCP = data.frame(data[which(data$YEAR < (firstYear + 10)),6])\n",
    "\n",
    "# add all the subsequent decades to the data frame incrementing by 1 year at a time\n",
    "# i.e. 1896-1905, 1897-1906, etc\n",
    "for(year in c((data$YEAR[1] + 1):2005)){\n",
    "    max_PRCP = cbind(max_PRCP,data[which(data$YEAR >= year & data$YEAR < year+10),6])\n",
    "}\n",
    "\n",
    "# name the columns as the first year of the observed 10 year periods\n",
    "colnames(max_PRCP) = as.character(c(firstYear:2005))\n",
    "\n",
    "# set the missing values to NA\n",
    "max_PRCP[max_PRCP==-999] = NA"
   ]
  },
  {
   "cell_type": "markdown",
   "metadata": {},
   "source": [
    "## Section 1: Distribution of Max Precipitation and Trends"
   ]
  },
  {
   "cell_type": "code",
   "execution_count": 13,
   "metadata": {
    "collapsed": true
   },
   "outputs": [],
   "source": [
    "options(repr.plot.width=5, repr.plot.height=5) #reduces the plot sizes"
   ]
  },
  {
   "cell_type": "code",
   "execution_count": 14,
   "metadata": {
    "collapsed": false
   },
   "outputs": [
    {
     "data": {
      "image/png": "[encoded data removed]",
      "text/plain": [
       "Plot with title \"EVERGREEN CO US \n",
       "Observed 24 Hour Max Rainfall \n",
       "from 1962 to 2014\""
      ]
     },
     "metadata": {},
     "output_type": "display_data"
    }
   ],
   "source": [
    "hist(data$Max.PRCP, xlab = sprintf(\"Observed 24 hour Maximum Rainfall (tenths of mm)\",\n",
    "                                   firstYear), main=sprintf(\"%s \\nObserved 24 Hour Max Rainfall \\nfrom %i to 2014\",\n",
    "                                   stationName,firstYear),col=\"lightblue\")        "
   ]
  },
  {
   "cell_type": "markdown",
   "metadata": {},
   "source": [
    "### Maximum Rainfall Trends"
   ]
  },
  {
   "cell_type": "code",
   "execution_count": 15,
   "metadata": {
    "collapsed": true
   },
   "outputs": [],
   "source": [
    "# create for maximum rainfall\n",
    "maxTS = ts(data$Max.PRCP)\n",
    "\n",
    "# create regression line\n",
    "reg = lm(Max.PRCP. ~ month, data=data)"
   ]
  },
  {
   "cell_type": "markdown",
   "metadata": {},
   "source": [
    "Slope of the regression line:"
   ]
  },
  {
   "cell_type": "code",
   "execution_count": 16,
   "metadata": {
    "collapsed": false
   },
   "outputs": [
    {
     "data": {
      "text/html": [
       "<strong>month:</strong> -0.011"
      ],
      "text/latex": [
       "\\textbf{month:} -0.011"
      ],
      "text/markdown": [
       "**month:** -0.011"
      ],
      "text/plain": [
       " month \n",
       "-0.011 "
      ]
     },
     "metadata": {},
     "output_type": "display_data"
    }
   ],
   "source": [
    "round(reg$coefficients[2],3)"
   ]
  },
  {
   "cell_type": "code",
   "execution_count": 17,
   "metadata": {
    "collapsed": false
   },
   "outputs": [
    {
     "data": {
      "text/html": [
       "<strong>month:</strong> -6.996"
      ],
      "text/latex": [
       "\\textbf{month:} -6.996"
      ],
      "text/markdown": [
       "**month:** -6.996"
      ],
      "text/plain": [
       " month \n",
       "-6.996 "
      ]
     },
     "metadata": {},
     "output_type": "display_data"
    }
   ],
   "source": [
    "length(data$MONTH)*round(reg$coefficients[2],3)"
   ]
  },
  {
   "cell_type": "markdown",
   "metadata": {},
   "source": [
    "Although month isn't very predictive of maximum observed rainfall, there does appear to be an increase over the time data was collected."
   ]
  },
  {
   "cell_type": "code",
   "execution_count": 18,
   "metadata": {
    "collapsed": false
   },
   "outputs": [
    {
     "data": {
      "image/png": "[encoded data removed]",
      "text/plain": [
       "Plot with title \"EVERGREEN CO US \n",
       "Observed 24 Hour Max Rainfall \n",
       "from 1962 to 2014 by Monthly Max\""
      ]
     },
     "metadata": {},
     "output_type": "display_data"
    }
   ],
   "source": [
    "plot(maxTS, xlab = \"Time (months)\", col = \"black\", lwd=2, ylab = \"Observed Max Precipitation\", \n",
    "     main=sprintf(\"%s \\nObserved 24 Hour Max Rainfall \\nfrom %i to 2014 by Monthly Max\", stationName,firstYear))\n",
    "abline(reg, col=\"red\", lwd=3)"
   ]
  },
  {
   "cell_type": "markdown",
   "metadata": {},
   "source": [
    "In the time series plot, we also see that the peaks are gradually increasing over time, which is of specific interest to people working with maximum rainfall estimation. These increasing peaks have been wreaking havoc on Texas and the Eastern US this year. (Template statement - change as needed for individual stations)."
   ]
  },
  {
   "cell_type": "markdown",
   "metadata": {},
   "source": [
    "Produce smoothed plots to get a better understanding of the trends."
   ]
  },
  {
   "cell_type": "code",
   "execution_count": 19,
   "metadata": {
    "collapsed": false
   },
   "outputs": [
    {
     "data": {
      "image/png": "[encoded data removed]",
      "text/plain": [
       "Plot with title \"Smoothed 24 hour max rainfall from 1896 to 2014\""
      ]
     },
     "metadata": {},
     "output_type": "display_data"
    }
   ],
   "source": [
    "rollSmall = runmean(data$Max.PRCP., 300)\n",
    "rollLarge = runmean(data$Max.PRCP., 900)\n",
    "plot(rollSmall, type=\"l\", ylim = c(140,160), xlab = \"Time (months)\", \n",
    "    ylab = \"Rolling Average\", col = 2, main=\"Smoothed 24 hour max rainfall from 1896 to 2014\")\n",
    "    points(rollLarge, type=\"l\", col=4)\n",
    "    legend(0,145, c(\"300 window\",\"\", \"900 window\"), col=c(2,0,4), lty=c(1,0,1), bty=\"n\")"
   ]
  },
  {
   "cell_type": "markdown",
   "metadata": {},
   "source": [
    "While the data shows a slight decrease in average rainfall at the tail end of our data (2014), the long term trend shows that average rainfall has been increasing. Empirically, we have had a wet year in 2016 that we would expect to match/exceed the long term observed increase in average maximum rainfall.(Template statement - change as needed for individual stations)"
   ]
  },
  {
   "cell_type": "markdown",
   "metadata": {},
   "source": [
    "## Section 2: Parameter Estimation, Distribution, and Trends"
   ]
  },
  {
   "cell_type": "code",
   "execution_count": 20,
   "metadata": {
    "collapsed": false
   },
   "outputs": [],
   "source": [
    "mle = data.frame(alpha = double(),\n",
    "                 theta = double(),\n",
    "                 KS = double(),\n",
    "                 KStest = character(),\n",
    "                 CvM = double(),\n",
    "                 CvMtest = character(),\n",
    "                 AD = double(),\n",
    "                 ADtest = character(),\n",
    "                 stringsAsFactors = FALSE)\n",
    "                \n",
    "for (i in 1:length(max_PRCP)) {\n",
    "\n",
    "    testDist = na.omit(max_PRCP[,i])\n",
    "        \n",
    "        for(j in 1:length(testDist)){\n",
    "            if(testDist[j] < .1){\n",
    "            testDist[j]=.0001\n",
    "            }\n",
    "        }\n",
    "\n",
    "   gamma1 = fitdist(as.vector(testDist),\"gamma\",method = \"mle\")\n",
    "   mle[i,1] = gamma1$estimate[1]\n",
    "   mle[i,2] = gamma1$estimate[2]\n",
    "   \n",
    "   gof = gofstat(gamma1)\n",
    "   mle[i,3] = gof$ks\n",
    "   mle[i,4] = gof$kstest\n",
    "   mle[i,5] = gof$cvm\n",
    "   mle[i,6] = gof$cvmtest\n",
    "   mle[i,7] = gof$ad\n",
    "   mle[i,8] = gof$adtest\n",
    "}\n",
    "\n",
    "mle[\"invTheta\"] = 1/(mle$theta)\n",
    "mle[\"mean\"] = mle$invTheta*mle$alpha\n",
    "mle[\"var\"] = mle$alpha*(mle$invTheta^2)\n",
    "mle[\"sd\"] = sqrt(mle$var)"
   ]
  },
  {
   "cell_type": "markdown",
   "metadata": {},
   "source": [
    "Plot the estimated distributions over time and create a gif (done in R/windows)."
   ]
  },
  {
   "cell_type": "code",
   "execution_count": 21,
   "metadata": {
    "collapsed": false
   },
   "outputs": [
    {
     "name": "stderr",
     "output_type": "stream",
     "text": [
      "Warning message:\n",
      "In file(con, \"rb\"): cannot open file 'plots/baseRSlideShowEvergreen/0098plot.png': No such file or directory"
     ]
    },
    {
     "ename": "ERROR",
     "evalue": "Error in file(con, \"rb\"): cannot open the connection\n",
     "output_type": "error",
     "traceback": [
      "Error in file(con, \"rb\"): cannot open the connection\nTraceback:\n",
      "1. display_png(file = \"plots/baseRSlideShowEvergreen/0098plot.png\")",
      "2. display_raw(\"image/png\", TRUE, data, file, img_metadata(width, \n .     height))",
      "3. prepare_content(isbinary, data, file)",
      "4. readBin(file, \"raw\", size)",
      "5. file(con, \"rb\")"
     ]
    }
   ],
   "source": [
    "# display one pane of the gif - change per station\n",
    "display_png(file = \"plots/baseRSlideShowEvergreen/0098plot.png\")"
   ]
  },
  {
   "cell_type": "markdown",
   "metadata": {},
   "source": [
    "Check distribution of estimated means - should be approximately normal."
   ]
  },
  {
   "cell_type": "code",
   "execution_count": 22,
   "metadata": {
    "collapsed": false
   },
   "outputs": [
    {
     "data": {
      "text/plain": [
       "\n",
       "\tShapiro-Wilk normality test\n",
       "\n",
       "data:  mle$mean\n",
       "W = 0.94124, p-value = 0.0262\n"
      ]
     },
     "metadata": {},
     "output_type": "display_data"
    }
   ],
   "source": [
    "shapiro.test(mle$mean)"
   ]
  },
  {
   "cell_type": "markdown",
   "metadata": {},
   "source": [
    "Obtain values for histogram."
   ]
  },
  {
   "cell_type": "code",
   "execution_count": 23,
   "metadata": {
    "collapsed": true
   },
   "outputs": [],
   "source": [
    "meanSum = summary(mle$mean)\n",
    "meanDist = fitdistr(mle$mean,\"normal\")\n",
    "x = seq(meanSum[1],meanSum[6],length = 10000)"
   ]
  },
  {
   "cell_type": "code",
   "execution_count": 24,
   "metadata": {
    "collapsed": false
   },
   "outputs": [
    {
     "data": {
      "image/png": "[encoded data removed]",
      "text/plain": [
       "Plot with title \"Distribution of Mean using MLE\""
      ]
     },
     "metadata": {},
     "output_type": "display_data"
    }
   ],
   "source": [
    "# distribution of mean parameter\n",
    "hist(mle$mean, freq = FALSE, col = \"light blue\", main = \"Distribution of Mean using MLE\", \n",
    "     xlab = \"Estimated Mean of Gamma Fit for Maximum Rainfall\")\n",
    "\n",
    "# normal fit using estimated parameters\n",
    "curve(dnorm(x,meanDist$estimate[1],meanDist$estimate[2]), col=\"blue\", lwd=2,add=TRUE)"
   ]
  },
  {
   "cell_type": "markdown",
   "metadata": {},
   "source": [
    "Look at the mean over time."
   ]
  },
  {
   "cell_type": "code",
   "execution_count": 25,
   "metadata": {
    "collapsed": true
   },
   "outputs": [],
   "source": [
    "time = seq(firstYear, 2005)"
   ]
  },
  {
   "cell_type": "code",
   "execution_count": 26,
   "metadata": {
    "collapsed": false
   },
   "outputs": [],
   "source": [
    "meanTS = ts(mle$mean, start=c(firstYear))\n",
    "reg = lm(mle$mean ~ time)"
   ]
  },
  {
   "cell_type": "code",
   "execution_count": 27,
   "metadata": {
    "collapsed": false
   },
   "outputs": [
    {
     "data": {
      "text/html": [
       "<strong>time:</strong> -0.484"
      ],
      "text/latex": [
       "\\textbf{time:} -0.484"
      ],
      "text/markdown": [
       "**time:** -0.484"
      ],
      "text/plain": [
       "  time \n",
       "-0.484 "
      ]
     },
     "metadata": {},
     "output_type": "display_data"
    }
   ],
   "source": [
    "round(reg$coefficients[2],3)"
   ]
  },
  {
   "cell_type": "code",
   "execution_count": 28,
   "metadata": {
    "collapsed": false
   },
   "outputs": [
    {
     "data": {
      "text/html": [
       "<strong>time:</strong> -21.296"
      ],
      "text/latex": [
       "\\textbf{time:} -21.296"
      ],
      "text/markdown": [
       "**time:** -21.296"
      ],
      "text/plain": [
       "   time \n",
       "-21.296 "
      ]
     },
     "metadata": {},
     "output_type": "display_data"
    }
   ],
   "source": [
    "length(mle$mean)*round(reg$coefficients[2],3)"
   ]
  },
  {
   "cell_type": "code",
   "execution_count": 29,
   "metadata": {
    "collapsed": false
   },
   "outputs": [
    {
     "data": {
      "image/png": "[encoded data removed]",
      "text/plain": [
       "Plot with title \"Fitted Gamma Distribution Means over time\""
      ]
     },
     "metadata": {},
     "output_type": "display_data"
    }
   ],
   "source": [
    "plot(meanTS, type=\"l\", col=\"red\", lwd = 1.75,\n",
    "     xlab = \"Time (year)\", ylab = \"Estimated Mean of Gamma Fit\", \n",
    "     main = \"Fitted Gamma Distribution Means over time\")\n",
    "abline(reg, col=\"blue\", lwd=2)"
   ]
  },
  {
   "cell_type": "markdown",
   "metadata": {},
   "source": [
    "Parameter estimation looks good since it matches the smoothed averages."
   ]
  },
  {
   "cell_type": "markdown",
   "metadata": {},
   "source": [
    "Repeat for the variances."
   ]
  },
  {
   "cell_type": "code",
   "execution_count": 30,
   "metadata": {
    "collapsed": false
   },
   "outputs": [
    {
     "data": {
      "text/plain": [
       "\n",
       "\tShapiro-Wilk normality test\n",
       "\n",
       "data:  mle$var\n",
       "W = 0.95144, p-value = 0.06227\n"
      ]
     },
     "metadata": {},
     "output_type": "display_data"
    }
   ],
   "source": [
    "shapiro.test(mle$var)"
   ]
  },
  {
   "cell_type": "code",
   "execution_count": 31,
   "metadata": {
    "collapsed": true
   },
   "outputs": [],
   "source": [
    "varSum = summary(mle$var)\n",
    "varDist = fitdistr(mle$var,\"normal\")\n",
    "x = seq(varSum[1],varSum[6],length = 10000)"
   ]
  },
  {
   "cell_type": "code",
   "execution_count": 32,
   "metadata": {
    "collapsed": false
   },
   "outputs": [
    {
     "data": {
      "image/png": "[encoded data removed]",
      "text/plain": [
       "Plot with title \"Distribution of Variance using MLE\""
      ]
     },
     "metadata": {},
     "output_type": "display_data"
    }
   ],
   "source": [
    "# distribution of mean parameter\n",
    "hist(mle$var, freq = FALSE, col = \"light blue\", main = \"Distribution of Variance using MLE\", \n",
    "     xlab = \"Estimated Variance of Gamma Fit for Maximum Rainfall\")\n",
    "\n",
    "# normal fit using estimated parameters\n",
    "curve(dnorm(x,varDist$estimate[1],varDist$estimate[2]), col=\"blue\", lwd=2,add=TRUE)"
   ]
  },
  {
   "cell_type": "code",
   "execution_count": 33,
   "metadata": {
    "collapsed": false
   },
   "outputs": [],
   "source": [
    "varTS = ts(mle$var, start=c(firstYear))\n",
    "reg = lm(mle$var ~ time)"
   ]
  },
  {
   "cell_type": "code",
   "execution_count": 34,
   "metadata": {
    "collapsed": false
   },
   "outputs": [
    {
     "data": {
      "text/html": [
       "<strong>time:</strong> -177.466"
      ],
      "text/latex": [
       "\\textbf{time:} -177.466"
      ],
      "text/markdown": [
       "**time:** -177.466"
      ],
      "text/plain": [
       "    time \n",
       "-177.466 "
      ]
     },
     "metadata": {},
     "output_type": "display_data"
    }
   ],
   "source": [
    "round(reg$coefficients[2],3)"
   ]
  },
  {
   "cell_type": "code",
   "execution_count": 35,
   "metadata": {
    "collapsed": false
   },
   "outputs": [
    {
     "data": {
      "text/html": [
       "<strong>time:</strong> -7808.504"
      ],
      "text/latex": [
       "\\textbf{time:} -7808.504"
      ],
      "text/markdown": [
       "**time:** -7808.504"
      ],
      "text/plain": [
       "     time \n",
       "-7808.504 "
      ]
     },
     "metadata": {},
     "output_type": "display_data"
    }
   ],
   "source": [
    "length(mle$var)*round(reg$coefficients[2],3)"
   ]
  },
  {
   "cell_type": "code",
   "execution_count": 36,
   "metadata": {
    "collapsed": false
   },
   "outputs": [
    {
     "data": {
      "image/png": "[encoded data removed]",
      "text/plain": [
       "Plot with title \"Fitted Gamma Distribution Variances over time\""
      ]
     },
     "metadata": {},
     "output_type": "display_data"
    }
   ],
   "source": [
    "plot(varTS, type=\"l\", col=\"red\", lwd = 1.75,\n",
    "     xlab = \"Time (year)\", ylab = \"Estimated Variance of Gamma Fit\", \n",
    "     main = \"Fitted Gamma Distribution Variances over time\")\n",
    "abline(reg, col=\"blue\", lwd=2)"
   ]
  },
  {
   "cell_type": "markdown",
   "metadata": {},
   "source": [
    "In case the distributions aren't making sense, check the number of times the Gamma distribution fit passed the KS test."
   ]
  },
  {
   "cell_type": "code",
   "execution_count": 37,
   "metadata": {
    "collapsed": false
   },
   "outputs": [
    {
     "data": {
      "text/plain": [
       "\n",
       "not rejected \n",
       "          44 "
      ]
     },
     "metadata": {},
     "output_type": "display_data"
    }
   ],
   "source": [
    "table(mle$KStest)"
   ]
  },
  {
   "cell_type": "code",
   "execution_count": null,
   "metadata": {
    "collapsed": true
   },
   "outputs": [],
   "source": []
  },
  {
   "cell_type": "code",
   "execution_count": 38,
   "metadata": {
    "collapsed": true
   },
   "outputs": [],
   "source": [
    "x = seq(.00001,2500,1)"
   ]
  },
  {
   "cell_type": "code",
   "execution_count": 43,
   "metadata": {
    "collapsed": false
   },
   "outputs": [],
   "source": [
    "y = dgamma(x,mle$alpha[20], scale=(1/mle$theta[20]))"
   ]
  },
  {
   "cell_type": "code",
   "execution_count": 44,
   "metadata": {
    "collapsed": false
   },
   "outputs": [
    {
     "data": {
      "image/png": "[encoded data removed]",
      "text/plain": [
       "plot without title"
      ]
     },
     "metadata": {},
     "output_type": "display_data"
    }
   ],
   "source": [
    "plot(x,y, col = \"darkblue\", type =\"l\", xlim=c(0,800), ylab=\"Density\", xlab=\"Rainfall (1/10mm)\", lwd=2)"
   ]
  },
  {
   "cell_type": "code",
   "execution_count": 52,
   "metadata": {
    "collapsed": false
   },
   "outputs": [
    {
     "data": {
      "image/png": "[encoded data removed]",
      "text/plain": [
       "plot without title"
      ]
     },
     "metadata": {},
     "output_type": "display_data"
    }
   ],
   "source": [
    "y = dgamma(x,mle$alpha[30], scale=(1/mle$theta[30]))\n",
    "plot(x,y, col = \"darkblue\", type =\"l\", xlim=c(0,800), ylab=\"Density\", xlab=\"Rainfall (1/10mm)\", lwd=2)"
   ]
  },
  {
   "cell_type": "code",
   "execution_count": null,
   "metadata": {
    "collapsed": true
   },
   "outputs": [],
   "source": []
  }
 ],
 "metadata": {
  "anaconda-cloud": {},
  "kernelspec": {
   "display_name": "R",
   "language": "R",
   "name": "ir"
  },
  "language_info": {
   "codemirror_mode": "r",
   "file_extension": ".r",
   "mimetype": "text/x-r-source",
   "name": "R",
   "pygments_lexer": "r",
   "version": "3.3.1"
  }
 },
 "nbformat": 4,
 "nbformat_minor": 0
}
