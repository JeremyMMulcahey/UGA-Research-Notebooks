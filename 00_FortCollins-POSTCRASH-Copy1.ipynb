{
 "cells": [
  {
   "cell_type": "markdown",
   "metadata": {},
   "source": [
    "# Master's Thesis: Investigating Maximum Rainfall Trends in Colorado"
   ]
  },
  {
   "cell_type": "markdown",
   "metadata": {},
   "source": [
    "<b>Institution:</b> University of Georgia <br>\n",
    "<b>Department:</b> Statistics <br>\n",
    "<b>Student:</b> Jeremy Mulcahey <br>\n",
    "<b>Advisor:</b> Dr. Lynne Seymour <br>\n",
    "<b>File:</b> 02_Boulder<br>\n",
    "<b>Last Edit:</b> 7/4/2016"
   ]
  },
  {
   "cell_type": "markdown",
   "metadata": {},
   "source": [
    "Section 0: Preparing data <br>\n",
    "Section 1: Distribution of Max Precipitation and Trends<br>\n",
    "Section 2: Parameter Estimation, Distribution, and Trends"
   ]
  },
  {
   "cell_type": "markdown",
   "metadata": {},
   "source": [
    "##  Section 0: Preparing data"
   ]
  },
  {
   "cell_type": "code",
   "execution_count": 27,
   "metadata": {
    "collapsed": false
   },
   "outputs": [],
   "source": [
    "require(fitdistrplus); # required for parameter estimation\n",
    "require(caTools);      # required for smoothing\n",
    "require(repr);         # required for resizing plots in IRKernel\n",
    "require(\"IRdisplay\");  # graphic embedding\n",
    "require(MASS);         # testing"
   ]
  },
  {
   "cell_type": "code",
   "execution_count": 28,
   "metadata": {
    "collapsed": false
   },
   "outputs": [],
   "source": [
    "# establish working directorys\n",
    "setwd(\"C:/Users/jerem/Desktop/UGA/Master'sThesis/\")"
   ]
  },
  {
   "cell_type": "markdown",
   "metadata": {},
   "source": [
    "Data files for individual station names."
   ]
  },
  {
   "cell_type": "code",
   "execution_count": 29,
   "metadata": {
    "collapsed": false
   },
   "outputs": [],
   "source": [
    "data = read.csv(file = \"data/FORT_MonMax_GHCN.csv\", head=T)"
   ]
  },
  {
   "cell_type": "markdown",
   "metadata": {},
   "source": [
    "Adjust the data for later use."
   ]
  },
  {
   "cell_type": "code",
   "execution_count": 30,
   "metadata": {
    "collapsed": false
   },
   "outputs": [
    {
     "data": {
      "text/html": [
       "11"
      ],
      "text/latex": [
       "11"
      ],
      "text/markdown": [
       "11"
      ],
      "text/plain": [
       "[1] 11"
      ]
     },
     "metadata": {},
     "output_type": "display_data"
    }
   ],
   "source": [
    "# Create an index as x - used as needed\n",
    "month = seq(1,nrow(data),by=1)\n",
    "data = cbind(data,month)\n",
    "\n",
    "# first year of the data (changes by station name)\n",
    "firstYear = data$YEAR[1]\n",
    "\n",
    "# station name for plotting\n",
    "stationName = as.character(data$STATION_NAME[1])\n",
    "\n",
    "# -999 messed with the plotting - change to NA\n",
    "data[data==-999] = NA\n",
    "\n",
    "sum(is.na(data)) #print number of missing values"
   ]
  },
  {
   "cell_type": "markdown",
   "metadata": {},
   "source": [
    "Check number of years in the data set."
   ]
  },
  {
   "cell_type": "code",
   "execution_count": 5,
   "metadata": {
    "collapsed": false
   },
   "outputs": [
    {
     "data": {
      "text/html": [
       "118"
      ],
      "text/latex": [
       "118"
      ],
      "text/markdown": [
       "118"
      ],
      "text/plain": [
       "[1] 118"
      ]
     },
     "metadata": {},
     "output_type": "display_data"
    }
   ],
   "source": [
    "data$YEAR[nrow(data)]-firstYear"
   ]
  },
  {
   "cell_type": "code",
   "execution_count": 6,
   "metadata": {
    "collapsed": false
   },
   "outputs": [
    {
     "data": {
      "text/plain": [
       "\n",
       "  1   2   3   4   5   6   7   8   9  10  11  12 \n",
       "119 119 119 119 119 119 119 119 119 119 119 119 "
      ]
     },
     "metadata": {},
     "output_type": "display_data"
    }
   ],
   "source": [
    "table(data$MONTH)"
   ]
  },
  {
   "cell_type": "markdown",
   "metadata": {},
   "source": [
    "Make a data frame of all the 10 year periods following the first year for data collected at the station."
   ]
  },
  {
   "cell_type": "code",
   "execution_count": 7,
   "metadata": {
    "collapsed": false
   },
   "outputs": [],
   "source": [
    "#create the first decade (first year and the following 9 years)\n",
    "max_PRCP = data.frame(data[which(data$YEAR < (firstYear + 10)),6])\n",
    "\n",
    "# add all the subsequent decades to the data frame incrementing by 1 year at a time\n",
    "for(year in c((data$YEAR[1] + 1):2005)){\n",
    "    max_PRCP = cbind(max_PRCP,data[which(data$YEAR >= year & data$YEAR < year+10),6])\n",
    "}\n",
    "\n",
    "# name the columns as the first year of the observed 10 year periods\n",
    "colnames(max_PRCP) = as.character(c(firstYear:2005))\n",
    "\n",
    "# set the missing values to NA\n",
    "max_PRCP[max_PRCP==-999] = NA"
   ]
  },
  {
   "cell_type": "markdown",
   "metadata": {},
   "source": [
    "## Section 1: Distribution of Max Precipitation and Trends"
   ]
  },
  {
   "cell_type": "code",
   "execution_count": 8,
   "metadata": {
    "collapsed": true
   },
   "outputs": [],
   "source": [
    "data2012 = data[which(data$YEAR<2013),]"
   ]
  },
  {
   "cell_type": "code",
   "execution_count": 9,
   "metadata": {
    "collapsed": true
   },
   "outputs": [],
   "source": [
    "options(repr.plot.width=5, repr.plot.height=5) #reduces the plot sizes"
   ]
  },
  {
   "cell_type": "markdown",
   "metadata": {},
   "source": [
    "### Maximum Rainfall Trends"
   ]
  },
  {
   "cell_type": "code",
   "execution_count": 10,
   "metadata": {
    "collapsed": true
   },
   "outputs": [],
   "source": [
    "# create for maximum rainfall\n",
    "maxTS = ts(data$Max.PRCP, start = firstYear, freq=12)\n",
    "\n",
    "# create regression line\n",
    "reg = lm(Max.PRCP. ~ month, data=data)"
   ]
  },
  {
   "cell_type": "markdown",
   "metadata": {},
   "source": [
    "Slope of the regression line:"
   ]
  },
  {
   "cell_type": "code",
   "execution_count": 11,
   "metadata": {
    "collapsed": false
   },
   "outputs": [
    {
     "data": {
      "text/html": [
       "<strong>month:</strong> 0.014"
      ],
      "text/latex": [
       "\\textbf{month:} 0.014"
      ],
      "text/markdown": [
       "**month:** 0.014"
      ],
      "text/plain": [
       "month \n",
       "0.014 "
      ]
     },
     "metadata": {},
     "output_type": "display_data"
    }
   ],
   "source": [
    "round(reg$coefficients[2],3)"
   ]
  },
  {
   "cell_type": "code",
   "execution_count": 12,
   "metadata": {
    "collapsed": false
   },
   "outputs": [
    {
     "data": {
      "text/html": [
       "<strong>month:</strong> 19.992"
      ],
      "text/latex": [
       "\\textbf{month:} 19.992"
      ],
      "text/markdown": [
       "**month:** 19.992"
      ],
      "text/plain": [
       " month \n",
       "19.992 "
      ]
     },
     "metadata": {},
     "output_type": "display_data"
    }
   ],
   "source": [
    "length(data$MONTH)*round(reg$coefficients[2],3)"
   ]
  },
  {
   "cell_type": "markdown",
   "metadata": {},
   "source": [
    "Although month isn't very predictive of maximum observed rainfall, there does appear to be an increase over the time data was collected."
   ]
  },
  {
   "cell_type": "code",
   "execution_count": 13,
   "metadata": {
    "collapsed": false
   },
   "outputs": [],
   "source": [
    "maxTS2012 = ts(data2012$Max.PRCP, start = firstYear, freq=12)"
   ]
  },
  {
   "cell_type": "code",
   "execution_count": 14,
   "metadata": {
    "collapsed": true
   },
   "outputs": [],
   "source": [
    "maxTSNoEvent = maxTS"
   ]
  },
  {
   "cell_type": "code",
   "execution_count": 15,
   "metadata": {
    "collapsed": true
   },
   "outputs": [],
   "source": [
    "maxTSNoEvent[1389] = NA"
   ]
  },
  {
   "cell_type": "code",
   "execution_count": 16,
   "metadata": {
    "collapsed": false
   },
   "outputs": [],
   "source": [
    "maxObs = max(na.omit(data2012$Max.PRCP.))"
   ]
  },
  {
   "cell_type": "code",
   "execution_count": 17,
   "metadata": {
    "collapsed": true
   },
   "outputs": [],
   "source": [
    "smooth = runmean(data2012$Max.PRCP., 120)"
   ]
  },
  {
   "cell_type": "code",
   "execution_count": 18,
   "metadata": {
    "collapsed": true
   },
   "outputs": [],
   "source": [
    "smoothTS = ts(smooth, start=firstYear, freq=12)"
   ]
  },
  {
   "cell_type": "code",
   "execution_count": 19,
   "metadata": {
    "collapsed": false
   },
   "outputs": [
    {
     "data": {
      "text/html": [
       "1219"
      ],
      "text/latex": [
       "1219"
      ],
      "text/markdown": [
       "1219"
      ],
      "text/plain": [
       "[1] 1219"
      ]
     },
     "metadata": {},
     "output_type": "display_data"
    }
   ],
   "source": [
    "which(data2012$Max.PRCP.==maxObs)"
   ]
  },
  {
   "cell_type": "code",
   "execution_count": 20,
   "metadata": {
    "collapsed": false
   },
   "outputs": [
    {
     "data": {
      "text/html": [
       "<table>\n",
       "<thead><tr><th></th><th scope=col>STATION</th><th scope=col>STATION_NAME</th><th scope=col>YEAR</th><th scope=col>MONTH</th><th scope=col>Obs</th><th scope=col>Max.PRCP.</th><th scope=col>month</th></tr></thead>\n",
       "<tbody>\n",
       "\t<tr><th scope=row>1060</th><td>GHCND:USC00053005 </td><td>FORT COLLINS CO US</td><td>1984              </td><td>4                 </td><td>30                </td><td>516               </td><td>1060              </td></tr>\n",
       "</tbody>\n",
       "</table>\n"
      ],
      "text/latex": [
       "\\begin{tabular}{r|lllllll}\n",
       "  & STATION & STATION\\_NAME & YEAR & MONTH & Obs & Max.PRCP. & month\\\\\n",
       "\\hline\n",
       "\t1060 & GHCND:USC00053005  & FORT COLLINS CO US & 1984               & 4                  & 30                 & 516                & 1060              \\\\\n",
       "\\end{tabular}\n"
      ],
      "text/plain": [
       "     STATION           STATION_NAME       YEAR MONTH Obs Max.PRCP. month\n",
       "1060 GHCND:USC00053005 FORT COLLINS CO US 1984 4     30  516       1060 "
      ]
     },
     "metadata": {},
     "output_type": "display_data"
    }
   ],
   "source": [
    "data2012[1060,]"
   ]
  },
  {
   "cell_type": "markdown",
   "metadata": {
    "collapsed": false
   },
   "source": [
    "setEPS()\n",
    "postscript(\"pics/boulder2012.eps\")\n",
    "plot(maxTS2012, xlab = \"Time (years)\", col = \"darkgrey\", lwd=1.75, ylab = \"Precipitation (1/10mm)\", \n",
    "     #main=sprintf(\"%s \\nObserved 24 Hour Max Rainfall \\nfrom %i to 2012 by Monthly Max\", stationName,firstYear),\n",
    "     ylim=c(0,1000))\n",
    "dev.off()"
   ]
  },
  {
   "cell_type": "markdown",
   "metadata": {
    "collapsed": false
   },
   "source": [
    "setEPS()\n",
    "postscript(\"pics/boulder2014.eps\")\n",
    "plot(maxTS, xlab = \"Time (years)\", col = \"darkgrey\", lwd=1.75, ylab = \"Precipitation (1/10mm)\", \n",
    "     #main=sprintf(\"%s \\nObserved 24 Hour Max Rainfall \\nfrom %i to 2012 by Monthly Max\", stationName,firstYear),\n",
    "     ylim=c(0,2500))\n",
    "dev.off()"
   ]
  },
  {
   "cell_type": "markdown",
   "metadata": {},
   "source": [
    "setEPS()\n",
    "postscript(\"pics/.eps\")\n",
    "dev.off()"
   ]
  },
  {
   "cell_type": "code",
   "execution_count": 21,
   "metadata": {
    "collapsed": false
   },
   "outputs": [
    {
     "ename": "ERROR",
     "evalue": "Error in parse(text = x, srcfile = src): <text>:3:0: unexpected end of input\n1: plot(maxTS2012, xlab = \"Time (years)\", col = \"darkgrey\", lwd=1.75, ylab = \"Precipitation (1/10mm)\", \n2:      #main=sprintf(\"%s \\nObserved 24 Hour Max Rainfall \\nfrom %i to 2012 by Monthly Max\", stationName,firstYear))\n  ^\n",
     "output_type": "error",
     "traceback": [
      "Error in parse(text = x, srcfile = src): <text>:3:0: unexpected end of input\n1: plot(maxTS2012, xlab = \"Time (years)\", col = \"darkgrey\", lwd=1.75, ylab = \"Precipitation (1/10mm)\", \n2:      #main=sprintf(\"%s \\nObserved 24 Hour Max Rainfall \\nfrom %i to 2012 by Monthly Max\", stationName,firstYear))\n  ^\nTraceback:\n"
     ]
    }
   ],
   "source": [
    "plot(maxTS2012, xlab = \"Time (years)\", col = \"darkgrey\", lwd=1.75, ylab = \"Precipitation (1/10mm)\", \n",
    "     #main=sprintf(\"%s \\nObserved 24 Hour Max Rainfall \\nfrom %i to 2012 by Monthly Max\", stationName,firstYear))"
   ]
  },
  {
   "cell_type": "markdown",
   "metadata": {
    "collapsed": false
   },
   "source": [
    "setEPS()\n",
    "postscript(\"pics/boulder2012Info.eps\")\n",
    "plot(maxTS2012, xlab = \"Time (years)\", col = \"darkgrey\", lwd=1.75, ylab = \"Precipitation (1/10mm)\", \n",
    "     #main=sprintf(\"%s \\nObserved 24 Hour Max Rainfall \\nfrom %i to 2012 by Monthly Max\", stationName,firstYear),\n",
    "     ylim=c(0,1000))\n",
    "abline(h=maxObs, col=\"red\", lwd=.5, lty=5)\n",
    "points(smoothTS, col=4, type=\"l\", lwd=2)\n",
    "text(1986,maxObs+50,\n",
    "           sprintf(\"%i\",maxObs))\n",
    "dev.off()"
   ]
  },
  {
   "cell_type": "code",
   "execution_count": 22,
   "metadata": {
    "collapsed": false
   },
   "outputs": [
    {
     "data": {
      "image/png": "[encoded data removed]",
      "text/plain": [
       "plot without title"
      ]
     },
     "metadata": {},
     "output_type": "display_data"
    }
   ],
   "source": [
    "plot(maxTS2012, xlab = \"Time (years)\", col = \"darkgrey\", lwd=1.75, ylab = \"Precipitation (1/10mm)\", \n",
    "     #main=sprintf(\"%s \\nObserved 24 Hour Max Rainfall \\nfrom %i to 2012 by Monthly Max\", stationName,firstYear),\n",
    "     ylim=c(0,1250))\n",
    "abline(h=maxObs, col=\"red\", lwd=.5, lty=5)\n",
    "points(smoothTS, col=4, type=\"l\", lwd=2)\n",
    "text(1986,maxObs+50,\n",
    "           sprintf(\"%i\",maxObs))"
   ]
  },
  {
   "cell_type": "markdown",
   "metadata": {},
   "source": [
    "In the time series plot, we also see that the peaks are gradually increasing over time, which is of specific interest to people working with maximum rainfall estimation. These increasing peaks have been wreaking havoc on Texas and the Eastern US this year. (Template statement - change as needed for individual stations)."
   ]
  },
  {
   "cell_type": "markdown",
   "metadata": {},
   "source": [
    "Produce smoothed plots to get a better understanding of the trends."
   ]
  },
  {
   "cell_type": "code",
   "execution_count": 23,
   "metadata": {
    "collapsed": false
   },
   "outputs": [
    {
     "data": {
      "image/png": "[encoded data removed]",
      "text/plain": [
       "Plot with title \"Smoothed 24 hour max rainfall from 1898 to 2012\""
      ]
     },
     "metadata": {},
     "output_type": "display_data"
    }
   ],
   "source": [
    "#rollSmall = runmean(data$Max.PRCP., 300)\n",
    "plot(smoothTS, type=\"l\", xlab = \"Time (years)\", lwd=2,\n",
    "    ylab = \"Max Precipitation (1/10mm)\", col = 1, main=\"Smoothed 24 hour max rainfall from 1898 to 2012\")\n",
    "    #points(rollLarge, type=\"l\", col=4)\n",
    "    #egend(0,200, c(\"300 window\",\"\", \"900 window\"), col=c(2,0,4), lty=c(1,0,1), bty=\"n\")"
   ]
  },
  {
   "cell_type": "markdown",
   "metadata": {},
   "source": [
    "While the data shows a slight decrease in average rainfall at the tail end of our data (2014), the long term trend shows that average rainfall has been increasing. Empirically, we have had a wet year in 2016 that we would expect to match/exceed the long term observed increase in average maximum rainfall.(Template statement - change as needed for individual stations)"
   ]
  },
  {
   "cell_type": "markdown",
   "metadata": {},
   "source": [
    "## Section 2: Parameter Estimation, Distribution, and Trends"
   ]
  },
  {
   "cell_type": "code",
   "execution_count": 173,
   "metadata": {
    "collapsed": false
   },
   "outputs": [],
   "source": [
    "mleGamma = data.frame(alpha = double(),\n",
    "                 theta = double(),\n",
    "                 KS = double(),\n",
    "                 KStest = character(),\n",
    "                 CvM = double(),\n",
    "                 CvMtest = character(),\n",
    "                 AD = double(),\n",
    "                 ADtest = character(),\n",
    "                 stringsAsFactors = FALSE)\n",
    "                \n",
    "for (i in 1:length(max_PRCP)) {\n",
    "\n",
    "    testDist = na.omit(max_PRCP[,i])\n",
    "        \n",
    "        for(j in 1:length(testDist)){\n",
    "            if(testDist[j] < .1){\n",
    "            testDist[j]=.0001\n",
    "            }\n",
    "        }\n",
    "\n",
    "   gamma1 = fitdist(as.vector(testDist),\"gamma\",method = \"mle\")\n",
    "   mleGamma[i,1] = gamma1$estimate[1]\n",
    "   mleGamma[i,2] = gamma1$estimate[2]\n",
    "   \n",
    "   gof = gofstat(gamma1)\n",
    "   mleGamma[i,3] = gof$ks\n",
    "   mleGamma[i,4] = gof$kstest\n",
    "   mleGamma[i,5] = gof$cvm\n",
    "   mleGamma[i,6] = gof$cvmtest\n",
    "   mleGamma[i,7] = gof$ad\n",
    "   mleGamma[i,8] = gof$adtest\n",
    "}\n",
    "\n",
    "mleGamma[\"invTheta\"] = 1/(mleGamma$theta)\n",
    "mleGamma[\"mean\"] = mleGamma$invTheta*mleGamma$alpha\n",
    "mleGamma[\"var\"] = mleGamma$alpha*(mleGamma$invTheta^2)\n",
    "mleGamma[\"sd\"] = sqrt(mleGamma$var)"
   ]
  },
  {
   "cell_type": "code",
   "execution_count": 39,
   "metadata": {
    "collapsed": false
   },
   "outputs": [],
   "source": [
    "mleGamma2 = data.frame(alpha = double(),\n",
    "                 theta = double(),\n",
    "                 KS = double(),\n",
    "                 KStest = character(),\n",
    "                 CvM = double(),\n",
    "                 CvMtest = character(),\n",
    "                 AD = double(),\n",
    "                 ADtest = character(),\n",
    "                 stringsAsFactors = FALSE)\n",
    "                \n",
    "for (i in 1:length(max_PRCP2)) {\n",
    "\n",
    "    testDist = na.omit(max_PRCP2[,i])\n",
    "        \n",
    "        for(j in 1:length(testDist)){\n",
    "            if(testDist[j] < .1){\n",
    "            testDist[j]=.0001\n",
    "            }\n",
    "        }\n",
    "\n",
    "   gamma1 = fitdist(as.vector(testDist),\"gamma\",method = \"mge\", gof=\"ADR\")\n",
    "   mleGamma2[i,1] = gamma1$estimate[1]\n",
    "   mleGamma2[i,2] = gamma1$estimate[2]\n",
    "   \n",
    "   gof = gofstat(gamma1)\n",
    "   mleGamma2[i,3] = gof$ks\n",
    "   mleGamma2[i,4] = gof$kstest\n",
    "   mleGamma2[i,5] = gof$cvm\n",
    "   mleGamma2[i,6] = gof$cvmtest\n",
    "   mleGamma2[i,7] = gof$ad\n",
    "   mleGamma2[i,8] = gof$adtest\n",
    "}\n",
    "\n",
    "#mleGamma[\"invTheta\"] = 1/(mleGamma$theta)\n",
    "#mleGamma[\"mean\"] = mleGamma$invTheta*mleGamma$alpha\n",
    "#mleGamma[\"var\"] = mleGamma$alpha*(mleGamma$invTheta^2)\n",
    "#mleGamma[\"sd\"] = sqrt(mleGamma$var)"
   ]
  },
  {
   "cell_type": "code",
   "execution_count": 41,
   "metadata": {
    "collapsed": false
   },
   "outputs": [
    {
     "data": {
      "text/plain": [
       "\n",
       "not rejected \n",
       "         110 "
      ]
     },
     "metadata": {},
     "output_type": "display_data"
    }
   ],
   "source": [
    "table(mleGamma2[,4])"
   ]
  },
  {
   "cell_type": "code",
   "execution_count": 174,
   "metadata": {
    "collapsed": true
   },
   "outputs": [],
   "source": [
    "mleExp = data.frame(theta = double(),\n",
    "                 KS = double(),\n",
    "                 KStest = character(),\n",
    "                 CvM = double(),\n",
    "                 CvMtest = character(),\n",
    "                 AD = double(),\n",
    "                 ADtest = character(),\n",
    "                 stringsAsFactors = FALSE)\n",
    "                \n",
    "for (i in 1:length(max_PRCP)) {\n",
    "\n",
    "    testDist = na.omit(max_PRCP[,i])\n",
    "        \n",
    "        for(j in 1:length(testDist)){\n",
    "            if(testDist[j] < .1){\n",
    "            testDist[j]=.0001\n",
    "            }\n",
    "        }\n",
    "\n",
    "   exp1 = fitdist(as.vector(testDist),\"exp\",method = \"mle\")\n",
    "   mleExp[i,1] = exp1$estimate[1]\n",
    "   \n",
    "   gof = gofstat(exp1)\n",
    "   mleExp[i,2] = gof$ks\n",
    "   mleExp[i,3] = gof$kstest\n",
    "   mleExp[i,4] = gof$cvm\n",
    "   mleExp[i,5] = gof$cvmtest\n",
    "   mleExp[i,6] = gof$ad\n",
    "   mleExp[i,7] = gof$adtest\n",
    "}\n",
    "\n",
    "mleExp[\"mean\"] = 1/mleExp$theta\n",
    "mleExp[\"square\"] = mleExp$theta^2 \n",
    "mleExp[\"var\"] = 1/mleExp$square\n",
    "mleExp[\"sd\"] = sqrt(mleExp$var)"
   ]
  },
  {
   "cell_type": "code",
   "execution_count": 24,
   "metadata": {
    "collapsed": true
   },
   "outputs": [],
   "source": [
    "mleWB = data.frame(alpha = double(),theta = double(),\n",
    "                 KS = double(),\n",
    "                 KStest = character(),\n",
    "                 CvM = double(),\n",
    "                 CvMtest = character(),\n",
    "                 AD = double(),\n",
    "                 ADtest = character(),\n",
    "                 stringsAsFactors = FALSE)\n",
    "                \n",
    "for (i in 1:length(max_PRCP)) {\n",
    "\n",
    "    testDist = na.omit(max_PRCP[,i])\n",
    "        \n",
    "        for(j in 1:length(testDist)){\n",
    "            if(testDist[j] < .1){\n",
    "            testDist[j]=.0001\n",
    "            }\n",
    "        }\n",
    "\n",
    "   WB1 = fitdist(as.vector(testDist),\"weibull\",method = \"mle\")\n",
    "   mleWB[i,1] = WB1$estimate[1]\n",
    "   mleWB[i,2] = WB1$estimate[2]\n",
    "   \n",
    "   gof = gofstat(WB1)\n",
    "   mleWB[i,3] = gof$ks\n",
    "   mleWB[i,4] = gof$kstest\n",
    "   mleWB[i,5] = gof$cvm\n",
    "   mleWB[i,6] = gof$cvmtest\n",
    "   mleWB[i,7] = gof$ad\n",
    "   mleWB[i,8] = gof$adtest\n",
    "}\n",
    "\n",
    "\n",
    "#mleWB[\"mean\"] = 1/mleWB$theta\n",
    "#mleWB[\"square\"] = mleWB$theta^2 \n",
    "#mleWB[\"var\"] = 1/mleWB$square\n",
    "#mleWB[\"sd\"] = sqrt(mleWB$var)"
   ]
  },
  {
   "cell_type": "code",
   "execution_count": 25,
   "metadata": {
    "collapsed": false
   },
   "outputs": [
    {
     "data": {
      "text/html": [
       "<table>\n",
       "<thead><tr><th scope=col>alpha</th><th scope=col>theta</th><th scope=col>KS</th><th scope=col>KStest</th><th scope=col>CvM</th><th scope=col>CvMtest</th><th scope=col>AD</th><th scope=col>ADtest</th></tr></thead>\n",
       "<tbody>\n",
       "\t<tr><td>0.9012763   </td><td>126.7063    </td><td>0.09708742  </td><td>not rejected</td><td>0.2461638   </td><td>rejected    </td><td>1.916551    </td><td>rejected    </td></tr>\n",
       "\t<tr><td>0.8934700   </td><td>129.2136    </td><td>0.08799946  </td><td>not rejected</td><td>0.2507829   </td><td>rejected    </td><td>1.897670    </td><td>rejected    </td></tr>\n",
       "\t<tr><td>0.8712358   </td><td>127.9071    </td><td>0.09128039  </td><td>not rejected</td><td>0.2549693   </td><td>rejected    </td><td>1.822312    </td><td>rejected    </td></tr>\n",
       "\t<tr><td>0.8612942   </td><td>132.7855    </td><td>0.08917338  </td><td>not rejected</td><td>0.2459454   </td><td>rejected    </td><td>1.751709    </td><td>rejected    </td></tr>\n",
       "\t<tr><td>0.9055221   </td><td>139.7309    </td><td>0.09486993  </td><td>not rejected</td><td>0.1833747   </td><td>rejected    </td><td>1.108900    </td><td>rejected    </td></tr>\n",
       "\t<tr><td>0.9162238   </td><td>142.1785    </td><td>0.08816377  </td><td>not rejected</td><td>0.1860520   </td><td>rejected    </td><td>1.141164    </td><td>rejected    </td></tr>\n",
       "</tbody>\n",
       "</table>\n"
      ],
      "text/latex": [
       "\\begin{tabular}{r|llllllll}\n",
       " alpha & theta & KS & KStest & CvM & CvMtest & AD & ADtest\\\\\n",
       "\\hline\n",
       "\t 0.9012763    & 126.7063     & 0.09708742   & not rejected & 0.2461638    & rejected     & 1.916551     & rejected    \\\\\n",
       "\t 0.8934700    & 129.2136     & 0.08799946   & not rejected & 0.2507829    & rejected     & 1.897670     & rejected    \\\\\n",
       "\t 0.8712358    & 127.9071     & 0.09128039   & not rejected & 0.2549693    & rejected     & 1.822312     & rejected    \\\\\n",
       "\t 0.8612942    & 132.7855     & 0.08917338   & not rejected & 0.2459454    & rejected     & 1.751709     & rejected    \\\\\n",
       "\t 0.9055221    & 139.7309     & 0.09486993   & not rejected & 0.1833747    & rejected     & 1.108900     & rejected    \\\\\n",
       "\t 0.9162238    & 142.1785     & 0.08816377   & not rejected & 0.1860520    & rejected     & 1.141164     & rejected    \\\\\n",
       "\\end{tabular}\n"
      ],
      "text/plain": [
       "  alpha     theta    KS         KStest       CvM       CvMtest  AD      \n",
       "1 0.9012763 126.7063 0.09708742 not rejected 0.2461638 rejected 1.916551\n",
       "2 0.8934700 129.2136 0.08799946 not rejected 0.2507829 rejected 1.897670\n",
       "3 0.8712358 127.9071 0.09128039 not rejected 0.2549693 rejected 1.822312\n",
       "4 0.8612942 132.7855 0.08917338 not rejected 0.2459454 rejected 1.751709\n",
       "5 0.9055221 139.7309 0.09486993 not rejected 0.1833747 rejected 1.108900\n",
       "6 0.9162238 142.1785 0.08816377 not rejected 0.1860520 rejected 1.141164\n",
       "  ADtest  \n",
       "1 rejected\n",
       "2 rejected\n",
       "3 rejected\n",
       "4 rejected\n",
       "5 rejected\n",
       "6 rejected"
      ]
     },
     "metadata": {},
     "output_type": "display_data"
    }
   ],
   "source": [
    "head(mleWB)"
   ]
  },
  {
   "cell_type": "code",
   "execution_count": 26,
   "metadata": {
    "collapsed": false
   },
   "outputs": [
    {
     "data": {
      "text/plain": [
       "\n",
       "not rejected     rejected \n",
       "          98           12 "
      ]
     },
     "metadata": {},
     "output_type": "display_data"
    }
   ],
   "source": [
    "table(mleWB$KStest)"
   ]
  },
  {
   "cell_type": "code",
   "execution_count": 175,
   "metadata": {
    "collapsed": false
   },
   "outputs": [
    {
     "data": {
      "text/html": [
       "<ol class=list-inline>\n",
       "\t<li>30</li>\n",
       "\t<li>31</li>\n",
       "\t<li>32</li>\n",
       "\t<li>33</li>\n",
       "\t<li>34</li>\n",
       "\t<li>35</li>\n",
       "\t<li>36</li>\n",
       "\t<li>37</li>\n",
       "\t<li>38</li>\n",
       "\t<li>39</li>\n",
       "\t<li>52</li>\n",
       "\t<li>53</li>\n",
       "\t<li>54</li>\n",
       "\t<li>55</li>\n",
       "\t<li>56</li>\n",
       "\t<li>57</li>\n",
       "\t<li>61</li>\n",
       "\t<li>62</li>\n",
       "</ol>\n"
      ],
      "text/latex": [
       "\\begin{enumerate*}\n",
       "\\item 30\n",
       "\\item 31\n",
       "\\item 32\n",
       "\\item 33\n",
       "\\item 34\n",
       "\\item 35\n",
       "\\item 36\n",
       "\\item 37\n",
       "\\item 38\n",
       "\\item 39\n",
       "\\item 52\n",
       "\\item 53\n",
       "\\item 54\n",
       "\\item 55\n",
       "\\item 56\n",
       "\\item 57\n",
       "\\item 61\n",
       "\\item 62\n",
       "\\end{enumerate*}\n"
      ],
      "text/markdown": [
       "1. 30\n",
       "2. 31\n",
       "3. 32\n",
       "4. 33\n",
       "5. 34\n",
       "6. 35\n",
       "7. 36\n",
       "8. 37\n",
       "9. 38\n",
       "10. 39\n",
       "11. 52\n",
       "12. 53\n",
       "13. 54\n",
       "14. 55\n",
       "15. 56\n",
       "16. 57\n",
       "17. 61\n",
       "18. 62\n",
       "\n",
       "\n"
      ],
      "text/plain": [
       " [1] 30 31 32 33 34 35 36 37 38 39 52 53 54 55 56 57 61 62"
      ]
     },
     "metadata": {},
     "output_type": "display_data"
    }
   ],
   "source": [
    "which(mleGamma$KStest==\"rejected\")"
   ]
  },
  {
   "cell_type": "code",
   "execution_count": 176,
   "metadata": {
    "collapsed": false
   },
   "outputs": [
    {
     "data": {
      "text/html": [],
      "text/latex": [],
      "text/markdown": [],
      "text/plain": [
       "integer(0)"
      ]
     },
     "metadata": {},
     "output_type": "display_data"
    }
   ],
   "source": [
    "which(mleExp$KStest==\"rejected\")"
   ]
  },
  {
   "cell_type": "code",
   "execution_count": 177,
   "metadata": {
    "collapsed": false
   },
   "outputs": [
    {
     "data": {
      "text/html": [
       "<table>\n",
       "<thead><tr><th scope=col>alpha</th><th scope=col>theta</th><th scope=col>KS</th><th scope=col>KStest</th><th scope=col>CvM</th><th scope=col>CvMtest</th><th scope=col>AD</th><th scope=col>ADtest</th><th scope=col>invTheta</th><th scope=col>mean</th><th scope=col>var</th><th scope=col>sd</th></tr></thead>\n",
       "<tbody>\n",
       "\t<tr><td>0.7702459   </td><td>0.005838670 </td><td>0.11823885  </td><td>not rejected</td><td>0.3945848   </td><td>NA          </td><td>2.578290    </td><td>NA          </td><td>171.2719    </td><td>131.9215    </td><td>22594.44    </td><td>150.3145    </td></tr>\n",
       "\t<tr><td>0.7592384   </td><td>0.005623842 </td><td>0.10957672  </td><td>not rejected</td><td>0.3993983   </td><td>NA          </td><td>2.545615    </td><td>NA          </td><td>177.8144    </td><td>135.0035    </td><td>24005.57    </td><td>154.9373    </td></tr>\n",
       "\t<tr><td>0.7329028   </td><td>0.005426065 </td><td>0.11023874  </td><td>not rejected</td><td>0.3867091   </td><td>NA          </td><td>2.377635    </td><td>NA          </td><td>184.2956    </td><td>135.0708    </td><td>24892.95    </td><td>157.7750    </td></tr>\n",
       "\t<tr><td>0.7228140   </td><td>0.005126209 </td><td>0.10648805  </td><td>not rejected</td><td>0.3718661   </td><td>NA          </td><td>2.266249    </td><td>NA          </td><td>195.0759    </td><td>141.0036    </td><td>27506.41    </td><td>165.8506    </td></tr>\n",
       "\t<tr><td>0.7894197   </td><td>0.005429997 </td><td>0.10174311  </td><td>not rejected</td><td>0.2569872   </td><td>NA          </td><td>1.422317    </td><td>NA          </td><td>184.1622    </td><td>145.3812    </td><td>26773.72    </td><td>163.6268    </td></tr>\n",
       "\t<tr><td>0.7953316   </td><td>0.005407428 </td><td>0.09718581  </td><td>not rejected</td><td>0.2725329   </td><td>NA          </td><td>1.497542    </td><td>NA          </td><td>184.9308    </td><td>147.0813    </td><td>27199.86    </td><td>164.9238    </td></tr>\n",
       "</tbody>\n",
       "</table>\n"
      ],
      "text/latex": [
       "\\begin{tabular}{r|llllllllllll}\n",
       " alpha & theta & KS & KStest & CvM & CvMtest & AD & ADtest & invTheta & mean & var & sd\\\\\n",
       "\\hline\n",
       "\t 0.7702459    & 0.005838670  & 0.11823885   & not rejected & 0.3945848    & NA           & 2.578290     & NA           & 171.2719     & 131.9215     & 22594.44     & 150.3145    \\\\\n",
       "\t 0.7592384    & 0.005623842  & 0.10957672   & not rejected & 0.3993983    & NA           & 2.545615     & NA           & 177.8144     & 135.0035     & 24005.57     & 154.9373    \\\\\n",
       "\t 0.7329028    & 0.005426065  & 0.11023874   & not rejected & 0.3867091    & NA           & 2.377635     & NA           & 184.2956     & 135.0708     & 24892.95     & 157.7750    \\\\\n",
       "\t 0.7228140    & 0.005126209  & 0.10648805   & not rejected & 0.3718661    & NA           & 2.266249     & NA           & 195.0759     & 141.0036     & 27506.41     & 165.8506    \\\\\n",
       "\t 0.7894197    & 0.005429997  & 0.10174311   & not rejected & 0.2569872    & NA           & 1.422317     & NA           & 184.1622     & 145.3812     & 26773.72     & 163.6268    \\\\\n",
       "\t 0.7953316    & 0.005407428  & 0.09718581   & not rejected & 0.2725329    & NA           & 1.497542     & NA           & 184.9308     & 147.0813     & 27199.86     & 164.9238    \\\\\n",
       "\\end{tabular}\n"
      ],
      "text/plain": [
       "  alpha     theta       KS         KStest       CvM       CvMtest AD      \n",
       "1 0.7702459 0.005838670 0.11823885 not rejected 0.3945848 NA      2.578290\n",
       "2 0.7592384 0.005623842 0.10957672 not rejected 0.3993983 NA      2.545615\n",
       "3 0.7329028 0.005426065 0.11023874 not rejected 0.3867091 NA      2.377635\n",
       "4 0.7228140 0.005126209 0.10648805 not rejected 0.3718661 NA      2.266249\n",
       "5 0.7894197 0.005429997 0.10174311 not rejected 0.2569872 NA      1.422317\n",
       "6 0.7953316 0.005407428 0.09718581 not rejected 0.2725329 NA      1.497542\n",
       "  ADtest invTheta mean     var      sd      \n",
       "1 NA     171.2719 131.9215 22594.44 150.3145\n",
       "2 NA     177.8144 135.0035 24005.57 154.9373\n",
       "3 NA     184.2956 135.0708 24892.95 157.7750\n",
       "4 NA     195.0759 141.0036 27506.41 165.8506\n",
       "5 NA     184.1622 145.3812 26773.72 163.6268\n",
       "6 NA     184.9308 147.0813 27199.86 164.9238"
      ]
     },
     "metadata": {},
     "output_type": "display_data"
    }
   ],
   "source": [
    "head(mleGamma)"
   ]
  },
  {
   "cell_type": "code",
   "execution_count": 178,
   "metadata": {
    "collapsed": false
   },
   "outputs": [
    {
     "data": {
      "text/html": [
       "<table>\n",
       "<thead><tr><th scope=col>theta</th><th scope=col>KS</th><th scope=col>KStest</th><th scope=col>CvM</th><th scope=col>CvMtest</th><th scope=col>AD</th><th scope=col>ADtest</th><th scope=col>mean</th><th scope=col>square</th><th scope=col>var</th><th scope=col>sd</th></tr></thead>\n",
       "<tbody>\n",
       "\t<tr><td>0.007582251 </td><td>0.06135990  </td><td>not rejected</td><td>0.07771479  </td><td>not rejected</td><td>1.154525    </td><td>not rejected</td><td>131.8870    </td><td>5.749053e-05</td><td>17394.17    </td><td>131.8870    </td></tr>\n",
       "\t<tr><td>0.007406461 </td><td>0.05409077  </td><td>not rejected</td><td>0.07202469  </td><td>not rejected</td><td>1.120545    </td><td>not rejected</td><td>135.0172    </td><td>5.485567e-05</td><td>18229.66    </td><td>135.0172    </td></tr>\n",
       "\t<tr><td>0.007404126 </td><td>0.05999186  </td><td>not rejected</td><td>0.06899385  </td><td>not rejected</td><td>1.086094    </td><td>not rejected</td><td>135.0598    </td><td>5.482108e-05</td><td>18241.16    </td><td>135.0598    </td></tr>\n",
       "\t<tr><td>0.007092198 </td><td>0.05165822  </td><td>not rejected</td><td>0.05439701  </td><td>not rejected</td><td>1.053790    </td><td>not rejected</td><td>141.0000    </td><td>5.029928e-05</td><td>19881.00    </td><td>141.0000    </td></tr>\n",
       "\t<tr><td>0.006879263 </td><td>0.07186013  </td><td>not rejected</td><td>0.08074364  </td><td>not rejected</td><td>0.770200    </td><td>not rejected</td><td>145.3644    </td><td>4.732426e-05</td><td>21130.81    </td><td>145.3644    </td></tr>\n",
       "\t<tr><td>0.006798410 </td><td>0.06769829  </td><td>not rejected</td><td>0.08938361  </td><td>not rejected</td><td>0.817524    </td><td>not rejected</td><td>147.0932    </td><td>4.621838e-05</td><td>21636.42    </td><td>147.0932    </td></tr>\n",
       "</tbody>\n",
       "</table>\n"
      ],
      "text/latex": [
       "\\begin{tabular}{r|lllllllllll}\n",
       " theta & KS & KStest & CvM & CvMtest & AD & ADtest & mean & square & var & sd\\\\\n",
       "\\hline\n",
       "\t 0.007582251  & 0.06135990   & not rejected & 0.07771479   & not rejected & 1.154525     & not rejected & 131.8870     & 5.749053e-05 & 17394.17     & 131.8870    \\\\\n",
       "\t 0.007406461  & 0.05409077   & not rejected & 0.07202469   & not rejected & 1.120545     & not rejected & 135.0172     & 5.485567e-05 & 18229.66     & 135.0172    \\\\\n",
       "\t 0.007404126  & 0.05999186   & not rejected & 0.06899385   & not rejected & 1.086094     & not rejected & 135.0598     & 5.482108e-05 & 18241.16     & 135.0598    \\\\\n",
       "\t 0.007092198  & 0.05165822   & not rejected & 0.05439701   & not rejected & 1.053790     & not rejected & 141.0000     & 5.029928e-05 & 19881.00     & 141.0000    \\\\\n",
       "\t 0.006879263  & 0.07186013   & not rejected & 0.08074364   & not rejected & 0.770200     & not rejected & 145.3644     & 4.732426e-05 & 21130.81     & 145.3644    \\\\\n",
       "\t 0.006798410  & 0.06769829   & not rejected & 0.08938361   & not rejected & 0.817524     & not rejected & 147.0932     & 4.621838e-05 & 21636.42     & 147.0932    \\\\\n",
       "\\end{tabular}\n"
      ],
      "text/plain": [
       "  theta       KS         KStest       CvM        CvMtest      AD      \n",
       "1 0.007582251 0.06135990 not rejected 0.07771479 not rejected 1.154525\n",
       "2 0.007406461 0.05409077 not rejected 0.07202469 not rejected 1.120545\n",
       "3 0.007404126 0.05999186 not rejected 0.06899385 not rejected 1.086094\n",
       "4 0.007092198 0.05165822 not rejected 0.05439701 not rejected 1.053790\n",
       "5 0.006879263 0.07186013 not rejected 0.08074364 not rejected 0.770200\n",
       "6 0.006798410 0.06769829 not rejected 0.08938361 not rejected 0.817524\n",
       "  ADtest       mean     square       var      sd      \n",
       "1 not rejected 131.8870 5.749053e-05 17394.17 131.8870\n",
       "2 not rejected 135.0172 5.485567e-05 18229.66 135.0172\n",
       "3 not rejected 135.0598 5.482108e-05 18241.16 135.0598\n",
       "4 not rejected 141.0000 5.029928e-05 19881.00 141.0000\n",
       "5 not rejected 145.3644 4.732426e-05 21130.81 145.3644\n",
       "6 not rejected 147.0932 4.621838e-05 21636.42 147.0932"
      ]
     },
     "metadata": {},
     "output_type": "display_data"
    }
   ],
   "source": [
    "head(mleExp)"
   ]
  },
  {
   "cell_type": "code",
   "execution_count": 179,
   "metadata": {
    "collapsed": false
   },
   "outputs": [],
   "source": [
    "trueEst = NULL\n",
    "for(i in 1:nrow(mleExp)){\n",
    "    if(mleExp$KStest[i] == \"not rejected\" & mleGamma$KStest[i] == \"not rejected\"){\n",
    "        trueEst = c(trueEst,\"plot\")\n",
    "    }\n",
    "    if(mleExp$KStest[i] == \"not rejected\" & mleGamma$KStest[i] == \"rejected\"){\n",
    "        trueEst = c(trueEst,\"exp\")\n",
    "    }\n",
    "    if(mleExp$KStest[i] == \"rejected\" & mleGamma$KStest[i] == \"not rejected\"){\n",
    "        trueEst = c(trueEst,\"gamma\")\n",
    "    }\n",
    "    if(mleExp$KStest[i] == \"rejected\" & mleGamma$KStest[i] == \"rejected\"){\n",
    "        trueEst = c(trueEst,\"fail\")\n",
    "    }\n",
    "}"
   ]
  },
  {
   "cell_type": "code",
   "execution_count": 180,
   "metadata": {
    "collapsed": false
   },
   "outputs": [
    {
     "data": {
      "text/plain": [
       "trueEst\n",
       " exp plot \n",
       "  18   92 "
      ]
     },
     "metadata": {},
     "output_type": "display_data"
    }
   ],
   "source": [
    "table(trueEst)"
   ]
  },
  {
   "cell_type": "code",
   "execution_count": 181,
   "metadata": {
    "collapsed": false
   },
   "outputs": [
    {
     "data": {
      "text/html": [],
      "text/latex": [],
      "text/markdown": [],
      "text/plain": [
       "integer(0)"
      ]
     },
     "metadata": {},
     "output_type": "display_data"
    }
   ],
   "source": [
    "which(trueEst==\"fail\")"
   ]
  },
  {
   "cell_type": "code",
   "execution_count": 182,
   "metadata": {
    "collapsed": false
   },
   "outputs": [
    {
     "data": {
      "text/html": [
       "<ol class=list-inline>\n",
       "\t<li>1</li>\n",
       "\t<li>2</li>\n",
       "\t<li>3</li>\n",
       "\t<li>4</li>\n",
       "\t<li>5</li>\n",
       "\t<li>6</li>\n",
       "\t<li>7</li>\n",
       "\t<li>8</li>\n",
       "\t<li>9</li>\n",
       "\t<li>10</li>\n",
       "\t<li>11</li>\n",
       "\t<li>12</li>\n",
       "\t<li>13</li>\n",
       "\t<li>14</li>\n",
       "\t<li>15</li>\n",
       "\t<li>16</li>\n",
       "\t<li>17</li>\n",
       "\t<li>18</li>\n",
       "\t<li>19</li>\n",
       "\t<li>20</li>\n",
       "\t<li>21</li>\n",
       "\t<li>22</li>\n",
       "\t<li>23</li>\n",
       "\t<li>24</li>\n",
       "\t<li>25</li>\n",
       "\t<li>26</li>\n",
       "\t<li>27</li>\n",
       "\t<li>28</li>\n",
       "\t<li>29</li>\n",
       "\t<li>40</li>\n",
       "\t<li>41</li>\n",
       "\t<li>42</li>\n",
       "\t<li>43</li>\n",
       "\t<li>44</li>\n",
       "\t<li>45</li>\n",
       "\t<li>46</li>\n",
       "\t<li>47</li>\n",
       "\t<li>48</li>\n",
       "\t<li>49</li>\n",
       "\t<li>50</li>\n",
       "\t<li>51</li>\n",
       "\t<li>58</li>\n",
       "\t<li>59</li>\n",
       "\t<li>60</li>\n",
       "\t<li>63</li>\n",
       "\t<li>64</li>\n",
       "\t<li>65</li>\n",
       "\t<li>66</li>\n",
       "\t<li>67</li>\n",
       "\t<li>68</li>\n",
       "\t<li>69</li>\n",
       "\t<li>70</li>\n",
       "\t<li>71</li>\n",
       "\t<li>72</li>\n",
       "\t<li>73</li>\n",
       "\t<li>74</li>\n",
       "\t<li>75</li>\n",
       "\t<li>76</li>\n",
       "\t<li>77</li>\n",
       "\t<li>78</li>\n",
       "\t<li>79</li>\n",
       "\t<li>80</li>\n",
       "\t<li>81</li>\n",
       "\t<li>82</li>\n",
       "\t<li>83</li>\n",
       "\t<li>84</li>\n",
       "\t<li>85</li>\n",
       "\t<li>86</li>\n",
       "\t<li>87</li>\n",
       "\t<li>88</li>\n",
       "\t<li>89</li>\n",
       "\t<li>90</li>\n",
       "\t<li>91</li>\n",
       "\t<li>92</li>\n",
       "\t<li>93</li>\n",
       "\t<li>94</li>\n",
       "\t<li>95</li>\n",
       "\t<li>96</li>\n",
       "\t<li>97</li>\n",
       "\t<li>98</li>\n",
       "\t<li>99</li>\n",
       "\t<li>100</li>\n",
       "\t<li>101</li>\n",
       "\t<li>102</li>\n",
       "\t<li>103</li>\n",
       "\t<li>104</li>\n",
       "\t<li>105</li>\n",
       "\t<li>106</li>\n",
       "\t<li>107</li>\n",
       "\t<li>108</li>\n",
       "\t<li>109</li>\n",
       "\t<li>110</li>\n",
       "</ol>\n"
      ],
      "text/latex": [
       "\\begin{enumerate*}\n",
       "\\item 1\n",
       "\\item 2\n",
       "\\item 3\n",
       "\\item 4\n",
       "\\item 5\n",
       "\\item 6\n",
       "\\item 7\n",
       "\\item 8\n",
       "\\item 9\n",
       "\\item 10\n",
       "\\item 11\n",
       "\\item 12\n",
       "\\item 13\n",
       "\\item 14\n",
       "\\item 15\n",
       "\\item 16\n",
       "\\item 17\n",
       "\\item 18\n",
       "\\item 19\n",
       "\\item 20\n",
       "\\item 21\n",
       "\\item 22\n",
       "\\item 23\n",
       "\\item 24\n",
       "\\item 25\n",
       "\\item 26\n",
       "\\item 27\n",
       "\\item 28\n",
       "\\item 29\n",
       "\\item 40\n",
       "\\item 41\n",
       "\\item 42\n",
       "\\item 43\n",
       "\\item 44\n",
       "\\item 45\n",
       "\\item 46\n",
       "\\item 47\n",
       "\\item 48\n",
       "\\item 49\n",
       "\\item 50\n",
       "\\item 51\n",
       "\\item 58\n",
       "\\item 59\n",
       "\\item 60\n",
       "\\item 63\n",
       "\\item 64\n",
       "\\item 65\n",
       "\\item 66\n",
       "\\item 67\n",
       "\\item 68\n",
       "\\item 69\n",
       "\\item 70\n",
       "\\item 71\n",
       "\\item 72\n",
       "\\item 73\n",
       "\\item 74\n",
       "\\item 75\n",
       "\\item 76\n",
       "\\item 77\n",
       "\\item 78\n",
       "\\item 79\n",
       "\\item 80\n",
       "\\item 81\n",
       "\\item 82\n",
       "\\item 83\n",
       "\\item 84\n",
       "\\item 85\n",
       "\\item 86\n",
       "\\item 87\n",
       "\\item 88\n",
       "\\item 89\n",
       "\\item 90\n",
       "\\item 91\n",
       "\\item 92\n",
       "\\item 93\n",
       "\\item 94\n",
       "\\item 95\n",
       "\\item 96\n",
       "\\item 97\n",
       "\\item 98\n",
       "\\item 99\n",
       "\\item 100\n",
       "\\item 101\n",
       "\\item 102\n",
       "\\item 103\n",
       "\\item 104\n",
       "\\item 105\n",
       "\\item 106\n",
       "\\item 107\n",
       "\\item 108\n",
       "\\item 109\n",
       "\\item 110\n",
       "\\end{enumerate*}\n"
      ],
      "text/markdown": [
       "1. 1\n",
       "2. 2\n",
       "3. 3\n",
       "4. 4\n",
       "5. 5\n",
       "6. 6\n",
       "7. 7\n",
       "8. 8\n",
       "9. 9\n",
       "10. 10\n",
       "11. 11\n",
       "12. 12\n",
       "13. 13\n",
       "14. 14\n",
       "15. 15\n",
       "16. 16\n",
       "17. 17\n",
       "18. 18\n",
       "19. 19\n",
       "20. 20\n",
       "21. 21\n",
       "22. 22\n",
       "23. 23\n",
       "24. 24\n",
       "25. 25\n",
       "26. 26\n",
       "27. 27\n",
       "28. 28\n",
       "29. 29\n",
       "30. 40\n",
       "31. 41\n",
       "32. 42\n",
       "33. 43\n",
       "34. 44\n",
       "35. 45\n",
       "36. 46\n",
       "37. 47\n",
       "38. 48\n",
       "39. 49\n",
       "40. 50\n",
       "41. 51\n",
       "42. 58\n",
       "43. 59\n",
       "44. 60\n",
       "45. 63\n",
       "46. 64\n",
       "47. 65\n",
       "48. 66\n",
       "49. 67\n",
       "50. 68\n",
       "51. 69\n",
       "52. 70\n",
       "53. 71\n",
       "54. 72\n",
       "55. 73\n",
       "56. 74\n",
       "57. 75\n",
       "58. 76\n",
       "59. 77\n",
       "60. 78\n",
       "61. 79\n",
       "62. 80\n",
       "63. 81\n",
       "64. 82\n",
       "65. 83\n",
       "66. 84\n",
       "67. 85\n",
       "68. 86\n",
       "69. 87\n",
       "70. 88\n",
       "71. 89\n",
       "72. 90\n",
       "73. 91\n",
       "74. 92\n",
       "75. 93\n",
       "76. 94\n",
       "77. 95\n",
       "78. 96\n",
       "79. 97\n",
       "80. 98\n",
       "81. 99\n",
       "82. 100\n",
       "83. 101\n",
       "84. 102\n",
       "85. 103\n",
       "86. 104\n",
       "87. 105\n",
       "88. 106\n",
       "89. 107\n",
       "90. 108\n",
       "91. 109\n",
       "92. 110\n",
       "\n",
       "\n"
      ],
      "text/plain": [
       " [1]   1   2   3   4   5   6   7   8   9  10  11  12  13  14  15  16  17  18  19\n",
       "[20]  20  21  22  23  24  25  26  27  28  29  40  41  42  43  44  45  46  47  48\n",
       "[39]  49  50  51  58  59  60  63  64  65  66  67  68  69  70  71  72  73  74  75\n",
       "[58]  76  77  78  79  80  81  82  83  84  85  86  87  88  89  90  91  92  93  94\n",
       "[77]  95  96  97  98  99 100 101 102 103 104 105 106 107 108 109 110"
      ]
     },
     "metadata": {},
     "output_type": "display_data"
    }
   ],
   "source": [
    "which(trueEst==\"plot\")"
   ]
  },
  {
   "cell_type": "code",
   "execution_count": 183,
   "metadata": {
    "collapsed": true
   },
   "outputs": [],
   "source": [
    "options(repr.plot.width=9, repr.plot.height=5) #reduces the plot sizes"
   ]
  },
  {
   "cell_type": "code",
   "execution_count": 184,
   "metadata": {
    "collapsed": false
   },
   "outputs": [
    {
     "data": {
      "image/png": "[encoded data removed]",
      "text/plain": [
       "Plot with title \"Histogram of max_PRCP[, 13]\""
      ]
     },
     "metadata": {},
     "output_type": "display_data"
    }
   ],
   "source": [
    "par(mfrow=c(1,2))\n",
    "plot(density(rgamma(10000,mleGamma$alpha[13],mleGamma$theta[13])))\n",
    "hist(max_PRCP[,13], breaks=20)"
   ]
  },
  {
   "cell_type": "code",
   "execution_count": 185,
   "metadata": {
    "collapsed": false
   },
   "outputs": [
    {
     "data": {
      "image/png": "[encoded data removed]",
      "text/plain": [
       "Plot with title \"Histogram of max_PRCP[, 14]\""
      ]
     },
     "metadata": {},
     "output_type": "display_data"
    }
   ],
   "source": [
    "par(mfrow=c(1,2))\n",
    "plot(density(rgamma(10000,mleGamma$alpha[14],mleGamma$theta[14])))\n",
    "hist(max_PRCP[,14], breaks=20)"
   ]
  },
  {
   "cell_type": "code",
   "execution_count": 186,
   "metadata": {
    "collapsed": false
   },
   "outputs": [
    {
     "data": {
      "image/png": "[encoded data removed]",
      "text/plain": [
       "Plot with title \"Histogram of max_PRCP[, 3]\""
      ]
     },
     "metadata": {},
     "output_type": "display_data"
    }
   ],
   "source": [
    "par(mfrow=c(1,2))\n",
    "plot(density(rgamma(10000,mleGamma$alpha[3],mleGamma$theta[3])))\n",
    "hist(max_PRCP[,3], breaks=20)"
   ]
  },
  {
   "cell_type": "code",
   "execution_count": 187,
   "metadata": {
    "collapsed": false
   },
   "outputs": [
    {
     "data": {
      "image/png": "[encoded data removed]",
      "text/plain": [
       "Plot with title \"Histogram of max_PRCP[, 14]\""
      ]
     },
     "metadata": {},
     "output_type": "display_data"
    }
   ],
   "source": [
    "par(mfrow=c(1,2))\n",
    "plot(density(rgamma(10000,mleGamma$alpha[14],mleGamma$theta[14])))\n",
    "hist(max_PRCP[,14], breaks=20)"
   ]
  },
  {
   "cell_type": "code",
   "execution_count": 188,
   "metadata": {
    "collapsed": false
   },
   "outputs": [
    {
     "data": {
      "text/html": [
       "110"
      ],
      "text/latex": [
       "110"
      ],
      "text/markdown": [
       "110"
      ],
      "text/plain": [
       "[1] 110"
      ]
     },
     "metadata": {},
     "output_type": "display_data"
    }
   ],
   "source": [
    "length(trueEst)"
   ]
  },
  {
   "cell_type": "code",
   "execution_count": 189,
   "metadata": {
    "collapsed": true
   },
   "outputs": [],
   "source": [
    "maxObs2 = max(na.omit(data$Max.PRCP.))"
   ]
  },
  {
   "cell_type": "code",
   "execution_count": 190,
   "metadata": {
    "collapsed": true
   },
   "outputs": [],
   "source": [
    "smooth2 = runmean(data$Max.PRCP., 120)"
   ]
  },
  {
   "cell_type": "code",
   "execution_count": 191,
   "metadata": {
    "collapsed": true
   },
   "outputs": [],
   "source": [
    "smoothTS2 = ts(smooth2, start=firstYear, freq=12)"
   ]
  },
  {
   "cell_type": "markdown",
   "metadata": {
    "collapsed": false
   },
   "source": [
    "setEPS()\n",
    "postscript(\"pics/boulder2014Info.eps\")\n",
    "plot(maxTS, xlab = \"Time (years)\", col = \"darkgrey\", lwd=1.75, ylab = \"Precipitation (1/10mm)\", \n",
    "     #main=sprintf(\"%s \\nObserved 24 Hour Max Rainfall \\nfrom %i to 2012 by Monthly Max\", stationName,firstYear),\n",
    "     ylim=c(0,2500))\n",
    "abline(h=maxObs2, col=\"red\", lwd=.5, lty=5)\n",
    "points(smoothTS2, col=4, type=\"l\", lwd=2)\n",
    "text(2013,maxObs2+100,sprintf(\"%i\",maxObs2))\n",
    "dev.off()"
   ]
  },
  {
   "cell_type": "code",
   "execution_count": 192,
   "metadata": {
    "collapsed": false
   },
   "outputs": [
    {
     "data": {
      "image/png": "[encoded data removed]",
      "text/plain": [
       "plot without title"
      ]
     },
     "metadata": {},
     "output_type": "display_data"
    }
   ],
   "source": [
    "plot(maxTS, xlab = \"Time (years)\", col = \"darkgrey\", lwd=1.75, ylab = \"Precipitation (1/10mm)\", \n",
    "     #main=sprintf(\"%s \\nObserved 24 Hour Max Rainfall \\nfrom %i to 2012 by Monthly Max\", stationName,firstYear),\n",
    "     ylim=c(0,2500))\n",
    "abline(h=maxObs2, col=\"red\", lwd=.5, lty=5)\n",
    "points(smoothTS2, col=4, type=\"l\", lwd=2)\n",
    "text(2013,maxObs2+100,sprintf(\"%i\",maxObs2))"
   ]
  },
  {
   "cell_type": "code",
   "execution_count": 193,
   "metadata": {
    "collapsed": true
   },
   "outputs": [],
   "source": [
    "maxObs3 = maxObs"
   ]
  },
  {
   "cell_type": "code",
   "execution_count": 194,
   "metadata": {
    "collapsed": true
   },
   "outputs": [],
   "source": [
    "options(repr.plot.width=5, repr.plot.height=5) #reduces the plot sizes"
   ]
  },
  {
   "cell_type": "code",
   "execution_count": 195,
   "metadata": {
    "collapsed": true
   },
   "outputs": [],
   "source": [
    "maxTSNoEvent = ts(maxTSNoEvent, start=1898, freq=12)"
   ]
  },
  {
   "cell_type": "markdown",
   "metadata": {},
   "source": [
    "setEPS()\n",
    "postscript(\"pics/.eps\")\n",
    "dev.off()"
   ]
  },
  {
   "cell_type": "markdown",
   "metadata": {
    "collapsed": false
   },
   "source": [
    "setEPS()\n",
    "postscript(\"pics/ts2012.eps\")\n",
    "plot(smoothTS, type=\"l\", xlab = \"Time (years)\", lwd=2,\n",
    "    ylab = \"Precipitation (1/10mm)\", col = 1\n",
    "     #main=\"Smoothed 24 hour max rainfall from 1898 to 2014\"\n",
    "    )\n",
    "dev.off()"
   ]
  },
  {
   "cell_type": "code",
   "execution_count": 196,
   "metadata": {
    "collapsed": false
   },
   "outputs": [
    {
     "data": {
      "image/png": "[encoded data removed]",
      "text/plain": [
       "plot without title"
      ]
     },
     "metadata": {},
     "output_type": "display_data"
    }
   ],
   "source": [
    "#rollSmall = runmean(data$Max.PRCP., 300)\n",
    "plot(smoothTS, type=\"l\", xlab = \"Time (years)\", lwd=2,\n",
    "    ylab = \"Precipitation (1/10mm)\", col = 1\n",
    "     #main=\"Smoothed 24 hour max rainfall from 1898 to 2014\"\n",
    "    )"
   ]
  },
  {
   "cell_type": "markdown",
   "metadata": {
    "collapsed": false
   },
   "source": [
    "setEPS()\n",
    "postscript(\"pics/tsEvent.eps\")\n",
    "#rollSmall = runmean(data$Max.PRCP., 300)\n",
    "plot(smoothTS2, type=\"l\", xlab = \"Time (years)\", lwd=2,\n",
    "    ylab = \"Precipitation (1/10mm)\", col = 4, ylim=c(130,220)\n",
    "     #main=\"Smoothed 24 hour max rainfall from 1898 to 2014\"\n",
    "    )\n",
    "dev.off()"
   ]
  },
  {
   "cell_type": "code",
   "execution_count": 289,
   "metadata": {
    "collapsed": false
   },
   "outputs": [
    {
     "data": {
      "image/png": "[encoded data removed]",
      "text/plain": [
       "plot without title"
      ]
     },
     "metadata": {},
     "output_type": "display_data"
    }
   ],
   "source": [
    "#rollSmall = runmean(data$Max.PRCP., 300)\n",
    "plot(smoothTS2, type=\"l\", xlab = \"Time (years)\", lwd=2,\n",
    "    ylab = \"Precipitation (1/10mm)\", col = 4\n",
    "     #main=\"Smoothed 24 hour max rainfall from 1898 to 2014\"\n",
    "    )"
   ]
  },
  {
   "cell_type": "code",
   "execution_count": 198,
   "metadata": {
    "collapsed": false
   },
   "outputs": [
    {
     "data": {
      "image/png": "[encoded data removed]",
      "text/plain": [
       "Plot with title \"Smoothed 24 hour max rainfall from 1898 to 2014\""
      ]
     },
     "metadata": {},
     "output_type": "display_data"
    }
   ],
   "source": [
    "#rollSmall = runmean(data$Max.PRCP., 300)\n",
    "plot(smoothTS2, type=\"l\", xlab = \"Time (years)\", lwd=5,\n",
    "    ylab = \"Max Precipitation (1/10mm)\", col = 1, main=\"Smoothed 24 hour max rainfall from 1898 to 2014\")\n",
    "lines(smoothTS, col=2)"
   ]
  },
  {
   "cell_type": "code",
   "execution_count": 199,
   "metadata": {
    "collapsed": false
   },
   "outputs": [],
   "source": [
    "means = apply(max_PRCP,2,mean)"
   ]
  },
  {
   "cell_type": "code",
   "execution_count": 200,
   "metadata": {
    "collapsed": false
   },
   "outputs": [
    {
     "data": {
      "text/html": [
       "76"
      ],
      "text/latex": [
       "76"
      ],
      "text/markdown": [
       "76"
      ],
      "text/plain": [
       "[1] 76"
      ]
     },
     "metadata": {},
     "output_type": "display_data"
    }
   ],
   "source": [
    "sum(is.na(max_PRCP))"
   ]
  },
  {
   "cell_type": "markdown",
   "metadata": {},
   "source": [
    "Can't use the apply function with all the NAs"
   ]
  },
  {
   "cell_type": "code",
   "execution_count": 201,
   "metadata": {
    "collapsed": false
   },
   "outputs": [],
   "source": [
    "means = NULL\n",
    "for(i in 1:ncol(max_PRCP)){\n",
    "    means = c(means,mean(na.omit(max_PRCP[,i])))\n",
    "}"
   ]
  },
  {
   "cell_type": "code",
   "execution_count": 202,
   "metadata": {
    "collapsed": true
   },
   "outputs": [],
   "source": [
    "meanTS = ts(means,start=firstYear)"
   ]
  },
  {
   "cell_type": "code",
   "execution_count": 203,
   "metadata": {
    "collapsed": true
   },
   "outputs": [],
   "source": [
    "options(repr.plot.width=9, repr.plot.height=5) #reduces the plot sizes"
   ]
  },
  {
   "cell_type": "code",
   "execution_count": 204,
   "metadata": {
    "collapsed": false
   },
   "outputs": [
    {
     "data": {
      "image/png": "[encoded data removed]",
      "text/plain": [
       "Plot with title \"FORT COLLINS CO US \n",
       "Observed 24 Hour Max Rainfall \n",
       "from 1896 to 2014 by Monthly Max without Event\""
      ]
     },
     "metadata": {},
     "output_type": "display_data"
    }
   ],
   "source": [
    "plot(maxTSNoEvent, xlab = \"Time (years)\", col = \"darkgrey\", lwd=1.75, ylab = \"Observed Max Precipitation (1/10mm)\", \n",
    "     main=sprintf(\"%s \\nObserved 24 Hour Max Rainfall \\nfrom %i to 2014 by Monthly Max without Event\", \n",
    "     stationName,firstYear), ylim=c(0,1000), type=\"l\")\n",
    "abline(h=maxObs, col=\"red\", lwd=.5, lty=5)\n",
    "#points(smoothTS, col=4, type=\"l\", lwd=2)\n",
    "text(1985,maxObs3+50,sprintf(\"%i\",maxObs3))"
   ]
  },
  {
   "cell_type": "code",
   "execution_count": 32,
   "metadata": {
    "collapsed": false
   },
   "outputs": [
    {
     "ename": "ERROR",
     "evalue": "Error in which(data$Max.PRCP. == maxObs2): object 'maxObs2' not found\n",
     "output_type": "error",
     "traceback": [
      "Error in which(data$Max.PRCP. == maxObs2): object 'maxObs2' not found\nTraceback:\n",
      "1. which(data$Max.PRCP. == maxObs2)"
     ]
    }
   ],
   "source": [
    "which(data$Max.PRCP.==maxObs2)"
   ]
  },
  {
   "cell_type": "code",
   "execution_count": 33,
   "metadata": {
    "collapsed": true
   },
   "outputs": [],
   "source": [
    "data2= data"
   ]
  },
  {
   "cell_type": "code",
   "execution_count": 34,
   "metadata": {
    "collapsed": false
   },
   "outputs": [],
   "source": [
    "data2$Max.PRCP.[1389]=NA"
   ]
  },
  {
   "cell_type": "code",
   "execution_count": 35,
   "metadata": {
    "collapsed": false
   },
   "outputs": [],
   "source": [
    "smooth3 = runmean(data2$Max.PRCP., 120)"
   ]
  },
  {
   "cell_type": "code",
   "execution_count": 36,
   "metadata": {
    "collapsed": true
   },
   "outputs": [],
   "source": [
    "smoothTS3 = ts(smooth3, start = 1898, freq=12)"
   ]
  },
  {
   "cell_type": "code",
   "execution_count": 37,
   "metadata": {
    "collapsed": true
   },
   "outputs": [],
   "source": [
    "#create the first decade (first year and the following 9 years)\n",
    "max_PRCP2 = data.frame(data2[which(data2$YEAR < (firstYear + 10)),6])\n",
    "\n",
    "# add all the subsequent decades to the data frame incrementing by 1 year at a time\n",
    "# i.e. 1898-1907, 1898-1908, etc\n",
    "for(year in c((data2$YEAR[1] + 1):2005)){\n",
    "    max_PRCP2 = cbind(max_PRCP2,data2[which(data2$YEAR >= year & data2$YEAR < year+10),6])\n",
    "}\n",
    "\n",
    "# name the columns as the first year of the observed 10 year periods\n",
    "colnames(max_PRCP2) = as.character(c(firstYear:2005))\n",
    "\n",
    "# set the missing values to NA\n",
    "max_PRCP2[max_PRCP2==-999] = NA"
   ]
  },
  {
   "cell_type": "code",
   "execution_count": 211,
   "metadata": {
    "collapsed": false
   },
   "outputs": [],
   "source": [
    "means1 = NULL\n",
    "for(i in 1:(length(max_PRCP)-2)){\n",
    "    means1 = c(means1,mean(na.omit(max_PRCP[,i])))\n",
    "}\n",
    "means1TS = ts(means1, start = 1898)"
   ]
  },
  {
   "cell_type": "code",
   "execution_count": 212,
   "metadata": {
    "collapsed": true
   },
   "outputs": [],
   "source": [
    "vars1 = NULL\n",
    "for(i in 1:(length(max_PRCP)-2)){\n",
    "    vars1 = c(vars1,var(na.omit(max_PRCP2[,i])))\n",
    "}\n",
    "vars1TS = ts(vars1, start = 1898)"
   ]
  },
  {
   "cell_type": "code",
   "execution_count": 213,
   "metadata": {
    "collapsed": true
   },
   "outputs": [],
   "source": [
    "means3 = NULL\n",
    "for(i in 1:(length(max_PRCP))){\n",
    "    means3 = c(means3,mean(na.omit(max_PRCP[,i])))\n",
    "}\n",
    "means3TS = ts(means3, start = 1898)"
   ]
  },
  {
   "cell_type": "code",
   "execution_count": 214,
   "metadata": {
    "collapsed": true
   },
   "outputs": [],
   "source": [
    "means2 = NULL\n",
    "for(i in 1:length(max_PRCP2)){\n",
    "    means2 = c(means2,mean(na.omit(max_PRCP2[,i])))\n",
    "}\n",
    "means2TS = ts(means2, start = 1898)"
   ]
  },
  {
   "cell_type": "code",
   "execution_count": 215,
   "metadata": {
    "collapsed": true
   },
   "outputs": [],
   "source": [
    "options(repr.plot.width=5, repr.plot.height=5) #reduces the plot sizes"
   ]
  },
  {
   "cell_type": "code",
   "execution_count": 216,
   "metadata": {
    "collapsed": false
   },
   "outputs": [
    {
     "data": {
      "text/plain": [
       "Time Series:\n",
       "Start = 1898 \n",
       "End = 2005 \n",
       "Frequency = 1 \n",
       "  [1] 17132.24 17677.51 17912.33 19677.28 19770.37 18721.59 16125.19 16460.47\n",
       "  [9] 17512.64 14540.66 14689.79 15050.07 14845.88 15935.55 15455.63 14519.03\n",
       " [17] 14753.16 14319.76 18535.31 18501.20 17857.39 16471.50 16521.46 13537.75\n",
       " [25] 13761.54 14640.60 14634.97 15801.85 11707.51 11468.71 12026.85 11840.48\n",
       " [33] 11595.92 16297.79 15885.14 15293.37 15658.78 18373.73 17304.37 17652.75\n",
       " [41] 16094.08 17579.49 20111.56 15176.31 20985.87 21969.79 25372.25 22826.83\n",
       " [49] 23472.03 22848.96 22830.26 21355.61 21017.81 21669.77 16268.04 15745.51\n",
       " [57] 18597.63 17659.00 19113.17 19469.10 22040.06 22215.61 22316.76 22566.00\n",
       " [65] 22637.99 23726.30 17990.42 17754.49 15277.50 18127.67 18185.35 17935.23\n",
       " [73] 24621.77 25441.96 26969.18 25023.21 24271.05 29196.00 30871.52 29043.74\n",
       " [81] 27469.42 27315.29 18827.34 18181.66 16405.06 21490.26 21483.60 20336.29\n",
       " [89] 18230.95 18051.63 17934.97 18622.73 30068.36 30474.60 32557.70 27551.27\n",
       " [97] 27679.00 24523.59 31476.80 30487.58 30590.05 30349.90 19850.87 19495.36\n",
       "[105] 19264.17 19609.30 20479.45 21505.12"
      ]
     },
     "metadata": {},
     "output_type": "display_data"
    }
   ],
   "source": [
    "vars1TS"
   ]
  },
  {
   "cell_type": "code",
   "execution_count": 217,
   "metadata": {
    "collapsed": false
   },
   "outputs": [
    {
     "data": {
      "text/html": [
       "<table>\n",
       "<thead><tr><th scope=col>1896</th><th scope=col>1897</th><th scope=col>1898</th><th scope=col>1899</th><th scope=col>1900</th><th scope=col>1901</th><th scope=col>1902</th><th scope=col>1903</th><th scope=col>1904</th><th scope=col>1905</th><th scope=col>...</th><th scope=col>1996</th><th scope=col>1997</th><th scope=col>1998</th><th scope=col>1999</th><th scope=col>2000</th><th scope=col>2001</th><th scope=col>2002</th><th scope=col>2003</th><th scope=col>2004</th><th scope=col>2005</th></tr></thead>\n",
       "<tbody>\n",
       "\t<tr><td> 94</td><td> 36</td><td> 20</td><td> 56</td><td> 25</td><td> 33</td><td> 46</td><td> 20</td><td>  5</td><td> 20</td><td>...</td><td> 64</td><td> 51</td><td> 51</td><td> 61</td><td> 20</td><td> 48</td><td> 61</td><td>  8</td><td> 41</td><td> 53</td></tr>\n",
       "\t<tr><td>  5</td><td> 76</td><td> 10</td><td> 99</td><td> 74</td><td> 38</td><td> 20</td><td>147</td><td> 53</td><td> 38</td><td>...</td><td> 18</td><td> 36</td><td> 94</td><td>  3</td><td> 81</td><td> 33</td><td> 41</td><td> 58</td><td> 71</td><td> 51</td></tr>\n",
       "\t<tr><td>107</td><td>251</td><td> 43</td><td>147</td><td>145</td><td>203</td><td>114</td><td>206</td><td> 43</td><td>191</td><td>...</td><td>333</td><td> 43</td><td>465</td><td> 79</td><td>203</td><td> 46</td><td>135</td><td>838</td><td> 71</td><td>150</td></tr>\n",
       "\t<tr><td>170</td><td> 91</td><td> NA</td><td>114</td><td>607</td><td>404</td><td> 64</td><td>173</td><td> 97</td><td>442</td><td>...</td><td> 91</td><td>536</td><td>155</td><td>612</td><td> 43</td><td>267</td><td> 33</td><td>269</td><td>147</td><td>140</td></tr>\n",
       "\t<tr><td>244</td><td> NA</td><td>211</td><td>112</td><td>307</td><td>589</td><td>117</td><td> 56</td><td>767</td><td>305</td><td>...</td><td>343</td><td>157</td><td>218</td><td>127</td><td>208</td><td>229</td><td>315</td><td>414</td><td> 99</td><td>381</td></tr>\n",
       "\t<tr><td>414</td><td> 79</td><td>198</td><td> 91</td><td>130</td><td>371</td><td>259</td><td>124</td><td>102</td><td> 56</td><td>...</td><td>104</td><td>300</td><td>117</td><td>216</td><td>130</td><td> 51</td><td>102</td><td> 56</td><td>216</td><td>246</td></tr>\n",
       "</tbody>\n",
       "</table>\n"
      ],
      "text/latex": [
       "\\begin{tabular}{r|llllllllllllllllllllllllllllllllllllllllllllllllllllllllllllllllllllllllllllllllllllllllllllllllllllllllllllll}\n",
       " 1896 & 1897 & 1898 & 1899 & 1900 & 1901 & 1902 & 1903 & 1904 & 1905 & ... & 1996 & 1997 & 1998 & 1999 & 2000 & 2001 & 2002 & 2003 & 2004 & 2005\\\\\n",
       "\\hline\n",
       "\t  94 &  36 &  20 &  56 &  25 &  33 &  46 &  20 &   5 &  20 & ... &  64 &  51 &  51 &  61 &  20 &  48 &  61 &   8 &  41 &  53\\\\\n",
       "\t   5 &  76 &  10 &  99 &  74 &  38 &  20 & 147 &  53 &  38 & ... &  18 &  36 &  94 &   3 &  81 &  33 &  41 &  58 &  71 &  51\\\\\n",
       "\t 107 & 251 &  43 & 147 & 145 & 203 & 114 & 206 &  43 & 191 & ... & 333 &  43 & 465 &  79 & 203 &  46 & 135 & 838 &  71 & 150\\\\\n",
       "\t 170 &  91 &  NA & 114 & 607 & 404 &  64 & 173 &  97 & 442 & ... &  91 & 536 & 155 & 612 &  43 & 267 &  33 & 269 & 147 & 140\\\\\n",
       "\t 244 &  NA & 211 & 112 & 307 & 589 & 117 &  56 & 767 & 305 & ... & 343 & 157 & 218 & 127 & 208 & 229 & 315 & 414 &  99 & 381\\\\\n",
       "\t 414 &  79 & 198 &  91 & 130 & 371 & 259 & 124 & 102 &  56 & ... & 104 & 300 & 117 & 216 & 130 &  51 & 102 &  56 & 216 & 246\\\\\n",
       "\\end{tabular}\n"
      ],
      "text/plain": [
       "  1896 1897 1898 1899 1900 1901 1902 1903 1904 1905 ... 1996 1997 1998 1999\n",
       "1  94   36   20   56   25   33   46   20    5   20  ...  64   51   51   61 \n",
       "2   5   76   10   99   74   38   20  147   53   38  ...  18   36   94    3 \n",
       "3 107  251   43  147  145  203  114  206   43  191  ... 333   43  465   79 \n",
       "4 170   91   NA  114  607  404   64  173   97  442  ...  91  536  155  612 \n",
       "5 244   NA  211  112  307  589  117   56  767  305  ... 343  157  218  127 \n",
       "6 414   79  198   91  130  371  259  124  102   56  ... 104  300  117  216 \n",
       "  2000 2001 2002 2003 2004 2005\n",
       "1  20   48   61    8   41   53 \n",
       "2  81   33   41   58   71   51 \n",
       "3 203   46  135  838   71  150 \n",
       "4  43  267   33  269  147  140 \n",
       "5 208  229  315  414   99  381 \n",
       "6 130   51  102   56  216  246 "
      ]
     },
     "metadata": {},
     "output_type": "display_data"
    }
   ],
   "source": [
    "head(max_PRCP2)"
   ]
  },
  {
   "cell_type": "code",
   "execution_count": 218,
   "metadata": {
    "collapsed": false
   },
   "outputs": [
    {
     "data": {
      "text/html": [
       "<table>\n",
       "<thead><tr><th scope=col>alpha</th><th scope=col>theta</th><th scope=col>KS</th><th scope=col>KStest</th><th scope=col>CvM</th><th scope=col>CvMtest</th><th scope=col>AD</th><th scope=col>ADtest</th><th scope=col>invTheta</th><th scope=col>mean</th><th scope=col>var</th><th scope=col>sd</th></tr></thead>\n",
       "<tbody>\n",
       "\t<tr><td>0.7702459   </td><td>0.005838670 </td><td>0.11823885  </td><td>not rejected</td><td>0.3945848   </td><td>NA          </td><td>2.578290    </td><td>NA          </td><td>171.2719    </td><td>131.9215    </td><td>22594.44    </td><td>150.3145    </td></tr>\n",
       "\t<tr><td>0.7592384   </td><td>0.005623842 </td><td>0.10957672  </td><td>not rejected</td><td>0.3993983   </td><td>NA          </td><td>2.545615    </td><td>NA          </td><td>177.8144    </td><td>135.0035    </td><td>24005.57    </td><td>154.9373    </td></tr>\n",
       "\t<tr><td>0.7329028   </td><td>0.005426065 </td><td>0.11023874  </td><td>not rejected</td><td>0.3867091   </td><td>NA          </td><td>2.377635    </td><td>NA          </td><td>184.2956    </td><td>135.0708    </td><td>24892.95    </td><td>157.7750    </td></tr>\n",
       "\t<tr><td>0.7228140   </td><td>0.005126209 </td><td>0.10648805  </td><td>not rejected</td><td>0.3718661   </td><td>NA          </td><td>2.266249    </td><td>NA          </td><td>195.0759    </td><td>141.0036    </td><td>27506.41    </td><td>165.8506    </td></tr>\n",
       "\t<tr><td>0.7894197   </td><td>0.005429997 </td><td>0.10174311  </td><td>not rejected</td><td>0.2569872   </td><td>NA          </td><td>1.422317    </td><td>NA          </td><td>184.1622    </td><td>145.3812    </td><td>26773.72    </td><td>163.6268    </td></tr>\n",
       "\t<tr><td>0.7953316   </td><td>0.005407428 </td><td>0.09718581  </td><td>not rejected</td><td>0.2725329   </td><td>NA          </td><td>1.497542    </td><td>NA          </td><td>184.9308    </td><td>147.0813    </td><td>27199.86    </td><td>164.9238    </td></tr>\n",
       "</tbody>\n",
       "</table>\n"
      ],
      "text/latex": [
       "\\begin{tabular}{r|llllllllllll}\n",
       " alpha & theta & KS & KStest & CvM & CvMtest & AD & ADtest & invTheta & mean & var & sd\\\\\n",
       "\\hline\n",
       "\t 0.7702459    & 0.005838670  & 0.11823885   & not rejected & 0.3945848    & NA           & 2.578290     & NA           & 171.2719     & 131.9215     & 22594.44     & 150.3145    \\\\\n",
       "\t 0.7592384    & 0.005623842  & 0.10957672   & not rejected & 0.3993983    & NA           & 2.545615     & NA           & 177.8144     & 135.0035     & 24005.57     & 154.9373    \\\\\n",
       "\t 0.7329028    & 0.005426065  & 0.11023874   & not rejected & 0.3867091    & NA           & 2.377635     & NA           & 184.2956     & 135.0708     & 24892.95     & 157.7750    \\\\\n",
       "\t 0.7228140    & 0.005126209  & 0.10648805   & not rejected & 0.3718661    & NA           & 2.266249     & NA           & 195.0759     & 141.0036     & 27506.41     & 165.8506    \\\\\n",
       "\t 0.7894197    & 0.005429997  & 0.10174311   & not rejected & 0.2569872    & NA           & 1.422317     & NA           & 184.1622     & 145.3812     & 26773.72     & 163.6268    \\\\\n",
       "\t 0.7953316    & 0.005407428  & 0.09718581   & not rejected & 0.2725329    & NA           & 1.497542     & NA           & 184.9308     & 147.0813     & 27199.86     & 164.9238    \\\\\n",
       "\\end{tabular}\n"
      ],
      "text/plain": [
       "  alpha     theta       KS         KStest       CvM       CvMtest AD      \n",
       "1 0.7702459 0.005838670 0.11823885 not rejected 0.3945848 NA      2.578290\n",
       "2 0.7592384 0.005623842 0.10957672 not rejected 0.3993983 NA      2.545615\n",
       "3 0.7329028 0.005426065 0.11023874 not rejected 0.3867091 NA      2.377635\n",
       "4 0.7228140 0.005126209 0.10648805 not rejected 0.3718661 NA      2.266249\n",
       "5 0.7894197 0.005429997 0.10174311 not rejected 0.2569872 NA      1.422317\n",
       "6 0.7953316 0.005407428 0.09718581 not rejected 0.2725329 NA      1.497542\n",
       "  ADtest invTheta mean     var      sd      \n",
       "1 NA     171.2719 131.9215 22594.44 150.3145\n",
       "2 NA     177.8144 135.0035 24005.57 154.9373\n",
       "3 NA     184.2956 135.0708 24892.95 157.7750\n",
       "4 NA     195.0759 141.0036 27506.41 165.8506\n",
       "5 NA     184.1622 145.3812 26773.72 163.6268\n",
       "6 NA     184.9308 147.0813 27199.86 164.9238"
      ]
     },
     "metadata": {},
     "output_type": "display_data"
    }
   ],
   "source": [
    "head(mleGamma)"
   ]
  },
  {
   "cell_type": "code",
   "execution_count": 219,
   "metadata": {
    "collapsed": true
   },
   "outputs": [],
   "source": [
    "mleGam1 = ts(mleGamma$var, start=1898, freq=12)\n",
    "mleGamSD = ts(mleGamma$sd, start=1898, freq=12)"
   ]
  },
  {
   "cell_type": "code",
   "execution_count": 220,
   "metadata": {
    "collapsed": false
   },
   "outputs": [
    {
     "data": {
      "image/png": "[encoded data removed]",
      "text/plain": [
       "plot without title"
      ]
     },
     "metadata": {},
     "output_type": "display_data"
    }
   ],
   "source": [
    "plot(mleGam1,type=\"l\")\n",
    "lines(vars1TS)"
   ]
  },
  {
   "cell_type": "code",
   "execution_count": 221,
   "metadata": {
    "collapsed": false
   },
   "outputs": [
    {
     "data": {
      "image/png": "[encoded data removed]",
      "text/plain": [
       "plot without title"
      ]
     },
     "metadata": {},
     "output_type": "display_data"
    }
   ],
   "source": [
    "plot(mleGamSD,type=\"l\")"
   ]
  },
  {
   "cell_type": "code",
   "execution_count": 222,
   "metadata": {
    "collapsed": false
   },
   "outputs": [
    {
     "data": {
      "image/png": "[encoded data removed]",
      "text/plain": [
       "plot without title"
      ]
     },
     "metadata": {},
     "output_type": "display_data"
    }
   ],
   "source": [
    "#rollSmall = runmean(data$Max.PRCP., 300)\n",
    "plot(vars1TS, type=\"l\", xlab = \"Time (years)\", lwd=1,\n",
    "    ylab = \"Precipitation (1/10mm)\", col = 1)"
   ]
  },
  {
   "cell_type": "markdown",
   "metadata": {
    "collapsed": false
   },
   "source": [
    "setEPS()\n",
    "postscript(\"pics/eventComp1.eps\")\n",
    "plot(smoothTS2, type=\"l\", xlab = \"Time (years)\", lwd=2,\n",
    "    ylab = \"Precipitation (1/10mm)\", col = 4, \n",
    "     #main=\"Smoothed 24 hour max rainfall from 1898 to 2014\"\n",
    "    )\n",
    "#lines(smoothTS3, col=2, lwd=2)\n",
    "lines(smoothTS, col=1, lwd=2)\n",
    "legend(\"topleft\",c(\"TS with event\",\"\", \"TS prior to event\"), lty = c(1,0,1),col=c(4,0,1),\n",
    "      lwd=c(2,0,2), bty=\"n\", cex = 1, pt.cex=1)\n",
    "dev.off()"
   ]
  },
  {
   "cell_type": "code",
   "execution_count": 223,
   "metadata": {
    "collapsed": false
   },
   "outputs": [
    {
     "data": {
      "image/png": "[encoded data removed]",
      "text/plain": [
       "plot without title"
      ]
     },
     "metadata": {},
     "output_type": "display_data"
    }
   ],
   "source": [
    "#rollSmall = runmean(data$Max.PRCP., 300)\n",
    "plot(smoothTS2, type=\"l\", xlab = \"Time (years)\", lwd=2,\n",
    "    ylab = \"Precipitation (1/10mm)\", col = 4, \n",
    "     #main=\"Smoothed 24 hour max rainfall from 1898 to 2014\"\n",
    "    )\n",
    "#lines(smoothTS3, col=2, lwd=2)\n",
    "lines(smoothTS, col=1, lwd=2)\n",
    "legend(\"topleft\",c(\"TS with event\",\"\", \"TS omitted event\",\"\", \"TS prior to event\"), lty = c(1,0,1,0,1),col=c(4,0,2,0,1),\n",
    "      lwd=c(2,0,2,0,2), bty=\"n\", cex = 1, pt.cex=1)"
   ]
  },
  {
   "cell_type": "code",
   "execution_count": 224,
   "metadata": {
    "collapsed": false
   },
   "outputs": [
    {
     "data": {
      "text/html": [
       "144"
      ],
      "text/latex": [
       "144"
      ],
      "text/markdown": [
       "144"
      ],
      "text/plain": [
       "[1] 144"
      ]
     },
     "metadata": {},
     "output_type": "display_data"
    }
   ],
   "source": [
    "length(smoothTS2)-1284"
   ]
  },
  {
   "cell_type": "code",
   "execution_count": 225,
   "metadata": {
    "collapsed": false
   },
   "outputs": [],
   "source": [
    "truncSmoothTS = ts(smoothTS[1284:1320], start=2004, freq=12)\n",
    "truncSmoothTS2 = ts(smoothTS2[1284:length(smoothTS2)], start=2004, freq=12)\n",
    "truncSmoothTS3 = ts(smoothTS3[1284:length(smoothTS3)], start=2004, freq=12)"
   ]
  },
  {
   "cell_type": "markdown",
   "metadata": {
    "collapsed": false
   },
   "source": [
    "setEPS()\n",
    "postscript(\"pics/eventComp2.eps\")\n",
    "#rollSmall = runmean(data$Max.PRCP., 300)\n",
    "plot(truncSmoothTS2, type=\"l\", xlab = \"Time (years)\", lwd=4,\n",
    "    ylab = \"Precipitation (1/10mm)\", col = 4, \n",
    "     #main=\"Smoothed 24 hour max rainfall from 1898 to 2014\"\n",
    "    )\n",
    "lines(truncSmoothTS3, col=2, lwd=3)\n",
    "lines(truncSmoothTS, col=1, lwd=2)\n",
    "legend(\"topleft\",c(\"TS with event\",\"\", \"TS omitted event\",\"\", \"TS prior to event\"), lty = c(1,0,1,0,1),col=c(4,0,2,0,1),\n",
    "      lwd=c(2,0,2,0,2), bty=\"n\", cex = 1, pt.cex=1)\n",
    "dev.off()"
   ]
  },
  {
   "cell_type": "code",
   "execution_count": 226,
   "metadata": {
    "collapsed": false
   },
   "outputs": [
    {
     "data": {
      "image/png": "[encoded data removed]",
      "text/plain": [
       "plot without title"
      ]
     },
     "metadata": {},
     "output_type": "display_data"
    }
   ],
   "source": [
    "#rollSmall = runmean(data$Max.PRCP., 300)\n",
    "plot(truncSmoothTS2, type=\"l\", xlab = \"Time (years)\", lwd=4,\n",
    "    ylab = \"Max Precipitation (1/10mm)\", col = 4, \n",
    "     #main=\"Smoothed 24 hour max rainfall from 1898 to 2014\"\n",
    "    )\n",
    "lines(truncSmoothTS3, col=2, lwd=3)\n",
    "lines(truncSmoothTS, col=1, lwd=2)\n",
    "legend(\"topleft\",c(\"TS with event\",\"\", \"TS omitted event\",\"\", \"TS prior to event\"), lty = c(1,0,1,0,1),col=c(4,0,2,0,1),\n",
    "      lwd=c(2,0,2,0,2), bty=\"n\", cex = 1, pt.cex=1)"
   ]
  },
  {
   "cell_type": "code",
   "execution_count": 290,
   "metadata": {
    "collapsed": false
   },
   "outputs": [
    {
     "data": {
      "image/png": "[encoded data removed]",
      "text/plain": [
       "Plot with title \"Smoothed 24 hour max rainfall from 1898 to 2014\""
      ]
     },
     "metadata": {},
     "output_type": "display_data"
    }
   ],
   "source": [
    "#rollSmall = runmean(data$Max.PRCP., 300)\n",
    "plot(means2[85:length(means2)], type=\"l\", xlab = \"Time (years)\", lwd=2,\n",
    "    ylab = \"Max Precipitation (1/10mm)\", col = 2, main=\"Smoothed 24 hour max rainfall from 1898 to 2014\",   ylim=c(170,195))\n",
    "lines(means3[85:length(means2)], col=4, lwd=2)\n",
    "lines(means1[85:length(means2)], col=1, lwd=3)"
   ]
  },
  {
   "cell_type": "code",
   "execution_count": 291,
   "metadata": {
    "collapsed": true
   },
   "outputs": [],
   "source": [
    "smoothALL = runmean(data2$Max.PRCP., 1404/2)"
   ]
  },
  {
   "cell_type": "code",
   "execution_count": 229,
   "metadata": {
    "collapsed": true
   },
   "outputs": [],
   "source": [
    "smoothAllTS = ts(smoothALL, start=1898, freq = 12)"
   ]
  },
  {
   "cell_type": "code",
   "execution_count": 230,
   "metadata": {
    "collapsed": false
   },
   "outputs": [
    {
     "data": {
      "image/png": "[encoded data removed]",
      "text/plain": [
       "plot without title"
      ]
     },
     "metadata": {},
     "output_type": "display_data"
    }
   ],
   "source": [
    "plot(smoothAllTS, type=\"l\")"
   ]
  },
  {
   "cell_type": "code",
   "execution_count": 231,
   "metadata": {
    "collapsed": true
   },
   "outputs": [],
   "source": [
    "smoothALLEvent = runmean(data$Max.PRCP., 1404/2)"
   ]
  },
  {
   "cell_type": "code",
   "execution_count": 232,
   "metadata": {
    "collapsed": true
   },
   "outputs": [],
   "source": [
    "smoothAllEventTS = ts(smoothALLEvent, start = 1898, freq = 12)"
   ]
  },
  {
   "cell_type": "markdown",
   "metadata": {
    "collapsed": false
   },
   "source": [
    "setEPS()\n",
    "postscript(\"pics/longTerm.eps\")\n",
    "plot(smoothAllEventTS, type=\"l\", col=\"blue\", ylab=\"Smoothed Precipitation (1/10mm)\", xlab=\"Time (years)\")\n",
    "lines(smoothAllTS)\n",
    "legend(\"topleft\",c(\"Smoothing with Event\",\"\", \"Smoothing without Event\"), col = c(4,0,1),, lty=c(1,0,1), bty=\"n\")\n",
    "dev.off()"
   ]
  },
  {
   "cell_type": "code",
   "execution_count": 233,
   "metadata": {
    "collapsed": false
   },
   "outputs": [
    {
     "data": {
      "text/html": [
       "1428"
      ],
      "text/latex": [
       "1428"
      ],
      "text/markdown": [
       "1428"
      ],
      "text/plain": [
       "[1] 1428"
      ]
     },
     "metadata": {},
     "output_type": "display_data"
    }
   ],
   "source": [
    "length(smoothAllTS)"
   ]
  },
  {
   "cell_type": "code",
   "execution_count": 234,
   "metadata": {
    "collapsed": false
   },
   "outputs": [
    {
     "data": {
      "text/html": [
       "702"
      ],
      "text/latex": [
       "702"
      ],
      "text/markdown": [
       "702"
      ],
      "text/plain": [
       "[1] 702"
      ]
     },
     "metadata": {},
     "output_type": "display_data"
    }
   ],
   "source": [
    "1404/2"
   ]
  },
  {
   "cell_type": "code",
   "execution_count": 235,
   "metadata": {
    "collapsed": false
   },
   "outputs": [
    {
     "data": {
      "image/png": "[encoded data removed]",
      "text/plain": [
       "plot without title"
      ]
     },
     "metadata": {},
     "output_type": "display_data"
    }
   ],
   "source": [
    "plot(smoothAllEventTS, type=\"l\", col=\"blue\", ylab=\"Smoothed Precipitation (1/10mm)\", xlab=\"Time (years)\")\n",
    "lines(smoothAllTS)\n",
    "legend(\"topleft\",c(\"Smoothing with Event\",\"\", \"Smoothing without Event\"), col = c(4,0,1),, lty=c(1,0,1), bty=\"n\")"
   ]
  },
  {
   "cell_type": "code",
   "execution_count": 236,
   "metadata": {
    "collapsed": false
   },
   "outputs": [
    {
     "data": {
      "image/png": "[encoded data removed]",
      "text/plain": [
       "Plot with title \"Smoothed 24 hour max rainfall from 1898 to 2014\""
      ]
     },
     "metadata": {},
     "output_type": "display_data"
    }
   ],
   "source": [
    "#rollSmall = runmean(data$Max.PRCP., 300)\n",
    "plot(means1TS[70:90], type=\"l\", xlab = \"Time (years)\", lwd=2,\n",
    "    ylab = \"Max Precipitation (1/10mm)\", col = 2, main=\"Smoothed 24 hour max rainfall from 1898 to 2014\")"
   ]
  },
  {
   "cell_type": "code",
   "execution_count": 237,
   "metadata": {
    "collapsed": false
   },
   "outputs": [
    {
     "data": {
      "text/plain": [
       "Time Series:\n",
       "Start = 1898 \n",
       "End = 2005 \n",
       "Frequency = 1 \n",
       "  [1] 131.8870 135.0172 135.0598 141.0000 145.3644 147.0932 139.4153 145.1345\n",
       "  [9] 147.9076 145.6891 148.6975 146.1681 144.4370 148.0417 140.5417 135.0917\n",
       " [17] 137.6083 129.6917 141.7583 137.7167 132.7417 133.2417 136.4583 128.1667\n",
       " [25] 130.7083 131.8500 128.1500 131.1833 118.9500 118.5167 118.8083 115.4083\n",
       " [33] 114.6167 119.9333 114.6833 114.1500 117.8750 126.3250 122.1417 124.5917\n",
       " [41] 122.6583 125.3667 130.1750 123.2583 135.9250 136.8250 142.6833 133.3500\n",
       " [49] 137.7583 135.6333 136.7167 133.5750 131.6833 135.3333 127.6583 127.4833\n",
       " [57] 134.2773 134.2521 134.2773 134.8487 137.2605 134.2773 138.3109 137.2521\n",
       " [65] 141.9748 146.5508 132.0504 129.5630 126.3814 132.4407 136.6017 139.8390\n",
       " [73] 135.8559 135.5424 141.4068 137.6723 139.3109 149.6017 157.6271 157.4576\n",
       " [81] 153.7034 154.4153 152.8475 156.9831 147.7542 154.7712 151.5678 152.9664\n",
       " [89] 148.7750 148.5583 144.0083 143.9250 158.2167 159.6833 165.3250 157.9583\n",
       " [97] 156.1917 144.4583 151.1000 149.9833 152.2333 151.7250 139.5167 135.3583\n",
       "[105] 136.3250 137.3750 146.1167 147.5833"
      ]
     },
     "metadata": {},
     "output_type": "display_data"
    }
   ],
   "source": [
    "means1TS"
   ]
  },
  {
   "cell_type": "code",
   "execution_count": 238,
   "metadata": {
    "collapsed": false
   },
   "outputs": [
    {
     "data": {
      "text/html": [
       "153.703389830508"
      ],
      "text/latex": [
       "153.703389830508"
      ],
      "text/markdown": [
       "153.703389830508"
      ],
      "text/plain": [
       "[1] 153.7034"
      ]
     },
     "metadata": {},
     "output_type": "display_data"
    }
   ],
   "source": [
    "means1TS[81]"
   ]
  },
  {
   "cell_type": "code",
   "execution_count": 239,
   "metadata": {
    "collapsed": true
   },
   "outputs": [],
   "source": [
    "data1st = data[which(data$YEAR<=1981),]\n",
    "data2nd = data[-which(data$YEAR<=1981),]"
   ]
  },
  {
   "cell_type": "code",
   "execution_count": 240,
   "metadata": {
    "collapsed": false
   },
   "outputs": [],
   "source": [
    "mean1sthalf = mean(na.omit(data1st$Max.PRCP.))\n",
    "v1 = var(na.omit(data1st$Max.PRCP.))\n",
    "mean2ndhalf = mean(na.omit(data2nd$Max.PRCP.))\n",
    "v2 = var(na.omit(data2nd$Max.PRCP.))"
   ]
  },
  {
   "cell_type": "code",
   "execution_count": 241,
   "metadata": {
    "collapsed": false
   },
   "outputs": [
    {
     "data": {
      "text/html": [
       "<ol class=list-inline>\n",
       "\t<li>1896</li>\n",
       "\t<li>1897</li>\n",
       "\t<li>1898</li>\n",
       "\t<li>1899</li>\n",
       "\t<li>1900</li>\n",
       "\t<li>1901</li>\n",
       "\t<li>1902</li>\n",
       "\t<li>1903</li>\n",
       "\t<li>1904</li>\n",
       "\t<li>1905</li>\n",
       "\t<li>1906</li>\n",
       "\t<li>1907</li>\n",
       "\t<li>1908</li>\n",
       "\t<li>1909</li>\n",
       "\t<li>1910</li>\n",
       "\t<li>1911</li>\n",
       "\t<li>1912</li>\n",
       "\t<li>1913</li>\n",
       "\t<li>1914</li>\n",
       "\t<li>1915</li>\n",
       "\t<li>1916</li>\n",
       "\t<li>1917</li>\n",
       "\t<li>1918</li>\n",
       "\t<li>1919</li>\n",
       "\t<li>1920</li>\n",
       "\t<li>1921</li>\n",
       "\t<li>1922</li>\n",
       "\t<li>1923</li>\n",
       "\t<li>1924</li>\n",
       "\t<li>1925</li>\n",
       "\t<li>1926</li>\n",
       "\t<li>1927</li>\n",
       "\t<li>1928</li>\n",
       "\t<li>1929</li>\n",
       "\t<li>1930</li>\n",
       "\t<li>1931</li>\n",
       "\t<li>1932</li>\n",
       "\t<li>1933</li>\n",
       "\t<li>1934</li>\n",
       "\t<li>1935</li>\n",
       "\t<li>1936</li>\n",
       "\t<li>1937</li>\n",
       "\t<li>1938</li>\n",
       "\t<li>1939</li>\n",
       "\t<li>1940</li>\n",
       "\t<li>1941</li>\n",
       "\t<li>1942</li>\n",
       "\t<li>1943</li>\n",
       "\t<li>1944</li>\n",
       "\t<li>1945</li>\n",
       "\t<li>1946</li>\n",
       "\t<li>1947</li>\n",
       "\t<li>1948</li>\n",
       "\t<li>1949</li>\n",
       "\t<li>1950</li>\n",
       "\t<li>1951</li>\n",
       "\t<li>1952</li>\n",
       "\t<li>1953</li>\n",
       "\t<li>1954</li>\n",
       "\t<li>1955</li>\n",
       "\t<li>1956</li>\n",
       "\t<li>1957</li>\n",
       "\t<li>1958</li>\n",
       "\t<li>1959</li>\n",
       "\t<li>1960</li>\n",
       "\t<li>1961</li>\n",
       "\t<li>1962</li>\n",
       "\t<li>1963</li>\n",
       "\t<li>1964</li>\n",
       "\t<li>1965</li>\n",
       "\t<li>1966</li>\n",
       "\t<li>1967</li>\n",
       "\t<li>1968</li>\n",
       "\t<li>1969</li>\n",
       "\t<li>1970</li>\n",
       "\t<li>1971</li>\n",
       "\t<li>1972</li>\n",
       "\t<li>1973</li>\n",
       "\t<li>1974</li>\n",
       "\t<li>1975</li>\n",
       "\t<li>1976</li>\n",
       "\t<li>1977</li>\n",
       "\t<li>1978</li>\n",
       "\t<li>1979</li>\n",
       "\t<li>1980</li>\n",
       "\t<li>1981</li>\n",
       "</ol>\n"
      ],
      "text/latex": [
       "\\begin{enumerate*}\n",
       "\\item 1896\n",
       "\\item 1897\n",
       "\\item 1898\n",
       "\\item 1899\n",
       "\\item 1900\n",
       "\\item 1901\n",
       "\\item 1902\n",
       "\\item 1903\n",
       "\\item 1904\n",
       "\\item 1905\n",
       "\\item 1906\n",
       "\\item 1907\n",
       "\\item 1908\n",
       "\\item 1909\n",
       "\\item 1910\n",
       "\\item 1911\n",
       "\\item 1912\n",
       "\\item 1913\n",
       "\\item 1914\n",
       "\\item 1915\n",
       "\\item 1916\n",
       "\\item 1917\n",
       "\\item 1918\n",
       "\\item 1919\n",
       "\\item 1920\n",
       "\\item 1921\n",
       "\\item 1922\n",
       "\\item 1923\n",
       "\\item 1924\n",
       "\\item 1925\n",
       "\\item 1926\n",
       "\\item 1927\n",
       "\\item 1928\n",
       "\\item 1929\n",
       "\\item 1930\n",
       "\\item 1931\n",
       "\\item 1932\n",
       "\\item 1933\n",
       "\\item 1934\n",
       "\\item 1935\n",
       "\\item 1936\n",
       "\\item 1937\n",
       "\\item 1938\n",
       "\\item 1939\n",
       "\\item 1940\n",
       "\\item 1941\n",
       "\\item 1942\n",
       "\\item 1943\n",
       "\\item 1944\n",
       "\\item 1945\n",
       "\\item 1946\n",
       "\\item 1947\n",
       "\\item 1948\n",
       "\\item 1949\n",
       "\\item 1950\n",
       "\\item 1951\n",
       "\\item 1952\n",
       "\\item 1953\n",
       "\\item 1954\n",
       "\\item 1955\n",
       "\\item 1956\n",
       "\\item 1957\n",
       "\\item 1958\n",
       "\\item 1959\n",
       "\\item 1960\n",
       "\\item 1961\n",
       "\\item 1962\n",
       "\\item 1963\n",
       "\\item 1964\n",
       "\\item 1965\n",
       "\\item 1966\n",
       "\\item 1967\n",
       "\\item 1968\n",
       "\\item 1969\n",
       "\\item 1970\n",
       "\\item 1971\n",
       "\\item 1972\n",
       "\\item 1973\n",
       "\\item 1974\n",
       "\\item 1975\n",
       "\\item 1976\n",
       "\\item 1977\n",
       "\\item 1978\n",
       "\\item 1979\n",
       "\\item 1980\n",
       "\\item 1981\n",
       "\\end{enumerate*}\n"
      ],
      "text/markdown": [
       "1. 1896\n",
       "2. 1897\n",
       "3. 1898\n",
       "4. 1899\n",
       "5. 1900\n",
       "6. 1901\n",
       "7. 1902\n",
       "8. 1903\n",
       "9. 1904\n",
       "10. 1905\n",
       "11. 1906\n",
       "12. 1907\n",
       "13. 1908\n",
       "14. 1909\n",
       "15. 1910\n",
       "16. 1911\n",
       "17. 1912\n",
       "18. 1913\n",
       "19. 1914\n",
       "20. 1915\n",
       "21. 1916\n",
       "22. 1917\n",
       "23. 1918\n",
       "24. 1919\n",
       "25. 1920\n",
       "26. 1921\n",
       "27. 1922\n",
       "28. 1923\n",
       "29. 1924\n",
       "30. 1925\n",
       "31. 1926\n",
       "32. 1927\n",
       "33. 1928\n",
       "34. 1929\n",
       "35. 1930\n",
       "36. 1931\n",
       "37. 1932\n",
       "38. 1933\n",
       "39. 1934\n",
       "40. 1935\n",
       "41. 1936\n",
       "42. 1937\n",
       "43. 1938\n",
       "44. 1939\n",
       "45. 1940\n",
       "46. 1941\n",
       "47. 1942\n",
       "48. 1943\n",
       "49. 1944\n",
       "50. 1945\n",
       "51. 1946\n",
       "52. 1947\n",
       "53. 1948\n",
       "54. 1949\n",
       "55. 1950\n",
       "56. 1951\n",
       "57. 1952\n",
       "58. 1953\n",
       "59. 1954\n",
       "60. 1955\n",
       "61. 1956\n",
       "62. 1957\n",
       "63. 1958\n",
       "64. 1959\n",
       "65. 1960\n",
       "66. 1961\n",
       "67. 1962\n",
       "68. 1963\n",
       "69. 1964\n",
       "70. 1965\n",
       "71. 1966\n",
       "72. 1967\n",
       "73. 1968\n",
       "74. 1969\n",
       "75. 1970\n",
       "76. 1971\n",
       "77. 1972\n",
       "78. 1973\n",
       "79. 1974\n",
       "80. 1975\n",
       "81. 1976\n",
       "82. 1977\n",
       "83. 1978\n",
       "84. 1979\n",
       "85. 1980\n",
       "86. 1981\n",
       "\n",
       "\n"
      ],
      "text/plain": [
       " [1] 1896 1897 1898 1899 1900 1901 1902 1903 1904 1905 1906 1907 1908 1909 1910\n",
       "[16] 1911 1912 1913 1914 1915 1916 1917 1918 1919 1920 1921 1922 1923 1924 1925\n",
       "[31] 1926 1927 1928 1929 1930 1931 1932 1933 1934 1935 1936 1937 1938 1939 1940\n",
       "[46] 1941 1942 1943 1944 1945 1946 1947 1948 1949 1950 1951 1952 1953 1954 1955\n",
       "[61] 1956 1957 1958 1959 1960 1961 1962 1963 1964 1965 1966 1967 1968 1969 1970\n",
       "[76] 1971 1972 1973 1974 1975 1976 1977 1978 1979 1980 1981"
      ]
     },
     "metadata": {},
     "output_type": "display_data"
    }
   ],
   "source": [
    "unique(data1st$YEAR)"
   ]
  },
  {
   "cell_type": "code",
   "execution_count": 242,
   "metadata": {
    "collapsed": true
   },
   "outputs": [],
   "source": [
    "anotherTS = smoothTS"
   ]
  },
  {
   "cell_type": "code",
   "execution_count": 243,
   "metadata": {
    "collapsed": false
   },
   "outputs": [],
   "source": [
    "require(changepoint)"
   ]
  },
  {
   "cell_type": "code",
   "execution_count": 244,
   "metadata": {
    "collapsed": true
   },
   "outputs": [],
   "source": [
    "cpTest = sort(smoothTS)"
   ]
  },
  {
   "cell_type": "code",
   "execution_count": 245,
   "metadata": {
    "collapsed": false
   },
   "outputs": [
    {
     "data": {
      "text/html": [
       "136.525"
      ],
      "text/latex": [
       "136.525"
      ],
      "text/markdown": [
       "136.525"
      ],
      "text/plain": [
       "[1] 136.525"
      ]
     },
     "metadata": {},
     "output_type": "display_data"
    }
   ],
   "source": [
    "cpTest[652]"
   ]
  },
  {
   "cell_type": "code",
   "execution_count": 246,
   "metadata": {
    "collapsed": false
   },
   "outputs": [
    {
     "data": {
      "text/html": [
       "<ol class=list-inline>\n",
       "\t<li>136.428571428571</li>\n",
       "\t<li>136.458333333333</li>\n",
       "\t<li>136.466666666667</li>\n",
       "\t<li>136.466666666667</li>\n",
       "\t<li>136.475</li>\n",
       "\t<li>136.478991596639</li>\n",
       "\t<li>136.507936507937</li>\n",
       "\t<li>136.525</li>\n",
       "\t<li>136.533333333333</li>\n",
       "\t<li>136.583333333333</li>\n",
       "\t<li>136.584745762712</li>\n",
       "\t<li>136.588235294118</li>\n",
       "\t<li>136.591666666667</li>\n",
       "\t<li>136.601694915254</li>\n",
       "\t<li>136.65</li>\n",
       "\t<li>136.675</li>\n",
       "\t<li>136.716666666667</li>\n",
       "\t<li>136.775</li>\n",
       "\t<li>136.790322580645</li>\n",
       "\t<li>136.8</li>\n",
       "\t<li>136.825</li>\n",
       "\t<li>136.833333333333</li>\n",
       "\t<li>136.908333333333</li>\n",
       "\t<li>136.924369747899</li>\n",
       "\t<li>136.925</li>\n",
       "\t<li>136.941176470588</li>\n",
       "\t<li>136.941666666667</li>\n",
       "\t<li>136.958333333333</li>\n",
       "\t<li>136.991452991453</li>\n",
       "\t<li>137.008474576271</li>\n",
       "\t<li>137.033613445378</li>\n",
       "\t<li>137.042372881356</li>\n",
       "\t<li>137.058333333333</li>\n",
       "\t<li>137.0625</li>\n",
       "\t<li>137.075</li>\n",
       "\t<li>137.09243697479</li>\n",
       "</ol>\n"
      ],
      "text/latex": [
       "\\begin{enumerate*}\n",
       "\\item 136.428571428571\n",
       "\\item 136.458333333333\n",
       "\\item 136.466666666667\n",
       "\\item 136.466666666667\n",
       "\\item 136.475\n",
       "\\item 136.478991596639\n",
       "\\item 136.507936507937\n",
       "\\item 136.525\n",
       "\\item 136.533333333333\n",
       "\\item 136.583333333333\n",
       "\\item 136.584745762712\n",
       "\\item 136.588235294118\n",
       "\\item 136.591666666667\n",
       "\\item 136.601694915254\n",
       "\\item 136.65\n",
       "\\item 136.675\n",
       "\\item 136.716666666667\n",
       "\\item 136.775\n",
       "\\item 136.790322580645\n",
       "\\item 136.8\n",
       "\\item 136.825\n",
       "\\item 136.833333333333\n",
       "\\item 136.908333333333\n",
       "\\item 136.924369747899\n",
       "\\item 136.925\n",
       "\\item 136.941176470588\n",
       "\\item 136.941666666667\n",
       "\\item 136.958333333333\n",
       "\\item 136.991452991453\n",
       "\\item 137.008474576271\n",
       "\\item 137.033613445378\n",
       "\\item 137.042372881356\n",
       "\\item 137.058333333333\n",
       "\\item 137.0625\n",
       "\\item 137.075\n",
       "\\item 137.09243697479\n",
       "\\end{enumerate*}\n"
      ],
      "text/markdown": [
       "1. 136.428571428571\n",
       "2. 136.458333333333\n",
       "3. 136.466666666667\n",
       "4. 136.466666666667\n",
       "5. 136.475\n",
       "6. 136.478991596639\n",
       "7. 136.507936507937\n",
       "8. 136.525\n",
       "9. 136.533333333333\n",
       "10. 136.583333333333\n",
       "11. 136.584745762712\n",
       "12. 136.588235294118\n",
       "13. 136.591666666667\n",
       "14. 136.601694915254\n",
       "15. 136.65\n",
       "16. 136.675\n",
       "17. 136.716666666667\n",
       "18. 136.775\n",
       "19. 136.790322580645\n",
       "20. 136.8\n",
       "21. 136.825\n",
       "22. 136.833333333333\n",
       "23. 136.908333333333\n",
       "24. 136.924369747899\n",
       "25. 136.925\n",
       "26. 136.941176470588\n",
       "27. 136.941666666667\n",
       "28. 136.958333333333\n",
       "29. 136.991452991453\n",
       "30. 137.008474576271\n",
       "31. 137.033613445378\n",
       "32. 137.042372881356\n",
       "33. 137.058333333333\n",
       "34. 137.0625\n",
       "35. 137.075\n",
       "36. 137.09243697479\n",
       "\n",
       "\n"
      ],
      "text/plain": [
       " [1] 136.4286 136.4583 136.4667 136.4667 136.4750 136.4790 136.5079 136.5250\n",
       " [9] 136.5333 136.5833 136.5847 136.5882 136.5917 136.6017 136.6500 136.6750\n",
       "[17] 136.7167 136.7750 136.7903 136.8000 136.8250 136.8333 136.9083 136.9244\n",
       "[25] 136.9250 136.9412 136.9417 136.9583 136.9915 137.0085 137.0336 137.0424\n",
       "[33] 137.0583 137.0625 137.0750 137.0924"
      ]
     },
     "metadata": {},
     "output_type": "display_data"
    }
   ],
   "source": [
    "cpTest[645:680]"
   ]
  },
  {
   "cell_type": "code",
   "execution_count": 247,
   "metadata": {
    "collapsed": false
   },
   "outputs": [
    {
     "data": {
      "text/plain": [
       "Class 'cpt' : Changepoint Object\n",
       "       ~~   : S4 class containing 12 slots with names\n",
       "              date version data.set cpttype method test.stat pen.type pen.value minseglen cpts ncpts.max param.est \n",
       "\n",
       "Created on  : Tue Sep 13 17:22:34 2016 \n",
       "\n",
       "summary(.)  :\n",
       "----------\n",
       "Created Using changepoint version 2.2.1 \n",
       "Changepoint type      : Change in mean \n",
       "Method of analysis    : AMOC \n",
       "Test Statistic  : Normal \n",
       "Type of penalty       : MBIC with value, 21.74124 \n",
       "Minimum Segment Length : 1 \n",
       "Maximum no. of cpts   : 1 \n",
       "Changepoint Locations : 840 "
      ]
     },
     "metadata": {},
     "output_type": "display_data"
    }
   ],
   "source": [
    "cpt.mean(cpTest)"
   ]
  },
  {
   "cell_type": "code",
   "execution_count": 248,
   "metadata": {
    "collapsed": false
   },
   "outputs": [
    {
     "data": {
      "text/plain": [
       "Class 'cpt' : Changepoint Object\n",
       "       ~~   : S4 class containing 12 slots with names\n",
       "              date version data.set cpttype method test.stat pen.type pen.value minseglen cpts ncpts.max param.est \n",
       "\n",
       "Created on  : Tue Sep 13 17:22:34 2016 \n",
       "\n",
       "summary(.)  :\n",
       "----------\n",
       "Created Using changepoint version 2.2.1 \n",
       "Changepoint type      : Change in mean \n",
       "Method of analysis    : AMOC \n",
       "Test Statistic  : Normal \n",
       "Type of penalty       : MBIC with value, 21.74124 \n",
       "Minimum Segment Length : 1 \n",
       "Maximum no. of cpts   : 1 \n",
       "Changepoint Locations : 976 "
      ]
     },
     "metadata": {},
     "output_type": "display_data"
    }
   ],
   "source": [
    "cpt.mean(anotherTS)"
   ]
  },
  {
   "cell_type": "markdown",
   "metadata": {
    "collapsed": false
   },
   "source": [
    "setEPS()\n",
    "postscript(\"pics/qq1.eps\")\n",
    "qqnorm(smoothTS);qqline(smoothTS)\n",
    "dev.off()"
   ]
  },
  {
   "cell_type": "code",
   "execution_count": 249,
   "metadata": {
    "collapsed": false
   },
   "outputs": [
    {
     "data": {
      "text/plain": [
       "\n",
       "\tShapiro-Wilk normality test\n",
       "\n",
       "data:  smoothTS\n",
       "W = 0.99083, p-value = 1.096e-07\n"
      ]
     },
     "metadata": {},
     "output_type": "display_data"
    }
   ],
   "source": [
    "shapiro.test(smoothTS)"
   ]
  },
  {
   "cell_type": "code",
   "execution_count": 250,
   "metadata": {
    "collapsed": false
   },
   "outputs": [
    {
     "data": {
      "image/png": "[encoded data removed]",
      "text/plain": [
       "Plot with title \"Normal Q-Q Plot\""
      ]
     },
     "metadata": {},
     "output_type": "display_data"
    }
   ],
   "source": [
    "qqnorm(smoothTS);qqline(smoothTS)"
   ]
  },
  {
   "cell_type": "markdown",
   "metadata": {
    "collapsed": false
   },
   "source": [
    "setEPS()\n",
    "postscript(\"pics/tri.eps\")\n",
    "hist(smoothTS,breaks=40,xlab=\"Precipitation (1/10mm)\", main=\"\")\n",
    "dev.off()"
   ]
  },
  {
   "cell_type": "code",
   "execution_count": 251,
   "metadata": {
    "collapsed": false
   },
   "outputs": [
    {
     "data": {
      "image/png": "[encoded data removed]",
      "text/plain": [
       "Plot with title \"Histogram of smoothTS\""
      ]
     },
     "metadata": {},
     "output_type": "display_data"
    }
   ],
   "source": [
    "hist(smoothTS,breaks=40)"
   ]
  },
  {
   "cell_type": "code",
   "execution_count": 252,
   "metadata": {
    "collapsed": false
   },
   "outputs": [
    {
     "data": {
      "text/html": [
       "<ol class=list-inline>\n",
       "\t<li>158.296610169492</li>\n",
       "\t<li>159.050847457627</li>\n",
       "\t<li>161.78813559322</li>\n",
       "\t<li>163.008474576271</li>\n",
       "\t<li>158.338983050847</li>\n",
       "\t<li>158.677966101695</li>\n",
       "\t<li>158.728813559322</li>\n",
       "\t<li>157.525423728814</li>\n",
       "\t<li>158</li>\n",
       "\t<li>157.177966101695</li>\n",
       "\t<li>157.457627118644</li>\n",
       "\t<li>157.720338983051</li>\n",
       "\t<li>157.398305084746</li>\n",
       "</ol>\n"
      ],
      "text/latex": [
       "\\begin{enumerate*}\n",
       "\\item 158.296610169492\n",
       "\\item 159.050847457627\n",
       "\\item 161.78813559322\n",
       "\\item 163.008474576271\n",
       "\\item 158.338983050847\n",
       "\\item 158.677966101695\n",
       "\\item 158.728813559322\n",
       "\\item 157.525423728814\n",
       "\\item 158\n",
       "\\item 157.177966101695\n",
       "\\item 157.457627118644\n",
       "\\item 157.720338983051\n",
       "\\item 157.398305084746\n",
       "\\end{enumerate*}\n"
      ],
      "text/markdown": [
       "1. 158.296610169492\n",
       "2. 159.050847457627\n",
       "3. 161.78813559322\n",
       "4. 163.008474576271\n",
       "5. 158.338983050847\n",
       "6. 158.677966101695\n",
       "7. 158.728813559322\n",
       "8. 157.525423728814\n",
       "9. 158\n",
       "10. 157.177966101695\n",
       "11. 157.457627118644\n",
       "12. 157.720338983051\n",
       "13. 157.398305084746\n",
       "\n",
       "\n"
      ],
      "text/plain": [
       " [1] 158.2966 159.0508 161.7881 163.0085 158.3390 158.6780 158.7288 157.5254\n",
       " [9] 158.0000 157.1780 157.4576 157.7203 157.3983"
      ]
     },
     "metadata": {},
     "output_type": "display_data"
    }
   ],
   "source": [
    "smoothTS[998:1010]"
   ]
  },
  {
   "cell_type": "code",
   "execution_count": 253,
   "metadata": {
    "collapsed": false
   },
   "outputs": [
    {
     "data": {
      "text/html": [
       "<ol class=list-inline>\n",
       "\t<li>158.296610169492</li>\n",
       "\t<li>159.050847457627</li>\n",
       "\t<li>161.78813559322</li>\n",
       "\t<li>163.008474576271</li>\n",
       "\t<li>158.338983050847</li>\n",
       "</ol>\n"
      ],
      "text/latex": [
       "\\begin{enumerate*}\n",
       "\\item 158.296610169492\n",
       "\\item 159.050847457627\n",
       "\\item 161.78813559322\n",
       "\\item 163.008474576271\n",
       "\\item 158.338983050847\n",
       "\\end{enumerate*}\n"
      ],
      "text/markdown": [
       "1. 158.296610169492\n",
       "2. 159.050847457627\n",
       "3. 161.78813559322\n",
       "4. 163.008474576271\n",
       "5. 158.338983050847\n",
       "\n",
       "\n"
      ],
      "text/plain": [
       "[1] 158.2966 159.0508 161.7881 163.0085 158.3390"
      ]
     },
     "metadata": {},
     "output_type": "display_data"
    }
   ],
   "source": [
    "anotherTS[998:1002]"
   ]
  },
  {
   "cell_type": "code",
   "execution_count": 254,
   "metadata": {
    "collapsed": false
   },
   "outputs": [
    {
     "data": {
      "text/html": [
       "83"
      ],
      "text/latex": [
       "83"
      ],
      "text/markdown": [
       "83"
      ],
      "text/plain": [
       "[1] 83"
      ]
     },
     "metadata": {},
     "output_type": "display_data"
    }
   ],
   "source": [
    "996/12"
   ]
  },
  {
   "cell_type": "code",
   "execution_count": 255,
   "metadata": {
    "collapsed": false
   },
   "outputs": [
    {
     "data": {
      "text/html": [
       "1980"
      ],
      "text/latex": [
       "1980"
      ],
      "text/markdown": [
       "1980"
      ],
      "text/plain": [
       "[1] 1980"
      ]
     },
     "metadata": {},
     "output_type": "display_data"
    }
   ],
   "source": [
    "1897+83"
   ]
  },
  {
   "cell_type": "code",
   "execution_count": 256,
   "metadata": {
    "collapsed": false
   },
   "outputs": [
    {
     "data": {
      "text/html": [
       "117"
      ],
      "text/latex": [
       "117"
      ],
      "text/markdown": [
       "117"
      ],
      "text/plain": [
       "[1] 117"
      ]
     },
     "metadata": {},
     "output_type": "display_data"
    }
   ],
   "source": [
    "length(smoothTS)/12"
   ]
  },
  {
   "cell_type": "code",
   "execution_count": 257,
   "metadata": {
    "collapsed": true
   },
   "outputs": [],
   "source": [
    "anotherTS[1:1007] = mean1sthalf\n",
    "anotherTS[1008:length(smoothTS)] = mean2ndhalf"
   ]
  },
  {
   "cell_type": "code",
   "execution_count": 258,
   "metadata": {
    "collapsed": false
   },
   "outputs": [
    {
     "data": {
      "image/png": "[encoded data removed]",
      "text/plain": [
       "plot without title"
      ]
     },
     "metadata": {},
     "output_type": "display_data"
    }
   ],
   "source": [
    "plot(anotherTS)"
   ]
  },
  {
   "cell_type": "code",
   "execution_count": 259,
   "metadata": {
    "collapsed": false
   },
   "outputs": [
    {
     "data": {
      "image/png": "[encoded data removed]",
      "text/plain": [
       "Plot with title \"Smoothed 24 hour max rainfall from 1898 to 2012\""
      ]
     },
     "metadata": {},
     "output_type": "display_data"
    }
   ],
   "source": [
    "#rollSmall = runmean(data$Max.PRCP., 300)\n",
    "plot(smoothTS2, type=\"l\", xlab = \"Time (years)\", lwd=2,\n",
    "    ylab = \"Max Precipitation (1/10mm)\", col = 1, main=\"Smoothed 24 hour max rainfall from 1898 to 2012\")\n",
    "    #points(rollLarge, type=\"l\", col=4)\n",
    "    #egend(0,200, c(\"300 window\",\"\", \"900 window\"), col=c(2,0,4), lty=c(1,0,1), bty=\"n\")\n",
    "    lines(anotherTS,col=2,lwd=3)"
   ]
  },
  {
   "cell_type": "code",
   "execution_count": 260,
   "metadata": {
    "collapsed": true
   },
   "outputs": [],
   "source": [
    "data1st2 = data2[which(data2$YEAR<=1981),]\n",
    "data2nd2 = data2[-which(data2$YEAR<=1981),]"
   ]
  },
  {
   "cell_type": "code",
   "execution_count": 261,
   "metadata": {
    "collapsed": true
   },
   "outputs": [],
   "source": [
    "mean1sthalf2 = mean(na.omit(data1st2$Max.PRCP.))\n",
    "mean2ndhalf2 = mean(na.omit(data2nd2$Max.PRCP.))"
   ]
  },
  {
   "cell_type": "code",
   "execution_count": 262,
   "metadata": {
    "collapsed": false
   },
   "outputs": [
    {
     "data": {
      "text/html": [
       "150.208121827411"
      ],
      "text/latex": [
       "150.208121827411"
      ],
      "text/markdown": [
       "150.208121827411"
      ],
      "text/plain": [
       "[1] 150.2081"
      ]
     },
     "metadata": {},
     "output_type": "display_data"
    }
   ],
   "source": [
    "mean2ndhalf"
   ]
  },
  {
   "cell_type": "code",
   "execution_count": 263,
   "metadata": {
    "collapsed": false
   },
   "outputs": [
    {
     "data": {
      "text/html": [
       "149.923664122137"
      ],
      "text/latex": [
       "149.923664122137"
      ],
      "text/markdown": [
       "149.923664122137"
      ],
      "text/plain": [
       "[1] 149.9237"
      ]
     },
     "metadata": {},
     "output_type": "display_data"
    }
   ],
   "source": [
    "mean2ndhalf2"
   ]
  },
  {
   "cell_type": "code",
   "execution_count": 264,
   "metadata": {
    "collapsed": true
   },
   "outputs": [],
   "source": [
    "anotherTS2 = anotherTS"
   ]
  },
  {
   "cell_type": "code",
   "execution_count": 265,
   "metadata": {
    "collapsed": false
   },
   "outputs": [],
   "source": [
    "anotherTS2[1:1007] = mean1sthalf2\n",
    "anotherTS2[1008:length(smoothTS)] = mean2ndhalf2"
   ]
  },
  {
   "cell_type": "code",
   "execution_count": 266,
   "metadata": {
    "collapsed": false
   },
   "outputs": [
    {
     "data": {
      "text/html": [
       "133.890518084066"
      ],
      "text/latex": [
       "133.890518084066"
      ],
      "text/markdown": [
       "133.890518084066"
      ],
      "text/plain": [
       "[1] 133.8905"
      ]
     },
     "metadata": {},
     "output_type": "display_data"
    }
   ],
   "source": [
    "mean1sthalf2"
   ]
  },
  {
   "cell_type": "code",
   "execution_count": 267,
   "metadata": {
    "collapsed": false
   },
   "outputs": [
    {
     "data": {
      "text/html": [
       "149.923664122137"
      ],
      "text/latex": [
       "149.923664122137"
      ],
      "text/markdown": [
       "149.923664122137"
      ],
      "text/plain": [
       "[1] 149.9237"
      ]
     },
     "metadata": {},
     "output_type": "display_data"
    }
   ],
   "source": [
    "mean2ndhalf2"
   ]
  },
  {
   "cell_type": "code",
   "execution_count": 268,
   "metadata": {
    "collapsed": false
   },
   "outputs": [
    {
     "data": {
      "text/html": [
       "154.194915254237"
      ],
      "text/latex": [
       "154.194915254237"
      ],
      "text/markdown": [
       "154.194915254237"
      ],
      "text/plain": [
       "[1] 154.1949"
      ]
     },
     "metadata": {},
     "output_type": "display_data"
    }
   ],
   "source": [
    "smoothTS[1048]"
   ]
  },
  {
   "cell_type": "markdown",
   "metadata": {},
   "source": [
    "setEPS()\n",
    "postscript(\"pics/.eps\")\n",
    "dev.off()"
   ]
  },
  {
   "cell_type": "markdown",
   "metadata": {
    "collapsed": false
   },
   "source": [
    "setEPS()\n",
    "postscript(\"pics/changeTS.eps\")\n",
    "#rollSmall = runmean(data$Max.PRCP., 300)\n",
    "plot(smoothTS, type=\"l\", xlab = \"Time (years)\", lwd=2,\n",
    "    ylab = \"Precipitation (1/10mm)\", col = 1, \n",
    "     #main=\"Smoothed 24 hour max rainfall from 1898 to 2012\"\n",
    "    )\n",
    "    #points(rollLarge, type=\"l\", col=4)\n",
    "    #egend(0,200, c(\"300 window\",\"\", \"900 window\"), col=c(2,0,4), lty=c(1,0,1), bty=\"n\")\n",
    "    lines(anotherTS2,col=2,lwd=3)\n",
    "    legend(\"topleft\",c(\"Trend Line\",\"\",\"Means left and right of change point\"), lty=c(1,0,1), lwd=c(2,0,2), col=c(1,0,2),\n",
    "    bty=\"n\", cex = .8, pt.cex=.8)\n",
    "dev.off()"
   ]
  },
  {
   "cell_type": "code",
   "execution_count": 269,
   "metadata": {
    "collapsed": false
   },
   "outputs": [
    {
     "data": {
      "image/png": "[encoded data removed]",
      "text/plain": [
       "plot without title"
      ]
     },
     "metadata": {},
     "output_type": "display_data"
    }
   ],
   "source": [
    "#rollSmall = runmean(data$Max.PRCP., 300)\n",
    "plot(smoothTS, type=\"l\", xlab = \"Time (years)\", lwd=2,\n",
    "    ylab = \"Max Precipitation (1/10mm)\", col = 1, \n",
    "     #main=\"Smoothed 24 hour max rainfall from 1898 to 2012\"\n",
    "    )\n",
    "    #points(rollLarge, type=\"l\", col=4)\n",
    "    #egend(0,200, c(\"300 window\",\"\", \"900 window\"), col=c(2,0,4), lty=c(1,0,1), bty=\"n\")\n",
    "    lines(anotherTS2,col=2,lwd=3)\n",
    "    legend(\"topleft\",c(\"Trend Line\",\"\",\"Mean prior and post change point\"), lty=c(1,0,1), lwd=c(2,0,2), col=c(1,0,2),\n",
    "    bty=\"n\", cex = .8, pt.cex=.8)"
   ]
  },
  {
   "cell_type": "code",
   "execution_count": 270,
   "metadata": {
    "collapsed": false
   },
   "outputs": [
    {
     "data": {
      "text/html": [
       "1404"
      ],
      "text/latex": [
       "1404"
      ],
      "text/markdown": [
       "1404"
      ],
      "text/plain": [
       "[1] 1404"
      ]
     },
     "metadata": {},
     "output_type": "display_data"
    }
   ],
   "source": [
    "length(smoothTS)"
   ]
  },
  {
   "cell_type": "code",
   "execution_count": 271,
   "metadata": {
    "collapsed": false
   },
   "outputs": [
    {
     "data": {
      "text/html": [
       "1428"
      ],
      "text/latex": [
       "1428"
      ],
      "text/markdown": [
       "1428"
      ],
      "text/plain": [
       "[1] 1428"
      ]
     },
     "metadata": {},
     "output_type": "display_data"
    }
   ],
   "source": [
    "length(smoothTS2)"
   ]
  },
  {
   "cell_type": "code",
   "execution_count": 272,
   "metadata": {
    "collapsed": true
   },
   "outputs": [],
   "source": [
    "data[\"box\"] = as.numeric(data$YEAR>=1981)"
   ]
  },
  {
   "cell_type": "code",
   "execution_count": 273,
   "metadata": {
    "collapsed": true
   },
   "outputs": [],
   "source": [
    "data2[\"box\"] = as.numeric(data2$YEAR>=1981)"
   ]
  },
  {
   "cell_type": "code",
   "execution_count": 274,
   "metadata": {
    "collapsed": false
   },
   "outputs": [
    {
     "data": {
      "text/html": [
       "133.851632047478"
      ],
      "text/latex": [
       "133.851632047478"
      ],
      "text/markdown": [
       "133.851632047478"
      ],
      "text/plain": [
       "[1] 133.8516"
      ]
     },
     "metadata": {},
     "output_type": "display_data"
    }
   ],
   "source": [
    "mean(na.omit(data2[which(data2$box == 0),\"Max.PRCP.\"]))"
   ]
  },
  {
   "cell_type": "code",
   "execution_count": 275,
   "metadata": {
    "collapsed": false
   },
   "outputs": [
    {
     "data": {
      "text/html": [
       "149.545679012346"
      ],
      "text/latex": [
       "149.545679012346"
      ],
      "text/markdown": [
       "149.545679012346"
      ],
      "text/plain": [
       "[1] 149.5457"
      ]
     },
     "metadata": {},
     "output_type": "display_data"
    }
   ],
   "source": [
    "mean(na.omit(data2[which(data2$box == 1),\"Max.PRCP.\"]))"
   ]
  },
  {
   "cell_type": "code",
   "execution_count": 276,
   "metadata": {
    "collapsed": false
   },
   "outputs": [
    {
     "data": {
      "text/html": [
       "18336.7066780269"
      ],
      "text/latex": [
       "18336.7066780269"
      ],
      "text/markdown": [
       "18336.7066780269"
      ],
      "text/plain": [
       "[1] 18336.71"
      ]
     },
     "metadata": {},
     "output_type": "display_data"
    }
   ],
   "source": [
    "var(na.omit(data2[which(data2$box == 0),\"Max.PRCP.\"]))"
   ]
  },
  {
   "cell_type": "code",
   "execution_count": 277,
   "metadata": {
    "collapsed": false
   },
   "outputs": [
    {
     "data": {
      "text/html": [
       "22203.050507273"
      ],
      "text/latex": [
       "22203.050507273"
      ],
      "text/markdown": [
       "22203.050507273"
      ],
      "text/plain": [
       "[1] 22203.05"
      ]
     },
     "metadata": {},
     "output_type": "display_data"
    }
   ],
   "source": [
    "var(na.omit(data2[which(data2$box == 1),\"Max.PRCP.\"]))"
   ]
  },
  {
   "cell_type": "code",
   "execution_count": 278,
   "metadata": {
    "collapsed": false
   },
   "outputs": [
    {
     "data": {
      "image/png": "[encoded data removed]",
      "text/plain": [
       "plot without title"
      ]
     },
     "metadata": {},
     "output_type": "display_data"
    }
   ],
   "source": [
    "boxplot(data$Max.PRCP.~data$box)"
   ]
  },
  {
   "cell_type": "code",
   "execution_count": 279,
   "metadata": {
    "collapsed": false
   },
   "outputs": [
    {
     "data": {
      "image/png": "[encoded data removed]",
      "text/plain": [
       "plot without title"
      ]
     },
     "metadata": {},
     "output_type": "display_data"
    }
   ],
   "source": [
    "boxplot(data2$Max.PRCP.~data2$box)"
   ]
  },
  {
   "cell_type": "code",
   "execution_count": 298,
   "metadata": {
    "collapsed": true
   },
   "outputs": [],
   "source": [
    "indicator = c(rep(0,1007),rep(1,397))"
   ]
  },
  {
   "cell_type": "code",
   "execution_count": 299,
   "metadata": {
    "collapsed": false
   },
   "outputs": [
    {
     "data": {
      "text/html": [
       "1404"
      ],
      "text/latex": [
       "1404"
      ],
      "text/markdown": [
       "1404"
      ],
      "text/plain": [
       "[1] 1404"
      ]
     },
     "metadata": {},
     "output_type": "display_data"
    }
   ],
   "source": [
    "length(indicator)"
   ]
  },
  {
   "cell_type": "code",
   "execution_count": 300,
   "metadata": {
    "collapsed": false
   },
   "outputs": [
    {
     "data": {
      "text/html": [
       "1404"
      ],
      "text/latex": [
       "1404"
      ],
      "text/markdown": [
       "1404"
      ],
      "text/plain": [
       "[1] 1404"
      ]
     },
     "metadata": {},
     "output_type": "display_data"
    }
   ],
   "source": [
    "length(smoothTS)"
   ]
  },
  {
   "cell_type": "code",
   "execution_count": 301,
   "metadata": {
    "collapsed": false
   },
   "outputs": [
    {
     "data": {
      "text/html": [
       "117"
      ],
      "text/latex": [
       "117"
      ],
      "text/markdown": [
       "117"
      ],
      "text/plain": [
       "[1] 117"
      ]
     },
     "metadata": {},
     "output_type": "display_data"
    }
   ],
   "source": [
    "1404/12"
   ]
  },
  {
   "cell_type": "code",
   "execution_count": 302,
   "metadata": {
    "collapsed": false
   },
   "outputs": [],
   "source": [
    "meansBox = as.data.frame(cbind(smoothTS,indicator))"
   ]
  },
  {
   "cell_type": "code",
   "execution_count": 307,
   "metadata": {
    "collapsed": false
   },
   "outputs": [
    {
     "ename": "ERROR",
     "evalue": "Error in .cbind.ts(list(...), .makeNamesTs(...), dframe = FALSE, union = TRUE): non-time series not of the correct length\n",
     "output_type": "error",
     "traceback": [
      "Error in .cbind.ts(list(...), .makeNamesTs(...), dframe = FALSE, union = TRUE): non-time series not of the correct length\nTraceback:\n",
      "1. as.data.frame(cbind(smoothTS, rep(c(1, 2, 3, 4, 5, 6, 7, 8, 9, \n .     10, 11, 12), 115)))",
      "2. cbind(smoothTS, rep(c(1, 2, 3, 4, 5, 6, 7, 8, 9, 10, 11, 12), \n .     115))",
      "3. cbind(deparse.level, ...)",
      "4. .cbind.ts(list(...), .makeNamesTs(...), dframe = FALSE, union = TRUE)",
      "5. stop(\"non-time series not of the correct length\")"
     ]
    }
   ],
   "source": [
    "meansBoxSea = as.data.frame(cbind(smoothTS, rep(c(1,2,3,4,5,6,7,8,9,10,11,12),115)))"
   ]
  },
  {
   "cell_type": "code",
   "execution_count": 308,
   "metadata": {
    "collapsed": false
   },
   "outputs": [
    {
     "ename": "ERROR",
     "evalue": "Error in names(meansBoxSea) = c(\"precipitation\", \"month\"): object 'meansBoxSea' not found\n",
     "output_type": "error",
     "traceback": [
      "Error in names(meansBoxSea) = c(\"precipitation\", \"month\"): object 'meansBoxSea' not found\nTraceback:\n"
     ]
    }
   ],
   "source": [
    "names(meansBoxSea) = c(\"precipitation\",\"month\")"
   ]
  },
  {
   "cell_type": "markdown",
   "metadata": {
    "collapsed": false
   },
   "source": [
    "setEPS()\n",
    "postscript(\"pics/box.eps\")\n",
    "boxplot(meansBox$smoothTS ~ meansBox$indicator, xlab = \"Group (0=pre change point, 1=post change point)\",\n",
    "       col = c(\"blue\",\"green\"), ylab = \"Precipitation (1/10mm)\")\n",
    "dev.off()"
   ]
  },
  {
   "cell_type": "code",
   "execution_count": 309,
   "metadata": {
    "collapsed": false
   },
   "outputs": [
    {
     "data": {
      "image/png": "[encoded data removed]",
      "text/plain": [
       "plot without title"
      ]
     },
     "metadata": {},
     "output_type": "display_data"
    }
   ],
   "source": [
    "boxplot(meansBox$smoothTS ~ meansBox$indicator, xlab = \"Group (0=pre change point, 1=post change point)\",\n",
    "       col = c(\"blue\",\"green\"), ylab = \"Precipitation (1/10mm)\")"
   ]
  },
  {
   "cell_type": "code",
   "execution_count": 310,
   "metadata": {
    "collapsed": false
   },
   "outputs": [
    {
     "ename": "ERROR",
     "evalue": "Error in eval(expr, envir, enclos): object 'meansBoxSea' not found\n",
     "output_type": "error",
     "traceback": [
      "Error in eval(expr, envir, enclos): object 'meansBoxSea' not found\nTraceback:\n",
      "1. boxplot(meansBoxSea$precipitation ~ meansBoxSea$month, xlab = \"Group (0=pre change point, 1=post change point)\", \n .     col = c(\"blue\", \"green\"), ylab = \"Precipitation (1/10mm)\")",
      "2. boxplot.formula(meansBoxSea$precipitation ~ meansBoxSea$month, \n .     xlab = \"Group (0=pre change point, 1=post change point)\", \n .     col = c(\"blue\", \"green\"), ylab = \"Precipitation (1/10mm)\")",
      "3. eval(m, parent.frame())",
      "4. eval(expr, envir, enclos)",
      "5. stats::model.frame(formula = meansBoxSea$precipitation ~ meansBoxSea$month)",
      "6. model.frame.default(formula = meansBoxSea$precipitation ~ meansBoxSea$month)",
      "7. eval(predvars, data, env)",
      "8. eval(expr, envir, enclos)"
     ]
    }
   ],
   "source": [
    "boxplot(meansBoxSea$precipitation ~ meansBoxSea$month, xlab = \"Group (0=pre change point, 1=post change point)\",\n",
    "       col = c(\"blue\",\"green\"), ylab = \"Precipitation (1/10mm)\")"
   ]
  },
  {
   "cell_type": "code",
   "execution_count": 387,
   "metadata": {
    "collapsed": false
   },
   "outputs": [],
   "source": [
    "monthly = NULL\n",
    "for(i in 1:12){\n",
    "    monthly = cbind(monthly,data2[which(data2$MONTH==i),\"Max.PRCP.\"])\n",
    "}\n",
    "monthlyDF = as.data.frame(monthly)\n",
    "colnames(monthlyDF) = c(\"jan\", \"feb\",\"mar\",\"apr\",\"may\",\"june\",\"july\",\"aug\",\"sept\",\"oct\",\"nov\",\"dec\")"
   ]
  },
  {
   "cell_type": "code",
   "execution_count": 388,
   "metadata": {
    "collapsed": false
   },
   "outputs": [],
   "source": [
    "require(ggplot2)"
   ]
  },
  {
   "cell_type": "code",
   "execution_count": 389,
   "metadata": {
    "collapsed": false
   },
   "outputs": [],
   "source": [
    "x = seq(1:nrow(data))"
   ]
  },
  {
   "cell_type": "code",
   "execution_count": 436,
   "metadata": {
    "collapsed": false
   },
   "outputs": [],
   "source": [
    "smoothJan = ts(monthlyDF$jan,start=1898)\n",
    "smoothFeb = ts(monthlyDF$feb,start=1898)\n",
    "smoothMar = ts(monthlyDF$mar,start=1898)\n",
    "smoothApr = ts(monthlyDF$apr,start=1898)\n",
    "\n",
    "smoothMay = ts(monthlyDF$may,start=1898)\n",
    "smoothJune = ts(monthlyDF$june,start=1898)\n",
    "smoothJuly = ts(monthlyDF$july,start=1898)\n",
    "smoothAug = ts(monthlyDF$aug,start=1898)\n",
    "\n",
    "smoothSept = ts(monthlyDF$sept,start=1898)\n",
    "smoothOct = ts(monthlyDF$oct,start=1898)\n",
    "smoothNov = ts(monthlyDF$nov,start=1898)\n",
    "smoothDec = ts(monthlyDF$dec,start=1898)"
   ]
  },
  {
   "cell_type": "code",
   "execution_count": 437,
   "metadata": {
    "collapsed": false
   },
   "outputs": [
    {
     "data": {
      "image/png": "[encoded data removed]",
      "text/plain": [
       "plot without title"
      ]
     },
     "metadata": {},
     "output_type": "display_data"
    }
   ],
   "source": [
    "plot(smoothJan,col=2,ylim=c(25,900),ylab=\"Smooth Seasons\", lwd=2, lty=1,xlim=c(1870,2014))\n",
    "lines(smoothFeb,col=3, lwd=2, lty=2)\n",
    "lines(smoothMar, lwd=2, lty=3)\n",
    "lines(smoothApr,col=4, lwd=2, lty=4)\n",
    "\n",
    "lines(smoothMay,col=5, lwd=2, lty=5)\n",
    "lines(smoothJune,col=6, lwd=2, lty=6)\n",
    "lines(smoothJuly,col=7, lwd=2, lty=7)\n",
    "lines(smoothAug,col=8, lwd=2, lty=8)\n",
    "\n",
    "lines(smoothSept,col=9, lwd=2, lty=9)\n",
    "lines(smoothOct,col=10, lwd=2, lty=10)\n",
    "lines(smoothNov,col=11, lwd=2, lty=11)\n",
    "lines(smoothDec,col=12, lwd=2, lty=12)\n",
    "\n",
    "legend(\"left\",c(\"jan\", \"feb\",\"mar\",\"apr\",\"may\",\"june\",\"july\",\"aug\",\"sept\",\"oct\",\"nov\",\"dec\"), \n",
    "       col=c(2,3,1,4,5,6,7,8,9,10,11,12), lty=c(1,2,3,4,5,6,7,8,9,10,11,12),inset=c(0,0),\n",
    "      lwd=c(rep(2,12)))"
   ]
  },
  {
   "cell_type": "code",
   "execution_count": 392,
   "metadata": {
    "collapsed": false
   },
   "outputs": [
    {
     "data": {
      "image/png": "[encoded data removed]",
      "text/plain": [
       "plot without title"
      ]
     },
     "metadata": {},
     "output_type": "display_data"
    }
   ],
   "source": [
    "plot(smoothJan,col=2,ylim=c(500,900),ylab=\"Smooth Seasons\", lwd=2, lty=1,xlim=c(1870,2014))\n",
    "lines(smoothFeb,col=3, lwd=2, lty=1)\n",
    "lines(smoothMar, lwd=2, lty=1)\n",
    "lines(smoothApr,col=4, lwd=2, lty=1)\n",
    "\n",
    "lines(smoothMay,col=5, lwd=2, lty=1)\n",
    "lines(smoothJune,col=6, lwd=2, lty=1)\n",
    "lines(smoothJuly,col=7, lwd=2, lty=1)\n",
    "lines(smoothAug,col=8, lwd=2, lty=1)\n",
    "\n",
    "lines(smoothSept,col=9, lwd=2, lty=1)\n",
    "lines(smoothOct,col=10, lwd=2, lty=1)\n",
    "lines(smoothNov,col=11, lwd=2, lty=1)\n",
    "lines(smoothDec,col=12, lwd=2, lty=1)\n",
    "\n",
    "legend(\"left\",c(\"jan\", \"feb\",\"mar\",\"apr\",\"may\",\"june\",\"july\",\"aug\",\"sept\",\"oct\",\"nov\",\"dec\"), \n",
    "       col=c(2,3,1,4,5,6,7,8,9,10,11,12), lty=(c(rep(1,8),2,2,2,2)),inset=c(0,0),\n",
    "      lwd=c(rep(2,12)))"
   ]
  },
  {
   "cell_type": "code",
   "execution_count": 434,
   "metadata": {
    "collapsed": true
   },
   "outputs": [],
   "source": [
    "smoothJan = ts(runmean(monthlyDF$jan,10),start=1898)\n",
    "smoothFeb = ts(runmean(monthlyDF$feb,10),start=1898)\n",
    "smoothMar = ts(runmean(monthlyDF$mar,10),start=1898)\n",
    "smoothApr = ts(runmean(monthlyDF$apr,10),start=1898)\n",
    "\n",
    "smoothMay = ts(runmean(monthlyDF$may,10),start=1898)\n",
    "smoothJune = ts(runmean(monthlyDF$june,10),start=1898)\n",
    "smoothJuly = ts(runmean(monthlyDF$july,10),start=1898)\n",
    "smoothAug = ts(runmean(monthlyDF$aug,10),start=1898)\n",
    "\n",
    "smoothSept = ts(runmean(monthlyDF$sept,10),start=1898)\n",
    "smoothOct = ts(runmean(monthlyDF$oct,10),start=1898)\n",
    "smoothNov = ts(runmean(monthlyDF$nov,10),start=1898)\n",
    "smoothDec = ts(runmean(monthlyDF$dec,10),start=1898)"
   ]
  },
  {
   "cell_type": "code",
   "execution_count": 435,
   "metadata": {
    "collapsed": false
   },
   "outputs": [
    {
     "data": {
      "image/png": "[encoded data removed]",
      "text/plain": [
       "plot without title"
      ]
     },
     "metadata": {},
     "output_type": "display_data"
    }
   ],
   "source": [
    "plot(smoothJan,col=2,ylim=c(25,325),ylab=\"Smooth Seasons\", lwd=2, lty=1,xlim=c(1870,2014))\n",
    "lines(smoothFeb,col=3, lwd=2, lty=2)\n",
    "lines(smoothMar, lwd=2, lty=3)\n",
    "lines(smoothApr,col=4, lwd=2, lty=4)\n",
    "\n",
    "lines(smoothMay,col=5, lwd=2, lty=5)\n",
    "lines(smoothJune,col=6, lwd=2, lty=6)\n",
    "lines(smoothJuly,col=7, lwd=2, lty=7)\n",
    "lines(smoothAug,col=8, lwd=2, lty=8)\n",
    "\n",
    "lines(smoothSept,col=9, lwd=2, lty=9)\n",
    "lines(smoothOct,col=10, lwd=2, lty=10)\n",
    "lines(smoothNov,col=11, lwd=2, lty=11)\n",
    "lines(smoothDec,col=12, lwd=2, lty=12)\n",
    "\n",
    "legend(\"left\",c(\"jan\", \"feb\",\"mar\",\"apr\",\"may\",\"june\",\"july\",\"aug\",\"sept\",\"oct\",\"nov\",\"dec\"), \n",
    "       col=c(2,3,1,4,5,6,7,8,9,10,11,12), lty=c(1,1,1,1,1,1,1,1,2,2,2,2),inset=c(0,0),\n",
    "      lwd=c(rep(2,12)))"
   ]
  },
  {
   "cell_type": "code",
   "execution_count": 438,
   "metadata": {
    "collapsed": false
   },
   "outputs": [],
   "source": [
    "smoothJan = ts(runmean(monthlyDF$jan,40),start=1898)\n",
    "smoothFeb = ts(runmean(monthlyDF$feb,40),start=1898)\n",
    "smoothMar = ts(runmean(monthlyDF$mar,40),start=1898)\n",
    "smoothApr = ts(runmean(monthlyDF$apr,40),start=1898)\n",
    "\n",
    "smoothMay = ts(runmean(monthlyDF$may,40),start=1898)\n",
    "smoothJune = ts(runmean(monthlyDF$june,40),start=1898)\n",
    "smoothJuly = ts(runmean(monthlyDF$july,40),start=1898)\n",
    "smoothAug = ts(runmean(monthlyDF$aug,40),start=1898)\n",
    "\n",
    "smoothSept = ts(runmean(monthlyDF$sept,40),start=1898)\n",
    "smoothOct = ts(runmean(monthlyDF$oct,40),start=1898)\n",
    "smoothNov = ts(runmean(monthlyDF$nov,40),start=1898)\n",
    "smoothDec = ts(runmean(monthlyDF$dec,40),start=1898)"
   ]
  },
  {
   "cell_type": "code",
   "execution_count": 439,
   "metadata": {
    "collapsed": true
   },
   "outputs": [],
   "source": [
    "options(repr.plot.width=7, repr.plot.height=6) #reduces the plot sizes"
   ]
  },
  {
   "cell_type": "code",
   "execution_count": 441,
   "metadata": {
    "collapsed": false
   },
   "outputs": [
    {
     "data": {
      "image/png": "[encoded data removed]",
      "text/plain": [
       "plot without title"
      ]
     },
     "metadata": {},
     "output_type": "display_data"
    }
   ],
   "source": [
    "plot(smoothJan,col=2,ylim=c(25,325),ylab=\"Smooth Seasons\", lwd=2, lty=1,xlim=c(1870,2014))\n",
    "lines(smoothFeb,col=3, lwd=2, lty=1)\n",
    "lines(smoothMar, lwd=2, lty=1)\n",
    "lines(smoothApr,col=4, lwd=2, lty=1)\n",
    "\n",
    "lines(smoothMay,col=5, lwd=2, lty=1)\n",
    "lines(smoothJune,col=6, lwd=2, lty=1)\n",
    "lines(smoothJuly,col=7, lwd=2, lty=2)\n",
    "lines(smoothAug,col=8, lwd=2, lty=2)\n",
    "\n",
    "lines(smoothSept,col=9, lwd=2, lty=2)\n",
    "lines(smoothOct,col=10, lwd=2, lty=2)\n",
    "lines(smoothNov,col=11, lwd=2, lty=2)\n",
    "lines(smoothDec,col=12, lwd=2, lty=2)\n",
    "\n",
    "legend(\"left\",c(\"jan\", \"feb\",\"mar\",\"apr\",\"may\",\"june\",\"july\",\"aug\",\"sept\",\"oct\",\"nov\",\"dec\"), \n",
    "       col=c(2,3,1,4,5,6,7,8,9,10,11,12), lty=c(1,1,1,1,1,1,1,1,2,2,2,2),inset=c(0,0),\n",
    "      lwd=c(rep(2,12)), bty=\"n\")"
   ]
  },
  {
   "cell_type": "code",
   "execution_count": 398,
   "metadata": {
    "collapsed": false
   },
   "outputs": [
    {
     "name": "stderr",
     "output_type": "stream",
     "text": [
      "Warning message:\n",
      ": Removed 12 rows containing missing values (geom_point)."
     ]
    },
    {
     "data": {},
     "metadata": {},
     "output_type": "display_data"
    },
    {
     "data": {
      "image/png": "[encoded data removed]",
      "text/plain": [
       "plot without title"
      ]
     },
     "metadata": {},
     "output_type": "display_data"
    }
   ],
   "source": [
    "ggplot(data2, aes(x, Max.PRCP.,colour=MONTH)) + \n",
    "    geom_line() + \n",
    "    geom_point()"
   ]
  },
  {
   "cell_type": "code",
   "execution_count": 399,
   "metadata": {
    "collapsed": true
   },
   "outputs": [],
   "source": [
    "options(repr.plot.width=6, repr.plot.height=4) #reduces the plot sizes"
   ]
  },
  {
   "cell_type": "code",
   "execution_count": 400,
   "metadata": {
    "collapsed": true
   },
   "outputs": [],
   "source": [
    "smoothJan = ts(monthlyDF$jan,start=1898)\n",
    "smoothFeb = ts(monthlyDF$feb,start=1898)\n",
    "smoothMar = ts(monthlyDF$mar,start=1898)\n",
    "smoothApr = ts(monthlyDF$apr,start=1898)\n",
    "\n",
    "smoothMay = ts(monthlyDF$may,start=1898)\n",
    "smoothJune = ts(monthlyDF$june,start=1898)\n",
    "smoothJuly = ts(monthlyDF$july,start=1898)\n",
    "smoothAug = ts(monthlyDF$aug,start=1898)\n",
    "\n",
    "smoothSept = ts(monthlyDF$sept,start=1898)\n",
    "smoothOct = ts(monthlyDF$oct,start=1898)\n",
    "smoothNov = ts(monthlyDF$nov,start=1898)\n",
    "smoothDec = ts(monthlyDF$dec,start=1898)"
   ]
  },
  {
   "cell_type": "code",
   "execution_count": 401,
   "metadata": {
    "collapsed": true
   },
   "outputs": [],
   "source": [
    "smoothJan = ts(monthlyDF$jan,start=1898)\n",
    "smoothFeb = ts(monthlyDF$feb,start=1898)\n",
    "smoothMar = ts(monthlyDF$mar,start=1898)\n",
    "smoothApr = ts(monthlyDF$apr,start=1898)\n",
    "\n",
    "smoothMay = ts(monthlyDF$may,start=1898)\n",
    "smoothJune = ts(monthlyDF$june,start=1898)\n",
    "smoothJuly = ts(monthlyDF$july,start=1898)\n",
    "smoothAug = ts(monthlyDF$aug,start=1898)\n",
    "\n",
    "smoothSept = ts(monthlyDF$sept,start=1898)\n",
    "smoothOct = ts(monthlyDF$oct,start=1898)\n",
    "smoothNov = ts(monthlyDF$nov,start=1898)\n",
    "smoothDec = ts(monthlyDF$dec,start=1898)"
   ]
  },
  {
   "cell_type": "code",
   "execution_count": 402,
   "metadata": {
    "collapsed": false
   },
   "outputs": [
    {
     "data": {
      "image/png": "[encoded data removed]",
      "text/plain": [
       "plot without title"
      ]
     },
     "metadata": {},
     "output_type": "display_data"
    }
   ],
   "source": [
    "plot(smoothJan, ylim=c(0,900), lwd=2, lty=1, col=2)"
   ]
  },
  {
   "cell_type": "code",
   "execution_count": 403,
   "metadata": {
    "collapsed": false
   },
   "outputs": [
    {
     "data": {
      "image/png": "[encoded data removed]",
      "text/plain": [
       "Plot with title \"Histogram of smoothJan\""
      ]
     },
     "metadata": {},
     "output_type": "display_data"
    }
   ],
   "source": [
    "hist(smoothJan,breaks=10)"
   ]
  },
  {
   "cell_type": "code",
   "execution_count": 404,
   "metadata": {
    "collapsed": false
   },
   "outputs": [
    {
     "data": {
      "image/png": "[encoded data removed]",
      "text/plain": [
       "plot without title"
      ]
     },
     "metadata": {},
     "output_type": "display_data"
    }
   ],
   "source": [
    "plot(smoothFeb, ylim=c(0,900), lwd=2, lty=1, col=3)"
   ]
  },
  {
   "cell_type": "code",
   "execution_count": 405,
   "metadata": {
    "collapsed": false
   },
   "outputs": [
    {
     "data": {
      "image/png": "[encoded data removed]",
      "text/plain": [
       "Plot with title \"Histogram of smoothFeb\""
      ]
     },
     "metadata": {},
     "output_type": "display_data"
    }
   ],
   "source": [
    "hist(smoothFeb,breaks=10)"
   ]
  },
  {
   "cell_type": "code",
   "execution_count": 406,
   "metadata": {
    "collapsed": false
   },
   "outputs": [
    {
     "data": {
      "image/png": "[encoded data removed]",
      "text/plain": [
       "plot without title"
      ]
     },
     "metadata": {},
     "output_type": "display_data"
    }
   ],
   "source": [
    "plot(smoothMar, ylim=c(0,900), lwd=2, lty=1, col=1)"
   ]
  },
  {
   "cell_type": "code",
   "execution_count": 407,
   "metadata": {
    "collapsed": false
   },
   "outputs": [
    {
     "data": {
      "image/png": "[encoded data removed]",
      "text/plain": [
       "Plot with title \"Histogram of smoothMar\""
      ]
     },
     "metadata": {},
     "output_type": "display_data"
    }
   ],
   "source": [
    "hist(smoothMar,breaks=10)"
   ]
  },
  {
   "cell_type": "code",
   "execution_count": 408,
   "metadata": {
    "collapsed": false
   },
   "outputs": [
    {
     "data": {
      "image/png": "[encoded data removed]",
      "text/plain": [
       "plot without title"
      ]
     },
     "metadata": {},
     "output_type": "display_data"
    }
   ],
   "source": [
    "plot(smoothApr, ylim=c(0,900), lwd=2, lty=1, col=4)"
   ]
  },
  {
   "cell_type": "code",
   "execution_count": 409,
   "metadata": {
    "collapsed": false
   },
   "outputs": [
    {
     "data": {
      "image/png": "[encoded data removed]",
      "text/plain": [
       "Plot with title \"Histogram of smoothApr\""
      ]
     },
     "metadata": {},
     "output_type": "display_data"
    }
   ],
   "source": [
    "hist(smoothApr,breaks=10)"
   ]
  },
  {
   "cell_type": "code",
   "execution_count": 410,
   "metadata": {
    "collapsed": false
   },
   "outputs": [
    {
     "data": {
      "image/png": "[encoded data removed]",
      "text/plain": [
       "plot without title"
      ]
     },
     "metadata": {},
     "output_type": "display_data"
    }
   ],
   "source": [
    "plot(smoothMay, ylim=c(0,900), lwd=2, lty=1, col=5)"
   ]
  },
  {
   "cell_type": "code",
   "execution_count": 411,
   "metadata": {
    "collapsed": false
   },
   "outputs": [
    {
     "data": {
      "image/png": "[encoded data removed]",
      "text/plain": [
       "Plot with title \"Histogram of smoothMay\""
      ]
     },
     "metadata": {},
     "output_type": "display_data"
    }
   ],
   "source": [
    "hist(smoothMay,breaks=10)"
   ]
  },
  {
   "cell_type": "code",
   "execution_count": 412,
   "metadata": {
    "collapsed": false
   },
   "outputs": [
    {
     "data": {
      "image/png": "[encoded data removed]",
      "text/plain": [
       "plot without title"
      ]
     },
     "metadata": {},
     "output_type": "display_data"
    }
   ],
   "source": [
    "plot(smoothJune, ylim=c(0,900), lwd=2, lty=1, col=6)"
   ]
  },
  {
   "cell_type": "code",
   "execution_count": 413,
   "metadata": {
    "collapsed": false
   },
   "outputs": [
    {
     "data": {
      "image/png": "[encoded data removed]",
      "text/plain": [
       "Plot with title \"Histogram of smoothJune\""
      ]
     },
     "metadata": {},
     "output_type": "display_data"
    }
   ],
   "source": [
    "hist(smoothJune,breaks=10)"
   ]
  },
  {
   "cell_type": "code",
   "execution_count": 414,
   "metadata": {
    "collapsed": false
   },
   "outputs": [
    {
     "data": {
      "image/png": "[encoded data removed]",
      "text/plain": [
       "plot without title"
      ]
     },
     "metadata": {},
     "output_type": "display_data"
    }
   ],
   "source": [
    "plot(smoothJuly, ylim=c(0,900), lwd=2, lty=1, col=7)"
   ]
  },
  {
   "cell_type": "code",
   "execution_count": 415,
   "metadata": {
    "collapsed": false
   },
   "outputs": [
    {
     "data": {
      "image/png": "[encoded data removed]",
      "text/plain": [
       "Plot with title \"Histogram of smoothJuly\""
      ]
     },
     "metadata": {},
     "output_type": "display_data"
    }
   ],
   "source": [
    "hist(smoothJuly,breaks=10)"
   ]
  },
  {
   "cell_type": "code",
   "execution_count": 416,
   "metadata": {
    "collapsed": false
   },
   "outputs": [
    {
     "data": {
      "image/png": "[encoded data removed]",
      "text/plain": [
       "plot without title"
      ]
     },
     "metadata": {},
     "output_type": "display_data"
    }
   ],
   "source": [
    "plot(smoothAug, ylim=c(0,900), lwd=2, lty=1, col=8)"
   ]
  },
  {
   "cell_type": "code",
   "execution_count": 417,
   "metadata": {
    "collapsed": false
   },
   "outputs": [
    {
     "data": {
      "image/png": "[encoded data removed]",
      "text/plain": [
       "Plot with title \"Histogram of smoothAug\""
      ]
     },
     "metadata": {},
     "output_type": "display_data"
    }
   ],
   "source": [
    "hist(smoothAug,breaks=10)"
   ]
  },
  {
   "cell_type": "code",
   "execution_count": 418,
   "metadata": {
    "collapsed": false
   },
   "outputs": [
    {
     "data": {
      "image/png": "[encoded data removed]",
      "text/plain": [
       "plot without title"
      ]
     },
     "metadata": {},
     "output_type": "display_data"
    }
   ],
   "source": [
    "plot(smoothSept, ylim=c(0,900), lwd=2, lty=1, col=9)"
   ]
  },
  {
   "cell_type": "code",
   "execution_count": 419,
   "metadata": {
    "collapsed": false
   },
   "outputs": [
    {
     "data": {
      "image/png": "[encoded data removed]",
      "text/plain": [
       "Plot with title \"Histogram of smoothSept\""
      ]
     },
     "metadata": {},
     "output_type": "display_data"
    }
   ],
   "source": [
    "hist(smoothSept,breaks=10)"
   ]
  },
  {
   "cell_type": "code",
   "execution_count": 420,
   "metadata": {
    "collapsed": false
   },
   "outputs": [
    {
     "data": {
      "image/png": "[encoded data removed]",
      "text/plain": [
       "plot without title"
      ]
     },
     "metadata": {},
     "output_type": "display_data"
    }
   ],
   "source": [
    "plot(smoothOct, ylim=c(0,900), lwd=2, lty=1, col=10)"
   ]
  },
  {
   "cell_type": "code",
   "execution_count": 421,
   "metadata": {
    "collapsed": false
   },
   "outputs": [
    {
     "data": {
      "image/png": "[encoded data removed]",
      "text/plain": [
       "Plot with title \"Histogram of smoothOct\""
      ]
     },
     "metadata": {},
     "output_type": "display_data"
    }
   ],
   "source": [
    "hist(smoothOct,breaks=10)"
   ]
  },
  {
   "cell_type": "code",
   "execution_count": 422,
   "metadata": {
    "collapsed": false
   },
   "outputs": [
    {
     "data": {
      "image/png": "[encoded data removed]",
      "text/plain": [
       "plot without title"
      ]
     },
     "metadata": {},
     "output_type": "display_data"
    }
   ],
   "source": [
    "plot(smoothNov, ylim=c(0,900), lwd=2, lty=1, col=11)"
   ]
  },
  {
   "cell_type": "code",
   "execution_count": 423,
   "metadata": {
    "collapsed": false
   },
   "outputs": [
    {
     "data": {
      "image/png": "[encoded data removed]",
      "text/plain": [
       "Plot with title \"Histogram of smoothNov\""
      ]
     },
     "metadata": {},
     "output_type": "display_data"
    }
   ],
   "source": [
    "hist(smoothNov,breaks=10)"
   ]
  },
  {
   "cell_type": "code",
   "execution_count": 424,
   "metadata": {
    "collapsed": false
   },
   "outputs": [
    {
     "data": {
      "image/png": "[encoded data removed]",
      "text/plain": [
       "plot without title"
      ]
     },
     "metadata": {},
     "output_type": "display_data"
    }
   ],
   "source": [
    "plot(smoothDec, ylim=c(0,900), lwd=2, lty=1, col=12)"
   ]
  },
  {
   "cell_type": "code",
   "execution_count": 425,
   "metadata": {
    "collapsed": false
   },
   "outputs": [
    {
     "data": {
      "image/png": "[encoded data removed]",
      "text/plain": [
       "Plot with title \"Histogram of smoothDec\""
      ]
     },
     "metadata": {},
     "output_type": "display_data"
    }
   ],
   "source": [
    "hist(smoothDec,breaks=10)"
   ]
  },
  {
   "cell_type": "markdown",
   "metadata": {},
   "source": [
    "Flood tolerance, probabilities from selected distributions, bayesian updated (last add)"
   ]
  },
  {
   "cell_type": "markdown",
   "metadata": {},
   "source": [
    "Change point detection"
   ]
  },
  {
   "cell_type": "code",
   "execution_count": 426,
   "metadata": {
    "collapsed": false
   },
   "outputs": [
    {
     "data": {
      "image/png": "[encoded data removed]",
      "text/plain": [
       "plot without title"
      ]
     },
     "metadata": {},
     "output_type": "display_data"
    }
   ],
   "source": [
    "plot(vars1TS)"
   ]
  },
  {
   "cell_type": "code",
   "execution_count": 377,
   "metadata": {
    "collapsed": false
   },
   "outputs": [
    {
     "data": {
      "text/html": [
       "<table>\n",
       "<thead><tr><th scope=col>alpha</th><th scope=col>theta</th><th scope=col>KS</th><th scope=col>KStest</th><th scope=col>CvM</th><th scope=col>CvMtest</th><th scope=col>AD</th><th scope=col>ADtest</th><th scope=col>invTheta</th><th scope=col>mean</th><th scope=col>var</th><th scope=col>sd</th></tr></thead>\n",
       "<tbody>\n",
       "\t<tr><td>0.7702459   </td><td>0.005838670 </td><td>0.11823885  </td><td>not rejected</td><td>0.3945848   </td><td>NA          </td><td>2.578290    </td><td>NA          </td><td>171.2719    </td><td>131.9215    </td><td>22594.44    </td><td>150.3145    </td></tr>\n",
       "\t<tr><td>0.7592384   </td><td>0.005623842 </td><td>0.10957672  </td><td>not rejected</td><td>0.3993983   </td><td>NA          </td><td>2.545615    </td><td>NA          </td><td>177.8144    </td><td>135.0035    </td><td>24005.57    </td><td>154.9373    </td></tr>\n",
       "\t<tr><td>0.7329028   </td><td>0.005426065 </td><td>0.11023874  </td><td>not rejected</td><td>0.3867091   </td><td>NA          </td><td>2.377635    </td><td>NA          </td><td>184.2956    </td><td>135.0708    </td><td>24892.95    </td><td>157.7750    </td></tr>\n",
       "\t<tr><td>0.7228140   </td><td>0.005126209 </td><td>0.10648805  </td><td>not rejected</td><td>0.3718661   </td><td>NA          </td><td>2.266249    </td><td>NA          </td><td>195.0759    </td><td>141.0036    </td><td>27506.41    </td><td>165.8506    </td></tr>\n",
       "\t<tr><td>0.7894197   </td><td>0.005429997 </td><td>0.10174311  </td><td>not rejected</td><td>0.2569872   </td><td>NA          </td><td>1.422317    </td><td>NA          </td><td>184.1622    </td><td>145.3812    </td><td>26773.72    </td><td>163.6268    </td></tr>\n",
       "\t<tr><td>0.7953316   </td><td>0.005407428 </td><td>0.09718581  </td><td>not rejected</td><td>0.2725329   </td><td>NA          </td><td>1.497542    </td><td>NA          </td><td>184.9308    </td><td>147.0813    </td><td>27199.86    </td><td>164.9238    </td></tr>\n",
       "</tbody>\n",
       "</table>\n"
      ],
      "text/latex": [
       "\\begin{tabular}{r|llllllllllll}\n",
       " alpha & theta & KS & KStest & CvM & CvMtest & AD & ADtest & invTheta & mean & var & sd\\\\\n",
       "\\hline\n",
       "\t 0.7702459    & 0.005838670  & 0.11823885   & not rejected & 0.3945848    & NA           & 2.578290     & NA           & 171.2719     & 131.9215     & 22594.44     & 150.3145    \\\\\n",
       "\t 0.7592384    & 0.005623842  & 0.10957672   & not rejected & 0.3993983    & NA           & 2.545615     & NA           & 177.8144     & 135.0035     & 24005.57     & 154.9373    \\\\\n",
       "\t 0.7329028    & 0.005426065  & 0.11023874   & not rejected & 0.3867091    & NA           & 2.377635     & NA           & 184.2956     & 135.0708     & 24892.95     & 157.7750    \\\\\n",
       "\t 0.7228140    & 0.005126209  & 0.10648805   & not rejected & 0.3718661    & NA           & 2.266249     & NA           & 195.0759     & 141.0036     & 27506.41     & 165.8506    \\\\\n",
       "\t 0.7894197    & 0.005429997  & 0.10174311   & not rejected & 0.2569872    & NA           & 1.422317     & NA           & 184.1622     & 145.3812     & 26773.72     & 163.6268    \\\\\n",
       "\t 0.7953316    & 0.005407428  & 0.09718581   & not rejected & 0.2725329    & NA           & 1.497542     & NA           & 184.9308     & 147.0813     & 27199.86     & 164.9238    \\\\\n",
       "\\end{tabular}\n"
      ],
      "text/plain": [
       "  alpha     theta       KS         KStest       CvM       CvMtest AD      \n",
       "1 0.7702459 0.005838670 0.11823885 not rejected 0.3945848 NA      2.578290\n",
       "2 0.7592384 0.005623842 0.10957672 not rejected 0.3993983 NA      2.545615\n",
       "3 0.7329028 0.005426065 0.11023874 not rejected 0.3867091 NA      2.377635\n",
       "4 0.7228140 0.005126209 0.10648805 not rejected 0.3718661 NA      2.266249\n",
       "5 0.7894197 0.005429997 0.10174311 not rejected 0.2569872 NA      1.422317\n",
       "6 0.7953316 0.005407428 0.09718581 not rejected 0.2725329 NA      1.497542\n",
       "  ADtest invTheta mean     var      sd      \n",
       "1 NA     171.2719 131.9215 22594.44 150.3145\n",
       "2 NA     177.8144 135.0035 24005.57 154.9373\n",
       "3 NA     184.2956 135.0708 24892.95 157.7750\n",
       "4 NA     195.0759 141.0036 27506.41 165.8506\n",
       "5 NA     184.1622 145.3812 26773.72 163.6268\n",
       "6 NA     184.9308 147.0813 27199.86 164.9238"
      ]
     },
     "metadata": {},
     "output_type": "display_data"
    }
   ],
   "source": [
    "head(mleGamma)"
   ]
  },
  {
   "cell_type": "code",
   "execution_count": 378,
   "metadata": {
    "collapsed": false
   },
   "outputs": [],
   "source": [
    "x = seq(.00001,2500,1)"
   ]
  },
  {
   "cell_type": "code",
   "execution_count": 379,
   "metadata": {
    "collapsed": false
   },
   "outputs": [
    {
     "data": {
      "text/html": [
       "66"
      ],
      "text/latex": [
       "66"
      ],
      "text/markdown": [
       "66"
      ],
      "text/plain": [
       "[1] 66"
      ]
     },
     "metadata": {},
     "output_type": "display_data"
    }
   ],
   "source": [
    "1963-1897"
   ]
  },
  {
   "cell_type": "code",
   "execution_count": 380,
   "metadata": {
    "collapsed": false
   },
   "outputs": [],
   "source": [
    "y = dgamma(x,mleGamma$alpha[66], scale=(1/mleGamma$theta[66]))"
   ]
  },
  {
   "cell_type": "code",
   "execution_count": 381,
   "metadata": {
    "collapsed": true
   },
   "outputs": [],
   "source": [
    "options(repr.plot.width=5, repr.plot.height=5) #reduces the plot sizes"
   ]
  },
  {
   "cell_type": "code",
   "execution_count": 382,
   "metadata": {
    "collapsed": false
   },
   "outputs": [
    {
     "data": {
      "image/png": "[encoded data removed]",
      "text/plain": [
       "plot without title"
      ]
     },
     "metadata": {},
     "output_type": "display_data"
    }
   ],
   "source": [
    "plot(x,y, col = \"darkblue\", type =\"l\", xlim=c(0,800), ylab=\"Density\", xlab=\"Rainfall (1/10mm)\", lwd=2)"
   ]
  },
  {
   "cell_type": "code",
   "execution_count": 383,
   "metadata": {
    "collapsed": false
   },
   "outputs": [],
   "source": [
    "y = dexp(1/mleExp$theta[20])"
   ]
  },
  {
   "cell_type": "code",
   "execution_count": 445,
   "metadata": {
    "collapsed": false
   },
   "outputs": [
    {
     "data": {
      "text/html": [
       "2"
      ],
      "text/latex": [
       "2"
      ],
      "text/markdown": [
       "2"
      ],
      "text/plain": [
       "[1] 2"
      ]
     },
     "metadata": {},
     "output_type": "display_data"
    }
   ],
   "source": [
    "sum(na.omit(data2$Max.PRCP>914))"
   ]
  },
  {
   "cell_type": "code",
   "execution_count": 384,
   "metadata": {
    "collapsed": false
   },
   "outputs": [
    {
     "ename": "ERROR",
     "evalue": "Error in xy.coords(x, y, xlabel, ylabel, log): 'x' and 'y' lengths differ\n",
     "output_type": "error",
     "traceback": [
      "Error in xy.coords(x, y, xlabel, ylabel, log): 'x' and 'y' lengths differ\nTraceback:\n",
      "1. plot(x, y, col = \"darkblue\", type = \"l\", xlim = c(0, 800), ylab = \"Density\", \n .     xlab = \"Rainfall (1/10mm)\", lwd = 2)",
      "2. plot(x, y, col = \"darkblue\", type = \"l\", xlim = c(0, 800), ylab = \"Density\", \n .     xlab = \"Rainfall (1/10mm)\", lwd = 2)",
      "3. plot.default(x, y, col = \"darkblue\", type = \"l\", xlim = c(0, \n .     800), ylab = \"Density\", xlab = \"Rainfall (1/10mm)\", lwd = 2)",
      "4. xy.coords(x, y, xlabel, ylabel, log)",
      "5. stop(\"'x' and 'y' lengths differ\")"
     ]
    }
   ],
   "source": [
    "plot(x,y, col = \"darkblue\", type =\"l\", xlim=c(0,800), ylab=\"Density\", xlab=\"Rainfall (1/10mm)\", lwd=2)"
   ]
  },
  {
   "cell_type": "markdown",
   "metadata": {},
   "source": [
    "jpeg(file = “C://R//SAVEHERE//myplot.jpeg”)\n",
    "plot(x,y)\n",
    "dev.off()"
   ]
  }
 ],
 "metadata": {
  "anaconda-cloud": {},
  "kernelspec": {
   "display_name": "R",
   "language": "R",
   "name": "ir"
  },
  "language_info": {
   "codemirror_mode": "r",
   "file_extension": ".r",
   "mimetype": "text/x-r-source",
   "name": "R",
   "pygments_lexer": "r",
   "version": "3.3.1"
  }
 },
 "nbformat": 4,
 "nbformat_minor": 0
}
