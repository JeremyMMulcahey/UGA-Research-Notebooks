{
 "cells": [
  {
   "cell_type": "markdown",
   "metadata": {},
   "source": [
    "# Master's Thesis: Investigating Maximum Rainfall Trends in Colorado"
   ]
  },
  {
   "cell_type": "markdown",
   "metadata": {},
   "source": [
    "<b>Institution:</b> University of Georgia <br>\n",
    "<b>Department:</b> Statistics <br>\n",
    "<b>Student:</b> Jeremy Mulcahey <br>\n",
    "<b>Advisor:</b> Dr. Lynne Seymour <br>\n",
    "<b>File:</b> 02_Boulder<br>\n",
    "<b>Last Edit:</b> 7/4/2016"
   ]
  },
  {
   "cell_type": "markdown",
   "metadata": {},
   "source": [
    "Section 0: Preparing data <br>\n",
    "Section 1: Distribution of Max Precipitation and Trends<br>\n",
    "Section 2: Parameter Estimation, Distribution, and Trends"
   ]
  },
  {
   "cell_type": "markdown",
   "metadata": {},
   "source": [
    "##  Section 0: Preparing data"
   ]
  },
  {
   "cell_type": "code",
   "execution_count": 1,
   "metadata": {
    "collapsed": false
   },
   "outputs": [
    {
     "name": "stderr",
     "output_type": "stream",
     "text": [
      "Loading required package: fitdistrplus\n",
      "Loading required package: MASS\n",
      "Loading required package: survival\n",
      "Loading required package: caTools\n",
      "Loading required package: repr\n",
      "Loading required package: IRdisplay\n"
     ]
    }
   ],
   "source": [
    "require(fitdistrplus); # required for parameter estimation\n",
    "require(caTools);      # required for smoothing\n",
    "require(repr);         # required for resizing plots in IRKernel\n",
    "require(\"IRdisplay\");  # graphic embedding\n",
    "require(MASS);         # testing"
   ]
  },
  {
   "cell_type": "code",
   "execution_count": 2,
   "metadata": {
    "collapsed": false
   },
   "outputs": [],
   "source": [
    "# establish working directorys\n",
    "setwd(\"C:/Users/jerem/Desktop/UGA/Master'sThesis/\")"
   ]
  },
  {
   "cell_type": "markdown",
   "metadata": {},
   "source": [
    "Data files for individual station names."
   ]
  },
  {
   "cell_type": "code",
   "execution_count": 3,
   "metadata": {
    "collapsed": false
   },
   "outputs": [],
   "source": [
    "data = read.csv(file = \"data/EVERGREEN_MonMax_GHCN.csv\", head=T)"
   ]
  },
  {
   "cell_type": "markdown",
   "metadata": {},
   "source": [
    "Adjust the data for later use."
   ]
  },
  {
   "cell_type": "code",
   "execution_count": 4,
   "metadata": {
    "collapsed": false
   },
   "outputs": [
    {
     "data": {
      "text/html": [
       "46"
      ],
      "text/latex": [
       "46"
      ],
      "text/markdown": [
       "46"
      ],
      "text/plain": [
       "[1] 46"
      ]
     },
     "metadata": {},
     "output_type": "display_data"
    }
   ],
   "source": [
    "# Create an index as x - used as needed\n",
    "month = seq(1,nrow(data),by=1)\n",
    "data = cbind(data,month)\n",
    "\n",
    "# first year of the data (changes by station name)\n",
    "firstYear = data$YEAR[1]\n",
    "\n",
    "# station name for plotting\n",
    "stationName = as.character(data$STATION_NAME[1])\n",
    "\n",
    "# -999 messed with the plotting - change to NA\n",
    "data[data==-999] = NA\n",
    "\n",
    "sum(is.na(data)) #print number of missing values"
   ]
  },
  {
   "cell_type": "markdown",
   "metadata": {},
   "source": [
    "Check number of years in the data set."
   ]
  },
  {
   "cell_type": "code",
   "execution_count": 5,
   "metadata": {
    "collapsed": false
   },
   "outputs": [
    {
     "data": {
      "text/html": [
       "52"
      ],
      "text/latex": [
       "52"
      ],
      "text/markdown": [
       "52"
      ],
      "text/plain": [
       "[1] 52"
      ]
     },
     "metadata": {},
     "output_type": "display_data"
    }
   ],
   "source": [
    "data$YEAR[nrow(data)]-firstYear"
   ]
  },
  {
   "cell_type": "code",
   "execution_count": 6,
   "metadata": {
    "collapsed": false
   },
   "outputs": [
    {
     "data": {
      "text/plain": [
       "\n",
       " 1  2  3  4  5  6  7  8  9 10 11 12 \n",
       "53 53 53 53 53 53 53 53 53 53 53 53 "
      ]
     },
     "metadata": {},
     "output_type": "display_data"
    }
   ],
   "source": [
    "table(data$MONTH)"
   ]
  },
  {
   "cell_type": "markdown",
   "metadata": {},
   "source": [
    "Make a data frame of all the 10 year periods following the first year for data collected at the station."
   ]
  },
  {
   "cell_type": "code",
   "execution_count": 7,
   "metadata": {
    "collapsed": false
   },
   "outputs": [],
   "source": [
    "#create the first decade (first year and the following 9 years)\n",
    "max_PRCP = data.frame(data[which(data$YEAR < (firstYear + 10)),6])\n",
    "\n",
    "# add all the subsequent decades to the data frame incrementing by 1 year at a time\n",
    "# i.e. 1896-1905, 1897-1906, etc\n",
    "for(year in c((data$YEAR[1] + 1):2005)){\n",
    "    max_PRCP = cbind(max_PRCP,data[which(data$YEAR >= year & data$YEAR < year+10),6])\n",
    "}\n",
    "\n",
    "# name the columns as the first year of the observed 10 year periods\n",
    "colnames(max_PRCP) = as.character(c(firstYear:2005))\n",
    "\n",
    "# set the missing values to NA\n",
    "max_PRCP[max_PRCP==-999] = NA"
   ]
  },
  {
   "cell_type": "markdown",
   "metadata": {},
   "source": [
    "## Section 1: Distribution of Max Precipitation and Trends"
   ]
  },
  {
   "cell_type": "code",
   "execution_count": 8,
   "metadata": {
    "collapsed": true
   },
   "outputs": [],
   "source": [
    "data2012 = data[which(data$YEAR<2013),]"
   ]
  },
  {
   "cell_type": "code",
   "execution_count": 56,
   "metadata": {
    "collapsed": true
   },
   "outputs": [],
   "source": [
    "options(repr.plot.width=5, repr.plot.height=5) #reduces the plot sizes"
   ]
  },
  {
   "cell_type": "markdown",
   "metadata": {},
   "source": [
    "### Maximum Rainfall Trends"
   ]
  },
  {
   "cell_type": "code",
   "execution_count": 10,
   "metadata": {
    "collapsed": true
   },
   "outputs": [],
   "source": [
    "# create for maximum rainfall\n",
    "maxTS = ts(data$Max.PRCP, start = firstYear, freq=12)\n",
    "\n",
    "# create regression line\n",
    "reg = lm(Max.PRCP. ~ month, data=data)"
   ]
  },
  {
   "cell_type": "markdown",
   "metadata": {},
   "source": [
    "Slope of the regression line:"
   ]
  },
  {
   "cell_type": "code",
   "execution_count": 11,
   "metadata": {
    "collapsed": false
   },
   "outputs": [
    {
     "data": {
      "text/html": [
       "<strong>month:</strong> -0.011"
      ],
      "text/latex": [
       "\\textbf{month:} -0.011"
      ],
      "text/markdown": [
       "**month:** -0.011"
      ],
      "text/plain": [
       " month \n",
       "-0.011 "
      ]
     },
     "metadata": {},
     "output_type": "display_data"
    }
   ],
   "source": [
    "round(reg$coefficients[2],3)"
   ]
  },
  {
   "cell_type": "code",
   "execution_count": 12,
   "metadata": {
    "collapsed": false
   },
   "outputs": [
    {
     "data": {
      "text/html": [
       "<strong>month:</strong> -6.996"
      ],
      "text/latex": [
       "\\textbf{month:} -6.996"
      ],
      "text/markdown": [
       "**month:** -6.996"
      ],
      "text/plain": [
       " month \n",
       "-6.996 "
      ]
     },
     "metadata": {},
     "output_type": "display_data"
    }
   ],
   "source": [
    "length(data$MONTH)*round(reg$coefficients[2],3)"
   ]
  },
  {
   "cell_type": "markdown",
   "metadata": {},
   "source": [
    "Although month isn't very predictive of maximum observed rainfall, there does appear to be an increase over the time data was collected."
   ]
  },
  {
   "cell_type": "code",
   "execution_count": 13,
   "metadata": {
    "collapsed": false
   },
   "outputs": [],
   "source": [
    "maxTS2012 = ts(data2012$Max.PRCP, start = firstYear, freq=12)"
   ]
  },
  {
   "cell_type": "code",
   "execution_count": 14,
   "metadata": {
    "collapsed": false
   },
   "outputs": [],
   "source": [
    "maxObs = max(na.omit(data2012$Max.PRCP.))"
   ]
  },
  {
   "cell_type": "code",
   "execution_count": 15,
   "metadata": {
    "collapsed": true
   },
   "outputs": [],
   "source": [
    "smooth = runmean(data2012$Max.PRCP., 120)"
   ]
  },
  {
   "cell_type": "code",
   "execution_count": 16,
   "metadata": {
    "collapsed": true
   },
   "outputs": [],
   "source": [
    "smoothTS = ts(smooth, start=firstYear, freq=12)"
   ]
  },
  {
   "cell_type": "code",
   "execution_count": 17,
   "metadata": {
    "collapsed": false
   },
   "outputs": [
    {
     "data": {
      "text/html": [
       "89"
      ],
      "text/latex": [
       "89"
      ],
      "text/markdown": [
       "89"
      ],
      "text/plain": [
       "[1] 89"
      ]
     },
     "metadata": {},
     "output_type": "display_data"
    }
   ],
   "source": [
    "which(data2012$Max.PRCP.==maxObs)"
   ]
  },
  {
   "cell_type": "code",
   "execution_count": 60,
   "metadata": {
    "collapsed": false
   },
   "outputs": [
    {
     "data": {
      "image/png": "[encoded data removed]",
      "text/plain": [
       "Plot with title \"EVERGREEN CO US \n",
       "Observed 24 Hour Max Rainfall \n",
       "from 1962 to 2012 by Monthly Max\""
      ]
     },
     "metadata": {},
     "output_type": "display_data"
    }
   ],
   "source": [
    "plot(maxTS2012, xlab = \"Time (years)\", col = \"darkgrey\", lwd=1.75, ylab = \"Observed Max Precipitation (1/10mm)\", \n",
    "     main=sprintf(\"%s \\nObserved 24 Hour Max Rainfall \\nfrom %i to 2012 by Monthly Max\", \n",
    "     stationName,firstYear), ylim=c(0,1000))\n",
    "abline(h=maxObs, col=\"red\", lwd=.5, lty=5)\n",
    "points(smoothTS, col=4, type=\"l\", lwd=2)\n",
    "text(1970,maxObs+50,\n",
    "           sprintf(\"%i\",maxObs))"
   ]
  },
  {
   "cell_type": "markdown",
   "metadata": {},
   "source": [
    "In the time series plot, we also see that the peaks are gradually increasing over time, which is of specific interest to people working with maximum rainfall estimation. These increasing peaks have been wreaking havoc on Texas and the Eastern US this year. (Template statement - change as needed for individual stations)."
   ]
  },
  {
   "cell_type": "markdown",
   "metadata": {},
   "source": [
    "Produce smoothed plots to get a better understanding of the trends."
   ]
  },
  {
   "cell_type": "code",
   "execution_count": 20,
   "metadata": {
    "collapsed": false
   },
   "outputs": [
    {
     "data": {
      "image/png": "[encoded data removed]",
      "text/plain": [
       "Plot with title \"Smoothed 24 hour max rainfall from 1896 to 2012\""
      ]
     },
     "metadata": {},
     "output_type": "display_data"
    }
   ],
   "source": [
    "#rollSmall = runmean(data$Max.PRCP., 300)\n",
    "plot(smoothTS, type=\"l\", xlab = \"Time (years)\", lwd=2,\n",
    "    ylab = \"Max Precipitation (1/10mm)\", col = 1, main=\"Smoothed 24 hour max rainfall from 1896 to 2012\")\n",
    "    #points(rollLarge, type=\"l\", col=4)\n",
    "    #egend(0,200, c(\"300 window\",\"\", \"900 window\"), col=c(2,0,4), lty=c(1,0,1), bty=\"n\")"
   ]
  },
  {
   "cell_type": "markdown",
   "metadata": {},
   "source": [
    "While the data shows a slight decrease in average rainfall at the tail end of our data (2014), the long term trend shows that average rainfall has been increasing. Empirically, we have had a wet year in 2016 that we would expect to match/exceed the long term observed increase in average maximum rainfall.(Template statement - change as needed for individual stations)"
   ]
  },
  {
   "cell_type": "markdown",
   "metadata": {},
   "source": [
    "## Section 2: Parameter Estimation, Distribution, and Trends"
   ]
  },
  {
   "cell_type": "code",
   "execution_count": 21,
   "metadata": {
    "collapsed": false
   },
   "outputs": [],
   "source": [
    "mleGamma = data.frame(alpha = double(),\n",
    "                 theta = double(),\n",
    "                 KS = double(),\n",
    "                 KStest = character(),\n",
    "                 CvM = double(),\n",
    "                 CvMtest = character(),\n",
    "                 AD = double(),\n",
    "                 ADtest = character(),\n",
    "                 stringsAsFactors = FALSE)\n",
    "                \n",
    "for (i in 1:length(max_PRCP)) {\n",
    "\n",
    "    testDist = na.omit(max_PRCP[,i])\n",
    "        \n",
    "        for(j in 1:length(testDist)){\n",
    "            if(testDist[j] < .1){\n",
    "            testDist[j]=.0001\n",
    "            }\n",
    "        }\n",
    "\n",
    "   gamma1 = fitdist(as.vector(testDist),\"gamma\",method = \"mle\")\n",
    "   mleGamma[i,1] = gamma1$estimate[1]\n",
    "   mleGamma[i,2] = gamma1$estimate[2]\n",
    "   \n",
    "   gof = gofstat(gamma1)\n",
    "   mleGamma[i,3] = gof$ks\n",
    "   mleGamma[i,4] = gof$kstest\n",
    "   mleGamma[i,5] = gof$cvm\n",
    "   mleGamma[i,6] = gof$cvmtest\n",
    "   mleGamma[i,7] = gof$ad\n",
    "   mleGamma[i,8] = gof$adtest\n",
    "}\n",
    "\n",
    "mleGamma[\"invTheta\"] = 1/(mleGamma$theta)\n",
    "mleGamma[\"mean\"] = mleGamma$invTheta*mleGamma$alpha\n",
    "mleGamma[\"var\"] = mleGamma$alpha*(mleGamma$invTheta^2)\n",
    "mleGamma[\"sd\"] = sqrt(mleGamma$var)"
   ]
  },
  {
   "cell_type": "code",
   "execution_count": 22,
   "metadata": {
    "collapsed": true
   },
   "outputs": [],
   "source": [
    "mleExp = data.frame(theta = double(),\n",
    "                 KS = double(),\n",
    "                 KStest = character(),\n",
    "                 CvM = double(),\n",
    "                 CvMtest = character(),\n",
    "                 AD = double(),\n",
    "                 ADtest = character(),\n",
    "                 stringsAsFactors = FALSE)\n",
    "                \n",
    "for (i in 1:length(max_PRCP)) {\n",
    "\n",
    "    testDist = na.omit(max_PRCP[,i])\n",
    "        \n",
    "        for(j in 1:length(testDist)){\n",
    "            if(testDist[j] < .1){\n",
    "            testDist[j]=.0001\n",
    "            }\n",
    "        }\n",
    "\n",
    "   exp1 = fitdist(as.vector(testDist),\"exp\",method = \"mle\")\n",
    "   mleExp[i,1] = exp1$estimate[1]\n",
    "   \n",
    "   gof = gofstat(exp1)\n",
    "   mleExp[i,2] = gof$ks\n",
    "   mleExp[i,3] = gof$kstest\n",
    "   mleExp[i,4] = gof$cvm\n",
    "   mleExp[i,5] = gof$cvmtest\n",
    "   mleExp[i,6] = gof$ad\n",
    "   mleExp[i,7] = gof$adtest\n",
    "}\n",
    "\n",
    "mleExp[\"mean\"] = 1/mleExp$theta\n",
    "mleExp[\"square\"] = mleExp$theta^2 \n",
    "mleExp[\"var\"] = 1/mleExp$square\n",
    "mleExp[\"sd\"] = sqrt(mleExp$var)"
   ]
  },
  {
   "cell_type": "code",
   "execution_count": 23,
   "metadata": {
    "collapsed": false
   },
   "outputs": [
    {
     "data": {
      "text/html": [],
      "text/latex": [],
      "text/markdown": [],
      "text/plain": [
       "integer(0)"
      ]
     },
     "metadata": {},
     "output_type": "display_data"
    }
   ],
   "source": [
    "which(mleGamma$KStest==\"rejected\")"
   ]
  },
  {
   "cell_type": "code",
   "execution_count": 24,
   "metadata": {
    "collapsed": false
   },
   "outputs": [
    {
     "data": {
      "text/html": [
       "<ol class=list-inline>\n",
       "\t<li>1</li>\n",
       "\t<li>2</li>\n",
       "\t<li>3</li>\n",
       "\t<li>4</li>\n",
       "\t<li>5</li>\n",
       "\t<li>6</li>\n",
       "\t<li>7</li>\n",
       "\t<li>18</li>\n",
       "\t<li>19</li>\n",
       "\t<li>20</li>\n",
       "\t<li>21</li>\n",
       "\t<li>22</li>\n",
       "\t<li>23</li>\n",
       "\t<li>24</li>\n",
       "\t<li>25</li>\n",
       "\t<li>26</li>\n",
       "\t<li>27</li>\n",
       "\t<li>28</li>\n",
       "\t<li>29</li>\n",
       "\t<li>30</li>\n",
       "\t<li>31</li>\n",
       "\t<li>32</li>\n",
       "\t<li>33</li>\n",
       "\t<li>34</li>\n",
       "\t<li>35</li>\n",
       "\t<li>36</li>\n",
       "\t<li>37</li>\n",
       "\t<li>38</li>\n",
       "\t<li>39</li>\n",
       "\t<li>40</li>\n",
       "\t<li>41</li>\n",
       "\t<li>42</li>\n",
       "\t<li>43</li>\n",
       "\t<li>44</li>\n",
       "</ol>\n"
      ],
      "text/latex": [
       "\\begin{enumerate*}\n",
       "\\item 1\n",
       "\\item 2\n",
       "\\item 3\n",
       "\\item 4\n",
       "\\item 5\n",
       "\\item 6\n",
       "\\item 7\n",
       "\\item 18\n",
       "\\item 19\n",
       "\\item 20\n",
       "\\item 21\n",
       "\\item 22\n",
       "\\item 23\n",
       "\\item 24\n",
       "\\item 25\n",
       "\\item 26\n",
       "\\item 27\n",
       "\\item 28\n",
       "\\item 29\n",
       "\\item 30\n",
       "\\item 31\n",
       "\\item 32\n",
       "\\item 33\n",
       "\\item 34\n",
       "\\item 35\n",
       "\\item 36\n",
       "\\item 37\n",
       "\\item 38\n",
       "\\item 39\n",
       "\\item 40\n",
       "\\item 41\n",
       "\\item 42\n",
       "\\item 43\n",
       "\\item 44\n",
       "\\end{enumerate*}\n"
      ],
      "text/markdown": [
       "1. 1\n",
       "2. 2\n",
       "3. 3\n",
       "4. 4\n",
       "5. 5\n",
       "6. 6\n",
       "7. 7\n",
       "8. 18\n",
       "9. 19\n",
       "10. 20\n",
       "11. 21\n",
       "12. 22\n",
       "13. 23\n",
       "14. 24\n",
       "15. 25\n",
       "16. 26\n",
       "17. 27\n",
       "18. 28\n",
       "19. 29\n",
       "20. 30\n",
       "21. 31\n",
       "22. 32\n",
       "23. 33\n",
       "24. 34\n",
       "25. 35\n",
       "26. 36\n",
       "27. 37\n",
       "28. 38\n",
       "29. 39\n",
       "30. 40\n",
       "31. 41\n",
       "32. 42\n",
       "33. 43\n",
       "34. 44\n",
       "\n",
       "\n"
      ],
      "text/plain": [
       " [1]  1  2  3  4  5  6  7 18 19 20 21 22 23 24 25 26 27 28 29 30 31 32 33 34 35\n",
       "[26] 36 37 38 39 40 41 42 43 44"
      ]
     },
     "metadata": {},
     "output_type": "display_data"
    }
   ],
   "source": [
    "which(mleExp$KStest==\"rejected\")"
   ]
  },
  {
   "cell_type": "code",
   "execution_count": 25,
   "metadata": {
    "collapsed": false
   },
   "outputs": [
    {
     "data": {
      "text/html": [
       "<table>\n",
       "<thead><tr><th scope=col>alpha</th><th scope=col>theta</th><th scope=col>KS</th><th scope=col>KStest</th><th scope=col>CvM</th><th scope=col>CvMtest</th><th scope=col>AD</th><th scope=col>ADtest</th><th scope=col>invTheta</th><th scope=col>mean</th><th scope=col>var</th><th scope=col>sd</th></tr></thead>\n",
       "<tbody>\n",
       "\t<tr><td>1.251003    </td><td>0.008698314 </td><td>0.10891072  </td><td>not rejected</td><td>0.3103006   </td><td>rejected    </td><td>2.0625315   </td><td>rejected    </td><td>114.96481   </td><td>143.8213    </td><td>16534.39    </td><td>128.5861    </td></tr>\n",
       "\t<tr><td>1.266897    </td><td>0.008416959 </td><td>0.11706474  </td><td>not rejected</td><td>0.3299521   </td><td>rejected    </td><td>2.2218374   </td><td>rejected    </td><td>118.80775   </td><td>150.5171    </td><td>17882.60    </td><td>133.7259    </td></tr>\n",
       "\t<tr><td>1.694246    </td><td>0.011020722 </td><td>0.07668986  </td><td>not rejected</td><td>0.1186088   </td><td>not rejected</td><td>0.7498934   </td><td>not rejected</td><td> 90.73815   </td><td>153.7327    </td><td>13949.42    </td><td>118.1077    </td></tr>\n",
       "\t<tr><td>1.749939    </td><td>0.011064360 </td><td>0.08802200  </td><td>not rejected</td><td>0.2087449   </td><td>rejected    </td><td>1.1536578   </td><td>rejected    </td><td> 90.38028   </td><td>158.1600    </td><td>14294.54    </td><td>119.5598    </td></tr>\n",
       "\t<tr><td>1.723695    </td><td>0.010571996 </td><td>0.09304209  </td><td>not rejected</td><td>0.1550119   </td><td>rejected    </td><td>0.8987221   </td><td>rejected    </td><td> 94.58952   </td><td>163.0435    </td><td>15422.20    </td><td>124.1862    </td></tr>\n",
       "\t<tr><td>1.689992    </td><td>0.010158564 </td><td>0.08569737  </td><td>not rejected</td><td>0.1013708   </td><td>not rejected</td><td>0.6046450   </td><td>not rejected</td><td> 98.43911   </td><td>166.3613    </td><td>16376.46    </td><td>127.9705    </td></tr>\n",
       "</tbody>\n",
       "</table>\n"
      ],
      "text/latex": [
       "\\begin{tabular}{r|llllllllllll}\n",
       " alpha & theta & KS & KStest & CvM & CvMtest & AD & ADtest & invTheta & mean & var & sd\\\\\n",
       "\\hline\n",
       "\t 1.251003     & 0.008698314  & 0.10891072   & not rejected & 0.3103006    & rejected     & 2.0625315    & rejected     & 114.96481    & 143.8213     & 16534.39     & 128.5861    \\\\\n",
       "\t 1.266897     & 0.008416959  & 0.11706474   & not rejected & 0.3299521    & rejected     & 2.2218374    & rejected     & 118.80775    & 150.5171     & 17882.60     & 133.7259    \\\\\n",
       "\t 1.694246     & 0.011020722  & 0.07668986   & not rejected & 0.1186088    & not rejected & 0.7498934    & not rejected &  90.73815    & 153.7327     & 13949.42     & 118.1077    \\\\\n",
       "\t 1.749939     & 0.011064360  & 0.08802200   & not rejected & 0.2087449    & rejected     & 1.1536578    & rejected     &  90.38028    & 158.1600     & 14294.54     & 119.5598    \\\\\n",
       "\t 1.723695     & 0.010571996  & 0.09304209   & not rejected & 0.1550119    & rejected     & 0.8987221    & rejected     &  94.58952    & 163.0435     & 15422.20     & 124.1862    \\\\\n",
       "\t 1.689992     & 0.010158564  & 0.08569737   & not rejected & 0.1013708    & not rejected & 0.6046450    & not rejected &  98.43911    & 166.3613     & 16376.46     & 127.9705    \\\\\n",
       "\\end{tabular}\n"
      ],
      "text/plain": [
       "  alpha    theta       KS         KStest       CvM       CvMtest      AD       \n",
       "1 1.251003 0.008698314 0.10891072 not rejected 0.3103006 rejected     2.0625315\n",
       "2 1.266897 0.008416959 0.11706474 not rejected 0.3299521 rejected     2.2218374\n",
       "3 1.694246 0.011020722 0.07668986 not rejected 0.1186088 not rejected 0.7498934\n",
       "4 1.749939 0.011064360 0.08802200 not rejected 0.2087449 rejected     1.1536578\n",
       "5 1.723695 0.010571996 0.09304209 not rejected 0.1550119 rejected     0.8987221\n",
       "6 1.689992 0.010158564 0.08569737 not rejected 0.1013708 not rejected 0.6046450\n",
       "  ADtest       invTheta  mean     var      sd      \n",
       "1 rejected     114.96481 143.8213 16534.39 128.5861\n",
       "2 rejected     118.80775 150.5171 17882.60 133.7259\n",
       "3 not rejected  90.73815 153.7327 13949.42 118.1077\n",
       "4 rejected      90.38028 158.1600 14294.54 119.5598\n",
       "5 rejected      94.58952 163.0435 15422.20 124.1862\n",
       "6 not rejected  98.43911 166.3613 16376.46 127.9705"
      ]
     },
     "metadata": {},
     "output_type": "display_data"
    }
   ],
   "source": [
    "head(mleGamma)"
   ]
  },
  {
   "cell_type": "code",
   "execution_count": 26,
   "metadata": {
    "collapsed": false
   },
   "outputs": [
    {
     "data": {
      "text/html": [
       "<table>\n",
       "<thead><tr><th scope=col>theta</th><th scope=col>KS</th><th scope=col>KStest</th><th scope=col>CvM</th><th scope=col>CvMtest</th><th scope=col>AD</th><th scope=col>ADtest</th><th scope=col>mean</th><th scope=col>square</th><th scope=col>var</th><th scope=col>sd</th></tr></thead>\n",
       "<tbody>\n",
       "\t<tr><td>0.006952153 </td><td>0.1565358   </td><td>rejected    </td><td>0.6555035   </td><td>rejected    </td><td>3.833047    </td><td>rejected    </td><td>143.8403    </td><td>4.833243e-05</td><td>20690.04    </td><td>143.8403    </td></tr>\n",
       "\t<tr><td>0.006644725 </td><td>0.1670687   </td><td>rejected    </td><td>0.6798898   </td><td>rejected    </td><td>4.003104    </td><td>rejected    </td><td>150.4953    </td><td>4.415236e-05</td><td>22648.84    </td><td>150.4953    </td></tr>\n",
       "\t<tr><td>0.006506141 </td><td>0.1536210   </td><td>rejected    </td><td>0.6583862   </td><td>rejected    </td><td>3.815963    </td><td>rejected    </td><td>153.7009    </td><td>4.232987e-05</td><td>23623.98    </td><td>153.7009    </td></tr>\n",
       "\t<tr><td>0.006322382 </td><td>0.1574944   </td><td>rejected    </td><td>0.6989309   </td><td>rejected    </td><td>4.104749    </td><td>rejected    </td><td>158.1682    </td><td>3.997252e-05</td><td>25017.19    </td><td>158.1682    </td></tr>\n",
       "\t<tr><td>0.006134266 </td><td>0.1518525   </td><td>rejected    </td><td>0.6212355   </td><td>rejected    </td><td>3.709109    </td><td>rejected    </td><td>163.0187    </td><td>3.762922e-05</td><td>26575.09    </td><td>163.0187    </td></tr>\n",
       "\t<tr><td>0.006008198 </td><td>0.1387032   </td><td>rejected    </td><td>0.5395451   </td><td>rejected    </td><td>3.261619    </td><td>rejected    </td><td>166.4393    </td><td>3.609844e-05</td><td>27702.02    </td><td>166.4393    </td></tr>\n",
       "</tbody>\n",
       "</table>\n"
      ],
      "text/latex": [
       "\\begin{tabular}{r|lllllllllll}\n",
       " theta & KS & KStest & CvM & CvMtest & AD & ADtest & mean & square & var & sd\\\\\n",
       "\\hline\n",
       "\t 0.006952153  & 0.1565358    & rejected     & 0.6555035    & rejected     & 3.833047     & rejected     & 143.8403     & 4.833243e-05 & 20690.04     & 143.8403    \\\\\n",
       "\t 0.006644725  & 0.1670687    & rejected     & 0.6798898    & rejected     & 4.003104     & rejected     & 150.4953     & 4.415236e-05 & 22648.84     & 150.4953    \\\\\n",
       "\t 0.006506141  & 0.1536210    & rejected     & 0.6583862    & rejected     & 3.815963     & rejected     & 153.7009     & 4.232987e-05 & 23623.98     & 153.7009    \\\\\n",
       "\t 0.006322382  & 0.1574944    & rejected     & 0.6989309    & rejected     & 4.104749     & rejected     & 158.1682     & 3.997252e-05 & 25017.19     & 158.1682    \\\\\n",
       "\t 0.006134266  & 0.1518525    & rejected     & 0.6212355    & rejected     & 3.709109     & rejected     & 163.0187     & 3.762922e-05 & 26575.09     & 163.0187    \\\\\n",
       "\t 0.006008198  & 0.1387032    & rejected     & 0.5395451    & rejected     & 3.261619     & rejected     & 166.4393     & 3.609844e-05 & 27702.02     & 166.4393    \\\\\n",
       "\\end{tabular}\n"
      ],
      "text/plain": [
       "  theta       KS        KStest   CvM       CvMtest  AD       ADtest   mean    \n",
       "1 0.006952153 0.1565358 rejected 0.6555035 rejected 3.833047 rejected 143.8403\n",
       "2 0.006644725 0.1670687 rejected 0.6798898 rejected 4.003104 rejected 150.4953\n",
       "3 0.006506141 0.1536210 rejected 0.6583862 rejected 3.815963 rejected 153.7009\n",
       "4 0.006322382 0.1574944 rejected 0.6989309 rejected 4.104749 rejected 158.1682\n",
       "5 0.006134266 0.1518525 rejected 0.6212355 rejected 3.709109 rejected 163.0187\n",
       "6 0.006008198 0.1387032 rejected 0.5395451 rejected 3.261619 rejected 166.4393\n",
       "  square       var      sd      \n",
       "1 4.833243e-05 20690.04 143.8403\n",
       "2 4.415236e-05 22648.84 150.4953\n",
       "3 4.232987e-05 23623.98 153.7009\n",
       "4 3.997252e-05 25017.19 158.1682\n",
       "5 3.762922e-05 26575.09 163.0187\n",
       "6 3.609844e-05 27702.02 166.4393"
      ]
     },
     "metadata": {},
     "output_type": "display_data"
    }
   ],
   "source": [
    "head(mleExp)"
   ]
  },
  {
   "cell_type": "code",
   "execution_count": 27,
   "metadata": {
    "collapsed": false
   },
   "outputs": [],
   "source": [
    "trueEst = NULL\n",
    "for(i in 1:nrow(mleExp)){\n",
    "    if(mleExp$KStest[i] == \"not rejected\" & mleGamma$KStest[i] == \"not rejected\"){\n",
    "        trueEst = c(trueEst,\"plot\")\n",
    "    }\n",
    "    if(mleExp$KStest[i] == \"not rejected\" & mleGamma$KStest[i] == \"rejected\"){\n",
    "        trueEst = c(trueEst,\"exp\")\n",
    "    }\n",
    "    if(mleExp$KStest[i] == \"rejected\" & mleGamma$KStest[i] == \"not rejected\"){\n",
    "        trueEst = c(trueEst,\"gamma\")\n",
    "    }\n",
    "    if(mleExp$KStest[i] == \"rejected\" & mleGamma$KStest[i] == \"rejected\"){\n",
    "        trueEst = c(trueEst,\"fail\")\n",
    "    }\n",
    "}"
   ]
  },
  {
   "cell_type": "code",
   "execution_count": 28,
   "metadata": {
    "collapsed": false
   },
   "outputs": [
    {
     "data": {
      "text/plain": [
       "trueEst\n",
       "gamma  plot \n",
       "   34    10 "
      ]
     },
     "metadata": {},
     "output_type": "display_data"
    }
   ],
   "source": [
    "table(trueEst)"
   ]
  },
  {
   "cell_type": "code",
   "execution_count": 29,
   "metadata": {
    "collapsed": false
   },
   "outputs": [
    {
     "data": {
      "text/html": [],
      "text/latex": [],
      "text/markdown": [],
      "text/plain": [
       "integer(0)"
      ]
     },
     "metadata": {},
     "output_type": "display_data"
    }
   ],
   "source": [
    "which(trueEst==\"fail\")"
   ]
  },
  {
   "cell_type": "code",
   "execution_count": 30,
   "metadata": {
    "collapsed": false
   },
   "outputs": [
    {
     "data": {
      "text/html": [
       "<ol class=list-inline>\n",
       "\t<li>8</li>\n",
       "\t<li>9</li>\n",
       "\t<li>10</li>\n",
       "\t<li>11</li>\n",
       "\t<li>12</li>\n",
       "\t<li>13</li>\n",
       "\t<li>14</li>\n",
       "\t<li>15</li>\n",
       "\t<li>16</li>\n",
       "\t<li>17</li>\n",
       "</ol>\n"
      ],
      "text/latex": [
       "\\begin{enumerate*}\n",
       "\\item 8\n",
       "\\item 9\n",
       "\\item 10\n",
       "\\item 11\n",
       "\\item 12\n",
       "\\item 13\n",
       "\\item 14\n",
       "\\item 15\n",
       "\\item 16\n",
       "\\item 17\n",
       "\\end{enumerate*}\n"
      ],
      "text/markdown": [
       "1. 8\n",
       "2. 9\n",
       "3. 10\n",
       "4. 11\n",
       "5. 12\n",
       "6. 13\n",
       "7. 14\n",
       "8. 15\n",
       "9. 16\n",
       "10. 17\n",
       "\n",
       "\n"
      ],
      "text/plain": [
       " [1]  8  9 10 11 12 13 14 15 16 17"
      ]
     },
     "metadata": {},
     "output_type": "display_data"
    }
   ],
   "source": [
    "which(trueEst==\"plot\")"
   ]
  },
  {
   "cell_type": "code",
   "execution_count": 31,
   "metadata": {
    "collapsed": true
   },
   "outputs": [],
   "source": [
    "options(repr.plot.width=9, repr.plot.height=5) #reduces the plot sizes"
   ]
  },
  {
   "cell_type": "code",
   "execution_count": 32,
   "metadata": {
    "collapsed": false
   },
   "outputs": [
    {
     "data": {
      "image/png": "[encoded data removed]",
      "text/plain": [
       "Plot with title \"Histogram of max_PRCP[, 13]\""
      ]
     },
     "metadata": {},
     "output_type": "display_data"
    }
   ],
   "source": [
    "par(mfrow=c(1,2))\n",
    "plot(density(rgamma(10000,mleGamma$alpha[13],mleGamma$theta[13])))\n",
    "hist(max_PRCP[,13], breaks=20)"
   ]
  },
  {
   "cell_type": "code",
   "execution_count": 33,
   "metadata": {
    "collapsed": false
   },
   "outputs": [
    {
     "data": {
      "image/png": "[encoded data removed]",
      "text/plain": [
       "Plot with title \"Histogram of max_PRCP[, 14]\""
      ]
     },
     "metadata": {},
     "output_type": "display_data"
    }
   ],
   "source": [
    "par(mfrow=c(1,2))\n",
    "plot(density(rgamma(10000,mleGamma$alpha[14],mleGamma$theta[14])))\n",
    "hist(max_PRCP[,14], breaks=20)"
   ]
  },
  {
   "cell_type": "code",
   "execution_count": 34,
   "metadata": {
    "collapsed": false
   },
   "outputs": [
    {
     "data": {
      "image/png": "[encoded data removed]",
      "text/plain": [
       "Plot with title \"Histogram of max_PRCP[, 3]\""
      ]
     },
     "metadata": {},
     "output_type": "display_data"
    }
   ],
   "source": [
    "par(mfrow=c(1,2))\n",
    "plot(density(rgamma(10000,mleGamma$alpha[3],mleGamma$theta[3])))\n",
    "hist(max_PRCP[,3], breaks=20)"
   ]
  },
  {
   "cell_type": "code",
   "execution_count": 35,
   "metadata": {
    "collapsed": false
   },
   "outputs": [
    {
     "data": {
      "image/png": "[encoded data removed]",
      "text/plain": [
       "Plot with title \"Histogram of max_PRCP[, 14]\""
      ]
     },
     "metadata": {},
     "output_type": "display_data"
    }
   ],
   "source": [
    "par(mfrow=c(1,2))\n",
    "plot(density(rgamma(10000,mleGamma$alpha[14],mleGamma$theta[14])))\n",
    "hist(max_PRCP[,14], breaks=20)"
   ]
  },
  {
   "cell_type": "code",
   "execution_count": 36,
   "metadata": {
    "collapsed": false
   },
   "outputs": [
    {
     "data": {
      "text/html": [
       "44"
      ],
      "text/latex": [
       "44"
      ],
      "text/markdown": [
       "44"
      ],
      "text/plain": [
       "[1] 44"
      ]
     },
     "metadata": {},
     "output_type": "display_data"
    }
   ],
   "source": [
    "length(trueEst)"
   ]
  },
  {
   "cell_type": "code",
   "execution_count": 37,
   "metadata": {
    "collapsed": true
   },
   "outputs": [],
   "source": [
    "maxObs2 = max(na.omit(data$Max.PRCP.))"
   ]
  },
  {
   "cell_type": "code",
   "execution_count": 38,
   "metadata": {
    "collapsed": true
   },
   "outputs": [],
   "source": [
    "smooth2 = runmean(data$Max.PRCP., 120)"
   ]
  },
  {
   "cell_type": "code",
   "execution_count": 39,
   "metadata": {
    "collapsed": true
   },
   "outputs": [],
   "source": [
    "smoothTS2 = ts(smooth2, start=firstYear, freq=12)"
   ]
  },
  {
   "cell_type": "code",
   "execution_count": 68,
   "metadata": {
    "collapsed": false
   },
   "outputs": [
    {
     "data": {
      "image/png": "[encoded data removed]",
      "text/plain": [
       "Plot with title \"EVERGREEN CO US \n",
       "Observed 24 Hour Max Rainfall \n",
       "from 1962 to 2014 by Monthly Max\""
      ]
     },
     "metadata": {},
     "output_type": "display_data"
    }
   ],
   "source": [
    "plot(maxTS, xlab = \"Time (years)\", col = \"darkgrey\", lwd=1.75, ylab = \"Observed Max Precipitation (1/10mm)\", \n",
    "     main=sprintf(\"%s \\nObserved 24 Hour Max Rainfall \\nfrom %i to 2014 by Monthly Max\", \n",
    "     stationName,firstYear),ylim=c(0,1000))\n",
    "abline(h=maxObs2, col=\"red\", lwd=.5, lty=5)\n",
    "points(smoothTS2, col=4, type=\"l\", lwd=2)\n",
    "text(1969,maxObs2+50,sprintf(\"%i\",maxObs2))"
   ]
  },
  {
   "cell_type": "code",
   "execution_count": 69,
   "metadata": {
    "collapsed": false
   },
   "outputs": [
    {
     "data": {
      "image/png": "[encoded data removed]",
      "text/plain": [
       "Plot with title \"Smoothed 24 hour max rainfall from 1896 to 2014\""
      ]
     },
     "metadata": {},
     "output_type": "display_data"
    }
   ],
   "source": [
    "#rollSmall = runmean(data$Max.PRCP., 300)\n",
    "plot(smoothTS2, type=\"l\", xlab = \"Time (years)\", lwd=2,\n",
    "    ylab = \"Max Precipitation (1/10mm)\", col = 1, main=\"Smoothed 24 hour max rainfall from 1896 to 2014\")"
   ]
  },
  {
   "cell_type": "code",
   "execution_count": 70,
   "metadata": {
    "collapsed": false
   },
   "outputs": [
    {
     "data": {
      "image/png": "[encoded data removed]",
      "text/plain": [
       "Plot with title \"Smoothed 24 hour max rainfall from 1896 to 2014\""
      ]
     },
     "metadata": {},
     "output_type": "display_data"
    }
   ],
   "source": [
    "#rollSmall = runmean(data$Max.PRCP., 300)\n",
    "plot(smoothTS2, type=\"l\", xlab = \"Time (years)\", lwd=5,\n",
    "    ylab = \"Max Precipitation (1/10mm)\", col = 1, main=\"Smoothed 24 hour max rainfall from 1896 to 2014\")\n",
    "lines(smoothTS, col=2)"
   ]
  },
  {
   "cell_type": "code",
   "execution_count": 43,
   "metadata": {
    "collapsed": false
   },
   "outputs": [],
   "source": [
    "monthly = NULL\n",
    "for(i in 1:12){\n",
    "    monthly = cbind(monthly,data2012[which(data2012$MONTH==i),\"Max.PRCP.\"])\n",
    "}\n",
    "monthlyDF = as.data.frame(monthly)"
   ]
  },
  {
   "cell_type": "code",
   "execution_count": 44,
   "metadata": {
    "collapsed": false
   },
   "outputs": [],
   "source": [
    "colnames(monthlyDF) = c(\"jan\", \"feb\",\"mar\",\"apr\",\"may\",\"june\",\"july\",\"aug\",\"sept\",\"oct\",\"nov\",\"dec\")"
   ]
  },
  {
   "cell_type": "code",
   "execution_count": 45,
   "metadata": {
    "collapsed": true
   },
   "outputs": [],
   "source": [
    "options(repr.plot.width=8, repr.plot.height=8) #reduces the plot sizes"
   ]
  },
  {
   "cell_type": "code",
   "execution_count": 46,
   "metadata": {
    "collapsed": false
   },
   "outputs": [
    {
     "data": {
      "image/png": "[encoded data removed]",
      "text/plain": [
       "plot without title"
      ]
     },
     "metadata": {},
     "output_type": "display_data"
    }
   ],
   "source": [
    "par(mfrow=c(3,2))\n",
    "for(i in 1:6){\n",
    "    ts = ts(monthlyDF[,i], start=firstYear)\n",
    "    plot(ts)\n",
    "}"
   ]
  },
  {
   "cell_type": "code",
   "execution_count": 47,
   "metadata": {
    "collapsed": false
   },
   "outputs": [
    {
     "data": {
      "image/png": "[encoded data removed]",
      "text/plain": [
       "plot without title"
      ]
     },
     "metadata": {},
     "output_type": "display_data"
    }
   ],
   "source": [
    "par(mfrow=c(3,2))\n",
    "for(i in 7:12){\n",
    "    ts = ts(monthlyDF[,i],start=firstYear)\n",
    "    plot(ts)\n",
    "}"
   ]
  },
  {
   "cell_type": "code",
   "execution_count": 48,
   "metadata": {
    "collapsed": false
   },
   "outputs": [],
   "source": [
    "means = apply(max_PRCP,2,mean)"
   ]
  },
  {
   "cell_type": "code",
   "execution_count": 49,
   "metadata": {
    "collapsed": false
   },
   "outputs": [
    {
     "data": {
      "text/html": [
       "456"
      ],
      "text/latex": [
       "456"
      ],
      "text/markdown": [
       "456"
      ],
      "text/plain": [
       "[1] 456"
      ]
     },
     "metadata": {},
     "output_type": "display_data"
    }
   ],
   "source": [
    "sum(is.na(max_PRCP))"
   ]
  },
  {
   "cell_type": "markdown",
   "metadata": {},
   "source": [
    "Can't use the apply function with all the NAs"
   ]
  },
  {
   "cell_type": "code",
   "execution_count": 50,
   "metadata": {
    "collapsed": false
   },
   "outputs": [],
   "source": [
    "means = NULL\n",
    "for(i in 1:ncol(max_PRCP)){\n",
    "    means = c(means,mean(na.omit(max_PRCP[,i])))\n",
    "}"
   ]
  },
  {
   "cell_type": "code",
   "execution_count": 51,
   "metadata": {
    "collapsed": true
   },
   "outputs": [],
   "source": [
    "meanTS = ts(means,start=firstYear)"
   ]
  },
  {
   "cell_type": "code",
   "execution_count": 52,
   "metadata": {
    "collapsed": false
   },
   "outputs": [
    {
     "data": {
      "text/html": [
       "44"
      ],
      "text/latex": [
       "44"
      ],
      "text/markdown": [
       "44"
      ],
      "text/plain": [
       "[1] 44"
      ]
     },
     "metadata": {},
     "output_type": "display_data"
    }
   ],
   "source": [
    "length(meanTS)"
   ]
  },
  {
   "cell_type": "code",
   "execution_count": 53,
   "metadata": {
    "collapsed": false
   },
   "outputs": [
    {
     "data": {
      "text/html": [
       "636"
      ],
      "text/latex": [
       "636"
      ],
      "text/markdown": [
       "636"
      ],
      "text/plain": [
       "[1] 636"
      ]
     },
     "metadata": {},
     "output_type": "display_data"
    }
   ],
   "source": [
    "length(smoothTS2)"
   ]
  },
  {
   "cell_type": "code",
   "execution_count": 54,
   "metadata": {
    "collapsed": false
   },
   "outputs": [
    {
     "data": {
      "text/html": [
       "<ol class=list-inline>\n",
       "\t<li>'data'</li>\n",
       "\t<li>'data2012'</li>\n",
       "\t<li>'exp1'</li>\n",
       "\t<li>'firstYear'</li>\n",
       "\t<li>'gamma1'</li>\n",
       "\t<li>'gof'</li>\n",
       "\t<li>'i'</li>\n",
       "\t<li>'j'</li>\n",
       "\t<li>'max_PRCP'</li>\n",
       "\t<li>'maxObs'</li>\n",
       "\t<li>'maxObs2'</li>\n",
       "\t<li>'maxTS'</li>\n",
       "\t<li>'maxTS2012'</li>\n",
       "\t<li>'means'</li>\n",
       "\t<li>'meanTS'</li>\n",
       "\t<li>'mleExp'</li>\n",
       "\t<li>'mleGamma'</li>\n",
       "\t<li>'month'</li>\n",
       "\t<li>'monthly'</li>\n",
       "\t<li>'monthlyDF'</li>\n",
       "\t<li>'reg'</li>\n",
       "\t<li>'smooth'</li>\n",
       "\t<li>'smooth2'</li>\n",
       "\t<li>'smoothTS'</li>\n",
       "\t<li>'smoothTS2'</li>\n",
       "\t<li>'stationName'</li>\n",
       "\t<li>'testDist'</li>\n",
       "\t<li>'trueEst'</li>\n",
       "\t<li>'ts'</li>\n",
       "\t<li>'year'</li>\n",
       "</ol>\n"
      ],
      "text/latex": [
       "\\begin{enumerate*}\n",
       "\\item 'data'\n",
       "\\item 'data2012'\n",
       "\\item 'exp1'\n",
       "\\item 'firstYear'\n",
       "\\item 'gamma1'\n",
       "\\item 'gof'\n",
       "\\item 'i'\n",
       "\\item 'j'\n",
       "\\item 'max\\_PRCP'\n",
       "\\item 'maxObs'\n",
       "\\item 'maxObs2'\n",
       "\\item 'maxTS'\n",
       "\\item 'maxTS2012'\n",
       "\\item 'means'\n",
       "\\item 'meanTS'\n",
       "\\item 'mleExp'\n",
       "\\item 'mleGamma'\n",
       "\\item 'month'\n",
       "\\item 'monthly'\n",
       "\\item 'monthlyDF'\n",
       "\\item 'reg'\n",
       "\\item 'smooth'\n",
       "\\item 'smooth2'\n",
       "\\item 'smoothTS'\n",
       "\\item 'smoothTS2'\n",
       "\\item 'stationName'\n",
       "\\item 'testDist'\n",
       "\\item 'trueEst'\n",
       "\\item 'ts'\n",
       "\\item 'year'\n",
       "\\end{enumerate*}\n"
      ],
      "text/markdown": [
       "1. 'data'\n",
       "2. 'data2012'\n",
       "3. 'exp1'\n",
       "4. 'firstYear'\n",
       "5. 'gamma1'\n",
       "6. 'gof'\n",
       "7. 'i'\n",
       "8. 'j'\n",
       "9. 'max_PRCP'\n",
       "10. 'maxObs'\n",
       "11. 'maxObs2'\n",
       "12. 'maxTS'\n",
       "13. 'maxTS2012'\n",
       "14. 'means'\n",
       "15. 'meanTS'\n",
       "16. 'mleExp'\n",
       "17. 'mleGamma'\n",
       "18. 'month'\n",
       "19. 'monthly'\n",
       "20. 'monthlyDF'\n",
       "21. 'reg'\n",
       "22. 'smooth'\n",
       "23. 'smooth2'\n",
       "24. 'smoothTS'\n",
       "25. 'smoothTS2'\n",
       "26. 'stationName'\n",
       "27. 'testDist'\n",
       "28. 'trueEst'\n",
       "29. 'ts'\n",
       "30. 'year'\n",
       "\n",
       "\n"
      ],
      "text/plain": [
       " [1] \"data\"        \"data2012\"    \"exp1\"        \"firstYear\"   \"gamma1\"     \n",
       " [6] \"gof\"         \"i\"           \"j\"           \"max_PRCP\"    \"maxObs\"     \n",
       "[11] \"maxObs2\"     \"maxTS\"       \"maxTS2012\"   \"means\"       \"meanTS\"     \n",
       "[16] \"mleExp\"      \"mleGamma\"    \"month\"       \"monthly\"     \"monthlyDF\"  \n",
       "[21] \"reg\"         \"smooth\"      \"smooth2\"     \"smoothTS\"    \"smoothTS2\"  \n",
       "[26] \"stationName\" \"testDist\"    \"trueEst\"     \"ts\"          \"year\"       "
      ]
     },
     "metadata": {},
     "output_type": "display_data"
    }
   ],
   "source": [
    "objects()"
   ]
  }
 ],
 "metadata": {
  "anaconda-cloud": {},
  "kernelspec": {
   "display_name": "R",
   "language": "R",
   "name": "ir"
  },
  "language_info": {
   "codemirror_mode": "r",
   "file_extension": ".r",
   "mimetype": "text/x-r-source",
   "name": "R",
   "pygments_lexer": "r",
   "version": "3.3.1"
  }
 },
 "nbformat": 4,
 "nbformat_minor": 0
}
