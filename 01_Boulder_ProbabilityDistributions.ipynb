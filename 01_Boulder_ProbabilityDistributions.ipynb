{
 "cells": [
  {
   "cell_type": "markdown",
   "metadata": {},
   "source": [
    "# Master's Thesis: Investigating Maximum Rainfall Trends in Colorado"
   ]
  },
  {
   "cell_type": "markdown",
   "metadata": {},
   "source": [
    "<b>Institution:</b> University of Georgia <br>\n",
    "<b>Department:</b> Statistics <br>\n",
    "<b>Student:</b> Jeremy Mulcahey <br>\n",
    "<b>Advisor:</b> Dr. Lynne Seymour <br>\n",
    "<b>Last Edit:</b> 9/27/2016"
   ]
  },
  {
   "cell_type": "markdown",
   "metadata": {},
   "source": [
    "Section 0: Preparing data <br>\n",
    "Section 1: Parameter Estimation<br>\n",
    "Section 2: Probabilities of Interest"
   ]
  },
  {
   "cell_type": "markdown",
   "metadata": {},
   "source": [
    "##  Section 0: Preparing data"
   ]
  },
  {
   "cell_type": "code",
   "execution_count": 1,
   "metadata": {
    "collapsed": false
   },
   "outputs": [
    {
     "name": "stderr",
     "output_type": "stream",
     "text": [
      "Loading required package: fitdistrplus\n",
      "Loading required package: MASS\n",
      "Loading required package: survival\n",
      "Loading required package: caTools\n",
      "Loading required package: repr\n",
      "Loading required package: IRdisplay\n"
     ]
    }
   ],
   "source": [
    "require(fitdistrplus); # required for parameter estimation\n",
    "require(caTools);      # required for smoothing\n",
    "require(repr);         # required for resizing plots in IRKernel\n",
    "require(\"IRdisplay\");  # graphic embedding\n",
    "require(MASS);         # testing"
   ]
  },
  {
   "cell_type": "code",
   "execution_count": 2,
   "metadata": {
    "collapsed": false
   },
   "outputs": [],
   "source": [
    "# establish working directorys\n",
    "setwd(\"C:/Users/jerem/Desktop/UGA/Master'sThesis/\")"
   ]
  },
  {
   "cell_type": "markdown",
   "metadata": {},
   "source": [
    "Data files for individual station names."
   ]
  },
  {
   "cell_type": "code",
   "execution_count": 3,
   "metadata": {
    "collapsed": false
   },
   "outputs": [],
   "source": [
    "data = read.csv(file = \"data/BOULDER_MonMax_GHCN.csv\", head=T)"
   ]
  },
  {
   "cell_type": "markdown",
   "metadata": {},
   "source": [
    "Adjust the data for later use."
   ]
  },
  {
   "cell_type": "code",
   "execution_count": 4,
   "metadata": {
    "collapsed": false
   },
   "outputs": [
    {
     "data": {
      "text/html": [
       "165"
      ],
      "text/latex": [
       "165"
      ],
      "text/markdown": [
       "165"
      ],
      "text/plain": [
       "[1] 165"
      ]
     },
     "metadata": {},
     "output_type": "display_data"
    }
   ],
   "source": [
    "# Create an index as x - used as needed\n",
    "month = seq(1,nrow(data),by=1)\n",
    "data = cbind(data,month)\n",
    "\n",
    "# first year of the data (changes by station name)\n",
    "firstYear = data$YEAR[1]\n",
    "\n",
    "# station name for plotting\n",
    "stationName = as.character(data$STATION_NAME[1])\n",
    "\n",
    "# -999 messed with the plotting - change to NA\n",
    "data[data==-999] = NA\n",
    "\n",
    "sum(is.na(data)) #print number of missing values"
   ]
  },
  {
   "cell_type": "markdown",
   "metadata": {},
   "source": [
    "Check number of years in the data set."
   ]
  },
  {
   "cell_type": "code",
   "execution_count": 5,
   "metadata": {
    "collapsed": false
   },
   "outputs": [
    {
     "data": {
      "text/html": [
       "1898"
      ],
      "text/latex": [
       "1898"
      ],
      "text/markdown": [
       "1898"
      ],
      "text/plain": [
       "[1] 1898"
      ]
     },
     "metadata": {},
     "output_type": "display_data"
    }
   ],
   "source": [
    "firstYear"
   ]
  },
  {
   "cell_type": "code",
   "execution_count": 5,
   "metadata": {
    "collapsed": false
   },
   "outputs": [
    {
     "data": {
      "text/html": [
       "116"
      ],
      "text/latex": [
       "116"
      ],
      "text/markdown": [
       "116"
      ],
      "text/plain": [
       "[1] 116"
      ]
     },
     "metadata": {},
     "output_type": "display_data"
    }
   ],
   "source": [
    "data$YEAR[nrow(data)]-firstYear"
   ]
  },
  {
   "cell_type": "code",
   "execution_count": 6,
   "metadata": {
    "collapsed": false
   },
   "outputs": [
    {
     "data": {
      "text/plain": [
       "\n",
       "  1   2   3   4   5   6   7   8   9  10  11  12 \n",
       "117 117 117 117 117 117 117 117 117 117 117 117 "
      ]
     },
     "metadata": {},
     "output_type": "display_data"
    }
   ],
   "source": [
    "table(data$MONTH)"
   ]
  },
  {
   "cell_type": "markdown",
   "metadata": {},
   "source": [
    "Make a data frame of all the 10 year periods following the first year for data collected at the station."
   ]
  },
  {
   "cell_type": "code",
   "execution_count": 7,
   "metadata": {
    "collapsed": false
   },
   "outputs": [],
   "source": [
    "#create the first decade (first year and the following 9 years)\n",
    "max_PRCP = data.frame(data[which(data$YEAR < (firstYear + 10)),6])\n",
    "\n",
    "# add all the subsequent decades to the data frame incrementing by 1 year at a time\n",
    "for(year in c((data$YEAR[1] + 1):2005)){\n",
    "    max_PRCP = cbind(max_PRCP,data[which(data$YEAR >= year & data$YEAR < year+10),6])\n",
    "}\n",
    "\n",
    "# name the columns as the first year of the observed 10 year periods\n",
    "colnames(max_PRCP) = as.character(c(firstYear:2005))\n",
    "\n",
    "# set the missing values to NA\n",
    "max_PRCP[max_PRCP==-999] = NA"
   ]
  },
  {
   "cell_type": "code",
   "execution_count": 8,
   "metadata": {
    "collapsed": true
   },
   "outputs": [],
   "source": [
    "data2 = data"
   ]
  },
  {
   "cell_type": "code",
   "execution_count": 9,
   "metadata": {
    "collapsed": true
   },
   "outputs": [],
   "source": [
    "data2$Max.PRCP.[1389]=NA"
   ]
  },
  {
   "cell_type": "code",
   "execution_count": 10,
   "metadata": {
    "collapsed": true
   },
   "outputs": [],
   "source": [
    "#create the first decade (first year and the following 9 years)\n",
    "max_PRCP2 = data.frame(data2[which(data2$YEAR < (firstYear + 10)),6])\n",
    "\n",
    "# add all the subsequent decades to the data frame incrementing by 1 year at a time\n",
    "# i.e. 1898-1907, 1898-1908, etc\n",
    "for(year in c((data2$YEAR[1] + 1):2005)){\n",
    "    max_PRCP2 = cbind(max_PRCP2,data2[which(data2$YEAR >= year & data2$YEAR < year+10),6])\n",
    "}\n",
    "\n",
    "# name the columns as the first year of the observed 10 year periods\n",
    "colnames(max_PRCP2) = as.character(c(firstYear:2005))\n",
    "\n",
    "# set the missing values to NA\n",
    "max_PRCP2[max_PRCP2==-999] = NA"
   ]
  },
  {
   "cell_type": "markdown",
   "metadata": {},
   "source": [
    "## Section 1: Parameter Estimation"
   ]
  },
  {
   "cell_type": "code",
   "execution_count": 11,
   "metadata": {
    "collapsed": true
   },
   "outputs": [],
   "source": [
    "options(repr.plot.width=9, repr.plot.height=8) #reduces the plot sizes"
   ]
  },
  {
   "cell_type": "code",
   "execution_count": 12,
   "metadata": {
    "collapsed": false
   },
   "outputs": [],
   "source": [
    "mleGamma = data.frame(alpha = double(),\n",
    "                 theta = double(),\n",
    "                 KS = double(),\n",
    "                 KStest = character(),\n",
    "                 CvM = double(),\n",
    "                 CvMtest = character(),\n",
    "                 AD = double(),\n",
    "                 ADtest = character(),\n",
    "                 stringsAsFactors = FALSE)\n",
    "                \n",
    "for (i in 1:length(max_PRCP2)) {\n",
    "\n",
    "    testDist = na.omit(max_PRCP2[,i])\n",
    "        \n",
    "        for(j in 1:length(testDist)){\n",
    "            if(testDist[j] < .1){\n",
    "            testDist[j]=.0001\n",
    "            }\n",
    "        }\n",
    "\n",
    "   gamma1 = fitdist(as.vector(testDist),\"gamma\",method = \"mle\")\n",
    "   mleGamma[i,1] = gamma1$estimate[1]\n",
    "   mleGamma[i,2] = gamma1$estimate[2]\n",
    "   \n",
    "   gof = gofstat(gamma1)\n",
    "   mleGamma[i,3] = gof$ks\n",
    "   mleGamma[i,4] = gof$kstest\n",
    "   mleGamma[i,5] = gof$cvm\n",
    "   mleGamma[i,6] = gof$cvmtest\n",
    "   mleGamma[i,7] = gof$ad\n",
    "   mleGamma[i,8] = gof$adtest\n",
    "}\n",
    "\n",
    "mleGamma[\"invTheta\"] = 1/(mleGamma$theta)\n",
    "mleGamma[\"mean\"] = mleGamma$invTheta*mleGamma$alpha\n",
    "mleGamma[\"var\"] = mleGamma$alpha*(mleGamma$invTheta^2)\n",
    "mleGamma[\"sd\"] = sqrt(mleGamma$var)"
   ]
  },
  {
   "cell_type": "code",
   "execution_count": 13,
   "metadata": {
    "collapsed": true
   },
   "outputs": [],
   "source": [
    "mleExp = data.frame(theta = double(),\n",
    "                 KS = double(),\n",
    "                 KStest = character(),\n",
    "                 CvM = double(),\n",
    "                 CvMtest = character(),\n",
    "                 AD = double(),\n",
    "                 ADtest = character(),\n",
    "                 stringsAsFactors = FALSE)\n",
    "                \n",
    "for (i in 1:length(max_PRCP2)) {\n",
    "\n",
    "    testDist = na.omit(max_PRCP2[,i])\n",
    "        \n",
    "        for(j in 1:length(testDist)){\n",
    "            if(testDist[j] < .1){\n",
    "            testDist[j]=.0001\n",
    "            }\n",
    "        }\n",
    "\n",
    "   exp1 = fitdist(as.vector(testDist),\"exp\",method = \"mle\")\n",
    "   mleExp[i,1] = exp1$estimate[1]\n",
    "   \n",
    "   gof = gofstat(exp1)\n",
    "   mleExp[i,2] = gof$ks\n",
    "   mleExp[i,3] = gof$kstest\n",
    "   mleExp[i,4] = gof$cvm\n",
    "   mleExp[i,5] = gof$cvmtest\n",
    "   mleExp[i,6] = gof$ad\n",
    "   mleExp[i,7] = gof$adtest\n",
    "}\n",
    "\n",
    "mleExp[\"mean\"] = 1/mleExp$theta\n",
    "mleExp[\"square\"] = mleExp$theta^2 \n",
    "mleExp[\"var\"] = 1/mleExp$square\n",
    "mleExp[\"sd\"] = sqrt(mleExp$var)"
   ]
  },
  {
   "cell_type": "code",
   "execution_count": 14,
   "metadata": {
    "collapsed": false
   },
   "outputs": [],
   "source": [
    "mleWB = data.frame(alpha = double(),theta = double(),\n",
    "                 KS = double(),\n",
    "                 KStest = character(),\n",
    "                 CvM = double(),\n",
    "                 CvMtest = character(),\n",
    "                 AD = double(),\n",
    "                 ADtest = character(),\n",
    "                 stringsAsFactors = FALSE)\n",
    "                \n",
    "for (i in 1:length(max_PRCP2)) {\n",
    "\n",
    "    testDist = na.omit(max_PRCP2[,i])\n",
    "        \n",
    "        for(j in 1:length(testDist)){\n",
    "            if(testDist[j] < .1){\n",
    "            testDist[j]=.0001\n",
    "            }\n",
    "        }\n",
    "\n",
    "   WB1 = fitdist(as.vector(testDist),\"weibull\",method = \"mle\")\n",
    "   mleWB[i,1] = WB1$estimate[1]\n",
    "   mleWB[i,2] = WB1$estimate[2]\n",
    "   \n",
    "   gof = gofstat(WB1)\n",
    "   mleWB[i,3] = gof$ks\n",
    "   mleWB[i,4] = gof$kstest\n",
    "   mleWB[i,5] = gof$cvm\n",
    "   mleWB[i,6] = gof$cvmtest\n",
    "   mleWB[i,7] = gof$ad\n",
    "   mleWB[i,8] = gof$adtest\n",
    "}\n",
    "\n",
    "\n",
    "#mleWB[\"mean\"] = 1/mleWB$theta\n",
    "#mleWB[\"square\"] = mleWB$theta^2 \n",
    "#mleWB[\"var\"] = 1/mleWB$square\n",
    "#mleWB[\"sd\"] = sqrt(mleWB$var)"
   ]
  },
  {
   "cell_type": "code",
   "execution_count": 15,
   "metadata": {
    "collapsed": true
   },
   "outputs": [],
   "source": [
    "testDist = na.omit(max_PRCP[,i]) \n",
    "WB1 = fitdist(as.vector(testDist),\"weibull\",method = \"mle\")"
   ]
  },
  {
   "cell_type": "code",
   "execution_count": 16,
   "metadata": {
    "collapsed": false
   },
   "outputs": [
    {
     "data": {
      "text/html": [
       "<dl class=dl-horizontal>\n",
       "\t<dt>shape</dt>\n",
       "\t\t<dd>1.12974393479612</dd>\n",
       "\t<dt>scale</dt>\n",
       "\t\t<dd>203.264967325282</dd>\n",
       "</dl>\n"
      ],
      "text/latex": [
       "\\begin{description*}\n",
       "\\item[shape] 1.12974393479612\n",
       "\\item[scale] 203.264967325282\n",
       "\\end{description*}\n"
      ],
      "text/markdown": [
       "shape\n",
       ":   1.12974393479612scale\n",
       ":   203.264967325282\n",
       "\n"
      ],
      "text/plain": [
       "     shape      scale \n",
       "  1.129744 203.264967 "
      ]
     },
     "metadata": {},
     "output_type": "display_data"
    }
   ],
   "source": [
    "WB1$estimate"
   ]
  },
  {
   "cell_type": "code",
   "execution_count": 17,
   "metadata": {
    "collapsed": false
   },
   "outputs": [
    {
     "data": {
      "text/html": [
       "<table>\n",
       "<thead><tr><th scope=col>alpha</th><th scope=col>theta</th><th scope=col>KS</th><th scope=col>KStest</th><th scope=col>CvM</th><th scope=col>CvMtest</th><th scope=col>AD</th><th scope=col>ADtest</th></tr></thead>\n",
       "<tbody>\n",
       "\t<tr><td>0.9342517   </td><td>142.2166    </td><td>0.12730628  </td><td>rejected    </td><td>0.4742499   </td><td>rejected    </td><td>3.707979    </td><td>rejected    </td></tr>\n",
       "\t<tr><td>0.9107144   </td><td>144.4591    </td><td>0.11067741  </td><td>not rejected</td><td>0.3795635   </td><td>rejected    </td><td>3.230740    </td><td>rejected    </td></tr>\n",
       "\t<tr><td>0.9519022   </td><td>159.4062    </td><td>0.08502454  </td><td>not rejected</td><td>0.2389996   </td><td>rejected    </td><td>2.043397    </td><td>rejected    </td></tr>\n",
       "\t<tr><td>0.9501697   </td><td>163.2204    </td><td>0.10160884  </td><td>not rejected</td><td>0.3156017   </td><td>rejected    </td><td>2.463023    </td><td>rejected    </td></tr>\n",
       "\t<tr><td>1.0525052   </td><td>169.3910    </td><td>0.09370523  </td><td>not rejected</td><td>0.1923029   </td><td>rejected    </td><td>1.512999    </td><td>rejected    </td></tr>\n",
       "\t<tr><td>1.0191651   </td><td>166.8905    </td><td>0.10026129  </td><td>not rejected</td><td>0.1730852   </td><td>rejected    </td><td>1.418072    </td><td>rejected    </td></tr>\n",
       "</tbody>\n",
       "</table>\n"
      ],
      "text/latex": [
       "\\begin{tabular}{r|llllllll}\n",
       " alpha & theta & KS & KStest & CvM & CvMtest & AD & ADtest\\\\\n",
       "\\hline\n",
       "\t 0.9342517    & 142.2166     & 0.12730628   & rejected     & 0.4742499    & rejected     & 3.707979     & rejected    \\\\\n",
       "\t 0.9107144    & 144.4591     & 0.11067741   & not rejected & 0.3795635    & rejected     & 3.230740     & rejected    \\\\\n",
       "\t 0.9519022    & 159.4062     & 0.08502454   & not rejected & 0.2389996    & rejected     & 2.043397     & rejected    \\\\\n",
       "\t 0.9501697    & 163.2204     & 0.10160884   & not rejected & 0.3156017    & rejected     & 2.463023     & rejected    \\\\\n",
       "\t 1.0525052    & 169.3910     & 0.09370523   & not rejected & 0.1923029    & rejected     & 1.512999     & rejected    \\\\\n",
       "\t 1.0191651    & 166.8905     & 0.10026129   & not rejected & 0.1730852    & rejected     & 1.418072     & rejected    \\\\\n",
       "\\end{tabular}\n"
      ],
      "text/plain": [
       "  alpha     theta    KS         KStest       CvM       CvMtest  AD      \n",
       "1 0.9342517 142.2166 0.12730628 rejected     0.4742499 rejected 3.707979\n",
       "2 0.9107144 144.4591 0.11067741 not rejected 0.3795635 rejected 3.230740\n",
       "3 0.9519022 159.4062 0.08502454 not rejected 0.2389996 rejected 2.043397\n",
       "4 0.9501697 163.2204 0.10160884 not rejected 0.3156017 rejected 2.463023\n",
       "5 1.0525052 169.3910 0.09370523 not rejected 0.1923029 rejected 1.512999\n",
       "6 1.0191651 166.8905 0.10026129 not rejected 0.1730852 rejected 1.418072\n",
       "  ADtest  \n",
       "1 rejected\n",
       "2 rejected\n",
       "3 rejected\n",
       "4 rejected\n",
       "5 rejected\n",
       "6 rejected"
      ]
     },
     "metadata": {},
     "output_type": "display_data"
    }
   ],
   "source": [
    "head(mleWB)"
   ]
  },
  {
   "cell_type": "code",
   "execution_count": 18,
   "metadata": {
    "collapsed": false
   },
   "outputs": [
    {
     "data": {
      "text/html": [
       "<ol class=list-inline>\n",
       "\t<li>1</li>\n",
       "\t<li>7</li>\n",
       "\t<li>8</li>\n",
       "\t<li>13</li>\n",
       "\t<li>14</li>\n",
       "\t<li>15</li>\n",
       "\t<li>16</li>\n",
       "\t<li>21</li>\n",
       "\t<li>27</li>\n",
       "\t<li>28</li>\n",
       "\t<li>29</li>\n",
       "\t<li>43</li>\n",
       "\t<li>44</li>\n",
       "\t<li>45</li>\n",
       "\t<li>46</li>\n",
       "</ol>\n"
      ],
      "text/latex": [
       "\\begin{enumerate*}\n",
       "\\item 1\n",
       "\\item 7\n",
       "\\item 8\n",
       "\\item 13\n",
       "\\item 14\n",
       "\\item 15\n",
       "\\item 16\n",
       "\\item 21\n",
       "\\item 27\n",
       "\\item 28\n",
       "\\item 29\n",
       "\\item 43\n",
       "\\item 44\n",
       "\\item 45\n",
       "\\item 46\n",
       "\\end{enumerate*}\n"
      ],
      "text/markdown": [
       "1. 1\n",
       "2. 7\n",
       "3. 8\n",
       "4. 13\n",
       "5. 14\n",
       "6. 15\n",
       "7. 16\n",
       "8. 21\n",
       "9. 27\n",
       "10. 28\n",
       "11. 29\n",
       "12. 43\n",
       "13. 44\n",
       "14. 45\n",
       "15. 46\n",
       "\n",
       "\n"
      ],
      "text/plain": [
       " [1]  1  7  8 13 14 15 16 21 27 28 29 43 44 45 46"
      ]
     },
     "metadata": {},
     "output_type": "display_data"
    }
   ],
   "source": [
    "which(mleWB$KStest==\"rejected\")"
   ]
  },
  {
   "cell_type": "code",
   "execution_count": 19,
   "metadata": {
    "collapsed": false
   },
   "outputs": [
    {
     "data": {
      "text/plain": [
       "\n",
       "not rejected     rejected \n",
       "          93           15 "
      ]
     },
     "metadata": {},
     "output_type": "display_data"
    },
    {
     "data": {
      "text/plain": [
       "\n",
       "not rejected     rejected \n",
       "          62           46 "
      ]
     },
     "metadata": {},
     "output_type": "display_data"
    },
    {
     "data": {
      "text/plain": [
       "\n",
       "not rejected     rejected \n",
       "          71           37 "
      ]
     },
     "metadata": {},
     "output_type": "display_data"
    }
   ],
   "source": [
    "table(mleWB$KStest)\n",
    "table(mleExp$KStest)\n",
    "table(mleGamma$KStest)"
   ]
  },
  {
   "cell_type": "code",
   "execution_count": 20,
   "metadata": {
    "collapsed": false
   },
   "outputs": [
    {
     "data": {
      "text/html": [
       "<ol class=list-inline>\n",
       "\t<li>1</li>\n",
       "\t<li>2</li>\n",
       "\t<li>7</li>\n",
       "\t<li>8</li>\n",
       "\t<li>9</li>\n",
       "\t<li>12</li>\n",
       "\t<li>13</li>\n",
       "\t<li>14</li>\n",
       "\t<li>15</li>\n",
       "\t<li>16</li>\n",
       "\t<li>17</li>\n",
       "\t<li>18</li>\n",
       "\t<li>19</li>\n",
       "\t<li>20</li>\n",
       "\t<li>21</li>\n",
       "\t<li>22</li>\n",
       "\t<li>25</li>\n",
       "\t<li>26</li>\n",
       "\t<li>27</li>\n",
       "\t<li>28</li>\n",
       "\t<li>29</li>\n",
       "\t<li>30</li>\n",
       "\t<li>31</li>\n",
       "\t<li>32</li>\n",
       "\t<li>33</li>\n",
       "\t<li>34</li>\n",
       "\t<li>35</li>\n",
       "\t<li>36</li>\n",
       "\t<li>39</li>\n",
       "\t<li>40</li>\n",
       "\t<li>41</li>\n",
       "\t<li>42</li>\n",
       "\t<li>43</li>\n",
       "\t<li>44</li>\n",
       "\t<li>45</li>\n",
       "\t<li>46</li>\n",
       "\t<li>47</li>\n",
       "</ol>\n"
      ],
      "text/latex": [
       "\\begin{enumerate*}\n",
       "\\item 1\n",
       "\\item 2\n",
       "\\item 7\n",
       "\\item 8\n",
       "\\item 9\n",
       "\\item 12\n",
       "\\item 13\n",
       "\\item 14\n",
       "\\item 15\n",
       "\\item 16\n",
       "\\item 17\n",
       "\\item 18\n",
       "\\item 19\n",
       "\\item 20\n",
       "\\item 21\n",
       "\\item 22\n",
       "\\item 25\n",
       "\\item 26\n",
       "\\item 27\n",
       "\\item 28\n",
       "\\item 29\n",
       "\\item 30\n",
       "\\item 31\n",
       "\\item 32\n",
       "\\item 33\n",
       "\\item 34\n",
       "\\item 35\n",
       "\\item 36\n",
       "\\item 39\n",
       "\\item 40\n",
       "\\item 41\n",
       "\\item 42\n",
       "\\item 43\n",
       "\\item 44\n",
       "\\item 45\n",
       "\\item 46\n",
       "\\item 47\n",
       "\\end{enumerate*}\n"
      ],
      "text/markdown": [
       "1. 1\n",
       "2. 2\n",
       "3. 7\n",
       "4. 8\n",
       "5. 9\n",
       "6. 12\n",
       "7. 13\n",
       "8. 14\n",
       "9. 15\n",
       "10. 16\n",
       "11. 17\n",
       "12. 18\n",
       "13. 19\n",
       "14. 20\n",
       "15. 21\n",
       "16. 22\n",
       "17. 25\n",
       "18. 26\n",
       "19. 27\n",
       "20. 28\n",
       "21. 29\n",
       "22. 30\n",
       "23. 31\n",
       "24. 32\n",
       "25. 33\n",
       "26. 34\n",
       "27. 35\n",
       "28. 36\n",
       "29. 39\n",
       "30. 40\n",
       "31. 41\n",
       "32. 42\n",
       "33. 43\n",
       "34. 44\n",
       "35. 45\n",
       "36. 46\n",
       "37. 47\n",
       "\n",
       "\n"
      ],
      "text/plain": [
       " [1]  1  2  7  8  9 12 13 14 15 16 17 18 19 20 21 22 25 26 27 28 29 30 31 32 33\n",
       "[26] 34 35 36 39 40 41 42 43 44 45 46 47"
      ]
     },
     "metadata": {},
     "output_type": "display_data"
    }
   ],
   "source": [
    "which(mleGamma$KStest==\"rejected\")"
   ]
  },
  {
   "cell_type": "code",
   "execution_count": 21,
   "metadata": {
    "collapsed": false
   },
   "outputs": [
    {
     "data": {
      "text/html": [
       "<ol class=list-inline>\n",
       "\t<li>13</li>\n",
       "\t<li>14</li>\n",
       "\t<li>21</li>\n",
       "\t<li>39</li>\n",
       "\t<li>40</li>\n",
       "\t<li>41</li>\n",
       "\t<li>42</li>\n",
       "\t<li>43</li>\n",
       "\t<li>44</li>\n",
       "\t<li>45</li>\n",
       "\t<li>46</li>\n",
       "\t<li>47</li>\n",
       "\t<li>48</li>\n",
       "\t<li>49</li>\n",
       "\t<li>50</li>\n",
       "\t<li>51</li>\n",
       "\t<li>52</li>\n",
       "\t<li>53</li>\n",
       "\t<li>54</li>\n",
       "\t<li>55</li>\n",
       "\t<li>56</li>\n",
       "\t<li>57</li>\n",
       "\t<li>61</li>\n",
       "\t<li>62</li>\n",
       "\t<li>67</li>\n",
       "\t<li>68</li>\n",
       "\t<li>69</li>\n",
       "\t<li>70</li>\n",
       "\t<li>73</li>\n",
       "\t<li>74</li>\n",
       "\t<li>75</li>\n",
       "\t<li>76</li>\n",
       "\t<li>81</li>\n",
       "\t<li>82</li>\n",
       "\t<li>83</li>\n",
       "\t<li>87</li>\n",
       "\t<li>95</li>\n",
       "\t<li>98</li>\n",
       "\t<li>100</li>\n",
       "\t<li>101</li>\n",
       "\t<li>102</li>\n",
       "\t<li>103</li>\n",
       "\t<li>104</li>\n",
       "\t<li>105</li>\n",
       "\t<li>107</li>\n",
       "\t<li>108</li>\n",
       "</ol>\n"
      ],
      "text/latex": [
       "\\begin{enumerate*}\n",
       "\\item 13\n",
       "\\item 14\n",
       "\\item 21\n",
       "\\item 39\n",
       "\\item 40\n",
       "\\item 41\n",
       "\\item 42\n",
       "\\item 43\n",
       "\\item 44\n",
       "\\item 45\n",
       "\\item 46\n",
       "\\item 47\n",
       "\\item 48\n",
       "\\item 49\n",
       "\\item 50\n",
       "\\item 51\n",
       "\\item 52\n",
       "\\item 53\n",
       "\\item 54\n",
       "\\item 55\n",
       "\\item 56\n",
       "\\item 57\n",
       "\\item 61\n",
       "\\item 62\n",
       "\\item 67\n",
       "\\item 68\n",
       "\\item 69\n",
       "\\item 70\n",
       "\\item 73\n",
       "\\item 74\n",
       "\\item 75\n",
       "\\item 76\n",
       "\\item 81\n",
       "\\item 82\n",
       "\\item 83\n",
       "\\item 87\n",
       "\\item 95\n",
       "\\item 98\n",
       "\\item 100\n",
       "\\item 101\n",
       "\\item 102\n",
       "\\item 103\n",
       "\\item 104\n",
       "\\item 105\n",
       "\\item 107\n",
       "\\item 108\n",
       "\\end{enumerate*}\n"
      ],
      "text/markdown": [
       "1. 13\n",
       "2. 14\n",
       "3. 21\n",
       "4. 39\n",
       "5. 40\n",
       "6. 41\n",
       "7. 42\n",
       "8. 43\n",
       "9. 44\n",
       "10. 45\n",
       "11. 46\n",
       "12. 47\n",
       "13. 48\n",
       "14. 49\n",
       "15. 50\n",
       "16. 51\n",
       "17. 52\n",
       "18. 53\n",
       "19. 54\n",
       "20. 55\n",
       "21. 56\n",
       "22. 57\n",
       "23. 61\n",
       "24. 62\n",
       "25. 67\n",
       "26. 68\n",
       "27. 69\n",
       "28. 70\n",
       "29. 73\n",
       "30. 74\n",
       "31. 75\n",
       "32. 76\n",
       "33. 81\n",
       "34. 82\n",
       "35. 83\n",
       "36. 87\n",
       "37. 95\n",
       "38. 98\n",
       "39. 100\n",
       "40. 101\n",
       "41. 102\n",
       "42. 103\n",
       "43. 104\n",
       "44. 105\n",
       "45. 107\n",
       "46. 108\n",
       "\n",
       "\n"
      ],
      "text/plain": [
       " [1]  13  14  21  39  40  41  42  43  44  45  46  47  48  49  50  51  52  53  54\n",
       "[20]  55  56  57  61  62  67  68  69  70  73  74  75  76  81  82  83  87  95  98\n",
       "[39] 100 101 102 103 104 105 107 108"
      ]
     },
     "metadata": {},
     "output_type": "display_data"
    }
   ],
   "source": [
    "which(mleExp$KStest==\"rejected\")"
   ]
  },
  {
   "cell_type": "code",
   "execution_count": 22,
   "metadata": {
    "collapsed": false
   },
   "outputs": [
    {
     "data": {
      "text/html": [
       "<table>\n",
       "<thead><tr><th scope=col>alpha</th><th scope=col>theta</th><th scope=col>KS</th><th scope=col>KStest</th><th scope=col>CvM</th><th scope=col>CvMtest</th><th scope=col>AD</th><th scope=col>ADtest</th><th scope=col>invTheta</th><th scope=col>mean</th><th scope=col>var</th><th scope=col>sd</th></tr></thead>\n",
       "<tbody>\n",
       "\t<tr><td>0.7662871   </td><td>0.005275478 </td><td>0.1624008   </td><td>rejected    </td><td>0.8356680   </td><td>NA          </td><td>5.196257    </td><td>NA          </td><td>189.5563    </td><td>145.2545    </td><td>27533.91    </td><td>165.9334    </td></tr>\n",
       "\t<tr><td>0.7426182   </td><td>0.004984634 </td><td>0.1442263   </td><td>rejected    </td><td>0.6983310   </td><td>NA          </td><td>4.539886    </td><td>NA          </td><td>200.6165    </td><td>148.9815    </td><td>29888.15    </td><td>172.8819    </td></tr>\n",
       "\t<tr><td>0.8177342   </td><td>0.005041738 </td><td>0.1125168   </td><td>not rejected</td><td>0.4371900   </td><td>NA          </td><td>2.975561    </td><td>NA          </td><td>198.3443    </td><td>162.1929    </td><td>32170.04    </td><td>179.3601    </td></tr>\n",
       "\t<tr><td>0.7992070   </td><td>0.004814416 </td><td>0.1317502   </td><td>not rejected</td><td>0.5563920   </td><td>NA          </td><td>3.534812    </td><td>NA          </td><td>207.7095    </td><td>166.0029    </td><td>34480.39    </td><td>185.6889    </td></tr>\n",
       "\t<tr><td>0.9615450   </td><td>0.005770623 </td><td>0.1192384   </td><td>not rejected</td><td>0.3512189   </td><td>NA          </td><td>2.309947    </td><td>NA          </td><td>173.2915    </td><td>166.6276    </td><td>28875.14    </td><td>169.9269    </td></tr>\n",
       "\t<tr><td>0.9000838   </td><td>0.005426620 </td><td>0.1287402   </td><td>not rejected</td><td>0.3326784   </td><td>NA          </td><td>2.205959    </td><td>NA          </td><td>184.2768    </td><td>165.8645    </td><td>30564.98    </td><td>174.8284    </td></tr>\n",
       "</tbody>\n",
       "</table>\n"
      ],
      "text/latex": [
       "\\begin{tabular}{r|llllllllllll}\n",
       " alpha & theta & KS & KStest & CvM & CvMtest & AD & ADtest & invTheta & mean & var & sd\\\\\n",
       "\\hline\n",
       "\t 0.7662871    & 0.005275478  & 0.1624008    & rejected     & 0.8356680    & NA           & 5.196257     & NA           & 189.5563     & 145.2545     & 27533.91     & 165.9334    \\\\\n",
       "\t 0.7426182    & 0.004984634  & 0.1442263    & rejected     & 0.6983310    & NA           & 4.539886     & NA           & 200.6165     & 148.9815     & 29888.15     & 172.8819    \\\\\n",
       "\t 0.8177342    & 0.005041738  & 0.1125168    & not rejected & 0.4371900    & NA           & 2.975561     & NA           & 198.3443     & 162.1929     & 32170.04     & 179.3601    \\\\\n",
       "\t 0.7992070    & 0.004814416  & 0.1317502    & not rejected & 0.5563920    & NA           & 3.534812     & NA           & 207.7095     & 166.0029     & 34480.39     & 185.6889    \\\\\n",
       "\t 0.9615450    & 0.005770623  & 0.1192384    & not rejected & 0.3512189    & NA           & 2.309947     & NA           & 173.2915     & 166.6276     & 28875.14     & 169.9269    \\\\\n",
       "\t 0.9000838    & 0.005426620  & 0.1287402    & not rejected & 0.3326784    & NA           & 2.205959     & NA           & 184.2768     & 165.8645     & 30564.98     & 174.8284    \\\\\n",
       "\\end{tabular}\n"
      ],
      "text/plain": [
       "  alpha     theta       KS        KStest       CvM       CvMtest AD      \n",
       "1 0.7662871 0.005275478 0.1624008 rejected     0.8356680 NA      5.196257\n",
       "2 0.7426182 0.004984634 0.1442263 rejected     0.6983310 NA      4.539886\n",
       "3 0.8177342 0.005041738 0.1125168 not rejected 0.4371900 NA      2.975561\n",
       "4 0.7992070 0.004814416 0.1317502 not rejected 0.5563920 NA      3.534812\n",
       "5 0.9615450 0.005770623 0.1192384 not rejected 0.3512189 NA      2.309947\n",
       "6 0.9000838 0.005426620 0.1287402 not rejected 0.3326784 NA      2.205959\n",
       "  ADtest invTheta mean     var      sd      \n",
       "1 NA     189.5563 145.2545 27533.91 165.9334\n",
       "2 NA     200.6165 148.9815 29888.15 172.8819\n",
       "3 NA     198.3443 162.1929 32170.04 179.3601\n",
       "4 NA     207.7095 166.0029 34480.39 185.6889\n",
       "5 NA     173.2915 166.6276 28875.14 169.9269\n",
       "6 NA     184.2768 165.8645 30564.98 174.8284"
      ]
     },
     "metadata": {},
     "output_type": "display_data"
    }
   ],
   "source": [
    "head(mleGamma)"
   ]
  },
  {
   "cell_type": "code",
   "execution_count": 23,
   "metadata": {
    "collapsed": false
   },
   "outputs": [
    {
     "data": {
      "text/html": [
       "<table>\n",
       "<thead><tr><th scope=col>theta</th><th scope=col>KS</th><th scope=col>KStest</th><th scope=col>CvM</th><th scope=col>CvMtest</th><th scope=col>AD</th><th scope=col>ADtest</th><th scope=col>mean</th><th scope=col>square</th><th scope=col>var</th><th scope=col>sd</th></tr></thead>\n",
       "<tbody>\n",
       "\t<tr><td>0.006881695 </td><td>0.10468826  </td><td>not rejected</td><td>0.2941847   </td><td>rejected    </td><td>2.902581    </td><td>rejected    </td><td>145.3130    </td><td>4.735772e-05</td><td>21115.88    </td><td>145.3130    </td></tr>\n",
       "\t<tr><td>0.006714176 </td><td>0.07942588  </td><td>not rejected</td><td>0.1699337   </td><td>not rejected</td><td>2.277768    </td><td>rejected    </td><td>148.9386    </td><td>4.508016e-05</td><td>22182.71    </td><td>148.9386    </td></tr>\n",
       "\t<tr><td>0.006167496 </td><td>0.06812264  </td><td>not rejected</td><td>0.1454369   </td><td>not rejected</td><td>1.584073    </td><td>rejected    </td><td>162.1404    </td><td>3.803801e-05</td><td>26289.49    </td><td>162.1404    </td></tr>\n",
       "\t<tr><td>0.006024452 </td><td>0.08463955  </td><td>not rejected</td><td>0.2118668   </td><td>not rejected</td><td>1.978488    </td><td>rejected    </td><td>165.9902    </td><td>3.629402e-05</td><td>27552.75    </td><td>165.9902    </td></tr>\n",
       "\t<tr><td>0.006003329 </td><td>0.11109286  </td><td>not rejected</td><td>0.2951964   </td><td>rejected    </td><td>2.030774    </td><td>rejected    </td><td>166.5743    </td><td>3.603995e-05</td><td>27746.98    </td><td>166.5743    </td></tr>\n",
       "\t<tr><td>0.006029810 </td><td>0.10668369  </td><td>not rejected</td><td>0.2043136   </td><td>not rejected</td><td>1.575047    </td><td>rejected    </td><td>165.8427    </td><td>3.635861e-05</td><td>27503.80    </td><td>165.8427    </td></tr>\n",
       "</tbody>\n",
       "</table>\n"
      ],
      "text/latex": [
       "\\begin{tabular}{r|lllllllllll}\n",
       " theta & KS & KStest & CvM & CvMtest & AD & ADtest & mean & square & var & sd\\\\\n",
       "\\hline\n",
       "\t 0.006881695  & 0.10468826   & not rejected & 0.2941847    & rejected     & 2.902581     & rejected     & 145.3130     & 4.735772e-05 & 21115.88     & 145.3130    \\\\\n",
       "\t 0.006714176  & 0.07942588   & not rejected & 0.1699337    & not rejected & 2.277768     & rejected     & 148.9386     & 4.508016e-05 & 22182.71     & 148.9386    \\\\\n",
       "\t 0.006167496  & 0.06812264   & not rejected & 0.1454369    & not rejected & 1.584073     & rejected     & 162.1404     & 3.803801e-05 & 26289.49     & 162.1404    \\\\\n",
       "\t 0.006024452  & 0.08463955   & not rejected & 0.2118668    & not rejected & 1.978488     & rejected     & 165.9902     & 3.629402e-05 & 27552.75     & 165.9902    \\\\\n",
       "\t 0.006003329  & 0.11109286   & not rejected & 0.2951964    & rejected     & 2.030774     & rejected     & 166.5743     & 3.603995e-05 & 27746.98     & 166.5743    \\\\\n",
       "\t 0.006029810  & 0.10668369   & not rejected & 0.2043136    & not rejected & 1.575047     & rejected     & 165.8427     & 3.635861e-05 & 27503.80     & 165.8427    \\\\\n",
       "\\end{tabular}\n"
      ],
      "text/plain": [
       "  theta       KS         KStest       CvM       CvMtest      AD       ADtest  \n",
       "1 0.006881695 0.10468826 not rejected 0.2941847 rejected     2.902581 rejected\n",
       "2 0.006714176 0.07942588 not rejected 0.1699337 not rejected 2.277768 rejected\n",
       "3 0.006167496 0.06812264 not rejected 0.1454369 not rejected 1.584073 rejected\n",
       "4 0.006024452 0.08463955 not rejected 0.2118668 not rejected 1.978488 rejected\n",
       "5 0.006003329 0.11109286 not rejected 0.2951964 rejected     2.030774 rejected\n",
       "6 0.006029810 0.10668369 not rejected 0.2043136 not rejected 1.575047 rejected\n",
       "  mean     square       var      sd      \n",
       "1 145.3130 4.735772e-05 21115.88 145.3130\n",
       "2 148.9386 4.508016e-05 22182.71 148.9386\n",
       "3 162.1404 3.803801e-05 26289.49 162.1404\n",
       "4 165.9902 3.629402e-05 27552.75 165.9902\n",
       "5 166.5743 3.603995e-05 27746.98 166.5743\n",
       "6 165.8427 3.635861e-05 27503.80 165.8427"
      ]
     },
     "metadata": {},
     "output_type": "display_data"
    }
   ],
   "source": [
    "head(mleExp)"
   ]
  },
  {
   "cell_type": "code",
   "execution_count": 24,
   "metadata": {
    "collapsed": false
   },
   "outputs": [],
   "source": [
    "trueEst = NULL\n",
    "for(i in 1:nrow(mleExp)){\n",
    "    if(mleExp$KStest[i] == \"not rejected\" & mleGamma$KStest[i] == \"not rejected\"){\n",
    "        trueEst = c(trueEst,\"plot\")\n",
    "    }\n",
    "    if(mleExp$KStest[i] == \"not rejected\" & mleGamma$KStest[i] == \"rejected\"){\n",
    "        trueEst = c(trueEst,\"exp\")\n",
    "    }\n",
    "    if(mleExp$KStest[i] == \"rejected\" & mleGamma$KStest[i] == \"not rejected\"){\n",
    "        trueEst = c(trueEst,\"gamma\")\n",
    "    }\n",
    "    if(mleExp$KStest[i] == \"rejected\" & mleGamma$KStest[i] == \"rejected\"){\n",
    "        trueEst = c(trueEst,\"fail\")\n",
    "    }\n",
    "}"
   ]
  },
  {
   "cell_type": "code",
   "execution_count": 25,
   "metadata": {
    "collapsed": false
   },
   "outputs": [
    {
     "data": {
      "text/plain": [
       "trueEst\n",
       "  exp  fail gamma  plot \n",
       "   25    12    34    37 "
      ]
     },
     "metadata": {},
     "output_type": "display_data"
    },
    {
     "name": "stdout",
     "output_type": "stream",
     "text": [
      "\n",
      "not rejected     rejected \n",
      "          93           15 \n"
     ]
    }
   ],
   "source": [
    "table(trueEst)\n",
    "print(table(mleWB$KStest))"
   ]
  },
  {
   "cell_type": "code",
   "execution_count": 26,
   "metadata": {
    "collapsed": false
   },
   "outputs": [
    {
     "data": {
      "text/html": [
       "<ol class=list-inline>\n",
       "\t<li>FALSE</li>\n",
       "\t<li>FALSE</li>\n",
       "\t<li>FALSE</li>\n",
       "\t<li>FALSE</li>\n",
       "\t<li>FALSE</li>\n",
       "\t<li>FALSE</li>\n",
       "\t<li>FALSE</li>\n",
       "\t<li>FALSE</li>\n",
       "\t<li>FALSE</li>\n",
       "\t<li>FALSE</li>\n",
       "\t<li>FALSE</li>\n",
       "\t<li>FALSE</li>\n",
       "\t<li>FALSE</li>\n",
       "\t<li>FALSE</li>\n",
       "\t<li>FALSE</li>\n",
       "</ol>\n"
      ],
      "text/latex": [
       "\\begin{enumerate*}\n",
       "\\item FALSE\n",
       "\\item FALSE\n",
       "\\item FALSE\n",
       "\\item FALSE\n",
       "\\item FALSE\n",
       "\\item FALSE\n",
       "\\item FALSE\n",
       "\\item FALSE\n",
       "\\item FALSE\n",
       "\\item FALSE\n",
       "\\item FALSE\n",
       "\\item FALSE\n",
       "\\item FALSE\n",
       "\\item FALSE\n",
       "\\item FALSE\n",
       "\\end{enumerate*}\n"
      ],
      "text/markdown": [
       "1. FALSE\n",
       "2. FALSE\n",
       "3. FALSE\n",
       "4. FALSE\n",
       "5. FALSE\n",
       "6. FALSE\n",
       "7. FALSE\n",
       "8. FALSE\n",
       "9. FALSE\n",
       "10. FALSE\n",
       "11. FALSE\n",
       "12. FALSE\n",
       "13. FALSE\n",
       "14. FALSE\n",
       "15. FALSE\n",
       "\n",
       "\n"
      ],
      "text/plain": [
       " [1] FALSE FALSE FALSE FALSE FALSE FALSE FALSE FALSE FALSE FALSE FALSE FALSE\n",
       "[13] FALSE FALSE FALSE"
      ]
     },
     "metadata": {},
     "output_type": "display_data"
    }
   ],
   "source": [
    "mleGamma[which(mleWB$KStest==\"rejected\"),\"KStest\"] == \"not rejected\""
   ]
  },
  {
   "cell_type": "code",
   "execution_count": 27,
   "metadata": {
    "collapsed": false
   },
   "outputs": [
    {
     "data": {
      "text/html": [
       "<ol class=list-inline>\n",
       "\t<li>TRUE</li>\n",
       "\t<li>TRUE</li>\n",
       "\t<li>TRUE</li>\n",
       "\t<li>FALSE</li>\n",
       "\t<li>FALSE</li>\n",
       "\t<li>TRUE</li>\n",
       "\t<li>TRUE</li>\n",
       "\t<li>FALSE</li>\n",
       "\t<li>TRUE</li>\n",
       "\t<li>TRUE</li>\n",
       "\t<li>TRUE</li>\n",
       "\t<li>FALSE</li>\n",
       "\t<li>FALSE</li>\n",
       "\t<li>FALSE</li>\n",
       "\t<li>FALSE</li>\n",
       "</ol>\n"
      ],
      "text/latex": [
       "\\begin{enumerate*}\n",
       "\\item TRUE\n",
       "\\item TRUE\n",
       "\\item TRUE\n",
       "\\item FALSE\n",
       "\\item FALSE\n",
       "\\item TRUE\n",
       "\\item TRUE\n",
       "\\item FALSE\n",
       "\\item TRUE\n",
       "\\item TRUE\n",
       "\\item TRUE\n",
       "\\item FALSE\n",
       "\\item FALSE\n",
       "\\item FALSE\n",
       "\\item FALSE\n",
       "\\end{enumerate*}\n"
      ],
      "text/markdown": [
       "1. TRUE\n",
       "2. TRUE\n",
       "3. TRUE\n",
       "4. FALSE\n",
       "5. FALSE\n",
       "6. TRUE\n",
       "7. TRUE\n",
       "8. FALSE\n",
       "9. TRUE\n",
       "10. TRUE\n",
       "11. TRUE\n",
       "12. FALSE\n",
       "13. FALSE\n",
       "14. FALSE\n",
       "15. FALSE\n",
       "\n",
       "\n"
      ],
      "text/plain": [
       " [1]  TRUE  TRUE  TRUE FALSE FALSE  TRUE  TRUE FALSE  TRUE  TRUE  TRUE FALSE\n",
       "[13] FALSE FALSE FALSE"
      ]
     },
     "metadata": {},
     "output_type": "display_data"
    }
   ],
   "source": [
    "mleExp[which(mleWB$KStest==\"rejected\"),\"KStest\"] == \"not rejected\""
   ]
  },
  {
   "cell_type": "code",
   "execution_count": 28,
   "metadata": {
    "collapsed": false
   },
   "outputs": [
    {
     "data": {
      "text/html": [
       "<ol class=list-inline>\n",
       "\t<li>1</li>\n",
       "\t<li>7</li>\n",
       "\t<li>8</li>\n",
       "\t<li>13</li>\n",
       "\t<li>14</li>\n",
       "\t<li>15</li>\n",
       "\t<li>16</li>\n",
       "\t<li>21</li>\n",
       "\t<li>27</li>\n",
       "\t<li>28</li>\n",
       "\t<li>29</li>\n",
       "\t<li>43</li>\n",
       "\t<li>44</li>\n",
       "\t<li>45</li>\n",
       "\t<li>46</li>\n",
       "</ol>\n"
      ],
      "text/latex": [
       "\\begin{enumerate*}\n",
       "\\item 1\n",
       "\\item 7\n",
       "\\item 8\n",
       "\\item 13\n",
       "\\item 14\n",
       "\\item 15\n",
       "\\item 16\n",
       "\\item 21\n",
       "\\item 27\n",
       "\\item 28\n",
       "\\item 29\n",
       "\\item 43\n",
       "\\item 44\n",
       "\\item 45\n",
       "\\item 46\n",
       "\\end{enumerate*}\n"
      ],
      "text/markdown": [
       "1. 1\n",
       "2. 7\n",
       "3. 8\n",
       "4. 13\n",
       "5. 14\n",
       "6. 15\n",
       "7. 16\n",
       "8. 21\n",
       "9. 27\n",
       "10. 28\n",
       "11. 29\n",
       "12. 43\n",
       "13. 44\n",
       "14. 45\n",
       "15. 46\n",
       "\n",
       "\n"
      ],
      "text/plain": [
       " [1]  1  7  8 13 14 15 16 21 27 28 29 43 44 45 46"
      ]
     },
     "metadata": {},
     "output_type": "display_data"
    }
   ],
   "source": [
    "which(mleWB$KStest==\"rejected\")"
   ]
  },
  {
   "cell_type": "code",
   "execution_count": 29,
   "metadata": {
    "collapsed": false
   },
   "outputs": [
    {
     "data": {
      "image/png": "[encoded data removed]",
      "text/plain": [
       "Plot with title \"P-P plot\""
      ]
     },
     "metadata": {},
     "output_type": "display_data"
    }
   ],
   "source": [
    "testDist = na.omit(max_PRCP2[,1])\n",
    "\n",
    "    for(j in 1:length(testDist)){\n",
    "        if(testDist[j] < .1){\n",
    "        testDist[j]=.0001\n",
    "        }\n",
    "    }\n",
    "\n",
    "plot(fitdist(as.vector(testDist),\"weibull\",method = \"mle\"))"
   ]
  },
  {
   "cell_type": "code",
   "execution_count": 30,
   "metadata": {
    "collapsed": false
   },
   "outputs": [
    {
     "data": {
      "text/html": [
       "'rejected'"
      ],
      "text/latex": [
       "'rejected'"
      ],
      "text/markdown": [
       "'rejected'"
      ],
      "text/plain": [
       "[1] \"rejected\""
      ]
     },
     "metadata": {},
     "output_type": "display_data"
    },
    {
     "data": {
      "text/html": [
       "'not rejected'"
      ],
      "text/latex": [
       "'not rejected'"
      ],
      "text/markdown": [
       "'not rejected'"
      ],
      "text/plain": [
       "[1] \"not rejected\""
      ]
     },
     "metadata": {},
     "output_type": "display_data"
    },
    {
     "data": {
      "text/html": [
       "'rejected'"
      ],
      "text/latex": [
       "'rejected'"
      ],
      "text/markdown": [
       "'rejected'"
      ],
      "text/plain": [
       "[1] \"rejected\""
      ]
     },
     "metadata": {},
     "output_type": "display_data"
    }
   ],
   "source": [
    "mleGamma[1,\"KStest\"];mleExp[1,\"KStest\"];mleWB[1,\"KStest\"]"
   ]
  },
  {
   "cell_type": "code",
   "execution_count": 31,
   "metadata": {
    "collapsed": false
   },
   "outputs": [
    {
     "data": {
      "image/png": "[encoded data removed]",
      "text/plain": [
       "Plot with title \"P-P plot\""
      ]
     },
     "metadata": {},
     "output_type": "display_data"
    }
   ],
   "source": [
    "testDist = na.omit(max_PRCP2[,1])\n",
    "\n",
    "    for(j in 1:length(testDist)){\n",
    "        if(testDist[j] < .1){\n",
    "        testDist[j]=.0001\n",
    "        }\n",
    "    }\n",
    "\n",
    "fw = fitdist(as.vector(testDist), \"weibull\", method=\"mle\")\n",
    "fg = fitdist(as.vector(testDist), \"exp\", method=\"mle\")\n",
    "fln = fitdist(as.vector(testDist), \"gamma\", method=\"mle\")\n",
    "par(mfrow = c(2, 2))\n",
    "plot.legend <- c(\"Weibull\", \"exp\", \"gamma\")\n",
    "denscomp(list(fw, fln, fg), legendtext = plot.legend)\n",
    "qqcomp(list(fw, fln, fg), legendtext = plot.legend)\n",
    "cdfcomp(list(fw, fln, fg), legendtext = plot.legend)\n",
    "ppcomp(list(fw, fln, fg), legendtext = plot.legend)"
   ]
  },
  {
   "cell_type": "code",
   "execution_count": 32,
   "metadata": {
    "collapsed": false
   },
   "outputs": [
    {
     "data": {
      "text/html": [
       "'rejected'"
      ],
      "text/latex": [
       "'rejected'"
      ],
      "text/markdown": [
       "'rejected'"
      ],
      "text/plain": [
       "[1] \"rejected\""
      ]
     },
     "metadata": {},
     "output_type": "display_data"
    },
    {
     "data": {
      "text/html": [
       "'not rejected'"
      ],
      "text/latex": [
       "'not rejected'"
      ],
      "text/markdown": [
       "'not rejected'"
      ],
      "text/plain": [
       "[1] \"not rejected\""
      ]
     },
     "metadata": {},
     "output_type": "display_data"
    },
    {
     "data": {
      "text/html": [
       "'not rejected'"
      ],
      "text/latex": [
       "'not rejected'"
      ],
      "text/markdown": [
       "'not rejected'"
      ],
      "text/plain": [
       "[1] \"not rejected\""
      ]
     },
     "metadata": {},
     "output_type": "display_data"
    }
   ],
   "source": [
    "mleGamma[2,\"KStest\"];mleExp[2,\"KStest\"];mleWB[2,\"KStest\"]"
   ]
  },
  {
   "cell_type": "code",
   "execution_count": 33,
   "metadata": {
    "collapsed": false
   },
   "outputs": [
    {
     "data": {
      "text/html": [
       "'not rejected'"
      ],
      "text/latex": [
       "'not rejected'"
      ],
      "text/markdown": [
       "'not rejected'"
      ],
      "text/plain": [
       "[1] \"not rejected\""
      ]
     },
     "metadata": {},
     "output_type": "display_data"
    },
    {
     "data": {
      "text/html": [
       "'not rejected'"
      ],
      "text/latex": [
       "'not rejected'"
      ],
      "text/markdown": [
       "'not rejected'"
      ],
      "text/plain": [
       "[1] \"not rejected\""
      ]
     },
     "metadata": {},
     "output_type": "display_data"
    },
    {
     "data": {
      "text/html": [
       "'not rejected'"
      ],
      "text/latex": [
       "'not rejected'"
      ],
      "text/markdown": [
       "'not rejected'"
      ],
      "text/plain": [
       "[1] \"not rejected\""
      ]
     },
     "metadata": {},
     "output_type": "display_data"
    }
   ],
   "source": [
    "mleGamma[3,\"KStest\"];mleExp[3,\"KStest\"];mleWB[3,\"KStest\"]"
   ]
  },
  {
   "cell_type": "code",
   "execution_count": 34,
   "metadata": {
    "collapsed": false
   },
   "outputs": [
    {
     "data": {
      "image/png": "[encoded data removed]",
      "text/plain": [
       "Plot with title \"P-P plot\""
      ]
     },
     "metadata": {},
     "output_type": "display_data"
    }
   ],
   "source": [
    "testDist = na.omit(max_PRCP2[,3])\n",
    "\n",
    "    for(j in 1:length(testDist)){\n",
    "        if(testDist[j] < .1){\n",
    "        testDist[j]=.0001\n",
    "        }\n",
    "    }\n",
    "\n",
    "fw = fitdist(as.vector(testDist), \"weibull\", method=\"mle\")\n",
    "fg = fitdist(as.vector(testDist), \"exp\", method=\"mle\")\n",
    "fln = fitdist(as.vector(testDist), \"gamma\", method=\"mle\")\n",
    "par(mfrow = c(2, 2))\n",
    "plot.legend <- c(\"Weibull\", \"exp\", \"gamma\")\n",
    "denscomp(list(fw, fln, fg), legendtext = plot.legend)\n",
    "qqcomp(list(fw, fln, fg), legendtext = plot.legend)\n",
    "cdfcomp(list(fw, fln, fg), legendtext = plot.legend)\n",
    "ppcomp(list(fw, fln, fg), legendtext = plot.legend)"
   ]
  },
  {
   "cell_type": "code",
   "execution_count": 35,
   "metadata": {
    "collapsed": false
   },
   "outputs": [
    {
     "data": {
      "text/html": [
       "'rejected'"
      ],
      "text/latex": [
       "'rejected'"
      ],
      "text/markdown": [
       "'rejected'"
      ],
      "text/plain": [
       "[1] \"rejected\""
      ]
     },
     "metadata": {},
     "output_type": "display_data"
    },
    {
     "data": {
      "text/html": [
       "'rejected'"
      ],
      "text/latex": [
       "'rejected'"
      ],
      "text/markdown": [
       "'rejected'"
      ],
      "text/plain": [
       "[1] \"rejected\""
      ]
     },
     "metadata": {},
     "output_type": "display_data"
    },
    {
     "data": {
      "text/html": [
       "'rejected'"
      ],
      "text/latex": [
       "'rejected'"
      ],
      "text/markdown": [
       "'rejected'"
      ],
      "text/plain": [
       "[1] \"rejected\""
      ]
     },
     "metadata": {},
     "output_type": "display_data"
    }
   ],
   "source": [
    "mleGamma[45,\"KStest\"];mleExp[45,\"KStest\"];mleWB[45,\"KStest\"]"
   ]
  },
  {
   "cell_type": "code",
   "execution_count": 36,
   "metadata": {
    "collapsed": false
   },
   "outputs": [
    {
     "data": {
      "image/png": "[encoded data removed]",
      "text/plain": [
       "Plot with title \"P-P plot\""
      ]
     },
     "metadata": {},
     "output_type": "display_data"
    }
   ],
   "source": [
    "testDist = na.omit(max_PRCP2[,45])\n",
    "\n",
    "    for(j in 1:length(testDist)){\n",
    "        if(testDist[j] < .1){\n",
    "        testDist[j]=.0001\n",
    "        }\n",
    "    }\n",
    "\n",
    "fw = fitdist(as.vector(testDist), \"weibull\", method=\"mle\")\n",
    "fg = fitdist(as.vector(testDist), \"exp\", method=\"mle\")\n",
    "fln = fitdist(as.vector(testDist), \"gamma\", method=\"mle\")\n",
    "par(mfrow = c(2, 2))\n",
    "plot.legend <- c(\"Weibull\", \"exp\", \"gamma\")\n",
    "denscomp(list(fw, fln, fg), legendtext = plot.legend)\n",
    "qqcomp(list(fw, fln, fg), legendtext = plot.legend)\n",
    "cdfcomp(list(fw, fln, fg), legendtext = plot.legend)\n",
    "ppcomp(list(fw, fln, fg), legendtext = plot.legend)"
   ]
  },
  {
   "cell_type": "markdown",
   "metadata": {},
   "source": [
    "Tried failed fits with normal distribution"
   ]
  },
  {
   "cell_type": "code",
   "execution_count": 37,
   "metadata": {
    "collapsed": false
   },
   "outputs": [
    {
     "data": {
      "image/png": "[encoded data removed]",
      "text/plain": [
       "Plot with title \"P-P plot\""
      ]
     },
     "metadata": {},
     "output_type": "display_data"
    }
   ],
   "source": [
    "testDist = na.omit(max_PRCP2[,45])\n",
    "\n",
    "    for(j in 1:length(testDist)){\n",
    "        if(testDist[j] < .1){\n",
    "        testDist[j]=.0001\n",
    "        }\n",
    "    }\n",
    "\n",
    "fw = fitdist(as.vector(testDist), \"weibull\", method=\"mle\")\n",
    "fg = fitdist(as.vector(testDist), \"exp\", method=\"mle\")\n",
    "fln = fitdist(as.vector(testDist), \"gamma\", method=\"mle\")\n",
    "norm = fitdist(as.vector(testDist), \"norm\", method=\"mle\")\n",
    "\n",
    "par(mfrow = c(2, 2))\n",
    "plot.legend <- c(\"Weibull\", \"exp\", \"gamma\",\"normal\")\n",
    "denscomp(list(fw, fln, fg,norm), legendtext = plot.legend)\n",
    "qqcomp(list(fw, fln, fg,norm), legendtext = plot.legend)\n",
    "cdfcomp(list(fw, fln, fg,norm), legendtext = plot.legend)\n",
    "ppcomp(list(fw, fln, fg,norm), legendtext = plot.legend)"
   ]
  },
  {
   "cell_type": "markdown",
   "metadata": {},
   "source": [
    "Try good fits with normal distribution"
   ]
  },
  {
   "cell_type": "code",
   "execution_count": 38,
   "metadata": {
    "collapsed": false
   },
   "outputs": [
    {
     "data": {
      "image/png": "[encoded data removed]",
      "text/plain": [
       "Plot with title \"P-P plot\""
      ]
     },
     "metadata": {},
     "output_type": "display_data"
    }
   ],
   "source": [
    "testDist = na.omit(max_PRCP2[,3])\n",
    "\n",
    "    for(j in 1:length(testDist)){\n",
    "        if(testDist[j] < .1){\n",
    "        testDist[j]=.0001\n",
    "        }\n",
    "    }\n",
    "\n",
    "fw = fitdist(as.vector(testDist), \"weibull\", method=\"mle\")\n",
    "fg = fitdist(as.vector(testDist), \"exp\", method=\"mle\")\n",
    "fln = fitdist(as.vector(testDist), \"gamma\", method=\"mle\")\n",
    "norm = fitdist(as.vector(testDist), \"norm\", method=\"mle\")\n",
    "\n",
    "par(mfrow = c(2, 2))\n",
    "plot.legend <- c(\"Weibull\", \"exp\", \"gamma\",\"normal\")\n",
    "denscomp(list(fw, fln, fg,norm), legendtext = plot.legend)\n",
    "qqcomp(list(fw, fln, fg,norm), legendtext = plot.legend)\n",
    "cdfcomp(list(fw, fln, fg,norm), legendtext = plot.legend)\n",
    "ppcomp(list(fw, fln, fg,norm), legendtext = plot.legend)"
   ]
  },
  {
   "cell_type": "code",
   "execution_count": 39,
   "metadata": {
    "collapsed": false
   },
   "outputs": [
    {
     "data": {
      "image/png": "[encoded data removed]",
      "text/plain": [
       "Plot with title \"FAIL\""
      ]
     },
     "metadata": {},
     "output_type": "display_data"
    }
   ],
   "source": [
    "par(mfrow=c(2,2))\n",
    "hist(max_PRCP2[,1], main = \"EXP\", breaks=50)\n",
    "hist(max_PRCP2[,7], main = \"EXP\", breaks=50)\n",
    "hist(max_PRCP2[,8], main = \"EXP\", breaks=50)\n",
    "hist(max_PRCP2[,13], main = \"FAIL\", breaks=50)"
   ]
  },
  {
   "cell_type": "code",
   "execution_count": 40,
   "metadata": {
    "collapsed": false
   },
   "outputs": [
    {
     "data": {
      "image/png": "[encoded data removed]",
      "text/plain": [
       "Plot with title \"FAIL\""
      ]
     },
     "metadata": {},
     "output_type": "display_data"
    }
   ],
   "source": [
    "par(mfrow=c(2,2))\n",
    "hist(max_PRCP2[,46],main = \"FAIL\", breaks=50)\n",
    "hist(max_PRCP2[,45],main = \"FAIL\", breaks=50)\n",
    "hist(max_PRCP2[,44],main = \"FAIL\", breaks=50)\n",
    "hist(max_PRCP2[,43],main = \"FAIL\", breaks=50)"
   ]
  },
  {
   "cell_type": "code",
   "execution_count": 41,
   "metadata": {
    "collapsed": false
   },
   "outputs": [
    {
     "data": {
      "text/html": [
       "<ol class=list-inline>\n",
       "\t<li>13</li>\n",
       "\t<li>14</li>\n",
       "\t<li>21</li>\n",
       "\t<li>39</li>\n",
       "\t<li>40</li>\n",
       "\t<li>41</li>\n",
       "\t<li>42</li>\n",
       "\t<li>43</li>\n",
       "\t<li>44</li>\n",
       "\t<li>45</li>\n",
       "\t<li>46</li>\n",
       "\t<li>47</li>\n",
       "</ol>\n"
      ],
      "text/latex": [
       "\\begin{enumerate*}\n",
       "\\item 13\n",
       "\\item 14\n",
       "\\item 21\n",
       "\\item 39\n",
       "\\item 40\n",
       "\\item 41\n",
       "\\item 42\n",
       "\\item 43\n",
       "\\item 44\n",
       "\\item 45\n",
       "\\item 46\n",
       "\\item 47\n",
       "\\end{enumerate*}\n"
      ],
      "text/markdown": [
       "1. 13\n",
       "2. 14\n",
       "3. 21\n",
       "4. 39\n",
       "5. 40\n",
       "6. 41\n",
       "7. 42\n",
       "8. 43\n",
       "9. 44\n",
       "10. 45\n",
       "11. 46\n",
       "12. 47\n",
       "\n",
       "\n"
      ],
      "text/plain": [
       " [1] 13 14 21 39 40 41 42 43 44 45 46 47"
      ]
     },
     "metadata": {},
     "output_type": "display_data"
    }
   ],
   "source": [
    "which(trueEst==\"fail\")"
   ]
  },
  {
   "cell_type": "code",
   "execution_count": 42,
   "metadata": {
    "collapsed": false
   },
   "outputs": [
    {
     "data": {
      "text/html": [
       "<ol class=list-inline>\n",
       "\t<li>3</li>\n",
       "\t<li>4</li>\n",
       "\t<li>5</li>\n",
       "\t<li>6</li>\n",
       "\t<li>10</li>\n",
       "\t<li>11</li>\n",
       "\t<li>23</li>\n",
       "\t<li>24</li>\n",
       "\t<li>37</li>\n",
       "\t<li>38</li>\n",
       "\t<li>58</li>\n",
       "\t<li>59</li>\n",
       "\t<li>60</li>\n",
       "\t<li>63</li>\n",
       "\t<li>64</li>\n",
       "\t<li>65</li>\n",
       "\t<li>66</li>\n",
       "\t<li>71</li>\n",
       "\t<li>72</li>\n",
       "\t<li>77</li>\n",
       "\t<li>78</li>\n",
       "\t<li>79</li>\n",
       "\t<li>80</li>\n",
       "\t<li>84</li>\n",
       "\t<li>85</li>\n",
       "\t<li>86</li>\n",
       "\t<li>88</li>\n",
       "\t<li>89</li>\n",
       "\t<li>90</li>\n",
       "\t<li>91</li>\n",
       "\t<li>92</li>\n",
       "\t<li>93</li>\n",
       "\t<li>94</li>\n",
       "\t<li>96</li>\n",
       "\t<li>97</li>\n",
       "\t<li>99</li>\n",
       "\t<li>106</li>\n",
       "</ol>\n"
      ],
      "text/latex": [
       "\\begin{enumerate*}\n",
       "\\item 3\n",
       "\\item 4\n",
       "\\item 5\n",
       "\\item 6\n",
       "\\item 10\n",
       "\\item 11\n",
       "\\item 23\n",
       "\\item 24\n",
       "\\item 37\n",
       "\\item 38\n",
       "\\item 58\n",
       "\\item 59\n",
       "\\item 60\n",
       "\\item 63\n",
       "\\item 64\n",
       "\\item 65\n",
       "\\item 66\n",
       "\\item 71\n",
       "\\item 72\n",
       "\\item 77\n",
       "\\item 78\n",
       "\\item 79\n",
       "\\item 80\n",
       "\\item 84\n",
       "\\item 85\n",
       "\\item 86\n",
       "\\item 88\n",
       "\\item 89\n",
       "\\item 90\n",
       "\\item 91\n",
       "\\item 92\n",
       "\\item 93\n",
       "\\item 94\n",
       "\\item 96\n",
       "\\item 97\n",
       "\\item 99\n",
       "\\item 106\n",
       "\\end{enumerate*}\n"
      ],
      "text/markdown": [
       "1. 3\n",
       "2. 4\n",
       "3. 5\n",
       "4. 6\n",
       "5. 10\n",
       "6. 11\n",
       "7. 23\n",
       "8. 24\n",
       "9. 37\n",
       "10. 38\n",
       "11. 58\n",
       "12. 59\n",
       "13. 60\n",
       "14. 63\n",
       "15. 64\n",
       "16. 65\n",
       "17. 66\n",
       "18. 71\n",
       "19. 72\n",
       "20. 77\n",
       "21. 78\n",
       "22. 79\n",
       "23. 80\n",
       "24. 84\n",
       "25. 85\n",
       "26. 86\n",
       "27. 88\n",
       "28. 89\n",
       "29. 90\n",
       "30. 91\n",
       "31. 92\n",
       "32. 93\n",
       "33. 94\n",
       "34. 96\n",
       "35. 97\n",
       "36. 99\n",
       "37. 106\n",
       "\n",
       "\n"
      ],
      "text/plain": [
       " [1]   3   4   5   6  10  11  23  24  37  38  58  59  60  63  64  65  66  71  72\n",
       "[20]  77  78  79  80  84  85  86  88  89  90  91  92  93  94  96  97  99 106"
      ]
     },
     "metadata": {},
     "output_type": "display_data"
    }
   ],
   "source": [
    "which(trueEst==\"plot\")"
   ]
  },
  {
   "cell_type": "code",
   "execution_count": 43,
   "metadata": {
    "collapsed": false
   },
   "outputs": [],
   "source": [
    "mleWB2 = data.frame(alpha = double(),theta = double(),\n",
    "                 KS = double(),\n",
    "                 KStest = character(),\n",
    "                 CvM = double(),\n",
    "                 CvMtest = character(),\n",
    "                 AD = double(),\n",
    "                 ADtest = character(),\n",
    "                 stringsAsFactors = FALSE)\n",
    "                \n",
    "for (i in 1:length(max_PRCP2)) {\n",
    "    \n",
    "    testDist = na.omit(max_PRCP2[,i])\n",
    "        \n",
    "        for(j in 1:length(testDist)){\n",
    "            if(testDist[j] < .1){\n",
    "            testDist[j]=.0001\n",
    "            }\n",
    "        }\n",
    "    \n",
    "   WB1 = fitdist(as.vector(testDist),\"weibull\",method = \"mge\", gof=\"ADR\")\n",
    "   mleWB2[i,1] = WB1$estimate[1]\n",
    "   mleWB2[i,2] = WB1$estimate[2]\n",
    "   \n",
    "   gof = gofstat(WB1)\n",
    "   mleWB2[i,3] = gof$ks\n",
    "   mleWB2[i,4] = gof$kstest\n",
    "   mleWB2[i,5] = gof$cvm\n",
    "   mleWB2[i,6] = gof$cvmtest\n",
    "   mleWB2[i,7] = gof$ad\n",
    "   mleWB2[i,8] = gof$adtest\n",
    "}\n",
    "\n",
    "\n",
    "#mleWB[\"mean\"] = 1/mleWB$theta\n",
    "#mleWB[\"square\"] = mleWB$theta^2 \n",
    "#mleWB[\"var\"] = 1/mleWB$square\n",
    "#mleWB[\"sd\"] = sqrt(mleWB$var)"
   ]
  },
  {
   "cell_type": "code",
   "execution_count": 44,
   "metadata": {
    "collapsed": false
   },
   "outputs": [
    {
     "data": {
      "text/plain": [
       "\n",
       "not rejected \n",
       "         108 "
      ]
     },
     "metadata": {},
     "output_type": "display_data"
    }
   ],
   "source": [
    "table(mleWB2[,4])"
   ]
  },
  {
   "cell_type": "code",
   "execution_count": 45,
   "metadata": {
    "collapsed": true
   },
   "outputs": [],
   "source": [
    "mleGamma2 = data.frame(alpha = double(),\n",
    "                 theta = double(),\n",
    "                 KS = double(),\n",
    "                 KStest = character(),\n",
    "                 CvM = double(),\n",
    "                 CvMtest = character(),\n",
    "                 AD = double(),\n",
    "                 ADtest = character(),\n",
    "                 stringsAsFactors = FALSE)\n",
    "                \n",
    "for (i in 1:length(max_PRCP2)) {\n",
    "\n",
    "    testDist = na.omit(max_PRCP2[,i])\n",
    "        \n",
    "        for(j in 1:length(testDist)){\n",
    "            if(testDist[j] < .1){\n",
    "            testDist[j]=.0001\n",
    "            }\n",
    "        }\n",
    "\n",
    "   gamma1 = fitdist(as.vector(testDist),\"gamma\",method = \"mge\", gof=\"ADR\")\n",
    "   mleGamma2[i,1] = gamma1$estimate[1]\n",
    "   mleGamma2[i,2] = gamma1$estimate[2]\n",
    "   \n",
    "   gof = gofstat(gamma1)\n",
    "   mleGamma2[i,3] = gof$ks\n",
    "   mleGamma2[i,4] = gof$kstest\n",
    "   mleGamma2[i,5] = gof$cvm\n",
    "   mleGamma2[i,6] = gof$cvmtest\n",
    "   mleGamma2[i,7] = gof$ad\n",
    "   mleGamma2[i,8] = gof$adtest\n",
    "}\n",
    "\n",
    "mleGamma[\"invTheta\"] = 1/(mleGamma$theta)\n",
    "mleGamma[\"mean\"] = mleGamma$invTheta*mleGamma$alpha\n",
    "mleGamma[\"var\"] = mleGamma$alpha*(mleGamma$invTheta^2)\n",
    "mleGamma[\"sd\"] = sqrt(mleGamma$var)"
   ]
  },
  {
   "cell_type": "code",
   "execution_count": 46,
   "metadata": {
    "collapsed": false
   },
   "outputs": [
    {
     "data": {
      "text/plain": [
       "\n",
       "not rejected \n",
       "         108 "
      ]
     },
     "metadata": {},
     "output_type": "display_data"
    }
   ],
   "source": [
    "table(mleGamma2[,4])"
   ]
  },
  {
   "cell_type": "code",
   "execution_count": 47,
   "metadata": {
    "collapsed": true
   },
   "outputs": [],
   "source": [
    "mleExp2 = data.frame(theta = double(),\n",
    "                 KS = double(),\n",
    "                 KStest = character(),\n",
    "                 CvM = double(),\n",
    "                 CvMtest = character(),\n",
    "                 AD = double(),\n",
    "                 ADtest = character(),\n",
    "                 stringsAsFactors = FALSE)\n",
    "                \n",
    "for (i in 1:length(max_PRCP2)) {\n",
    "\n",
    "    testDist = na.omit(max_PRCP2[,i])\n",
    "        \n",
    "        for(j in 1:length(testDist)){\n",
    "            if(testDist[j] < .1){\n",
    "            testDist[j]=.0001\n",
    "            }\n",
    "        }\n",
    "\n",
    "   exp1 = fitdist(as.vector(testDist),\"exp\",method = \"mle\")\n",
    "   mleExp2[i,1] = exp1$estimate[1]\n",
    "   \n",
    "   gof = gofstat(exp1)\n",
    "   mleExp2[i,2] = gof$ks\n",
    "   mleExp2[i,3] = gof$kstest\n",
    "   mleExp2[i,4] = gof$cvm\n",
    "   mleExp2[i,5] = gof$cvmtest\n",
    "   mleExp2[i,6] = gof$ad\n",
    "   mleExp2[i,7] = gof$adtest\n",
    "}\n",
    "\n",
    "mleExp2[\"mean\"] = 1/mleExp2$theta\n",
    "mleExp2[\"square\"] = mleExp2$theta^2 \n",
    "mleExp2[\"var\"] = 1/mleExp2$square\n",
    "mleExp2[\"sd\"] = sqrt(mleExp2$var)"
   ]
  },
  {
   "cell_type": "code",
   "execution_count": 48,
   "metadata": {
    "collapsed": false
   },
   "outputs": [
    {
     "data": {
      "text/plain": [
       "\n",
       "not rejected     rejected \n",
       "          62           46 "
      ]
     },
     "metadata": {},
     "output_type": "display_data"
    }
   ],
   "source": [
    "table(mleExp2[,3])"
   ]
  },
  {
   "cell_type": "code",
   "execution_count": 49,
   "metadata": {
    "collapsed": false
   },
   "outputs": [
    {
     "data": {
      "image/png": "[encoded data removed]",
      "text/plain": [
       "Plot with title \"P-P plot\""
      ]
     },
     "metadata": {},
     "output_type": "display_data"
    }
   ],
   "source": [
    "testDist = na.omit(max_PRCP2[,45])\n",
    "\n",
    "    for(j in 1:length(testDist)){\n",
    "        if(testDist[j] < .1){\n",
    "        testDist[j]=.0001\n",
    "        }\n",
    "    }\n",
    "\n",
    "fw = fitdist(as.vector(testDist), \"weibull\", method=\"mge\",gof=\"ADR\")\n",
    "fg = fitdist(as.vector(testDist), \"exp\", method=\"mle\")\n",
    "fln = fitdist(as.vector(testDist), \"gamma\", method=\"mle\")\n",
    "norm = fitdist(as.vector(testDist), \"norm\", method=\"mle\")\n",
    "\n",
    "par(mfrow = c(2, 2))\n",
    "plot.legend <- c(\"Weibull\", \"exp\", \"gamma\",\"normal\")\n",
    "denscomp(list(fw, fln, fg,norm), legendtext = plot.legend)\n",
    "qqcomp(list(fw, fln, fg,norm), legendtext = plot.legend)\n",
    "cdfcomp(list(fw, fln, fg,norm), legendtext = plot.legend)\n",
    "ppcomp(list(fw, fln, fg,norm), legendtext = plot.legend)"
   ]
  },
  {
   "cell_type": "code",
   "execution_count": 50,
   "metadata": {
    "collapsed": false
   },
   "outputs": [
    {
     "data": {
      "image/png": "[encoded data removed]",
      "text/plain": [
       "Plot with title \"P-P plot\""
      ]
     },
     "metadata": {},
     "output_type": "display_data"
    }
   ],
   "source": [
    "testDist = na.omit(max_PRCP2[,3])\n",
    "\n",
    "    for(j in 1:length(testDist)){\n",
    "        if(testDist[j] < .1){\n",
    "        testDist[j]=.0001\n",
    "        }\n",
    "    }\n",
    "\n",
    "fw = fitdist(as.vector(testDist), \"weibull\", method=\"mle\")\n",
    "fg = fitdist(as.vector(testDist), \"exp\", method=\"mle\")\n",
    "fln = fitdist(as.vector(testDist), \"gamma\", method=\"mle\")\n",
    "norm = fitdist(as.vector(testDist), \"weibull\", method=\"mge\",gof=\"ADR\")\n",
    "\n",
    "par(mfrow = c(2, 2))\n",
    "plot.legend <- c(\"Weibull\", \"exp\", \"gamma\",\"WMGE\")\n",
    "denscomp(list(fw, fln, fg,norm), legendtext = plot.legend)\n",
    "qqcomp(list(fw, fln, fg,norm), legendtext = plot.legend)\n",
    "cdfcomp(list(fw, fln, fg,norm), legendtext = plot.legend)\n",
    "ppcomp(list(fw, fln, fg,norm), legendtext = plot.legend)"
   ]
  },
  {
   "cell_type": "code",
   "execution_count": 51,
   "metadata": {
    "collapsed": false
   },
   "outputs": [
    {
     "data": {
      "image/png": "[encoded data removed]",
      "text/plain": [
       "Plot with title \"P-P plot\""
      ]
     },
     "metadata": {},
     "output_type": "display_data"
    }
   ],
   "source": [
    "testDist = na.omit(max_PRCP2[,45])\n",
    "\n",
    "    for(j in 1:length(testDist)){\n",
    "        if(testDist[j] < .1){\n",
    "        testDist[j]=.0001\n",
    "        }\n",
    "    }\n",
    "\n",
    "fw = fitdist(as.vector(testDist), \"weibull\", method=\"mle\")\n",
    "fg = fitdist(as.vector(testDist), \"exp\", method=\"mle\")\n",
    "fln = fitdist(as.vector(testDist), \"gamma\", method=\"mle\")\n",
    "norm = fitdist(as.vector(testDist), \"weibull\", method=\"mge\",gof=\"ADR\")\n",
    "\n",
    "par(mfrow = c(2, 2))\n",
    "plot.legend <- c(\"Weibull\", \"exp\", \"gamma\",\"WMGE\")\n",
    "denscomp(list(fw, fln, fg,norm), legendtext = plot.legend)\n",
    "qqcomp(list(fw, fln, fg,norm), legendtext = plot.legend)\n",
    "cdfcomp(list(fw, fln, fg,norm), legendtext = plot.legend)\n",
    "ppcomp(list(fw, fln, fg,norm), legendtext = plot.legend)"
   ]
  },
  {
   "cell_type": "markdown",
   "metadata": {},
   "source": [
    "YET AGAIN, but this time with gamma MGE as well."
   ]
  },
  {
   "cell_type": "code",
   "execution_count": 52,
   "metadata": {
    "collapsed": false
   },
   "outputs": [
    {
     "data": {
      "image/png": "[encoded data removed]",
      "text/plain": [
       "Plot with title \"P-P plot\""
      ]
     },
     "metadata": {},
     "output_type": "display_data"
    }
   ],
   "source": [
    "testDist = na.omit(max_PRCP2[,3])\n",
    "\n",
    "    for(j in 1:length(testDist)){\n",
    "        if(testDist[j] < .1){\n",
    "        testDist[j]=.0001\n",
    "        }\n",
    "    }\n",
    "\n",
    "fw = fitdist(as.vector(testDist), \"weibull\", method=\"mle\")\n",
    "fg = fitdist(as.vector(testDist), \"gamma\", method=\"mle\")\n",
    "fln = fitdist(as.vector(testDist), \"gamma\", method=\"mge\", gof=\"ADR\")\n",
    "norm = fitdist(as.vector(testDist), \"weibull\", method=\"mge\",gof=\"ADR\")\n",
    "\n",
    "par(mfrow = c(2, 2))\n",
    "plot.legend <- c(\"Weibull\", \"gamma\", \"gammaMDE\",\"WMGE\")\n",
    "denscomp(list(fw, fln, fg,norm), legendtext = plot.legend)\n",
    "qqcomp(list(fw, fln, fg,norm), legendtext = plot.legend)\n",
    "cdfcomp(list(fw, fln, fg,norm), legendtext = plot.legend)\n",
    "ppcomp(list(fw, fln, fg,norm), legendtext = plot.legend)"
   ]
  },
  {
   "cell_type": "markdown",
   "metadata": {},
   "source": [
    "# Probabilities of Interest "
   ]
  },
  {
   "cell_type": "markdown",
   "metadata": {},
   "source": [
    "1 inch of rain approx 25.4mm, 2 inch approx 50.8, 3 inch approx 76.2mm."
   ]
  },
  {
   "cell_type": "markdown",
   "metadata": {},
   "source": [
    "Parameter estimates for frequentist probability checks are found in mleGamma2 (using maximum goodness of fit with ADR distance for right tailed data)."
   ]
  },
  {
   "cell_type": "markdown",
   "metadata": {},
   "source": [
    "probability of seeing or exceeding 1 inch of rain in a 24 hour day"
   ]
  },
  {
   "cell_type": "code",
   "execution_count": 53,
   "metadata": {
    "collapsed": false
   },
   "outputs": [
    {
     "data": {
      "text/html": [
       "0.42898695318045"
      ],
      "text/latex": [
       "0.42898695318045"
      ],
      "text/markdown": [
       "0.42898695318045"
      ],
      "text/plain": [
       "[1] 0.428987"
      ]
     },
     "metadata": {},
     "output_type": "display_data"
    }
   ],
   "source": [
    "1-pgamma(254, mleGamma2[1,1], mleGamma[1,2])"
   ]
  },
  {
   "cell_type": "code",
   "execution_count": 54,
   "metadata": {
    "collapsed": false
   },
   "outputs": [
    {
     "data": {
      "text/html": [
       "0.139789848447289"
      ],
      "text/latex": [
       "0.139789848447289"
      ],
      "text/markdown": [
       "0.139789848447289"
      ],
      "text/plain": [
       "[1] 0.1397898"
      ]
     },
     "metadata": {},
     "output_type": "display_data"
    }
   ],
   "source": [
    "1-pgamma(508, mleGamma2[1,1], mleGamma[1,2])"
   ]
  },
  {
   "cell_type": "code",
   "execution_count": 55,
   "metadata": {
    "collapsed": false
   },
   "outputs": [
    {
     "data": {
      "text/html": [
       "0.0423633671730459"
      ],
      "text/latex": [
       "0.0423633671730459"
      ],
      "text/markdown": [
       "0.0423633671730459"
      ],
      "text/plain": [
       "[1] 0.04236337"
      ]
     },
     "metadata": {},
     "output_type": "display_data"
    }
   ],
   "source": [
    "1-pgamma(762, mleGamma2[1,1], mleGamma[1,2])"
   ]
  },
  {
   "cell_type": "code",
   "execution_count": 56,
   "metadata": {
    "collapsed": true
   },
   "outputs": [],
   "source": [
    "oneInch = NULL\n",
    "twoInch = NULL\n",
    "threeInch = NULL\n",
    "for(i in 1:nrow(mleGamma2)){\n",
    "    oneInch = c(oneInch,1-pgamma(254,mleGamma2[i,1],mleGamma2[i,2]))\n",
    "    twoInch = c(twoInch,1-pgamma(508,mleGamma2[i,1],mleGamma2[i,2]))\n",
    "    threeInch = c(threeInch,1-pgamma(762,mleGamma2[i,1],mleGamma2[i,2]))\n",
    "}"
   ]
  },
  {
   "cell_type": "code",
   "execution_count": 57,
   "metadata": {
    "collapsed": false
   },
   "outputs": [
    {
     "data": {
      "text/html": [
       "108"
      ],
      "text/latex": [
       "108"
      ],
      "text/markdown": [
       "108"
      ],
      "text/plain": [
       "[1] 108"
      ]
     },
     "metadata": {},
     "output_type": "display_data"
    }
   ],
   "source": [
    "length(oneInch)"
   ]
  },
  {
   "cell_type": "code",
   "execution_count": 58,
   "metadata": {
    "collapsed": false
   },
   "outputs": [],
   "source": [
    "oneInchTS = ts(oneInch, start=1907)\n",
    "twoInchTS = ts(twoInch, start=1907)\n",
    "threeInchTS = ts(threeInch, start=1907)"
   ]
  },
  {
   "cell_type": "code",
   "execution_count": 59,
   "metadata": {
    "collapsed": false
   },
   "outputs": [],
   "source": [
    "options(repr.plot.width=7,repr.plot.height=5) #reduces the plot sizes"
   ]
  },
  {
   "cell_type": "code",
   "execution_count": 60,
   "metadata": {
    "collapsed": false
   },
   "outputs": [
    {
     "data": {
      "image/png": "[encoded data removed]",
      "text/plain": [
       "plot without title"
      ]
     },
     "metadata": {},
     "output_type": "display_data"
    }
   ],
   "source": [
    "plot(oneInchTS, ylim=c(0,.26), lwd=2)\n",
    "lines(twoInchTS, col=2, lwd=2)\n",
    "lines(threeInchTS, col=4, lwd=2)"
   ]
  },
  {
   "cell_type": "code",
   "execution_count": 61,
   "metadata": {
    "collapsed": true
   },
   "outputs": [],
   "source": [
    "rollSmall = ts(runmean(oneInchTS,15),start=1907)\n",
    "rollSmall2 = ts(runmean(oneInchTS,30),start=1907)\n",
    "rollSmall3 = ts(runmean(oneInchTS,50),start=1907)"
   ]
  },
  {
   "cell_type": "code",
   "execution_count": 67,
   "metadata": {
    "collapsed": false
   },
   "outputs": [
    {
     "data": {
      "text/html": [
       "108"
      ],
      "text/latex": [
       "108"
      ],
      "text/markdown": [
       "108"
      ],
      "text/plain": [
       "[1] 108"
      ]
     },
     "metadata": {},
     "output_type": "display_data"
    }
   ],
   "source": [
    "length(rollSmall)"
   ]
  },
  {
   "cell_type": "code",
   "execution_count": 62,
   "metadata": {
    "collapsed": false
   },
   "outputs": [
    {
     "data": {
      "image/png": "[encoded data removed]",
      "text/plain": [
       "plot without title"
      ]
     },
     "metadata": {},
     "output_type": "display_data"
    }
   ],
   "source": [
    "plot(oneInchTS)\n",
    "lines(rollSmall, col=3,lwd=2)\n",
    "lines(rollSmall2, col=2,lwd=2)\n",
    "lines(rollSmall3, col=4,lwd=2)"
   ]
  },
  {
   "cell_type": "code",
   "execution_count": 63,
   "metadata": {
    "collapsed": true
   },
   "outputs": [],
   "source": [
    "rollSmall = ts(runmean(twoInchTS,15),start=1907)\n",
    "rollSmall2 = ts(runmean(twoInchTS,30),start=1907)\n",
    "rollSmall3 = ts(runmean(twoInchTS,50),start=1907)"
   ]
  },
  {
   "cell_type": "code",
   "execution_count": 64,
   "metadata": {
    "collapsed": false
   },
   "outputs": [
    {
     "data": {
      "image/png": "[encoded data removed]",
      "text/plain": [
       "plot without title"
      ]
     },
     "metadata": {},
     "output_type": "display_data"
    }
   ],
   "source": [
    "plot(twoInchTS)\n",
    "lines(rollSmall, col=3,lwd=2)\n",
    "lines(rollSmall2, col=2,lwd=2)\n",
    "lines(rollSmall3, col=4,lwd=2)"
   ]
  },
  {
   "cell_type": "code",
   "execution_count": 65,
   "metadata": {
    "collapsed": true
   },
   "outputs": [],
   "source": [
    "rollSmall = ts(runmean(threeInchTS,15),start=1907)\n",
    "rollSmall2 = ts(runmean(threeInchTS,30),start=1907)\n",
    "rollSmall3 = ts(runmean(threeInchTS,50),start=1907)"
   ]
  },
  {
   "cell_type": "code",
   "execution_count": 66,
   "metadata": {
    "collapsed": false
   },
   "outputs": [
    {
     "data": {
      "image/png": "[encoded data removed]",
      "text/plain": [
       "plot without title"
      ]
     },
     "metadata": {},
     "output_type": "display_data"
    }
   ],
   "source": [
    "plot(threeInchTS)\n",
    "lines(rollSmall, col=3,lwd=2)\n",
    "lines(rollSmall2, col=2,lwd=2)\n",
    "lines(rollSmall3, col=4,lwd=2)"
   ]
  }
 ],
 "metadata": {
  "anaconda-cloud": {},
  "kernelspec": {
   "display_name": "R",
   "language": "R",
   "name": "ir"
  },
  "language_info": {
   "codemirror_mode": "r",
   "file_extension": ".r",
   "mimetype": "text/x-r-source",
   "name": "R",
   "pygments_lexer": "r",
   "version": "3.3.1"
  }
 },
 "nbformat": 4,
 "nbformat_minor": 0
}
