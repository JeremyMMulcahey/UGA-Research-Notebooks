{
 "cells": [
  {
   "cell_type": "markdown",
   "metadata": {},
   "source": [
    "# Master's Thesis: Investigating Maximum Rainfall Trends in Colorado"
   ]
  },
  {
   "cell_type": "markdown",
   "metadata": {},
   "source": [
    "<b>Institution:</b> University of Georgia <br>\n",
    "<b>Department:</b> Statistics <br>\n",
    "<b>Student:</b> Jeremy Mulcahey <br>\n",
    "<b>Advisor:</b> Dr. Lynne Seymour <br>\n",
    "<b>Last Edit:</b> 9/27/2016"
   ]
  },
  {
   "cell_type": "markdown",
   "metadata": {},
   "source": [
    "Section 0: Preparing data <br>\n",
    "Section 1: Mean<br>\n",
    "Section 2: Variance"
   ]
  },
  {
   "cell_type": "markdown",
   "metadata": {},
   "source": [
    "##  Section 0: Preparing data"
   ]
  },
  {
   "cell_type": "code",
   "execution_count": 1,
   "metadata": {
    "collapsed": false
   },
   "outputs": [
    {
     "name": "stderr",
     "output_type": "stream",
     "text": [
      "Loading required package: fitdistrplus\n",
      "Loading required package: MASS\n",
      "Loading required package: survival\n",
      "Loading required package: caTools\n",
      "Loading required package: repr\n",
      "Loading required package: IRdisplay\n"
     ]
    }
   ],
   "source": [
    "require(fitdistrplus); # required for parameter estimation\n",
    "require(caTools);      # required for smoothing\n",
    "require(repr);         # required for resizing plots in IRKernel\n",
    "require(\"IRdisplay\");  # graphic embedding\n",
    "require(MASS);         # testing"
   ]
  },
  {
   "cell_type": "code",
   "execution_count": 2,
   "metadata": {
    "collapsed": false
   },
   "outputs": [],
   "source": [
    "# establish working directorys\n",
    "setwd(\"C:/Users/jerem/Desktop/UGA/Master'sThesis/\")"
   ]
  },
  {
   "cell_type": "markdown",
   "metadata": {},
   "source": [
    "Data files for individual station names."
   ]
  },
  {
   "cell_type": "code",
   "execution_count": 3,
   "metadata": {
    "collapsed": false
   },
   "outputs": [],
   "source": [
    "data = read.csv(file = \"data/BOULDER_MonMax_GHCN.csv\", head=T)"
   ]
  },
  {
   "cell_type": "markdown",
   "metadata": {},
   "source": [
    "Adjust the data for later use."
   ]
  },
  {
   "cell_type": "code",
   "execution_count": 4,
   "metadata": {
    "collapsed": false
   },
   "outputs": [
    {
     "data": {
      "text/html": [
       "165"
      ],
      "text/latex": [
       "165"
      ],
      "text/markdown": [
       "165"
      ],
      "text/plain": [
       "[1] 165"
      ]
     },
     "metadata": {},
     "output_type": "display_data"
    }
   ],
   "source": [
    "# Create an index as x - used as needed\n",
    "month = seq(1,nrow(data),by=1)\n",
    "data = cbind(data,month)\n",
    "\n",
    "# first year of the data (changes by station name)\n",
    "firstYear = data$YEAR[1]\n",
    "\n",
    "# station name for plotting\n",
    "stationName = as.character(data$STATION_NAME[1])\n",
    "\n",
    "# -999 messed with the plotting - change to NA\n",
    "data[data==-999] = NA\n",
    "\n",
    "sum(is.na(data)) #print number of missing values"
   ]
  },
  {
   "cell_type": "markdown",
   "metadata": {},
   "source": [
    "Check number of years in the data set."
   ]
  },
  {
   "cell_type": "code",
   "execution_count": 5,
   "metadata": {
    "collapsed": false
   },
   "outputs": [
    {
     "data": {
      "text/html": [
       "116"
      ],
      "text/latex": [
       "116"
      ],
      "text/markdown": [
       "116"
      ],
      "text/plain": [
       "[1] 116"
      ]
     },
     "metadata": {},
     "output_type": "display_data"
    }
   ],
   "source": [
    "data$YEAR[nrow(data)]-firstYear"
   ]
  },
  {
   "cell_type": "code",
   "execution_count": 6,
   "metadata": {
    "collapsed": false
   },
   "outputs": [
    {
     "data": {
      "text/plain": [
       "\n",
       "  1   2   3   4   5   6   7   8   9  10  11  12 \n",
       "117 117 117 117 117 117 117 117 117 117 117 117 "
      ]
     },
     "metadata": {},
     "output_type": "display_data"
    }
   ],
   "source": [
    "table(data$MONTH)"
   ]
  },
  {
   "cell_type": "markdown",
   "metadata": {},
   "source": [
    "Make a data frame of all the 10 year periods following the first year for data collected at the station."
   ]
  },
  {
   "cell_type": "code",
   "execution_count": 7,
   "metadata": {
    "collapsed": false
   },
   "outputs": [],
   "source": [
    "#create the first decade (first year and the following 9 years)\n",
    "max_PRCP = data.frame(data[which(data$YEAR < (firstYear + 10)),6])\n",
    "\n",
    "# add all the subsequent decades to the data frame incrementing by 1 year at a time\n",
    "for(year in c((data$YEAR[1] + 1):2005)){\n",
    "    max_PRCP = cbind(max_PRCP,data[which(data$YEAR >= year & data$YEAR < year+10),6])\n",
    "}\n",
    "\n",
    "# name the columns as the first year of the observed 10 year periods\n",
    "colnames(max_PRCP) = as.character(c(firstYear:2005))\n",
    "\n",
    "# set the missing values to NA\n",
    "max_PRCP[max_PRCP==-999] = NA"
   ]
  },
  {
   "cell_type": "markdown",
   "metadata": {},
   "source": [
    "## Section 1: Mean"
   ]
  },
  {
   "cell_type": "code",
   "execution_count": 8,
   "metadata": {
    "collapsed": true
   },
   "outputs": [],
   "source": [
    "options(repr.plot.width=9, repr.plot.height=5) #reduces the plot sizes"
   ]
  },
  {
   "cell_type": "code",
   "execution_count": 9,
   "metadata": {
    "collapsed": false
   },
   "outputs": [],
   "source": [
    "data2012 = data[which(data$YEAR<2013),]"
   ]
  },
  {
   "cell_type": "code",
   "execution_count": 10,
   "metadata": {
    "collapsed": false
   },
   "outputs": [],
   "source": [
    "# create for maximum rainfall\n",
    "maxTS = ts(data$Max.PRCP, start = firstYear, freq=12)\n",
    "\n",
    "# create regression line\n",
    "reg = lm(Max.PRCP. ~ month, data=data)"
   ]
  },
  {
   "cell_type": "code",
   "execution_count": 11,
   "metadata": {
    "collapsed": false
   },
   "outputs": [],
   "source": [
    "maxTS2012 = ts(data2012$Max.PRCP, start = firstYear, freq=12)"
   ]
  },
  {
   "cell_type": "code",
   "execution_count": 12,
   "metadata": {
    "collapsed": true
   },
   "outputs": [],
   "source": [
    "maxTSNoEvent = maxTS"
   ]
  },
  {
   "cell_type": "code",
   "execution_count": 13,
   "metadata": {
    "collapsed": true
   },
   "outputs": [],
   "source": [
    "maxTSNoEvent[1389] = NA"
   ]
  },
  {
   "cell_type": "code",
   "execution_count": 14,
   "metadata": {
    "collapsed": false
   },
   "outputs": [],
   "source": [
    "maxObs = max(na.omit(data2012$Max.PRCP.))"
   ]
  },
  {
   "cell_type": "code",
   "execution_count": 15,
   "metadata": {
    "collapsed": true
   },
   "outputs": [],
   "source": [
    "smooth = runmean(data2012$Max.PRCP., 120)"
   ]
  },
  {
   "cell_type": "code",
   "execution_count": 16,
   "metadata": {
    "collapsed": true
   },
   "outputs": [],
   "source": [
    "smoothTS = ts(smooth, start=firstYear, freq=12)"
   ]
  },
  {
   "cell_type": "code",
   "execution_count": 17,
   "metadata": {
    "collapsed": false
   },
   "outputs": [
    {
     "data": {
      "text/html": [
       "1060"
      ],
      "text/latex": [
       "1060"
      ],
      "text/markdown": [
       "1060"
      ],
      "text/plain": [
       "[1] 1060"
      ]
     },
     "metadata": {},
     "output_type": "display_data"
    }
   ],
   "source": [
    "which(data2012$Max.PRCP.==maxObs)"
   ]
  },
  {
   "cell_type": "code",
   "execution_count": 18,
   "metadata": {
    "collapsed": false
   },
   "outputs": [
    {
     "data": {
      "text/html": [
       "<table>\n",
       "<thead><tr><th></th><th scope=col>STATION</th><th scope=col>STATION_NAME</th><th scope=col>YEAR</th><th scope=col>MONTH</th><th scope=col>Obs</th><th scope=col>Max.PRCP.</th><th scope=col>month</th></tr></thead>\n",
       "<tbody>\n",
       "\t<tr><th scope=row>1060</th><td>GHCND:USC00050848</td><td>BOULDER CO US    </td><td>1986             </td><td>4                </td><td>30               </td><td>904              </td><td>1060             </td></tr>\n",
       "</tbody>\n",
       "</table>\n"
      ],
      "text/latex": [
       "\\begin{tabular}{r|lllllll}\n",
       "  & STATION & STATION\\_NAME & YEAR & MONTH & Obs & Max.PRCP. & month\\\\\n",
       "\\hline\n",
       "\t1060 & GHCND:USC00050848 & BOULDER CO US     & 1986              & 4                 & 30                & 904               & 1060             \\\\\n",
       "\\end{tabular}\n"
      ],
      "text/plain": [
       "     STATION           STATION_NAME  YEAR MONTH Obs Max.PRCP. month\n",
       "1060 GHCND:USC00050848 BOULDER CO US 1986 4     30  904       1060 "
      ]
     },
     "metadata": {},
     "output_type": "display_data"
    }
   ],
   "source": [
    "data2012[1060,]"
   ]
  },
  {
   "cell_type": "code",
   "execution_count": 19,
   "metadata": {
    "collapsed": false
   },
   "outputs": [
    {
     "data": {
      "image/png": "[encoded data removed]",
      "text/plain": [
       "plot without title"
      ]
     },
     "metadata": {},
     "output_type": "display_data"
    }
   ],
   "source": [
    "plot(maxTS2012, xlab = \"Time (years)\", col = \"darkgrey\", lwd=1.75, ylab = \"Precipitation (1/10mm)\", \n",
    "     #main=sprintf(\"%s \\nObserved 24 Hour Max Rainfall \\nfrom %i to 2012 by Monthly Max\", stationName,firstYear),\n",
    "     ylim=c(0,1000))"
   ]
  },
  {
   "cell_type": "code",
   "execution_count": 20,
   "metadata": {
    "collapsed": false
   },
   "outputs": [
    {
     "data": {
      "image/png": "[encoded data removed]",
      "text/plain": [
       "plot without title"
      ]
     },
     "metadata": {},
     "output_type": "display_data"
    }
   ],
   "source": [
    "plot(maxTS2012, xlab = \"Time (years)\", col = \"darkgrey\", lwd=1.75, ylab = \"Precipitation (1/10mm)\", \n",
    "     #main=sprintf(\"%s \\nObserved 24 Hour Max Rainfall \\nfrom %i to 2012 by Monthly Max\", stationName,firstYear),\n",
    "     ylim=c(0,1000))\n",
    "abline(h=maxObs, col=\"red\", lwd=.5, lty=5)\n",
    "points(smoothTS, col=4, type=\"l\", lwd=2)\n",
    "text(1986,maxObs+50,\n",
    "           sprintf(\"%i\",maxObs))"
   ]
  },
  {
   "cell_type": "code",
   "execution_count": 21,
   "metadata": {
    "collapsed": true
   },
   "outputs": [],
   "source": [
    "maxObs2 = max(na.omit(data$Max.PRCP.))"
   ]
  },
  {
   "cell_type": "code",
   "execution_count": 22,
   "metadata": {
    "collapsed": true
   },
   "outputs": [],
   "source": [
    "smooth2 = runmean(data$Max.PRCP., 120)"
   ]
  },
  {
   "cell_type": "code",
   "execution_count": 23,
   "metadata": {
    "collapsed": true
   },
   "outputs": [],
   "source": [
    "smoothTS2 = ts(smooth2, start=firstYear, freq=12)"
   ]
  },
  {
   "cell_type": "code",
   "execution_count": 24,
   "metadata": {
    "collapsed": false
   },
   "outputs": [
    {
     "data": {
      "image/png": "[encoded data removed]",
      "text/plain": [
       "plot without title"
      ]
     },
     "metadata": {},
     "output_type": "display_data"
    }
   ],
   "source": [
    "plot(maxTS, xlab = \"Time (years)\", col = \"darkgrey\", lwd=1.75, ylab = \"Precipitation (1/10mm)\", \n",
    "     #main=sprintf(\"%s \\nObserved 24 Hour Max Rainfall \\nfrom %i to 2012 by Monthly Max\", stationName,firstYear),\n",
    "     ylim=c(0,2500))\n",
    "abline(h=maxObs2, col=\"red\", lwd=.5, lty=5)\n",
    "points(smoothTS2, col=4, type=\"l\", lwd=2)\n",
    "text(2013,maxObs2+100,sprintf(\"%i\",maxObs2))"
   ]
  },
  {
   "cell_type": "code",
   "execution_count": 25,
   "metadata": {
    "collapsed": true
   },
   "outputs": [],
   "source": [
    "maxTSNoEvent = ts(maxTSNoEvent, start=firstYear, freq=12)"
   ]
  },
  {
   "cell_type": "code",
   "execution_count": 26,
   "metadata": {
    "collapsed": false
   },
   "outputs": [
    {
     "data": {
      "image/png": "[encoded data removed]",
      "text/plain": [
       "plot without title"
      ]
     },
     "metadata": {},
     "output_type": "display_data"
    }
   ],
   "source": [
    "#rollSmall = runmean(data$Max.PRCP., 300)\n",
    "plot(smoothTS, type=\"l\", xlab = \"Time (years)\", lwd=2,\n",
    "    ylab = \"Precipitation (1/10mm)\", col = 1\n",
    "     #main=\"Smoothed 24 hour max rainfall from 1898 to 2014\"\n",
    "    )"
   ]
  },
  {
   "cell_type": "code",
   "execution_count": 27,
   "metadata": {
    "collapsed": false
   },
   "outputs": [
    {
     "data": {
      "image/png": "[encoded data removed]",
      "text/plain": [
       "plot without title"
      ]
     },
     "metadata": {},
     "output_type": "display_data"
    }
   ],
   "source": [
    "#rollSmall = runmean(data$Max.PRCP., 300)\n",
    "plot(smoothTS2, type=\"l\", xlab = \"Time (years)\", lwd=2,\n",
    "    ylab = \"Precipitation (1/10mm)\", col = 4, ylim=c(130,220)\n",
    "     #main=\"Smoothed 24 hour max rainfall from 1898 to 2014\"\n",
    "    )"
   ]
  },
  {
   "cell_type": "code",
   "execution_count": 28,
   "metadata": {
    "collapsed": false
   },
   "outputs": [
    {
     "data": {
      "image/png": "[encoded data removed]",
      "text/plain": [
       "Plot with title \"Smoothed 24 hour max rainfall from 1898 to 2014\""
      ]
     },
     "metadata": {},
     "output_type": "display_data"
    }
   ],
   "source": [
    "#rollSmall = runmean(data$Max.PRCP., 300)\n",
    "plot(smoothTS2, type=\"l\", xlab = \"Time (years)\", lwd=5,\n",
    "    ylab = \"Max Precipitation (1/10mm)\", col = 1, main=\"Smoothed 24 hour max rainfall from 1898 to 2014\")\n",
    "lines(smoothTS, col=2)"
   ]
  },
  {
   "cell_type": "code",
   "execution_count": 29,
   "metadata": {
    "collapsed": false
   },
   "outputs": [],
   "source": [
    "means = apply(max_PRCP,2,mean)"
   ]
  },
  {
   "cell_type": "code",
   "execution_count": 30,
   "metadata": {
    "collapsed": false
   },
   "outputs": [
    {
     "data": {
      "text/html": [
       "1642"
      ],
      "text/latex": [
       "1642"
      ],
      "text/markdown": [
       "1642"
      ],
      "text/plain": [
       "[1] 1642"
      ]
     },
     "metadata": {},
     "output_type": "display_data"
    }
   ],
   "source": [
    "sum(is.na(max_PRCP))"
   ]
  },
  {
   "cell_type": "markdown",
   "metadata": {},
   "source": [
    "Can't use the apply function with all the NAs"
   ]
  },
  {
   "cell_type": "code",
   "execution_count": 31,
   "metadata": {
    "collapsed": false
   },
   "outputs": [
    {
     "data": {
      "text/html": [
       "1389"
      ],
      "text/latex": [
       "1389"
      ],
      "text/markdown": [
       "1389"
      ],
      "text/plain": [
       "[1] 1389"
      ]
     },
     "metadata": {},
     "output_type": "display_data"
    }
   ],
   "source": [
    "which(data$Max.PRCP.==maxObs2)"
   ]
  },
  {
   "cell_type": "code",
   "execution_count": 32,
   "metadata": {
    "collapsed": true
   },
   "outputs": [],
   "source": [
    "data2= data"
   ]
  },
  {
   "cell_type": "code",
   "execution_count": 33,
   "metadata": {
    "collapsed": false
   },
   "outputs": [],
   "source": [
    "data2$Max.PRCP.[1389]=NA"
   ]
  },
  {
   "cell_type": "code",
   "execution_count": 34,
   "metadata": {
    "collapsed": false
   },
   "outputs": [],
   "source": [
    "smooth3 = runmean(data2$Max.PRCP., 120)"
   ]
  },
  {
   "cell_type": "code",
   "execution_count": 35,
   "metadata": {
    "collapsed": true
   },
   "outputs": [],
   "source": [
    "smoothTS3 = ts(smooth3, start = firstYear, freq=12)"
   ]
  },
  {
   "cell_type": "code",
   "execution_count": 36,
   "metadata": {
    "collapsed": false
   },
   "outputs": [],
   "source": [
    "#create the first decade (first year and the following 9 years)\n",
    "max_PRCP2 = data.frame(data2[which(data2$YEAR < (firstYear + 10)),6])\n",
    "\n",
    "# add all the subsequent decades to the data frame incrementing by 1 year at a time\n",
    "# i.e. 1898-1907, 1898-1908, etc\n",
    "for(year in c((data2$YEAR[1] + 1):2005)){\n",
    "    max_PRCP2 = cbind(max_PRCP2,data2[which(data2$YEAR >= year & data2$YEAR < year+10),6])\n",
    "}\n",
    "\n",
    "# name the columns as the first year of the observed 10 year periods\n",
    "colnames(max_PRCP2) = as.character(c(firstYear:2005))\n",
    "\n",
    "# set the missing values to NA\n",
    "max_PRCP2[max_PRCP2==-999] = NA"
   ]
  },
  {
   "cell_type": "code",
   "execution_count": 37,
   "metadata": {
    "collapsed": false
   },
   "outputs": [
    {
     "data": {
      "image/png": "[encoded data removed]",
      "text/plain": [
       "plot without title"
      ]
     },
     "metadata": {},
     "output_type": "display_data"
    }
   ],
   "source": [
    "#rollSmall = runmean(data$Max.PRCP., 300)\n",
    "plot(smoothTS2, type=\"l\", xlab = \"Time (years)\", lwd=2,\n",
    "    ylab = \"Precipitation (1/10mm)\", col = 4, \n",
    "     #main=\"Smoothed 24 hour max rainfall from 1898 to 2014\"\n",
    "    )\n",
    "#lines(smoothTS3, col=2, lwd=2)\n",
    "lines(smoothTS, col=1, lwd=2)\n",
    "legend(\"topleft\",c(\"TS with event\",\"\", \"TS omitted event\",\"\", \"TS prior to event\"), lty = c(1,0,1,0,1),col=c(4,0,2,0,1),\n",
    "      lwd=c(2,0,2,0,2), bty=\"n\", cex = 1, pt.cex=1)"
   ]
  },
  {
   "cell_type": "code",
   "execution_count": 38,
   "metadata": {
    "collapsed": false
   },
   "outputs": [
    {
     "data": {
      "text/html": [
       "120"
      ],
      "text/latex": [
       "120"
      ],
      "text/markdown": [
       "120"
      ],
      "text/plain": [
       "[1] 120"
      ]
     },
     "metadata": {},
     "output_type": "display_data"
    }
   ],
   "source": [
    "length(smoothTS2)-1284"
   ]
  },
  {
   "cell_type": "code",
   "execution_count": 39,
   "metadata": {
    "collapsed": false
   },
   "outputs": [],
   "source": [
    "truncSmoothTS = ts(smoothTS[1284:1320], start=2004, freq=12)\n",
    "truncSmoothTS2 = ts(smoothTS2[1284:length(smoothTS2)], start=2004, freq=12)\n",
    "truncSmoothTS3 = ts(smoothTS3[1284:length(smoothTS3)], start=2004, freq=12)"
   ]
  },
  {
   "cell_type": "code",
   "execution_count": 40,
   "metadata": {
    "collapsed": false
   },
   "outputs": [
    {
     "data": {
      "image/png": "[encoded data removed]",
      "text/plain": [
       "plot without title"
      ]
     },
     "metadata": {},
     "output_type": "display_data"
    }
   ],
   "source": [
    "#rollSmall = runmean(data$Max.PRCP., 300)\n",
    "plot(truncSmoothTS2, type=\"l\", xlab = \"Time (years)\", lwd=4,\n",
    "    ylab = \"Max Precipitation (1/10mm)\", col = 4, \n",
    "     #main=\"Smoothed 24 hour max rainfall from 1898 to 2014\"\n",
    "    )\n",
    "lines(truncSmoothTS3, col=2, lwd=3)\n",
    "lines(truncSmoothTS, col=1, lwd=2)\n",
    "legend(\"topleft\",c(\"TS with event\",\"\", \"TS omitted event\",\"\", \"TS prior to event\"), lty = c(1,0,1,0,1),col=c(4,0,2,0,1),\n",
    "      lwd=c(2,0,2,0,2), bty=\"n\", cex = 1, pt.cex=1)"
   ]
  },
  {
   "cell_type": "code",
   "execution_count": 41,
   "metadata": {
    "collapsed": true
   },
   "outputs": [],
   "source": [
    "smoothALL = runmean(data2$Max.PRCP., 1404/2)"
   ]
  },
  {
   "cell_type": "code",
   "execution_count": 42,
   "metadata": {
    "collapsed": true
   },
   "outputs": [],
   "source": [
    "smoothAllTS = ts(smoothALL, start=firstYear, freq = 12)"
   ]
  },
  {
   "cell_type": "code",
   "execution_count": 43,
   "metadata": {
    "collapsed": true
   },
   "outputs": [],
   "source": [
    "smoothALLEvent = runmean(data$Max.PRCP., 1404/2)"
   ]
  },
  {
   "cell_type": "code",
   "execution_count": 44,
   "metadata": {
    "collapsed": true
   },
   "outputs": [],
   "source": [
    "smoothAllEventTS = ts(smoothALLEvent, start = firstYear, freq = 12)"
   ]
  },
  {
   "cell_type": "code",
   "execution_count": 45,
   "metadata": {
    "collapsed": false
   },
   "outputs": [
    {
     "data": {
      "text/html": [
       "1404"
      ],
      "text/latex": [
       "1404"
      ],
      "text/markdown": [
       "1404"
      ],
      "text/plain": [
       "[1] 1404"
      ]
     },
     "metadata": {},
     "output_type": "display_data"
    }
   ],
   "source": [
    "length(smoothAllTS)"
   ]
  },
  {
   "cell_type": "code",
   "execution_count": 46,
   "metadata": {
    "collapsed": false
   },
   "outputs": [
    {
     "data": {
      "text/html": [
       "702"
      ],
      "text/latex": [
       "702"
      ],
      "text/markdown": [
       "702"
      ],
      "text/plain": [
       "[1] 702"
      ]
     },
     "metadata": {},
     "output_type": "display_data"
    }
   ],
   "source": [
    "1404/2"
   ]
  },
  {
   "cell_type": "code",
   "execution_count": 47,
   "metadata": {
    "collapsed": false
   },
   "outputs": [
    {
     "data": {
      "image/png": "[encoded data removed]",
      "text/plain": [
       "plot without title"
      ]
     },
     "metadata": {},
     "output_type": "display_data"
    }
   ],
   "source": [
    "plot(smoothAllEventTS, type=\"l\", col=\"blue\", ylab=\"Smoothed Precipitation (1/10mm)\", xlab=\"Time (years)\")\n",
    "lines(smoothAllTS)\n",
    "legend(\"topleft\",c(\"Smoothing with Event\",\"\", \"Smoothing without Event\"), col = c(4,0,1),, lty=c(1,0,1), bty=\"n\")"
   ]
  },
  {
   "cell_type": "markdown",
   "metadata": {},
   "source": [
    "### Change point detection for mean signal"
   ]
  },
  {
   "cell_type": "code",
   "execution_count": 48,
   "metadata": {
    "collapsed": false
   },
   "outputs": [
    {
     "ename": "ERROR",
     "evalue": "Error in eval(expr, envir, enclos): object 'means1TS' not found\n",
     "output_type": "error",
     "traceback": [
      "Error in eval(expr, envir, enclos): object 'means1TS' not found\nTraceback:\n"
     ]
    }
   ],
   "source": [
    "means1TS"
   ]
  },
  {
   "cell_type": "code",
   "execution_count": null,
   "metadata": {
    "collapsed": false
   },
   "outputs": [],
   "source": [
    "means1TS[81]"
   ]
  },
  {
   "cell_type": "code",
   "execution_count": 49,
   "metadata": {
    "collapsed": true
   },
   "outputs": [],
   "source": [
    "data1st = data[which(data$YEAR<=1981),]\n",
    "data2nd = data[-which(data$YEAR<=1981),]"
   ]
  },
  {
   "cell_type": "code",
   "execution_count": 50,
   "metadata": {
    "collapsed": false
   },
   "outputs": [],
   "source": [
    "mean1sthalf = mean(na.omit(data1st$Max.PRCP.))\n",
    "v1 = var(na.omit(data1st$Max.PRCP.))\n",
    "mean2ndhalf = mean(na.omit(data2nd$Max.PRCP.))\n",
    "v2 = var(na.omit(data2nd$Max.PRCP.))"
   ]
  },
  {
   "cell_type": "code",
   "execution_count": 51,
   "metadata": {
    "collapsed": false
   },
   "outputs": [
    {
     "data": {
      "text/html": [
       "<ol class=list-inline>\n",
       "\t<li>1898</li>\n",
       "\t<li>1899</li>\n",
       "\t<li>1900</li>\n",
       "\t<li>1901</li>\n",
       "\t<li>1902</li>\n",
       "\t<li>1903</li>\n",
       "\t<li>1904</li>\n",
       "\t<li>1905</li>\n",
       "\t<li>1906</li>\n",
       "\t<li>1907</li>\n",
       "\t<li>1908</li>\n",
       "\t<li>1909</li>\n",
       "\t<li>1910</li>\n",
       "\t<li>1911</li>\n",
       "\t<li>1912</li>\n",
       "\t<li>1913</li>\n",
       "\t<li>1914</li>\n",
       "\t<li>1915</li>\n",
       "\t<li>1916</li>\n",
       "\t<li>1917</li>\n",
       "\t<li>1918</li>\n",
       "\t<li>1919</li>\n",
       "\t<li>1920</li>\n",
       "\t<li>1921</li>\n",
       "\t<li>1922</li>\n",
       "\t<li>1923</li>\n",
       "\t<li>1924</li>\n",
       "\t<li>1925</li>\n",
       "\t<li>1926</li>\n",
       "\t<li>1927</li>\n",
       "\t<li>1928</li>\n",
       "\t<li>1929</li>\n",
       "\t<li>1930</li>\n",
       "\t<li>1931</li>\n",
       "\t<li>1932</li>\n",
       "\t<li>1933</li>\n",
       "\t<li>1934</li>\n",
       "\t<li>1935</li>\n",
       "\t<li>1936</li>\n",
       "\t<li>1937</li>\n",
       "\t<li>1938</li>\n",
       "\t<li>1939</li>\n",
       "\t<li>1940</li>\n",
       "\t<li>1941</li>\n",
       "\t<li>1942</li>\n",
       "\t<li>1943</li>\n",
       "\t<li>1944</li>\n",
       "\t<li>1945</li>\n",
       "\t<li>1946</li>\n",
       "\t<li>1947</li>\n",
       "\t<li>1948</li>\n",
       "\t<li>1949</li>\n",
       "\t<li>1950</li>\n",
       "\t<li>1951</li>\n",
       "\t<li>1952</li>\n",
       "\t<li>1953</li>\n",
       "\t<li>1954</li>\n",
       "\t<li>1955</li>\n",
       "\t<li>1956</li>\n",
       "\t<li>1957</li>\n",
       "\t<li>1958</li>\n",
       "\t<li>1959</li>\n",
       "\t<li>1960</li>\n",
       "\t<li>1961</li>\n",
       "\t<li>1962</li>\n",
       "\t<li>1963</li>\n",
       "\t<li>1964</li>\n",
       "\t<li>1965</li>\n",
       "\t<li>1966</li>\n",
       "\t<li>1967</li>\n",
       "\t<li>1968</li>\n",
       "\t<li>1969</li>\n",
       "\t<li>1970</li>\n",
       "\t<li>1971</li>\n",
       "\t<li>1972</li>\n",
       "\t<li>1973</li>\n",
       "\t<li>1974</li>\n",
       "\t<li>1975</li>\n",
       "\t<li>1976</li>\n",
       "\t<li>1977</li>\n",
       "\t<li>1978</li>\n",
       "\t<li>1979</li>\n",
       "\t<li>1980</li>\n",
       "\t<li>1981</li>\n",
       "</ol>\n"
      ],
      "text/latex": [
       "\\begin{enumerate*}\n",
       "\\item 1898\n",
       "\\item 1899\n",
       "\\item 1900\n",
       "\\item 1901\n",
       "\\item 1902\n",
       "\\item 1903\n",
       "\\item 1904\n",
       "\\item 1905\n",
       "\\item 1906\n",
       "\\item 1907\n",
       "\\item 1908\n",
       "\\item 1909\n",
       "\\item 1910\n",
       "\\item 1911\n",
       "\\item 1912\n",
       "\\item 1913\n",
       "\\item 1914\n",
       "\\item 1915\n",
       "\\item 1916\n",
       "\\item 1917\n",
       "\\item 1918\n",
       "\\item 1919\n",
       "\\item 1920\n",
       "\\item 1921\n",
       "\\item 1922\n",
       "\\item 1923\n",
       "\\item 1924\n",
       "\\item 1925\n",
       "\\item 1926\n",
       "\\item 1927\n",
       "\\item 1928\n",
       "\\item 1929\n",
       "\\item 1930\n",
       "\\item 1931\n",
       "\\item 1932\n",
       "\\item 1933\n",
       "\\item 1934\n",
       "\\item 1935\n",
       "\\item 1936\n",
       "\\item 1937\n",
       "\\item 1938\n",
       "\\item 1939\n",
       "\\item 1940\n",
       "\\item 1941\n",
       "\\item 1942\n",
       "\\item 1943\n",
       "\\item 1944\n",
       "\\item 1945\n",
       "\\item 1946\n",
       "\\item 1947\n",
       "\\item 1948\n",
       "\\item 1949\n",
       "\\item 1950\n",
       "\\item 1951\n",
       "\\item 1952\n",
       "\\item 1953\n",
       "\\item 1954\n",
       "\\item 1955\n",
       "\\item 1956\n",
       "\\item 1957\n",
       "\\item 1958\n",
       "\\item 1959\n",
       "\\item 1960\n",
       "\\item 1961\n",
       "\\item 1962\n",
       "\\item 1963\n",
       "\\item 1964\n",
       "\\item 1965\n",
       "\\item 1966\n",
       "\\item 1967\n",
       "\\item 1968\n",
       "\\item 1969\n",
       "\\item 1970\n",
       "\\item 1971\n",
       "\\item 1972\n",
       "\\item 1973\n",
       "\\item 1974\n",
       "\\item 1975\n",
       "\\item 1976\n",
       "\\item 1977\n",
       "\\item 1978\n",
       "\\item 1979\n",
       "\\item 1980\n",
       "\\item 1981\n",
       "\\end{enumerate*}\n"
      ],
      "text/markdown": [
       "1. 1898\n",
       "2. 1899\n",
       "3. 1900\n",
       "4. 1901\n",
       "5. 1902\n",
       "6. 1903\n",
       "7. 1904\n",
       "8. 1905\n",
       "9. 1906\n",
       "10. 1907\n",
       "11. 1908\n",
       "12. 1909\n",
       "13. 1910\n",
       "14. 1911\n",
       "15. 1912\n",
       "16. 1913\n",
       "17. 1914\n",
       "18. 1915\n",
       "19. 1916\n",
       "20. 1917\n",
       "21. 1918\n",
       "22. 1919\n",
       "23. 1920\n",
       "24. 1921\n",
       "25. 1922\n",
       "26. 1923\n",
       "27. 1924\n",
       "28. 1925\n",
       "29. 1926\n",
       "30. 1927\n",
       "31. 1928\n",
       "32. 1929\n",
       "33. 1930\n",
       "34. 1931\n",
       "35. 1932\n",
       "36. 1933\n",
       "37. 1934\n",
       "38. 1935\n",
       "39. 1936\n",
       "40. 1937\n",
       "41. 1938\n",
       "42. 1939\n",
       "43. 1940\n",
       "44. 1941\n",
       "45. 1942\n",
       "46. 1943\n",
       "47. 1944\n",
       "48. 1945\n",
       "49. 1946\n",
       "50. 1947\n",
       "51. 1948\n",
       "52. 1949\n",
       "53. 1950\n",
       "54. 1951\n",
       "55. 1952\n",
       "56. 1953\n",
       "57. 1954\n",
       "58. 1955\n",
       "59. 1956\n",
       "60. 1957\n",
       "61. 1958\n",
       "62. 1959\n",
       "63. 1960\n",
       "64. 1961\n",
       "65. 1962\n",
       "66. 1963\n",
       "67. 1964\n",
       "68. 1965\n",
       "69. 1966\n",
       "70. 1967\n",
       "71. 1968\n",
       "72. 1969\n",
       "73. 1970\n",
       "74. 1971\n",
       "75. 1972\n",
       "76. 1973\n",
       "77. 1974\n",
       "78. 1975\n",
       "79. 1976\n",
       "80. 1977\n",
       "81. 1978\n",
       "82. 1979\n",
       "83. 1980\n",
       "84. 1981\n",
       "\n",
       "\n"
      ],
      "text/plain": [
       " [1] 1898 1899 1900 1901 1902 1903 1904 1905 1906 1907 1908 1909 1910 1911 1912\n",
       "[16] 1913 1914 1915 1916 1917 1918 1919 1920 1921 1922 1923 1924 1925 1926 1927\n",
       "[31] 1928 1929 1930 1931 1932 1933 1934 1935 1936 1937 1938 1939 1940 1941 1942\n",
       "[46] 1943 1944 1945 1946 1947 1948 1949 1950 1951 1952 1953 1954 1955 1956 1957\n",
       "[61] 1958 1959 1960 1961 1962 1963 1964 1965 1966 1967 1968 1969 1970 1971 1972\n",
       "[76] 1973 1974 1975 1976 1977 1978 1979 1980 1981"
      ]
     },
     "metadata": {},
     "output_type": "display_data"
    }
   ],
   "source": [
    "unique(data1st$YEAR)"
   ]
  },
  {
   "cell_type": "code",
   "execution_count": 52,
   "metadata": {
    "collapsed": true
   },
   "outputs": [],
   "source": [
    "anotherTS = smoothTS"
   ]
  },
  {
   "cell_type": "code",
   "execution_count": 53,
   "metadata": {
    "collapsed": false
   },
   "outputs": [
    {
     "name": "stderr",
     "output_type": "stream",
     "text": [
      "Loading required package: changepoint\n",
      "Loading required package: zoo\n",
      "\n",
      "Attaching package: 'zoo'\n",
      "\n",
      "The following objects are masked from 'package:base':\n",
      "\n",
      "    as.Date, as.Date.numeric\n",
      "\n",
      "Successfully loaded changepoint package version 2.2.1\n",
      " NOTE: Predefined penalty values have changed.  Previous penalty values with a postfix 1 i.e. SIC1 are now without i.e. SIC and previous penalties without a postfix i.e. SIC are now with a postfix 0 i.e. SIC0. See NEWS and help files for further details.\n"
     ]
    }
   ],
   "source": [
    "require(changepoint)"
   ]
  },
  {
   "cell_type": "code",
   "execution_count": 54,
   "metadata": {
    "collapsed": false
   },
   "outputs": [
    {
     "data": {
      "text/plain": [
       "Class 'cpt' : Changepoint Object\n",
       "       ~~   : S4 class containing 12 slots with names\n",
       "              date version data.set cpttype method test.stat pen.type pen.value minseglen cpts ncpts.max param.est \n",
       "\n",
       "Created on  : Tue Sep 13 17:22:34 2016 \n",
       "\n",
       "summary(.)  :\n",
       "----------\n",
       "Created Using changepoint version 2.2.1 \n",
       "Changepoint type      : Change in mean \n",
       "Method of analysis    : AMOC \n",
       "Test Statistic  : Normal \n",
       "Type of penalty       : MBIC with value, 21.68952 \n",
       "Minimum Segment Length : 1 \n",
       "Maximum no. of cpts   : 1 \n",
       "Changepoint Locations : 1007 "
      ]
     },
     "metadata": {},
     "output_type": "display_data"
    }
   ],
   "source": [
    "cpt.mean(anotherTS)"
   ]
  },
  {
   "cell_type": "code",
   "execution_count": 55,
   "metadata": {
    "collapsed": false
   },
   "outputs": [
    {
     "data": {
      "text/plain": [
       "\n",
       "\tShapiro-Wilk normality test\n",
       "\n",
       "data:  smoothTS\n",
       "W = 0.98121, p-value = 1.981e-12\n"
      ]
     },
     "metadata": {},
     "output_type": "display_data"
    }
   ],
   "source": [
    "shapiro.test(smoothTS)"
   ]
  },
  {
   "cell_type": "code",
   "execution_count": 56,
   "metadata": {
    "collapsed": false
   },
   "outputs": [
    {
     "data": {
      "image/png": "[encoded data removed]",
      "text/plain": [
       "Plot with title \"Normal Q-Q Plot\""
      ]
     },
     "metadata": {},
     "output_type": "display_data"
    }
   ],
   "source": [
    "qqnorm(smoothTS);qqline(smoothTS)"
   ]
  },
  {
   "cell_type": "code",
   "execution_count": 99,
   "metadata": {
    "collapsed": false
   },
   "outputs": [
    {
     "data": {
      "text/html": [
       "<strong>png:</strong> 2"
      ],
      "text/latex": [
       "\\textbf{png:} 2"
      ],
      "text/markdown": [
       "**png:** 2"
      ],
      "text/plain": [
       "png \n",
       "  2 "
      ]
     },
     "metadata": {},
     "output_type": "display_data"
    }
   ],
   "source": [
    "#setEPS()\n",
    "#postscript(\"pics/tri.eps\")\n",
    "#hist(smoothTS,breaks=40,xlab=\"Precipitation (1/10mm)\", main=\"\")\n",
    "#dev.off()"
   ]
  },
  {
   "cell_type": "code",
   "execution_count": 58,
   "metadata": {
    "collapsed": false
   },
   "outputs": [
    {
     "data": {
      "image/png": "[encoded data removed]",
      "text/plain": [
       "Plot with title \"Histogram of smoothTS\""
      ]
     },
     "metadata": {},
     "output_type": "display_data"
    }
   ],
   "source": [
    "hist(smoothTS,breaks=40)"
   ]
  },
  {
   "cell_type": "code",
   "execution_count": 59,
   "metadata": {
    "collapsed": false
   },
   "outputs": [
    {
     "data": {
      "text/html": [
       "<ol class=list-inline>\n",
       "\t<li>159.644230769231</li>\n",
       "\t<li>159.5</li>\n",
       "\t<li>166.038461538462</li>\n",
       "\t<li>166.971153846154</li>\n",
       "\t<li>166</li>\n",
       "\t<li>166.855769230769</li>\n",
       "\t<li>165.490384615385</li>\n",
       "\t<li>165.173076923077</li>\n",
       "\t<li>166.201923076923</li>\n",
       "\t<li>168.105769230769</li>\n",
       "\t<li>168.788461538462</li>\n",
       "\t<li>169.663461538462</li>\n",
       "\t<li>170.769230769231</li>\n",
       "</ol>\n"
      ],
      "text/latex": [
       "\\begin{enumerate*}\n",
       "\\item 159.644230769231\n",
       "\\item 159.5\n",
       "\\item 166.038461538462\n",
       "\\item 166.971153846154\n",
       "\\item 166\n",
       "\\item 166.855769230769\n",
       "\\item 165.490384615385\n",
       "\\item 165.173076923077\n",
       "\\item 166.201923076923\n",
       "\\item 168.105769230769\n",
       "\\item 168.788461538462\n",
       "\\item 169.663461538462\n",
       "\\item 170.769230769231\n",
       "\\end{enumerate*}\n"
      ],
      "text/markdown": [
       "1. 159.644230769231\n",
       "2. 159.5\n",
       "3. 166.038461538462\n",
       "4. 166.971153846154\n",
       "5. 166\n",
       "6. 166.855769230769\n",
       "7. 165.490384615385\n",
       "8. 165.173076923077\n",
       "9. 166.201923076923\n",
       "10. 168.105769230769\n",
       "11. 168.788461538462\n",
       "12. 169.663461538462\n",
       "13. 170.769230769231\n",
       "\n",
       "\n"
      ],
      "text/plain": [
       " [1] 159.6442 159.5000 166.0385 166.9712 166.0000 166.8558 165.4904 165.1731\n",
       " [9] 166.2019 168.1058 168.7885 169.6635 170.7692"
      ]
     },
     "metadata": {},
     "output_type": "display_data"
    }
   ],
   "source": [
    "smoothTS[998:1010]"
   ]
  },
  {
   "cell_type": "code",
   "execution_count": 60,
   "metadata": {
    "collapsed": false
   },
   "outputs": [
    {
     "data": {
      "text/html": [
       "<ol class=list-inline>\n",
       "\t<li>159.644230769231</li>\n",
       "\t<li>159.5</li>\n",
       "\t<li>166.038461538462</li>\n",
       "\t<li>166.971153846154</li>\n",
       "\t<li>166</li>\n",
       "</ol>\n"
      ],
      "text/latex": [
       "\\begin{enumerate*}\n",
       "\\item 159.644230769231\n",
       "\\item 159.5\n",
       "\\item 166.038461538462\n",
       "\\item 166.971153846154\n",
       "\\item 166\n",
       "\\end{enumerate*}\n"
      ],
      "text/markdown": [
       "1. 159.644230769231\n",
       "2. 159.5\n",
       "3. 166.038461538462\n",
       "4. 166.971153846154\n",
       "5. 166\n",
       "\n",
       "\n"
      ],
      "text/plain": [
       "[1] 159.6442 159.5000 166.0385 166.9712 166.0000"
      ]
     },
     "metadata": {},
     "output_type": "display_data"
    }
   ],
   "source": [
    "anotherTS[998:1002]"
   ]
  },
  {
   "cell_type": "code",
   "execution_count": 61,
   "metadata": {
    "collapsed": false
   },
   "outputs": [
    {
     "data": {
      "text/html": [
       "83"
      ],
      "text/latex": [
       "83"
      ],
      "text/markdown": [
       "83"
      ],
      "text/plain": [
       "[1] 83"
      ]
     },
     "metadata": {},
     "output_type": "display_data"
    }
   ],
   "source": [
    "996/12"
   ]
  },
  {
   "cell_type": "code",
   "execution_count": 62,
   "metadata": {
    "collapsed": false
   },
   "outputs": [
    {
     "data": {
      "text/html": [
       "1980"
      ],
      "text/latex": [
       "1980"
      ],
      "text/markdown": [
       "1980"
      ],
      "text/plain": [
       "[1] 1980"
      ]
     },
     "metadata": {},
     "output_type": "display_data"
    }
   ],
   "source": [
    "1897+83"
   ]
  },
  {
   "cell_type": "code",
   "execution_count": 63,
   "metadata": {
    "collapsed": false
   },
   "outputs": [
    {
     "data": {
      "text/html": [
       "115"
      ],
      "text/latex": [
       "115"
      ],
      "text/markdown": [
       "115"
      ],
      "text/plain": [
       "[1] 115"
      ]
     },
     "metadata": {},
     "output_type": "display_data"
    }
   ],
   "source": [
    "length(smoothTS)/12"
   ]
  },
  {
   "cell_type": "code",
   "execution_count": 64,
   "metadata": {
    "collapsed": true
   },
   "outputs": [],
   "source": [
    "anotherTS[1:1007] = mean1sthalf\n",
    "anotherTS[1008:length(smoothTS)] = mean2ndhalf"
   ]
  },
  {
   "cell_type": "code",
   "execution_count": 65,
   "metadata": {
    "collapsed": false
   },
   "outputs": [
    {
     "data": {
      "image/png": "[encoded data removed]",
      "text/plain": [
       "plot without title"
      ]
     },
     "metadata": {},
     "output_type": "display_data"
    }
   ],
   "source": [
    "plot(anotherTS)"
   ]
  },
  {
   "cell_type": "code",
   "execution_count": 66,
   "metadata": {
    "collapsed": false
   },
   "outputs": [
    {
     "data": {
      "image/png": "[encoded data removed]",
      "text/plain": [
       "Plot with title \"Smoothed 24 hour max rainfall from 1898 to 2012\""
      ]
     },
     "metadata": {},
     "output_type": "display_data"
    }
   ],
   "source": [
    "#rollSmall = runmean(data$Max.PRCP., 300)\n",
    "plot(smoothTS2, type=\"l\", xlab = \"Time (years)\", lwd=2,\n",
    "    ylab = \"Max Precipitation (1/10mm)\", col = 1, main=\"Smoothed 24 hour max rainfall from 1898 to 2012\")\n",
    "    #points(rollLarge, type=\"l\", col=4)\n",
    "    #egend(0,200, c(\"300 window\",\"\", \"900 window\"), col=c(2,0,4), lty=c(1,0,1), bty=\"n\")\n",
    "    lines(anotherTS,col=2,lwd=3)"
   ]
  },
  {
   "cell_type": "code",
   "execution_count": 67,
   "metadata": {
    "collapsed": true
   },
   "outputs": [],
   "source": [
    "data1st2 = data2[which(data2$YEAR<=1981),]\n",
    "data2nd2 = data2[-which(data2$YEAR<=1981),]"
   ]
  },
  {
   "cell_type": "code",
   "execution_count": 68,
   "metadata": {
    "collapsed": true
   },
   "outputs": [],
   "source": [
    "mean1sthalf2 = mean(na.omit(data1st2$Max.PRCP.))\n",
    "mean2ndhalf2 = mean(na.omit(data2nd2$Max.PRCP.))"
   ]
  },
  {
   "cell_type": "code",
   "execution_count": 69,
   "metadata": {
    "collapsed": false
   },
   "outputs": [
    {
     "data": {
      "text/html": [
       "188.402266288952"
      ],
      "text/latex": [
       "188.402266288952"
      ],
      "text/markdown": [
       "188.402266288952"
      ],
      "text/plain": [
       "[1] 188.4023"
      ]
     },
     "metadata": {},
     "output_type": "display_data"
    }
   ],
   "source": [
    "mean2ndhalf"
   ]
  },
  {
   "cell_type": "code",
   "execution_count": 70,
   "metadata": {
    "collapsed": false
   },
   "outputs": [
    {
     "data": {
      "text/html": [
       "182.386363636364"
      ],
      "text/latex": [
       "182.386363636364"
      ],
      "text/markdown": [
       "182.386363636364"
      ],
      "text/plain": [
       "[1] 182.3864"
      ]
     },
     "metadata": {},
     "output_type": "display_data"
    }
   ],
   "source": [
    "mean2ndhalf2"
   ]
  },
  {
   "cell_type": "code",
   "execution_count": 71,
   "metadata": {
    "collapsed": true
   },
   "outputs": [],
   "source": [
    "anotherTS2 = anotherTS"
   ]
  },
  {
   "cell_type": "code",
   "execution_count": 72,
   "metadata": {
    "collapsed": false
   },
   "outputs": [],
   "source": [
    "anotherTS2[1:1007] = mean1sthalf2\n",
    "anotherTS2[1008:length(smoothTS)] = mean2ndhalf2"
   ]
  },
  {
   "cell_type": "code",
   "execution_count": 73,
   "metadata": {
    "collapsed": false
   },
   "outputs": [
    {
     "data": {
      "text/html": [
       "155.953724604966"
      ],
      "text/latex": [
       "155.953724604966"
      ],
      "text/markdown": [
       "155.953724604966"
      ],
      "text/plain": [
       "[1] 155.9537"
      ]
     },
     "metadata": {},
     "output_type": "display_data"
    }
   ],
   "source": [
    "mean1sthalf2"
   ]
  },
  {
   "cell_type": "code",
   "execution_count": 74,
   "metadata": {
    "collapsed": false
   },
   "outputs": [
    {
     "data": {
      "text/html": [
       "182.386363636364"
      ],
      "text/latex": [
       "182.386363636364"
      ],
      "text/markdown": [
       "182.386363636364"
      ],
      "text/plain": [
       "[1] 182.3864"
      ]
     },
     "metadata": {},
     "output_type": "display_data"
    }
   ],
   "source": [
    "mean2ndhalf2"
   ]
  },
  {
   "cell_type": "code",
   "execution_count": 75,
   "metadata": {
    "collapsed": false
   },
   "outputs": [
    {
     "data": {
      "text/html": [
       "177.623762376238"
      ],
      "text/latex": [
       "177.623762376238"
      ],
      "text/markdown": [
       "177.623762376238"
      ],
      "text/plain": [
       "[1] 177.6238"
      ]
     },
     "metadata": {},
     "output_type": "display_data"
    }
   ],
   "source": [
    "smoothTS[1048]"
   ]
  },
  {
   "cell_type": "code",
   "execution_count": 76,
   "metadata": {
    "collapsed": false
   },
   "outputs": [
    {
     "data": {
      "image/png": "[encoded data removed]",
      "text/plain": [
       "plot without title"
      ]
     },
     "metadata": {},
     "output_type": "display_data"
    }
   ],
   "source": [
    "#rollSmall = runmean(data$Max.PRCP., 300)\n",
    "plot(smoothTS, type=\"l\", xlab = \"Time (years)\", lwd=2,\n",
    "    ylab = \"Max Precipitation (1/10mm)\", col = 1, \n",
    "     #main=\"Smoothed 24 hour max rainfall from 1898 to 2012\"\n",
    "    )\n",
    "    #points(rollLarge, type=\"l\", col=4)\n",
    "    #egend(0,200, c(\"300 window\",\"\", \"900 window\"), col=c(2,0,4), lty=c(1,0,1), bty=\"n\")\n",
    "    lines(anotherTS2,col=2,lwd=3)\n",
    "    legend(\"topleft\",c(\"Trend Line\",\"\",\"Mean prior and post change point\"), lty=c(1,0,1), lwd=c(2,0,2), col=c(1,0,2),\n",
    "    bty=\"n\", cex = .8, pt.cex=.8)"
   ]
  },
  {
   "cell_type": "code",
   "execution_count": 77,
   "metadata": {
    "collapsed": false
   },
   "outputs": [
    {
     "data": {
      "text/html": [
       "1380"
      ],
      "text/latex": [
       "1380"
      ],
      "text/markdown": [
       "1380"
      ],
      "text/plain": [
       "[1] 1380"
      ]
     },
     "metadata": {},
     "output_type": "display_data"
    }
   ],
   "source": [
    "length(smoothTS)"
   ]
  },
  {
   "cell_type": "code",
   "execution_count": 78,
   "metadata": {
    "collapsed": false
   },
   "outputs": [
    {
     "data": {
      "text/html": [
       "1404"
      ],
      "text/latex": [
       "1404"
      ],
      "text/markdown": [
       "1404"
      ],
      "text/plain": [
       "[1] 1404"
      ]
     },
     "metadata": {},
     "output_type": "display_data"
    }
   ],
   "source": [
    "length(smoothTS2)"
   ]
  },
  {
   "cell_type": "code",
   "execution_count": 79,
   "metadata": {
    "collapsed": true
   },
   "outputs": [],
   "source": [
    "data[\"box\"] = as.numeric(data$YEAR>=1981)"
   ]
  },
  {
   "cell_type": "code",
   "execution_count": 80,
   "metadata": {
    "collapsed": true
   },
   "outputs": [],
   "source": [
    "data2[\"box\"] = as.numeric(data2$YEAR>=1981)"
   ]
  },
  {
   "cell_type": "code",
   "execution_count": 81,
   "metadata": {
    "collapsed": false
   },
   "outputs": [
    {
     "data": {
      "text/html": [
       "156.339816933638"
      ],
      "text/latex": [
       "156.339816933638"
      ],
      "text/markdown": [
       "156.339816933638"
      ],
      "text/plain": [
       "[1] 156.3398"
      ]
     },
     "metadata": {},
     "output_type": "display_data"
    }
   ],
   "source": [
    "mean(na.omit(data2[which(data2$box == 0),\"Max.PRCP.\"]))"
   ]
  },
  {
   "cell_type": "code",
   "execution_count": 82,
   "metadata": {
    "collapsed": false
   },
   "outputs": [
    {
     "data": {
      "text/html": [
       "180.587912087912"
      ],
      "text/latex": [
       "180.587912087912"
      ],
      "text/markdown": [
       "180.587912087912"
      ],
      "text/plain": [
       "[1] 180.5879"
      ]
     },
     "metadata": {},
     "output_type": "display_data"
    }
   ],
   "source": [
    "mean(na.omit(data2[which(data2$box == 1),\"Max.PRCP.\"]))"
   ]
  },
  {
   "cell_type": "code",
   "execution_count": 83,
   "metadata": {
    "collapsed": false
   },
   "outputs": [
    {
     "name": "stderr",
     "output_type": "stream",
     "text": [
      "Warning message:\n",
      "In is.na(object): is.na() applied to non-(list or vector) of type 'NULL'"
     ]
    },
    {
     "ename": "ERROR",
     "evalue": "Error in var(na.omit(data2[which(data2$box == 0), \"M`ax.PRCP.\"])): 'x' is NULL\n",
     "output_type": "error",
     "traceback": [
      "Error in var(na.omit(data2[which(data2$box == 0), \"M`ax.PRCP.\"])): 'x' is NULL\nTraceback:\n",
      "1. var(na.omit(data2[which(data2$box == 0), \"M`ax.PRCP.\"]))"
     ]
    }
   ],
   "source": [
    "var(na.omit(data2[which(data2$box == 0),\"M`ax.PRCP.\"]))"
   ]
  },
  {
   "cell_type": "code",
   "execution_count": 84,
   "metadata": {
    "collapsed": false
   },
   "outputs": [
    {
     "data": {
      "text/html": [
       "21874.0941785487"
      ],
      "text/latex": [
       "21874.0941785487"
      ],
      "text/markdown": [
       "21874.0941785487"
      ],
      "text/plain": [
       "[1] 21874.09"
      ]
     },
     "metadata": {},
     "output_type": "display_data"
    }
   ],
   "source": [
    "var(na.omit(data2[which(data2$box == 1),\"Max.PRCP.\"]))"
   ]
  },
  {
   "cell_type": "markdown",
   "metadata": {},
   "source": [
    "Box plots with noise from the event"
   ]
  },
  {
   "cell_type": "code",
   "execution_count": 85,
   "metadata": {
    "collapsed": false
   },
   "outputs": [
    {
     "data": {
      "image/png": "[encoded data removed]",
      "text/plain": [
       "plot without title"
      ]
     },
     "metadata": {},
     "output_type": "display_data"
    }
   ],
   "source": [
    "boxplot(data$Max.PRCP.~data$box)"
   ]
  },
  {
   "cell_type": "markdown",
   "metadata": {},
   "source": [
    "A little less noise in the box plots by removing the event"
   ]
  },
  {
   "cell_type": "code",
   "execution_count": 86,
   "metadata": {
    "collapsed": false
   },
   "outputs": [
    {
     "data": {
      "image/png": "[encoded data removed]",
      "text/plain": [
       "plot without title"
      ]
     },
     "metadata": {},
     "output_type": "display_data"
    }
   ],
   "source": [
    "boxplot(data2$Max.PRCP.~data2$box)"
   ]
  },
  {
   "cell_type": "code",
   "execution_count": 87,
   "metadata": {
    "collapsed": true
   },
   "outputs": [],
   "source": [
    "indicator = c(rep(0,1007),rep(1,373))"
   ]
  },
  {
   "cell_type": "code",
   "execution_count": 88,
   "metadata": {
    "collapsed": false
   },
   "outputs": [
    {
     "data": {
      "text/html": [
       "1380"
      ],
      "text/latex": [
       "1380"
      ],
      "text/markdown": [
       "1380"
      ],
      "text/plain": [
       "[1] 1380"
      ]
     },
     "metadata": {},
     "output_type": "display_data"
    }
   ],
   "source": [
    "length(indicator)"
   ]
  },
  {
   "cell_type": "code",
   "execution_count": 89,
   "metadata": {
    "collapsed": false
   },
   "outputs": [
    {
     "data": {
      "text/html": [
       "115"
      ],
      "text/latex": [
       "115"
      ],
      "text/markdown": [
       "115"
      ],
      "text/plain": [
       "[1] 115"
      ]
     },
     "metadata": {},
     "output_type": "display_data"
    }
   ],
   "source": [
    "1380/12"
   ]
  },
  {
   "cell_type": "code",
   "execution_count": 90,
   "metadata": {
    "collapsed": false
   },
   "outputs": [],
   "source": [
    "meansBox = as.data.frame(cbind(smoothTS,indicator))"
   ]
  },
  {
   "cell_type": "code",
   "execution_count": 91,
   "metadata": {
    "collapsed": true
   },
   "outputs": [],
   "source": [
    "meansBoxSea = as.data.frame(cbind(smoothTS, rep(c(1,2,3,4,5,6,7,8,9,10,11,12),115)))"
   ]
  },
  {
   "cell_type": "code",
   "execution_count": 92,
   "metadata": {
    "collapsed": false
   },
   "outputs": [],
   "source": [
    "names(meansBoxSea) = c(\"precipitation\",\"month\")"
   ]
  },
  {
   "cell_type": "markdown",
   "metadata": {},
   "source": [
    "Now, can see the difference in the mean of the smoothed signals, however, given the actual variance of the data, the significance here is debatable - not to mention the independence assumption is not valid."
   ]
  },
  {
   "cell_type": "code",
   "execution_count": 93,
   "metadata": {
    "collapsed": false
   },
   "outputs": [
    {
     "data": {
      "image/png": "[encoded data removed]",
      "text/plain": [
       "plot without title"
      ]
     },
     "metadata": {},
     "output_type": "display_data"
    }
   ],
   "source": [
    "boxplot(meansBox$smoothTS ~ meansBox$indicator, xlab = \"Group (0=pre change point, 1=post change point)\",\n",
    "       col = c(\"blue\",\"green\"), ylab = \"Precipitation (1/10mm)\")"
   ]
  },
  {
   "cell_type": "markdown",
   "metadata": {},
   "source": [
    "#  Variances"
   ]
  },
  {
   "cell_type": "code",
   "execution_count": 94,
   "metadata": {
    "collapsed": true
   },
   "outputs": [],
   "source": [
    "vars1 = NULL\n",
    "for(i in 1:(length(max_PRCP))){\n",
    "    vars1 = c(vars1,var(na.omit(max_PRCP2[,i])))\n",
    "}\n",
    "vars1TS = ts(vars1, start = firstYear)"
   ]
  },
  {
   "cell_type": "code",
   "execution_count": 95,
   "metadata": {
    "collapsed": false
   },
   "outputs": [
    {
     "data": {
      "text/plain": [
       "Time Series:\n",
       "Start = 1898 \n",
       "End = 2005 \n",
       "Frequency = 1 \n",
       "  [1] 15735.445 16735.987 21717.573 21413.277 20911.507 20214.089 19024.025\n",
       "  [8] 19370.459 19138.029 20172.380 20669.951 19906.785 11160.880 11160.880\n",
       " [15] 12257.411 12257.411 12403.928 10693.007  9738.124  9159.137 10643.624\n",
       " [22] 12057.087 16897.540 16811.445 16855.751 15592.587 15460.528 15301.591\n",
       " [29] 16331.526 17620.114 16467.833 19074.140 15891.415 14795.405 14265.135\n",
       " [36] 17592.027 17560.073 20464.765 19856.686 18820.315 19267.625 15618.359\n",
       " [43] 19993.306 21174.749 24261.373 23429.325 23363.168 19541.288 18462.987\n",
       " [50] 19181.076 24157.529 24284.032 20359.226 20334.972 17473.730 15668.663\n",
       " [57] 17485.983 17917.805 18603.220 17700.123 12800.595 12895.826 18311.969\n",
       " [64] 19158.864 19788.176 19715.589 18549.150 19624.154 19825.643 19614.951\n",
       " [71] 20238.990 23020.257 18520.727 16617.942 15134.727 17396.821 20128.606\n",
       " [78] 20188.919 19639.970 25445.023 26833.222 24427.260 24427.260 26299.775\n",
       " [85] 28620.467 28642.189 25127.827 24689.448 29739.018 24828.903 26272.644\n",
       " [92] 27680.726 27680.726 26108.475 24263.847 22971.381 25218.301 24873.447\n",
       " [99] 20995.786 20001.355 15441.223 14739.436 16434.138 16519.090 16812.487\n",
       "[106] 17456.845 15148.631 16444.685"
      ]
     },
     "metadata": {},
     "output_type": "display_data"
    }
   ],
   "source": [
    "vars1TS"
   ]
  },
  {
   "cell_type": "code",
   "execution_count": 96,
   "metadata": {
    "collapsed": true
   },
   "outputs": [],
   "source": [
    "rollSmall = ts(runmean(vars1TS,15),start=firstYear)\n",
    "rollSmall2 = ts(runmean(vars1TS,30),start=firstYear)\n",
    "rollSmall3 = ts(runmean(vars1TS,50),start=firstYear)"
   ]
  },
  {
   "cell_type": "code",
   "execution_count": 100,
   "metadata": {
    "collapsed": false
   },
   "outputs": [
    {
     "data": {
      "text/html": [
       "<strong>png:</strong> 2"
      ],
      "text/latex": [
       "\\textbf{png:} 2"
      ],
      "text/markdown": [
       "**png:** 2"
      ],
      "text/plain": [
       "png \n",
       "  2 "
      ]
     },
     "metadata": {},
     "output_type": "display_data"
    }
   ],
   "source": [
    "setEPS()\n",
    "postscript(\"pics/var1.eps\")\n",
    "plot(vars1TS, type=\"l\", xlab = \"Time (years)\", lwd=2,\n",
    "    ylab = \"Precipitation (1/10mm)^2\", col = 1)\n",
    "lines(rollSmall, col=3,lwd=2)\n",
    "lines(rollSmall2, col=2,lwd=2)\n",
    "lines(rollSmall3, col=4,lwd=2)\n",
    "legend(\"topleft\",c(\"Variance, of Intervals\",\"\",\"Small Smoothing\", \"\",\"Medium Smoothing\",\"\",\"Large Smoothing\"),\n",
    "      col = c(1,0,3,0,2,0,4), lty = c(1,0,1,0,1,0,1), lwd=c(2,2,2,2), bty=\"n\")\n",
    "dev.off()"
   ]
  },
  {
   "cell_type": "code",
   "execution_count": 97,
   "metadata": {
    "collapsed": false
   },
   "outputs": [
    {
     "data": {
      "image/png": "[encoded data removed]",
      "text/plain": [
       "plot without title"
      ]
     },
     "metadata": {},
     "output_type": "display_data"
    }
   ],
   "source": [
    "plot(vars1TS, type=\"l\", xlab = \"Time (years)\", lwd=2,\n",
    "    ylab = \"Precipitation (1/10mm)^2\", col = 1)\n",
    "lines(rollSmall, col=3,lwd=2)\n",
    "lines(rollSmall2, col=2,lwd=2)\n",
    "lines(rollSmall3, col=4,lwd=2)\n",
    "legend(\"topleft\",c(\"Variance, of Intervals\",\"\",\"Small Smoothing\", \"\",\"Medium Smoothing\",\"\",\"Large Smoothing\"),\n",
    "      col = c(1,0,3,0,2,0,4), lty = c(1,0,1,0,1,0,1), lwd=c(2,2,2,2), bty=\"n\")"
   ]
  },
  {
   "cell_type": "code",
   "execution_count": 98,
   "metadata": {
    "collapsed": false
   },
   "outputs": [
    {
     "data": {
      "image/png": "[encoded data removed]",
      "text/plain": [
       "plot without title"
      ]
     },
     "metadata": {},
     "output_type": "display_data"
    }
   ],
   "source": [
    "plot(sqrt(vars1TS), type=\"l\", xlab = \"Time (years)\", lwd=2,\n",
    "    ylab = \"Precipitation (1/10mm)^2\", col = 1)\n",
    "lines(sqrt(rollSmall), col=3,lwd=2)\n",
    "lines(sqrt(rollSmall2), col=2,lwd=2)\n",
    "lines(sqrt(rollSmall3), col=4,lwd=2)\n",
    "legend(\"topleft\",c(\"Standard Deviation, of Intervals\",\"\",\"Small Smoothing\", \"\",\"Medium Smoothing\",\"\",\"Large Smoothing\"),\n",
    "      col = c(1,0,3,0,2,0,4), lty = c(1,0,1,0,1,0,1), lwd=c(2,2,2,2), bty=\"n\")"
   ]
  },
  {
   "cell_type": "code",
   "execution_count": null,
   "metadata": {
    "collapsed": true
   },
   "outputs": [],
   "source": []
  },
  {
   "cell_type": "code",
   "execution_count": null,
   "metadata": {
    "collapsed": true
   },
   "outputs": [],
   "source": []
  }
 ],
 "metadata": {
  "anaconda-cloud": {},
  "kernelspec": {
   "display_name": "R",
   "language": "R",
   "name": "ir"
  },
  "language_info": {
   "codemirror_mode": "r",
   "file_extension": ".r",
   "mimetype": "text/x-r-source",
   "name": "R",
   "pygments_lexer": "r",
   "version": "3.3.1"
  }
 },
 "nbformat": 4,
 "nbformat_minor": 0
}
