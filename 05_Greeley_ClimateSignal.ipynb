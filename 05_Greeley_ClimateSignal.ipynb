{
 "cells": [
  {
   "cell_type": "markdown",
   "metadata": {},
   "source": [
    "# Master's Thesis: Investigating Maximum Rainfall Trends in Colorado"
   ]
  },
  {
   "cell_type": "markdown",
   "metadata": {},
   "source": [
    "<b>Institution:</b> University of Georgia <br>\n",
    "<b>Department:</b> Statistics <br>\n",
    "<b>Student:</b> Jeremy Mulcahey <br>\n",
    "<b>Advisor:</b> Dr. Lynne Seymour <br>\n",
    "<b>Last Edit:</b> 9/27/2016"
   ]
  },
  {
   "cell_type": "markdown",
   "metadata": {},
   "source": [
    "Section 0: Preparing data <br>\n",
    "Section 1: Mean<br>\n",
    "Section 2: Variance"
   ]
  },
  {
   "cell_type": "markdown",
   "metadata": {},
   "source": [
    "##  Section 0: Preparing data"
   ]
  },
  {
   "cell_type": "code",
   "execution_count": 1,
   "metadata": {
    "collapsed": false
   },
   "outputs": [
    {
     "name": "stderr",
     "output_type": "stream",
     "text": [
      "Loading required package: fitdistrplus\n",
      "Loading required package: MASS\n",
      "Loading required package: survival\n",
      "Loading required package: caTools\n",
      "Loading required package: repr\n",
      "Loading required package: IRdisplay\n"
     ]
    }
   ],
   "source": [
    "require(fitdistrplus); # required for parameter estimation\n",
    "require(caTools);      # required for smoothing\n",
    "require(repr);         # required for resizing plots in IRKernel\n",
    "require(\"IRdisplay\");  # graphic embedding\n",
    "require(MASS);         # testing"
   ]
  },
  {
   "cell_type": "code",
   "execution_count": 178,
   "metadata": {
    "collapsed": false
   },
   "outputs": [],
   "source": [
    "# establish working directorys\n",
    "setwd(\"C:/Users/jerem/Desktop/UGA/Master'sThesis/\")"
   ]
  },
  {
   "cell_type": "markdown",
   "metadata": {},
   "source": [
    "Data files for individual station names."
   ]
  },
  {
   "cell_type": "code",
   "execution_count": 179,
   "metadata": {
    "collapsed": false
   },
   "outputs": [],
   "source": [
    "data = read.csv(file = \"data/GREELEY_MonMax_GHCN.csv\", head=T)"
   ]
  },
  {
   "cell_type": "markdown",
   "metadata": {},
   "source": [
    "Adjust the data for later use."
   ]
  },
  {
   "cell_type": "code",
   "execution_count": 180,
   "metadata": {
    "collapsed": false
   },
   "outputs": [
    {
     "data": {
      "text/html": [
       "51"
      ],
      "text/latex": [
       "51"
      ],
      "text/markdown": [
       "51"
      ],
      "text/plain": [
       "[1] 51"
      ]
     },
     "metadata": {},
     "output_type": "display_data"
    }
   ],
   "source": [
    "# Create an index as x - used as needed\n",
    "#month = seq(1,nrow(data),by=1)\n",
    "#data = cbind(data,month)\n",
    "\n",
    "# first year of the data (changes by station name)\n",
    "firstYear = data$YEAR[1]\n",
    "\n",
    "# station name for plotting\n",
    "stationName = as.character(data$STATION_NAME[1])\n",
    "\n",
    "# -999 messed with the plotting - change to NA\n",
    "data[data==-999] = NA\n",
    "\n",
    "sum(is.na(data)) #print number of missing values"
   ]
  },
  {
   "cell_type": "markdown",
   "metadata": {},
   "source": [
    "Check number of years in the data set."
   ]
  },
  {
   "cell_type": "code",
   "execution_count": 181,
   "metadata": {
    "collapsed": false
   },
   "outputs": [
    {
     "data": {
      "text/html": [
       "121"
      ],
      "text/latex": [
       "121"
      ],
      "text/markdown": [
       "121"
      ],
      "text/plain": [
       "[1] 121"
      ]
     },
     "metadata": {},
     "output_type": "display_data"
    }
   ],
   "source": [
    "data$YEAR[nrow(data)]-firstYear"
   ]
  },
  {
   "cell_type": "code",
   "execution_count": 182,
   "metadata": {
    "collapsed": false
   },
   "outputs": [
    {
     "data": {
      "text/plain": [
       "\n",
       "  1   2   3   4   5   6   7   8   9  10  11  12 \n",
       "113 114 117 115 115 115 117 115 115 117 116 116 "
      ]
     },
     "metadata": {},
     "output_type": "display_data"
    }
   ],
   "source": [
    "table(data$MONTH)"
   ]
  },
  {
   "cell_type": "markdown",
   "metadata": {},
   "source": [
    "Make a data frame of all the 10 year periods following the first year for data collected at the station."
   ]
  },
  {
   "cell_type": "markdown",
   "metadata": {},
   "source": [
    "This particular dataset has missing rows, not just missing values, which is going to take some extra code to fix."
   ]
  },
  {
   "cell_type": "code",
   "execution_count": 183,
   "metadata": {
    "collapsed": false
   },
   "outputs": [],
   "source": [
    "years = seq(data$YEAR[1],2014,1)"
   ]
  },
  {
   "cell_type": "code",
   "execution_count": 184,
   "metadata": {
    "collapsed": true
   },
   "outputs": [],
   "source": [
    "months = unique(data$MONTH)"
   ]
  },
  {
   "cell_type": "code",
   "execution_count": 185,
   "metadata": {
    "collapsed": false
   },
   "outputs": [
    {
     "data": {
      "text/html": [
       "<strong>1893:</strong> TRUE"
      ],
      "text/plain": [
       "\n",
       "1893 \n",
       "TRUE "
      ]
     },
     "metadata": {},
     "output_type": "display_data"
    }
   ],
   "source": [
    "table(data[which(data$YEAR == years[1]),\"YEAR\"])==12"
   ]
  },
  {
   "cell_type": "code",
   "execution_count": 186,
   "metadata": {
    "collapsed": false
   },
   "outputs": [
    {
     "data": {
      "text/html": [
       "<table>\n",
       "<thead><tr><th scope=col>STATION</th><th scope=col>STATION_NAME</th><th scope=col>YEAR</th><th scope=col>MONTH</th><th scope=col>Obs</th><th scope=col>Max.PRCP.</th></tr></thead>\n",
       "<tbody>\n",
       "\t<tr><td>GHCND:USC00053546</td><td>GREELEY CO US    </td><td>1893             </td><td>1                </td><td>31               </td><td>0                </td></tr>\n",
       "</tbody>\n",
       "</table>\n"
      ],
      "text/latex": [
       "\\begin{tabular}{r|llllll}\n",
       " STATION & STATION\\_NAME & YEAR & MONTH & Obs & Max.PRCP.\\\\\n",
       "\\hline\n",
       "\t GHCND:USC00053546 & GREELEY CO US     & 1893              & 1                 & 31                & 0                \\\\\n",
       "\\end{tabular}\n"
      ],
      "text/plain": [
       "  STATION           STATION_NAME  YEAR MONTH Obs Max.PRCP.\n",
       "1 GHCND:USC00053546 GREELEY CO US 1893 1     31  0        "
      ]
     },
     "metadata": {},
     "output_type": "display_data"
    }
   ],
   "source": [
    "data[1,]"
   ]
  },
  {
   "cell_type": "markdown",
   "metadata": {},
   "source": [
    "Looks easier to just create a new data.frame then merge it."
   ]
  },
  {
   "cell_type": "code",
   "execution_count": 187,
   "metadata": {
    "collapsed": true
   },
   "outputs": [],
   "source": [
    "yearCol = NULL\n",
    "for(year in years){\n",
    "    yearCol = c(yearCol,rep(year,12))\n",
    "}"
   ]
  },
  {
   "cell_type": "code",
   "execution_count": 188,
   "metadata": {
    "collapsed": false
   },
   "outputs": [],
   "source": [
    "monthCol=rep(1:12,length(years))\n",
    "STATION_NAME=rep(\"GREELEY CO US\",length(yearCol))"
   ]
  },
  {
   "cell_type": "code",
   "execution_count": 189,
   "metadata": {
    "collapsed": false
   },
   "outputs": [],
   "source": [
    "newFrame = data.frame(yearCol,monthCol,STATION_NAME)\n",
    "names(newFrame) = c(\"YEAR\",\"MONTH\",\"STATION_NAME\")"
   ]
  },
  {
   "cell_type": "code",
   "execution_count": 190,
   "metadata": {
    "collapsed": false
   },
   "outputs": [
    {
     "data": {
      "text/html": [
       "<table>\n",
       "<thead><tr><th scope=col>YEAR</th><th scope=col>MONTH</th><th scope=col>STATION_NAME</th></tr></thead>\n",
       "<tbody>\n",
       "\t<tr><td>1893         </td><td>1            </td><td>GREELEY CO US</td></tr>\n",
       "</tbody>\n",
       "</table>\n"
      ],
      "text/latex": [
       "\\begin{tabular}{r|lll}\n",
       " YEAR & MONTH & STATION\\_NAME\\\\\n",
       "\\hline\n",
       "\t 1893          & 1             & GREELEY CO US\\\\\n",
       "\\end{tabular}\n"
      ],
      "text/plain": [
       "  YEAR MONTH STATION_NAME \n",
       "1 1893 1     GREELEY CO US"
      ]
     },
     "metadata": {},
     "output_type": "display_data"
    }
   ],
   "source": [
    "newFrame[1,c(\"YEAR\",\"MONTH\",\"STATION_NAME\")]"
   ]
  },
  {
   "cell_type": "code",
   "execution_count": 191,
   "metadata": {
    "collapsed": false
   },
   "outputs": [
    {
     "data": {
      "text/html": [
       "<table>\n",
       "<thead><tr><th scope=col>YEAR</th><th scope=col>MONTH</th><th scope=col>STATION_NAME</th></tr></thead>\n",
       "<tbody>\n",
       "\t<tr><td>1893         </td><td>1            </td><td>GREELEY CO US</td></tr>\n",
       "</tbody>\n",
       "</table>\n"
      ],
      "text/latex": [
       "\\begin{tabular}{r|lll}\n",
       " YEAR & MONTH & STATION\\_NAME\\\\\n",
       "\\hline\n",
       "\t 1893          & 1             & GREELEY CO US\\\\\n",
       "\\end{tabular}\n"
      ],
      "text/plain": [
       "  YEAR MONTH STATION_NAME \n",
       "1 1893 1     GREELEY CO US"
      ]
     },
     "metadata": {},
     "output_type": "display_data"
    }
   ],
   "source": [
    "data[1,c(\"YEAR\",\"MONTH\",\"STATION_NAME\")]"
   ]
  },
  {
   "cell_type": "code",
   "execution_count": 192,
   "metadata": {
    "collapsed": false
   },
   "outputs": [
    {
     "data": {
      "text/html": [
       "<ol class=list-inline>\n",
       "\t<li>1907</li>\n",
       "\t<li>1914</li>\n",
       "\t<li>1915</li>\n",
       "\t<li>1916</li>\n",
       "\t<li>1917</li>\n",
       "</ol>\n"
      ],
      "text/latex": [
       "\\begin{enumerate*}\n",
       "\\item 1907\n",
       "\\item 1914\n",
       "\\item 1915\n",
       "\\item 1916\n",
       "\\item 1917\n",
       "\\end{enumerate*}\n"
      ],
      "text/markdown": [
       "1. 1907\n",
       "2. 1914\n",
       "3. 1915\n",
       "4. 1916\n",
       "5. 1917\n",
       "\n",
       "\n"
      ],
      "text/plain": [
       "[1] 1907 1914 1915 1916 1917"
      ]
     },
     "metadata": {},
     "output_type": "display_data"
    }
   ],
   "source": [
    "setdiff(years,yearCheck)"
   ]
  },
  {
   "cell_type": "code",
   "execution_count": 193,
   "metadata": {
    "collapsed": false
   },
   "outputs": [],
   "source": [
    "count =NULL\n",
    "for(year in years){\n",
    "    count = c(count,sum(table(data[which(data$YEAR==year),\"MONTH\"])))\n",
    "}\n",
    "dataTest = data.frame(years,count)"
   ]
  },
  {
   "cell_type": "code",
   "execution_count": 194,
   "metadata": {
    "collapsed": false
   },
   "outputs": [],
   "source": [
    "newYears = dataTest[-which(dataTest$count==12),]$years"
   ]
  },
  {
   "cell_type": "code",
   "execution_count": 195,
   "metadata": {
    "collapsed": false
   },
   "outputs": [
    {
     "name": "stdout",
     "output_type": "stream",
     "text": [
      "[1] 1897\n",
      "\n",
      " 1  2  3  4  5  6  7  9 10 11 12 \n",
      " 1  1  1  1  1  1  1  1  1  1  1 \n",
      "[1] 1898\n",
      "\n",
      " 1  2  3  5  6  7  8  9 10 11 12 \n",
      " 1  1  1  1  1  1  1  1  1  1  1 \n",
      "[1] 1905\n",
      "\n",
      " 1  2  3  5  6  7  8  9 10 11 12 \n",
      " 1  1  1  1  1  1  1  1  1  1  1 \n",
      "[1] 1906\n",
      "\n",
      " 1  2  3  4  5  6  7  8 10 11 12 \n",
      " 1  1  1  1  1  1  1  1  1  1  1 \n",
      "[1] 1907\n",
      "< table of extent 0 >\n",
      "[1] 1908\n",
      "\n",
      " 2  3  4  5  6  7  8  9 10 11 12 \n",
      " 1  1  1  1  1  1  1  1  1  1  1 \n",
      "[1] 1912\n",
      "\n",
      " 1  2  3  4  5  6  7  8  9 10 11 \n",
      " 1  1  1  1  1  1  1  1  1  1  1 \n",
      "[1] 1913\n",
      "\n",
      " 1  2  3  4  5  6  7  8 10 11 12 \n",
      " 1  1  1  1  1  1  1  1  1  1  1 \n",
      "[1] 1914\n",
      "< table of extent 0 >\n",
      "[1] 1915\n",
      "< table of extent 0 >\n",
      "[1] 1916\n",
      "< table of extent 0 >\n",
      "[1] 1917\n",
      "< table of extent 0 >\n",
      "[1] 1918\n",
      "\n",
      " 1  3  4  5  6  7  8  9 10 11 12 \n",
      " 1  1  1  1  1  1  1  1  1  1  1 \n",
      "[1] 1919\n",
      "\n",
      " 1  2  3  4  6  7  8  9 10 11 12 \n",
      " 1  1  1  1  1  1  1  1  1  1  1 \n",
      "[1] 1920\n",
      "\n",
      " 2  3  4  5  7  8  9 10 11 12 \n",
      " 1  1  1  1  1  1  1  1  1  1 \n",
      "[1] 1922\n",
      "\n",
      " 2  3  4  5  6  7  8  9 10 11 12 \n",
      " 1  1  1  1  1  1  1  1  1  1  1 \n",
      "[1] 1923\n",
      "\n",
      " 1  3  4  5  6  7  8  9 10 11 12 \n",
      " 1  1  1  1  1  1  1  1  1  1  1 \n",
      "[1] 1927\n",
      "\n",
      " 1  2  3  4  5  6  7  8  9 10 12 \n",
      " 1  1  1  1  1  1  1  1  1  1  1 \n",
      "[1] 1928\n",
      "\n",
      " 1  2  3  4  5  7  8  9 10 11 12 \n",
      " 1  1  1  1  1  1  1  1  1  1  1 \n",
      "[1] 1948\n",
      "\n",
      " 3  4  5  6  7  8  9 10 11 12 \n",
      " 1  1  1  1  1  1  1  1  1  1 \n",
      "[1] 1955\n",
      "\n",
      " 1  2  3  4  6  7  8  9 10 11 12 \n",
      " 1  1  1  1  1  1  1  1  1  1  1 \n",
      "[1] 1957\n",
      "\n",
      " 1  2  3  4  5  6  7  9 10 11 12 \n",
      " 1  1  1  1  1  1  1  1  1  1  1 \n"
     ]
    }
   ],
   "source": [
    "for(year in newYears){\n",
    "    print(year)\n",
    "    print(table(data[which(data$YEAR==year),\"MONTH\"]))\n",
    "}"
   ]
  },
  {
   "cell_type": "code",
   "execution_count": 196,
   "metadata": {
    "collapsed": false
   },
   "outputs": [],
   "source": [
    "fillInMonths = c(8,4,4,9,seq(1,12,1),1,12,9,seq(1,12,1),seq(1,12,1),seq(1,12,1),seq(1,12,1),2,5,1,6,1,2,11,6,1,2,5,8)"
   ]
  },
  {
   "cell_type": "code",
   "execution_count": 197,
   "metadata": {
    "collapsed": true
   },
   "outputs": [],
   "source": [
    "fillInYears = c(1897,1898,1905,1906,rep(1907,12),1908,1912,1913,rep(1914,12),rep(1915,12),rep(1916,12),rep(1917,12),\n",
    "                1918,1919,1920,1920,1922,1923,1927,1928,1948,1948,1955,1957)"
   ]
  },
  {
   "cell_type": "code",
   "execution_count": 205,
   "metadata": {
    "collapsed": false
   },
   "outputs": [
    {
     "data": {
      "text/html": [
       "123"
      ],
      "text/latex": [
       "123"
      ],
      "text/markdown": [
       "123"
      ],
      "text/plain": [
       "[1] 123"
      ]
     },
     "metadata": {},
     "output_type": "display_data"
    }
   ],
   "source": [
    "(nrow(data)+length(fillInYears))/12"
   ]
  },
  {
   "cell_type": "code",
   "execution_count": 206,
   "metadata": {
    "collapsed": false
   },
   "outputs": [
    {
     "data": {
      "text/html": [
       "1893"
      ],
      "text/latex": [
       "1893"
      ],
      "text/markdown": [
       "1893"
      ],
      "text/plain": [
       "[1] 1893"
      ]
     },
     "metadata": {},
     "output_type": "display_data"
    }
   ],
   "source": [
    "firstYear"
   ]
  },
  {
   "cell_type": "code",
   "execution_count": 198,
   "metadata": {
    "collapsed": false
   },
   "outputs": [
    {
     "data": {
      "text/html": [
       "TRUE"
      ],
      "text/latex": [
       "TRUE"
      ],
      "text/markdown": [
       "TRUE"
      ],
      "text/plain": [
       "[1] TRUE"
      ]
     },
     "metadata": {},
     "output_type": "display_data"
    }
   ],
   "source": [
    "length(fillInMonths)==length(fillInYears)"
   ]
  },
  {
   "cell_type": "code",
   "execution_count": 207,
   "metadata": {
    "collapsed": true
   },
   "outputs": [],
   "source": [
    "for(i in 1:length(fillInMonths)){\n",
    "    data=rbind(data,c(\"GHCND:USC00053546\", \"GREELEY CO US\",fillInYears[i],fillInMonths[i],31,-999))\n",
    "}"
   ]
  },
  {
   "cell_type": "code",
   "execution_count": 211,
   "metadata": {
    "collapsed": false
   },
   "outputs": [],
   "source": [
    "data=data[order(data$YEAR,as.integer(data$MONTH)),]"
   ]
  },
  {
   "cell_type": "code",
   "execution_count": 236,
   "metadata": {
    "collapsed": true
   },
   "outputs": [],
   "source": [
    "data$Max.PRCP.=as.integer(data$Max.PRCP.)"
   ]
  },
  {
   "cell_type": "code",
   "execution_count": 258,
   "metadata": {
    "collapsed": true
   },
   "outputs": [],
   "source": [
    "data[data==-999] = NA"
   ]
  },
  {
   "cell_type": "code",
   "execution_count": 259,
   "metadata": {
    "collapsed": false,
    "scrolled": true
   },
   "outputs": [
    {
     "data": {
      "text/html": [
       "<table>\n",
       "<thead><tr><th></th><th scope=col>STATION</th><th scope=col>STATION_NAME</th><th scope=col>YEAR</th><th scope=col>MONTH</th><th scope=col>Obs</th><th scope=col>Max.PRCP.</th></tr></thead>\n",
       "<tbody>\n",
       "\t<tr><th scope=row>147</th><td>GHCND:USC00053546</td><td>GREELEY CO US    </td><td>1905             </td><td>6                </td><td>30               </td><td> 99              </td></tr>\n",
       "\t<tr><th scope=row>148</th><td>GHCND:USC00053546</td><td>GREELEY CO US    </td><td>1905             </td><td>7                </td><td>31               </td><td>203              </td></tr>\n",
       "\t<tr><th scope=row>149</th><td>GHCND:USC00053546</td><td>GREELEY CO US    </td><td>1905             </td><td>8                </td><td>31               </td><td> 66              </td></tr>\n",
       "\t<tr><th scope=row>150</th><td>GHCND:USC00053546</td><td>GREELEY CO US    </td><td>1905             </td><td>9                </td><td>30               </td><td> 43              </td></tr>\n",
       "\t<tr><th scope=row>151</th><td>GHCND:USC00053546</td><td>GREELEY CO US    </td><td>1905             </td><td>10               </td><td>31               </td><td>119              </td></tr>\n",
       "\t<tr><th scope=row>152</th><td>GHCND:USC00053546</td><td>GREELEY CO US    </td><td>1905             </td><td>11               </td><td>30               </td><td>  5              </td></tr>\n",
       "\t<tr><th scope=row>153</th><td>GHCND:USC00053546</td><td>GREELEY CO US    </td><td>1905             </td><td>12               </td><td>31               </td><td>  0              </td></tr>\n",
       "\t<tr><th scope=row>154</th><td>GHCND:USC00053546</td><td>GREELEY CO US    </td><td>1906             </td><td>1                </td><td>31               </td><td>  0              </td></tr>\n",
       "\t<tr><th scope=row>155</th><td>GHCND:USC00053546</td><td>GREELEY CO US    </td><td>1906             </td><td>2                </td><td>28               </td><td>  3              </td></tr>\n",
       "\t<tr><th scope=row>156</th><td>GHCND:USC00053546</td><td>GREELEY CO US    </td><td>1906             </td><td>3                </td><td>31               </td><td>208              </td></tr>\n",
       "\t<tr><th scope=row>157</th><td>GHCND:USC00053546</td><td>GREELEY CO US    </td><td>1906             </td><td>4                </td><td>30               </td><td>246              </td></tr>\n",
       "\t<tr><th scope=row>158</th><td>GHCND:USC00053546</td><td>GREELEY CO US    </td><td>1906             </td><td>5                </td><td>31               </td><td>193              </td></tr>\n",
       "\t<tr><th scope=row>159</th><td>GHCND:USC00053546</td><td>GREELEY CO US    </td><td>1906             </td><td>6                </td><td>30               </td><td>211              </td></tr>\n",
       "\t<tr><th scope=row>160</th><td>GHCND:USC00053546</td><td>GREELEY CO US    </td><td>1906             </td><td>7                </td><td>31               </td><td>310              </td></tr>\n",
       "\t<tr><th scope=row>161</th><td>GHCND:USC00053546</td><td>GREELEY CO US    </td><td>1906             </td><td>8                </td><td>31               </td><td> 43              </td></tr>\n",
       "\t<tr><th scope=row>1401</th><td>GHCND:USC00053546</td><td>GREELEY CO US    </td><td>1906             </td><td>9                </td><td>31               </td><td> NA              </td></tr>\n",
       "\t<tr><th scope=row>162</th><td>GHCND:USC00053546</td><td>GREELEY CO US    </td><td>1906             </td><td>10               </td><td>31               </td><td>635              </td></tr>\n",
       "\t<tr><th scope=row>163</th><td>GHCND:USC00053546</td><td>GREELEY CO US    </td><td>1906             </td><td>11               </td><td>30               </td><td>216              </td></tr>\n",
       "\t<tr><th scope=row>176</th><td>GHCND:USC00053546</td><td>GREELEY CO US    </td><td>1906             </td><td>12               </td><td>31               </td><td>  8              </td></tr>\n",
       "\t<tr><th scope=row>1402</th><td>GHCND:USC00053546</td><td>GREELEY CO US    </td><td>1907             </td><td>1                </td><td>31               </td><td> NA              </td></tr>\n",
       "\t<tr><th scope=row>1403</th><td>GHCND:USC00053546</td><td>GREELEY CO US    </td><td>1907             </td><td>2                </td><td>31               </td><td> NA              </td></tr>\n",
       "\t<tr><th scope=row>1404</th><td>GHCND:USC00053546</td><td>GREELEY CO US    </td><td>1907             </td><td>3                </td><td>31               </td><td> NA              </td></tr>\n",
       "\t<tr><th scope=row>1405</th><td>GHCND:USC00053546</td><td>GREELEY CO US    </td><td>1907             </td><td>4                </td><td>31               </td><td> NA              </td></tr>\n",
       "\t<tr><th scope=row>1406</th><td>GHCND:USC00053546</td><td>GREELEY CO US    </td><td>1907             </td><td>5                </td><td>31               </td><td> NA              </td></tr>\n",
       "\t<tr><th scope=row>1407</th><td>GHCND:USC00053546</td><td>GREELEY CO US    </td><td>1907             </td><td>6                </td><td>31               </td><td> NA              </td></tr>\n",
       "\t<tr><th scope=row>1408</th><td>GHCND:USC00053546</td><td>GREELEY CO US    </td><td>1907             </td><td>7                </td><td>31               </td><td> NA              </td></tr>\n",
       "\t<tr><th scope=row>1409</th><td>GHCND:USC00053546</td><td>GREELEY CO US    </td><td>1907             </td><td>8                </td><td>31               </td><td> NA              </td></tr>\n",
       "\t<tr><th scope=row>1410</th><td>GHCND:USC00053546</td><td>GREELEY CO US    </td><td>1907             </td><td>9                </td><td>31               </td><td> NA              </td></tr>\n",
       "\t<tr><th scope=row>1411</th><td>GHCND:USC00053546</td><td>GREELEY CO US    </td><td>1907             </td><td>10               </td><td>31               </td><td> NA              </td></tr>\n",
       "\t<tr><th scope=row>1412</th><td>GHCND:USC00053546</td><td>GREELEY CO US    </td><td>1907             </td><td>11               </td><td>31               </td><td> NA              </td></tr>\n",
       "\t<tr><th scope=row>1413</th><td>GHCND:USC00053546</td><td>GREELEY CO US    </td><td>1907             </td><td>12               </td><td>31               </td><td> NA              </td></tr>\n",
       "</tbody>\n",
       "</table>\n"
      ],
      "text/latex": [
       "\\begin{tabular}{r|llllll}\n",
       "  & STATION & STATION\\_NAME & YEAR & MONTH & Obs & Max.PRCP.\\\\\n",
       "\\hline\n",
       "\t147 & GHCND:USC00053546 & GREELEY CO US     & 1905              & 6                 & 30                &  99              \\\\\n",
       "\t148 & GHCND:USC00053546 & GREELEY CO US     & 1905              & 7                 & 31                & 203              \\\\\n",
       "\t149 & GHCND:USC00053546 & GREELEY CO US     & 1905              & 8                 & 31                &  66              \\\\\n",
       "\t150 & GHCND:USC00053546 & GREELEY CO US     & 1905              & 9                 & 30                &  43              \\\\\n",
       "\t151 & GHCND:USC00053546 & GREELEY CO US     & 1905              & 10                & 31                & 119              \\\\\n",
       "\t152 & GHCND:USC00053546 & GREELEY CO US     & 1905              & 11                & 30                &   5              \\\\\n",
       "\t153 & GHCND:USC00053546 & GREELEY CO US     & 1905              & 12                & 31                &   0              \\\\\n",
       "\t154 & GHCND:USC00053546 & GREELEY CO US     & 1906              & 1                 & 31                &   0              \\\\\n",
       "\t155 & GHCND:USC00053546 & GREELEY CO US     & 1906              & 2                 & 28                &   3              \\\\\n",
       "\t156 & GHCND:USC00053546 & GREELEY CO US     & 1906              & 3                 & 31                & 208              \\\\\n",
       "\t157 & GHCND:USC00053546 & GREELEY CO US     & 1906              & 4                 & 30                & 246              \\\\\n",
       "\t158 & GHCND:USC00053546 & GREELEY CO US     & 1906              & 5                 & 31                & 193              \\\\\n",
       "\t159 & GHCND:USC00053546 & GREELEY CO US     & 1906              & 6                 & 30                & 211              \\\\\n",
       "\t160 & GHCND:USC00053546 & GREELEY CO US     & 1906              & 7                 & 31                & 310              \\\\\n",
       "\t161 & GHCND:USC00053546 & GREELEY CO US     & 1906              & 8                 & 31                &  43              \\\\\n",
       "\t1401 & GHCND:USC00053546 & GREELEY CO US     & 1906              & 9                 & 31                &  NA              \\\\\n",
       "\t162 & GHCND:USC00053546 & GREELEY CO US     & 1906              & 10                & 31                & 635              \\\\\n",
       "\t163 & GHCND:USC00053546 & GREELEY CO US     & 1906              & 11                & 30                & 216              \\\\\n",
       "\t176 & GHCND:USC00053546 & GREELEY CO US     & 1906              & 12                & 31                &   8              \\\\\n",
       "\t1402 & GHCND:USC00053546 & GREELEY CO US     & 1907              & 1                 & 31                &  NA              \\\\\n",
       "\t1403 & GHCND:USC00053546 & GREELEY CO US     & 1907              & 2                 & 31                &  NA              \\\\\n",
       "\t1404 & GHCND:USC00053546 & GREELEY CO US     & 1907              & 3                 & 31                &  NA              \\\\\n",
       "\t1405 & GHCND:USC00053546 & GREELEY CO US     & 1907              & 4                 & 31                &  NA              \\\\\n",
       "\t1406 & GHCND:USC00053546 & GREELEY CO US     & 1907              & 5                 & 31                &  NA              \\\\\n",
       "\t1407 & GHCND:USC00053546 & GREELEY CO US     & 1907              & 6                 & 31                &  NA              \\\\\n",
       "\t1408 & GHCND:USC00053546 & GREELEY CO US     & 1907              & 7                 & 31                &  NA              \\\\\n",
       "\t1409 & GHCND:USC00053546 & GREELEY CO US     & 1907              & 8                 & 31                &  NA              \\\\\n",
       "\t1410 & GHCND:USC00053546 & GREELEY CO US     & 1907              & 9                 & 31                &  NA              \\\\\n",
       "\t1411 & GHCND:USC00053546 & GREELEY CO US     & 1907              & 10                & 31                &  NA              \\\\\n",
       "\t1412 & GHCND:USC00053546 & GREELEY CO US     & 1907              & 11                & 31                &  NA              \\\\\n",
       "\t1413 & GHCND:USC00053546 & GREELEY CO US     & 1907              & 12                & 31                &  NA              \\\\\n",
       "\\end{tabular}\n"
      ],
      "text/plain": [
       "     STATION           STATION_NAME  YEAR MONTH Obs Max.PRCP.\n",
       "147  GHCND:USC00053546 GREELEY CO US 1905 6     30   99      \n",
       "148  GHCND:USC00053546 GREELEY CO US 1905 7     31  203      \n",
       "149  GHCND:USC00053546 GREELEY CO US 1905 8     31   66      \n",
       "150  GHCND:USC00053546 GREELEY CO US 1905 9     30   43      \n",
       "151  GHCND:USC00053546 GREELEY CO US 1905 10    31  119      \n",
       "152  GHCND:USC00053546 GREELEY CO US 1905 11    30    5      \n",
       "153  GHCND:USC00053546 GREELEY CO US 1905 12    31    0      \n",
       "154  GHCND:USC00053546 GREELEY CO US 1906 1     31    0      \n",
       "155  GHCND:USC00053546 GREELEY CO US 1906 2     28    3      \n",
       "156  GHCND:USC00053546 GREELEY CO US 1906 3     31  208      \n",
       "157  GHCND:USC00053546 GREELEY CO US 1906 4     30  246      \n",
       "158  GHCND:USC00053546 GREELEY CO US 1906 5     31  193      \n",
       "159  GHCND:USC00053546 GREELEY CO US 1906 6     30  211      \n",
       "160  GHCND:USC00053546 GREELEY CO US 1906 7     31  310      \n",
       "161  GHCND:USC00053546 GREELEY CO US 1906 8     31   43      \n",
       "1401 GHCND:USC00053546 GREELEY CO US 1906 9     31   NA      \n",
       "162  GHCND:USC00053546 GREELEY CO US 1906 10    31  635      \n",
       "163  GHCND:USC00053546 GREELEY CO US 1906 11    30  216      \n",
       "176  GHCND:USC00053546 GREELEY CO US 1906 12    31    8      \n",
       "1402 GHCND:USC00053546 GREELEY CO US 1907 1     31   NA      \n",
       "1403 GHCND:USC00053546 GREELEY CO US 1907 2     31   NA      \n",
       "1404 GHCND:USC00053546 GREELEY CO US 1907 3     31   NA      \n",
       "1405 GHCND:USC00053546 GREELEY CO US 1907 4     31   NA      \n",
       "1406 GHCND:USC00053546 GREELEY CO US 1907 5     31   NA      \n",
       "1407 GHCND:USC00053546 GREELEY CO US 1907 6     31   NA      \n",
       "1408 GHCND:USC00053546 GREELEY CO US 1907 7     31   NA      \n",
       "1409 GHCND:USC00053546 GREELEY CO US 1907 8     31   NA      \n",
       "1410 GHCND:USC00053546 GREELEY CO US 1907 9     31   NA      \n",
       "1411 GHCND:USC00053546 GREELEY CO US 1907 10    31   NA      \n",
       "1412 GHCND:USC00053546 GREELEY CO US 1907 11    31   NA      \n",
       "1413 GHCND:USC00053546 GREELEY CO US 1907 12    31   NA      "
      ]
     },
     "metadata": {},
     "output_type": "display_data"
    }
   ],
   "source": [
    "data[150:180,]"
   ]
  },
  {
   "cell_type": "code",
   "execution_count": 260,
   "metadata": {
    "collapsed": false
   },
   "outputs": [],
   "source": [
    "#create the first decade (first year and the following 9 years)\n",
    "max_PRCP = data.frame(data[which(data$YEAR < (firstYear + 10)),\"Max.PRCP.\"])\n",
    "\n",
    "# add all the subsequent decades to the data frame incrementing by 1 year at a time\n",
    "for(year in c((firstYear + 1):2005)){\n",
    "    max_PRCP = cbind(max_PRCP,data[which(data$YEAR >= year & data$YEAR < year+10),6])\n",
    "}\n",
    "\n",
    "# name the columns as the first year of the observed 10 year periods\n",
    "colnames(max_PRCP) = as.character(c(firstYear:2005))\n",
    "\n",
    "# set the missing values to NA\n",
    "max_PRCP[max_PRCP==-999] = NA"
   ]
  },
  {
   "cell_type": "code",
   "execution_count": 261,
   "metadata": {
    "collapsed": false
   },
   "outputs": [
    {
     "data": {
      "text/html": [
       "810"
      ],
      "text/latex": [
       "810"
      ],
      "text/markdown": [
       "810"
      ],
      "text/plain": [
       "[1] 810"
      ]
     },
     "metadata": {},
     "output_type": "display_data"
    }
   ],
   "source": [
    "sum(is.na(max_PRCP))"
   ]
  },
  {
   "cell_type": "code",
   "execution_count": 262,
   "metadata": {
    "collapsed": false
   },
   "outputs": [
    {
     "data": {
      "text/plain": [
       "[1] NA"
      ]
     },
     "metadata": {},
     "output_type": "display_data"
    }
   ],
   "source": [
    "sum(max_PRCP[max_PRCP==-999])"
   ]
  },
  {
   "cell_type": "markdown",
   "metadata": {},
   "source": [
    "## Section 1: Mean"
   ]
  },
  {
   "cell_type": "code",
   "execution_count": 263,
   "metadata": {
    "collapsed": true
   },
   "outputs": [],
   "source": [
    "options(repr.plot.width=9, repr.plot.height=5) #reduces the plot sizes"
   ]
  },
  {
   "cell_type": "code",
   "execution_count": 264,
   "metadata": {
    "collapsed": false
   },
   "outputs": [],
   "source": [
    "# create for maximum rainfall\n",
    "maxTS = ts(data$Max.PRCP, start = firstYear, freq=12)"
   ]
  },
  {
   "cell_type": "code",
   "execution_count": 265,
   "metadata": {
    "collapsed": true
   },
   "outputs": [],
   "source": [
    "smooth = runmean(data$Max.PRCP., 120)"
   ]
  },
  {
   "cell_type": "code",
   "execution_count": 266,
   "metadata": {
    "collapsed": true
   },
   "outputs": [],
   "source": [
    "smoothTS = ts(smooth, start=firstYear, freq=12)"
   ]
  },
  {
   "cell_type": "code",
   "execution_count": 267,
   "metadata": {
    "collapsed": false
   },
   "outputs": [
    {
     "data": {
      "text/html": [
       "884"
      ],
      "text/latex": [
       "884"
      ],
      "text/markdown": [
       "884"
      ],
      "text/plain": [
       "[1] 884"
      ]
     },
     "metadata": {},
     "output_type": "display_data"
    }
   ],
   "source": [
    "maxObs = max(na.omit(data$Max.PRCP.));maxObs"
   ]
  },
  {
   "cell_type": "code",
   "execution_count": 268,
   "metadata": {
    "collapsed": false
   },
   "outputs": [
    {
     "data": {
      "text/html": [
       "1303"
      ],
      "text/latex": [
       "1303"
      ],
      "text/markdown": [
       "1303"
      ],
      "text/plain": [
       "[1] 1303"
      ]
     },
     "metadata": {},
     "output_type": "display_data"
    }
   ],
   "source": [
    "which(data$Max.PRCP.==maxObs)"
   ]
  },
  {
   "cell_type": "code",
   "execution_count": 269,
   "metadata": {
    "collapsed": false
   },
   "outputs": [
    {
     "data": {
      "text/html": [
       "<table>\n",
       "<thead><tr><th></th><th scope=col>STATION</th><th scope=col>STATION_NAME</th><th scope=col>YEAR</th><th scope=col>MONTH</th><th scope=col>Obs</th><th scope=col>Max.PRCP.</th></tr></thead>\n",
       "<tbody>\n",
       "\t<tr><th scope=row>1236</th><td>GHCND:USC00053553</td><td>GREELEY UNC CO US</td><td>2001             </td><td>7                </td><td>31               </td><td>884              </td></tr>\n",
       "</tbody>\n",
       "</table>\n"
      ],
      "text/latex": [
       "\\begin{tabular}{r|llllll}\n",
       "  & STATION & STATION\\_NAME & YEAR & MONTH & Obs & Max.PRCP.\\\\\n",
       "\\hline\n",
       "\t1236 & GHCND:USC00053553 & GREELEY UNC CO US & 2001              & 7                 & 31                & 884              \\\\\n",
       "\\end{tabular}\n"
      ],
      "text/plain": [
       "     STATION           STATION_NAME      YEAR MONTH Obs Max.PRCP.\n",
       "1236 GHCND:USC00053553 GREELEY UNC CO US 2001 7     31  884      "
      ]
     },
     "metadata": {},
     "output_type": "display_data"
    }
   ],
   "source": [
    "data[which(data$Max.PRCP.==maxObs),]"
   ]
  },
  {
   "cell_type": "code",
   "execution_count": 270,
   "metadata": {
    "collapsed": false
   },
   "outputs": [
    {
     "data": {
      "image/png": "[encoded data removed]",
      "text/plain": [
       "plot without title"
      ]
     },
     "metadata": {},
     "output_type": "display_data"
    }
   ],
   "source": [
    "plot(maxTS, xlab = \"Time (years)\", col = \"darkgrey\", lwd=1.75, ylab = \"Precipitation (1/10mm)\", \n",
    "     #main=sprintf(\"%s \\nObserved 24 Hour Max Rainfall \\nfrom %i to 2012 by Monthly Max\", stationName,firstYear),\n",
    "     #ylim=c(0,1250)\n",
    "    )"
   ]
  },
  {
   "cell_type": "code",
   "execution_count": 271,
   "metadata": {
    "collapsed": false,
    "scrolled": false
   },
   "outputs": [
    {
     "data": {
      "image/png": "[encoded data removed]",
      "text/plain": [
       "plot without title"
      ]
     },
     "metadata": {},
     "output_type": "display_data"
    }
   ],
   "source": [
    "plot(maxTS, xlab = \"Time (years)\", col = \"darkgrey\", lwd=1.75, ylab = \"Precipitation (1/10mm)\", \n",
    "     #main=sprintf(\"%s \\nObserved 24 Hour Max Rainfall \\nfrom %i to 2012 by Monthly Max\", stationName,firstYear),\n",
    "     ylim=c(0,950))\n",
    "abline(h=maxObs, col=\"red\", lwd=.5, lty=5)\n",
    "points(smoothTS, col=4, type=\"l\", lwd=2)\n",
    "text(data[which(data$Max.PRCP.==maxObs),\"YEAR\"],maxObs+50,\n",
    "           sprintf(\"%i\",maxObs))"
   ]
  },
  {
   "cell_type": "code",
   "execution_count": 272,
   "metadata": {
    "collapsed": false
   },
   "outputs": [
    {
     "data": {
      "image/png": "[encoded data removed]",
      "text/plain": [
       "plot without title"
      ]
     },
     "metadata": {},
     "output_type": "display_data"
    }
   ],
   "source": [
    "#rollSmall = runmean(data$Max.PRCP., 300)\n",
    "plot(smoothTS, type=\"l\", xlab = \"Time (years)\", lwd=2,\n",
    "    ylab = \"Precipitation (1/10mm)\", col = 1\n",
    "     #main=\"Smoothed 24 hour max rainfall from 1898 to 2014\"\n",
    "    )\n"
   ]
  },
  {
   "cell_type": "code",
   "execution_count": 273,
   "metadata": {
    "collapsed": true
   },
   "outputs": [],
   "source": [
    "smoothALL = runmean(data$Max.PRCP., length(data$Max.PRCP.)/2)"
   ]
  },
  {
   "cell_type": "code",
   "execution_count": 274,
   "metadata": {
    "collapsed": false
   },
   "outputs": [
    {
     "data": {
      "text/html": [
       "1476"
      ],
      "text/latex": [
       "1476"
      ],
      "text/markdown": [
       "1476"
      ],
      "text/plain": [
       "[1] 1476"
      ]
     },
     "metadata": {},
     "output_type": "display_data"
    }
   ],
   "source": [
    "length(smoothALL)"
   ]
  },
  {
   "cell_type": "code",
   "execution_count": 275,
   "metadata": {
    "collapsed": true
   },
   "outputs": [],
   "source": [
    "smoothALLTS = ts(smoothALL, start = firstYear, freq=12)"
   ]
  },
  {
   "cell_type": "code",
   "execution_count": 276,
   "metadata": {
    "collapsed": false
   },
   "outputs": [
    {
     "data": {
      "image/png": "[encoded data removed]",
      "text/plain": [
       "plot without title"
      ]
     },
     "metadata": {},
     "output_type": "display_data"
    }
   ],
   "source": [
    "plot(smoothALLTS, type=\"l\", col=\"blue\", ylab=\"Smoothed Precipitation (1/10mm)\", xlab=\"Time (years)\")"
   ]
  },
  {
   "cell_type": "code",
   "execution_count": 277,
   "metadata": {
    "collapsed": false
   },
   "outputs": [
    {
     "data": {
      "image/png": "[encoded data removed]",
      "text/plain": [
       "plot without title"
      ]
     },
     "metadata": {},
     "output_type": "display_data"
    }
   ],
   "source": [
    "#rollSmall = runmean(data$Max.PRCP., 300)\n",
    "plot(smoothTS, type=\"l\", xlab = \"Time (years)\", lwd=2,\n",
    "    ylab = \"Precipitation (1/10mm)\", col = 1\n",
    "     #main=\"Smoothed 24 hour max rainfall from 1898 to 2014\"\n",
    "    )\n",
    "lines(smoothALLTS, col=4, lwd=2)"
   ]
  },
  {
   "cell_type": "markdown",
   "metadata": {},
   "source": [
    "### Change point detection for mean signal"
   ]
  },
  {
   "cell_type": "code",
   "execution_count": 278,
   "metadata": {
    "collapsed": false
   },
   "outputs": [
    {
     "name": "stderr",
     "output_type": "stream",
     "text": [
      "Loading required package: changepoint\n",
      "Loading required package: zoo\n",
      "\n",
      "Attaching package: 'zoo'\n",
      "\n",
      "The following objects are masked from 'package:base':\n",
      "\n",
      "    as.Date, as.Date.numeric\n",
      "\n",
      "Successfully loaded changepoint package version 2.2.1\n",
      " NOTE: Predefined penalty values have changed.  Previous penalty values with a postfix 1 i.e. SIC1 are now without i.e. SIC and previous penalties without a postfix i.e. SIC are now with a postfix 0 i.e. SIC0. See NEWS and help files for further details.\n"
     ]
    }
   ],
   "source": [
    "require(changepoint)"
   ]
  },
  {
   "cell_type": "code",
   "execution_count": 279,
   "metadata": {
    "collapsed": false
   },
   "outputs": [
    {
     "data": {
      "text/plain": [
       "Class 'cpt' : Changepoint Object\n",
       "       ~~   : S4 class containing 12 slots with names\n",
       "              date version data.set cpttype method test.stat pen.type pen.value minseglen cpts ncpts.max param.est \n",
       "\n",
       "Created on  : Tue Sep 13 17:22:34 2016 \n",
       "\n",
       "summary(.)  :\n",
       "----------\n",
       "Created Using changepoint version 2.2.1 \n",
       "Changepoint type      : Change in mean \n",
       "Method of analysis    : AMOC \n",
       "Test Statistic  : Normal \n",
       "Type of penalty       : MBIC with value, 21.89127 \n",
       "Minimum Segment Length : 1 \n",
       "Maximum no. of cpts   : 1 \n",
       "Changepoint Locations : 876 "
      ]
     },
     "metadata": {},
     "output_type": "display_data"
    }
   ],
   "source": [
    "cpt.mean(smoothTS)"
   ]
  },
  {
   "cell_type": "code",
   "execution_count": 281,
   "metadata": {
    "collapsed": true
   },
   "outputs": [],
   "source": [
    "cp=876"
   ]
  },
  {
   "cell_type": "code",
   "execution_count": 282,
   "metadata": {
    "collapsed": false
   },
   "outputs": [
    {
     "data": {
      "image/png": "[encoded data removed]",
      "text/plain": [
       "plot without title"
      ]
     },
     "metadata": {},
     "output_type": "display_data"
    }
   ],
   "source": [
    "#rollSmall = runmean(data$Max.PRCP., 300)\n",
    "plot(smoothTS, type=\"l\", xlab = \"Time (years)\", lwd=2,\n",
    "    ylab = \"Precipitation (1/10mm)\", col = 1\n",
    "     #main=\"Smoothed 24 hour max rainfall from 1898 to 2014\"\n",
    "    )\n",
    "lines(smoothALLTS, col=4, lwd=2)\n",
    "abline(v=data[cp,],col=2,lwd=2)"
   ]
  },
  {
   "cell_type": "code",
   "execution_count": 283,
   "metadata": {
    "collapsed": false
   },
   "outputs": [
    {
     "data": {
      "text/html": [
       "<table>\n",
       "<thead><tr><th></th><th scope=col>STATION</th><th scope=col>STATION_NAME</th><th scope=col>YEAR</th><th scope=col>MONTH</th><th scope=col>Obs</th><th scope=col>Max.PRCP.</th></tr></thead>\n",
       "<tbody>\n",
       "\t<tr><th scope=row>809</th><td>GHCND:USC00053546</td><td>GREELEY CO US    </td><td>1965             </td><td>12               </td><td>30               </td><td>76               </td></tr>\n",
       "</tbody>\n",
       "</table>\n"
      ],
      "text/latex": [
       "\\begin{tabular}{r|llllll}\n",
       "  & STATION & STATION\\_NAME & YEAR & MONTH & Obs & Max.PRCP.\\\\\n",
       "\\hline\n",
       "\t809 & GHCND:USC00053546 & GREELEY CO US     & 1965              & 12                & 30                & 76               \\\\\n",
       "\\end{tabular}\n"
      ],
      "text/plain": [
       "    STATION           STATION_NAME  YEAR MONTH Obs Max.PRCP.\n",
       "809 GHCND:USC00053546 GREELEY CO US 1965 12    30  76       "
      ]
     },
     "metadata": {},
     "output_type": "display_data"
    }
   ],
   "source": [
    "data[cp,]"
   ]
  },
  {
   "cell_type": "code",
   "execution_count": 284,
   "metadata": {
    "collapsed": true
   },
   "outputs": [],
   "source": [
    "cpYear = data[cp,\"YEAR\"]"
   ]
  },
  {
   "cell_type": "code",
   "execution_count": 285,
   "metadata": {
    "collapsed": false
   },
   "outputs": [
    {
     "data": {
      "text/html": [
       "127.347457627119"
      ],
      "text/latex": [
       "127.347457627119"
      ],
      "text/markdown": [
       "127.347457627119"
      ],
      "text/plain": [
       "[1] 127.3475"
      ]
     },
     "metadata": {},
     "output_type": "display_data"
    }
   ],
   "source": [
    "smoothTS[cp]"
   ]
  },
  {
   "cell_type": "code",
   "execution_count": 286,
   "metadata": {
    "collapsed": false
   },
   "outputs": [
    {
     "data": {
      "text/plain": [
       "\n",
       "\tShapiro-Wilk normality test\n",
       "\n",
       "data:  smoothTS\n",
       "W = 0.97519, p-value = 2.877e-15\n"
      ]
     },
     "metadata": {},
     "output_type": "display_data"
    }
   ],
   "source": [
    "shapiro.test(smoothTS)"
   ]
  },
  {
   "cell_type": "code",
   "execution_count": 287,
   "metadata": {
    "collapsed": false
   },
   "outputs": [
    {
     "data": {
      "image/png": "[encoded data removed]",
      "text/plain": [
       "Plot with title \"Normal Q-Q Plot\""
      ]
     },
     "metadata": {},
     "output_type": "display_data"
    }
   ],
   "source": [
    "qqnorm(smoothTS);qqline(smoothTS)"
   ]
  },
  {
   "cell_type": "code",
   "execution_count": 288,
   "metadata": {
    "collapsed": false
   },
   "outputs": [
    {
     "data": {
      "image/png": "[encoded data removed]",
      "text/plain": [
       "Plot with title \"Histogram of smoothTS\""
      ]
     },
     "metadata": {},
     "output_type": "display_data"
    }
   ],
   "source": [
    "hist(smoothTS,breaks=40)"
   ]
  },
  {
   "cell_type": "code",
   "execution_count": 289,
   "metadata": {
    "collapsed": false
   },
   "outputs": [
    {
     "data": {
      "text/html": [
       "<ol class=list-inline>\n",
       "\t<li>122.771186440678</li>\n",
       "\t<li>123.932203389831</li>\n",
       "\t<li>124.152542372881</li>\n",
       "\t<li>124.389830508475</li>\n",
       "\t<li>126.796610169492</li>\n",
       "\t<li>126.906779661017</li>\n",
       "\t<li>127.830508474576</li>\n",
       "\t<li>127.898305084746</li>\n",
       "\t<li>126.906779661017</li>\n",
       "\t<li>127.449152542373</li>\n",
       "\t<li>127.347457627119</li>\n",
       "\t<li>128.14406779661</li>\n",
       "\t<li>128.491525423729</li>\n",
       "\t<li>127.669491525424</li>\n",
       "\t<li>131.28813559322</li>\n",
       "\t<li>130.127118644068</li>\n",
       "\t<li>129.652542372881</li>\n",
       "\t<li>127.262711864407</li>\n",
       "\t<li>127.330508474576</li>\n",
       "\t<li>129.330508474576</li>\n",
       "\t<li>129.915254237288</li>\n",
       "</ol>\n"
      ],
      "text/latex": [
       "\\begin{enumerate*}\n",
       "\\item 122.771186440678\n",
       "\\item 123.932203389831\n",
       "\\item 124.152542372881\n",
       "\\item 124.389830508475\n",
       "\\item 126.796610169492\n",
       "\\item 126.906779661017\n",
       "\\item 127.830508474576\n",
       "\\item 127.898305084746\n",
       "\\item 126.906779661017\n",
       "\\item 127.449152542373\n",
       "\\item 127.347457627119\n",
       "\\item 128.14406779661\n",
       "\\item 128.491525423729\n",
       "\\item 127.669491525424\n",
       "\\item 131.28813559322\n",
       "\\item 130.127118644068\n",
       "\\item 129.652542372881\n",
       "\\item 127.262711864407\n",
       "\\item 127.330508474576\n",
       "\\item 129.330508474576\n",
       "\\item 129.915254237288\n",
       "\\end{enumerate*}\n"
      ],
      "text/markdown": [
       "1. 122.771186440678\n",
       "2. 123.932203389831\n",
       "3. 124.152542372881\n",
       "4. 124.389830508475\n",
       "5. 126.796610169492\n",
       "6. 126.906779661017\n",
       "7. 127.830508474576\n",
       "8. 127.898305084746\n",
       "9. 126.906779661017\n",
       "10. 127.449152542373\n",
       "11. 127.347457627119\n",
       "12. 128.14406779661\n",
       "13. 128.491525423729\n",
       "14. 127.669491525424\n",
       "15. 131.28813559322\n",
       "16. 130.127118644068\n",
       "17. 129.652542372881\n",
       "18. 127.262711864407\n",
       "19. 127.330508474576\n",
       "20. 129.330508474576\n",
       "21. 129.915254237288\n",
       "\n",
       "\n"
      ],
      "text/plain": [
       " [1] 122.7712 123.9322 124.1525 124.3898 126.7966 126.9068 127.8305 127.8983\n",
       " [9] 126.9068 127.4492 127.3475 128.1441 128.4915 127.6695 131.2881 130.1271\n",
       "[17] 129.6525 127.2627 127.3305 129.3305 129.9153"
      ]
     },
     "metadata": {},
     "output_type": "display_data"
    }
   ],
   "source": [
    "smoothTS[(cp-10):(cp+10)]"
   ]
  },
  {
   "cell_type": "code",
   "execution_count": 290,
   "metadata": {
    "collapsed": true
   },
   "outputs": [],
   "source": [
    "anotherTS = smoothTS"
   ]
  },
  {
   "cell_type": "code",
   "execution_count": 291,
   "metadata": {
    "collapsed": true
   },
   "outputs": [],
   "source": [
    "mean1sthalf = mean(smoothTS[1:cp])\n",
    "mean2ndhalf = mean(smooth[(cp+1):length(smoothTS)])"
   ]
  },
  {
   "cell_type": "code",
   "execution_count": 292,
   "metadata": {
    "collapsed": true
   },
   "outputs": [],
   "source": [
    "anotherTS[1:cp] = mean1sthalf\n",
    "anotherTS[(cp+1):length(smoothTS)] = mean2ndhalf"
   ]
  },
  {
   "cell_type": "code",
   "execution_count": 293,
   "metadata": {
    "collapsed": false
   },
   "outputs": [
    {
     "data": {
      "image/png": "[encoded data removed]",
      "text/plain": [
       "plot without title"
      ]
     },
     "metadata": {},
     "output_type": "display_data"
    }
   ],
   "source": [
    "#rollSmall = runmean(data$Max.PRCP., 300)\n",
    "plot(smoothTS, type=\"l\", xlab = \"Time (years)\", lwd=2,\n",
    "    ylab = \"Max Precipitation (1/10mm)\", col = 1 #main=\"Smoothed 24 hour max rainfall from 1898 to 2012\"\n",
    "    )\n",
    "    #points(rollLarge, type=\"l\", col=4)\n",
    "    #egend(0,200, c(\"300 window\",\"\", \"900 window\"), col=c(2,0,4), lty=c(1,0,1), bty=\"n\")\n",
    "    abline(h=mean(na.omit(data$Max.PRCP.)),col=2,lwd=3)"
   ]
  },
  {
   "cell_type": "code",
   "execution_count": 294,
   "metadata": {
    "collapsed": false
   },
   "outputs": [
    {
     "data": {
      "image/png": "[encoded data removed]",
      "text/plain": [
       "plot without title"
      ]
     },
     "metadata": {},
     "output_type": "display_data"
    }
   ],
   "source": [
    "#rollSmall = runmean(data$Max.PRCP., 300)\n",
    "plot(smoothTS, type=\"l\", xlab = \"Time (years)\", lwd=2,\n",
    "    ylab = \"Max Precipitation (1/10mm)\", col = 1, #main=\"Smoothed 24 hour max rainfall from 1898 to 2012\"\n",
    "    )\n",
    "    #points(rollLarge, type=\"l\", col=4)\n",
    "    #egend(0,200, c(\"300 window\",\"\", \"900 window\"), col=c(2,0,4), lty=c(1,0,1), bty=\"n\")\n",
    "    lines(anotherTS,col=2,lwd=3)\n",
    "    legend(\"topleft\",c(\"Trend Line\",\"\",\"Mean prior and post change point\"), lty=c(1,0,1), lwd=c(2,0,2), col=c(1,0,2),\n",
    "    bty=\"n\", cex = .8, pt.cex=.8)"
   ]
  },
  {
   "cell_type": "code",
   "execution_count": 295,
   "metadata": {
    "collapsed": true
   },
   "outputs": [],
   "source": [
    "data[\"box\"] = as.numeric(data$YEAR>=cpYear)"
   ]
  },
  {
   "cell_type": "code",
   "execution_count": 296,
   "metadata": {
    "collapsed": false
   },
   "outputs": [
    {
     "data": {
      "text/html": [
       "116.667515923567"
      ],
      "text/latex": [
       "116.667515923567"
      ],
      "text/markdown": [
       "116.667515923567"
      ],
      "text/plain": [
       "[1] 116.6675"
      ]
     },
     "metadata": {},
     "output_type": "display_data"
    }
   ],
   "source": [
    "mean(na.omit(data[which(data$box == 0),\"Max.PRCP.\"]))"
   ]
  },
  {
   "cell_type": "code",
   "execution_count": 297,
   "metadata": {
    "collapsed": false
   },
   "outputs": [
    {
     "data": {
      "text/html": [
       "136.547738693467"
      ],
      "text/latex": [
       "136.547738693467"
      ],
      "text/markdown": [
       "136.547738693467"
      ],
      "text/plain": [
       "[1] 136.5477"
      ]
     },
     "metadata": {},
     "output_type": "display_data"
    }
   ],
   "source": [
    "mean(na.omit(data[which(data$box == 1),\"Max.PRCP.\"]))"
   ]
  },
  {
   "cell_type": "markdown",
   "metadata": {},
   "source": [
    "Box plots with noise from the event"
   ]
  },
  {
   "cell_type": "code",
   "execution_count": 298,
   "metadata": {
    "collapsed": false
   },
   "outputs": [
    {
     "data": {
      "image/png": "[encoded data removed]",
      "text/plain": [
       "plot without title"
      ]
     },
     "metadata": {},
     "output_type": "display_data"
    }
   ],
   "source": [
    "boxplot(data$Max.PRCP.~data$box)"
   ]
  },
  {
   "cell_type": "markdown",
   "metadata": {},
   "source": [
    "A little less noise in the box plots by removing the event"
   ]
  },
  {
   "cell_type": "code",
   "execution_count": 299,
   "metadata": {
    "collapsed": false
   },
   "outputs": [
    {
     "data": {
      "image/png": "[encoded data removed]",
      "text/plain": [
       "plot without title"
      ]
     },
     "metadata": {},
     "output_type": "display_data"
    }
   ],
   "source": [
    "boxplot(data$Max.PRCP.~data$box)"
   ]
  },
  {
   "cell_type": "code",
   "execution_count": 300,
   "metadata": {
    "collapsed": false
   },
   "outputs": [],
   "source": [
    "indicator = c(rep(0,cp),rep(1,(length(smoothTS)-cp)))"
   ]
  },
  {
   "cell_type": "code",
   "execution_count": 301,
   "metadata": {
    "collapsed": false
   },
   "outputs": [],
   "source": [
    "meansBox = as.data.frame(cbind(smoothTS,indicator))"
   ]
  },
  {
   "cell_type": "code",
   "execution_count": 302,
   "metadata": {
    "collapsed": false
   },
   "outputs": [],
   "source": [
    "meansBoxSea = as.data.frame(cbind(smoothTS, rep(c(1,2,3,4,5,6,7,8,9,10,11,12),length(smoothTS)/12)))"
   ]
  },
  {
   "cell_type": "code",
   "execution_count": 303,
   "metadata": {
    "collapsed": false
   },
   "outputs": [],
   "source": [
    "names(meansBoxSea) = c(\"precipitation\",\"month\")"
   ]
  },
  {
   "cell_type": "markdown",
   "metadata": {},
   "source": [
    "Now, can see the difference in the mean of the smoothed signals, however, given the actual variance of the data, the significance here is debatable - not to mention the independence assumption is not valid."
   ]
  },
  {
   "cell_type": "code",
   "execution_count": 304,
   "metadata": {
    "collapsed": false
   },
   "outputs": [
    {
     "data": {
      "image/png": "[encoded data removed]",
      "text/plain": [
       "plot without title"
      ]
     },
     "metadata": {},
     "output_type": "display_data"
    }
   ],
   "source": [
    "boxplot(meansBox$smoothTS ~ meansBox$indicator, xlab = \"Group (0=pre change point, 1=post change point)\",\n",
    "       col = c(\"blue\",\"green\"), ylab = \"Precipitation (1/10mm)\")"
   ]
  },
  {
   "cell_type": "markdown",
   "metadata": {},
   "source": [
    "#  Variances"
   ]
  },
  {
   "cell_type": "code",
   "execution_count": 305,
   "metadata": {
    "collapsed": true
   },
   "outputs": [],
   "source": [
    "vars1 = NULL\n",
    "for(i in 1:(length(max_PRCP))){\n",
    "    vars1 = c(vars1,var(na.omit(max_PRCP[,i])))\n",
    "}\n",
    "vars1TS = ts(vars1, start = firstYear)"
   ]
  },
  {
   "cell_type": "code",
   "execution_count": 306,
   "metadata": {
    "collapsed": false
   },
   "outputs": [
    {
     "data": {
      "text/plain": [
       "Time Series:\n",
       "Start = 1893 \n",
       "End = 2005 \n",
       "Frequency = 1 \n",
       "  [1] 13851.307 13731.002 14497.373 14336.014 15403.441 16071.291 17298.263\n",
       "  [8] 23600.971 23067.275 24034.730 20159.845 22117.565 22982.179 24370.766\n",
       " [15] 23116.366 23116.366 21240.810 15239.739 20578.830 20049.853 20019.606\n",
       " [22] 20537.607 18643.538 18651.816 16942.767 16021.006 15802.538 14019.619\n",
       " [29] 11400.982 10297.720 13500.456 11782.898 11878.085 11069.773 12843.016\n",
       " [36] 12653.386 13041.013 12803.088 11985.493 12272.890  9254.575  8973.705\n",
       " [43]  9655.983  9479.220  7816.538  8701.385  8221.079  8347.930  8756.656\n",
       " [50]  9089.495  8634.790  8405.968  7364.661  6645.836  6454.022  6501.312\n",
       " [57]  6691.520  6665.102  6196.930  6665.238  9346.375 12344.663 13955.738\n",
       " [64] 14305.686 15990.666 15143.323 14969.294 15641.933 16089.237 16838.337\n",
       " [71] 14964.997 12410.451 15364.307 18384.081 17826.026 17880.568 19635.221\n",
       " [78] 20548.344 20059.994 19203.090 19471.676 22894.975 19549.508 16432.639\n",
       " [85] 15426.453 14952.457 14018.042 14483.018 15549.196 15316.620 15354.446\n",
       " [92] 11699.573 10450.370 10541.331 10617.280 10939.878 10256.294 10223.445\n",
       " [99] 10519.400 15134.466 14098.582 15440.065 15654.346 19131.996 19265.897\n",
       "[106] 20654.166 24579.016 24263.804 25314.587 21648.681 21728.547 21531.724\n",
       "[113] 21572.137"
      ]
     },
     "metadata": {},
     "output_type": "display_data"
    }
   ],
   "source": [
    "vars1TS"
   ]
  },
  {
   "cell_type": "code",
   "execution_count": 307,
   "metadata": {
    "collapsed": true
   },
   "outputs": [],
   "source": [
    "rollSmall = ts(runmean(vars1TS,15),start=firstYear)\n",
    "rollSmall2 = ts(runmean(vars1TS,30),start=firstYear)\n",
    "rollSmall3 = ts(runmean(vars1TS,50),start=firstYear)"
   ]
  },
  {
   "cell_type": "code",
   "execution_count": 308,
   "metadata": {
    "collapsed": false
   },
   "outputs": [
    {
     "data": {
      "image/png": "[encoded data removed]",
      "text/plain": [
       "plot without title"
      ]
     },
     "metadata": {},
     "output_type": "display_data"
    }
   ],
   "source": [
    "plot(vars1TS, type=\"l\", xlab = \"Time (years)\", lwd=2,\n",
    "    ylab = \"Precipitation (1/10mm)^2\", col = 1)\n",
    "lines(rollSmall, col=3,lwd=2)\n",
    "lines(rollSmall2, col=2,lwd=2)\n",
    "lines(rollSmall3, col=4,lwd=2)\n",
    "legend(\"topleft\",c(\"Variance, of Intervals\",\"\",\"Small Smoothing\", \"\",\"Medium Smoothing\",\"\",\"Large Smoothing\"),\n",
    "      col = c(1,0,3,0,2,0,4), lty = c(1,0,1,0,1,0,1), lwd=c(2,2,2,2), bty=\"n\")"
   ]
  },
  {
   "cell_type": "code",
   "execution_count": 309,
   "metadata": {
    "collapsed": false
   },
   "outputs": [
    {
     "data": {
      "image/png": "[encoded data removed]",
      "text/plain": [
       "plot without title"
      ]
     },
     "metadata": {},
     "output_type": "display_data"
    }
   ],
   "source": [
    "plot(sqrt(vars1TS), type=\"l\", xlab = \"Time (years)\", lwd=2,\n",
    "    ylab = \"Precipitation (1/10mm)^2\", col = 1)\n",
    "lines(sqrt(rollSmall), col=3,lwd=2)\n",
    "lines(sqrt(rollSmall2), col=2,lwd=2)\n",
    "lines(sqrt(rollSmall3), col=4,lwd=2)\n",
    "legend(\"topleft\",c(\"Standard Deviation, of Intervals\",\"\",\"Small Smoothing\", \"\",\"Medium Smoothing\",\"\",\"Large Smoothing\"),\n",
    "      col = c(1,0,3,0,2,0,4), lty = c(1,0,1,0,1,0,1), lwd=c(2,2,2,2), bty=\"n\")"
   ]
  },
  {
   "cell_type": "code",
   "execution_count": null,
   "metadata": {
    "collapsed": true
   },
   "outputs": [],
   "source": []
  },
  {
   "cell_type": "code",
   "execution_count": null,
   "metadata": {
    "collapsed": true
   },
   "outputs": [],
   "source": []
  }
 ],
 "metadata": {
  "anaconda-cloud": {},
  "kernelspec": {
   "display_name": "R",
   "language": "R",
   "name": "ir"
  },
  "language_info": {
   "codemirror_mode": "r",
   "file_extension": ".r",
   "mimetype": "text/x-r-source",
   "name": "R",
   "pygments_lexer": "r",
   "version": "3.3.1"
  }
 },
 "nbformat": 4,
 "nbformat_minor": 0
}
