{
 "cells": [
  {
   "cell_type": "markdown",
   "metadata": {},
   "source": [
    "# Master's Thesis: Investigating Maximum Rainfall Trends in Colorado"
   ]
  },
  {
   "cell_type": "markdown",
   "metadata": {},
   "source": [
    "<b>Institution:</b> University of Georgia <br>\n",
    "<b>Department:</b> Statistics <br>\n",
    "<b>Student:</b> Jeremy Mulcahey <br>\n",
    "<b>Advisor:</b> Dr. Lynne Seymour <br>\n",
    "<b>Last Edit:</b> 9/27/2016"
   ]
  },
  {
   "cell_type": "markdown",
   "metadata": {},
   "source": [
    "Section 0: Preparing data <br>\n",
    "Section 1: Parameter Estimation<br>\n",
    "Section 2: Probabilities of Interest"
   ]
  },
  {
   "cell_type": "markdown",
   "metadata": {},
   "source": [
    "##  Section 0: Preparing data"
   ]
  },
  {
   "cell_type": "code",
   "execution_count": 1,
   "metadata": {
    "collapsed": false
   },
   "outputs": [
    {
     "name": "stderr",
     "output_type": "stream",
     "text": [
      "Loading required package: fitdistrplus\n",
      "Loading required package: MASS\n",
      "Loading required package: survival\n",
      "Loading required package: caTools\n",
      "Loading required package: repr\n",
      "Loading required package: IRdisplay\n"
     ]
    }
   ],
   "source": [
    "require(fitdistrplus); # required for parameter estimation\n",
    "require(caTools);      # required for smoothing\n",
    "require(repr);         # required for resizing plots in IRKernel\n",
    "require(\"IRdisplay\");  # graphic embedding\n",
    "require(MASS);         # testing"
   ]
  },
  {
   "cell_type": "code",
   "execution_count": 2,
   "metadata": {
    "collapsed": false
   },
   "outputs": [],
   "source": [
    "# establish working directorys\n",
    "setwd(\"C:/Users/jerem/Desktop/UGA/Master'sThesis/\")"
   ]
  },
  {
   "cell_type": "markdown",
   "metadata": {},
   "source": [
    "Data files for individual station names."
   ]
  },
  {
   "cell_type": "code",
   "execution_count": 4,
   "metadata": {
    "collapsed": false
   },
   "outputs": [],
   "source": [
    "data = read.csv(file = \"data/GREELEY_MonMax_GHCN.csv\", head=T)"
   ]
  },
  {
   "cell_type": "markdown",
   "metadata": {},
   "source": [
    "Adjust the data for later use."
   ]
  },
  {
   "cell_type": "code",
   "execution_count": 5,
   "metadata": {
    "collapsed": false
   },
   "outputs": [
    {
     "data": {
      "text/html": [
       "51"
      ],
      "text/latex": [
       "51"
      ],
      "text/markdown": [
       "51"
      ],
      "text/plain": [
       "[1] 51"
      ]
     },
     "metadata": {},
     "output_type": "display_data"
    }
   ],
   "source": [
    "# Create an index as x - used as needed\n",
    "month = seq(1,nrow(data),by=1)\n",
    "data = cbind(data,month)\n",
    "\n",
    "# first year of the data (changes by station name)\n",
    "firstYear = data$YEAR[1]\n",
    "\n",
    "# station name for plotting\n",
    "stationName = as.character(data$STATION_NAME[1])\n",
    "\n",
    "# -999 messed with the plotting - change to NA\n",
    "data[data==-999] = NA\n",
    "\n",
    "sum(is.na(data)) #print number of missing values"
   ]
  },
  {
   "cell_type": "markdown",
   "metadata": {},
   "source": [
    "Check number of years in the data set."
   ]
  },
  {
   "cell_type": "code",
   "execution_count": 6,
   "metadata": {
    "collapsed": false
   },
   "outputs": [
    {
     "data": {
      "text/html": [
       "121"
      ],
      "text/latex": [
       "121"
      ],
      "text/markdown": [
       "121"
      ],
      "text/plain": [
       "[1] 121"
      ]
     },
     "metadata": {},
     "output_type": "display_data"
    }
   ],
   "source": [
    "data$YEAR[nrow(data)]-firstYear"
   ]
  },
  {
   "cell_type": "code",
   "execution_count": 7,
   "metadata": {
    "collapsed": false
   },
   "outputs": [
    {
     "data": {
      "text/plain": [
       "\n",
       "  1   2   3   4   5   6   7   8   9  10  11  12 \n",
       "113 114 117 115 115 115 117 115 115 117 116 116 "
      ]
     },
     "metadata": {},
     "output_type": "display_data"
    }
   ],
   "source": [
    "table(data$MONTH)"
   ]
  },
  {
   "cell_type": "code",
   "execution_count": 8,
   "metadata": {
    "collapsed": true
   },
   "outputs": [],
   "source": [
    "fillInMonths = c(8,4,4,9,seq(1,12,1),1,12,9,seq(1,12,1),seq(1,12,1),seq(1,12,1),seq(1,12,1),2,5,1,6,1,2,11,6,1,2,5,8)"
   ]
  },
  {
   "cell_type": "code",
   "execution_count": 9,
   "metadata": {
    "collapsed": true
   },
   "outputs": [],
   "source": [
    "fillInYears = c(1897,1898,1905,1906,rep(1907,12),1908,1912,1913,rep(1914,12),rep(1915,12),rep(1916,12),rep(1917,12),\n",
    "                1918,1919,1920,1920,1922,1923,1927,1928,1948,1948,1955,1957)"
   ]
  },
  {
   "cell_type": "code",
   "execution_count": 10,
   "metadata": {
    "collapsed": true
   },
   "outputs": [],
   "source": [
    "for(i in 1:length(fillInMonths)){\n",
    "    data=rbind(data,c(\"GHCND:USC00053546\", \"GREELEY CO US\",fillInYears[i],fillInMonths[i],31,-999))\n",
    "}"
   ]
  },
  {
   "cell_type": "code",
   "execution_count": 11,
   "metadata": {
    "collapsed": true
   },
   "outputs": [],
   "source": [
    "data=data[order(data$YEAR,as.integer(data$MONTH)),]"
   ]
  },
  {
   "cell_type": "code",
   "execution_count": 12,
   "metadata": {
    "collapsed": true
   },
   "outputs": [],
   "source": [
    "data$Max.PRCP.=as.integer(data$Max.PRCP.)"
   ]
  },
  {
   "cell_type": "code",
   "execution_count": 13,
   "metadata": {
    "collapsed": true
   },
   "outputs": [],
   "source": [
    "data[data==-999] = NA"
   ]
  },
  {
   "cell_type": "markdown",
   "metadata": {},
   "source": [
    "Make a data frame of all the 10 year periods following the first year for data collected at the station."
   ]
  },
  {
   "cell_type": "code",
   "execution_count": 37,
   "metadata": {
    "collapsed": false
   },
   "outputs": [],
   "source": [
    "#create the first decade (first year and the following 9 years)\n",
    "max_PRCP = data.frame(data[which(data$YEAR < (firstYear + 10)),6])\n",
    "\n",
    "# add all the subsequent decades to the data frame incrementing by 1 year at a time\n",
    "for(year in c((firstYear+ 1):2005)){\n",
    "    max_PRCP = cbind(max_PRCP,data[which(data$YEAR >= year & data$YEAR < year+10),6])\n",
    "}\n",
    "\n",
    "# name the columns as the first year of the observed 10 year periods\n",
    "colnames(max_PRCP) = as.character(c(firstYear:2005))\n",
    "\n",
    "# set the missing values to NA\n",
    "max_PRCP[max_PRCP==-999] = NA"
   ]
  },
  {
   "cell_type": "markdown",
   "metadata": {},
   "source": [
    "## Section 1: Parameter Estimation"
   ]
  },
  {
   "cell_type": "code",
   "execution_count": 38,
   "metadata": {
    "collapsed": true
   },
   "outputs": [],
   "source": [
    "options(repr.plot.width=9, repr.plot.height=8) #reduces the plot sizes"
   ]
  },
  {
   "cell_type": "code",
   "execution_count": 39,
   "metadata": {
    "collapsed": false
   },
   "outputs": [],
   "source": [
    "mleGamma = data.frame(alpha = double(),\n",
    "                 theta = double(),\n",
    "                 KS = double(),\n",
    "                 KStest = character(),\n",
    "                 CvM = double(),\n",
    "                 CvMtest = character(),\n",
    "                 AD = double(),\n",
    "                 ADtest = character(),\n",
    "                 stringsAsFactors = FALSE)\n",
    "                \n",
    "for (i in 1:length(max_PRCP)) {\n",
    "\n",
    "    testDist = na.omit(max_PRCP[,i])\n",
    "        \n",
    "        for(j in 1:length(testDist)){\n",
    "            if(testDist[j] < .1){\n",
    "            testDist[j]=.0001\n",
    "            }\n",
    "        }\n",
    "\n",
    "   gamma1 = fitdist(as.vector(testDist),\"gamma\",method = \"mle\")\n",
    "   mleGamma[i,1] = gamma1$estimate[1]\n",
    "   mleGamma[i,2] = gamma1$estimate[2]\n",
    "   \n",
    "   gof = gofstat(gamma1)\n",
    "   mleGamma[i,3] = gof$ks\n",
    "   mleGamma[i,4] = gof$kstest\n",
    "   mleGamma[i,5] = gof$cvm\n",
    "   mleGamma[i,6] = gof$cvmtest\n",
    "   mleGamma[i,7] = gof$ad\n",
    "   mleGamma[i,8] = gof$adtest\n",
    "}\n",
    "\n",
    "mleGamma[\"invTheta\"] = 1/(mleGamma$theta)\n",
    "mleGamma[\"mean\"] = mleGamma$invTheta*mleGamma$alpha\n",
    "mleGamma[\"var\"] = mleGamma$alpha*(mleGamma$invTheta^2)\n",
    "mleGamma[\"sd\"] = sqrt(mleGamma$var)"
   ]
  },
  {
   "cell_type": "code",
   "execution_count": 40,
   "metadata": {
    "collapsed": true
   },
   "outputs": [],
   "source": [
    "mleExp = data.frame(theta = double(),\n",
    "                 KS = double(),\n",
    "                 KStest = character(),\n",
    "                 CvM = double(),\n",
    "                 CvMtest = character(),\n",
    "                 AD = double(),\n",
    "                 ADtest = character(),\n",
    "                 stringsAsFactors = FALSE)\n",
    "                \n",
    "for (i in 1:length(max_PRCP)) {\n",
    "\n",
    "    testDist = na.omit(max_PRCP[,i])\n",
    "        \n",
    "        for(j in 1:length(testDist)){\n",
    "            if(testDist[j] < .1){\n",
    "            testDist[j]=.0001\n",
    "            }\n",
    "        }\n",
    "\n",
    "   exp1 = fitdist(as.vector(testDist),\"exp\",method = \"mle\")\n",
    "   mleExp[i,1] = exp1$estimate[1]\n",
    "   \n",
    "   gof = gofstat(exp1)\n",
    "   mleExp[i,2] = gof$ks\n",
    "   mleExp[i,3] = gof$kstest\n",
    "   mleExp[i,4] = gof$cvm\n",
    "   mleExp[i,5] = gof$cvmtest\n",
    "   mleExp[i,6] = gof$ad\n",
    "   mleExp[i,7] = gof$adtest\n",
    "}\n",
    "\n",
    "mleExp[\"mean\"] = 1/mleExp$theta\n",
    "mleExp[\"square\"] = mleExp$theta^2 \n",
    "mleExp[\"var\"] = 1/mleExp$square\n",
    "mleExp[\"sd\"] = sqrt(mleExp$var)"
   ]
  },
  {
   "cell_type": "code",
   "execution_count": 41,
   "metadata": {
    "collapsed": false
   },
   "outputs": [],
   "source": [
    "mleWB = data.frame(alpha = double(),theta = double(),\n",
    "                 KS = double(),\n",
    "                 KStest = character(),\n",
    "                 CvM = double(),\n",
    "                 CvMtest = character(),\n",
    "                 AD = double(),\n",
    "                 ADtest = character(),\n",
    "                 stringsAsFactors = FALSE)\n",
    "                \n",
    "for (i in 1:length(max_PRCP)) {\n",
    "\n",
    "    testDist = na.omit(max_PRCP[,i])\n",
    "        \n",
    "        for(j in 1:length(testDist)){\n",
    "            if(testDist[j] < .1){\n",
    "            testDist[j]=.0001\n",
    "            }\n",
    "        }\n",
    "\n",
    "   WB1 = fitdist(as.vector(testDist),\"weibull\",method = \"mle\")\n",
    "   mleWB[i,1] = WB1$estimate[1]\n",
    "   mleWB[i,2] = WB1$estimate[2]\n",
    "   \n",
    "   gof = gofstat(WB1)\n",
    "   mleWB[i,3] = gof$ks\n",
    "   mleWB[i,4] = gof$kstest\n",
    "   mleWB[i,5] = gof$cvm\n",
    "   mleWB[i,6] = gof$cvmtest\n",
    "   mleWB[i,7] = gof$ad\n",
    "   mleWB[i,8] = gof$adtest\n",
    "}\n",
    "\n",
    "\n",
    "#mleWB[\"mean\"] = 1/mleWB$theta\n",
    "#mleWB[\"square\"] = mleWB$theta^2 \n",
    "#mleWB[\"var\"] = 1/mleWB$square\n",
    "#mleWB[\"sd\"] = sqrt(mleWB$var)"
   ]
  },
  {
   "cell_type": "code",
   "execution_count": 42,
   "metadata": {
    "collapsed": false
   },
   "outputs": [
    {
     "data": {
      "text/html": [
       "<ol class=list-inline>\n",
       "\t<li>1</li>\n",
       "\t<li>2</li>\n",
       "\t<li>3</li>\n",
       "\t<li>4</li>\n",
       "\t<li>5</li>\n",
       "\t<li>6</li>\n",
       "\t<li>7</li>\n",
       "\t<li>8</li>\n",
       "\t<li>9</li>\n",
       "\t<li>10</li>\n",
       "\t<li>11</li>\n",
       "\t<li>12</li>\n",
       "\t<li>31</li>\n",
       "\t<li>32</li>\n",
       "\t<li>33</li>\n",
       "\t<li>34</li>\n",
       "\t<li>35</li>\n",
       "\t<li>36</li>\n",
       "\t<li>37</li>\n",
       "\t<li>38</li>\n",
       "\t<li>39</li>\n",
       "\t<li>40</li>\n",
       "\t<li>41</li>\n",
       "\t<li>42</li>\n",
       "\t<li>57</li>\n",
       "\t<li>61</li>\n",
       "</ol>\n"
      ],
      "text/latex": [
       "\\begin{enumerate*}\n",
       "\\item 1\n",
       "\\item 2\n",
       "\\item 3\n",
       "\\item 4\n",
       "\\item 5\n",
       "\\item 6\n",
       "\\item 7\n",
       "\\item 8\n",
       "\\item 9\n",
       "\\item 10\n",
       "\\item 11\n",
       "\\item 12\n",
       "\\item 31\n",
       "\\item 32\n",
       "\\item 33\n",
       "\\item 34\n",
       "\\item 35\n",
       "\\item 36\n",
       "\\item 37\n",
       "\\item 38\n",
       "\\item 39\n",
       "\\item 40\n",
       "\\item 41\n",
       "\\item 42\n",
       "\\item 57\n",
       "\\item 61\n",
       "\\end{enumerate*}\n"
      ],
      "text/markdown": [
       "1. 1\n",
       "2. 2\n",
       "3. 3\n",
       "4. 4\n",
       "5. 5\n",
       "6. 6\n",
       "7. 7\n",
       "8. 8\n",
       "9. 9\n",
       "10. 10\n",
       "11. 11\n",
       "12. 12\n",
       "13. 31\n",
       "14. 32\n",
       "15. 33\n",
       "16. 34\n",
       "17. 35\n",
       "18. 36\n",
       "19. 37\n",
       "20. 38\n",
       "21. 39\n",
       "22. 40\n",
       "23. 41\n",
       "24. 42\n",
       "25. 57\n",
       "26. 61\n",
       "\n",
       "\n"
      ],
      "text/plain": [
       " [1]  1  2  3  4  5  6  7  8  9 10 11 12 31 32 33 34 35 36 37 38 39 40 41 42 57\n",
       "[26] 61"
      ]
     },
     "metadata": {},
     "output_type": "display_data"
    }
   ],
   "source": [
    "which(mleWB$KStest==\"rejected\")"
   ]
  },
  {
   "cell_type": "code",
   "execution_count": 43,
   "metadata": {
    "collapsed": false
   },
   "outputs": [
    {
     "data": {
      "text/plain": [
       "\n",
       "not rejected     rejected \n",
       "          87           26 "
      ]
     },
     "metadata": {},
     "output_type": "display_data"
    },
    {
     "data": {
      "text/plain": [
       "\n",
       "not rejected     rejected \n",
       "         112            1 "
      ]
     },
     "metadata": {},
     "output_type": "display_data"
    },
    {
     "data": {
      "text/plain": [
       "\n",
       "not rejected     rejected \n",
       "          63           50 "
      ]
     },
     "metadata": {},
     "output_type": "display_data"
    }
   ],
   "source": [
    "table(mleWB$KStest)\n",
    "table(mleExp$KStest)\n",
    "table(mleGamma$KStest)"
   ]
  },
  {
   "cell_type": "code",
   "execution_count": 44,
   "metadata": {
    "collapsed": false
   },
   "outputs": [
    {
     "data": {
      "text/html": [
       "<ol class=list-inline>\n",
       "\t<li>1</li>\n",
       "\t<li>2</li>\n",
       "\t<li>3</li>\n",
       "\t<li>4</li>\n",
       "\t<li>5</li>\n",
       "\t<li>6</li>\n",
       "\t<li>7</li>\n",
       "\t<li>8</li>\n",
       "\t<li>9</li>\n",
       "\t<li>10</li>\n",
       "\t<li>11</li>\n",
       "\t<li>12</li>\n",
       "\t<li>13</li>\n",
       "\t<li>27</li>\n",
       "\t<li>28</li>\n",
       "\t<li>30</li>\n",
       "\t<li>31</li>\n",
       "\t<li>32</li>\n",
       "\t<li>33</li>\n",
       "\t<li>34</li>\n",
       "\t<li>35</li>\n",
       "\t<li>36</li>\n",
       "\t<li>37</li>\n",
       "\t<li>38</li>\n",
       "\t<li>39</li>\n",
       "\t<li>40</li>\n",
       "\t<li>41</li>\n",
       "\t<li>42</li>\n",
       "\t<li>43</li>\n",
       "\t<li>48</li>\n",
       "\t<li>53</li>\n",
       "\t<li>54</li>\n",
       "\t<li>55</li>\n",
       "\t<li>56</li>\n",
       "\t<li>57</li>\n",
       "\t<li>58</li>\n",
       "\t<li>59</li>\n",
       "\t<li>60</li>\n",
       "\t<li>61</li>\n",
       "\t<li>62</li>\n",
       "\t<li>63</li>\n",
       "\t<li>64</li>\n",
       "\t<li>65</li>\n",
       "\t<li>73</li>\n",
       "\t<li>95</li>\n",
       "\t<li>96</li>\n",
       "\t<li>97</li>\n",
       "\t<li>98</li>\n",
       "\t<li>99</li>\n",
       "\t<li>113</li>\n",
       "</ol>\n"
      ],
      "text/latex": [
       "\\begin{enumerate*}\n",
       "\\item 1\n",
       "\\item 2\n",
       "\\item 3\n",
       "\\item 4\n",
       "\\item 5\n",
       "\\item 6\n",
       "\\item 7\n",
       "\\item 8\n",
       "\\item 9\n",
       "\\item 10\n",
       "\\item 11\n",
       "\\item 12\n",
       "\\item 13\n",
       "\\item 27\n",
       "\\item 28\n",
       "\\item 30\n",
       "\\item 31\n",
       "\\item 32\n",
       "\\item 33\n",
       "\\item 34\n",
       "\\item 35\n",
       "\\item 36\n",
       "\\item 37\n",
       "\\item 38\n",
       "\\item 39\n",
       "\\item 40\n",
       "\\item 41\n",
       "\\item 42\n",
       "\\item 43\n",
       "\\item 48\n",
       "\\item 53\n",
       "\\item 54\n",
       "\\item 55\n",
       "\\item 56\n",
       "\\item 57\n",
       "\\item 58\n",
       "\\item 59\n",
       "\\item 60\n",
       "\\item 61\n",
       "\\item 62\n",
       "\\item 63\n",
       "\\item 64\n",
       "\\item 65\n",
       "\\item 73\n",
       "\\item 95\n",
       "\\item 96\n",
       "\\item 97\n",
       "\\item 98\n",
       "\\item 99\n",
       "\\item 113\n",
       "\\end{enumerate*}\n"
      ],
      "text/markdown": [
       "1. 1\n",
       "2. 2\n",
       "3. 3\n",
       "4. 4\n",
       "5. 5\n",
       "6. 6\n",
       "7. 7\n",
       "8. 8\n",
       "9. 9\n",
       "10. 10\n",
       "11. 11\n",
       "12. 12\n",
       "13. 13\n",
       "14. 27\n",
       "15. 28\n",
       "16. 30\n",
       "17. 31\n",
       "18. 32\n",
       "19. 33\n",
       "20. 34\n",
       "21. 35\n",
       "22. 36\n",
       "23. 37\n",
       "24. 38\n",
       "25. 39\n",
       "26. 40\n",
       "27. 41\n",
       "28. 42\n",
       "29. 43\n",
       "30. 48\n",
       "31. 53\n",
       "32. 54\n",
       "33. 55\n",
       "34. 56\n",
       "35. 57\n",
       "36. 58\n",
       "37. 59\n",
       "38. 60\n",
       "39. 61\n",
       "40. 62\n",
       "41. 63\n",
       "42. 64\n",
       "43. 65\n",
       "44. 73\n",
       "45. 95\n",
       "46. 96\n",
       "47. 97\n",
       "48. 98\n",
       "49. 99\n",
       "50. 113\n",
       "\n",
       "\n"
      ],
      "text/plain": [
       " [1]   1   2   3   4   5   6   7   8   9  10  11  12  13  27  28  30  31  32  33\n",
       "[20]  34  35  36  37  38  39  40  41  42  43  48  53  54  55  56  57  58  59  60\n",
       "[39]  61  62  63  64  65  73  95  96  97  98  99 113"
      ]
     },
     "metadata": {},
     "output_type": "display_data"
    }
   ],
   "source": [
    "which(mleGamma$KStest==\"rejected\")"
   ]
  },
  {
   "cell_type": "code",
   "execution_count": 45,
   "metadata": {
    "collapsed": false
   },
   "outputs": [
    {
     "data": {
      "text/html": [
       "98"
      ],
      "text/latex": [
       "98"
      ],
      "text/markdown": [
       "98"
      ],
      "text/plain": [
       "[1] 98"
      ]
     },
     "metadata": {},
     "output_type": "display_data"
    }
   ],
   "source": [
    "which(mleExp$KStest==\"rejected\")"
   ]
  },
  {
   "cell_type": "code",
   "execution_count": 46,
   "metadata": {
    "collapsed": false
   },
   "outputs": [
    {
     "data": {
      "text/html": [
       "<table>\n",
       "<thead><tr><th scope=col>alpha</th><th scope=col>theta</th><th scope=col>KS</th><th scope=col>KStest</th><th scope=col>CvM</th><th scope=col>CvMtest</th><th scope=col>AD</th><th scope=col>ADtest</th><th scope=col>invTheta</th><th scope=col>mean</th><th scope=col>var</th><th scope=col>sd</th></tr></thead>\n",
       "<tbody>\n",
       "\t<tr><td>0.6474406  </td><td>0.005679314</td><td>0.1521824  </td><td>rejected   </td><td>0.7895008  </td><td>NA         </td><td>5.044678   </td><td>NA         </td><td>176.0776   </td><td>113.9998   </td><td>20072.81   </td><td>141.6785   </td></tr>\n",
       "\t<tr><td>0.6530769  </td><td>0.005623333</td><td>0.1630926  </td><td>rejected   </td><td>0.8874197  </td><td>NA         </td><td>5.433698   </td><td>NA         </td><td>177.8305   </td><td>116.1370   </td><td>20652.70   </td><td>143.7105   </td></tr>\n",
       "\t<tr><td>0.6005093  </td><td>0.004915726</td><td>0.1870250  </td><td>rejected   </td><td>1.1501432  </td><td>NA         </td><td>6.857243   </td><td>NA         </td><td>203.4288   </td><td>122.1609   </td><td>24851.03   </td><td>157.6421   </td></tr>\n",
       "\t<tr><td>0.5881354  </td><td>0.005017828</td><td>0.1871342  </td><td>rejected   </td><td>1.1042300  </td><td>NA         </td><td>6.549344   </td><td>NA         </td><td>199.2894   </td><td>117.2092   </td><td>23358.54   </td><td>152.8350   </td></tr>\n",
       "\t<tr><td>0.5286206  </td><td>0.004331709</td><td>0.2024560  </td><td>rejected   </td><td>1.2163282  </td><td>NA         </td><td>7.161606   </td><td>NA         </td><td>230.8558   </td><td>122.0351   </td><td>28172.52   </td><td>167.8467   </td></tr>\n",
       "\t<tr><td>0.4932175  </td><td>0.004124360</td><td>0.2103536  </td><td>rejected   </td><td>1.1408949  </td><td>NA         </td><td>6.700025   </td><td>NA         </td><td>242.4619   </td><td>119.5865   </td><td>28995.16   </td><td>170.2796   </td></tr>\n",
       "</tbody>\n",
       "</table>\n"
      ],
      "text/latex": [
       "\\begin{tabular}{r|llllllllllll}\n",
       " alpha & theta & KS & KStest & CvM & CvMtest & AD & ADtest & invTheta & mean & var & sd\\\\\n",
       "\\hline\n",
       "\t 0.6474406   & 0.005679314 & 0.1521824   & rejected    & 0.7895008   & NA          & 5.044678    & NA          & 176.0776    & 113.9998    & 20072.81    & 141.6785   \\\\\n",
       "\t 0.6530769   & 0.005623333 & 0.1630926   & rejected    & 0.8874197   & NA          & 5.433698    & NA          & 177.8305    & 116.1370    & 20652.70    & 143.7105   \\\\\n",
       "\t 0.6005093   & 0.004915726 & 0.1870250   & rejected    & 1.1501432   & NA          & 6.857243    & NA          & 203.4288    & 122.1609    & 24851.03    & 157.6421   \\\\\n",
       "\t 0.5881354   & 0.005017828 & 0.1871342   & rejected    & 1.1042300   & NA          & 6.549344    & NA          & 199.2894    & 117.2092    & 23358.54    & 152.8350   \\\\\n",
       "\t 0.5286206   & 0.004331709 & 0.2024560   & rejected    & 1.2163282   & NA          & 7.161606    & NA          & 230.8558    & 122.0351    & 28172.52    & 167.8467   \\\\\n",
       "\t 0.4932175   & 0.004124360 & 0.2103536   & rejected    & 1.1408949   & NA          & 6.700025    & NA          & 242.4619    & 119.5865    & 28995.16    & 170.2796   \\\\\n",
       "\\end{tabular}\n"
      ],
      "text/plain": [
       "  alpha     theta       KS        KStest   CvM       CvMtest AD       ADtest\n",
       "1 0.6474406 0.005679314 0.1521824 rejected 0.7895008 NA      5.044678 NA    \n",
       "2 0.6530769 0.005623333 0.1630926 rejected 0.8874197 NA      5.433698 NA    \n",
       "3 0.6005093 0.004915726 0.1870250 rejected 1.1501432 NA      6.857243 NA    \n",
       "4 0.5881354 0.005017828 0.1871342 rejected 1.1042300 NA      6.549344 NA    \n",
       "5 0.5286206 0.004331709 0.2024560 rejected 1.2163282 NA      7.161606 NA    \n",
       "6 0.4932175 0.004124360 0.2103536 rejected 1.1408949 NA      6.700025 NA    \n",
       "  invTheta mean     var      sd      \n",
       "1 176.0776 113.9998 20072.81 141.6785\n",
       "2 177.8305 116.1370 20652.70 143.7105\n",
       "3 203.4288 122.1609 24851.03 157.6421\n",
       "4 199.2894 117.2092 23358.54 152.8350\n",
       "5 230.8558 122.0351 28172.52 167.8467\n",
       "6 242.4619 119.5865 28995.16 170.2796"
      ]
     },
     "metadata": {},
     "output_type": "display_data"
    }
   ],
   "source": [
    "head(mleGamma)"
   ]
  },
  {
   "cell_type": "code",
   "execution_count": 47,
   "metadata": {
    "collapsed": false
   },
   "outputs": [
    {
     "data": {
      "text/html": [
       "<table>\n",
       "<thead><tr><th scope=col>theta</th><th scope=col>KS</th><th scope=col>KStest</th><th scope=col>CvM</th><th scope=col>CvMtest</th><th scope=col>AD</th><th scope=col>ADtest</th><th scope=col>mean</th><th scope=col>square</th><th scope=col>var</th><th scope=col>sd</th></tr></thead>\n",
       "<tbody>\n",
       "\t<tr><td>0.008773886 </td><td>0.06090150  </td><td>not rejected</td><td>0.07973956  </td><td>not rejected</td><td>2.414923    </td><td>rejected    </td><td>113.9746    </td><td>7.698108e-05</td><td>12990.20    </td><td>113.9746    </td></tr>\n",
       "\t<tr><td>0.008609368 </td><td>0.07579102  </td><td>not rejected</td><td>0.12467181  </td><td>not rejected</td><td>2.630620    </td><td>rejected    </td><td>116.1525    </td><td>7.412121e-05</td><td>13491.41    </td><td>116.1525    </td></tr>\n",
       "\t<tr><td>0.008185349 </td><td>0.07913885  </td><td>not rejected</td><td>0.13130519  </td><td>not rejected</td><td>3.605546    </td><td>rejected    </td><td>122.1695    </td><td>6.699994e-05</td><td>14925.39    </td><td>122.1695    </td></tr>\n",
       "\t<tr><td>0.008531427 </td><td>0.07106623  </td><td>not rejected</td><td>0.11643453  </td><td>not rejected</td><td>3.543398    </td><td>rejected    </td><td>117.2137    </td><td>7.278525e-05</td><td>13739.05    </td><td>117.2137    </td></tr>\n",
       "\t<tr><td>0.008193247 </td><td>0.06417898  </td><td>not rejected</td><td>0.07447672  </td><td>not rejected</td><td>4.588688    </td><td>rejected    </td><td>122.0517    </td><td>6.712930e-05</td><td>14896.62    </td><td>122.0517    </td></tr>\n",
       "\t<tr><td>0.008358541 </td><td>0.06666583  </td><td>not rejected</td><td>0.05545958  </td><td>not rejected</td><td>4.987563    </td><td>rejected    </td><td>119.6381    </td><td>6.986521e-05</td><td>14313.28    </td><td>119.6381    </td></tr>\n",
       "</tbody>\n",
       "</table>\n"
      ],
      "text/latex": [
       "\\begin{tabular}{r|lllllllllll}\n",
       " theta & KS & KStest & CvM & CvMtest & AD & ADtest & mean & square & var & sd\\\\\n",
       "\\hline\n",
       "\t 0.008773886  & 0.06090150   & not rejected & 0.07973956   & not rejected & 2.414923     & rejected     & 113.9746     & 7.698108e-05 & 12990.20     & 113.9746    \\\\\n",
       "\t 0.008609368  & 0.07579102   & not rejected & 0.12467181   & not rejected & 2.630620     & rejected     & 116.1525     & 7.412121e-05 & 13491.41     & 116.1525    \\\\\n",
       "\t 0.008185349  & 0.07913885   & not rejected & 0.13130519   & not rejected & 3.605546     & rejected     & 122.1695     & 6.699994e-05 & 14925.39     & 122.1695    \\\\\n",
       "\t 0.008531427  & 0.07106623   & not rejected & 0.11643453   & not rejected & 3.543398     & rejected     & 117.2137     & 7.278525e-05 & 13739.05     & 117.2137    \\\\\n",
       "\t 0.008193247  & 0.06417898   & not rejected & 0.07447672   & not rejected & 4.588688     & rejected     & 122.0517     & 6.712930e-05 & 14896.62     & 122.0517    \\\\\n",
       "\t 0.008358541  & 0.06666583   & not rejected & 0.05545958   & not rejected & 4.987563     & rejected     & 119.6381     & 6.986521e-05 & 14313.28     & 119.6381    \\\\\n",
       "\\end{tabular}\n"
      ],
      "text/plain": [
       "  theta       KS         KStest       CvM        CvMtest      AD       ADtest  \n",
       "1 0.008773886 0.06090150 not rejected 0.07973956 not rejected 2.414923 rejected\n",
       "2 0.008609368 0.07579102 not rejected 0.12467181 not rejected 2.630620 rejected\n",
       "3 0.008185349 0.07913885 not rejected 0.13130519 not rejected 3.605546 rejected\n",
       "4 0.008531427 0.07106623 not rejected 0.11643453 not rejected 3.543398 rejected\n",
       "5 0.008193247 0.06417898 not rejected 0.07447672 not rejected 4.588688 rejected\n",
       "6 0.008358541 0.06666583 not rejected 0.05545958 not rejected 4.987563 rejected\n",
       "  mean     square       var      sd      \n",
       "1 113.9746 7.698108e-05 12990.20 113.9746\n",
       "2 116.1525 7.412121e-05 13491.41 116.1525\n",
       "3 122.1695 6.699994e-05 14925.39 122.1695\n",
       "4 117.2137 7.278525e-05 13739.05 117.2137\n",
       "5 122.0517 6.712930e-05 14896.62 122.0517\n",
       "6 119.6381 6.986521e-05 14313.28 119.6381"
      ]
     },
     "metadata": {},
     "output_type": "display_data"
    }
   ],
   "source": [
    "head(mleExp)"
   ]
  },
  {
   "cell_type": "code",
   "execution_count": 48,
   "metadata": {
    "collapsed": false
   },
   "outputs": [],
   "source": [
    "trueEst = NULL\n",
    "for(i in 1:nrow(mleExp)){\n",
    "    if(mleExp$KStest[i] == \"not rejected\" & mleGamma$KStest[i] == \"not rejected\"){\n",
    "        trueEst = c(trueEst,\"plot\")\n",
    "    }\n",
    "    if(mleExp$KStest[i] == \"not rejected\" & mleGamma$KStest[i] == \"rejected\"){\n",
    "        trueEst = c(trueEst,\"exp\")\n",
    "    }\n",
    "    if(mleExp$KStest[i] == \"rejected\" & mleGamma$KStest[i] == \"not rejected\"){\n",
    "        trueEst = c(trueEst,\"gamma\")\n",
    "    }\n",
    "    if(mleExp$KStest[i] == \"rejected\" & mleGamma$KStest[i] == \"rejected\"){\n",
    "        trueEst = c(trueEst,\"fail\")\n",
    "    }\n",
    "}"
   ]
  },
  {
   "cell_type": "code",
   "execution_count": 49,
   "metadata": {
    "collapsed": false
   },
   "outputs": [
    {
     "data": {
      "text/plain": [
       "trueEst\n",
       " exp fail plot \n",
       "  49    1   63 "
      ]
     },
     "metadata": {},
     "output_type": "display_data"
    },
    {
     "name": "stdout",
     "output_type": "stream",
     "text": [
      "\n",
      "not rejected     rejected \n",
      "          87           26 \n"
     ]
    }
   ],
   "source": [
    "table(trueEst)\n",
    "print(table(mleWB$KStest))"
   ]
  },
  {
   "cell_type": "code",
   "execution_count": 50,
   "metadata": {
    "collapsed": false
   },
   "outputs": [
    {
     "data": {
      "text/html": [
       "<ol class=list-inline>\n",
       "\t<li>FALSE</li>\n",
       "\t<li>FALSE</li>\n",
       "\t<li>FALSE</li>\n",
       "\t<li>FALSE</li>\n",
       "\t<li>FALSE</li>\n",
       "\t<li>FALSE</li>\n",
       "\t<li>FALSE</li>\n",
       "\t<li>FALSE</li>\n",
       "\t<li>FALSE</li>\n",
       "\t<li>FALSE</li>\n",
       "\t<li>FALSE</li>\n",
       "\t<li>FALSE</li>\n",
       "\t<li>FALSE</li>\n",
       "\t<li>FALSE</li>\n",
       "\t<li>FALSE</li>\n",
       "\t<li>FALSE</li>\n",
       "\t<li>FALSE</li>\n",
       "\t<li>FALSE</li>\n",
       "\t<li>FALSE</li>\n",
       "\t<li>FALSE</li>\n",
       "\t<li>FALSE</li>\n",
       "\t<li>FALSE</li>\n",
       "\t<li>FALSE</li>\n",
       "\t<li>FALSE</li>\n",
       "\t<li>FALSE</li>\n",
       "\t<li>FALSE</li>\n",
       "</ol>\n"
      ],
      "text/latex": [
       "\\begin{enumerate*}\n",
       "\\item FALSE\n",
       "\\item FALSE\n",
       "\\item FALSE\n",
       "\\item FALSE\n",
       "\\item FALSE\n",
       "\\item FALSE\n",
       "\\item FALSE\n",
       "\\item FALSE\n",
       "\\item FALSE\n",
       "\\item FALSE\n",
       "\\item FALSE\n",
       "\\item FALSE\n",
       "\\item FALSE\n",
       "\\item FALSE\n",
       "\\item FALSE\n",
       "\\item FALSE\n",
       "\\item FALSE\n",
       "\\item FALSE\n",
       "\\item FALSE\n",
       "\\item FALSE\n",
       "\\item FALSE\n",
       "\\item FALSE\n",
       "\\item FALSE\n",
       "\\item FALSE\n",
       "\\item FALSE\n",
       "\\item FALSE\n",
       "\\end{enumerate*}\n"
      ],
      "text/markdown": [
       "1. FALSE\n",
       "2. FALSE\n",
       "3. FALSE\n",
       "4. FALSE\n",
       "5. FALSE\n",
       "6. FALSE\n",
       "7. FALSE\n",
       "8. FALSE\n",
       "9. FALSE\n",
       "10. FALSE\n",
       "11. FALSE\n",
       "12. FALSE\n",
       "13. FALSE\n",
       "14. FALSE\n",
       "15. FALSE\n",
       "16. FALSE\n",
       "17. FALSE\n",
       "18. FALSE\n",
       "19. FALSE\n",
       "20. FALSE\n",
       "21. FALSE\n",
       "22. FALSE\n",
       "23. FALSE\n",
       "24. FALSE\n",
       "25. FALSE\n",
       "26. FALSE\n",
       "\n",
       "\n"
      ],
      "text/plain": [
       " [1] FALSE FALSE FALSE FALSE FALSE FALSE FALSE FALSE FALSE FALSE FALSE FALSE\n",
       "[13] FALSE FALSE FALSE FALSE FALSE FALSE FALSE FALSE FALSE FALSE FALSE FALSE\n",
       "[25] FALSE FALSE"
      ]
     },
     "metadata": {},
     "output_type": "display_data"
    }
   ],
   "source": [
    "mleGamma[which(mleWB$KStest==\"rejected\"),\"KStest\"] == \"not rejected\""
   ]
  },
  {
   "cell_type": "code",
   "execution_count": 51,
   "metadata": {
    "collapsed": false
   },
   "outputs": [
    {
     "data": {
      "text/html": [
       "<ol class=list-inline>\n",
       "\t<li>TRUE</li>\n",
       "\t<li>TRUE</li>\n",
       "\t<li>TRUE</li>\n",
       "\t<li>TRUE</li>\n",
       "\t<li>TRUE</li>\n",
       "\t<li>TRUE</li>\n",
       "\t<li>TRUE</li>\n",
       "\t<li>TRUE</li>\n",
       "\t<li>TRUE</li>\n",
       "\t<li>TRUE</li>\n",
       "\t<li>TRUE</li>\n",
       "\t<li>TRUE</li>\n",
       "\t<li>TRUE</li>\n",
       "\t<li>TRUE</li>\n",
       "\t<li>TRUE</li>\n",
       "\t<li>TRUE</li>\n",
       "\t<li>TRUE</li>\n",
       "\t<li>TRUE</li>\n",
       "\t<li>TRUE</li>\n",
       "\t<li>TRUE</li>\n",
       "\t<li>TRUE</li>\n",
       "\t<li>TRUE</li>\n",
       "\t<li>TRUE</li>\n",
       "\t<li>TRUE</li>\n",
       "\t<li>TRUE</li>\n",
       "\t<li>TRUE</li>\n",
       "</ol>\n"
      ],
      "text/latex": [
       "\\begin{enumerate*}\n",
       "\\item TRUE\n",
       "\\item TRUE\n",
       "\\item TRUE\n",
       "\\item TRUE\n",
       "\\item TRUE\n",
       "\\item TRUE\n",
       "\\item TRUE\n",
       "\\item TRUE\n",
       "\\item TRUE\n",
       "\\item TRUE\n",
       "\\item TRUE\n",
       "\\item TRUE\n",
       "\\item TRUE\n",
       "\\item TRUE\n",
       "\\item TRUE\n",
       "\\item TRUE\n",
       "\\item TRUE\n",
       "\\item TRUE\n",
       "\\item TRUE\n",
       "\\item TRUE\n",
       "\\item TRUE\n",
       "\\item TRUE\n",
       "\\item TRUE\n",
       "\\item TRUE\n",
       "\\item TRUE\n",
       "\\item TRUE\n",
       "\\end{enumerate*}\n"
      ],
      "text/markdown": [
       "1. TRUE\n",
       "2. TRUE\n",
       "3. TRUE\n",
       "4. TRUE\n",
       "5. TRUE\n",
       "6. TRUE\n",
       "7. TRUE\n",
       "8. TRUE\n",
       "9. TRUE\n",
       "10. TRUE\n",
       "11. TRUE\n",
       "12. TRUE\n",
       "13. TRUE\n",
       "14. TRUE\n",
       "15. TRUE\n",
       "16. TRUE\n",
       "17. TRUE\n",
       "18. TRUE\n",
       "19. TRUE\n",
       "20. TRUE\n",
       "21. TRUE\n",
       "22. TRUE\n",
       "23. TRUE\n",
       "24. TRUE\n",
       "25. TRUE\n",
       "26. TRUE\n",
       "\n",
       "\n"
      ],
      "text/plain": [
       " [1] TRUE TRUE TRUE TRUE TRUE TRUE TRUE TRUE TRUE TRUE TRUE TRUE TRUE TRUE TRUE\n",
       "[16] TRUE TRUE TRUE TRUE TRUE TRUE TRUE TRUE TRUE TRUE TRUE"
      ]
     },
     "metadata": {},
     "output_type": "display_data"
    }
   ],
   "source": [
    "mleExp[which(mleWB$KStest==\"rejected\"),\"KStest\"] == \"not rejected\""
   ]
  },
  {
   "cell_type": "code",
   "execution_count": 52,
   "metadata": {
    "collapsed": false
   },
   "outputs": [
    {
     "data": {
      "text/html": [
       "<ol class=list-inline>\n",
       "\t<li>1</li>\n",
       "\t<li>2</li>\n",
       "\t<li>3</li>\n",
       "\t<li>4</li>\n",
       "\t<li>5</li>\n",
       "\t<li>6</li>\n",
       "\t<li>7</li>\n",
       "\t<li>8</li>\n",
       "\t<li>9</li>\n",
       "\t<li>10</li>\n",
       "\t<li>11</li>\n",
       "\t<li>12</li>\n",
       "\t<li>31</li>\n",
       "\t<li>32</li>\n",
       "\t<li>33</li>\n",
       "\t<li>34</li>\n",
       "\t<li>35</li>\n",
       "\t<li>36</li>\n",
       "\t<li>37</li>\n",
       "\t<li>38</li>\n",
       "\t<li>39</li>\n",
       "\t<li>40</li>\n",
       "\t<li>41</li>\n",
       "\t<li>42</li>\n",
       "\t<li>57</li>\n",
       "\t<li>61</li>\n",
       "</ol>\n"
      ],
      "text/latex": [
       "\\begin{enumerate*}\n",
       "\\item 1\n",
       "\\item 2\n",
       "\\item 3\n",
       "\\item 4\n",
       "\\item 5\n",
       "\\item 6\n",
       "\\item 7\n",
       "\\item 8\n",
       "\\item 9\n",
       "\\item 10\n",
       "\\item 11\n",
       "\\item 12\n",
       "\\item 31\n",
       "\\item 32\n",
       "\\item 33\n",
       "\\item 34\n",
       "\\item 35\n",
       "\\item 36\n",
       "\\item 37\n",
       "\\item 38\n",
       "\\item 39\n",
       "\\item 40\n",
       "\\item 41\n",
       "\\item 42\n",
       "\\item 57\n",
       "\\item 61\n",
       "\\end{enumerate*}\n"
      ],
      "text/markdown": [
       "1. 1\n",
       "2. 2\n",
       "3. 3\n",
       "4. 4\n",
       "5. 5\n",
       "6. 6\n",
       "7. 7\n",
       "8. 8\n",
       "9. 9\n",
       "10. 10\n",
       "11. 11\n",
       "12. 12\n",
       "13. 31\n",
       "14. 32\n",
       "15. 33\n",
       "16. 34\n",
       "17. 35\n",
       "18. 36\n",
       "19. 37\n",
       "20. 38\n",
       "21. 39\n",
       "22. 40\n",
       "23. 41\n",
       "24. 42\n",
       "25. 57\n",
       "26. 61\n",
       "\n",
       "\n"
      ],
      "text/plain": [
       " [1]  1  2  3  4  5  6  7  8  9 10 11 12 31 32 33 34 35 36 37 38 39 40 41 42 57\n",
       "[26] 61"
      ]
     },
     "metadata": {},
     "output_type": "display_data"
    }
   ],
   "source": [
    "which(mleWB$KStest==\"rejected\")"
   ]
  },
  {
   "cell_type": "code",
   "execution_count": 53,
   "metadata": {
    "collapsed": false
   },
   "outputs": [
    {
     "data": {
      "image/png": "[encoded data removed]",
      "text/plain": [
       "Plot with title \"P-P plot\""
      ]
     },
     "metadata": {},
     "output_type": "display_data"
    }
   ],
   "source": [
    "testDist = na.omit(max_PRCP[,1])\n",
    "\n",
    "    for(j in 1:length(testDist)){\n",
    "        if(testDist[j] < .1){\n",
    "        testDist[j]=.0001\n",
    "        }\n",
    "    }\n",
    "\n",
    "plot(fitdist(as.vector(testDist),\"weibull\",method = \"mle\"))"
   ]
  },
  {
   "cell_type": "code",
   "execution_count": 54,
   "metadata": {
    "collapsed": false
   },
   "outputs": [
    {
     "data": {
      "text/html": [
       "'rejected'"
      ],
      "text/latex": [
       "'rejected'"
      ],
      "text/markdown": [
       "'rejected'"
      ],
      "text/plain": [
       "[1] \"rejected\""
      ]
     },
     "metadata": {},
     "output_type": "display_data"
    },
    {
     "data": {
      "text/html": [
       "'not rejected'"
      ],
      "text/latex": [
       "'not rejected'"
      ],
      "text/markdown": [
       "'not rejected'"
      ],
      "text/plain": [
       "[1] \"not rejected\""
      ]
     },
     "metadata": {},
     "output_type": "display_data"
    },
    {
     "data": {
      "text/html": [
       "'rejected'"
      ],
      "text/latex": [
       "'rejected'"
      ],
      "text/markdown": [
       "'rejected'"
      ],
      "text/plain": [
       "[1] \"rejected\""
      ]
     },
     "metadata": {},
     "output_type": "display_data"
    }
   ],
   "source": [
    "mleGamma[1,\"KStest\"];mleExp[1,\"KStest\"];mleWB[1,\"KStest\"]"
   ]
  },
  {
   "cell_type": "code",
   "execution_count": 55,
   "metadata": {
    "collapsed": false
   },
   "outputs": [
    {
     "data": {
      "image/png": "[encoded data removed]",
      "text/plain": [
       "Plot with title \"P-P plot\""
      ]
     },
     "metadata": {},
     "output_type": "display_data"
    }
   ],
   "source": [
    "testDist = na.omit(max_PRCP[,1])\n",
    "\n",
    "    for(j in 1:length(testDist)){\n",
    "        if(testDist[j] < .1){\n",
    "        testDist[j]=.0001\n",
    "        }\n",
    "    }\n",
    "\n",
    "fw = fitdist(as.vector(testDist), \"weibull\", method=\"mle\")\n",
    "fg = fitdist(as.vector(testDist), \"exp\", method=\"mle\")\n",
    "fln = fitdist(as.vector(testDist), \"gamma\", method=\"mle\")\n",
    "par(mfrow = c(2, 2))\n",
    "plot.legend <- c(\"Weibull\", \"exp\", \"gamma\")\n",
    "denscomp(list(fw, fln, fg), legendtext = plot.legend)\n",
    "qqcomp(list(fw, fln, fg), legendtext = plot.legend)\n",
    "cdfcomp(list(fw, fln, fg), legendtext = plot.legend)\n",
    "ppcomp(list(fw, fln, fg), legendtext = plot.legend)"
   ]
  },
  {
   "cell_type": "code",
   "execution_count": 56,
   "metadata": {
    "collapsed": false
   },
   "outputs": [
    {
     "data": {
      "text/html": [
       "'rejected'"
      ],
      "text/latex": [
       "'rejected'"
      ],
      "text/markdown": [
       "'rejected'"
      ],
      "text/plain": [
       "[1] \"rejected\""
      ]
     },
     "metadata": {},
     "output_type": "display_data"
    },
    {
     "data": {
      "text/html": [
       "'not rejected'"
      ],
      "text/latex": [
       "'not rejected'"
      ],
      "text/markdown": [
       "'not rejected'"
      ],
      "text/plain": [
       "[1] \"not rejected\""
      ]
     },
     "metadata": {},
     "output_type": "display_data"
    },
    {
     "data": {
      "text/html": [
       "'rejected'"
      ],
      "text/latex": [
       "'rejected'"
      ],
      "text/markdown": [
       "'rejected'"
      ],
      "text/plain": [
       "[1] \"rejected\""
      ]
     },
     "metadata": {},
     "output_type": "display_data"
    }
   ],
   "source": [
    "mleGamma[2,\"KStest\"];mleExp[2,\"KStest\"];mleWB[2,\"KStest\"]"
   ]
  },
  {
   "cell_type": "code",
   "execution_count": 57,
   "metadata": {
    "collapsed": false
   },
   "outputs": [
    {
     "data": {
      "text/html": [
       "'rejected'"
      ],
      "text/latex": [
       "'rejected'"
      ],
      "text/markdown": [
       "'rejected'"
      ],
      "text/plain": [
       "[1] \"rejected\""
      ]
     },
     "metadata": {},
     "output_type": "display_data"
    },
    {
     "data": {
      "text/html": [
       "'not rejected'"
      ],
      "text/latex": [
       "'not rejected'"
      ],
      "text/markdown": [
       "'not rejected'"
      ],
      "text/plain": [
       "[1] \"not rejected\""
      ]
     },
     "metadata": {},
     "output_type": "display_data"
    },
    {
     "data": {
      "text/html": [
       "'rejected'"
      ],
      "text/latex": [
       "'rejected'"
      ],
      "text/markdown": [
       "'rejected'"
      ],
      "text/plain": [
       "[1] \"rejected\""
      ]
     },
     "metadata": {},
     "output_type": "display_data"
    }
   ],
   "source": [
    "mleGamma[3,\"KStest\"];mleExp[3,\"KStest\"];mleWB[3,\"KStest\"]"
   ]
  },
  {
   "cell_type": "code",
   "execution_count": 58,
   "metadata": {
    "collapsed": false
   },
   "outputs": [
    {
     "data": {
      "image/png": "[encoded data removed]",
      "text/plain": [
       "Plot with title \"P-P plot\""
      ]
     },
     "metadata": {},
     "output_type": "display_data"
    }
   ],
   "source": [
    "testDist = na.omit(max_PRCP[,3])\n",
    "\n",
    "    for(j in 1:length(testDist)){\n",
    "        if(testDist[j] < .1){\n",
    "        testDist[j]=.0001\n",
    "        }\n",
    "    }\n",
    "\n",
    "fw = fitdist(as.vector(testDist), \"weibull\", method=\"mle\")\n",
    "fg = fitdist(as.vector(testDist), \"exp\", method=\"mle\")\n",
    "fln = fitdist(as.vector(testDist), \"gamma\", method=\"mle\")\n",
    "par(mfrow = c(2, 2))\n",
    "plot.legend <- c(\"Weibull\", \"exp\", \"gamma\")\n",
    "denscomp(list(fw, fln, fg), legendtext = plot.legend)\n",
    "qqcomp(list(fw, fln, fg), legendtext = plot.legend)\n",
    "cdfcomp(list(fw, fln, fg), legendtext = plot.legend)\n",
    "ppcomp(list(fw, fln, fg), legendtext = plot.legend)"
   ]
  },
  {
   "cell_type": "code",
   "execution_count": 59,
   "metadata": {
    "collapsed": false
   },
   "outputs": [
    {
     "data": {
      "text/html": [
       "'not rejected'"
      ],
      "text/latex": [
       "'not rejected'"
      ],
      "text/markdown": [
       "'not rejected'"
      ],
      "text/plain": [
       "[1] \"not rejected\""
      ]
     },
     "metadata": {},
     "output_type": "display_data"
    },
    {
     "data": {
      "text/html": [
       "'not rejected'"
      ],
      "text/latex": [
       "'not rejected'"
      ],
      "text/markdown": [
       "'not rejected'"
      ],
      "text/plain": [
       "[1] \"not rejected\""
      ]
     },
     "metadata": {},
     "output_type": "display_data"
    },
    {
     "data": {
      "text/html": [
       "'not rejected'"
      ],
      "text/latex": [
       "'not rejected'"
      ],
      "text/markdown": [
       "'not rejected'"
      ],
      "text/plain": [
       "[1] \"not rejected\""
      ]
     },
     "metadata": {},
     "output_type": "display_data"
    }
   ],
   "source": [
    "mleGamma[45,\"KStest\"];mleExp[45,\"KStest\"];mleWB[45,\"KStest\"]"
   ]
  },
  {
   "cell_type": "code",
   "execution_count": 60,
   "metadata": {
    "collapsed": false
   },
   "outputs": [
    {
     "data": {
      "image/png": "[encoded data removed]",
      "text/plain": [
       "Plot with title \"P-P plot\""
      ]
     },
     "metadata": {},
     "output_type": "display_data"
    }
   ],
   "source": [
    "testDist = na.omit(max_PRCP[,45])\n",
    "\n",
    "    for(j in 1:length(testDist)){\n",
    "        if(testDist[j] < .1){\n",
    "        testDist[j]=.0001\n",
    "        }\n",
    "    }\n",
    "\n",
    "fw = fitdist(as.vector(testDist), \"weibull\", method=\"mle\")\n",
    "fg = fitdist(as.vector(testDist), \"exp\", method=\"mle\")\n",
    "fln = fitdist(as.vector(testDist), \"gamma\", method=\"mle\")\n",
    "par(mfrow = c(2, 2))\n",
    "plot.legend <- c(\"Weibull\", \"exp\", \"gamma\")\n",
    "denscomp(list(fw, fln, fg), legendtext = plot.legend)\n",
    "qqcomp(list(fw, fln, fg), legendtext = plot.legend)\n",
    "cdfcomp(list(fw, fln, fg), legendtext = plot.legend)\n",
    "ppcomp(list(fw, fln, fg), legendtext = plot.legend)"
   ]
  },
  {
   "cell_type": "markdown",
   "metadata": {},
   "source": [
    "Tried failed fits with normal distribution"
   ]
  },
  {
   "cell_type": "code",
   "execution_count": 61,
   "metadata": {
    "collapsed": false
   },
   "outputs": [
    {
     "data": {
      "image/png": "[encoded data removed]",
      "text/plain": [
       "Plot with title \"P-P plot\""
      ]
     },
     "metadata": {},
     "output_type": "display_data"
    }
   ],
   "source": [
    "testDist = na.omit(max_PRCP[,45])\n",
    "\n",
    "    for(j in 1:length(testDist)){\n",
    "        if(testDist[j] < .1){\n",
    "        testDist[j]=.0001\n",
    "        }\n",
    "    }\n",
    "\n",
    "fw = fitdist(as.vector(testDist), \"weibull\", method=\"mle\")\n",
    "fg = fitdist(as.vector(testDist), \"exp\", method=\"mle\")\n",
    "fln = fitdist(as.vector(testDist), \"gamma\", method=\"mle\")\n",
    "norm = fitdist(as.vector(testDist), \"norm\", method=\"mle\")\n",
    "\n",
    "par(mfrow = c(2, 2))\n",
    "plot.legend <- c(\"Weibull\", \"exp\", \"gamma\",\"normal\")\n",
    "denscomp(list(fw, fln, fg,norm), legendtext = plot.legend)\n",
    "qqcomp(list(fw, fln, fg,norm), legendtext = plot.legend)\n",
    "cdfcomp(list(fw, fln, fg,norm), legendtext = plot.legend)\n",
    "ppcomp(list(fw, fln, fg,norm), legendtext = plot.legend)"
   ]
  },
  {
   "cell_type": "markdown",
   "metadata": {},
   "source": [
    "Try good fits with normal distribution"
   ]
  },
  {
   "cell_type": "code",
   "execution_count": 62,
   "metadata": {
    "collapsed": false
   },
   "outputs": [
    {
     "data": {
      "image/png": "[encoded data removed]",
      "text/plain": [
       "Plot with title \"P-P plot\""
      ]
     },
     "metadata": {},
     "output_type": "display_data"
    }
   ],
   "source": [
    "testDist = na.omit(max_PRCP[,3])\n",
    "\n",
    "    for(j in 1:length(testDist)){\n",
    "        if(testDist[j] < .1){\n",
    "        testDist[j]=.0001\n",
    "        }\n",
    "    }\n",
    "\n",
    "fw = fitdist(as.vector(testDist), \"weibull\", method=\"mle\")\n",
    "fg = fitdist(as.vector(testDist), \"exp\", method=\"mle\")\n",
    "fln = fitdist(as.vector(testDist), \"gamma\", method=\"mle\")\n",
    "norm = fitdist(as.vector(testDist), \"norm\", method=\"mle\")\n",
    "\n",
    "par(mfrow = c(2, 2))\n",
    "plot.legend <- c(\"Weibull\", \"exp\", \"gamma\",\"normal\")\n",
    "denscomp(list(fw, fln, fg,norm), legendtext = plot.legend)\n",
    "qqcomp(list(fw, fln, fg,norm), legendtext = plot.legend)\n",
    "cdfcomp(list(fw, fln, fg,norm), legendtext = plot.legend)\n",
    "ppcomp(list(fw, fln, fg,norm), legendtext = plot.legend)"
   ]
  },
  {
   "cell_type": "code",
   "execution_count": 63,
   "metadata": {
    "collapsed": false
   },
   "outputs": [
    {
     "data": {
      "text/html": [
       "98"
      ],
      "text/latex": [
       "98"
      ],
      "text/markdown": [
       "98"
      ],
      "text/plain": [
       "[1] 98"
      ]
     },
     "metadata": {},
     "output_type": "display_data"
    }
   ],
   "source": [
    "which(trueEst==\"fail\")"
   ]
  },
  {
   "cell_type": "code",
   "execution_count": 64,
   "metadata": {
    "collapsed": false
   },
   "outputs": [
    {
     "data": {
      "text/html": [
       "<ol class=list-inline>\n",
       "\t<li>14</li>\n",
       "\t<li>15</li>\n",
       "\t<li>16</li>\n",
       "\t<li>17</li>\n",
       "\t<li>18</li>\n",
       "\t<li>19</li>\n",
       "\t<li>20</li>\n",
       "\t<li>21</li>\n",
       "\t<li>22</li>\n",
       "\t<li>23</li>\n",
       "\t<li>24</li>\n",
       "\t<li>25</li>\n",
       "\t<li>26</li>\n",
       "\t<li>29</li>\n",
       "\t<li>44</li>\n",
       "\t<li>45</li>\n",
       "\t<li>46</li>\n",
       "\t<li>47</li>\n",
       "\t<li>49</li>\n",
       "\t<li>50</li>\n",
       "\t<li>51</li>\n",
       "\t<li>52</li>\n",
       "\t<li>66</li>\n",
       "\t<li>67</li>\n",
       "\t<li>68</li>\n",
       "\t<li>69</li>\n",
       "\t<li>70</li>\n",
       "\t<li>71</li>\n",
       "\t<li>72</li>\n",
       "\t<li>74</li>\n",
       "\t<li>75</li>\n",
       "\t<li>76</li>\n",
       "\t<li>77</li>\n",
       "\t<li>78</li>\n",
       "\t<li>79</li>\n",
       "\t<li>80</li>\n",
       "\t<li>81</li>\n",
       "\t<li>82</li>\n",
       "\t<li>83</li>\n",
       "\t<li>84</li>\n",
       "\t<li>85</li>\n",
       "\t<li>86</li>\n",
       "\t<li>87</li>\n",
       "\t<li>88</li>\n",
       "\t<li>89</li>\n",
       "\t<li>90</li>\n",
       "\t<li>91</li>\n",
       "\t<li>92</li>\n",
       "\t<li>93</li>\n",
       "\t<li>94</li>\n",
       "\t<li>100</li>\n",
       "\t<li>101</li>\n",
       "\t<li>102</li>\n",
       "\t<li>103</li>\n",
       "\t<li>104</li>\n",
       "\t<li>105</li>\n",
       "\t<li>106</li>\n",
       "\t<li>107</li>\n",
       "\t<li>108</li>\n",
       "\t<li>109</li>\n",
       "\t<li>110</li>\n",
       "\t<li>111</li>\n",
       "\t<li>112</li>\n",
       "</ol>\n"
      ],
      "text/latex": [
       "\\begin{enumerate*}\n",
       "\\item 14\n",
       "\\item 15\n",
       "\\item 16\n",
       "\\item 17\n",
       "\\item 18\n",
       "\\item 19\n",
       "\\item 20\n",
       "\\item 21\n",
       "\\item 22\n",
       "\\item 23\n",
       "\\item 24\n",
       "\\item 25\n",
       "\\item 26\n",
       "\\item 29\n",
       "\\item 44\n",
       "\\item 45\n",
       "\\item 46\n",
       "\\item 47\n",
       "\\item 49\n",
       "\\item 50\n",
       "\\item 51\n",
       "\\item 52\n",
       "\\item 66\n",
       "\\item 67\n",
       "\\item 68\n",
       "\\item 69\n",
       "\\item 70\n",
       "\\item 71\n",
       "\\item 72\n",
       "\\item 74\n",
       "\\item 75\n",
       "\\item 76\n",
       "\\item 77\n",
       "\\item 78\n",
       "\\item 79\n",
       "\\item 80\n",
       "\\item 81\n",
       "\\item 82\n",
       "\\item 83\n",
       "\\item 84\n",
       "\\item 85\n",
       "\\item 86\n",
       "\\item 87\n",
       "\\item 88\n",
       "\\item 89\n",
       "\\item 90\n",
       "\\item 91\n",
       "\\item 92\n",
       "\\item 93\n",
       "\\item 94\n",
       "\\item 100\n",
       "\\item 101\n",
       "\\item 102\n",
       "\\item 103\n",
       "\\item 104\n",
       "\\item 105\n",
       "\\item 106\n",
       "\\item 107\n",
       "\\item 108\n",
       "\\item 109\n",
       "\\item 110\n",
       "\\item 111\n",
       "\\item 112\n",
       "\\end{enumerate*}\n"
      ],
      "text/markdown": [
       "1. 14\n",
       "2. 15\n",
       "3. 16\n",
       "4. 17\n",
       "5. 18\n",
       "6. 19\n",
       "7. 20\n",
       "8. 21\n",
       "9. 22\n",
       "10. 23\n",
       "11. 24\n",
       "12. 25\n",
       "13. 26\n",
       "14. 29\n",
       "15. 44\n",
       "16. 45\n",
       "17. 46\n",
       "18. 47\n",
       "19. 49\n",
       "20. 50\n",
       "21. 51\n",
       "22. 52\n",
       "23. 66\n",
       "24. 67\n",
       "25. 68\n",
       "26. 69\n",
       "27. 70\n",
       "28. 71\n",
       "29. 72\n",
       "30. 74\n",
       "31. 75\n",
       "32. 76\n",
       "33. 77\n",
       "34. 78\n",
       "35. 79\n",
       "36. 80\n",
       "37. 81\n",
       "38. 82\n",
       "39. 83\n",
       "40. 84\n",
       "41. 85\n",
       "42. 86\n",
       "43. 87\n",
       "44. 88\n",
       "45. 89\n",
       "46. 90\n",
       "47. 91\n",
       "48. 92\n",
       "49. 93\n",
       "50. 94\n",
       "51. 100\n",
       "52. 101\n",
       "53. 102\n",
       "54. 103\n",
       "55. 104\n",
       "56. 105\n",
       "57. 106\n",
       "58. 107\n",
       "59. 108\n",
       "60. 109\n",
       "61. 110\n",
       "62. 111\n",
       "63. 112\n",
       "\n",
       "\n"
      ],
      "text/plain": [
       " [1]  14  15  16  17  18  19  20  21  22  23  24  25  26  29  44  45  46  47  49\n",
       "[20]  50  51  52  66  67  68  69  70  71  72  74  75  76  77  78  79  80  81  82\n",
       "[39]  83  84  85  86  87  88  89  90  91  92  93  94 100 101 102 103 104 105 106\n",
       "[58] 107 108 109 110 111 112"
      ]
     },
     "metadata": {},
     "output_type": "display_data"
    }
   ],
   "source": [
    "which(trueEst==\"plot\")"
   ]
  },
  {
   "cell_type": "code",
   "execution_count": 65,
   "metadata": {
    "collapsed": false
   },
   "outputs": [],
   "source": [
    "mleWB2 = data.frame(alpha = double(),theta = double(),\n",
    "                 KS = double(),\n",
    "                 KStest = character(),\n",
    "                 CvM = double(),\n",
    "                 CvMtest = character(),\n",
    "                 AD = double(),\n",
    "                 ADtest = character(),\n",
    "                 stringsAsFactors = FALSE)\n",
    "                \n",
    "for (i in 1:length(max_PRCP)) {\n",
    "    \n",
    "    testDist = na.omit(max_PRCP[,i])\n",
    "        \n",
    "        for(j in 1:length(testDist)){\n",
    "            if(testDist[j] < .1){\n",
    "            testDist[j]=.0001\n",
    "            }\n",
    "        }\n",
    "    \n",
    "   WB1 = fitdist(as.vector(testDist),\"weibull\",method = \"mge\", gof=\"ADR\")\n",
    "   mleWB2[i,1] = WB1$estimate[1]\n",
    "   mleWB2[i,2] = WB1$estimate[2]\n",
    "   \n",
    "   gof = gofstat(WB1)\n",
    "   mleWB2[i,3] = gof$ks\n",
    "   mleWB2[i,4] = gof$kstest\n",
    "   mleWB2[i,5] = gof$cvm\n",
    "   mleWB2[i,6] = gof$cvmtest\n",
    "   mleWB2[i,7] = gof$ad\n",
    "   mleWB2[i,8] = gof$adtest\n",
    "}\n",
    "\n",
    "\n",
    "#mleWB[\"mean\"] = 1/mleWB$theta\n",
    "#mleWB[\"square\"] = mleWB$theta^2 \n",
    "#mleWB[\"var\"] = 1/mleWB$square\n",
    "#mleWB[\"sd\"] = sqrt(mleWB$var)"
   ]
  },
  {
   "cell_type": "code",
   "execution_count": 66,
   "metadata": {
    "collapsed": false
   },
   "outputs": [
    {
     "data": {
      "text/plain": [
       "\n",
       "not rejected \n",
       "         113 "
      ]
     },
     "metadata": {},
     "output_type": "display_data"
    },
    {
     "data": {
      "text/plain": [
       "\n",
       "not rejected     rejected \n",
       "          87           26 "
      ]
     },
     "metadata": {},
     "output_type": "display_data"
    }
   ],
   "source": [
    "table(mleWB2[,4])\n",
    "table(mleWB[,4])"
   ]
  },
  {
   "cell_type": "code",
   "execution_count": 67,
   "metadata": {
    "collapsed": true
   },
   "outputs": [],
   "source": [
    "mleGamma2 = data.frame(alpha = double(),\n",
    "                 theta = double(),\n",
    "                 KS = double(),\n",
    "                 KStest = character(),\n",
    "                 CvM = double(),\n",
    "                 CvMtest = character(),\n",
    "                 AD = double(),\n",
    "                 ADtest = character(),\n",
    "                 stringsAsFactors = FALSE)\n",
    "                \n",
    "for (i in 1:length(max_PRCP)) {\n",
    "\n",
    "    testDist = na.omit(max_PRCP[,i])\n",
    "        \n",
    "        for(j in 1:length(testDist)){\n",
    "            if(testDist[j] < .1){\n",
    "            testDist[j]=.0001\n",
    "            }\n",
    "        }\n",
    "\n",
    "   gamma1 = fitdist(as.vector(testDist),\"gamma\",method = \"mge\", gof=\"ADR\")\n",
    "   mleGamma2[i,1] = gamma1$estimate[1]\n",
    "   mleGamma2[i,2] = gamma1$estimate[2]\n",
    "   \n",
    "   gof = gofstat(gamma1)\n",
    "   mleGamma2[i,3] = gof$ks\n",
    "   mleGamma2[i,4] = gof$kstest\n",
    "   mleGamma2[i,5] = gof$cvm\n",
    "   mleGamma2[i,6] = gof$cvmtest\n",
    "   mleGamma2[i,7] = gof$ad\n",
    "   mleGamma2[i,8] = gof$adtest\n",
    "}\n",
    "\n",
    "mleGamma[\"invTheta\"] = 1/(mleGamma$theta)\n",
    "mleGamma[\"mean\"] = mleGamma$invTheta*mleGamma$alpha\n",
    "mleGamma[\"var\"] = mleGamma$alpha*(mleGamma$invTheta^2)\n",
    "mleGamma[\"sd\"] = sqrt(mleGamma$var)"
   ]
  },
  {
   "cell_type": "code",
   "execution_count": 68,
   "metadata": {
    "collapsed": false
   },
   "outputs": [
    {
     "data": {
      "text/plain": [
       "\n",
       "not rejected \n",
       "         113 "
      ]
     },
     "metadata": {},
     "output_type": "display_data"
    }
   ],
   "source": [
    "table(mleGamma2[,4])"
   ]
  },
  {
   "cell_type": "code",
   "execution_count": 69,
   "metadata": {
    "collapsed": false
   },
   "outputs": [
    {
     "data": {
      "text/plain": [
       "\n",
       "not rejected     rejected \n",
       "          63           50 "
      ]
     },
     "metadata": {},
     "output_type": "display_data"
    }
   ],
   "source": [
    "table(mleGamma[,4])"
   ]
  },
  {
   "cell_type": "code",
   "execution_count": 70,
   "metadata": {
    "collapsed": true
   },
   "outputs": [],
   "source": [
    "mleExp2 = data.frame(theta = double(),\n",
    "                 KS = double(),\n",
    "                 KStest = character(),\n",
    "                 CvM = double(),\n",
    "                 CvMtest = character(),\n",
    "                 AD = double(),\n",
    "                 ADtest = character(),\n",
    "                 stringsAsFactors = FALSE)\n",
    "                \n",
    "for (i in 1:length(max_PRCP)) {\n",
    "\n",
    "    testDist = na.omit(max_PRCP[,i])\n",
    "        \n",
    "        for(j in 1:length(testDist)){\n",
    "            if(testDist[j] < .1){\n",
    "            testDist[j]=.0001\n",
    "            }\n",
    "        }\n",
    "\n",
    "   exp1 = fitdist(as.vector(testDist),\"exp\",method = \"mge\",gof=\"ADR\")\n",
    "   mleExp2[i,1] = exp1$estimate[1]\n",
    "   \n",
    "   gof = gofstat(exp1)\n",
    "   mleExp2[i,2] = gof$ks\n",
    "   mleExp2[i,3] = gof$kstest\n",
    "   mleExp2[i,4] = gof$cvm\n",
    "   mleExp2[i,5] = gof$cvmtest\n",
    "   mleExp2[i,6] = gof$ad\n",
    "   mleExp2[i,7] = gof$adtest\n",
    "}\n",
    "\n",
    "mleExp2[\"mean\"] = 1/mleExp2$theta\n",
    "mleExp2[\"square\"] = mleExp2$theta^2 \n",
    "mleExp2[\"var\"] = 1/mleExp2$square\n",
    "mleExp2[\"sd\"] = sqrt(mleExp2$var)"
   ]
  },
  {
   "cell_type": "code",
   "execution_count": 71,
   "metadata": {
    "collapsed": false
   },
   "outputs": [
    {
     "data": {
      "text/plain": [
       "\n",
       "not rejected \n",
       "         113 "
      ]
     },
     "metadata": {},
     "output_type": "display_data"
    },
    {
     "data": {
      "text/plain": [
       "\n",
       "not rejected     rejected \n",
       "         112            1 "
      ]
     },
     "metadata": {},
     "output_type": "display_data"
    }
   ],
   "source": [
    "table(mleExp2[,3])\n",
    "table(mleExp[,3])"
   ]
  },
  {
   "cell_type": "code",
   "execution_count": 72,
   "metadata": {
    "collapsed": false
   },
   "outputs": [
    {
     "data": {
      "image/png": "[encoded data removed]",
      "text/plain": [
       "Plot with title \"P-P plot\""
      ]
     },
     "metadata": {},
     "output_type": "display_data"
    }
   ],
   "source": [
    "testDist = na.omit(max_PRCP[,45])\n",
    "\n",
    "    for(j in 1:length(testDist)){\n",
    "        if(testDist[j] < .1){\n",
    "        testDist[j]=.0001\n",
    "        }\n",
    "    }\n",
    "\n",
    "fw = fitdist(as.vector(testDist), \"weibull\", method=\"mge\",gof=\"ADR\")\n",
    "fg = fitdist(as.vector(testDist), \"exp\", method=\"mle\")\n",
    "fln = fitdist(as.vector(testDist), \"gamma\", method=\"mle\")\n",
    "norm = fitdist(as.vector(testDist), \"norm\", method=\"mle\")\n",
    "\n",
    "par(mfrow = c(2, 2))\n",
    "plot.legend <- c(\"Weibull\", \"exp\", \"gamma\",\"normal\")\n",
    "denscomp(list(fw, fln, fg,norm), legendtext = plot.legend)\n",
    "qqcomp(list(fw, fln, fg,norm), legendtext = plot.legend)\n",
    "cdfcomp(list(fw, fln, fg,norm), legendtext = plot.legend)\n",
    "ppcomp(list(fw, fln, fg,norm), legendtext = plot.legend)"
   ]
  },
  {
   "cell_type": "code",
   "execution_count": 73,
   "metadata": {
    "collapsed": false
   },
   "outputs": [
    {
     "data": {
      "image/png": "[encoded data removed]",
      "text/plain": [
       "Plot with title \"P-P plot\""
      ]
     },
     "metadata": {},
     "output_type": "display_data"
    }
   ],
   "source": [
    "testDist = na.omit(max_PRCP[,3])\n",
    "\n",
    "    for(j in 1:length(testDist)){\n",
    "        if(testDist[j] < .1){\n",
    "        testDist[j]=.0001\n",
    "        }\n",
    "    }\n",
    "\n",
    "fw = fitdist(as.vector(testDist), \"weibull\", method=\"mle\")\n",
    "fg = fitdist(as.vector(testDist), \"exp\", method=\"mle\")\n",
    "fln = fitdist(as.vector(testDist), \"gamma\", method=\"mle\")\n",
    "norm = fitdist(as.vector(testDist), \"weibull\", method=\"mge\",gof=\"ADR\")\n",
    "\n",
    "par(mfrow = c(2, 2))\n",
    "plot.legend <- c(\"Weibull\", \"exp\", \"gamma\",\"WMGE\")\n",
    "denscomp(list(fw, fln, fg,norm), legendtext = plot.legend)\n",
    "qqcomp(list(fw, fln, fg,norm), legendtext = plot.legend)\n",
    "cdfcomp(list(fw, fln, fg,norm), legendtext = plot.legend)\n",
    "ppcomp(list(fw, fln, fg,norm), legendtext = plot.legend)"
   ]
  },
  {
   "cell_type": "code",
   "execution_count": 74,
   "metadata": {
    "collapsed": false
   },
   "outputs": [
    {
     "data": {
      "image/png": "[encoded data removed]",
      "text/plain": [
       "Plot with title \"P-P plot\""
      ]
     },
     "metadata": {},
     "output_type": "display_data"
    }
   ],
   "source": [
    "testDist = na.omit(max_PRCP[,45])\n",
    "\n",
    "    for(j in 1:length(testDist)){\n",
    "        if(testDist[j] < .1){\n",
    "        testDist[j]=.0001\n",
    "        }\n",
    "    }\n",
    "\n",
    "fw = fitdist(as.vector(testDist), \"weibull\", method=\"mle\")\n",
    "fg = fitdist(as.vector(testDist), \"exp\", method=\"mle\")\n",
    "fln = fitdist(as.vector(testDist), \"gamma\", method=\"mle\")\n",
    "norm = fitdist(as.vector(testDist), \"weibull\", method=\"mge\",gof=\"ADR\")\n",
    "\n",
    "par(mfrow = c(2, 2))\n",
    "plot.legend <- c(\"Weibull\", \"exp\", \"gamma\",\"WMGE\")\n",
    "denscomp(list(fw, fln, fg,norm), legendtext = plot.legend)\n",
    "qqcomp(list(fw, fln, fg,norm), legendtext = plot.legend)\n",
    "cdfcomp(list(fw, fln, fg,norm), legendtext = plot.legend)\n",
    "ppcomp(list(fw, fln, fg,norm), legendtext = plot.legend)"
   ]
  },
  {
   "cell_type": "markdown",
   "metadata": {},
   "source": [
    "YET AGAIN, but this time with gamma MGE as well."
   ]
  },
  {
   "cell_type": "code",
   "execution_count": 75,
   "metadata": {
    "collapsed": false
   },
   "outputs": [
    {
     "data": {
      "image/png": "[encoded data removed]",
      "text/plain": [
       "Plot with title \"P-P plot\""
      ]
     },
     "metadata": {},
     "output_type": "display_data"
    }
   ],
   "source": [
    "testDist = na.omit(max_PRCP[,3])\n",
    "\n",
    "    for(j in 1:length(testDist)){\n",
    "        if(testDist[j] < .1){\n",
    "        testDist[j]=.0001\n",
    "        }\n",
    "    }\n",
    "\n",
    "fw = fitdist(as.vector(testDist), \"weibull\", method=\"mle\")\n",
    "fg = fitdist(as.vector(testDist), \"gamma\", method=\"mle\")\n",
    "fln = fitdist(as.vector(testDist), \"gamma\", method=\"mge\", gof=\"ADR\")\n",
    "norm = fitdist(as.vector(testDist), \"weibull\", method=\"mge\",gof=\"ADR\")\n",
    "\n",
    "par(mfrow = c(2, 2))\n",
    "plot.legend <- c(\"Weibull\", \"gamma\", \"gammaMDE\",\"WMGE\")\n",
    "denscomp(list(fw, fln, fg,norm), legendtext = plot.legend)\n",
    "qqcomp(list(fw, fln, fg,norm), legendtext = plot.legend)\n",
    "cdfcomp(list(fw, fln, fg,norm), legendtext = plot.legend)\n",
    "ppcomp(list(fw, fln, fg,norm), legendtext = plot.legend)"
   ]
  },
  {
   "cell_type": "markdown",
   "metadata": {},
   "source": [
    "# Probabilities of Interest "
   ]
  },
  {
   "cell_type": "markdown",
   "metadata": {},
   "source": [
    "1 inch of rain approx 25.4mm, 2 inch approx 50.8, 3 inch approx 76.2mm."
   ]
  },
  {
   "cell_type": "markdown",
   "metadata": {},
   "source": [
    "Parameter estimates for frequentist probability checks are found in mleGamma2 (using maximum goodness of fit with ADR distance for right tailed data)."
   ]
  },
  {
   "cell_type": "markdown",
   "metadata": {},
   "source": [
    "probability of seeing or exceeding 1 inch of rain in a 24 hour day"
   ]
  },
  {
   "cell_type": "code",
   "execution_count": 76,
   "metadata": {
    "collapsed": false
   },
   "outputs": [
    {
     "data": {
      "text/html": [
       "0.292928984377805"
      ],
      "text/latex": [
       "0.292928984377805"
      ],
      "text/markdown": [
       "0.292928984377805"
      ],
      "text/plain": [
       "[1] 0.292929"
      ]
     },
     "metadata": {},
     "output_type": "display_data"
    }
   ],
   "source": [
    "1-pgamma(254, mleGamma2[1,1], mleGamma[1,2])"
   ]
  },
  {
   "cell_type": "code",
   "execution_count": 77,
   "metadata": {
    "collapsed": false
   },
   "outputs": [
    {
     "data": {
      "text/html": [
       "0.0752030488273054"
      ],
      "text/latex": [
       "0.0752030488273054"
      ],
      "text/markdown": [
       "0.0752030488273054"
      ],
      "text/plain": [
       "[1] 0.07520305"
      ]
     },
     "metadata": {},
     "output_type": "display_data"
    }
   ],
   "source": [
    "1-pgamma(508, mleGamma2[1,1], mleGamma[1,2])"
   ]
  },
  {
   "cell_type": "code",
   "execution_count": 78,
   "metadata": {
    "collapsed": false
   },
   "outputs": [
    {
     "data": {
      "text/html": [
       "0.0187653326696763"
      ],
      "text/latex": [
       "0.0187653326696763"
      ],
      "text/markdown": [
       "0.0187653326696763"
      ],
      "text/plain": [
       "[1] 0.01876533"
      ]
     },
     "metadata": {},
     "output_type": "display_data"
    }
   ],
   "source": [
    "1-pgamma(762, mleGamma2[1,1], mleGamma[1,2])"
   ]
  },
  {
   "cell_type": "code",
   "execution_count": 79,
   "metadata": {
    "collapsed": true
   },
   "outputs": [],
   "source": [
    "oneInch = NULL\n",
    "twoInch = NULL\n",
    "threeInch = NULL\n",
    "for(i in 1:nrow(mleGamma2)){\n",
    "    oneInch = c(oneInch,1-pgamma(254,mleGamma2[i,1],mleGamma2[i,2]))\n",
    "    twoInch = c(twoInch,1-pgamma(508,mleGamma2[i,1],mleGamma2[i,2]))\n",
    "    threeInch = c(threeInch,1-pgamma(762,mleGamma2[i,1],mleGamma2[i,2]))\n",
    "}"
   ]
  },
  {
   "cell_type": "code",
   "execution_count": 80,
   "metadata": {
    "collapsed": false
   },
   "outputs": [
    {
     "data": {
      "text/html": [
       "113"
      ],
      "text/latex": [
       "113"
      ],
      "text/markdown": [
       "113"
      ],
      "text/plain": [
       "[1] 113"
      ]
     },
     "metadata": {},
     "output_type": "display_data"
    }
   ],
   "source": [
    "length(oneInch)"
   ]
  },
  {
   "cell_type": "code",
   "execution_count": 81,
   "metadata": {
    "collapsed": true
   },
   "outputs": [],
   "source": [
    "starter = firstYear+9"
   ]
  },
  {
   "cell_type": "code",
   "execution_count": 82,
   "metadata": {
    "collapsed": false
   },
   "outputs": [],
   "source": [
    "oneInchTS = ts(oneInch, start=starter)\n",
    "twoInchTS = ts(twoInch, start=starter)\n",
    "threeInchTS = ts(threeInch, start=starter)"
   ]
  },
  {
   "cell_type": "code",
   "execution_count": 83,
   "metadata": {
    "collapsed": false
   },
   "outputs": [],
   "source": [
    "options(repr.plot.width=7,repr.plot.height=5) #reduces the plot sizes"
   ]
  },
  {
   "cell_type": "code",
   "execution_count": 84,
   "metadata": {
    "collapsed": false
   },
   "outputs": [
    {
     "data": {
      "image/png": "[encoded data removed]",
      "text/plain": [
       "plot without title"
      ]
     },
     "metadata": {},
     "output_type": "display_data"
    }
   ],
   "source": [
    "plot(oneInchTS, ylim=c(0,.26), lwd=2)\n",
    "lines(twoInchTS, col=2, lwd=2)\n",
    "lines(threeInchTS, col=4, lwd=2)"
   ]
  },
  {
   "cell_type": "code",
   "execution_count": 85,
   "metadata": {
    "collapsed": true
   },
   "outputs": [],
   "source": [
    "rollSmall = ts(runmean(oneInchTS,15),start=starter)\n",
    "rollSmall2 = ts(runmean(oneInchTS,30),start=starter)\n",
    "rollSmall3 = ts(runmean(oneInchTS,50),start=starter)"
   ]
  },
  {
   "cell_type": "code",
   "execution_count": 86,
   "metadata": {
    "collapsed": false
   },
   "outputs": [
    {
     "data": {
      "image/png": "[encoded data removed]",
      "text/plain": [
       "plot without title"
      ]
     },
     "metadata": {},
     "output_type": "display_data"
    }
   ],
   "source": [
    "plot(oneInchTS)\n",
    "lines(rollSmall, col=3,lwd=2)\n",
    "lines(rollSmall2, col=2,lwd=2)\n",
    "lines(rollSmall3, col=4,lwd=2)"
   ]
  },
  {
   "cell_type": "code",
   "execution_count": 87,
   "metadata": {
    "collapsed": true
   },
   "outputs": [],
   "source": [
    "rollSmall = ts(runmean(twoInchTS,15),start=starter)\n",
    "rollSmall2 = ts(runmean(twoInchTS,30),start=starter)\n",
    "rollSmall3 = ts(runmean(twoInchTS,50),start=starter)"
   ]
  },
  {
   "cell_type": "code",
   "execution_count": 88,
   "metadata": {
    "collapsed": false
   },
   "outputs": [
    {
     "data": {
      "image/png": "[encoded data removed]",
      "text/plain": [
       "plot without title"
      ]
     },
     "metadata": {},
     "output_type": "display_data"
    }
   ],
   "source": [
    "plot(twoInchTS)\n",
    "lines(rollSmall, col=3,lwd=2)\n",
    "lines(rollSmall2, col=2,lwd=2)\n",
    "lines(rollSmall3, col=4,lwd=2)"
   ]
  },
  {
   "cell_type": "code",
   "execution_count": 89,
   "metadata": {
    "collapsed": true
   },
   "outputs": [],
   "source": [
    "rollSmall = ts(runmean(threeInchTS,15),start=starter)\n",
    "rollSmall2 = ts(runmean(threeInchTS,30),start=starter)\n",
    "rollSmall3 = ts(runmean(threeInchTS,50),start=starter)"
   ]
  },
  {
   "cell_type": "code",
   "execution_count": 90,
   "metadata": {
    "collapsed": false
   },
   "outputs": [
    {
     "data": {
      "image/png": "[encoded data removed]",
      "text/plain": [
       "plot without title"
      ]
     },
     "metadata": {},
     "output_type": "display_data"
    }
   ],
   "source": [
    "plot(threeInchTS)\n",
    "lines(rollSmall, col=3,lwd=2)\n",
    "lines(rollSmall2, col=2,lwd=2)\n",
    "lines(rollSmall3, col=4,lwd=2)"
   ]
  },
  {
   "cell_type": "code",
   "execution_count": null,
   "metadata": {
    "collapsed": true
   },
   "outputs": [],
   "source": []
  },
  {
   "cell_type": "code",
   "execution_count": null,
   "metadata": {
    "collapsed": true
   },
   "outputs": [],
   "source": []
  }
 ],
 "metadata": {
  "anaconda-cloud": {},
  "kernelspec": {
   "display_name": "R",
   "language": "R",
   "name": "ir"
  },
  "language_info": {
   "codemirror_mode": "r",
   "file_extension": ".r",
   "mimetype": "text/x-r-source",
   "name": "R",
   "pygments_lexer": "r",
   "version": "3.3.1"
  }
 },
 "nbformat": 4,
 "nbformat_minor": 0
}
