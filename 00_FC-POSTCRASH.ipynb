{
 "cells": [
  {
   "cell_type": "markdown",
   "metadata": {},
   "source": [
    "# Master's Thesis: Investigating Maximum Rainfall Trends in Colorado"
   ]
  },
  {
   "cell_type": "markdown",
   "metadata": {},
   "source": [
    "<b>Institution:</b> University of Georgia <br>\n",
    "<b>Department:</b> Statistics <br>\n",
    "<b>Student:</b> Jeremy Mulcahey <br>\n",
    "<b>Advisor:</b> Dr. Lynne Seymour <br>\n",
    "<b>File:</b> 02_Boulder<br>\n",
    "<b>Last Edit:</b> 7/4/2016"
   ]
  },
  {
   "cell_type": "markdown",
   "metadata": {},
   "source": [
    "Section 0: Preparing data <br>\n",
    "Section 1: Distribution of Max Precipitation and Trends<br>\n",
    "Section 2: Parameter Estimation, Distribution, and Trends"
   ]
  },
  {
   "cell_type": "markdown",
   "metadata": {},
   "source": [
    "##  Section 0: Preparing data"
   ]
  },
  {
   "cell_type": "code",
   "execution_count": 1,
   "metadata": {
    "collapsed": false
   },
   "outputs": [
    {
     "name": "stderr",
     "output_type": "stream",
     "text": [
      "Loading required package: fitdistrplus\n",
      "Loading required package: MASS\n",
      "Loading required package: survival\n",
      "Loading required package: caTools\n",
      "Loading required package: repr\n",
      "Loading required package: IRdisplay\n"
     ]
    }
   ],
   "source": [
    "require(fitdistrplus); # required for parameter estimation\n",
    "require(caTools);      # required for smoothing\n",
    "require(repr);         # required for resizing plots in IRKernel\n",
    "require(\"IRdisplay\");  # graphic embedding\n",
    "require(MASS);         # testing"
   ]
  },
  {
   "cell_type": "code",
   "execution_count": 2,
   "metadata": {
    "collapsed": false
   },
   "outputs": [],
   "source": [
    "# establish working directorys\n",
    "setwd(\"C:/Users/jerem/Desktop/UGA/Master'sThesis/\")"
   ]
  },
  {
   "cell_type": "markdown",
   "metadata": {},
   "source": [
    "Data files for individual station names."
   ]
  },
  {
   "cell_type": "code",
   "execution_count": 3,
   "metadata": {
    "collapsed": false
   },
   "outputs": [],
   "source": [
    "data = read.csv(file = \"data/FORT_MonMax_GHCN.csv\", head=T)"
   ]
  },
  {
   "cell_type": "markdown",
   "metadata": {},
   "source": [
    "Adjust the data for later use."
   ]
  },
  {
   "cell_type": "code",
   "execution_count": 4,
   "metadata": {
    "collapsed": false
   },
   "outputs": [
    {
     "data": {
      "text/html": [
       "11"
      ],
      "text/latex": [
       "11"
      ],
      "text/markdown": [
       "11"
      ],
      "text/plain": [
       "[1] 11"
      ]
     },
     "metadata": {},
     "output_type": "display_data"
    }
   ],
   "source": [
    "# Create an index as x - used as needed\n",
    "month = seq(1,nrow(data),by=1)\n",
    "data = cbind(data,month)\n",
    "\n",
    "# first year of the data (changes by station name)\n",
    "firstYear = data$YEAR[1]\n",
    "\n",
    "# station name for plotting\n",
    "stationName = as.character(data$STATION_NAME[1])\n",
    "\n",
    "# -999 messed with the plotting - change to NA\n",
    "data[data==-999] = NA\n",
    "\n",
    "sum(is.na(data)) #print number of missing values"
   ]
  },
  {
   "cell_type": "markdown",
   "metadata": {},
   "source": [
    "Check number of years in the data set."
   ]
  },
  {
   "cell_type": "code",
   "execution_count": 5,
   "metadata": {
    "collapsed": false
   },
   "outputs": [
    {
     "data": {
      "text/html": [
       "118"
      ],
      "text/latex": [
       "118"
      ],
      "text/markdown": [
       "118"
      ],
      "text/plain": [
       "[1] 118"
      ]
     },
     "metadata": {},
     "output_type": "display_data"
    }
   ],
   "source": [
    "data$YEAR[nrow(data)]-firstYear"
   ]
  },
  {
   "cell_type": "code",
   "execution_count": 6,
   "metadata": {
    "collapsed": false
   },
   "outputs": [
    {
     "data": {
      "text/plain": [
       "\n",
       "  1   2   3   4   5   6   7   8   9  10  11  12 \n",
       "119 119 119 119 119 119 119 119 119 119 119 119 "
      ]
     },
     "metadata": {},
     "output_type": "display_data"
    }
   ],
   "source": [
    "table(data$MONTH)"
   ]
  },
  {
   "cell_type": "markdown",
   "metadata": {},
   "source": [
    "Make a data frame of all the 10 year periods following the first year for data collected at the station."
   ]
  },
  {
   "cell_type": "code",
   "execution_count": 7,
   "metadata": {
    "collapsed": false
   },
   "outputs": [],
   "source": [
    "#create the first decade (first year and the following 9 years)\n",
    "max_PRCP = data.frame(data[which(data$YEAR < (firstYear + 10)),6])\n",
    "\n",
    "# add all the subsequent decades to the data frame incrementing by 1 year at a time\n",
    "# i.e. 1896-1905, 1897-1906, etc\n",
    "for(year in c((data$YEAR[1] + 1):2005)){\n",
    "    max_PRCP = cbind(max_PRCP,data[which(data$YEAR >= year & data$YEAR < year+10),6])\n",
    "}\n",
    "\n",
    "# name the columns as the first year of the observed 10 year periods\n",
    "colnames(max_PRCP) = as.character(c(firstYear:2005))\n",
    "\n",
    "# set the missing values to NA\n",
    "max_PRCP[max_PRCP==-999] = NA"
   ]
  },
  {
   "cell_type": "markdown",
   "metadata": {},
   "source": [
    "## Section 1: Distribution of Max Precipitation and Trends"
   ]
  },
  {
   "cell_type": "code",
   "execution_count": 8,
   "metadata": {
    "collapsed": true
   },
   "outputs": [],
   "source": [
    "data2012 = data[which(data$YEAR<2013),]"
   ]
  },
  {
   "cell_type": "code",
   "execution_count": 58,
   "metadata": {
    "collapsed": true
   },
   "outputs": [],
   "source": [
    "options(repr.plot.width=5, repr.plot.height=5) #reduces the plot sizes"
   ]
  },
  {
   "cell_type": "markdown",
   "metadata": {},
   "source": [
    "### Maximum Rainfall Trends"
   ]
  },
  {
   "cell_type": "code",
   "execution_count": 10,
   "metadata": {
    "collapsed": true
   },
   "outputs": [],
   "source": [
    "# create for maximum rainfall\n",
    "maxTS = ts(data$Max.PRCP, start = firstYear, freq=12)\n",
    "\n",
    "# create regression line\n",
    "reg = lm(Max.PRCP. ~ month, data=data)"
   ]
  },
  {
   "cell_type": "markdown",
   "metadata": {},
   "source": [
    "Slope of the regression line:"
   ]
  },
  {
   "cell_type": "code",
   "execution_count": 11,
   "metadata": {
    "collapsed": false
   },
   "outputs": [
    {
     "data": {
      "text/html": [
       "<strong>month:</strong> 0.014"
      ],
      "text/latex": [
       "\\textbf{month:} 0.014"
      ],
      "text/markdown": [
       "**month:** 0.014"
      ],
      "text/plain": [
       "month \n",
       "0.014 "
      ]
     },
     "metadata": {},
     "output_type": "display_data"
    }
   ],
   "source": [
    "round(reg$coefficients[2],3)"
   ]
  },
  {
   "cell_type": "code",
   "execution_count": 12,
   "metadata": {
    "collapsed": false
   },
   "outputs": [
    {
     "data": {
      "text/html": [
       "<strong>month:</strong> 19.992"
      ],
      "text/latex": [
       "\\textbf{month:} 19.992"
      ],
      "text/markdown": [
       "**month:** 19.992"
      ],
      "text/plain": [
       " month \n",
       "19.992 "
      ]
     },
     "metadata": {},
     "output_type": "display_data"
    }
   ],
   "source": [
    "length(data$MONTH)*round(reg$coefficients[2],3)"
   ]
  },
  {
   "cell_type": "markdown",
   "metadata": {},
   "source": [
    "Although month isn't very predictive of maximum observed rainfall, there does appear to be an increase over the time data was collected."
   ]
  },
  {
   "cell_type": "code",
   "execution_count": 13,
   "metadata": {
    "collapsed": false
   },
   "outputs": [],
   "source": [
    "maxTS2012 = ts(data2012$Max.PRCP, start = firstYear, freq=12)"
   ]
  },
  {
   "cell_type": "code",
   "execution_count": 14,
   "metadata": {
    "collapsed": false
   },
   "outputs": [],
   "source": [
    "maxObs = max(na.omit(data2012$Max.PRCP.))"
   ]
  },
  {
   "cell_type": "code",
   "execution_count": 15,
   "metadata": {
    "collapsed": true
   },
   "outputs": [],
   "source": [
    "smooth = runmean(data2012$Max.PRCP., 120)"
   ]
  },
  {
   "cell_type": "code",
   "execution_count": 16,
   "metadata": {
    "collapsed": true
   },
   "outputs": [],
   "source": [
    "smoothTS = ts(smooth, start=firstYear, freq=12)"
   ]
  },
  {
   "cell_type": "code",
   "execution_count": 17,
   "metadata": {
    "collapsed": false
   },
   "outputs": [
    {
     "data": {
      "text/html": [
       "1219"
      ],
      "text/latex": [
       "1219"
      ],
      "text/markdown": [
       "1219"
      ],
      "text/plain": [
       "[1] 1219"
      ]
     },
     "metadata": {},
     "output_type": "display_data"
    }
   ],
   "source": [
    "which(data2012$Max.PRCP.==maxObs)"
   ]
  },
  {
   "cell_type": "code",
   "execution_count": 18,
   "metadata": {
    "collapsed": false
   },
   "outputs": [
    {
     "data": {
      "text/html": [
       "<table>\n",
       "<thead><tr><th></th><th scope=col>STATION</th><th scope=col>STATION_NAME</th><th scope=col>YEAR</th><th scope=col>MONTH</th><th scope=col>Obs</th><th scope=col>Max.PRCP.</th><th scope=col>month</th></tr></thead>\n",
       "<tbody>\n",
       "\t<tr><th scope=row>1060</th><td>GHCND:USC00053005 </td><td>FORT COLLINS CO US</td><td>1984              </td><td>4                 </td><td>30                </td><td>516               </td><td>1060              </td></tr>\n",
       "</tbody>\n",
       "</table>\n"
      ],
      "text/latex": [
       "\\begin{tabular}{r|lllllll}\n",
       "  & STATION & STATION\\_NAME & YEAR & MONTH & Obs & Max.PRCP. & month\\\\\n",
       "\\hline\n",
       "\t1060 & GHCND:USC00053005  & FORT COLLINS CO US & 1984               & 4                  & 30                 & 516                & 1060              \\\\\n",
       "\\end{tabular}\n"
      ],
      "text/plain": [
       "     STATION           STATION_NAME       YEAR MONTH Obs Max.PRCP. month\n",
       "1060 GHCND:USC00053005 FORT COLLINS CO US 1984 4     30  516       1060 "
      ]
     },
     "metadata": {},
     "output_type": "display_data"
    }
   ],
   "source": [
    "data2012[1060,]"
   ]
  },
  {
   "cell_type": "code",
   "execution_count": 59,
   "metadata": {
    "collapsed": false
   },
   "outputs": [
    {
     "data": {
      "image/png": "[encoded data removed]",
      "text/plain": [
       "Plot with title \"FORT COLLINS CO US \n",
       "Observed 24 Hour Max Rainfall \n",
       "from 1896 to 2012 by Monthly Max\""
      ]
     },
     "metadata": {},
     "output_type": "display_data"
    }
   ],
   "source": [
    "plot(maxTS2012, xlab = \"Time (years)\", col = \"darkgrey\", lwd=1.75, ylab = \"Observed Max Precipitation (1/10mm)\", \n",
    "     main=sprintf(\"%s \\nObserved 24 Hour Max Rainfall \\nfrom %i to 2012 by Monthly Max\", \n",
    "     stationName,firstYear), ylim=c(0,1250))\n",
    "abline(h=maxObs, col=\"red\", lwd=.5, lty=5)\n",
    "points(smoothTS, col=4, type=\"l\", lwd=2)\n",
    "text(1998,maxObs+50,\n",
    "           sprintf(\"%i\",maxObs))"
   ]
  },
  {
   "cell_type": "markdown",
   "metadata": {},
   "source": [
    "In the time series plot, we also see that the peaks are gradually increasing over time, which is of specific interest to people working with maximum rainfall estimation. These increasing peaks have been wreaking havoc on Texas and the Eastern US this year. (Template statement - change as needed for individual stations)."
   ]
  },
  {
   "cell_type": "markdown",
   "metadata": {},
   "source": [
    "Produce smoothed plots to get a better understanding of the trends."
   ]
  },
  {
   "cell_type": "code",
   "execution_count": 20,
   "metadata": {
    "collapsed": false
   },
   "outputs": [
    {
     "data": {
      "image/png": "[encoded data removed]",
      "text/plain": [
       "Plot with title \"Smoothed 24 hour max rainfall from 1896 to 2012\""
      ]
     },
     "metadata": {},
     "output_type": "display_data"
    }
   ],
   "source": [
    "#rollSmall = runmean(data$Max.PRCP., 300)\n",
    "plot(smoothTS, type=\"l\", xlab = \"Time (years)\", lwd=2,\n",
    "    ylab = \"Max Precipitation (1/10mm)\", col = 1, main=\"Smoothed 24 hour max rainfall from 1896 to 2012\")\n",
    "    #points(rollLarge, type=\"l\", col=4)\n",
    "    #egend(0,200, c(\"300 window\",\"\", \"900 window\"), col=c(2,0,4), lty=c(1,0,1), bty=\"n\")"
   ]
  },
  {
   "cell_type": "markdown",
   "metadata": {},
   "source": [
    "While the data shows a slight decrease in average rainfall at the tail end of our data (2014), the long term trend shows that average rainfall has been increasing. Empirically, we have had a wet year in 2016 that we would expect to match/exceed the long term observed increase in average maximum rainfall.(Template statement - change as needed for individual stations)"
   ]
  },
  {
   "cell_type": "markdown",
   "metadata": {},
   "source": [
    "## Section 2: Parameter Estimation, Distribution, and Trends"
   ]
  },
  {
   "cell_type": "code",
   "execution_count": 21,
   "metadata": {
    "collapsed": false
   },
   "outputs": [],
   "source": [
    "mleGamma = data.frame(alpha = double(),\n",
    "                 theta = double(),\n",
    "                 KS = double(),\n",
    "                 KStest = character(),\n",
    "                 CvM = double(),\n",
    "                 CvMtest = character(),\n",
    "                 AD = double(),\n",
    "                 ADtest = character(),\n",
    "                 stringsAsFactors = FALSE)\n",
    "                \n",
    "for (i in 1:length(max_PRCP)) {\n",
    "\n",
    "    testDist = na.omit(max_PRCP[,i])\n",
    "        \n",
    "        for(j in 1:length(testDist)){\n",
    "            if(testDist[j] < .1){\n",
    "            testDist[j]=.0001\n",
    "            }\n",
    "        }\n",
    "\n",
    "   gamma1 = fitdist(as.vector(testDist),\"gamma\",method = \"mle\")\n",
    "   mleGamma[i,1] = gamma1$estimate[1]\n",
    "   mleGamma[i,2] = gamma1$estimate[2]\n",
    "   \n",
    "   gof = gofstat(gamma1)\n",
    "   mleGamma[i,3] = gof$ks\n",
    "   mleGamma[i,4] = gof$kstest\n",
    "   mleGamma[i,5] = gof$cvm\n",
    "   mleGamma[i,6] = gof$cvmtest\n",
    "   mleGamma[i,7] = gof$ad\n",
    "   mleGamma[i,8] = gof$adtest\n",
    "}\n",
    "\n",
    "mleGamma[\"invTheta\"] = 1/(mleGamma$theta)\n",
    "mleGamma[\"mean\"] = mleGamma$invTheta*mleGamma$alpha\n",
    "mleGamma[\"var\"] = mleGamma$alpha*(mleGamma$invTheta^2)\n",
    "mleGamma[\"sd\"] = sqrt(mleGamma$var)"
   ]
  },
  {
   "cell_type": "code",
   "execution_count": 22,
   "metadata": {
    "collapsed": true
   },
   "outputs": [],
   "source": [
    "mleExp = data.frame(theta = double(),\n",
    "                 KS = double(),\n",
    "                 KStest = character(),\n",
    "                 CvM = double(),\n",
    "                 CvMtest = character(),\n",
    "                 AD = double(),\n",
    "                 ADtest = character(),\n",
    "                 stringsAsFactors = FALSE)\n",
    "                \n",
    "for (i in 1:length(max_PRCP)) {\n",
    "\n",
    "    testDist = na.omit(max_PRCP[,i])\n",
    "        \n",
    "        for(j in 1:length(testDist)){\n",
    "            if(testDist[j] < .1){\n",
    "            testDist[j]=.0001\n",
    "            }\n",
    "        }\n",
    "\n",
    "   exp1 = fitdist(as.vector(testDist),\"exp\",method = \"mle\")\n",
    "   mleExp[i,1] = exp1$estimate[1]\n",
    "   \n",
    "   gof = gofstat(exp1)\n",
    "   mleExp[i,2] = gof$ks\n",
    "   mleExp[i,3] = gof$kstest\n",
    "   mleExp[i,4] = gof$cvm\n",
    "   mleExp[i,5] = gof$cvmtest\n",
    "   mleExp[i,6] = gof$ad\n",
    "   mleExp[i,7] = gof$adtest\n",
    "}\n",
    "\n",
    "mleExp[\"mean\"] = 1/mleExp$theta\n",
    "mleExp[\"square\"] = mleExp$theta^2 \n",
    "mleExp[\"var\"] = 1/mleExp$square\n",
    "mleExp[\"sd\"] = sqrt(mleExp$var)"
   ]
  },
  {
   "cell_type": "code",
   "execution_count": 23,
   "metadata": {
    "collapsed": false
   },
   "outputs": [
    {
     "data": {
      "text/html": [
       "<ol class=list-inline>\n",
       "\t<li>30</li>\n",
       "\t<li>31</li>\n",
       "\t<li>32</li>\n",
       "\t<li>33</li>\n",
       "\t<li>34</li>\n",
       "\t<li>35</li>\n",
       "\t<li>36</li>\n",
       "\t<li>37</li>\n",
       "\t<li>38</li>\n",
       "\t<li>39</li>\n",
       "\t<li>52</li>\n",
       "\t<li>53</li>\n",
       "\t<li>54</li>\n",
       "\t<li>55</li>\n",
       "\t<li>56</li>\n",
       "\t<li>57</li>\n",
       "\t<li>61</li>\n",
       "\t<li>62</li>\n",
       "</ol>\n"
      ],
      "text/latex": [
       "\\begin{enumerate*}\n",
       "\\item 30\n",
       "\\item 31\n",
       "\\item 32\n",
       "\\item 33\n",
       "\\item 34\n",
       "\\item 35\n",
       "\\item 36\n",
       "\\item 37\n",
       "\\item 38\n",
       "\\item 39\n",
       "\\item 52\n",
       "\\item 53\n",
       "\\item 54\n",
       "\\item 55\n",
       "\\item 56\n",
       "\\item 57\n",
       "\\item 61\n",
       "\\item 62\n",
       "\\end{enumerate*}\n"
      ],
      "text/markdown": [
       "1. 30\n",
       "2. 31\n",
       "3. 32\n",
       "4. 33\n",
       "5. 34\n",
       "6. 35\n",
       "7. 36\n",
       "8. 37\n",
       "9. 38\n",
       "10. 39\n",
       "11. 52\n",
       "12. 53\n",
       "13. 54\n",
       "14. 55\n",
       "15. 56\n",
       "16. 57\n",
       "17. 61\n",
       "18. 62\n",
       "\n",
       "\n"
      ],
      "text/plain": [
       " [1] 30 31 32 33 34 35 36 37 38 39 52 53 54 55 56 57 61 62"
      ]
     },
     "metadata": {},
     "output_type": "display_data"
    }
   ],
   "source": [
    "which(mleGamma$KStest==\"rejected\")"
   ]
  },
  {
   "cell_type": "code",
   "execution_count": 24,
   "metadata": {
    "collapsed": false
   },
   "outputs": [
    {
     "data": {
      "text/html": [],
      "text/latex": [],
      "text/markdown": [],
      "text/plain": [
       "integer(0)"
      ]
     },
     "metadata": {},
     "output_type": "display_data"
    }
   ],
   "source": [
    "which(mleExp$KStest==\"rejected\")"
   ]
  },
  {
   "cell_type": "code",
   "execution_count": 25,
   "metadata": {
    "collapsed": false
   },
   "outputs": [
    {
     "data": {
      "text/html": [
       "<table>\n",
       "<thead><tr><th scope=col>alpha</th><th scope=col>theta</th><th scope=col>KS</th><th scope=col>KStest</th><th scope=col>CvM</th><th scope=col>CvMtest</th><th scope=col>AD</th><th scope=col>ADtest</th><th scope=col>invTheta</th><th scope=col>mean</th><th scope=col>var</th><th scope=col>sd</th></tr></thead>\n",
       "<tbody>\n",
       "\t<tr><td>0.7702459   </td><td>0.005838670 </td><td>0.11823885  </td><td>not rejected</td><td>0.3945848   </td><td>NA          </td><td>2.578290    </td><td>NA          </td><td>171.2719    </td><td>131.9215    </td><td>22594.44    </td><td>150.3145    </td></tr>\n",
       "\t<tr><td>0.7592384   </td><td>0.005623842 </td><td>0.10957672  </td><td>not rejected</td><td>0.3993983   </td><td>NA          </td><td>2.545615    </td><td>NA          </td><td>177.8144    </td><td>135.0035    </td><td>24005.57    </td><td>154.9373    </td></tr>\n",
       "\t<tr><td>0.7329028   </td><td>0.005426065 </td><td>0.11023874  </td><td>not rejected</td><td>0.3867091   </td><td>NA          </td><td>2.377635    </td><td>NA          </td><td>184.2956    </td><td>135.0708    </td><td>24892.95    </td><td>157.7750    </td></tr>\n",
       "\t<tr><td>0.7228140   </td><td>0.005126209 </td><td>0.10648805  </td><td>not rejected</td><td>0.3718661   </td><td>NA          </td><td>2.266249    </td><td>NA          </td><td>195.0759    </td><td>141.0036    </td><td>27506.41    </td><td>165.8506    </td></tr>\n",
       "\t<tr><td>0.7894197   </td><td>0.005429997 </td><td>0.10174311  </td><td>not rejected</td><td>0.2569872   </td><td>NA          </td><td>1.422317    </td><td>NA          </td><td>184.1622    </td><td>145.3812    </td><td>26773.72    </td><td>163.6268    </td></tr>\n",
       "\t<tr><td>0.7953316   </td><td>0.005407428 </td><td>0.09718581  </td><td>not rejected</td><td>0.2725329   </td><td>NA          </td><td>1.497542    </td><td>NA          </td><td>184.9308    </td><td>147.0813    </td><td>27199.86    </td><td>164.9238    </td></tr>\n",
       "</tbody>\n",
       "</table>\n"
      ],
      "text/latex": [
       "\\begin{tabular}{r|llllllllllll}\n",
       " alpha & theta & KS & KStest & CvM & CvMtest & AD & ADtest & invTheta & mean & var & sd\\\\\n",
       "\\hline\n",
       "\t 0.7702459    & 0.005838670  & 0.11823885   & not rejected & 0.3945848    & NA           & 2.578290     & NA           & 171.2719     & 131.9215     & 22594.44     & 150.3145    \\\\\n",
       "\t 0.7592384    & 0.005623842  & 0.10957672   & not rejected & 0.3993983    & NA           & 2.545615     & NA           & 177.8144     & 135.0035     & 24005.57     & 154.9373    \\\\\n",
       "\t 0.7329028    & 0.005426065  & 0.11023874   & not rejected & 0.3867091    & NA           & 2.377635     & NA           & 184.2956     & 135.0708     & 24892.95     & 157.7750    \\\\\n",
       "\t 0.7228140    & 0.005126209  & 0.10648805   & not rejected & 0.3718661    & NA           & 2.266249     & NA           & 195.0759     & 141.0036     & 27506.41     & 165.8506    \\\\\n",
       "\t 0.7894197    & 0.005429997  & 0.10174311   & not rejected & 0.2569872    & NA           & 1.422317     & NA           & 184.1622     & 145.3812     & 26773.72     & 163.6268    \\\\\n",
       "\t 0.7953316    & 0.005407428  & 0.09718581   & not rejected & 0.2725329    & NA           & 1.497542     & NA           & 184.9308     & 147.0813     & 27199.86     & 164.9238    \\\\\n",
       "\\end{tabular}\n"
      ],
      "text/plain": [
       "  alpha     theta       KS         KStest       CvM       CvMtest AD      \n",
       "1 0.7702459 0.005838670 0.11823885 not rejected 0.3945848 NA      2.578290\n",
       "2 0.7592384 0.005623842 0.10957672 not rejected 0.3993983 NA      2.545615\n",
       "3 0.7329028 0.005426065 0.11023874 not rejected 0.3867091 NA      2.377635\n",
       "4 0.7228140 0.005126209 0.10648805 not rejected 0.3718661 NA      2.266249\n",
       "5 0.7894197 0.005429997 0.10174311 not rejected 0.2569872 NA      1.422317\n",
       "6 0.7953316 0.005407428 0.09718581 not rejected 0.2725329 NA      1.497542\n",
       "  ADtest invTheta mean     var      sd      \n",
       "1 NA     171.2719 131.9215 22594.44 150.3145\n",
       "2 NA     177.8144 135.0035 24005.57 154.9373\n",
       "3 NA     184.2956 135.0708 24892.95 157.7750\n",
       "4 NA     195.0759 141.0036 27506.41 165.8506\n",
       "5 NA     184.1622 145.3812 26773.72 163.6268\n",
       "6 NA     184.9308 147.0813 27199.86 164.9238"
      ]
     },
     "metadata": {},
     "output_type": "display_data"
    }
   ],
   "source": [
    "head(mleGamma)"
   ]
  },
  {
   "cell_type": "code",
   "execution_count": 26,
   "metadata": {
    "collapsed": false
   },
   "outputs": [
    {
     "data": {
      "text/html": [
       "<table>\n",
       "<thead><tr><th scope=col>theta</th><th scope=col>KS</th><th scope=col>KStest</th><th scope=col>CvM</th><th scope=col>CvMtest</th><th scope=col>AD</th><th scope=col>ADtest</th><th scope=col>mean</th><th scope=col>square</th><th scope=col>var</th><th scope=col>sd</th></tr></thead>\n",
       "<tbody>\n",
       "\t<tr><td>0.007582251 </td><td>0.06135990  </td><td>not rejected</td><td>0.07771479  </td><td>not rejected</td><td>1.154525    </td><td>not rejected</td><td>131.8870    </td><td>5.749053e-05</td><td>17394.17    </td><td>131.8870    </td></tr>\n",
       "\t<tr><td>0.007406461 </td><td>0.05409077  </td><td>not rejected</td><td>0.07202469  </td><td>not rejected</td><td>1.120545    </td><td>not rejected</td><td>135.0172    </td><td>5.485567e-05</td><td>18229.66    </td><td>135.0172    </td></tr>\n",
       "\t<tr><td>0.007404126 </td><td>0.05999186  </td><td>not rejected</td><td>0.06899385  </td><td>not rejected</td><td>1.086094    </td><td>not rejected</td><td>135.0598    </td><td>5.482108e-05</td><td>18241.16    </td><td>135.0598    </td></tr>\n",
       "\t<tr><td>0.007092198 </td><td>0.05165822  </td><td>not rejected</td><td>0.05439701  </td><td>not rejected</td><td>1.053790    </td><td>not rejected</td><td>141.0000    </td><td>5.029928e-05</td><td>19881.00    </td><td>141.0000    </td></tr>\n",
       "\t<tr><td>0.006879263 </td><td>0.07186013  </td><td>not rejected</td><td>0.08074364  </td><td>not rejected</td><td>0.770200    </td><td>not rejected</td><td>145.3644    </td><td>4.732426e-05</td><td>21130.81    </td><td>145.3644    </td></tr>\n",
       "\t<tr><td>0.006798410 </td><td>0.06769829  </td><td>not rejected</td><td>0.08938361  </td><td>not rejected</td><td>0.817524    </td><td>not rejected</td><td>147.0932    </td><td>4.621838e-05</td><td>21636.42    </td><td>147.0932    </td></tr>\n",
       "</tbody>\n",
       "</table>\n"
      ],
      "text/latex": [
       "\\begin{tabular}{r|lllllllllll}\n",
       " theta & KS & KStest & CvM & CvMtest & AD & ADtest & mean & square & var & sd\\\\\n",
       "\\hline\n",
       "\t 0.007582251  & 0.06135990   & not rejected & 0.07771479   & not rejected & 1.154525     & not rejected & 131.8870     & 5.749053e-05 & 17394.17     & 131.8870    \\\\\n",
       "\t 0.007406461  & 0.05409077   & not rejected & 0.07202469   & not rejected & 1.120545     & not rejected & 135.0172     & 5.485567e-05 & 18229.66     & 135.0172    \\\\\n",
       "\t 0.007404126  & 0.05999186   & not rejected & 0.06899385   & not rejected & 1.086094     & not rejected & 135.0598     & 5.482108e-05 & 18241.16     & 135.0598    \\\\\n",
       "\t 0.007092198  & 0.05165822   & not rejected & 0.05439701   & not rejected & 1.053790     & not rejected & 141.0000     & 5.029928e-05 & 19881.00     & 141.0000    \\\\\n",
       "\t 0.006879263  & 0.07186013   & not rejected & 0.08074364   & not rejected & 0.770200     & not rejected & 145.3644     & 4.732426e-05 & 21130.81     & 145.3644    \\\\\n",
       "\t 0.006798410  & 0.06769829   & not rejected & 0.08938361   & not rejected & 0.817524     & not rejected & 147.0932     & 4.621838e-05 & 21636.42     & 147.0932    \\\\\n",
       "\\end{tabular}\n"
      ],
      "text/plain": [
       "  theta       KS         KStest       CvM        CvMtest      AD      \n",
       "1 0.007582251 0.06135990 not rejected 0.07771479 not rejected 1.154525\n",
       "2 0.007406461 0.05409077 not rejected 0.07202469 not rejected 1.120545\n",
       "3 0.007404126 0.05999186 not rejected 0.06899385 not rejected 1.086094\n",
       "4 0.007092198 0.05165822 not rejected 0.05439701 not rejected 1.053790\n",
       "5 0.006879263 0.07186013 not rejected 0.08074364 not rejected 0.770200\n",
       "6 0.006798410 0.06769829 not rejected 0.08938361 not rejected 0.817524\n",
       "  ADtest       mean     square       var      sd      \n",
       "1 not rejected 131.8870 5.749053e-05 17394.17 131.8870\n",
       "2 not rejected 135.0172 5.485567e-05 18229.66 135.0172\n",
       "3 not rejected 135.0598 5.482108e-05 18241.16 135.0598\n",
       "4 not rejected 141.0000 5.029928e-05 19881.00 141.0000\n",
       "5 not rejected 145.3644 4.732426e-05 21130.81 145.3644\n",
       "6 not rejected 147.0932 4.621838e-05 21636.42 147.0932"
      ]
     },
     "metadata": {},
     "output_type": "display_data"
    }
   ],
   "source": [
    "head(mleExp)"
   ]
  },
  {
   "cell_type": "code",
   "execution_count": 27,
   "metadata": {
    "collapsed": false
   },
   "outputs": [],
   "source": [
    "trueEst = NULL\n",
    "for(i in 1:nrow(mleExp)){\n",
    "    if(mleExp$KStest[i] == \"not rejected\" & mleGamma$KStest[i] == \"not rejected\"){\n",
    "        trueEst = c(trueEst,\"plot\")\n",
    "    }\n",
    "    if(mleExp$KStest[i] == \"not rejected\" & mleGamma$KStest[i] == \"rejected\"){\n",
    "        trueEst = c(trueEst,\"exp\")\n",
    "    }\n",
    "    if(mleExp$KStest[i] == \"rejected\" & mleGamma$KStest[i] == \"not rejected\"){\n",
    "        trueEst = c(trueEst,\"gamma\")\n",
    "    }\n",
    "    if(mleExp$KStest[i] == \"rejected\" & mleGamma$KStest[i] == \"rejected\"){\n",
    "        trueEst = c(trueEst,\"fail\")\n",
    "    }\n",
    "}"
   ]
  },
  {
   "cell_type": "code",
   "execution_count": 28,
   "metadata": {
    "collapsed": false
   },
   "outputs": [
    {
     "data": {
      "text/plain": [
       "trueEst\n",
       " exp plot \n",
       "  18   92 "
      ]
     },
     "metadata": {},
     "output_type": "display_data"
    }
   ],
   "source": [
    "table(trueEst)"
   ]
  },
  {
   "cell_type": "code",
   "execution_count": 29,
   "metadata": {
    "collapsed": false
   },
   "outputs": [
    {
     "data": {
      "text/html": [],
      "text/latex": [],
      "text/markdown": [],
      "text/plain": [
       "integer(0)"
      ]
     },
     "metadata": {},
     "output_type": "display_data"
    }
   ],
   "source": [
    "which(trueEst==\"fail\")"
   ]
  },
  {
   "cell_type": "code",
   "execution_count": 30,
   "metadata": {
    "collapsed": false
   },
   "outputs": [
    {
     "data": {
      "text/html": [
       "<ol class=list-inline>\n",
       "\t<li>1</li>\n",
       "\t<li>2</li>\n",
       "\t<li>3</li>\n",
       "\t<li>4</li>\n",
       "\t<li>5</li>\n",
       "\t<li>6</li>\n",
       "\t<li>7</li>\n",
       "\t<li>8</li>\n",
       "\t<li>9</li>\n",
       "\t<li>10</li>\n",
       "\t<li>11</li>\n",
       "\t<li>12</li>\n",
       "\t<li>13</li>\n",
       "\t<li>14</li>\n",
       "\t<li>15</li>\n",
       "\t<li>16</li>\n",
       "\t<li>17</li>\n",
       "\t<li>18</li>\n",
       "\t<li>19</li>\n",
       "\t<li>20</li>\n",
       "\t<li>21</li>\n",
       "\t<li>22</li>\n",
       "\t<li>23</li>\n",
       "\t<li>24</li>\n",
       "\t<li>25</li>\n",
       "\t<li>26</li>\n",
       "\t<li>27</li>\n",
       "\t<li>28</li>\n",
       "\t<li>29</li>\n",
       "\t<li>40</li>\n",
       "\t<li>41</li>\n",
       "\t<li>42</li>\n",
       "\t<li>43</li>\n",
       "\t<li>44</li>\n",
       "\t<li>45</li>\n",
       "\t<li>46</li>\n",
       "\t<li>47</li>\n",
       "\t<li>48</li>\n",
       "\t<li>49</li>\n",
       "\t<li>50</li>\n",
       "\t<li>51</li>\n",
       "\t<li>58</li>\n",
       "\t<li>59</li>\n",
       "\t<li>60</li>\n",
       "\t<li>63</li>\n",
       "\t<li>64</li>\n",
       "\t<li>65</li>\n",
       "\t<li>66</li>\n",
       "\t<li>67</li>\n",
       "\t<li>68</li>\n",
       "\t<li>69</li>\n",
       "\t<li>70</li>\n",
       "\t<li>71</li>\n",
       "\t<li>72</li>\n",
       "\t<li>73</li>\n",
       "\t<li>74</li>\n",
       "\t<li>75</li>\n",
       "\t<li>76</li>\n",
       "\t<li>77</li>\n",
       "\t<li>78</li>\n",
       "\t<li>79</li>\n",
       "\t<li>80</li>\n",
       "\t<li>81</li>\n",
       "\t<li>82</li>\n",
       "\t<li>83</li>\n",
       "\t<li>84</li>\n",
       "\t<li>85</li>\n",
       "\t<li>86</li>\n",
       "\t<li>87</li>\n",
       "\t<li>88</li>\n",
       "\t<li>89</li>\n",
       "\t<li>90</li>\n",
       "\t<li>91</li>\n",
       "\t<li>92</li>\n",
       "\t<li>93</li>\n",
       "\t<li>94</li>\n",
       "\t<li>95</li>\n",
       "\t<li>96</li>\n",
       "\t<li>97</li>\n",
       "\t<li>98</li>\n",
       "\t<li>99</li>\n",
       "\t<li>100</li>\n",
       "\t<li>101</li>\n",
       "\t<li>102</li>\n",
       "\t<li>103</li>\n",
       "\t<li>104</li>\n",
       "\t<li>105</li>\n",
       "\t<li>106</li>\n",
       "\t<li>107</li>\n",
       "\t<li>108</li>\n",
       "\t<li>109</li>\n",
       "\t<li>110</li>\n",
       "</ol>\n"
      ],
      "text/latex": [
       "\\begin{enumerate*}\n",
       "\\item 1\n",
       "\\item 2\n",
       "\\item 3\n",
       "\\item 4\n",
       "\\item 5\n",
       "\\item 6\n",
       "\\item 7\n",
       "\\item 8\n",
       "\\item 9\n",
       "\\item 10\n",
       "\\item 11\n",
       "\\item 12\n",
       "\\item 13\n",
       "\\item 14\n",
       "\\item 15\n",
       "\\item 16\n",
       "\\item 17\n",
       "\\item 18\n",
       "\\item 19\n",
       "\\item 20\n",
       "\\item 21\n",
       "\\item 22\n",
       "\\item 23\n",
       "\\item 24\n",
       "\\item 25\n",
       "\\item 26\n",
       "\\item 27\n",
       "\\item 28\n",
       "\\item 29\n",
       "\\item 40\n",
       "\\item 41\n",
       "\\item 42\n",
       "\\item 43\n",
       "\\item 44\n",
       "\\item 45\n",
       "\\item 46\n",
       "\\item 47\n",
       "\\item 48\n",
       "\\item 49\n",
       "\\item 50\n",
       "\\item 51\n",
       "\\item 58\n",
       "\\item 59\n",
       "\\item 60\n",
       "\\item 63\n",
       "\\item 64\n",
       "\\item 65\n",
       "\\item 66\n",
       "\\item 67\n",
       "\\item 68\n",
       "\\item 69\n",
       "\\item 70\n",
       "\\item 71\n",
       "\\item 72\n",
       "\\item 73\n",
       "\\item 74\n",
       "\\item 75\n",
       "\\item 76\n",
       "\\item 77\n",
       "\\item 78\n",
       "\\item 79\n",
       "\\item 80\n",
       "\\item 81\n",
       "\\item 82\n",
       "\\item 83\n",
       "\\item 84\n",
       "\\item 85\n",
       "\\item 86\n",
       "\\item 87\n",
       "\\item 88\n",
       "\\item 89\n",
       "\\item 90\n",
       "\\item 91\n",
       "\\item 92\n",
       "\\item 93\n",
       "\\item 94\n",
       "\\item 95\n",
       "\\item 96\n",
       "\\item 97\n",
       "\\item 98\n",
       "\\item 99\n",
       "\\item 100\n",
       "\\item 101\n",
       "\\item 102\n",
       "\\item 103\n",
       "\\item 104\n",
       "\\item 105\n",
       "\\item 106\n",
       "\\item 107\n",
       "\\item 108\n",
       "\\item 109\n",
       "\\item 110\n",
       "\\end{enumerate*}\n"
      ],
      "text/markdown": [
       "1. 1\n",
       "2. 2\n",
       "3. 3\n",
       "4. 4\n",
       "5. 5\n",
       "6. 6\n",
       "7. 7\n",
       "8. 8\n",
       "9. 9\n",
       "10. 10\n",
       "11. 11\n",
       "12. 12\n",
       "13. 13\n",
       "14. 14\n",
       "15. 15\n",
       "16. 16\n",
       "17. 17\n",
       "18. 18\n",
       "19. 19\n",
       "20. 20\n",
       "21. 21\n",
       "22. 22\n",
       "23. 23\n",
       "24. 24\n",
       "25. 25\n",
       "26. 26\n",
       "27. 27\n",
       "28. 28\n",
       "29. 29\n",
       "30. 40\n",
       "31. 41\n",
       "32. 42\n",
       "33. 43\n",
       "34. 44\n",
       "35. 45\n",
       "36. 46\n",
       "37. 47\n",
       "38. 48\n",
       "39. 49\n",
       "40. 50\n",
       "41. 51\n",
       "42. 58\n",
       "43. 59\n",
       "44. 60\n",
       "45. 63\n",
       "46. 64\n",
       "47. 65\n",
       "48. 66\n",
       "49. 67\n",
       "50. 68\n",
       "51. 69\n",
       "52. 70\n",
       "53. 71\n",
       "54. 72\n",
       "55. 73\n",
       "56. 74\n",
       "57. 75\n",
       "58. 76\n",
       "59. 77\n",
       "60. 78\n",
       "61. 79\n",
       "62. 80\n",
       "63. 81\n",
       "64. 82\n",
       "65. 83\n",
       "66. 84\n",
       "67. 85\n",
       "68. 86\n",
       "69. 87\n",
       "70. 88\n",
       "71. 89\n",
       "72. 90\n",
       "73. 91\n",
       "74. 92\n",
       "75. 93\n",
       "76. 94\n",
       "77. 95\n",
       "78. 96\n",
       "79. 97\n",
       "80. 98\n",
       "81. 99\n",
       "82. 100\n",
       "83. 101\n",
       "84. 102\n",
       "85. 103\n",
       "86. 104\n",
       "87. 105\n",
       "88. 106\n",
       "89. 107\n",
       "90. 108\n",
       "91. 109\n",
       "92. 110\n",
       "\n",
       "\n"
      ],
      "text/plain": [
       " [1]   1   2   3   4   5   6   7   8   9  10  11  12  13  14  15  16  17  18  19\n",
       "[20]  20  21  22  23  24  25  26  27  28  29  40  41  42  43  44  45  46  47  48\n",
       "[39]  49  50  51  58  59  60  63  64  65  66  67  68  69  70  71  72  73  74  75\n",
       "[58]  76  77  78  79  80  81  82  83  84  85  86  87  88  89  90  91  92  93  94\n",
       "[77]  95  96  97  98  99 100 101 102 103 104 105 106 107 108 109 110"
      ]
     },
     "metadata": {},
     "output_type": "display_data"
    }
   ],
   "source": [
    "which(trueEst==\"plot\")"
   ]
  },
  {
   "cell_type": "code",
   "execution_count": 31,
   "metadata": {
    "collapsed": true
   },
   "outputs": [],
   "source": [
    "options(repr.plot.width=9, repr.plot.height=5) #reduces the plot sizes"
   ]
  },
  {
   "cell_type": "code",
   "execution_count": 32,
   "metadata": {
    "collapsed": false
   },
   "outputs": [
    {
     "data": {
      "image/png": "[encoded data removed]",
      "text/plain": [
       "Plot with title \"Histogram of max_PRCP[, 13]\""
      ]
     },
     "metadata": {},
     "output_type": "display_data"
    }
   ],
   "source": [
    "par(mfrow=c(1,2))\n",
    "plot(density(rgamma(10000,mleGamma$alpha[13],mleGamma$theta[13])))\n",
    "hist(max_PRCP[,13], breaks=20)"
   ]
  },
  {
   "cell_type": "code",
   "execution_count": 33,
   "metadata": {
    "collapsed": false
   },
   "outputs": [
    {
     "data": {
      "image/png": "[encoded data removed]",
      "text/plain": [
       "Plot with title \"Histogram of max_PRCP[, 14]\""
      ]
     },
     "metadata": {},
     "output_type": "display_data"
    }
   ],
   "source": [
    "par(mfrow=c(1,2))\n",
    "plot(density(rgamma(10000,mleGamma$alpha[14],mleGamma$theta[14])))\n",
    "hist(max_PRCP[,14], breaks=20)"
   ]
  },
  {
   "cell_type": "code",
   "execution_count": 34,
   "metadata": {
    "collapsed": false
   },
   "outputs": [
    {
     "data": {
      "image/png": "[encoded data removed]",
      "text/plain": [
       "Plot with title \"Histogram of max_PRCP[, 3]\""
      ]
     },
     "metadata": {},
     "output_type": "display_data"
    }
   ],
   "source": [
    "par(mfrow=c(1,2))\n",
    "plot(density(rgamma(10000,mleGamma$alpha[3],mleGamma$theta[3])))\n",
    "hist(max_PRCP[,3], breaks=20)"
   ]
  },
  {
   "cell_type": "code",
   "execution_count": 35,
   "metadata": {
    "collapsed": false
   },
   "outputs": [
    {
     "data": {
      "image/png": "[encoded data removed]",
      "text/plain": [
       "Plot with title \"Histogram of max_PRCP[, 14]\""
      ]
     },
     "metadata": {},
     "output_type": "display_data"
    }
   ],
   "source": [
    "par(mfrow=c(1,2))\n",
    "plot(density(rgamma(10000,mleGamma$alpha[14],mleGamma$theta[14])))\n",
    "hist(max_PRCP[,14], breaks=20)"
   ]
  },
  {
   "cell_type": "code",
   "execution_count": 36,
   "metadata": {
    "collapsed": false
   },
   "outputs": [
    {
     "data": {
      "text/html": [
       "110"
      ],
      "text/latex": [
       "110"
      ],
      "text/markdown": [
       "110"
      ],
      "text/plain": [
       "[1] 110"
      ]
     },
     "metadata": {},
     "output_type": "display_data"
    }
   ],
   "source": [
    "length(trueEst)"
   ]
  },
  {
   "cell_type": "code",
   "execution_count": 37,
   "metadata": {
    "collapsed": true
   },
   "outputs": [],
   "source": [
    "maxObs2 = max(na.omit(data$Max.PRCP.))"
   ]
  },
  {
   "cell_type": "code",
   "execution_count": 38,
   "metadata": {
    "collapsed": true
   },
   "outputs": [],
   "source": [
    "smooth2 = runmean(data$Max.PRCP., 120)"
   ]
  },
  {
   "cell_type": "code",
   "execution_count": 39,
   "metadata": {
    "collapsed": true
   },
   "outputs": [],
   "source": [
    "smoothTS2 = ts(smooth2, start=firstYear, freq=12)"
   ]
  },
  {
   "cell_type": "code",
   "execution_count": 68,
   "metadata": {
    "collapsed": false
   },
   "outputs": [
    {
     "data": {
      "image/png": "[encoded data removed]",
      "text/plain": [
       "Plot with title \"FORT COLLINS CO US \n",
       "Observed 24 Hour Max Rainfall \n",
       "from 1896 to 2014 by Monthly Max\""
      ]
     },
     "metadata": {},
     "output_type": "display_data"
    }
   ],
   "source": [
    "plot(maxTS, xlab = \"Time (years)\", col = \"darkgrey\", lwd=1.75, ylab = \"Observed Max Precipitation (1/10mm)\", \n",
    "     main=sprintf(\"%s \\nObserved 24 Hour Max Rainfall \\nfrom %i to 2014 by Monthly Max\", \n",
    "     stationName,firstYear),ylim=c(0,1275))\n",
    "abline(h=maxObs2, col=\"red\", lwd=.5, lty=5)\n",
    "points(smoothTS2, col=4, type=\"l\", lwd=2)\n",
    "text(1998,maxObs2+75,sprintf(\"%i\",maxObs2))"
   ]
  },
  {
   "cell_type": "code",
   "execution_count": 64,
   "metadata": {
    "collapsed": false
   },
   "outputs": [
    {
     "data": {
      "image/png": "[encoded data removed]",
      "text/plain": [
       "Plot with title \"Smoothed 24 hour max rainfall from 1896 to 2014\""
      ]
     },
     "metadata": {},
     "output_type": "display_data"
    }
   ],
   "source": [
    "#rollSmall = runmean(data$Max.PRCP., 300)\n",
    "plot(smoothTS2, type=\"l\", xlab = \"Time (years)\", lwd=2,\n",
    "    ylab = \"Max Precipitation (1/10mm)\", col = 1, main=\"Smoothed 24 hour max rainfall from 1896 to 2014\")"
   ]
  },
  {
   "cell_type": "code",
   "execution_count": 65,
   "metadata": {
    "collapsed": false
   },
   "outputs": [
    {
     "data": {
      "image/png": "[encoded data removed]",
      "text/plain": [
       "Plot with title \"Smoothed 24 hour max rainfall from 1896 to 2014\""
      ]
     },
     "metadata": {},
     "output_type": "display_data"
    }
   ],
   "source": [
    "#rollSmall = runmean(data$Max.PRCP., 300)\n",
    "plot(smoothTS2, type=\"l\", xlab = \"Time (years)\", lwd=5,\n",
    "    ylab = \"Max Precipitation (1/10mm)\", col = 1, main=\"Smoothed 24 hour max rainfall from 1896 to 2014\")\n",
    "lines(smoothTS, col=2)"
   ]
  },
  {
   "cell_type": "code",
   "execution_count": 43,
   "metadata": {
    "collapsed": false
   },
   "outputs": [],
   "source": [
    "monthly = NULL\n",
    "for(i in 1:12){\n",
    "    monthly = cbind(monthly,data2012[which(data2012$MONTH==i),\"Max.PRCP.\"])\n",
    "}\n",
    "monthlyDF = as.data.frame(monthly)"
   ]
  },
  {
   "cell_type": "code",
   "execution_count": 44,
   "metadata": {
    "collapsed": false
   },
   "outputs": [],
   "source": [
    "colnames(monthlyDF) = c(\"jan\", \"feb\",\"mar\",\"apr\",\"may\",\"june\",\"july\",\"aug\",\"sept\",\"oct\",\"nov\",\"dec\")"
   ]
  },
  {
   "cell_type": "code",
   "execution_count": 45,
   "metadata": {
    "collapsed": true
   },
   "outputs": [],
   "source": [
    "options(repr.plot.width=8, repr.plot.height=8) #reduces the plot sizes"
   ]
  },
  {
   "cell_type": "code",
   "execution_count": 46,
   "metadata": {
    "collapsed": false
   },
   "outputs": [
    {
     "data": {
      "image/png": "[encoded data removed]",
      "text/plain": [
       "plot without title"
      ]
     },
     "metadata": {},
     "output_type": "display_data"
    }
   ],
   "source": [
    "par(mfrow=c(3,2))\n",
    "for(i in 1:6){\n",
    "    ts = ts(monthlyDF[,i], start=firstYear)\n",
    "    plot(ts)\n",
    "}"
   ]
  },
  {
   "cell_type": "code",
   "execution_count": 47,
   "metadata": {
    "collapsed": false
   },
   "outputs": [
    {
     "data": {
      "image/png": "[encoded data removed]",
      "text/plain": [
       "plot without title"
      ]
     },
     "metadata": {},
     "output_type": "display_data"
    }
   ],
   "source": [
    "par(mfrow=c(3,2))\n",
    "for(i in 7:12){\n",
    "    ts = ts(monthlyDF[,i],start=firstYear)\n",
    "    plot(ts)\n",
    "}"
   ]
  },
  {
   "cell_type": "code",
   "execution_count": 48,
   "metadata": {
    "collapsed": false
   },
   "outputs": [],
   "source": [
    "means = apply(max_PRCP,2,mean)"
   ]
  },
  {
   "cell_type": "code",
   "execution_count": 49,
   "metadata": {
    "collapsed": false
   },
   "outputs": [
    {
     "data": {
      "text/html": [
       "76"
      ],
      "text/latex": [
       "76"
      ],
      "text/markdown": [
       "76"
      ],
      "text/plain": [
       "[1] 76"
      ]
     },
     "metadata": {},
     "output_type": "display_data"
    }
   ],
   "source": [
    "sum(is.na(max_PRCP))"
   ]
  },
  {
   "cell_type": "markdown",
   "metadata": {},
   "source": [
    "Can't use the apply function with all the NAs"
   ]
  },
  {
   "cell_type": "code",
   "execution_count": 50,
   "metadata": {
    "collapsed": false
   },
   "outputs": [],
   "source": [
    "means = NULL\n",
    "for(i in 1:ncol(max_PRCP)){\n",
    "    means = c(means,mean(na.omit(max_PRCP[,i])))\n",
    "}"
   ]
  },
  {
   "cell_type": "code",
   "execution_count": 51,
   "metadata": {
    "collapsed": true
   },
   "outputs": [],
   "source": [
    "meanTS = ts(means,start=firstYear)"
   ]
  },
  {
   "cell_type": "code",
   "execution_count": 52,
   "metadata": {
    "collapsed": false
   },
   "outputs": [
    {
     "data": {
      "text/html": [
       "110"
      ],
      "text/latex": [
       "110"
      ],
      "text/markdown": [
       "110"
      ],
      "text/plain": [
       "[1] 110"
      ]
     },
     "metadata": {},
     "output_type": "display_data"
    }
   ],
   "source": [
    "length(meanTS)"
   ]
  },
  {
   "cell_type": "code",
   "execution_count": 53,
   "metadata": {
    "collapsed": false
   },
   "outputs": [
    {
     "data": {
      "text/html": [
       "1428"
      ],
      "text/latex": [
       "1428"
      ],
      "text/markdown": [
       "1428"
      ],
      "text/plain": [
       "[1] 1428"
      ]
     },
     "metadata": {},
     "output_type": "display_data"
    }
   ],
   "source": [
    "length(smoothTS2)"
   ]
  },
  {
   "cell_type": "code",
   "execution_count": 54,
   "metadata": {
    "collapsed": false
   },
   "outputs": [
    {
     "data": {
      "text/html": [
       "<ol class=list-inline>\n",
       "\t<li>'data'</li>\n",
       "\t<li>'data2012'</li>\n",
       "\t<li>'exp1'</li>\n",
       "\t<li>'firstYear'</li>\n",
       "\t<li>'gamma1'</li>\n",
       "\t<li>'gof'</li>\n",
       "\t<li>'i'</li>\n",
       "\t<li>'j'</li>\n",
       "\t<li>'max_PRCP'</li>\n",
       "\t<li>'maxObs'</li>\n",
       "\t<li>'maxObs2'</li>\n",
       "\t<li>'maxTS'</li>\n",
       "\t<li>'maxTS2012'</li>\n",
       "\t<li>'means'</li>\n",
       "\t<li>'meanTS'</li>\n",
       "\t<li>'mleExp'</li>\n",
       "\t<li>'mleGamma'</li>\n",
       "\t<li>'month'</li>\n",
       "\t<li>'monthly'</li>\n",
       "\t<li>'monthlyDF'</li>\n",
       "\t<li>'reg'</li>\n",
       "\t<li>'smooth'</li>\n",
       "\t<li>'smooth2'</li>\n",
       "\t<li>'smoothTS'</li>\n",
       "\t<li>'smoothTS2'</li>\n",
       "\t<li>'stationName'</li>\n",
       "\t<li>'testDist'</li>\n",
       "\t<li>'trueEst'</li>\n",
       "\t<li>'ts'</li>\n",
       "\t<li>'year'</li>\n",
       "</ol>\n"
      ],
      "text/latex": [
       "\\begin{enumerate*}\n",
       "\\item 'data'\n",
       "\\item 'data2012'\n",
       "\\item 'exp1'\n",
       "\\item 'firstYear'\n",
       "\\item 'gamma1'\n",
       "\\item 'gof'\n",
       "\\item 'i'\n",
       "\\item 'j'\n",
       "\\item 'max\\_PRCP'\n",
       "\\item 'maxObs'\n",
       "\\item 'maxObs2'\n",
       "\\item 'maxTS'\n",
       "\\item 'maxTS2012'\n",
       "\\item 'means'\n",
       "\\item 'meanTS'\n",
       "\\item 'mleExp'\n",
       "\\item 'mleGamma'\n",
       "\\item 'month'\n",
       "\\item 'monthly'\n",
       "\\item 'monthlyDF'\n",
       "\\item 'reg'\n",
       "\\item 'smooth'\n",
       "\\item 'smooth2'\n",
       "\\item 'smoothTS'\n",
       "\\item 'smoothTS2'\n",
       "\\item 'stationName'\n",
       "\\item 'testDist'\n",
       "\\item 'trueEst'\n",
       "\\item 'ts'\n",
       "\\item 'year'\n",
       "\\end{enumerate*}\n"
      ],
      "text/markdown": [
       "1. 'data'\n",
       "2. 'data2012'\n",
       "3. 'exp1'\n",
       "4. 'firstYear'\n",
       "5. 'gamma1'\n",
       "6. 'gof'\n",
       "7. 'i'\n",
       "8. 'j'\n",
       "9. 'max_PRCP'\n",
       "10. 'maxObs'\n",
       "11. 'maxObs2'\n",
       "12. 'maxTS'\n",
       "13. 'maxTS2012'\n",
       "14. 'means'\n",
       "15. 'meanTS'\n",
       "16. 'mleExp'\n",
       "17. 'mleGamma'\n",
       "18. 'month'\n",
       "19. 'monthly'\n",
       "20. 'monthlyDF'\n",
       "21. 'reg'\n",
       "22. 'smooth'\n",
       "23. 'smooth2'\n",
       "24. 'smoothTS'\n",
       "25. 'smoothTS2'\n",
       "26. 'stationName'\n",
       "27. 'testDist'\n",
       "28. 'trueEst'\n",
       "29. 'ts'\n",
       "30. 'year'\n",
       "\n",
       "\n"
      ],
      "text/plain": [
       " [1] \"data\"        \"data2012\"    \"exp1\"        \"firstYear\"   \"gamma1\"     \n",
       " [6] \"gof\"         \"i\"           \"j\"           \"max_PRCP\"    \"maxObs\"     \n",
       "[11] \"maxObs2\"     \"maxTS\"       \"maxTS2012\"   \"means\"       \"meanTS\"     \n",
       "[16] \"mleExp\"      \"mleGamma\"    \"month\"       \"monthly\"     \"monthlyDF\"  \n",
       "[21] \"reg\"         \"smooth\"      \"smooth2\"     \"smoothTS\"    \"smoothTS2\"  \n",
       "[26] \"stationName\" \"testDist\"    \"trueEst\"     \"ts\"          \"year\"       "
      ]
     },
     "metadata": {},
     "output_type": "display_data"
    }
   ],
   "source": [
    "objects()"
   ]
  }
 ],
 "metadata": {
  "anaconda-cloud": {},
  "kernelspec": {
   "display_name": "R",
   "language": "R",
   "name": "ir"
  },
  "language_info": {
   "codemirror_mode": "r",
   "file_extension": ".r",
   "mimetype": "text/x-r-source",
   "name": "R",
   "pygments_lexer": "r",
   "version": "3.3.1"
  }
 },
 "nbformat": 4,
 "nbformat_minor": 0
}
