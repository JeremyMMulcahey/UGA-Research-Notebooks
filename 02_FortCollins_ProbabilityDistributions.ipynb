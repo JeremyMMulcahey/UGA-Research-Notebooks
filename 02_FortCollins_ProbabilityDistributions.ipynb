{
 "cells": [
  {
   "cell_type": "markdown",
   "metadata": {},
   "source": [
    "# Master's Thesis: Investigating Maximum Rainfall Trends in Colorado"
   ]
  },
  {
   "cell_type": "markdown",
   "metadata": {},
   "source": [
    "<b>Institution:</b> University of Georgia <br>\n",
    "<b>Department:</b> Statistics <br>\n",
    "<b>Student:</b> Jeremy Mulcahey <br>\n",
    "<b>Advisor:</b> Dr. Lynne Seymour <br>\n",
    "<b>Last Edit:</b> 9/27/2016"
   ]
  },
  {
   "cell_type": "markdown",
   "metadata": {},
   "source": [
    "Section 0: Preparing data <br>\n",
    "Section 1: Parameter Estimation<br>\n",
    "Section 2: Probabilities of Interest"
   ]
  },
  {
   "cell_type": "markdown",
   "metadata": {},
   "source": [
    "##  Section 0: Preparing data"
   ]
  },
  {
   "cell_type": "code",
   "execution_count": 9,
   "metadata": {
    "collapsed": false
   },
   "outputs": [],
   "source": [
    "require(fitdistrplus); # required for parameter estimation\n",
    "require(caTools);      # required for smoothing\n",
    "require(repr);         # required for resizing plots in IRKernel\n",
    "require(\"IRdisplay\");  # graphic embedding\n",
    "require(MASS);         # testing"
   ]
  },
  {
   "cell_type": "code",
   "execution_count": 10,
   "metadata": {
    "collapsed": false
   },
   "outputs": [],
   "source": [
    "# establish working directorys\n",
    "setwd(\"C:/Users/jerem/Desktop/UGA/Master'sThesis/\")"
   ]
  },
  {
   "cell_type": "markdown",
   "metadata": {},
   "source": [
    "Data files for individual station names."
   ]
  },
  {
   "cell_type": "code",
   "execution_count": 11,
   "metadata": {
    "collapsed": false
   },
   "outputs": [],
   "source": [
    "data = read.csv(file = \"data/FORT_MonMax_GHCN.csv\", head=T)"
   ]
  },
  {
   "cell_type": "markdown",
   "metadata": {},
   "source": [
    "Adjust the data for later use."
   ]
  },
  {
   "cell_type": "code",
   "execution_count": 12,
   "metadata": {
    "collapsed": false
   },
   "outputs": [
    {
     "data": {
      "text/html": [
       "11"
      ],
      "text/latex": [
       "11"
      ],
      "text/markdown": [
       "11"
      ],
      "text/plain": [
       "[1] 11"
      ]
     },
     "metadata": {},
     "output_type": "display_data"
    }
   ],
   "source": [
    "# Create an index as x - used as needed\n",
    "month = seq(1,nrow(data),by=1)\n",
    "data = cbind(data,month)\n",
    "\n",
    "# first year of the data (changes by station name)\n",
    "firstYear = data$YEAR[1]\n",
    "\n",
    "# station name for plotting\n",
    "stationName = as.character(data$STATION_NAME[1])\n",
    "\n",
    "# -999 messed with the plotting - change to NA\n",
    "data[data==-999] = NA\n",
    "\n",
    "sum(is.na(data)) #print number of missing values"
   ]
  },
  {
   "cell_type": "code",
   "execution_count": 13,
   "metadata": {
    "collapsed": false
   },
   "outputs": [
    {
     "data": {
      "text/html": [
       "1896"
      ],
      "text/latex": [
       "1896"
      ],
      "text/markdown": [
       "1896"
      ],
      "text/plain": [
       "[1] 1896"
      ]
     },
     "metadata": {},
     "output_type": "display_data"
    }
   ],
   "source": [
    "firstYear"
   ]
  },
  {
   "cell_type": "markdown",
   "metadata": {},
   "source": [
    "Check number of years in the data set."
   ]
  },
  {
   "cell_type": "code",
   "execution_count": 14,
   "metadata": {
    "collapsed": false
   },
   "outputs": [
    {
     "data": {
      "text/html": [
       "118"
      ],
      "text/latex": [
       "118"
      ],
      "text/markdown": [
       "118"
      ],
      "text/plain": [
       "[1] 118"
      ]
     },
     "metadata": {},
     "output_type": "display_data"
    }
   ],
   "source": [
    "data$YEAR[nrow(data)]-firstYear"
   ]
  },
  {
   "cell_type": "code",
   "execution_count": 15,
   "metadata": {
    "collapsed": false
   },
   "outputs": [
    {
     "data": {
      "text/plain": [
       "\n",
       "  1   2   3   4   5   6   7   8   9  10  11  12 \n",
       "119 119 119 119 119 119 119 119 119 119 119 119 "
      ]
     },
     "metadata": {},
     "output_type": "display_data"
    }
   ],
   "source": [
    "table(data$MONTH)"
   ]
  },
  {
   "cell_type": "markdown",
   "metadata": {},
   "source": [
    "Make a data frame of all the 10 year periods following the first year for data collected at the station."
   ]
  },
  {
   "cell_type": "code",
   "execution_count": 16,
   "metadata": {
    "collapsed": false
   },
   "outputs": [],
   "source": [
    "#create the first decade (first year and the following 9 years)\n",
    "max_PRCP = data.frame(data[which(data$YEAR < (firstYear + 10)),6])\n",
    "\n",
    "# add all the subsequent decades to the data frame incrementing by 1 year at a time\n",
    "for(year in c((data$YEAR[1] + 1):2005)){\n",
    "    max_PRCP = cbind(max_PRCP,data[which(data$YEAR >= year & data$YEAR < year+10),6])\n",
    "}\n",
    "\n",
    "# name the columns as the first year of the observed 10 year periods\n",
    "colnames(max_PRCP) = as.character(c(firstYear:2005))\n",
    "\n",
    "# set the missing values to NA\n",
    "max_PRCP[max_PRCP==-999] = NA"
   ]
  },
  {
   "cell_type": "markdown",
   "metadata": {},
   "source": [
    "## Section 1: Parameter Estimation"
   ]
  },
  {
   "cell_type": "code",
   "execution_count": 17,
   "metadata": {
    "collapsed": true
   },
   "outputs": [],
   "source": [
    "options(repr.plot.width=9, repr.plot.height=8) #reduces the plot sizes"
   ]
  },
  {
   "cell_type": "code",
   "execution_count": 18,
   "metadata": {
    "collapsed": false
   },
   "outputs": [],
   "source": [
    "mleGamma = data.frame(alpha = double(),\n",
    "                 theta = double(),\n",
    "                 KS = double(),\n",
    "                 KStest = character(),\n",
    "                 CvM = double(),\n",
    "                 CvMtest = character(),\n",
    "                 AD = double(),\n",
    "                 ADtest = character(),\n",
    "                 stringsAsFactors = FALSE)\n",
    "                \n",
    "for (i in 1:length(max_PRCP)) {\n",
    "\n",
    "    testDist = na.omit(max_PRCP[,i])\n",
    "        \n",
    "        for(j in 1:length(testDist)){\n",
    "            if(testDist[j] < .1){\n",
    "            testDist[j]=.0001\n",
    "            }\n",
    "        }\n",
    "\n",
    "   gamma1 = fitdist(as.vector(testDist),\"gamma\",method = \"mle\")\n",
    "   mleGamma[i,1] = gamma1$estimate[1]\n",
    "   mleGamma[i,2] = gamma1$estimate[2]\n",
    "   \n",
    "   gof = gofstat(gamma1)\n",
    "   mleGamma[i,3] = gof$ks\n",
    "   mleGamma[i,4] = gof$kstest\n",
    "   mleGamma[i,5] = gof$cvm\n",
    "   mleGamma[i,6] = gof$cvmtest\n",
    "   mleGamma[i,7] = gof$ad\n",
    "   mleGamma[i,8] = gof$adtest\n",
    "}\n",
    "\n",
    "mleGamma[\"invTheta\"] = 1/(mleGamma$theta)\n",
    "mleGamma[\"mean\"] = mleGamma$invTheta*mleGamma$alpha\n",
    "mleGamma[\"var\"] = mleGamma$alpha*(mleGamma$invTheta^2)\n",
    "mleGamma[\"sd\"] = sqrt(mleGamma$var)"
   ]
  },
  {
   "cell_type": "code",
   "execution_count": 19,
   "metadata": {
    "collapsed": true
   },
   "outputs": [],
   "source": [
    "mleExp = data.frame(theta = double(),\n",
    "                 KS = double(),\n",
    "                 KStest = character(),\n",
    "                 CvM = double(),\n",
    "                 CvMtest = character(),\n",
    "                 AD = double(),\n",
    "                 ADtest = character(),\n",
    "                 stringsAsFactors = FALSE)\n",
    "                \n",
    "for (i in 1:length(max_PRCP)) {\n",
    "\n",
    "    testDist = na.omit(max_PRCP[,i])\n",
    "        \n",
    "        for(j in 1:length(testDist)){\n",
    "            if(testDist[j] < .1){\n",
    "            testDist[j]=.0001\n",
    "            }\n",
    "        }\n",
    "\n",
    "   exp1 = fitdist(as.vector(testDist),\"exp\",method = \"mle\")\n",
    "   mleExp[i,1] = exp1$estimate[1]\n",
    "   \n",
    "   gof = gofstat(exp1)\n",
    "   mleExp[i,2] = gof$ks\n",
    "   mleExp[i,3] = gof$kstest\n",
    "   mleExp[i,4] = gof$cvm\n",
    "   mleExp[i,5] = gof$cvmtest\n",
    "   mleExp[i,6] = gof$ad\n",
    "   mleExp[i,7] = gof$adtest\n",
    "}\n",
    "\n",
    "mleExp[\"mean\"] = 1/mleExp$theta\n",
    "mleExp[\"square\"] = mleExp$theta^2 \n",
    "mleExp[\"var\"] = 1/mleExp$square\n",
    "mleExp[\"sd\"] = sqrt(mleExp$var)"
   ]
  },
  {
   "cell_type": "code",
   "execution_count": 20,
   "metadata": {
    "collapsed": false
   },
   "outputs": [],
   "source": [
    "mleWB = data.frame(alpha = double(),theta = double(),\n",
    "                 KS = double(),\n",
    "                 KStest = character(),\n",
    "                 CvM = double(),\n",
    "                 CvMtest = character(),\n",
    "                 AD = double(),\n",
    "                 ADtest = character(),\n",
    "                 stringsAsFactors = FALSE)\n",
    "                \n",
    "for (i in 1:length(max_PRCP)) {\n",
    "\n",
    "    testDist = na.omit(max_PRCP[,i])\n",
    "        \n",
    "        for(j in 1:length(testDist)){\n",
    "            if(testDist[j] < .1){\n",
    "            testDist[j]=.0001\n",
    "            }\n",
    "        }\n",
    "\n",
    "   WB1 = fitdist(as.vector(testDist),\"weibull\",method = \"mle\")\n",
    "   mleWB[i,1] = WB1$estimate[1]\n",
    "   mleWB[i,2] = WB1$estimate[2]\n",
    "   \n",
    "   gof = gofstat(WB1)\n",
    "   mleWB[i,3] = gof$ks\n",
    "   mleWB[i,4] = gof$kstest\n",
    "   mleWB[i,5] = gof$cvm\n",
    "   mleWB[i,6] = gof$cvmtest\n",
    "   mleWB[i,7] = gof$ad\n",
    "   mleWB[i,8] = gof$adtest\n",
    "}\n",
    "\n",
    "\n",
    "#mleWB[\"mean\"] = 1/mleWB$theta\n",
    "#mleWB[\"square\"] = mleWB$theta^2 \n",
    "#mleWB[\"var\"] = 1/mleWB$square\n",
    "#mleWB[\"sd\"] = sqrt(mleWB$var)"
   ]
  },
  {
   "cell_type": "code",
   "execution_count": 21,
   "metadata": {
    "collapsed": false
   },
   "outputs": [
    {
     "data": {
      "text/html": [
       "<ol class=list-inline>\n",
       "\t<li>33</li>\n",
       "\t<li>34</li>\n",
       "\t<li>35</li>\n",
       "\t<li>36</li>\n",
       "\t<li>37</li>\n",
       "\t<li>38</li>\n",
       "\t<li>39</li>\n",
       "\t<li>52</li>\n",
       "\t<li>53</li>\n",
       "\t<li>54</li>\n",
       "\t<li>61</li>\n",
       "\t<li>62</li>\n",
       "</ol>\n"
      ],
      "text/latex": [
       "\\begin{enumerate*}\n",
       "\\item 33\n",
       "\\item 34\n",
       "\\item 35\n",
       "\\item 36\n",
       "\\item 37\n",
       "\\item 38\n",
       "\\item 39\n",
       "\\item 52\n",
       "\\item 53\n",
       "\\item 54\n",
       "\\item 61\n",
       "\\item 62\n",
       "\\end{enumerate*}\n"
      ],
      "text/markdown": [
       "1. 33\n",
       "2. 34\n",
       "3. 35\n",
       "4. 36\n",
       "5. 37\n",
       "6. 38\n",
       "7. 39\n",
       "8. 52\n",
       "9. 53\n",
       "10. 54\n",
       "11. 61\n",
       "12. 62\n",
       "\n",
       "\n"
      ],
      "text/plain": [
       " [1] 33 34 35 36 37 38 39 52 53 54 61 62"
      ]
     },
     "metadata": {},
     "output_type": "display_data"
    }
   ],
   "source": [
    "which(mleWB$KStest==\"rejected\")"
   ]
  },
  {
   "cell_type": "code",
   "execution_count": 22,
   "metadata": {
    "collapsed": false
   },
   "outputs": [
    {
     "data": {
      "text/plain": [
       "\n",
       "not rejected     rejected \n",
       "          98           12 "
      ]
     },
     "metadata": {},
     "output_type": "display_data"
    },
    {
     "data": {
      "text/plain": [
       "\n",
       "not rejected \n",
       "         110 "
      ]
     },
     "metadata": {},
     "output_type": "display_data"
    },
    {
     "data": {
      "text/plain": [
       "\n",
       "not rejected     rejected \n",
       "          92           18 "
      ]
     },
     "metadata": {},
     "output_type": "display_data"
    }
   ],
   "source": [
    "table(mleWB$KStest)\n",
    "table(mleExp$KStest)\n",
    "table(mleGamma$KStest)"
   ]
  },
  {
   "cell_type": "code",
   "execution_count": 23,
   "metadata": {
    "collapsed": false
   },
   "outputs": [
    {
     "data": {
      "text/html": [
       "<ol class=list-inline>\n",
       "\t<li>30</li>\n",
       "\t<li>31</li>\n",
       "\t<li>32</li>\n",
       "\t<li>33</li>\n",
       "\t<li>34</li>\n",
       "\t<li>35</li>\n",
       "\t<li>36</li>\n",
       "\t<li>37</li>\n",
       "\t<li>38</li>\n",
       "\t<li>39</li>\n",
       "\t<li>52</li>\n",
       "\t<li>53</li>\n",
       "\t<li>54</li>\n",
       "\t<li>55</li>\n",
       "\t<li>56</li>\n",
       "\t<li>57</li>\n",
       "\t<li>61</li>\n",
       "\t<li>62</li>\n",
       "</ol>\n"
      ],
      "text/latex": [
       "\\begin{enumerate*}\n",
       "\\item 30\n",
       "\\item 31\n",
       "\\item 32\n",
       "\\item 33\n",
       "\\item 34\n",
       "\\item 35\n",
       "\\item 36\n",
       "\\item 37\n",
       "\\item 38\n",
       "\\item 39\n",
       "\\item 52\n",
       "\\item 53\n",
       "\\item 54\n",
       "\\item 55\n",
       "\\item 56\n",
       "\\item 57\n",
       "\\item 61\n",
       "\\item 62\n",
       "\\end{enumerate*}\n"
      ],
      "text/markdown": [
       "1. 30\n",
       "2. 31\n",
       "3. 32\n",
       "4. 33\n",
       "5. 34\n",
       "6. 35\n",
       "7. 36\n",
       "8. 37\n",
       "9. 38\n",
       "10. 39\n",
       "11. 52\n",
       "12. 53\n",
       "13. 54\n",
       "14. 55\n",
       "15. 56\n",
       "16. 57\n",
       "17. 61\n",
       "18. 62\n",
       "\n",
       "\n"
      ],
      "text/plain": [
       " [1] 30 31 32 33 34 35 36 37 38 39 52 53 54 55 56 57 61 62"
      ]
     },
     "metadata": {},
     "output_type": "display_data"
    }
   ],
   "source": [
    "which(mleGamma$KStest==\"rejected\")"
   ]
  },
  {
   "cell_type": "code",
   "execution_count": 24,
   "metadata": {
    "collapsed": false
   },
   "outputs": [
    {
     "data": {
      "text/html": [],
      "text/latex": [],
      "text/markdown": [],
      "text/plain": [
       "integer(0)"
      ]
     },
     "metadata": {},
     "output_type": "display_data"
    }
   ],
   "source": [
    "which(mleExp$KStest==\"rejected\")"
   ]
  },
  {
   "cell_type": "code",
   "execution_count": 25,
   "metadata": {
    "collapsed": false
   },
   "outputs": [
    {
     "data": {
      "text/html": [
       "<table>\n",
       "<thead><tr><th scope=col>alpha</th><th scope=col>theta</th><th scope=col>KS</th><th scope=col>KStest</th><th scope=col>CvM</th><th scope=col>CvMtest</th><th scope=col>AD</th><th scope=col>ADtest</th><th scope=col>invTheta</th><th scope=col>mean</th><th scope=col>var</th><th scope=col>sd</th></tr></thead>\n",
       "<tbody>\n",
       "\t<tr><td>0.7702459   </td><td>0.005838670 </td><td>0.11823885  </td><td>not rejected</td><td>0.3945848   </td><td>NA          </td><td>2.578290    </td><td>NA          </td><td>171.2719    </td><td>131.9215    </td><td>22594.44    </td><td>150.3145    </td></tr>\n",
       "\t<tr><td>0.7592384   </td><td>0.005623842 </td><td>0.10957672  </td><td>not rejected</td><td>0.3993983   </td><td>NA          </td><td>2.545615    </td><td>NA          </td><td>177.8144    </td><td>135.0035    </td><td>24005.57    </td><td>154.9373    </td></tr>\n",
       "\t<tr><td>0.7329028   </td><td>0.005426065 </td><td>0.11023874  </td><td>not rejected</td><td>0.3867091   </td><td>NA          </td><td>2.377635    </td><td>NA          </td><td>184.2956    </td><td>135.0708    </td><td>24892.95    </td><td>157.7750    </td></tr>\n",
       "\t<tr><td>0.7228140   </td><td>0.005126209 </td><td>0.10648805  </td><td>not rejected</td><td>0.3718661   </td><td>NA          </td><td>2.266249    </td><td>NA          </td><td>195.0759    </td><td>141.0036    </td><td>27506.41    </td><td>165.8506    </td></tr>\n",
       "\t<tr><td>0.7894197   </td><td>0.005429997 </td><td>0.10174311  </td><td>not rejected</td><td>0.2569872   </td><td>NA          </td><td>1.422317    </td><td>NA          </td><td>184.1622    </td><td>145.3812    </td><td>26773.72    </td><td>163.6268    </td></tr>\n",
       "\t<tr><td>0.7953316   </td><td>0.005407428 </td><td>0.09718581  </td><td>not rejected</td><td>0.2725329   </td><td>NA          </td><td>1.497542    </td><td>NA          </td><td>184.9308    </td><td>147.0813    </td><td>27199.86    </td><td>164.9238    </td></tr>\n",
       "</tbody>\n",
       "</table>\n"
      ],
      "text/latex": [
       "\\begin{tabular}{r|llllllllllll}\n",
       " alpha & theta & KS & KStest & CvM & CvMtest & AD & ADtest & invTheta & mean & var & sd\\\\\n",
       "\\hline\n",
       "\t 0.7702459    & 0.005838670  & 0.11823885   & not rejected & 0.3945848    & NA           & 2.578290     & NA           & 171.2719     & 131.9215     & 22594.44     & 150.3145    \\\\\n",
       "\t 0.7592384    & 0.005623842  & 0.10957672   & not rejected & 0.3993983    & NA           & 2.545615     & NA           & 177.8144     & 135.0035     & 24005.57     & 154.9373    \\\\\n",
       "\t 0.7329028    & 0.005426065  & 0.11023874   & not rejected & 0.3867091    & NA           & 2.377635     & NA           & 184.2956     & 135.0708     & 24892.95     & 157.7750    \\\\\n",
       "\t 0.7228140    & 0.005126209  & 0.10648805   & not rejected & 0.3718661    & NA           & 2.266249     & NA           & 195.0759     & 141.0036     & 27506.41     & 165.8506    \\\\\n",
       "\t 0.7894197    & 0.005429997  & 0.10174311   & not rejected & 0.2569872    & NA           & 1.422317     & NA           & 184.1622     & 145.3812     & 26773.72     & 163.6268    \\\\\n",
       "\t 0.7953316    & 0.005407428  & 0.09718581   & not rejected & 0.2725329    & NA           & 1.497542     & NA           & 184.9308     & 147.0813     & 27199.86     & 164.9238    \\\\\n",
       "\\end{tabular}\n"
      ],
      "text/plain": [
       "  alpha     theta       KS         KStest       CvM       CvMtest AD      \n",
       "1 0.7702459 0.005838670 0.11823885 not rejected 0.3945848 NA      2.578290\n",
       "2 0.7592384 0.005623842 0.10957672 not rejected 0.3993983 NA      2.545615\n",
       "3 0.7329028 0.005426065 0.11023874 not rejected 0.3867091 NA      2.377635\n",
       "4 0.7228140 0.005126209 0.10648805 not rejected 0.3718661 NA      2.266249\n",
       "5 0.7894197 0.005429997 0.10174311 not rejected 0.2569872 NA      1.422317\n",
       "6 0.7953316 0.005407428 0.09718581 not rejected 0.2725329 NA      1.497542\n",
       "  ADtest invTheta mean     var      sd      \n",
       "1 NA     171.2719 131.9215 22594.44 150.3145\n",
       "2 NA     177.8144 135.0035 24005.57 154.9373\n",
       "3 NA     184.2956 135.0708 24892.95 157.7750\n",
       "4 NA     195.0759 141.0036 27506.41 165.8506\n",
       "5 NA     184.1622 145.3812 26773.72 163.6268\n",
       "6 NA     184.9308 147.0813 27199.86 164.9238"
      ]
     },
     "metadata": {},
     "output_type": "display_data"
    }
   ],
   "source": [
    "head(mleGamma)"
   ]
  },
  {
   "cell_type": "code",
   "execution_count": 26,
   "metadata": {
    "collapsed": false
   },
   "outputs": [
    {
     "data": {
      "text/html": [
       "<table>\n",
       "<thead><tr><th scope=col>theta</th><th scope=col>KS</th><th scope=col>KStest</th><th scope=col>CvM</th><th scope=col>CvMtest</th><th scope=col>AD</th><th scope=col>ADtest</th><th scope=col>mean</th><th scope=col>square</th><th scope=col>var</th><th scope=col>sd</th></tr></thead>\n",
       "<tbody>\n",
       "\t<tr><td>0.007582251 </td><td>0.06135990  </td><td>not rejected</td><td>0.07771479  </td><td>not rejected</td><td>1.154525    </td><td>not rejected</td><td>131.8870    </td><td>5.749053e-05</td><td>17394.17    </td><td>131.8870    </td></tr>\n",
       "\t<tr><td>0.007406461 </td><td>0.05409077  </td><td>not rejected</td><td>0.07202469  </td><td>not rejected</td><td>1.120545    </td><td>not rejected</td><td>135.0172    </td><td>5.485567e-05</td><td>18229.66    </td><td>135.0172    </td></tr>\n",
       "\t<tr><td>0.007404126 </td><td>0.05999186  </td><td>not rejected</td><td>0.06899385  </td><td>not rejected</td><td>1.086094    </td><td>not rejected</td><td>135.0598    </td><td>5.482108e-05</td><td>18241.16    </td><td>135.0598    </td></tr>\n",
       "\t<tr><td>0.007092198 </td><td>0.05165822  </td><td>not rejected</td><td>0.05439701  </td><td>not rejected</td><td>1.053790    </td><td>not rejected</td><td>141.0000    </td><td>5.029928e-05</td><td>19881.00    </td><td>141.0000    </td></tr>\n",
       "\t<tr><td>0.006879263 </td><td>0.07186013  </td><td>not rejected</td><td>0.08074364  </td><td>not rejected</td><td>0.770200    </td><td>not rejected</td><td>145.3644    </td><td>4.732426e-05</td><td>21130.81    </td><td>145.3644    </td></tr>\n",
       "\t<tr><td>0.006798410 </td><td>0.06769829  </td><td>not rejected</td><td>0.08938361  </td><td>not rejected</td><td>0.817524    </td><td>not rejected</td><td>147.0932    </td><td>4.621838e-05</td><td>21636.42    </td><td>147.0932    </td></tr>\n",
       "</tbody>\n",
       "</table>\n"
      ],
      "text/latex": [
       "\\begin{tabular}{r|lllllllllll}\n",
       " theta & KS & KStest & CvM & CvMtest & AD & ADtest & mean & square & var & sd\\\\\n",
       "\\hline\n",
       "\t 0.007582251  & 0.06135990   & not rejected & 0.07771479   & not rejected & 1.154525     & not rejected & 131.8870     & 5.749053e-05 & 17394.17     & 131.8870    \\\\\n",
       "\t 0.007406461  & 0.05409077   & not rejected & 0.07202469   & not rejected & 1.120545     & not rejected & 135.0172     & 5.485567e-05 & 18229.66     & 135.0172    \\\\\n",
       "\t 0.007404126  & 0.05999186   & not rejected & 0.06899385   & not rejected & 1.086094     & not rejected & 135.0598     & 5.482108e-05 & 18241.16     & 135.0598    \\\\\n",
       "\t 0.007092198  & 0.05165822   & not rejected & 0.05439701   & not rejected & 1.053790     & not rejected & 141.0000     & 5.029928e-05 & 19881.00     & 141.0000    \\\\\n",
       "\t 0.006879263  & 0.07186013   & not rejected & 0.08074364   & not rejected & 0.770200     & not rejected & 145.3644     & 4.732426e-05 & 21130.81     & 145.3644    \\\\\n",
       "\t 0.006798410  & 0.06769829   & not rejected & 0.08938361   & not rejected & 0.817524     & not rejected & 147.0932     & 4.621838e-05 & 21636.42     & 147.0932    \\\\\n",
       "\\end{tabular}\n"
      ],
      "text/plain": [
       "  theta       KS         KStest       CvM        CvMtest      AD      \n",
       "1 0.007582251 0.06135990 not rejected 0.07771479 not rejected 1.154525\n",
       "2 0.007406461 0.05409077 not rejected 0.07202469 not rejected 1.120545\n",
       "3 0.007404126 0.05999186 not rejected 0.06899385 not rejected 1.086094\n",
       "4 0.007092198 0.05165822 not rejected 0.05439701 not rejected 1.053790\n",
       "5 0.006879263 0.07186013 not rejected 0.08074364 not rejected 0.770200\n",
       "6 0.006798410 0.06769829 not rejected 0.08938361 not rejected 0.817524\n",
       "  ADtest       mean     square       var      sd      \n",
       "1 not rejected 131.8870 5.749053e-05 17394.17 131.8870\n",
       "2 not rejected 135.0172 5.485567e-05 18229.66 135.0172\n",
       "3 not rejected 135.0598 5.482108e-05 18241.16 135.0598\n",
       "4 not rejected 141.0000 5.029928e-05 19881.00 141.0000\n",
       "5 not rejected 145.3644 4.732426e-05 21130.81 145.3644\n",
       "6 not rejected 147.0932 4.621838e-05 21636.42 147.0932"
      ]
     },
     "metadata": {},
     "output_type": "display_data"
    }
   ],
   "source": [
    "head(mleExp)"
   ]
  },
  {
   "cell_type": "code",
   "execution_count": 27,
   "metadata": {
    "collapsed": false
   },
   "outputs": [],
   "source": [
    "trueEst = NULL\n",
    "for(i in 1:nrow(mleExp)){\n",
    "    if(mleExp$KStest[i] == \"not rejected\" & mleGamma$KStest[i] == \"not rejected\"){\n",
    "        trueEst = c(trueEst,\"plot\")\n",
    "    }\n",
    "    if(mleExp$KStest[i] == \"not rejected\" & mleGamma$KStest[i] == \"rejected\"){\n",
    "        trueEst = c(trueEst,\"exp\")\n",
    "    }\n",
    "    if(mleExp$KStest[i] == \"rejected\" & mleGamma$KStest[i] == \"not rejected\"){\n",
    "        trueEst = c(trueEst,\"gamma\")\n",
    "    }\n",
    "    if(mleExp$KStest[i] == \"rejected\" & mleGamma$KStest[i] == \"rejected\"){\n",
    "        trueEst = c(trueEst,\"fail\")\n",
    "    }\n",
    "}"
   ]
  },
  {
   "cell_type": "code",
   "execution_count": 28,
   "metadata": {
    "collapsed": false
   },
   "outputs": [
    {
     "data": {
      "text/plain": [
       "trueEst\n",
       " exp plot \n",
       "  18   92 "
      ]
     },
     "metadata": {},
     "output_type": "display_data"
    },
    {
     "name": "stdout",
     "output_type": "stream",
     "text": [
      "\n",
      "not rejected     rejected \n",
      "          98           12 \n"
     ]
    }
   ],
   "source": [
    "table(trueEst)\n",
    "print(table(mleWB$KStest))"
   ]
  },
  {
   "cell_type": "code",
   "execution_count": 29,
   "metadata": {
    "collapsed": false
   },
   "outputs": [
    {
     "data": {
      "text/html": [
       "<ol class=list-inline>\n",
       "\t<li>FALSE</li>\n",
       "\t<li>FALSE</li>\n",
       "\t<li>FALSE</li>\n",
       "\t<li>FALSE</li>\n",
       "\t<li>FALSE</li>\n",
       "\t<li>FALSE</li>\n",
       "\t<li>FALSE</li>\n",
       "\t<li>FALSE</li>\n",
       "\t<li>FALSE</li>\n",
       "\t<li>FALSE</li>\n",
       "\t<li>FALSE</li>\n",
       "\t<li>FALSE</li>\n",
       "</ol>\n"
      ],
      "text/latex": [
       "\\begin{enumerate*}\n",
       "\\item FALSE\n",
       "\\item FALSE\n",
       "\\item FALSE\n",
       "\\item FALSE\n",
       "\\item FALSE\n",
       "\\item FALSE\n",
       "\\item FALSE\n",
       "\\item FALSE\n",
       "\\item FALSE\n",
       "\\item FALSE\n",
       "\\item FALSE\n",
       "\\item FALSE\n",
       "\\end{enumerate*}\n"
      ],
      "text/markdown": [
       "1. FALSE\n",
       "2. FALSE\n",
       "3. FALSE\n",
       "4. FALSE\n",
       "5. FALSE\n",
       "6. FALSE\n",
       "7. FALSE\n",
       "8. FALSE\n",
       "9. FALSE\n",
       "10. FALSE\n",
       "11. FALSE\n",
       "12. FALSE\n",
       "\n",
       "\n"
      ],
      "text/plain": [
       " [1] FALSE FALSE FALSE FALSE FALSE FALSE FALSE FALSE FALSE FALSE FALSE FALSE"
      ]
     },
     "metadata": {},
     "output_type": "display_data"
    }
   ],
   "source": [
    "mleGamma[which(mleWB$KStest==\"rejected\"),\"KStest\"] == \"not rejected\""
   ]
  },
  {
   "cell_type": "code",
   "execution_count": 30,
   "metadata": {
    "collapsed": false
   },
   "outputs": [
    {
     "data": {
      "text/html": [
       "<ol class=list-inline>\n",
       "\t<li>TRUE</li>\n",
       "\t<li>TRUE</li>\n",
       "\t<li>TRUE</li>\n",
       "\t<li>TRUE</li>\n",
       "\t<li>TRUE</li>\n",
       "\t<li>TRUE</li>\n",
       "\t<li>TRUE</li>\n",
       "\t<li>TRUE</li>\n",
       "\t<li>TRUE</li>\n",
       "\t<li>TRUE</li>\n",
       "\t<li>TRUE</li>\n",
       "\t<li>TRUE</li>\n",
       "</ol>\n"
      ],
      "text/latex": [
       "\\begin{enumerate*}\n",
       "\\item TRUE\n",
       "\\item TRUE\n",
       "\\item TRUE\n",
       "\\item TRUE\n",
       "\\item TRUE\n",
       "\\item TRUE\n",
       "\\item TRUE\n",
       "\\item TRUE\n",
       "\\item TRUE\n",
       "\\item TRUE\n",
       "\\item TRUE\n",
       "\\item TRUE\n",
       "\\end{enumerate*}\n"
      ],
      "text/markdown": [
       "1. TRUE\n",
       "2. TRUE\n",
       "3. TRUE\n",
       "4. TRUE\n",
       "5. TRUE\n",
       "6. TRUE\n",
       "7. TRUE\n",
       "8. TRUE\n",
       "9. TRUE\n",
       "10. TRUE\n",
       "11. TRUE\n",
       "12. TRUE\n",
       "\n",
       "\n"
      ],
      "text/plain": [
       " [1] TRUE TRUE TRUE TRUE TRUE TRUE TRUE TRUE TRUE TRUE TRUE TRUE"
      ]
     },
     "metadata": {},
     "output_type": "display_data"
    }
   ],
   "source": [
    "mleExp[which(mleWB$KStest==\"rejected\"),\"KStest\"] == \"not rejected\""
   ]
  },
  {
   "cell_type": "code",
   "execution_count": 31,
   "metadata": {
    "collapsed": false
   },
   "outputs": [
    {
     "data": {
      "text/html": [
       "<ol class=list-inline>\n",
       "\t<li>33</li>\n",
       "\t<li>34</li>\n",
       "\t<li>35</li>\n",
       "\t<li>36</li>\n",
       "\t<li>37</li>\n",
       "\t<li>38</li>\n",
       "\t<li>39</li>\n",
       "\t<li>52</li>\n",
       "\t<li>53</li>\n",
       "\t<li>54</li>\n",
       "\t<li>61</li>\n",
       "\t<li>62</li>\n",
       "</ol>\n"
      ],
      "text/latex": [
       "\\begin{enumerate*}\n",
       "\\item 33\n",
       "\\item 34\n",
       "\\item 35\n",
       "\\item 36\n",
       "\\item 37\n",
       "\\item 38\n",
       "\\item 39\n",
       "\\item 52\n",
       "\\item 53\n",
       "\\item 54\n",
       "\\item 61\n",
       "\\item 62\n",
       "\\end{enumerate*}\n"
      ],
      "text/markdown": [
       "1. 33\n",
       "2. 34\n",
       "3. 35\n",
       "4. 36\n",
       "5. 37\n",
       "6. 38\n",
       "7. 39\n",
       "8. 52\n",
       "9. 53\n",
       "10. 54\n",
       "11. 61\n",
       "12. 62\n",
       "\n",
       "\n"
      ],
      "text/plain": [
       " [1] 33 34 35 36 37 38 39 52 53 54 61 62"
      ]
     },
     "metadata": {},
     "output_type": "display_data"
    }
   ],
   "source": [
    "which(mleWB$KStest==\"rejected\")"
   ]
  },
  {
   "cell_type": "code",
   "execution_count": 32,
   "metadata": {
    "collapsed": false
   },
   "outputs": [
    {
     "data": {
      "image/png": "[encoded data removed]",
      "text/plain": [
       "Plot with title \"P-P plot\""
      ]
     },
     "metadata": {},
     "output_type": "display_data"
    }
   ],
   "source": [
    "testDist = na.omit(max_PRCP[,1])\n",
    "\n",
    "    for(j in 1:length(testDist)){\n",
    "        if(testDist[j] < .1){\n",
    "        testDist[j]=.0001\n",
    "        }\n",
    "    }\n",
    "\n",
    "plot(fitdist(as.vector(testDist),\"weibull\",method = \"mle\"))"
   ]
  },
  {
   "cell_type": "code",
   "execution_count": 33,
   "metadata": {
    "collapsed": false
   },
   "outputs": [
    {
     "data": {
      "text/html": [
       "'not rejected'"
      ],
      "text/latex": [
       "'not rejected'"
      ],
      "text/markdown": [
       "'not rejected'"
      ],
      "text/plain": [
       "[1] \"not rejected\""
      ]
     },
     "metadata": {},
     "output_type": "display_data"
    },
    {
     "data": {
      "text/html": [
       "'not rejected'"
      ],
      "text/latex": [
       "'not rejected'"
      ],
      "text/markdown": [
       "'not rejected'"
      ],
      "text/plain": [
       "[1] \"not rejected\""
      ]
     },
     "metadata": {},
     "output_type": "display_data"
    },
    {
     "data": {
      "text/html": [
       "'not rejected'"
      ],
      "text/latex": [
       "'not rejected'"
      ],
      "text/markdown": [
       "'not rejected'"
      ],
      "text/plain": [
       "[1] \"not rejected\""
      ]
     },
     "metadata": {},
     "output_type": "display_data"
    }
   ],
   "source": [
    "mleGamma[1,\"KStest\"];mleExp[1,\"KStest\"];mleWB[1,\"KStest\"]"
   ]
  },
  {
   "cell_type": "code",
   "execution_count": 34,
   "metadata": {
    "collapsed": false
   },
   "outputs": [
    {
     "data": {
      "image/png": "[encoded data removed]",
      "text/plain": [
       "Plot with title \"P-P plot\""
      ]
     },
     "metadata": {},
     "output_type": "display_data"
    }
   ],
   "source": [
    "testDist = na.omit(max_PRCP[,1])\n",
    "\n",
    "    for(j in 1:length(testDist)){\n",
    "        if(testDist[j] < .1){\n",
    "        testDist[j]=.0001\n",
    "        }\n",
    "    }\n",
    "\n",
    "fw = fitdist(as.vector(testDist), \"weibull\", method=\"mle\")\n",
    "fg = fitdist(as.vector(testDist), \"exp\", method=\"mle\")\n",
    "fln = fitdist(as.vector(testDist), \"gamma\", method=\"mle\")\n",
    "par(mfrow = c(2, 2))\n",
    "plot.legend <- c(\"Weibull\", \"exp\", \"gamma\")\n",
    "denscomp(list(fw, fln, fg), legendtext = plot.legend)\n",
    "qqcomp(list(fw, fln, fg), legendtext = plot.legend)\n",
    "cdfcomp(list(fw, fln, fg), legendtext = plot.legend)\n",
    "ppcomp(list(fw, fln, fg), legendtext = plot.legend)"
   ]
  },
  {
   "cell_type": "code",
   "execution_count": 35,
   "metadata": {
    "collapsed": false
   },
   "outputs": [
    {
     "data": {
      "text/html": [
       "'not rejected'"
      ],
      "text/latex": [
       "'not rejected'"
      ],
      "text/markdown": [
       "'not rejected'"
      ],
      "text/plain": [
       "[1] \"not rejected\""
      ]
     },
     "metadata": {},
     "output_type": "display_data"
    },
    {
     "data": {
      "text/html": [
       "'not rejected'"
      ],
      "text/latex": [
       "'not rejected'"
      ],
      "text/markdown": [
       "'not rejected'"
      ],
      "text/plain": [
       "[1] \"not rejected\""
      ]
     },
     "metadata": {},
     "output_type": "display_data"
    },
    {
     "data": {
      "text/html": [
       "'not rejected'"
      ],
      "text/latex": [
       "'not rejected'"
      ],
      "text/markdown": [
       "'not rejected'"
      ],
      "text/plain": [
       "[1] \"not rejected\""
      ]
     },
     "metadata": {},
     "output_type": "display_data"
    }
   ],
   "source": [
    "mleGamma[2,\"KStest\"];mleExp[2,\"KStest\"];mleWB[2,\"KStest\"]"
   ]
  },
  {
   "cell_type": "code",
   "execution_count": 36,
   "metadata": {
    "collapsed": false
   },
   "outputs": [
    {
     "data": {
      "text/html": [
       "'not rejected'"
      ],
      "text/latex": [
       "'not rejected'"
      ],
      "text/markdown": [
       "'not rejected'"
      ],
      "text/plain": [
       "[1] \"not rejected\""
      ]
     },
     "metadata": {},
     "output_type": "display_data"
    },
    {
     "data": {
      "text/html": [
       "'not rejected'"
      ],
      "text/latex": [
       "'not rejected'"
      ],
      "text/markdown": [
       "'not rejected'"
      ],
      "text/plain": [
       "[1] \"not rejected\""
      ]
     },
     "metadata": {},
     "output_type": "display_data"
    },
    {
     "data": {
      "text/html": [
       "'not rejected'"
      ],
      "text/latex": [
       "'not rejected'"
      ],
      "text/markdown": [
       "'not rejected'"
      ],
      "text/plain": [
       "[1] \"not rejected\""
      ]
     },
     "metadata": {},
     "output_type": "display_data"
    }
   ],
   "source": [
    "mleGamma[3,\"KStest\"];mleExp[3,\"KStest\"];mleWB[3,\"KStest\"]"
   ]
  },
  {
   "cell_type": "code",
   "execution_count": 37,
   "metadata": {
    "collapsed": false
   },
   "outputs": [
    {
     "data": {
      "image/png": "[encoded data removed]",
      "text/plain": [
       "Plot with title \"P-P plot\""
      ]
     },
     "metadata": {},
     "output_type": "display_data"
    }
   ],
   "source": [
    "testDist = na.omit(max_PRCP[,3])\n",
    "\n",
    "    for(j in 1:length(testDist)){\n",
    "        if(testDist[j] < .1){\n",
    "        testDist[j]=.0001\n",
    "        }\n",
    "    }\n",
    "\n",
    "fw = fitdist(as.vector(testDist), \"weibull\", method=\"mle\")\n",
    "fg = fitdist(as.vector(testDist), \"exp\", method=\"mle\")\n",
    "fln = fitdist(as.vector(testDist), \"gamma\", method=\"mle\")\n",
    "par(mfrow = c(2, 2))\n",
    "plot.legend <- c(\"Weibull\", \"exp\", \"gamma\")\n",
    "denscomp(list(fw, fln, fg), legendtext = plot.legend)\n",
    "qqcomp(list(fw, fln, fg), legendtext = plot.legend)\n",
    "cdfcomp(list(fw, fln, fg), legendtext = plot.legend)\n",
    "ppcomp(list(fw, fln, fg), legendtext = plot.legend)"
   ]
  },
  {
   "cell_type": "code",
   "execution_count": 38,
   "metadata": {
    "collapsed": false
   },
   "outputs": [
    {
     "data": {
      "text/html": [
       "'not rejected'"
      ],
      "text/latex": [
       "'not rejected'"
      ],
      "text/markdown": [
       "'not rejected'"
      ],
      "text/plain": [
       "[1] \"not rejected\""
      ]
     },
     "metadata": {},
     "output_type": "display_data"
    },
    {
     "data": {
      "text/html": [
       "'not rejected'"
      ],
      "text/latex": [
       "'not rejected'"
      ],
      "text/markdown": [
       "'not rejected'"
      ],
      "text/plain": [
       "[1] \"not rejected\""
      ]
     },
     "metadata": {},
     "output_type": "display_data"
    },
    {
     "data": {
      "text/html": [
       "'not rejected'"
      ],
      "text/latex": [
       "'not rejected'"
      ],
      "text/markdown": [
       "'not rejected'"
      ],
      "text/plain": [
       "[1] \"not rejected\""
      ]
     },
     "metadata": {},
     "output_type": "display_data"
    }
   ],
   "source": [
    "mleGamma[45,\"KStest\"];mleExp[45,\"KStest\"];mleWB[45,\"KStest\"]"
   ]
  },
  {
   "cell_type": "code",
   "execution_count": 39,
   "metadata": {
    "collapsed": false
   },
   "outputs": [
    {
     "data": {
      "image/png": "[encoded data removed]",
      "text/plain": [
       "Plot with title \"P-P plot\""
      ]
     },
     "metadata": {},
     "output_type": "display_data"
    }
   ],
   "source": [
    "testDist = na.omit(max_PRCP[,45])\n",
    "\n",
    "    for(j in 1:length(testDist)){\n",
    "        if(testDist[j] < .1){\n",
    "        testDist[j]=.0001\n",
    "        }\n",
    "    }\n",
    "\n",
    "fw = fitdist(as.vector(testDist), \"weibull\", method=\"mle\")\n",
    "fg = fitdist(as.vector(testDist), \"exp\", method=\"mle\")\n",
    "fln = fitdist(as.vector(testDist), \"gamma\", method=\"mle\")\n",
    "par(mfrow = c(2, 2))\n",
    "plot.legend <- c(\"Weibull\", \"exp\", \"gamma\")\n",
    "denscomp(list(fw, fln, fg), legendtext = plot.legend)\n",
    "qqcomp(list(fw, fln, fg), legendtext = plot.legend)\n",
    "cdfcomp(list(fw, fln, fg), legendtext = plot.legend)\n",
    "ppcomp(list(fw, fln, fg), legendtext = plot.legend)"
   ]
  },
  {
   "cell_type": "markdown",
   "metadata": {},
   "source": [
    "Tried failed fits with normal distribution"
   ]
  },
  {
   "cell_type": "code",
   "execution_count": 40,
   "metadata": {
    "collapsed": false
   },
   "outputs": [
    {
     "data": {
      "image/png": "[encoded data removed]",
      "text/plain": [
       "Plot with title \"P-P plot\""
      ]
     },
     "metadata": {},
     "output_type": "display_data"
    }
   ],
   "source": [
    "testDist = na.omit(max_PRCP[,45])\n",
    "\n",
    "    for(j in 1:length(testDist)){\n",
    "        if(testDist[j] < .1){\n",
    "        testDist[j]=.0001\n",
    "        }\n",
    "    }\n",
    "\n",
    "fw = fitdist(as.vector(testDist), \"weibull\", method=\"mle\")\n",
    "fg = fitdist(as.vector(testDist), \"exp\", method=\"mle\")\n",
    "fln = fitdist(as.vector(testDist), \"gamma\", method=\"mle\")\n",
    "norm = fitdist(as.vector(testDist), \"norm\", method=\"mle\")\n",
    "\n",
    "par(mfrow = c(2, 2))\n",
    "plot.legend <- c(\"Weibull\", \"exp\", \"gamma\",\"normal\")\n",
    "denscomp(list(fw, fln, fg,norm), legendtext = plot.legend)\n",
    "qqcomp(list(fw, fln, fg,norm), legendtext = plot.legend)\n",
    "cdfcomp(list(fw, fln, fg,norm), legendtext = plot.legend)\n",
    "ppcomp(list(fw, fln, fg,norm), legendtext = plot.legend)"
   ]
  },
  {
   "cell_type": "markdown",
   "metadata": {},
   "source": [
    "Try good fits with normal distribution"
   ]
  },
  {
   "cell_type": "code",
   "execution_count": 41,
   "metadata": {
    "collapsed": false
   },
   "outputs": [
    {
     "data": {
      "image/png": "[encoded data removed]",
      "text/plain": [
       "Plot with title \"P-P plot\""
      ]
     },
     "metadata": {},
     "output_type": "display_data"
    }
   ],
   "source": [
    "testDist = na.omit(max_PRCP[,3])\n",
    "\n",
    "    for(j in 1:length(testDist)){\n",
    "        if(testDist[j] < .1){\n",
    "        testDist[j]=.0001\n",
    "        }\n",
    "    }\n",
    "\n",
    "fw = fitdist(as.vector(testDist), \"weibull\", method=\"mle\")\n",
    "fg = fitdist(as.vector(testDist), \"exp\", method=\"mle\")\n",
    "fln = fitdist(as.vector(testDist), \"gamma\", method=\"mle\")\n",
    "norm = fitdist(as.vector(testDist), \"norm\", method=\"mle\")\n",
    "\n",
    "par(mfrow = c(2, 2))\n",
    "plot.legend <- c(\"Weibull\", \"exp\", \"gamma\",\"normal\")\n",
    "denscomp(list(fw, fln, fg,norm), legendtext = plot.legend)\n",
    "qqcomp(list(fw, fln, fg,norm), legendtext = plot.legend)\n",
    "cdfcomp(list(fw, fln, fg,norm), legendtext = plot.legend)\n",
    "ppcomp(list(fw, fln, fg,norm), legendtext = plot.legend)"
   ]
  },
  {
   "cell_type": "code",
   "execution_count": 42,
   "metadata": {
    "collapsed": false
   },
   "outputs": [
    {
     "data": {
      "text/html": [],
      "text/latex": [],
      "text/markdown": [],
      "text/plain": [
       "integer(0)"
      ]
     },
     "metadata": {},
     "output_type": "display_data"
    }
   ],
   "source": [
    "which(trueEst==\"fail\")"
   ]
  },
  {
   "cell_type": "code",
   "execution_count": 43,
   "metadata": {
    "collapsed": false
   },
   "outputs": [
    {
     "data": {
      "text/html": [
       "<ol class=list-inline>\n",
       "\t<li>1</li>\n",
       "\t<li>2</li>\n",
       "\t<li>3</li>\n",
       "\t<li>4</li>\n",
       "\t<li>5</li>\n",
       "\t<li>6</li>\n",
       "\t<li>7</li>\n",
       "\t<li>8</li>\n",
       "\t<li>9</li>\n",
       "\t<li>10</li>\n",
       "\t<li>11</li>\n",
       "\t<li>12</li>\n",
       "\t<li>13</li>\n",
       "\t<li>14</li>\n",
       "\t<li>15</li>\n",
       "\t<li>16</li>\n",
       "\t<li>17</li>\n",
       "\t<li>18</li>\n",
       "\t<li>19</li>\n",
       "\t<li>20</li>\n",
       "\t<li>21</li>\n",
       "\t<li>22</li>\n",
       "\t<li>23</li>\n",
       "\t<li>24</li>\n",
       "\t<li>25</li>\n",
       "\t<li>26</li>\n",
       "\t<li>27</li>\n",
       "\t<li>28</li>\n",
       "\t<li>29</li>\n",
       "\t<li>40</li>\n",
       "\t<li>41</li>\n",
       "\t<li>42</li>\n",
       "\t<li>43</li>\n",
       "\t<li>44</li>\n",
       "\t<li>45</li>\n",
       "\t<li>46</li>\n",
       "\t<li>47</li>\n",
       "\t<li>48</li>\n",
       "\t<li>49</li>\n",
       "\t<li>50</li>\n",
       "\t<li>51</li>\n",
       "\t<li>58</li>\n",
       "\t<li>59</li>\n",
       "\t<li>60</li>\n",
       "\t<li>63</li>\n",
       "\t<li>64</li>\n",
       "\t<li>65</li>\n",
       "\t<li>66</li>\n",
       "\t<li>67</li>\n",
       "\t<li>68</li>\n",
       "\t<li>69</li>\n",
       "\t<li>70</li>\n",
       "\t<li>71</li>\n",
       "\t<li>72</li>\n",
       "\t<li>73</li>\n",
       "\t<li>74</li>\n",
       "\t<li>75</li>\n",
       "\t<li>76</li>\n",
       "\t<li>77</li>\n",
       "\t<li>78</li>\n",
       "\t<li>79</li>\n",
       "\t<li>80</li>\n",
       "\t<li>81</li>\n",
       "\t<li>82</li>\n",
       "\t<li>83</li>\n",
       "\t<li>84</li>\n",
       "\t<li>85</li>\n",
       "\t<li>86</li>\n",
       "\t<li>87</li>\n",
       "\t<li>88</li>\n",
       "\t<li>89</li>\n",
       "\t<li>90</li>\n",
       "\t<li>91</li>\n",
       "\t<li>92</li>\n",
       "\t<li>93</li>\n",
       "\t<li>94</li>\n",
       "\t<li>95</li>\n",
       "\t<li>96</li>\n",
       "\t<li>97</li>\n",
       "\t<li>98</li>\n",
       "\t<li>99</li>\n",
       "\t<li>100</li>\n",
       "\t<li>101</li>\n",
       "\t<li>102</li>\n",
       "\t<li>103</li>\n",
       "\t<li>104</li>\n",
       "\t<li>105</li>\n",
       "\t<li>106</li>\n",
       "\t<li>107</li>\n",
       "\t<li>108</li>\n",
       "\t<li>109</li>\n",
       "\t<li>110</li>\n",
       "</ol>\n"
      ],
      "text/latex": [
       "\\begin{enumerate*}\n",
       "\\item 1\n",
       "\\item 2\n",
       "\\item 3\n",
       "\\item 4\n",
       "\\item 5\n",
       "\\item 6\n",
       "\\item 7\n",
       "\\item 8\n",
       "\\item 9\n",
       "\\item 10\n",
       "\\item 11\n",
       "\\item 12\n",
       "\\item 13\n",
       "\\item 14\n",
       "\\item 15\n",
       "\\item 16\n",
       "\\item 17\n",
       "\\item 18\n",
       "\\item 19\n",
       "\\item 20\n",
       "\\item 21\n",
       "\\item 22\n",
       "\\item 23\n",
       "\\item 24\n",
       "\\item 25\n",
       "\\item 26\n",
       "\\item 27\n",
       "\\item 28\n",
       "\\item 29\n",
       "\\item 40\n",
       "\\item 41\n",
       "\\item 42\n",
       "\\item 43\n",
       "\\item 44\n",
       "\\item 45\n",
       "\\item 46\n",
       "\\item 47\n",
       "\\item 48\n",
       "\\item 49\n",
       "\\item 50\n",
       "\\item 51\n",
       "\\item 58\n",
       "\\item 59\n",
       "\\item 60\n",
       "\\item 63\n",
       "\\item 64\n",
       "\\item 65\n",
       "\\item 66\n",
       "\\item 67\n",
       "\\item 68\n",
       "\\item 69\n",
       "\\item 70\n",
       "\\item 71\n",
       "\\item 72\n",
       "\\item 73\n",
       "\\item 74\n",
       "\\item 75\n",
       "\\item 76\n",
       "\\item 77\n",
       "\\item 78\n",
       "\\item 79\n",
       "\\item 80\n",
       "\\item 81\n",
       "\\item 82\n",
       "\\item 83\n",
       "\\item 84\n",
       "\\item 85\n",
       "\\item 86\n",
       "\\item 87\n",
       "\\item 88\n",
       "\\item 89\n",
       "\\item 90\n",
       "\\item 91\n",
       "\\item 92\n",
       "\\item 93\n",
       "\\item 94\n",
       "\\item 95\n",
       "\\item 96\n",
       "\\item 97\n",
       "\\item 98\n",
       "\\item 99\n",
       "\\item 100\n",
       "\\item 101\n",
       "\\item 102\n",
       "\\item 103\n",
       "\\item 104\n",
       "\\item 105\n",
       "\\item 106\n",
       "\\item 107\n",
       "\\item 108\n",
       "\\item 109\n",
       "\\item 110\n",
       "\\end{enumerate*}\n"
      ],
      "text/markdown": [
       "1. 1\n",
       "2. 2\n",
       "3. 3\n",
       "4. 4\n",
       "5. 5\n",
       "6. 6\n",
       "7. 7\n",
       "8. 8\n",
       "9. 9\n",
       "10. 10\n",
       "11. 11\n",
       "12. 12\n",
       "13. 13\n",
       "14. 14\n",
       "15. 15\n",
       "16. 16\n",
       "17. 17\n",
       "18. 18\n",
       "19. 19\n",
       "20. 20\n",
       "21. 21\n",
       "22. 22\n",
       "23. 23\n",
       "24. 24\n",
       "25. 25\n",
       "26. 26\n",
       "27. 27\n",
       "28. 28\n",
       "29. 29\n",
       "30. 40\n",
       "31. 41\n",
       "32. 42\n",
       "33. 43\n",
       "34. 44\n",
       "35. 45\n",
       "36. 46\n",
       "37. 47\n",
       "38. 48\n",
       "39. 49\n",
       "40. 50\n",
       "41. 51\n",
       "42. 58\n",
       "43. 59\n",
       "44. 60\n",
       "45. 63\n",
       "46. 64\n",
       "47. 65\n",
       "48. 66\n",
       "49. 67\n",
       "50. 68\n",
       "51. 69\n",
       "52. 70\n",
       "53. 71\n",
       "54. 72\n",
       "55. 73\n",
       "56. 74\n",
       "57. 75\n",
       "58. 76\n",
       "59. 77\n",
       "60. 78\n",
       "61. 79\n",
       "62. 80\n",
       "63. 81\n",
       "64. 82\n",
       "65. 83\n",
       "66. 84\n",
       "67. 85\n",
       "68. 86\n",
       "69. 87\n",
       "70. 88\n",
       "71. 89\n",
       "72. 90\n",
       "73. 91\n",
       "74. 92\n",
       "75. 93\n",
       "76. 94\n",
       "77. 95\n",
       "78. 96\n",
       "79. 97\n",
       "80. 98\n",
       "81. 99\n",
       "82. 100\n",
       "83. 101\n",
       "84. 102\n",
       "85. 103\n",
       "86. 104\n",
       "87. 105\n",
       "88. 106\n",
       "89. 107\n",
       "90. 108\n",
       "91. 109\n",
       "92. 110\n",
       "\n",
       "\n"
      ],
      "text/plain": [
       " [1]   1   2   3   4   5   6   7   8   9  10  11  12  13  14  15  16  17  18  19\n",
       "[20]  20  21  22  23  24  25  26  27  28  29  40  41  42  43  44  45  46  47  48\n",
       "[39]  49  50  51  58  59  60  63  64  65  66  67  68  69  70  71  72  73  74  75\n",
       "[58]  76  77  78  79  80  81  82  83  84  85  86  87  88  89  90  91  92  93  94\n",
       "[77]  95  96  97  98  99 100 101 102 103 104 105 106 107 108 109 110"
      ]
     },
     "metadata": {},
     "output_type": "display_data"
    }
   ],
   "source": [
    "which(trueEst==\"plot\")"
   ]
  },
  {
   "cell_type": "code",
   "execution_count": 44,
   "metadata": {
    "collapsed": false
   },
   "outputs": [],
   "source": [
    "mleWB2 = data.frame(alpha = double(),theta = double(),\n",
    "                 KS = double(),\n",
    "                 KStest = character(),\n",
    "                 CvM = double(),\n",
    "                 CvMtest = character(),\n",
    "                 AD = double(),\n",
    "                 ADtest = character(),\n",
    "                 stringsAsFactors = FALSE)\n",
    "                \n",
    "for (i in 1:length(max_PRCP)) {\n",
    "    \n",
    "    testDist = na.omit(max_PRCP[,i])\n",
    "        \n",
    "        for(j in 1:length(testDist)){\n",
    "            if(testDist[j] < .1){\n",
    "            testDist[j]=.0001\n",
    "            }\n",
    "        }\n",
    "    \n",
    "   WB1 = fitdist(as.vector(testDist),\"weibull\",method = \"mge\", gof=\"ADR\")\n",
    "   mleWB2[i,1] = WB1$estimate[1]\n",
    "   mleWB2[i,2] = WB1$estimate[2]\n",
    "   \n",
    "   gof = gofstat(WB1)\n",
    "   mleWB2[i,3] = gof$ks\n",
    "   mleWB2[i,4] = gof$kstest\n",
    "   mleWB2[i,5] = gof$cvm\n",
    "   mleWB2[i,6] = gof$cvmtest\n",
    "   mleWB2[i,7] = gof$ad\n",
    "   mleWB2[i,8] = gof$adtest\n",
    "}\n",
    "\n",
    "\n",
    "#mleWB[\"mean\"] = 1/mleWB$theta\n",
    "#mleWB[\"square\"] = mleWB$theta^2 \n",
    "#mleWB[\"var\"] = 1/mleWB$square\n",
    "#mleWB[\"sd\"] = sqrt(mleWB$var)"
   ]
  },
  {
   "cell_type": "code",
   "execution_count": 45,
   "metadata": {
    "collapsed": false
   },
   "outputs": [
    {
     "data": {
      "text/plain": [
       "\n",
       "not rejected \n",
       "         110 "
      ]
     },
     "metadata": {},
     "output_type": "display_data"
    },
    {
     "data": {
      "text/plain": [
       "\n",
       "not rejected     rejected \n",
       "          98           12 "
      ]
     },
     "metadata": {},
     "output_type": "display_data"
    }
   ],
   "source": [
    "table(mleWB2[,4])\n",
    "table(mleWB[,4])"
   ]
  },
  {
   "cell_type": "code",
   "execution_count": 46,
   "metadata": {
    "collapsed": true
   },
   "outputs": [],
   "source": [
    "mleGamma2 = data.frame(alpha = double(),\n",
    "                 theta = double(),\n",
    "                 KS = double(),\n",
    "                 KStest = character(),\n",
    "                 CvM = double(),\n",
    "                 CvMtest = character(),\n",
    "                 AD = double(),\n",
    "                 ADtest = character(),\n",
    "                 stringsAsFactors = FALSE)\n",
    "                \n",
    "for (i in 1:length(max_PRCP)) {\n",
    "\n",
    "    testDist = na.omit(max_PRCP[,i])\n",
    "        \n",
    "        for(j in 1:length(testDist)){\n",
    "            if(testDist[j] < .1){\n",
    "            testDist[j]=.0001\n",
    "            }\n",
    "        }\n",
    "\n",
    "   gamma1 = fitdist(as.vector(testDist),\"gamma\",method = \"mge\", gof=\"ADR\")\n",
    "   mleGamma2[i,1] = gamma1$estimate[1]\n",
    "   mleGamma2[i,2] = gamma1$estimate[2]\n",
    "   \n",
    "   gof = gofstat(gamma1)\n",
    "   mleGamma2[i,3] = gof$ks\n",
    "   mleGamma2[i,4] = gof$kstest\n",
    "   mleGamma2[i,5] = gof$cvm\n",
    "   mleGamma2[i,6] = gof$cvmtest\n",
    "   mleGamma2[i,7] = gof$ad\n",
    "   mleGamma2[i,8] = gof$adtest\n",
    "}\n",
    "\n",
    "mleGamma[\"invTheta\"] = 1/(mleGamma$theta)\n",
    "mleGamma[\"mean\"] = mleGamma$invTheta*mleGamma$alpha\n",
    "mleGamma[\"var\"] = mleGamma$alpha*(mleGamma$invTheta^2)\n",
    "mleGamma[\"sd\"] = sqrt(mleGamma$var)"
   ]
  },
  {
   "cell_type": "code",
   "execution_count": 47,
   "metadata": {
    "collapsed": false
   },
   "outputs": [
    {
     "data": {
      "text/plain": [
       "\n",
       "not rejected \n",
       "         110 "
      ]
     },
     "metadata": {},
     "output_type": "display_data"
    }
   ],
   "source": [
    "table(mleGamma2[,4])"
   ]
  },
  {
   "cell_type": "code",
   "execution_count": 48,
   "metadata": {
    "collapsed": false
   },
   "outputs": [
    {
     "data": {
      "text/plain": [
       "\n",
       "not rejected     rejected \n",
       "          92           18 "
      ]
     },
     "metadata": {},
     "output_type": "display_data"
    }
   ],
   "source": [
    "table(mleGamma[,4])"
   ]
  },
  {
   "cell_type": "code",
   "execution_count": 49,
   "metadata": {
    "collapsed": true
   },
   "outputs": [],
   "source": [
    "mleExp2 = data.frame(theta = double(),\n",
    "                 KS = double(),\n",
    "                 KStest = character(),\n",
    "                 CvM = double(),\n",
    "                 CvMtest = character(),\n",
    "                 AD = double(),\n",
    "                 ADtest = character(),\n",
    "                 stringsAsFactors = FALSE)\n",
    "                \n",
    "for (i in 1:length(max_PRCP)) {\n",
    "\n",
    "    testDist = na.omit(max_PRCP[,i])\n",
    "        \n",
    "        for(j in 1:length(testDist)){\n",
    "            if(testDist[j] < .1){\n",
    "            testDist[j]=.0001\n",
    "            }\n",
    "        }\n",
    "\n",
    "   exp1 = fitdist(as.vector(testDist),\"exp\",method = \"mge\",gof=\"ADR\")\n",
    "   mleExp2[i,1] = exp1$estimate[1]\n",
    "   \n",
    "   gof = gofstat(exp1)\n",
    "   mleExp2[i,2] = gof$ks\n",
    "   mleExp2[i,3] = gof$kstest\n",
    "   mleExp2[i,4] = gof$cvm\n",
    "   mleExp2[i,5] = gof$cvmtest\n",
    "   mleExp2[i,6] = gof$ad\n",
    "   mleExp2[i,7] = gof$adtest\n",
    "}\n",
    "\n",
    "mleExp2[\"mean\"] = 1/mleExp2$theta\n",
    "mleExp2[\"square\"] = mleExp2$theta^2 \n",
    "mleExp2[\"var\"] = 1/mleExp2$square\n",
    "mleExp2[\"sd\"] = sqrt(mleExp2$var)"
   ]
  },
  {
   "cell_type": "code",
   "execution_count": 50,
   "metadata": {
    "collapsed": false
   },
   "outputs": [
    {
     "data": {
      "text/plain": [
       "\n",
       "not rejected \n",
       "         110 "
      ]
     },
     "metadata": {},
     "output_type": "display_data"
    },
    {
     "data": {
      "text/plain": [
       "\n",
       "not rejected \n",
       "         110 "
      ]
     },
     "metadata": {},
     "output_type": "display_data"
    }
   ],
   "source": [
    "table(mleExp2[,3])\n",
    "table(mleExp[,3])"
   ]
  },
  {
   "cell_type": "code",
   "execution_count": 51,
   "metadata": {
    "collapsed": false
   },
   "outputs": [
    {
     "data": {
      "image/png": "[encoded data removed]",
      "text/plain": [
       "Plot with title \"P-P plot\""
      ]
     },
     "metadata": {},
     "output_type": "display_data"
    }
   ],
   "source": [
    "testDist = na.omit(max_PRCP[,45])\n",
    "\n",
    "    for(j in 1:length(testDist)){\n",
    "        if(testDist[j] < .1){\n",
    "        testDist[j]=.0001\n",
    "        }\n",
    "    }\n",
    "\n",
    "fw = fitdist(as.vector(testDist), \"weibull\", method=\"mge\",gof=\"ADR\")\n",
    "fg = fitdist(as.vector(testDist), \"exp\", method=\"mle\")\n",
    "fln = fitdist(as.vector(testDist), \"gamma\", method=\"mle\")\n",
    "norm = fitdist(as.vector(testDist), \"norm\", method=\"mle\")\n",
    "\n",
    "par(mfrow = c(2, 2))\n",
    "plot.legend <- c(\"Weibull\", \"exp\", \"gamma\",\"normal\")\n",
    "denscomp(list(fw, fln, fg,norm), legendtext = plot.legend)\n",
    "qqcomp(list(fw, fln, fg,norm), legendtext = plot.legend)\n",
    "cdfcomp(list(fw, fln, fg,norm), legendtext = plot.legend)\n",
    "ppcomp(list(fw, fln, fg,norm), legendtext = plot.legend)"
   ]
  },
  {
   "cell_type": "code",
   "execution_count": 52,
   "metadata": {
    "collapsed": false
   },
   "outputs": [
    {
     "data": {
      "image/png": "[encoded data removed]",
      "text/plain": [
       "Plot with title \"P-P plot\""
      ]
     },
     "metadata": {},
     "output_type": "display_data"
    }
   ],
   "source": [
    "testDist = na.omit(max_PRCP[,3])\n",
    "\n",
    "    for(j in 1:length(testDist)){\n",
    "        if(testDist[j] < .1){\n",
    "        testDist[j]=.0001\n",
    "        }\n",
    "    }\n",
    "\n",
    "fw = fitdist(as.vector(testDist), \"weibull\", method=\"mle\")\n",
    "fg = fitdist(as.vector(testDist), \"exp\", method=\"mle\")\n",
    "fln = fitdist(as.vector(testDist), \"gamma\", method=\"mle\")\n",
    "norm = fitdist(as.vector(testDist), \"weibull\", method=\"mge\",gof=\"ADR\")\n",
    "\n",
    "par(mfrow = c(2, 2))\n",
    "plot.legend <- c(\"Weibull\", \"exp\", \"gamma\",\"WMGE\")\n",
    "denscomp(list(fw, fln, fg,norm), legendtext = plot.legend)\n",
    "qqcomp(list(fw, fln, fg,norm), legendtext = plot.legend)\n",
    "cdfcomp(list(fw, fln, fg,norm), legendtext = plot.legend)\n",
    "ppcomp(list(fw, fln, fg,norm), legendtext = plot.legend)"
   ]
  },
  {
   "cell_type": "code",
   "execution_count": 53,
   "metadata": {
    "collapsed": false
   },
   "outputs": [
    {
     "data": {
      "image/png": "[encoded data removed]",
      "text/plain": [
       "Plot with title \"P-P plot\""
      ]
     },
     "metadata": {},
     "output_type": "display_data"
    }
   ],
   "source": [
    "testDist = na.omit(max_PRCP[,45])\n",
    "\n",
    "    for(j in 1:length(testDist)){\n",
    "        if(testDist[j] < .1){\n",
    "        testDist[j]=.0001\n",
    "        }\n",
    "    }\n",
    "\n",
    "fw = fitdist(as.vector(testDist), \"weibull\", method=\"mle\")\n",
    "fg = fitdist(as.vector(testDist), \"exp\", method=\"mle\")\n",
    "fln = fitdist(as.vector(testDist), \"gamma\", method=\"mle\")\n",
    "norm = fitdist(as.vector(testDist), \"weibull\", method=\"mge\",gof=\"ADR\")\n",
    "\n",
    "par(mfrow = c(2, 2))\n",
    "plot.legend <- c(\"Weibull\", \"exp\", \"gamma\",\"WMGE\")\n",
    "denscomp(list(fw, fln, fg,norm), legendtext = plot.legend)\n",
    "qqcomp(list(fw, fln, fg,norm), legendtext = plot.legend)\n",
    "cdfcomp(list(fw, fln, fg,norm), legendtext = plot.legend)\n",
    "ppcomp(list(fw, fln, fg,norm), legendtext = plot.legend)"
   ]
  },
  {
   "cell_type": "markdown",
   "metadata": {},
   "source": [
    "YET AGAIN, but this time with gamma MGE as well."
   ]
  },
  {
   "cell_type": "code",
   "execution_count": 54,
   "metadata": {
    "collapsed": false
   },
   "outputs": [
    {
     "data": {
      "image/png": "[encoded data removed]",
      "text/plain": [
       "Plot with title \"P-P plot\""
      ]
     },
     "metadata": {},
     "output_type": "display_data"
    }
   ],
   "source": [
    "testDist = na.omit(max_PRCP[,3])\n",
    "\n",
    "    for(j in 1:length(testDist)){\n",
    "        if(testDist[j] < .1){\n",
    "        testDist[j]=.0001\n",
    "        }\n",
    "    }\n",
    "\n",
    "fw = fitdist(as.vector(testDist), \"weibull\", method=\"mle\")\n",
    "fg = fitdist(as.vector(testDist), \"gamma\", method=\"mle\")\n",
    "fln = fitdist(as.vector(testDist), \"gamma\", method=\"mge\", gof=\"ADR\")\n",
    "norm = fitdist(as.vector(testDist), \"weibull\", method=\"mge\",gof=\"ADR\")\n",
    "\n",
    "par(mfrow = c(2, 2))\n",
    "plot.legend <- c(\"Weibull\", \"gamma\", \"gammaMDE\",\"WMGE\")\n",
    "denscomp(list(fw, fln, fg,norm), legendtext = plot.legend)\n",
    "qqcomp(list(fw, fln, fg,norm), legendtext = plot.legend)\n",
    "cdfcomp(list(fw, fln, fg,norm), legendtext = plot.legend)\n",
    "ppcomp(list(fw, fln, fg,norm), legendtext = plot.legend)"
   ]
  },
  {
   "cell_type": "markdown",
   "metadata": {},
   "source": [
    "# Probabilities of Interest "
   ]
  },
  {
   "cell_type": "markdown",
   "metadata": {},
   "source": [
    "1 inch of rain approx 25.4mm, 2 inch approx 50.8, 3 inch approx 76.2mm."
   ]
  },
  {
   "cell_type": "markdown",
   "metadata": {},
   "source": [
    "Parameter estimates for frequentist probability checks are found in mleGamma2 (using maximum goodness of fit with ADR distance for right tailed data)."
   ]
  },
  {
   "cell_type": "markdown",
   "metadata": {},
   "source": [
    "probability of seeing or exceeding 1 inch of rain in a 24 hour day"
   ]
  },
  {
   "cell_type": "code",
   "execution_count": 55,
   "metadata": {
    "collapsed": false
   },
   "outputs": [
    {
     "data": {
      "text/html": [
       "0.283296322069051"
      ],
      "text/latex": [
       "0.283296322069051"
      ],
      "text/markdown": [
       "0.283296322069051"
      ],
      "text/plain": [
       "[1] 0.2832963"
      ]
     },
     "metadata": {},
     "output_type": "display_data"
    }
   ],
   "source": [
    "1-pgamma(254, mleGamma2[1,1], mleGamma[1,2])"
   ]
  },
  {
   "cell_type": "code",
   "execution_count": 56,
   "metadata": {
    "collapsed": false
   },
   "outputs": [
    {
     "data": {
      "text/html": [
       "0.0699997347128729"
      ],
      "text/latex": [
       "0.0699997347128729"
      ],
      "text/markdown": [
       "0.0699997347128729"
      ],
      "text/plain": [
       "[1] 0.06999973"
      ]
     },
     "metadata": {},
     "output_type": "display_data"
    }
   ],
   "source": [
    "1-pgamma(508, mleGamma2[1,1], mleGamma[1,2])"
   ]
  },
  {
   "cell_type": "code",
   "execution_count": 57,
   "metadata": {
    "collapsed": false
   },
   "outputs": [
    {
     "data": {
      "text/html": [
       "0.0167967927809439"
      ],
      "text/latex": [
       "0.0167967927809439"
      ],
      "text/markdown": [
       "0.0167967927809439"
      ],
      "text/plain": [
       "[1] 0.01679679"
      ]
     },
     "metadata": {},
     "output_type": "display_data"
    }
   ],
   "source": [
    "1-pgamma(762, mleGamma2[1,1], mleGamma[1,2])"
   ]
  },
  {
   "cell_type": "code",
   "execution_count": 58,
   "metadata": {
    "collapsed": true
   },
   "outputs": [],
   "source": [
    "oneInch = NULL\n",
    "twoInch = NULL\n",
    "threeInch = NULL\n",
    "for(i in 1:nrow(mleGamma2)){\n",
    "    oneInch = c(oneInch,1-pgamma(254,mleGamma2[i,1],mleGamma2[i,2]))\n",
    "    twoInch = c(twoInch,1-pgamma(508,mleGamma2[i,1],mleGamma2[i,2]))\n",
    "    threeInch = c(threeInch,1-pgamma(762,mleGamma2[i,1],mleGamma2[i,2]))\n",
    "}"
   ]
  },
  {
   "cell_type": "code",
   "execution_count": 59,
   "metadata": {
    "collapsed": false
   },
   "outputs": [
    {
     "data": {
      "text/html": [
       "110"
      ],
      "text/latex": [
       "110"
      ],
      "text/markdown": [
       "110"
      ],
      "text/plain": [
       "[1] 110"
      ]
     },
     "metadata": {},
     "output_type": "display_data"
    }
   ],
   "source": [
    "length(oneInch)"
   ]
  },
  {
   "cell_type": "code",
   "execution_count": 60,
   "metadata": {
    "collapsed": true
   },
   "outputs": [],
   "source": [
    "starter = firstYear+9"
   ]
  },
  {
   "cell_type": "code",
   "execution_count": 61,
   "metadata": {
    "collapsed": false
   },
   "outputs": [],
   "source": [
    "oneInchTS = ts(oneInch, start=starter)\n",
    "twoInchTS = ts(twoInch, start=starter)\n",
    "threeInchTS = ts(threeInch, start=starter)"
   ]
  },
  {
   "cell_type": "code",
   "execution_count": 62,
   "metadata": {
    "collapsed": false
   },
   "outputs": [],
   "source": [
    "options(repr.plot.width=7,repr.plot.height=5) #reduces the plot sizes"
   ]
  },
  {
   "cell_type": "code",
   "execution_count": 63,
   "metadata": {
    "collapsed": false
   },
   "outputs": [
    {
     "data": {
      "image/png": "[encoded data removed]",
      "text/plain": [
       "plot without title"
      ]
     },
     "metadata": {},
     "output_type": "display_data"
    }
   ],
   "source": [
    "plot(oneInchTS, ylim=c(0,.26), lwd=2)\n",
    "lines(twoInchTS, col=2, lwd=2)\n",
    "lines(threeInchTS, col=4, lwd=2)"
   ]
  },
  {
   "cell_type": "code",
   "execution_count": 64,
   "metadata": {
    "collapsed": true
   },
   "outputs": [],
   "source": [
    "rollSmall = ts(runmean(oneInchTS,15),start=starter)\n",
    "rollSmall2 = ts(runmean(oneInchTS,30),start=starter)\n",
    "rollSmall3 = ts(runmean(oneInchTS,50),start=starter)"
   ]
  },
  {
   "cell_type": "code",
   "execution_count": 65,
   "metadata": {
    "collapsed": false
   },
   "outputs": [
    {
     "data": {
      "image/png": "[encoded data removed]",
      "text/plain": [
       "plot without title"
      ]
     },
     "metadata": {},
     "output_type": "display_data"
    }
   ],
   "source": [
    "plot(oneInchTS)\n",
    "lines(rollSmall, col=3,lwd=2)\n",
    "lines(rollSmall2, col=2,lwd=2)\n",
    "lines(rollSmall3, col=4,lwd=2)"
   ]
  },
  {
   "cell_type": "code",
   "execution_count": 66,
   "metadata": {
    "collapsed": true
   },
   "outputs": [],
   "source": [
    "rollSmall = ts(runmean(twoInchTS,15),start=starter)\n",
    "rollSmall2 = ts(runmean(twoInchTS,30),start=starter)\n",
    "rollSmall3 = ts(runmean(twoInchTS,50),start=starter)"
   ]
  },
  {
   "cell_type": "code",
   "execution_count": 67,
   "metadata": {
    "collapsed": false
   },
   "outputs": [
    {
     "data": {
      "image/png": "[encoded data removed]",
      "text/plain": [
       "plot without title"
      ]
     },
     "metadata": {},
     "output_type": "display_data"
    }
   ],
   "source": [
    "plot(twoInchTS)\n",
    "lines(rollSmall, col=3,lwd=2)\n",
    "lines(rollSmall2, col=2,lwd=2)\n",
    "lines(rollSmall3, col=4,lwd=2)"
   ]
  },
  {
   "cell_type": "code",
   "execution_count": 68,
   "metadata": {
    "collapsed": true
   },
   "outputs": [],
   "source": [
    "rollSmall = ts(runmean(threeInchTS,15),start=starter)\n",
    "rollSmall2 = ts(runmean(threeInchTS,30),start=starter)\n",
    "rollSmall3 = ts(runmean(threeInchTS,50),start=starter)"
   ]
  },
  {
   "cell_type": "code",
   "execution_count": 69,
   "metadata": {
    "collapsed": false
   },
   "outputs": [
    {
     "data": {
      "image/png": "[encoded data removed]",
      "text/plain": [
       "plot without title"
      ]
     },
     "metadata": {},
     "output_type": "display_data"
    }
   ],
   "source": [
    "plot(threeInchTS)\n",
    "lines(rollSmall, col=3,lwd=2)\n",
    "lines(rollSmall2, col=2,lwd=2)\n",
    "lines(rollSmall3, col=4,lwd=2)"
   ]
  },
  {
   "cell_type": "code",
   "execution_count": null,
   "metadata": {
    "collapsed": true
   },
   "outputs": [],
   "source": []
  },
  {
   "cell_type": "code",
   "execution_count": null,
   "metadata": {
    "collapsed": true
   },
   "outputs": [],
   "source": []
  }
 ],
 "metadata": {
  "anaconda-cloud": {},
  "kernelspec": {
   "display_name": "R",
   "language": "R",
   "name": "ir"
  },
  "language_info": {
   "codemirror_mode": "r",
   "file_extension": ".r",
   "mimetype": "text/x-r-source",
   "name": "R",
   "pygments_lexer": "r",
   "version": "3.3.1"
  }
 },
 "nbformat": 4,
 "nbformat_minor": 0
}
