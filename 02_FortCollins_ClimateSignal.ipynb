{
 "cells": [
  {
   "cell_type": "markdown",
   "metadata": {},
   "source": [
    "# Master's Thesis: Investigating Maximum Rainfall Trends in Colorado"
   ]
  },
  {
   "cell_type": "markdown",
   "metadata": {},
   "source": [
    "<b>Institution:</b> University of Georgia <br>\n",
    "<b>Department:</b> Statistics <br>\n",
    "<b>Student:</b> Jeremy Mulcahey <br>\n",
    "<b>Advisor:</b> Dr. Lynne Seymour <br>\n",
    "<b>Last Edit:</b> 9/27/2016"
   ]
  },
  {
   "cell_type": "markdown",
   "metadata": {},
   "source": [
    "Section 0: Preparing data <br>\n",
    "Section 1: Mean<br>\n",
    "Section 2: Variance"
   ]
  },
  {
   "cell_type": "markdown",
   "metadata": {},
   "source": [
    "##  Section 0: Preparing data"
   ]
  },
  {
   "cell_type": "code",
   "execution_count": 3,
   "metadata": {
    "collapsed": false
   },
   "outputs": [
    {
     "name": "stderr",
     "output_type": "stream",
     "text": [
      "Loading required package: fitdistrplus\n",
      "Loading required package: MASS\n",
      "Loading required package: survival\n",
      "Loading required package: caTools\n",
      "Loading required package: repr\n",
      "Loading required package: IRdisplay\n"
     ]
    }
   ],
   "source": [
    "require(fitdistrplus); # required for parameter estimation\n",
    "require(caTools);      # required for smoothing\n",
    "require(repr);         # required for resizing plots in IRKernel\n",
    "require(\"IRdisplay\");  # graphic embedding\n",
    "require(MASS);         # testing"
   ]
  },
  {
   "cell_type": "code",
   "execution_count": 4,
   "metadata": {
    "collapsed": false
   },
   "outputs": [],
   "source": [
    "# establish working directorys\n",
    "setwd(\"C:/Users/jerem/Desktop/UGA/Master'sThesis/\")"
   ]
  },
  {
   "cell_type": "markdown",
   "metadata": {},
   "source": [
    "Data files for individual station names."
   ]
  },
  {
   "cell_type": "code",
   "execution_count": 5,
   "metadata": {
    "collapsed": false
   },
   "outputs": [],
   "source": [
    "data = read.csv(file = \"data/FORT_MonMax_GHCN.csv\", head=T)"
   ]
  },
  {
   "cell_type": "markdown",
   "metadata": {},
   "source": [
    "Adjust the data for later use."
   ]
  },
  {
   "cell_type": "code",
   "execution_count": 6,
   "metadata": {
    "collapsed": false
   },
   "outputs": [
    {
     "data": {
      "text/html": [
       "11"
      ],
      "text/latex": [
       "11"
      ],
      "text/markdown": [
       "11"
      ],
      "text/plain": [
       "[1] 11"
      ]
     },
     "metadata": {},
     "output_type": "display_data"
    }
   ],
   "source": [
    "# Create an index as x - used as needed\n",
    "month = seq(1,nrow(data),by=1)\n",
    "data = cbind(data,month)\n",
    "\n",
    "# first year of the data (changes by station name)\n",
    "firstYear = data$YEAR[1]\n",
    "\n",
    "# station name for plotting\n",
    "stationName = as.character(data$STATION_NAME[1])\n",
    "\n",
    "# -999 messed with the plotting - change to NA\n",
    "data[data==-999] = NA\n",
    "\n",
    "sum(is.na(data)) #print number of missing values"
   ]
  },
  {
   "cell_type": "markdown",
   "metadata": {},
   "source": [
    "Check number of years in the data set."
   ]
  },
  {
   "cell_type": "code",
   "execution_count": 7,
   "metadata": {
    "collapsed": false
   },
   "outputs": [
    {
     "data": {
      "text/html": [
       "118"
      ],
      "text/latex": [
       "118"
      ],
      "text/markdown": [
       "118"
      ],
      "text/plain": [
       "[1] 118"
      ]
     },
     "metadata": {},
     "output_type": "display_data"
    }
   ],
   "source": [
    "data$YEAR[nrow(data)]-firstYear"
   ]
  },
  {
   "cell_type": "code",
   "execution_count": 8,
   "metadata": {
    "collapsed": false
   },
   "outputs": [
    {
     "data": {
      "text/plain": [
       "\n",
       "  1   2   3   4   5   6   7   8   9  10  11  12 \n",
       "119 119 119 119 119 119 119 119 119 119 119 119 "
      ]
     },
     "metadata": {},
     "output_type": "display_data"
    }
   ],
   "source": [
    "table(data$MONTH)"
   ]
  },
  {
   "cell_type": "markdown",
   "metadata": {},
   "source": [
    "Make a data frame of all the 10 year periods following the first year for data collected at the station."
   ]
  },
  {
   "cell_type": "code",
   "execution_count": 9,
   "metadata": {
    "collapsed": false
   },
   "outputs": [],
   "source": [
    "#create the first decade (first year and the following 9 years)\n",
    "max_PRCP = data.frame(data[which(data$YEAR < (firstYear + 10)),6])\n",
    "\n",
    "# add all the subsequent decades to the data frame incrementing by 1 year at a time\n",
    "for(year in c((data$YEAR[1] + 1):2005)){\n",
    "    max_PRCP = cbind(max_PRCP,data[which(data$YEAR >= year & data$YEAR < year+10),6])\n",
    "}\n",
    "\n",
    "# name the columns as the first year of the observed 10 year periods\n",
    "colnames(max_PRCP) = as.character(c(firstYear:2005))\n",
    "\n",
    "# set the missing values to NA\n",
    "max_PRCP[max_PRCP==-999] = NA"
   ]
  },
  {
   "cell_type": "markdown",
   "metadata": {},
   "source": [
    "## Section 1: Mean"
   ]
  },
  {
   "cell_type": "code",
   "execution_count": 10,
   "metadata": {
    "collapsed": true
   },
   "outputs": [],
   "source": [
    "options(repr.plot.width=9, repr.plot.height=5) #reduces the plot sizes"
   ]
  },
  {
   "cell_type": "code",
   "execution_count": 72,
   "metadata": {
    "collapsed": false
   },
   "outputs": [],
   "source": [
    "# create for maximum rainfall\n",
    "maxTS = ts(data$Max.PRCP, start = firstYear, freq=12)\n",
    "\n",
    "# create regression line\n",
    "reg = lm(Max.PRCP. ~ month, data=data)"
   ]
  },
  {
   "cell_type": "code",
   "execution_count": 76,
   "metadata": {
    "collapsed": false
   },
   "outputs": [
    {
     "data": {
      "text/html": [
       "1176"
      ],
      "text/latex": [
       "1176"
      ],
      "text/markdown": [
       "1176"
      ],
      "text/plain": [
       "[1] 1176"
      ]
     },
     "metadata": {},
     "output_type": "display_data"
    }
   ],
   "source": [
    "maxObs = max(na.omit(data$Max.PRCP.));maxObs"
   ]
  },
  {
   "cell_type": "code",
   "execution_count": 77,
   "metadata": {
    "collapsed": false
   },
   "outputs": [
    {
     "data": {
      "text/html": [
       "1219"
      ],
      "text/latex": [
       "1219"
      ],
      "text/markdown": [
       "1219"
      ],
      "text/plain": [
       "[1] 1219"
      ]
     },
     "metadata": {},
     "output_type": "display_data"
    }
   ],
   "source": [
    "which(data$Max.PRCP.==maxObs)"
   ]
  },
  {
   "cell_type": "code",
   "execution_count": 80,
   "metadata": {
    "collapsed": false
   },
   "outputs": [
    {
     "data": {
      "text/html": [
       "<table>\n",
       "<thead><tr><th></th><th scope=col>STATION</th><th scope=col>STATION_NAME</th><th scope=col>YEAR</th><th scope=col>MONTH</th><th scope=col>Obs</th><th scope=col>Max.PRCP.</th><th scope=col>month</th></tr></thead>\n",
       "<tbody>\n",
       "\t<tr><th scope=row>1219</th><td>GHCND:USC00053005 </td><td>FORT COLLINS CO US</td><td>1997              </td><td>7                 </td><td>31                </td><td>1176              </td><td>1219              </td></tr>\n",
       "</tbody>\n",
       "</table>\n"
      ],
      "text/latex": [
       "\\begin{tabular}{r|lllllll}\n",
       "  & STATION & STATION\\_NAME & YEAR & MONTH & Obs & Max.PRCP. & month\\\\\n",
       "\\hline\n",
       "\t1219 & GHCND:USC00053005  & FORT COLLINS CO US & 1997               & 7                  & 31                 & 1176               & 1219              \\\\\n",
       "\\end{tabular}\n"
      ],
      "text/plain": [
       "     STATION           STATION_NAME       YEAR MONTH Obs Max.PRCP. month\n",
       "1219 GHCND:USC00053005 FORT COLLINS CO US 1997 7     31  1176      1219 "
      ]
     },
     "metadata": {},
     "output_type": "display_data"
    }
   ],
   "source": [
    "data[1219,]"
   ]
  },
  {
   "cell_type": "code",
   "execution_count": 82,
   "metadata": {
    "collapsed": false
   },
   "outputs": [
    {
     "data": {
      "image/png": "[encoded data removed]",
      "text/plain": [
       "plot without title"
      ]
     },
     "metadata": {},
     "output_type": "display_data"
    }
   ],
   "source": [
    "plot(maxTS, xlab = \"Time (years)\", col = \"darkgrey\", lwd=1.75, ylab = \"Precipitation (1/10mm)\", \n",
    "     #main=sprintf(\"%s \\nObserved 24 Hour Max Rainfall \\nfrom %i to 2012 by Monthly Max\", stationName,firstYear),\n",
    "     ylim=c(0,1250))"
   ]
  },
  {
   "cell_type": "code",
   "execution_count": 86,
   "metadata": {
    "collapsed": false
   },
   "outputs": [
    {
     "data": {
      "image/png": "[encoded data removed]",
      "text/plain": [
       "plot without title"
      ]
     },
     "metadata": {},
     "output_type": "display_data"
    }
   ],
   "source": [
    "plot(maxTS, xlab = \"Time (years)\", col = \"darkgrey\", lwd=1.75, ylab = \"Precipitation (1/10mm)\", \n",
    "     #main=sprintf(\"%s \\nObserved 24 Hour Max Rainfall \\nfrom %i to 2012 by Monthly Max\", stationName,firstYear),\n",
    "     ylim=c(0,1250))\n",
    "abline(h=maxObs, col=\"red\", lwd=.5, lty=5)\n",
    "points(smoothTS, col=4, type=\"l\", lwd=2)\n",
    "text(1997,maxObs+50,\n",
    "           sprintf(\"%i\",maxObs))"
   ]
  },
  {
   "cell_type": "code",
   "execution_count": 145,
   "metadata": {
    "collapsed": true
   },
   "outputs": [],
   "source": [
    "smooth = runmean(data$Max.PRCP., 120)"
   ]
  },
  {
   "cell_type": "code",
   "execution_count": 146,
   "metadata": {
    "collapsed": true
   },
   "outputs": [],
   "source": [
    "smoothTS = ts(smooth, start=firstYear, freq=12)"
   ]
  },
  {
   "cell_type": "code",
   "execution_count": 147,
   "metadata": {
    "collapsed": false
   },
   "outputs": [
    {
     "data": {
      "image/png": "[encoded data removed]",
      "text/plain": [
       "plot without title"
      ]
     },
     "metadata": {},
     "output_type": "display_data"
    }
   ],
   "source": [
    "#rollSmall = runmean(data$Max.PRCP., 300)\n",
    "plot(smoothTS, type=\"l\", xlab = \"Time (years)\", lwd=2,\n",
    "    ylab = \"Precipitation (1/10mm)\", col = 1\n",
    "     #main=\"Smoothed 24 hour max rainfall from 1898 to 2014\"\n",
    "    )\n"
   ]
  },
  {
   "cell_type": "code",
   "execution_count": 148,
   "metadata": {
    "collapsed": true
   },
   "outputs": [],
   "source": [
    "smoothALL = runmean(data$Max.PRCP., 1428/2)"
   ]
  },
  {
   "cell_type": "code",
   "execution_count": 149,
   "metadata": {
    "collapsed": false
   },
   "outputs": [
    {
     "data": {
      "text/html": [
       "1428"
      ],
      "text/latex": [
       "1428"
      ],
      "text/markdown": [
       "1428"
      ],
      "text/plain": [
       "[1] 1428"
      ]
     },
     "metadata": {},
     "output_type": "display_data"
    }
   ],
   "source": [
    "length(smoothALL)"
   ]
  },
  {
   "cell_type": "code",
   "execution_count": 150,
   "metadata": {
    "collapsed": true
   },
   "outputs": [],
   "source": [
    "smoothALLTS = ts(smoothALL, start = 1896, freq=12)"
   ]
  },
  {
   "cell_type": "code",
   "execution_count": 151,
   "metadata": {
    "collapsed": false
   },
   "outputs": [
    {
     "data": {
      "image/png": "[encoded data removed]",
      "text/plain": [
       "plot without title"
      ]
     },
     "metadata": {},
     "output_type": "display_data"
    }
   ],
   "source": [
    "plot(smoothALLTS, type=\"l\", col=\"blue\", ylab=\"Smoothed Precipitation (1/10mm)\", xlab=\"Time (years)\")"
   ]
  },
  {
   "cell_type": "code",
   "execution_count": 152,
   "metadata": {
    "collapsed": false
   },
   "outputs": [
    {
     "data": {
      "image/png": "[encoded data removed]",
      "text/plain": [
       "plot without title"
      ]
     },
     "metadata": {},
     "output_type": "display_data"
    }
   ],
   "source": [
    "#rollSmall = runmean(data$Max.PRCP., 300)\n",
    "plot(smoothTS, type=\"l\", xlab = \"Time (years)\", lwd=2,\n",
    "    ylab = \"Precipitation (1/10mm)\", col = 1\n",
    "     #main=\"Smoothed 24 hour max rainfall from 1898 to 2014\"\n",
    "    )\n",
    "lines(smoothALLTS, col=4, lwd=2)"
   ]
  },
  {
   "cell_type": "code",
   "execution_count": 165,
   "metadata": {
    "collapsed": false
   },
   "outputs": [
    {
     "data": {
      "image/png": "[encoded data removed]",
      "text/plain": [
       "plot without title"
      ]
     },
     "metadata": {},
     "output_type": "display_data"
    }
   ],
   "source": [
    "#rollSmall = runmean(data$Max.PRCP., 300)\n",
    "plot(smoothTS, type=\"l\", xlab = \"Time (years)\", lwd=2,\n",
    "    ylab = \"Precipitation (1/10mm)\", col = 1\n",
    "     #main=\"Smoothed 24 hour max rainfall from 1898 to 2014\"\n",
    "    )\n",
    "lines(smoothALLTS, col=4, lwd=2)\n",
    "abline(v=1978,col=2,lwd=2)"
   ]
  },
  {
   "cell_type": "markdown",
   "metadata": {},
   "source": [
    "### Change point detection for mean signal"
   ]
  },
  {
   "cell_type": "code",
   "execution_count": 154,
   "metadata": {
    "collapsed": false
   },
   "outputs": [],
   "source": [
    "require(changepoint)"
   ]
  },
  {
   "cell_type": "code",
   "execution_count": 155,
   "metadata": {
    "collapsed": false
   },
   "outputs": [
    {
     "data": {
      "text/plain": [
       "Class 'cpt' : Changepoint Object\n",
       "       ~~   : S4 class containing 12 slots with names\n",
       "              date version data.set cpttype method test.stat pen.type pen.value minseglen cpts ncpts.max param.est \n",
       "\n",
       "Created on  : Tue Sep 13 17:22:34 2016 \n",
       "\n",
       "summary(.)  :\n",
       "----------\n",
       "Created Using changepoint version 2.2.1 \n",
       "Changepoint type      : Change in mean \n",
       "Method of analysis    : AMOC \n",
       "Test Statistic  : Normal \n",
       "Type of penalty       : MBIC with value, 21.79209 \n",
       "Minimum Segment Length : 1 \n",
       "Maximum no. of cpts   : 1 \n",
       "Changepoint Locations : 976 "
      ]
     },
     "metadata": {},
     "output_type": "display_data"
    }
   ],
   "source": [
    "cpt.mean(smoothTS)"
   ]
  },
  {
   "cell_type": "code",
   "execution_count": 156,
   "metadata": {
    "collapsed": false
   },
   "outputs": [
    {
     "data": {
      "text/html": [
       "138.449152542373"
      ],
      "text/latex": [
       "138.449152542373"
      ],
      "text/markdown": [
       "138.449152542373"
      ],
      "text/plain": [
       "[1] 138.4492"
      ]
     },
     "metadata": {},
     "output_type": "display_data"
    }
   ],
   "source": [
    "smoothTS[976]"
   ]
  },
  {
   "cell_type": "code",
   "execution_count": 157,
   "metadata": {
    "collapsed": false
   },
   "outputs": [
    {
     "data": {
      "text/html": [
       "81.3333333333333"
      ],
      "text/latex": [
       "81.3333333333333"
      ],
      "text/markdown": [
       "81.3333333333333"
      ],
      "text/plain": [
       "[1] 81.33333"
      ]
     },
     "metadata": {},
     "output_type": "display_data"
    }
   ],
   "source": [
    "976/12"
   ]
  },
  {
   "cell_type": "code",
   "execution_count": 158,
   "metadata": {
    "collapsed": false
   },
   "outputs": [
    {
     "data": {
      "text/plain": [
       "\n",
       "\tShapiro-Wilk normality test\n",
       "\n",
       "data:  smoothTS\n",
       "W = 0.99003, p-value = 2.748e-08\n"
      ]
     },
     "metadata": {},
     "output_type": "display_data"
    }
   ],
   "source": [
    "shapiro.test(smoothTS)"
   ]
  },
  {
   "cell_type": "code",
   "execution_count": 159,
   "metadata": {
    "collapsed": false
   },
   "outputs": [
    {
     "data": {
      "image/png": "[encoded data removed]",
      "text/plain": [
       "Plot with title \"Normal Q-Q Plot\""
      ]
     },
     "metadata": {},
     "output_type": "display_data"
    }
   ],
   "source": [
    "qqnorm(smoothTS);qqline(smoothTS)"
   ]
  },
  {
   "cell_type": "code",
   "execution_count": 160,
   "metadata": {
    "collapsed": false
   },
   "outputs": [
    {
     "data": {
      "image/png": "[encoded data removed]",
      "text/plain": [
       "Plot with title \"Histogram of smoothTS\""
      ]
     },
     "metadata": {},
     "output_type": "display_data"
    }
   ],
   "source": [
    "hist(smoothTS,breaks=40)"
   ]
  },
  {
   "cell_type": "code",
   "execution_count": 161,
   "metadata": {
    "collapsed": false
   },
   "outputs": [
    {
     "data": {
      "text/html": [
       "<ol class=list-inline>\n",
       "\t<li>138.731092436975</li>\n",
       "\t<li>138.899159663866</li>\n",
       "\t<li>139.310924369748</li>\n",
       "\t<li>138.647058823529</li>\n",
       "\t<li>138.63025210084</li>\n",
       "\t<li>139.203389830508</li>\n",
       "\t<li>138.449152542373</li>\n",
       "\t<li>144.966101694915</li>\n",
       "\t<li>145.813559322034</li>\n",
       "\t<li>148.864406779661</li>\n",
       "\t<li>147.593220338983</li>\n",
       "\t<li>149.35593220339</li>\n",
       "\t<li>150.135593220339</li>\n",
       "\t<li>149.686440677966</li>\n",
       "\t<li>149.601694915254</li>\n",
       "\t<li>150.623931623932</li>\n",
       "</ol>\n"
      ],
      "text/latex": [
       "\\begin{enumerate*}\n",
       "\\item 138.731092436975\n",
       "\\item 138.899159663866\n",
       "\\item 139.310924369748\n",
       "\\item 138.647058823529\n",
       "\\item 138.63025210084\n",
       "\\item 139.203389830508\n",
       "\\item 138.449152542373\n",
       "\\item 144.966101694915\n",
       "\\item 145.813559322034\n",
       "\\item 148.864406779661\n",
       "\\item 147.593220338983\n",
       "\\item 149.35593220339\n",
       "\\item 150.135593220339\n",
       "\\item 149.686440677966\n",
       "\\item 149.601694915254\n",
       "\\item 150.623931623932\n",
       "\\end{enumerate*}\n"
      ],
      "text/markdown": [
       "1. 138.731092436975\n",
       "2. 138.899159663866\n",
       "3. 139.310924369748\n",
       "4. 138.647058823529\n",
       "5. 138.63025210084\n",
       "6. 139.203389830508\n",
       "7. 138.449152542373\n",
       "8. 144.966101694915\n",
       "9. 145.813559322034\n",
       "10. 148.864406779661\n",
       "11. 147.593220338983\n",
       "12. 149.35593220339\n",
       "13. 150.135593220339\n",
       "14. 149.686440677966\n",
       "15. 149.601694915254\n",
       "16. 150.623931623932\n",
       "\n",
       "\n"
      ],
      "text/plain": [
       " [1] 138.7311 138.8992 139.3109 138.6471 138.6303 139.2034 138.4492 144.9661\n",
       " [9] 145.8136 148.8644 147.5932 149.3559 150.1356 149.6864 149.6017 150.6239"
      ]
     },
     "metadata": {},
     "output_type": "display_data"
    }
   ],
   "source": [
    "smoothTS[970:985]"
   ]
  },
  {
   "cell_type": "code",
   "execution_count": 162,
   "metadata": {
    "collapsed": false
   },
   "outputs": [
    {
     "data": {
      "text/html": [
       "1978"
      ],
      "text/latex": [
       "1978"
      ],
      "text/markdown": [
       "1978"
      ],
      "text/plain": [
       "[1] 1978"
      ]
     },
     "metadata": {},
     "output_type": "display_data"
    }
   ],
   "source": [
    "1895+83"
   ]
  },
  {
   "cell_type": "code",
   "execution_count": 141,
   "metadata": {
    "collapsed": false
   },
   "outputs": [
    {
     "data": {
      "text/html": [
       "119"
      ],
      "text/latex": [
       "119"
      ],
      "text/markdown": [
       "119"
      ],
      "text/plain": [
       "[1] 119"
      ]
     },
     "metadata": {},
     "output_type": "display_data"
    }
   ],
   "source": [
    "length(smoothTS)/12"
   ]
  },
  {
   "cell_type": "code",
   "execution_count": 166,
   "metadata": {
    "collapsed": true
   },
   "outputs": [],
   "source": [
    "anotherTS = smoothTS"
   ]
  },
  {
   "cell_type": "code",
   "execution_count": 168,
   "metadata": {
    "collapsed": true
   },
   "outputs": [],
   "source": [
    "mean1sthalf = mean(smoothTS[1:976])\n",
    "mean2ndhalf = mean(smooth[976:length(smoothTS)])"
   ]
  },
  {
   "cell_type": "code",
   "execution_count": 169,
   "metadata": {
    "collapsed": true
   },
   "outputs": [],
   "source": [
    "anotherTS[1:976] = mean1sthalf\n",
    "anotherTS[976:length(smoothTS)] = mean2ndhalf"
   ]
  },
  {
   "cell_type": "code",
   "execution_count": 71,
   "metadata": {
    "collapsed": false
   },
   "outputs": [
    {
     "data": {
      "image/png": "[encoded data removed]",
      "text/plain": [
       "Plot with title \"Smoothed 24 hour max rainfall from 1898 to 2012\""
      ]
     },
     "metadata": {},
     "output_type": "display_data"
    }
   ],
   "source": [
    "#rollSmall = runmean(data$Max.PRCP., 300)\n",
    "plot(smoothTS2, type=\"l\", xlab = \"Time (years)\", lwd=2,\n",
    "    ylab = \"Max Precipitation (1/10mm)\", col = 1, main=\"Smoothed 24 hour max rainfall from 1898 to 2012\")\n",
    "    #points(rollLarge, type=\"l\", col=4)\n",
    "    #egend(0,200, c(\"300 window\",\"\", \"900 window\"), col=c(2,0,4), lty=c(1,0,1), bty=\"n\")\n",
    "    abline(h=mean(na.omit(data$Max.PRCP.)),col=2,lwd=3)"
   ]
  },
  {
   "cell_type": "code",
   "execution_count": 171,
   "metadata": {
    "collapsed": false
   },
   "outputs": [
    {
     "data": {
      "image/png": "[encoded data removed]",
      "text/plain": [
       "Plot with title \"Smoothed 24 hour max rainfall from 1898 to 2012\""
      ]
     },
     "metadata": {},
     "output_type": "display_data"
    }
   ],
   "source": [
    "#rollSmall = runmean(data$Max.PRCP., 300)\n",
    "plot(smoothTS2, type=\"l\", xlab = \"Time (years)\", lwd=2,\n",
    "    ylab = \"Max Precipitation (1/10mm)\", col = 1, main=\"Smoothed 24 hour max rainfall from 1898 to 2012\")\n",
    "    #points(rollLarge, type=\"l\", col=4)\n",
    "    #egend(0,200, c(\"300 window\",\"\", \"900 window\"), col=c(2,0,4), lty=c(1,0,1), bty=\"n\")\n",
    "    lines(anotherTS,col=2,lwd=3)\n",
    "    legend(\"topleft\",c(\"Trend Line\",\"\",\"Mean prior and post change point\"), lty=c(1,0,1), lwd=c(2,0,2), col=c(1,0,2),\n",
    "    bty=\"n\", cex = .8, pt.cex=.8)"
   ]
  },
  {
   "cell_type": "code",
   "execution_count": 200,
   "metadata": {
    "collapsed": true
   },
   "outputs": [],
   "source": [
    "data[\"box\"] = as.numeric(data$YEAR>=1978)"
   ]
  },
  {
   "cell_type": "code",
   "execution_count": 201,
   "metadata": {
    "collapsed": false
   },
   "outputs": [
    {
     "data": {
      "text/html": [
       "133.053333333333"
      ],
      "text/latex": [
       "133.053333333333"
      ],
      "text/markdown": [
       "133.053333333333"
      ],
      "text/plain": [
       "[1] 133.0533"
      ]
     },
     "metadata": {},
     "output_type": "display_data"
    }
   ],
   "source": [
    "mean(na.omit(data2[which(data$box == 0),\"Max.PRCP.\"]))"
   ]
  },
  {
   "cell_type": "code",
   "execution_count": 202,
   "metadata": {
    "collapsed": false
   },
   "outputs": [
    {
     "data": {
      "text/html": [
       "150.02947845805"
      ],
      "text/latex": [
       "150.02947845805"
      ],
      "text/markdown": [
       "150.02947845805"
      ],
      "text/plain": [
       "[1] 150.0295"
      ]
     },
     "metadata": {},
     "output_type": "display_data"
    }
   ],
   "source": [
    "mean(na.omit(data2[which(data$box == 1),\"Max.PRCP.\"]))"
   ]
  },
  {
   "cell_type": "markdown",
   "metadata": {},
   "source": [
    "Box plots with noise from the event"
   ]
  },
  {
   "cell_type": "code",
   "execution_count": 203,
   "metadata": {
    "collapsed": false
   },
   "outputs": [
    {
     "data": {
      "image/png": "[encoded data removed]",
      "text/plain": [
       "plot without title"
      ]
     },
     "metadata": {},
     "output_type": "display_data"
    }
   ],
   "source": [
    "boxplot(data$Max.PRCP.~data$box)"
   ]
  },
  {
   "cell_type": "markdown",
   "metadata": {},
   "source": [
    "A little less noise in the box plots by removing the event"
   ]
  },
  {
   "cell_type": "code",
   "execution_count": 204,
   "metadata": {
    "collapsed": false
   },
   "outputs": [
    {
     "data": {
      "image/png": "[encoded data removed]",
      "text/plain": [
       "plot without title"
      ]
     },
     "metadata": {},
     "output_type": "display_data"
    }
   ],
   "source": [
    "boxplot(data$Max.PRCP.~data$box)"
   ]
  },
  {
   "cell_type": "code",
   "execution_count": 205,
   "metadata": {
    "collapsed": true
   },
   "outputs": [],
   "source": [
    "indicator = c(rep(0,1007),rep(1,(397+24)))"
   ]
  },
  {
   "cell_type": "code",
   "execution_count": 206,
   "metadata": {
    "collapsed": false
   },
   "outputs": [
    {
     "data": {
      "text/html": [
       "1428"
      ],
      "text/latex": [
       "1428"
      ],
      "text/markdown": [
       "1428"
      ],
      "text/plain": [
       "[1] 1428"
      ]
     },
     "metadata": {},
     "output_type": "display_data"
    }
   ],
   "source": [
    "length(indicator)"
   ]
  },
  {
   "cell_type": "code",
   "execution_count": 216,
   "metadata": {
    "collapsed": false
   },
   "outputs": [],
   "source": [
    "meansBox = as.data.frame(cbind(smoothTS,indicator))"
   ]
  },
  {
   "cell_type": "code",
   "execution_count": 208,
   "metadata": {
    "collapsed": false
   },
   "outputs": [],
   "source": [
    "meansBoxSea = as.data.frame(cbind(smoothTS, rep(c(1,2,3,4,5,6,7,8,9,10,11,12),119)))"
   ]
  },
  {
   "cell_type": "code",
   "execution_count": 209,
   "metadata": {
    "collapsed": false
   },
   "outputs": [],
   "source": [
    "names(meansBoxSea) = c(\"precipitation\",\"month\")"
   ]
  },
  {
   "cell_type": "markdown",
   "metadata": {},
   "source": [
    "Now, can see the difference in the mean of the smoothed signals, however, given the actual variance of the data, the significance here is debatable - not to mention the independence assumption is not valid."
   ]
  },
  {
   "cell_type": "code",
   "execution_count": 210,
   "metadata": {
    "collapsed": false
   },
   "outputs": [
    {
     "data": {
      "image/png": "[encoded data removed]",
      "text/plain": [
       "plot without title"
      ]
     },
     "metadata": {},
     "output_type": "display_data"
    }
   ],
   "source": [
    "boxplot(meansBox$smoothTS ~ meansBox$indicator, xlab = \"Group (0=pre change point, 1=post change point)\",\n",
    "       col = c(\"blue\",\"green\"), ylab = \"Precipitation (1/10mm)\")"
   ]
  },
  {
   "cell_type": "markdown",
   "metadata": {},
   "source": [
    "#  Variances"
   ]
  },
  {
   "cell_type": "code",
   "execution_count": 217,
   "metadata": {
    "collapsed": true
   },
   "outputs": [],
   "source": [
    "vars1 = NULL\n",
    "for(i in 1:(length(max_PRCP))){\n",
    "    vars1 = c(vars1,var(na.omit(max_PRCP[,i])))\n",
    "}\n",
    "vars1TS = ts(vars1, start = firstYear)"
   ]
  },
  {
   "cell_type": "code",
   "execution_count": 218,
   "metadata": {
    "collapsed": false
   },
   "outputs": [
    {
     "data": {
      "text/plain": [
       "Time Series:\n",
       "Start = 1896 \n",
       "End = 2005 \n",
       "Frequency = 1 \n",
       "  [1] 17132.24 17677.51 17912.33 19677.28 19770.37 18721.59 16125.19 16460.47\n",
       "  [9] 17512.64 14540.66 14689.79 15050.07 14845.88 15935.55 15455.63 14519.03\n",
       " [17] 14753.16 14319.76 18535.31 18501.20 17857.39 16471.50 16521.46 13537.75\n",
       " [25] 13761.54 14640.60 14634.97 15801.85 11707.51 11468.71 12026.85 11840.48\n",
       " [33] 11595.92 16297.79 15885.14 15293.37 15658.78 18373.73 17304.37 17652.75\n",
       " [41] 16094.08 17579.49 20111.56 15176.31 20985.87 21969.79 25372.25 22826.83\n",
       " [49] 23472.03 22848.96 22830.26 21355.61 21017.81 21669.77 16268.04 15745.51\n",
       " [57] 18597.63 17659.00 19113.17 19469.10 22040.06 22215.61 22316.76 22566.00\n",
       " [65] 22637.99 23726.30 17990.42 17754.49 15277.50 18127.67 18185.35 17935.23\n",
       " [73] 24621.77 25441.96 26969.18 25023.21 24271.05 29196.00 30871.52 29043.74\n",
       " [81] 27469.42 27315.29 18827.34 18181.66 16405.06 21490.26 21483.60 20336.29\n",
       " [89] 18230.95 18051.63 17934.97 18622.73 30068.36 30474.60 32557.70 27551.27\n",
       " [97] 27679.00 24523.59 31476.80 30487.58 30590.05 30349.90 19850.87 19495.36\n",
       "[105] 19264.17 19609.30 20421.15 21435.34 15870.29 16716.03"
      ]
     },
     "metadata": {},
     "output_type": "display_data"
    }
   ],
   "source": [
    "vars1TS"
   ]
  },
  {
   "cell_type": "code",
   "execution_count": 219,
   "metadata": {
    "collapsed": true
   },
   "outputs": [],
   "source": [
    "rollSmall = ts(runmean(vars1TS,15),start=firstYear)\n",
    "rollSmall2 = ts(runmean(vars1TS,30),start=firstYear)\n",
    "rollSmall3 = ts(runmean(vars1TS,50),start=firstYear)"
   ]
  },
  {
   "cell_type": "code",
   "execution_count": 220,
   "metadata": {
    "collapsed": false
   },
   "outputs": [
    {
     "data": {
      "image/png": "[encoded data removed]",
      "text/plain": [
       "plot without title"
      ]
     },
     "metadata": {},
     "output_type": "display_data"
    }
   ],
   "source": [
    "plot(vars1TS, type=\"l\", xlab = \"Time (years)\", lwd=2,\n",
    "    ylab = \"Precipitation (1/10mm)^2\", col = 1)\n",
    "lines(rollSmall, col=3,lwd=2)\n",
    "lines(rollSmall2, col=2,lwd=2)\n",
    "lines(rollSmall3, col=4,lwd=2)\n",
    "legend(\"topleft\",c(\"Variance, of Intervals\",\"\",\"Small Smoothing\", \"\",\"Medium Smoothing\",\"\",\"Large Smoothing\"),\n",
    "      col = c(1,0,3,0,2,0,4), lty = c(1,0,1,0,1,0,1), lwd=c(2,2,2,2), bty=\"n\")"
   ]
  },
  {
   "cell_type": "code",
   "execution_count": 221,
   "metadata": {
    "collapsed": false
   },
   "outputs": [
    {
     "data": {
      "image/png": "[encoded data removed]",
      "text/plain": [
       "plot without title"
      ]
     },
     "metadata": {},
     "output_type": "display_data"
    }
   ],
   "source": [
    "plot(sqrt(vars1TS), type=\"l\", xlab = \"Time (years)\", lwd=2,\n",
    "    ylab = \"Precipitation (1/10mm)^2\", col = 1)\n",
    "lines(sqrt(rollSmall), col=3,lwd=2)\n",
    "lines(sqrt(rollSmall2), col=2,lwd=2)\n",
    "lines(sqrt(rollSmall3), col=4,lwd=2)\n",
    "legend(\"topleft\",c(\"Standard Deviation, of Intervals\",\"\",\"Small Smoothing\", \"\",\"Medium Smoothing\",\"\",\"Large Smoothing\"),\n",
    "      col = c(1,0,3,0,2,0,4), lty = c(1,0,1,0,1,0,1), lwd=c(2,2,2,2), bty=\"n\")"
   ]
  }
 ],
 "metadata": {
  "anaconda-cloud": {},
  "kernelspec": {
   "display_name": "R",
   "language": "R",
   "name": "ir"
  },
  "language_info": {
   "codemirror_mode": "r",
   "file_extension": ".r",
   "mimetype": "text/x-r-source",
   "name": "R",
   "pygments_lexer": "r",
   "version": "3.3.1"
  }
 },
 "nbformat": 4,
 "nbformat_minor": 0
}
