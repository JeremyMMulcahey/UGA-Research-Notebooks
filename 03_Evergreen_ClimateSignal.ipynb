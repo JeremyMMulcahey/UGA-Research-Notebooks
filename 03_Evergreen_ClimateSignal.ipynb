{
 "cells": [
  {
   "cell_type": "markdown",
   "metadata": {},
   "source": [
    "# Master's Thesis: Investigating Maximum Rainfall Trends in Colorado"
   ]
  },
  {
   "cell_type": "markdown",
   "metadata": {},
   "source": [
    "<b>Institution:</b> University of Georgia <br>\n",
    "<b>Department:</b> Statistics <br>\n",
    "<b>Student:</b> Jeremy Mulcahey <br>\n",
    "<b>Advisor:</b> Dr. Lynne Seymour <br>\n",
    "<b>Last Edit:</b> 9/27/2016"
   ]
  },
  {
   "cell_type": "markdown",
   "metadata": {},
   "source": [
    "Section 0: Preparing data <br>\n",
    "Section 1: Mean<br>\n",
    "Section 2: Variance"
   ]
  },
  {
   "cell_type": "markdown",
   "metadata": {},
   "source": [
    "##  Section 0: Preparing data"
   ]
  },
  {
   "cell_type": "code",
   "execution_count": 1,
   "metadata": {
    "collapsed": false
   },
   "outputs": [
    {
     "name": "stderr",
     "output_type": "stream",
     "text": [
      "Loading required package: fitdistrplus\n",
      "Loading required package: MASS\n",
      "Loading required package: survival\n",
      "Loading required package: caTools\n",
      "Loading required package: repr\n",
      "Loading required package: IRdisplay\n"
     ]
    }
   ],
   "source": [
    "require(fitdistrplus); # required for parameter estimation\n",
    "require(caTools);      # required for smoothing\n",
    "require(repr);         # required for resizing plots in IRKernel\n",
    "require(\"IRdisplay\");  # graphic embedding\n",
    "require(MASS);         # testing"
   ]
  },
  {
   "cell_type": "code",
   "execution_count": 2,
   "metadata": {
    "collapsed": false
   },
   "outputs": [],
   "source": [
    "# establish working directorys\n",
    "setwd(\"C:/Users/jerem/Desktop/UGA/Master'sThesis/\")"
   ]
  },
  {
   "cell_type": "markdown",
   "metadata": {},
   "source": [
    "Data files for individual station names."
   ]
  },
  {
   "cell_type": "code",
   "execution_count": 3,
   "metadata": {
    "collapsed": false
   },
   "outputs": [],
   "source": [
    "data = read.csv(file = \"data/EVERGREEN_MonMax_GHCN.csv\", head=T)"
   ]
  },
  {
   "cell_type": "markdown",
   "metadata": {},
   "source": [
    "Adjust the data for later use."
   ]
  },
  {
   "cell_type": "code",
   "execution_count": 4,
   "metadata": {
    "collapsed": false
   },
   "outputs": [
    {
     "data": {
      "text/html": [
       "46"
      ],
      "text/latex": [
       "46"
      ],
      "text/markdown": [
       "46"
      ],
      "text/plain": [
       "[1] 46"
      ]
     },
     "metadata": {},
     "output_type": "display_data"
    }
   ],
   "source": [
    "# Create an index as x - used as needed\n",
    "month = seq(1,nrow(data),by=1)\n",
    "data = cbind(data,month)\n",
    "\n",
    "# first year of the data (changes by station name)\n",
    "firstYear = data$YEAR[1]\n",
    "\n",
    "# station name for plotting\n",
    "stationName = as.character(data$STATION_NAME[1])\n",
    "\n",
    "# -999 messed with the plotting - change to NA\n",
    "data[data==-999] = NA\n",
    "\n",
    "sum(is.na(data)) #print number of missing values"
   ]
  },
  {
   "cell_type": "markdown",
   "metadata": {},
   "source": [
    "Check number of years in the data set."
   ]
  },
  {
   "cell_type": "code",
   "execution_count": 5,
   "metadata": {
    "collapsed": false
   },
   "outputs": [
    {
     "data": {
      "text/html": [
       "52"
      ],
      "text/latex": [
       "52"
      ],
      "text/markdown": [
       "52"
      ],
      "text/plain": [
       "[1] 52"
      ]
     },
     "metadata": {},
     "output_type": "display_data"
    }
   ],
   "source": [
    "data$YEAR[nrow(data)]-firstYear"
   ]
  },
  {
   "cell_type": "code",
   "execution_count": 6,
   "metadata": {
    "collapsed": false
   },
   "outputs": [
    {
     "data": {
      "text/plain": [
       "\n",
       " 1  2  3  4  5  6  7  8  9 10 11 12 \n",
       "53 53 53 53 53 53 53 53 53 53 53 53 "
      ]
     },
     "metadata": {},
     "output_type": "display_data"
    }
   ],
   "source": [
    "table(data$MONTH)"
   ]
  },
  {
   "cell_type": "markdown",
   "metadata": {},
   "source": [
    "Make a data frame of all the 10 year periods following the first year for data collected at the station."
   ]
  },
  {
   "cell_type": "code",
   "execution_count": 7,
   "metadata": {
    "collapsed": false
   },
   "outputs": [],
   "source": [
    "#create the first decade (first year and the following 9 years)\n",
    "max_PRCP = data.frame(data[which(data$YEAR < (firstYear + 10)),6])\n",
    "\n",
    "# add all the subsequent decades to the data frame incrementing by 1 year at a time\n",
    "for(year in c((data$YEAR[1] + 1):2005)){\n",
    "    max_PRCP = cbind(max_PRCP,data[which(data$YEAR >= year & data$YEAR < year+10),6])\n",
    "}\n",
    "\n",
    "# name the columns as the first year of the observed 10 year periods\n",
    "colnames(max_PRCP) = as.character(c(firstYear:2005))\n",
    "\n",
    "# set the missing values to NA\n",
    "max_PRCP[max_PRCP==-999] = NA"
   ]
  },
  {
   "cell_type": "markdown",
   "metadata": {},
   "source": [
    "## Section 1: Mean"
   ]
  },
  {
   "cell_type": "code",
   "execution_count": 8,
   "metadata": {
    "collapsed": true
   },
   "outputs": [],
   "source": [
    "options(repr.plot.width=9, repr.plot.height=5) #reduces the plot sizes"
   ]
  },
  {
   "cell_type": "code",
   "execution_count": 9,
   "metadata": {
    "collapsed": false
   },
   "outputs": [],
   "source": [
    "# create for maximum rainfall\n",
    "maxTS = ts(data$Max.PRCP, start = firstYear, freq=12)\n",
    "\n",
    "# create regression line\n",
    "reg = lm(Max.PRCP. ~ month, data=data)"
   ]
  },
  {
   "cell_type": "code",
   "execution_count": 18,
   "metadata": {
    "collapsed": true
   },
   "outputs": [],
   "source": [
    "smooth = runmean(data$Max.PRCP., 120)"
   ]
  },
  {
   "cell_type": "code",
   "execution_count": 19,
   "metadata": {
    "collapsed": true
   },
   "outputs": [],
   "source": [
    "smoothTS = ts(smooth, start=firstYear, freq=12)"
   ]
  },
  {
   "cell_type": "code",
   "execution_count": 20,
   "metadata": {
    "collapsed": false
   },
   "outputs": [
    {
     "data": {
      "text/html": [
       "937"
      ],
      "text/latex": [
       "937"
      ],
      "text/markdown": [
       "937"
      ],
      "text/plain": [
       "[1] 937"
      ]
     },
     "metadata": {},
     "output_type": "display_data"
    }
   ],
   "source": [
    "maxObs = max(na.omit(data$Max.PRCP.));maxObs"
   ]
  },
  {
   "cell_type": "code",
   "execution_count": 21,
   "metadata": {
    "collapsed": false
   },
   "outputs": [
    {
     "data": {
      "text/html": [
       "89"
      ],
      "text/latex": [
       "89"
      ],
      "text/markdown": [
       "89"
      ],
      "text/plain": [
       "[1] 89"
      ]
     },
     "metadata": {},
     "output_type": "display_data"
    }
   ],
   "source": [
    "which(data$Max.PRCP.==maxObs)"
   ]
  },
  {
   "cell_type": "code",
   "execution_count": 107,
   "metadata": {
    "collapsed": false
   },
   "outputs": [
    {
     "data": {
      "text/html": [
       "<table>\n",
       "<thead><tr><th></th><th scope=col>STATION</th><th scope=col>STATION_NAME</th><th scope=col>YEAR</th><th scope=col>MONTH</th><th scope=col>Obs</th><th scope=col>Max.PRCP.</th><th scope=col>month</th><th scope=col>box</th></tr></thead>\n",
       "<tbody>\n",
       "\t<tr><th scope=row>89</th><td>GHCND:USC00052790</td><td>EVERGREEN CO US  </td><td>1969             </td><td>5                </td><td>31               </td><td>937              </td><td>89               </td><td>0                </td></tr>\n",
       "</tbody>\n",
       "</table>\n"
      ],
      "text/latex": [
       "\\begin{tabular}{r|llllllll}\n",
       "  & STATION & STATION\\_NAME & YEAR & MONTH & Obs & Max.PRCP. & month & box\\\\\n",
       "\\hline\n",
       "\t89 & GHCND:USC00052790 & EVERGREEN CO US   & 1969              & 5                 & 31                & 937               & 89                & 0                \\\\\n",
       "\\end{tabular}\n"
      ],
      "text/plain": [
       "   STATION           STATION_NAME    YEAR MONTH Obs Max.PRCP. month box\n",
       "89 GHCND:USC00052790 EVERGREEN CO US 1969 5     31  937       89    0  "
      ]
     },
     "metadata": {},
     "output_type": "display_data"
    }
   ],
   "source": [
    "data[which(data$Max.PRCP.==maxObs),]"
   ]
  },
  {
   "cell_type": "code",
   "execution_count": 23,
   "metadata": {
    "collapsed": false
   },
   "outputs": [
    {
     "data": {
      "image/png": "[encoded data removed]",
      "text/plain": [
       "plot without title"
      ]
     },
     "metadata": {},
     "output_type": "display_data"
    }
   ],
   "source": [
    "plot(maxTS, xlab = \"Time (years)\", col = \"darkgrey\", lwd=1.75, ylab = \"Precipitation (1/10mm)\", \n",
    "     #main=sprintf(\"%s \\nObserved 24 Hour Max Rainfall \\nfrom %i to 2012 by Monthly Max\", stationName,firstYear),\n",
    "     #ylim=c(0,1250)\n",
    "    )"
   ]
  },
  {
   "cell_type": "code",
   "execution_count": 26,
   "metadata": {
    "collapsed": false
   },
   "outputs": [
    {
     "data": {
      "image/png": "[encoded data removed]",
      "text/plain": [
       "plot without title"
      ]
     },
     "metadata": {},
     "output_type": "display_data"
    }
   ],
   "source": [
    "plot(maxTS, xlab = \"Time (years)\", col = \"darkgrey\", lwd=1.75, ylab = \"Precipitation (1/10mm)\", \n",
    "     #main=sprintf(\"%s \\nObserved 24 Hour Max Rainfall \\nfrom %i to 2012 by Monthly Max\", stationName,firstYear),\n",
    "     ylim=c(0,1050))\n",
    "abline(h=maxObs, col=\"red\", lwd=.5, lty=5)\n",
    "points(smoothTS, col=4, type=\"l\", lwd=2)\n",
    "text(1969,maxObs+50,\n",
    "           sprintf(\"%i\",maxObs))"
   ]
  },
  {
   "cell_type": "code",
   "execution_count": 27,
   "metadata": {
    "collapsed": false
   },
   "outputs": [
    {
     "data": {
      "image/png": "[encoded data removed]",
      "text/plain": [
       "plot without title"
      ]
     },
     "metadata": {},
     "output_type": "display_data"
    }
   ],
   "source": [
    "#rollSmall = runmean(data$Max.PRCP., 300)\n",
    "plot(smoothTS, type=\"l\", xlab = \"Time (years)\", lwd=2,\n",
    "    ylab = \"Precipitation (1/10mm)\", col = 1\n",
    "     #main=\"Smoothed 24 hour max rainfall from 1898 to 2014\"\n",
    "    )\n"
   ]
  },
  {
   "cell_type": "code",
   "execution_count": 32,
   "metadata": {
    "collapsed": true
   },
   "outputs": [],
   "source": [
    "smoothALL = runmean(data$Max.PRCP., length(data$Max.PRCP.)/2)"
   ]
  },
  {
   "cell_type": "code",
   "execution_count": 33,
   "metadata": {
    "collapsed": false
   },
   "outputs": [
    {
     "data": {
      "text/html": [
       "636"
      ],
      "text/latex": [
       "636"
      ],
      "text/markdown": [
       "636"
      ],
      "text/plain": [
       "[1] 636"
      ]
     },
     "metadata": {},
     "output_type": "display_data"
    }
   ],
   "source": [
    "length(smoothALL)"
   ]
  },
  {
   "cell_type": "code",
   "execution_count": 34,
   "metadata": {
    "collapsed": true
   },
   "outputs": [],
   "source": [
    "smoothALLTS = ts(smoothALL, start = firstYear, freq=12)"
   ]
  },
  {
   "cell_type": "code",
   "execution_count": 35,
   "metadata": {
    "collapsed": false
   },
   "outputs": [
    {
     "data": {
      "image/png": "[encoded data removed]",
      "text/plain": [
       "plot without title"
      ]
     },
     "metadata": {},
     "output_type": "display_data"
    }
   ],
   "source": [
    "plot(smoothALLTS, type=\"l\", col=\"blue\", ylab=\"Smoothed Precipitation (1/10mm)\", xlab=\"Time (years)\")"
   ]
  },
  {
   "cell_type": "code",
   "execution_count": 36,
   "metadata": {
    "collapsed": false
   },
   "outputs": [
    {
     "data": {
      "image/png": "[encoded data removed]",
      "text/plain": [
       "plot without title"
      ]
     },
     "metadata": {},
     "output_type": "display_data"
    }
   ],
   "source": [
    "#rollSmall = runmean(data$Max.PRCP., 300)\n",
    "plot(smoothTS, type=\"l\", xlab = \"Time (years)\", lwd=2,\n",
    "    ylab = \"Precipitation (1/10mm)\", col = 1\n",
    "     #main=\"Smoothed 24 hour max rainfall from 1898 to 2014\"\n",
    "    )\n",
    "lines(smoothALLTS, col=4, lwd=2)"
   ]
  },
  {
   "cell_type": "code",
   "execution_count": 50,
   "metadata": {
    "collapsed": false
   },
   "outputs": [
    {
     "data": {
      "image/png": "[encoded data removed]",
      "text/plain": [
       "plot without title"
      ]
     },
     "metadata": {},
     "output_type": "display_data"
    }
   ],
   "source": [
    "#rollSmall = runmean(data$Max.PRCP., 300)\n",
    "plot(smoothTS, type=\"l\", xlab = \"Time (years)\", lwd=2,\n",
    "    ylab = \"Precipitation (1/10mm)\", col = 1\n",
    "     #main=\"Smoothed 24 hour max rainfall from 1898 to 2014\"\n",
    "    )\n",
    "lines(smoothALLTS, col=4, lwd=2)\n",
    "abline(v=1991,col=2,lwd=2)"
   ]
  },
  {
   "cell_type": "markdown",
   "metadata": {},
   "source": [
    "### Change point detection for mean signal"
   ]
  },
  {
   "cell_type": "code",
   "execution_count": 38,
   "metadata": {
    "collapsed": false
   },
   "outputs": [
    {
     "name": "stderr",
     "output_type": "stream",
     "text": [
      "Loading required package: changepoint\n",
      "Loading required package: zoo\n",
      "\n",
      "Attaching package: 'zoo'\n",
      "\n",
      "The following objects are masked from 'package:base':\n",
      "\n",
      "    as.Date, as.Date.numeric\n",
      "\n",
      "Successfully loaded changepoint package version 2.2.1\n",
      " NOTE: Predefined penalty values have changed.  Previous penalty values with a postfix 1 i.e. SIC1 are now without i.e. SIC and previous penalties without a postfix i.e. SIC are now with a postfix 0 i.e. SIC0. See NEWS and help files for further details.\n"
     ]
    }
   ],
   "source": [
    "require(changepoint)"
   ]
  },
  {
   "cell_type": "code",
   "execution_count": 39,
   "metadata": {
    "collapsed": false
   },
   "outputs": [
    {
     "data": {
      "text/plain": [
       "Class 'cpt' : Changepoint Object\n",
       "       ~~   : S4 class containing 12 slots with names\n",
       "              date version data.set cpttype method test.stat pen.type pen.value minseglen cpts ncpts.max param.est \n",
       "\n",
       "Created on  : Tue Sep 13 17:22:34 2016 \n",
       "\n",
       "summary(.)  :\n",
       "----------\n",
       "Created Using changepoint version 2.2.1 \n",
       "Changepoint type      : Change in mean \n",
       "Method of analysis    : AMOC \n",
       "Test Statistic  : Normal \n",
       "Type of penalty       : MBIC with value, 19.3656 \n",
       "Minimum Segment Length : 1 \n",
       "Maximum no. of cpts   : 1 \n",
       "Changepoint Locations : 358 "
      ]
     },
     "metadata": {},
     "output_type": "display_data"
    }
   ],
   "source": [
    "cpt.mean(smoothTS)"
   ]
  },
  {
   "cell_type": "code",
   "execution_count": 56,
   "metadata": {
    "collapsed": true
   },
   "outputs": [],
   "source": [
    "cp=358"
   ]
  },
  {
   "cell_type": "code",
   "execution_count": 109,
   "metadata": {
    "collapsed": false
   },
   "outputs": [
    {
     "data": {
      "text/html": [
       "<table>\n",
       "<thead><tr><th></th><th scope=col>STATION</th><th scope=col>STATION_NAME</th><th scope=col>YEAR</th><th scope=col>MONTH</th><th scope=col>Obs</th><th scope=col>Max.PRCP.</th><th scope=col>month</th><th scope=col>box</th></tr></thead>\n",
       "<tbody>\n",
       "\t<tr><th scope=row>358</th><td>GHCND:USC00052790</td><td>EVERGREEN CO US  </td><td>1991             </td><td>10               </td><td>31               </td><td>61               </td><td>358              </td><td>1                </td></tr>\n",
       "</tbody>\n",
       "</table>\n"
      ],
      "text/latex": [
       "\\begin{tabular}{r|llllllll}\n",
       "  & STATION & STATION\\_NAME & YEAR & MONTH & Obs & Max.PRCP. & month & box\\\\\n",
       "\\hline\n",
       "\t358 & GHCND:USC00052790 & EVERGREEN CO US   & 1991              & 10                & 31                & 61                & 358               & 1                \\\\\n",
       "\\end{tabular}\n"
      ],
      "text/plain": [
       "    STATION           STATION_NAME    YEAR MONTH Obs Max.PRCP. month box\n",
       "358 GHCND:USC00052790 EVERGREEN CO US 1991 10    31  61        358   1  "
      ]
     },
     "metadata": {},
     "output_type": "display_data"
    }
   ],
   "source": [
    "data[cp,]"
   ]
  },
  {
   "cell_type": "code",
   "execution_count": 70,
   "metadata": {
    "collapsed": true
   },
   "outputs": [],
   "source": [
    "cpYear = 1991"
   ]
  },
  {
   "cell_type": "code",
   "execution_count": 57,
   "metadata": {
    "collapsed": false
   },
   "outputs": [
    {
     "data": {
      "text/html": [
       "148.672897196262"
      ],
      "text/latex": [
       "148.672897196262"
      ],
      "text/markdown": [
       "148.672897196262"
      ],
      "text/plain": [
       "[1] 148.6729"
      ]
     },
     "metadata": {},
     "output_type": "display_data"
    }
   ],
   "source": [
    "smoothTS[cp]"
   ]
  },
  {
   "cell_type": "code",
   "execution_count": 44,
   "metadata": {
    "collapsed": false
   },
   "outputs": [
    {
     "data": {
      "text/html": [
       "29.8333333333333"
      ],
      "text/latex": [
       "29.8333333333333"
      ],
      "text/markdown": [
       "29.8333333333333"
      ],
      "text/plain": [
       "[1] 29.83333"
      ]
     },
     "metadata": {},
     "output_type": "display_data"
    }
   ],
   "source": [
    "cp/12"
   ]
  },
  {
   "cell_type": "code",
   "execution_count": 48,
   "metadata": {
    "collapsed": false
   },
   "outputs": [
    {
     "data": {
      "text/html": [
       "1962"
      ],
      "text/latex": [
       "1962"
      ],
      "text/markdown": [
       "1962"
      ],
      "text/plain": [
       "[1] 1962"
      ]
     },
     "metadata": {},
     "output_type": "display_data"
    }
   ],
   "source": [
    "firstYear"
   ]
  },
  {
   "cell_type": "markdown",
   "metadata": {},
   "source": [
    "October 91?"
   ]
  },
  {
   "cell_type": "code",
   "execution_count": 45,
   "metadata": {
    "collapsed": false
   },
   "outputs": [
    {
     "data": {
      "text/plain": [
       "\n",
       "\tShapiro-Wilk normality test\n",
       "\n",
       "data:  smoothTS\n",
       "W = 0.97656, p-value = 1.466e-08\n"
      ]
     },
     "metadata": {},
     "output_type": "display_data"
    }
   ],
   "source": [
    "shapiro.test(smoothTS)"
   ]
  },
  {
   "cell_type": "code",
   "execution_count": 46,
   "metadata": {
    "collapsed": false
   },
   "outputs": [
    {
     "data": {
      "image/png": "[encoded data removed]",
      "text/plain": [
       "Plot with title \"Normal Q-Q Plot\""
      ]
     },
     "metadata": {},
     "output_type": "display_data"
    }
   ],
   "source": [
    "qqnorm(smoothTS);qqline(smoothTS)"
   ]
  },
  {
   "cell_type": "code",
   "execution_count": 51,
   "metadata": {
    "collapsed": false
   },
   "outputs": [
    {
     "data": {
      "image/png": "[encoded data removed]",
      "text/plain": [
       "Plot with title \"Histogram of smoothTS\""
      ]
     },
     "metadata": {},
     "output_type": "display_data"
    }
   ],
   "source": [
    "hist(smoothTS,breaks=40)"
   ]
  },
  {
   "cell_type": "code",
   "execution_count": 60,
   "metadata": {
    "collapsed": false
   },
   "outputs": [
    {
     "data": {
      "text/html": [
       "<ol class=list-inline>\n",
       "\t<li>151.261682242991</li>\n",
       "\t<li>151.355140186916</li>\n",
       "\t<li>151.140186915888</li>\n",
       "\t<li>152.084112149533</li>\n",
       "\t<li>151.420560747664</li>\n",
       "\t<li>152.03738317757</li>\n",
       "\t<li>151.495327102804</li>\n",
       "\t<li>150.878504672897</li>\n",
       "\t<li>149.07476635514</li>\n",
       "\t<li>150.523364485981</li>\n",
       "\t<li>148.672897196262</li>\n",
       "\t<li>148.102803738318</li>\n",
       "\t<li>148.345794392523</li>\n",
       "\t<li>147.700934579439</li>\n",
       "\t<li>148.242990654206</li>\n",
       "\t<li>147.88785046729</li>\n",
       "\t<li>150.093457943925</li>\n",
       "\t<li>148.953271028037</li>\n",
       "\t<li>147.339622641509</li>\n",
       "\t<li>147.028301886792</li>\n",
       "\t<li>146.311320754717</li>\n",
       "</ol>\n"
      ],
      "text/latex": [
       "\\begin{enumerate*}\n",
       "\\item 151.261682242991\n",
       "\\item 151.355140186916\n",
       "\\item 151.140186915888\n",
       "\\item 152.084112149533\n",
       "\\item 151.420560747664\n",
       "\\item 152.03738317757\n",
       "\\item 151.495327102804\n",
       "\\item 150.878504672897\n",
       "\\item 149.07476635514\n",
       "\\item 150.523364485981\n",
       "\\item 148.672897196262\n",
       "\\item 148.102803738318\n",
       "\\item 148.345794392523\n",
       "\\item 147.700934579439\n",
       "\\item 148.242990654206\n",
       "\\item 147.88785046729\n",
       "\\item 150.093457943925\n",
       "\\item 148.953271028037\n",
       "\\item 147.339622641509\n",
       "\\item 147.028301886792\n",
       "\\item 146.311320754717\n",
       "\\end{enumerate*}\n"
      ],
      "text/markdown": [
       "1. 151.261682242991\n",
       "2. 151.355140186916\n",
       "3. 151.140186915888\n",
       "4. 152.084112149533\n",
       "5. 151.420560747664\n",
       "6. 152.03738317757\n",
       "7. 151.495327102804\n",
       "8. 150.878504672897\n",
       "9. 149.07476635514\n",
       "10. 150.523364485981\n",
       "11. 148.672897196262\n",
       "12. 148.102803738318\n",
       "13. 148.345794392523\n",
       "14. 147.700934579439\n",
       "15. 148.242990654206\n",
       "16. 147.88785046729\n",
       "17. 150.093457943925\n",
       "18. 148.953271028037\n",
       "19. 147.339622641509\n",
       "20. 147.028301886792\n",
       "21. 146.311320754717\n",
       "\n",
       "\n"
      ],
      "text/plain": [
       " [1] 151.2617 151.3551 151.1402 152.0841 151.4206 152.0374 151.4953 150.8785\n",
       " [9] 149.0748 150.5234 148.6729 148.1028 148.3458 147.7009 148.2430 147.8879\n",
       "[17] 150.0935 148.9533 147.3396 147.0283 146.3113"
      ]
     },
     "metadata": {},
     "output_type": "display_data"
    }
   ],
   "source": [
    "smoothTS[(cp-10):(cp+10)]"
   ]
  },
  {
   "cell_type": "code",
   "execution_count": 61,
   "metadata": {
    "collapsed": true
   },
   "outputs": [],
   "source": [
    "anotherTS = smoothTS"
   ]
  },
  {
   "cell_type": "code",
   "execution_count": 64,
   "metadata": {
    "collapsed": true
   },
   "outputs": [],
   "source": [
    "mean1sthalf = mean(smoothTS[1:cp])\n",
    "mean2ndhalf = mean(smooth[(cp+1):length(smoothTS)])"
   ]
  },
  {
   "cell_type": "code",
   "execution_count": 65,
   "metadata": {
    "collapsed": true
   },
   "outputs": [],
   "source": [
    "anotherTS[1:cp] = mean1sthalf\n",
    "anotherTS[(cp+1):length(smoothTS)] = mean2ndhalf"
   ]
  },
  {
   "cell_type": "code",
   "execution_count": 68,
   "metadata": {
    "collapsed": false
   },
   "outputs": [
    {
     "data": {
      "image/png": "[encoded data removed]",
      "text/plain": [
       "plot without title"
      ]
     },
     "metadata": {},
     "output_type": "display_data"
    }
   ],
   "source": [
    "#rollSmall = runmean(data$Max.PRCP., 300)\n",
    "plot(smoothTS, type=\"l\", xlab = \"Time (years)\", lwd=2,\n",
    "    ylab = \"Max Precipitation (1/10mm)\", col = 1 #main=\"Smoothed 24 hour max rainfall from 1898 to 2012\"\n",
    "    )\n",
    "    #points(rollLarge, type=\"l\", col=4)\n",
    "    #egend(0,200, c(\"300 window\",\"\", \"900 window\"), col=c(2,0,4), lty=c(1,0,1), bty=\"n\")\n",
    "    abline(h=mean(na.omit(data$Max.PRCP.)),col=2,lwd=3)"
   ]
  },
  {
   "cell_type": "code",
   "execution_count": 69,
   "metadata": {
    "collapsed": false
   },
   "outputs": [
    {
     "data": {
      "image/png": "[encoded data removed]",
      "text/plain": [
       "plot without title"
      ]
     },
     "metadata": {},
     "output_type": "display_data"
    }
   ],
   "source": [
    "#rollSmall = runmean(data$Max.PRCP., 300)\n",
    "plot(smoothTS, type=\"l\", xlab = \"Time (years)\", lwd=2,\n",
    "    ylab = \"Max Precipitation (1/10mm)\", col = 1, #main=\"Smoothed 24 hour max rainfall from 1898 to 2012\"\n",
    "    )\n",
    "    #points(rollLarge, type=\"l\", col=4)\n",
    "    #egend(0,200, c(\"300 window\",\"\", \"900 window\"), col=c(2,0,4), lty=c(1,0,1), bty=\"n\")\n",
    "    lines(anotherTS,col=2,lwd=3)\n",
    "    legend(\"topleft\",c(\"Trend Line\",\"\",\"Mean prior and post change point\"), lty=c(1,0,1), lwd=c(2,0,2), col=c(1,0,2),\n",
    "    bty=\"n\", cex = .8, pt.cex=.8)"
   ]
  },
  {
   "cell_type": "code",
   "execution_count": 71,
   "metadata": {
    "collapsed": true
   },
   "outputs": [],
   "source": [
    "data[\"box\"] = as.numeric(data$YEAR>=cpYear)"
   ]
  },
  {
   "cell_type": "code",
   "execution_count": 73,
   "metadata": {
    "collapsed": false
   },
   "outputs": [
    {
     "data": {
      "text/html": [
       "154.110759493671"
      ],
      "text/latex": [
       "154.110759493671"
      ],
      "text/markdown": [
       "154.110759493671"
      ],
      "text/plain": [
       "[1] 154.1108"
      ]
     },
     "metadata": {},
     "output_type": "display_data"
    }
   ],
   "source": [
    "mean(na.omit(data[which(data$box == 0),\"Max.PRCP.\"]))"
   ]
  },
  {
   "cell_type": "code",
   "execution_count": 74,
   "metadata": {
    "collapsed": false
   },
   "outputs": [
    {
     "data": {
      "text/html": [
       "142.193430656934"
      ],
      "text/latex": [
       "142.193430656934"
      ],
      "text/markdown": [
       "142.193430656934"
      ],
      "text/plain": [
       "[1] 142.1934"
      ]
     },
     "metadata": {},
     "output_type": "display_data"
    }
   ],
   "source": [
    "mean(na.omit(data[which(data$box == 1),\"Max.PRCP.\"]))"
   ]
  },
  {
   "cell_type": "markdown",
   "metadata": {},
   "source": [
    "Box plots with noise from the event"
   ]
  },
  {
   "cell_type": "code",
   "execution_count": 75,
   "metadata": {
    "collapsed": false
   },
   "outputs": [
    {
     "data": {
      "image/png": "[encoded data removed]",
      "text/plain": [
       "plot without title"
      ]
     },
     "metadata": {},
     "output_type": "display_data"
    }
   ],
   "source": [
    "boxplot(data$Max.PRCP.~data$box)"
   ]
  },
  {
   "cell_type": "markdown",
   "metadata": {},
   "source": [
    "A little less noise in the box plots by removing the event"
   ]
  },
  {
   "cell_type": "code",
   "execution_count": 76,
   "metadata": {
    "collapsed": false
   },
   "outputs": [
    {
     "data": {
      "image/png": "[encoded data removed]",
      "text/plain": [
       "plot without title"
      ]
     },
     "metadata": {},
     "output_type": "display_data"
    }
   ],
   "source": [
    "boxplot(data$Max.PRCP.~data$box)"
   ]
  },
  {
   "cell_type": "code",
   "execution_count": 92,
   "metadata": {
    "collapsed": false
   },
   "outputs": [],
   "source": [
    "indicator = c(rep(0,cp),rep(1,(length(smoothTS)-cp)))"
   ]
  },
  {
   "cell_type": "code",
   "execution_count": 93,
   "metadata": {
    "collapsed": false
   },
   "outputs": [],
   "source": [
    "meansBox = as.data.frame(cbind(smoothTS,indicator))"
   ]
  },
  {
   "cell_type": "code",
   "execution_count": 96,
   "metadata": {
    "collapsed": false
   },
   "outputs": [],
   "source": [
    "meansBoxSea = as.data.frame(cbind(smoothTS, rep(c(1,2,3,4,5,6,7,8,9,10,11,12),length(smoothTS)/12)))"
   ]
  },
  {
   "cell_type": "code",
   "execution_count": 97,
   "metadata": {
    "collapsed": false
   },
   "outputs": [],
   "source": [
    "names(meansBoxSea) = c(\"precipitation\",\"month\")"
   ]
  },
  {
   "cell_type": "markdown",
   "metadata": {},
   "source": [
    "Now, can see the difference in the mean of the smoothed signals, however, given the actual variance of the data, the significance here is debatable - not to mention the independence assumption is not valid."
   ]
  },
  {
   "cell_type": "code",
   "execution_count": 98,
   "metadata": {
    "collapsed": false
   },
   "outputs": [
    {
     "data": {
      "image/png": "[encoded data removed]",
      "text/plain": [
       "plot without title"
      ]
     },
     "metadata": {},
     "output_type": "display_data"
    }
   ],
   "source": [
    "boxplot(meansBox$smoothTS ~ meansBox$indicator, xlab = \"Group (0=pre change point, 1=post change point)\",\n",
    "       col = c(\"blue\",\"green\"), ylab = \"Precipitation (1/10mm)\")"
   ]
  },
  {
   "cell_type": "markdown",
   "metadata": {},
   "source": [
    "#  Variances"
   ]
  },
  {
   "cell_type": "code",
   "execution_count": 99,
   "metadata": {
    "collapsed": true
   },
   "outputs": [],
   "source": [
    "vars1 = NULL\n",
    "for(i in 1:(length(max_PRCP))){\n",
    "    vars1 = c(vars1,var(na.omit(max_PRCP[,i])))\n",
    "}\n",
    "vars1TS = ts(vars1, start = firstYear)"
   ]
  },
  {
   "cell_type": "code",
   "execution_count": 100,
   "metadata": {
    "collapsed": false
   },
   "outputs": [
    {
     "data": {
      "text/plain": [
       "Time Series:\n",
       "Start = 1962 \n",
       "End = 2005 \n",
       "Frequency = 1 \n",
       " [1] 18771.440 19988.535 18558.476 19615.877 20256.490 20464.192 19714.157\n",
       " [8] 21117.280 17657.005 15021.591 15500.086 15212.369 16516.398 16621.206\n",
       "[15] 14388.634 14219.780 14056.874 13275.458 10934.366 12753.134 13867.713\n",
       "[22] 14008.615 11732.376 10898.977 11534.497 11631.983 12354.185 11910.661\n",
       "[29] 11943.054  9585.455  8598.451  8170.344 10040.245 10449.899 10350.517\n",
       "[36] 10872.260 10088.434 10020.218 10351.878 10746.291 10653.650 10367.606\n",
       "[43] 10065.872  9921.543"
      ]
     },
     "metadata": {},
     "output_type": "display_data"
    }
   ],
   "source": [
    "vars1TS"
   ]
  },
  {
   "cell_type": "code",
   "execution_count": 101,
   "metadata": {
    "collapsed": true
   },
   "outputs": [],
   "source": [
    "rollSmall = ts(runmean(vars1TS,15),start=firstYear)\n",
    "rollSmall2 = ts(runmean(vars1TS,30),start=firstYear)\n",
    "rollSmall3 = ts(runmean(vars1TS,50),start=firstYear)"
   ]
  },
  {
   "cell_type": "code",
   "execution_count": 104,
   "metadata": {
    "collapsed": false
   },
   "outputs": [
    {
     "data": {
      "image/png": "[encoded data removed]",
      "text/plain": [
       "plot without title"
      ]
     },
     "metadata": {},
     "output_type": "display_data"
    }
   ],
   "source": [
    "plot(vars1TS, type=\"l\", xlab = \"Time (years)\", lwd=2,\n",
    "    ylab = \"Precipitation (1/10mm)^2\", col = 1)\n",
    "lines(rollSmall, col=3,lwd=2)\n",
    "lines(rollSmall2, col=2,lwd=2)\n",
    "lines(rollSmall3, col=4,lwd=2)\n",
    "legend(\"topright\",c(\"Variance, of Intervals\",\"\",\"Small Smoothing\", \"\",\"Medium Smoothing\",\"\",\"Large Smoothing\"),\n",
    "      col = c(1,0,3,0,2,0,4), lty = c(1,0,1,0,1,0,1), lwd=c(2,2,2,2), bty=\"n\")"
   ]
  },
  {
   "cell_type": "code",
   "execution_count": 106,
   "metadata": {
    "collapsed": false
   },
   "outputs": [
    {
     "data": {
      "image/png": "[encoded data removed]",
      "text/plain": [
       "plot without title"
      ]
     },
     "metadata": {},
     "output_type": "display_data"
    }
   ],
   "source": [
    "plot(sqrt(vars1TS), type=\"l\", xlab = \"Time (years)\", lwd=2,\n",
    "    ylab = \"Precipitation (1/10mm)^2\", col = 1)\n",
    "lines(sqrt(rollSmall), col=3,lwd=2)\n",
    "lines(sqrt(rollSmall2), col=2,lwd=2)\n",
    "lines(sqrt(rollSmall3), col=4,lwd=2)\n",
    "legend(\"topright\",c(\"Standard Deviation, of Intervals\",\"\",\"Small Smoothing\", \"\",\"Medium Smoothing\",\"\",\"Large Smoothing\"),\n",
    "      col = c(1,0,3,0,2,0,4), lty = c(1,0,1,0,1,0,1), lwd=c(2,2,2,2), bty=\"n\")"
   ]
  },
  {
   "cell_type": "code",
   "execution_count": null,
   "metadata": {
    "collapsed": true
   },
   "outputs": [],
   "source": []
  },
  {
   "cell_type": "code",
   "execution_count": null,
   "metadata": {
    "collapsed": true
   },
   "outputs": [],
   "source": []
  }
 ],
 "metadata": {
  "anaconda-cloud": {},
  "kernelspec": {
   "display_name": "R",
   "language": "R",
   "name": "ir"
  },
  "language_info": {
   "codemirror_mode": "r",
   "file_extension": ".r",
   "mimetype": "text/x-r-source",
   "name": "R",
   "pygments_lexer": "r",
   "version": "3.3.1"
  }
 },
 "nbformat": 4,
 "nbformat_minor": 0
}
