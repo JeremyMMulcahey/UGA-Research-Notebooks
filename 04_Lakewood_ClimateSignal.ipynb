{
 "cells": [
  {
   "cell_type": "markdown",
   "metadata": {},
   "source": [
    "# Master's Thesis: Investigating Maximum Rainfall Trends in Colorado"
   ]
  },
  {
   "cell_type": "markdown",
   "metadata": {},
   "source": [
    "<b>Institution:</b> University of Georgia <br>\n",
    "<b>Department:</b> Statistics <br>\n",
    "<b>Student:</b> Jeremy Mulcahey <br>\n",
    "<b>Advisor:</b> Dr. Lynne Seymour <br>\n",
    "<b>Last Edit:</b> 9/27/2016"
   ]
  },
  {
   "cell_type": "markdown",
   "metadata": {},
   "source": [
    "Section 0: Preparing data <br>\n",
    "Section 1: Mean<br>\n",
    "Section 2: Variance"
   ]
  },
  {
   "cell_type": "markdown",
   "metadata": {},
   "source": [
    "##  Section 0: Preparing data"
   ]
  },
  {
   "cell_type": "code",
   "execution_count": 1,
   "metadata": {
    "collapsed": false
   },
   "outputs": [
    {
     "name": "stderr",
     "output_type": "stream",
     "text": [
      "Loading required package: fitdistrplus\n",
      "Loading required package: MASS\n",
      "Loading required package: survival\n",
      "Loading required package: caTools\n",
      "Loading required package: repr\n",
      "Loading required package: IRdisplay\n"
     ]
    }
   ],
   "source": [
    "require(fitdistrplus); # required for parameter estimation\n",
    "require(caTools);      # required for smoothing\n",
    "require(repr);         # required for resizing plots in IRKernel\n",
    "require(\"IRdisplay\");  # graphic embedding\n",
    "require(MASS);         # testing"
   ]
  },
  {
   "cell_type": "code",
   "execution_count": 2,
   "metadata": {
    "collapsed": false
   },
   "outputs": [],
   "source": [
    "# establish working directorys\n",
    "setwd(\"C:/Users/jerem/Desktop/UGA/Master'sThesis/\")"
   ]
  },
  {
   "cell_type": "markdown",
   "metadata": {},
   "source": [
    "Data files for individual station names."
   ]
  },
  {
   "cell_type": "code",
   "execution_count": 3,
   "metadata": {
    "collapsed": false
   },
   "outputs": [],
   "source": [
    "data = read.csv(file = \"data/LAKEWOOD_MonMax_GHCN.csv\", head=T)"
   ]
  },
  {
   "cell_type": "markdown",
   "metadata": {},
   "source": [
    "Adjust the data for later use."
   ]
  },
  {
   "cell_type": "code",
   "execution_count": 4,
   "metadata": {
    "collapsed": false
   },
   "outputs": [
    {
     "data": {
      "text/html": [
       "5"
      ],
      "text/latex": [
       "5"
      ],
      "text/markdown": [
       "5"
      ],
      "text/plain": [
       "[1] 5"
      ]
     },
     "metadata": {},
     "output_type": "display_data"
    }
   ],
   "source": [
    "# Create an index as x - used as needed\n",
    "month = seq(1,nrow(data),by=1)\n",
    "data = cbind(data,month)\n",
    "\n",
    "# first year of the data (changes by station name)\n",
    "firstYear = data$YEAR[1]\n",
    "\n",
    "# station name for plotting\n",
    "stationName = as.character(data$STATION_NAME[1])\n",
    "\n",
    "# -999 messed with the plotting - change to NA\n",
    "data[data==-999] = NA\n",
    "\n",
    "sum(is.na(data)) #print number of missing values"
   ]
  },
  {
   "cell_type": "markdown",
   "metadata": {},
   "source": [
    "Check number of years in the data set."
   ]
  },
  {
   "cell_type": "code",
   "execution_count": 5,
   "metadata": {
    "collapsed": false
   },
   "outputs": [
    {
     "data": {
      "text/html": [
       "51"
      ],
      "text/latex": [
       "51"
      ],
      "text/markdown": [
       "51"
      ],
      "text/plain": [
       "[1] 51"
      ]
     },
     "metadata": {},
     "output_type": "display_data"
    }
   ],
   "source": [
    "data$YEAR[nrow(data)]-firstYear"
   ]
  },
  {
   "cell_type": "code",
   "execution_count": 6,
   "metadata": {
    "collapsed": false
   },
   "outputs": [
    {
     "data": {
      "text/plain": [
       "\n",
       " 1  2  3  4  5  6  7  8  9 10 11 12 \n",
       "52 52 52 52 52 52 52 52 52 52 52 52 "
      ]
     },
     "metadata": {},
     "output_type": "display_data"
    }
   ],
   "source": [
    "table(data$MONTH)"
   ]
  },
  {
   "cell_type": "markdown",
   "metadata": {},
   "source": [
    "Make a data frame of all the 10 year periods following the first year for data collected at the station."
   ]
  },
  {
   "cell_type": "code",
   "execution_count": 7,
   "metadata": {
    "collapsed": false
   },
   "outputs": [],
   "source": [
    "#create the first decade (first year and the following 9 years)\n",
    "max_PRCP = data.frame(data[which(data$YEAR < (firstYear + 10)),6])\n",
    "\n",
    "# add all the subsequent decades to the data frame incrementing by 1 year at a time\n",
    "for(year in c((data$YEAR[1] + 1):2005)){\n",
    "    max_PRCP = cbind(max_PRCP,data[which(data$YEAR >= year & data$YEAR < year+10),6])\n",
    "}\n",
    "\n",
    "# name the columns as the first year of the observed 10 year periods\n",
    "colnames(max_PRCP) = as.character(c(firstYear:2005))\n",
    "\n",
    "# set the missing values to NA\n",
    "max_PRCP[max_PRCP==-999] = NA"
   ]
  },
  {
   "cell_type": "markdown",
   "metadata": {},
   "source": [
    "## Section 1: Mean"
   ]
  },
  {
   "cell_type": "code",
   "execution_count": 8,
   "metadata": {
    "collapsed": true
   },
   "outputs": [],
   "source": [
    "options(repr.plot.width=9, repr.plot.height=5) #reduces the plot sizes"
   ]
  },
  {
   "cell_type": "code",
   "execution_count": 9,
   "metadata": {
    "collapsed": false
   },
   "outputs": [],
   "source": [
    "# create for maximum rainfall\n",
    "maxTS = ts(data$Max.PRCP, start = firstYear, freq=12)\n",
    "\n",
    "# create regression line\n",
    "reg = lm(Max.PRCP. ~ month, data=data)"
   ]
  },
  {
   "cell_type": "code",
   "execution_count": 10,
   "metadata": {
    "collapsed": true
   },
   "outputs": [],
   "source": [
    "smooth = runmean(data$Max.PRCP., 120)"
   ]
  },
  {
   "cell_type": "code",
   "execution_count": 11,
   "metadata": {
    "collapsed": true
   },
   "outputs": [],
   "source": [
    "smoothTS = ts(smooth, start=firstYear, freq=12)"
   ]
  },
  {
   "cell_type": "code",
   "execution_count": 12,
   "metadata": {
    "collapsed": false
   },
   "outputs": [
    {
     "data": {
      "text/html": [
       "889"
      ],
      "text/latex": [
       "889"
      ],
      "text/markdown": [
       "889"
      ],
      "text/plain": [
       "[1] 889"
      ]
     },
     "metadata": {},
     "output_type": "display_data"
    }
   ],
   "source": [
    "maxObs = max(na.omit(data$Max.PRCP.));maxObs"
   ]
  },
  {
   "cell_type": "code",
   "execution_count": 13,
   "metadata": {
    "collapsed": false
   },
   "outputs": [
    {
     "data": {
      "text/html": [
       "483"
      ],
      "text/latex": [
       "483"
      ],
      "text/markdown": [
       "483"
      ],
      "text/plain": [
       "[1] 483"
      ]
     },
     "metadata": {},
     "output_type": "display_data"
    }
   ],
   "source": [
    "which(data$Max.PRCP.==maxObs)"
   ]
  },
  {
   "cell_type": "code",
   "execution_count": 15,
   "metadata": {
    "collapsed": false
   },
   "outputs": [
    {
     "data": {
      "text/html": [
       "<table>\n",
       "<thead><tr><th></th><th scope=col>STATION</th><th scope=col>STATION_NAME</th><th scope=col>YEAR</th><th scope=col>MONTH</th><th scope=col>Obs</th><th scope=col>Max.PRCP.</th><th scope=col>month</th></tr></thead>\n",
       "<tbody>\n",
       "\t<tr><th scope=row>483</th><td>GHCND:USC00054762</td><td>LAKEWOOD CO US   </td><td>2003             </td><td>3                </td><td>26               </td><td>889              </td><td>483              </td></tr>\n",
       "</tbody>\n",
       "</table>\n"
      ],
      "text/latex": [
       "\\begin{tabular}{r|lllllll}\n",
       "  & STATION & STATION\\_NAME & YEAR & MONTH & Obs & Max.PRCP. & month\\\\\n",
       "\\hline\n",
       "\t483 & GHCND:USC00054762 & LAKEWOOD CO US    & 2003              & 3                 & 26                & 889               & 483              \\\\\n",
       "\\end{tabular}\n"
      ],
      "text/plain": [
       "    STATION           STATION_NAME   YEAR MONTH Obs Max.PRCP. month\n",
       "483 GHCND:USC00054762 LAKEWOOD CO US 2003 3     26  889       483  "
      ]
     },
     "metadata": {},
     "output_type": "display_data"
    }
   ],
   "source": [
    "data[which(data$Max.PRCP.==maxObs),]"
   ]
  },
  {
   "cell_type": "code",
   "execution_count": 23,
   "metadata": {
    "collapsed": false
   },
   "outputs": [
    {
     "data": {
      "image/png": "[encoded data removed]",
      "text/plain": [
       "plot without title"
      ]
     },
     "metadata": {},
     "output_type": "display_data"
    }
   ],
   "source": [
    "plot(maxTS, xlab = \"Time (years)\", col = \"darkgrey\", lwd=1.75, ylab = \"Precipitation (1/10mm)\", \n",
    "     #main=sprintf(\"%s \\nObserved 24 Hour Max Rainfall \\nfrom %i to 2012 by Monthly Max\", stationName,firstYear),\n",
    "     #ylim=c(0,1250)\n",
    "    )"
   ]
  },
  {
   "cell_type": "code",
   "execution_count": 20,
   "metadata": {
    "collapsed": false
   },
   "outputs": [
    {
     "data": {
      "image/png": "[encoded data removed]",
      "text/plain": [
       "plot without title"
      ]
     },
     "metadata": {},
     "output_type": "display_data"
    }
   ],
   "source": [
    "plot(maxTS, xlab = \"Time (years)\", col = \"darkgrey\", lwd=1.75, ylab = \"Precipitation (1/10mm)\", \n",
    "     #main=sprintf(\"%s \\nObserved 24 Hour Max Rainfall \\nfrom %i to 2012 by Monthly Max\", stationName,firstYear),\n",
    "     ylim=c(0,950))\n",
    "abline(h=maxObs, col=\"red\", lwd=.5, lty=5)\n",
    "points(smoothTS, col=4, type=\"l\", lwd=2)\n",
    "text(data[which(data$Max.PRCP.==maxObs),\"YEAR\"],maxObs+50,\n",
    "           sprintf(\"%i\",maxObs))"
   ]
  },
  {
   "cell_type": "code",
   "execution_count": 21,
   "metadata": {
    "collapsed": false
   },
   "outputs": [
    {
     "data": {
      "image/png": "[encoded data removed]",
      "text/plain": [
       "plot without title"
      ]
     },
     "metadata": {},
     "output_type": "display_data"
    }
   ],
   "source": [
    "#rollSmall = runmean(data$Max.PRCP., 300)\n",
    "plot(smoothTS, type=\"l\", xlab = \"Time (years)\", lwd=2,\n",
    "    ylab = \"Precipitation (1/10mm)\", col = 1\n",
    "     #main=\"Smoothed 24 hour max rainfall from 1898 to 2014\"\n",
    "    )\n"
   ]
  },
  {
   "cell_type": "code",
   "execution_count": 22,
   "metadata": {
    "collapsed": true
   },
   "outputs": [],
   "source": [
    "smoothALL = runmean(data$Max.PRCP., length(data$Max.PRCP.)/2)"
   ]
  },
  {
   "cell_type": "code",
   "execution_count": 23,
   "metadata": {
    "collapsed": false
   },
   "outputs": [
    {
     "data": {
      "text/html": [
       "624"
      ],
      "text/latex": [
       "624"
      ],
      "text/markdown": [
       "624"
      ],
      "text/plain": [
       "[1] 624"
      ]
     },
     "metadata": {},
     "output_type": "display_data"
    }
   ],
   "source": [
    "length(smoothALL)"
   ]
  },
  {
   "cell_type": "code",
   "execution_count": 24,
   "metadata": {
    "collapsed": true
   },
   "outputs": [],
   "source": [
    "smoothALLTS = ts(smoothALL, start = firstYear, freq=12)"
   ]
  },
  {
   "cell_type": "code",
   "execution_count": 25,
   "metadata": {
    "collapsed": false
   },
   "outputs": [
    {
     "data": {
      "image/png": "[encoded data removed]",
      "text/plain": [
       "plot without title"
      ]
     },
     "metadata": {},
     "output_type": "display_data"
    }
   ],
   "source": [
    "plot(smoothALLTS, type=\"l\", col=\"blue\", ylab=\"Smoothed Precipitation (1/10mm)\", xlab=\"Time (years)\")"
   ]
  },
  {
   "cell_type": "code",
   "execution_count": 26,
   "metadata": {
    "collapsed": false
   },
   "outputs": [
    {
     "data": {
      "image/png": "[encoded data removed]",
      "text/plain": [
       "plot without title"
      ]
     },
     "metadata": {},
     "output_type": "display_data"
    }
   ],
   "source": [
    "#rollSmall = runmean(data$Max.PRCP., 300)\n",
    "plot(smoothTS, type=\"l\", xlab = \"Time (years)\", lwd=2,\n",
    "    ylab = \"Precipitation (1/10mm)\", col = 1\n",
    "     #main=\"Smoothed 24 hour max rainfall from 1898 to 2014\"\n",
    "    )\n",
    "lines(smoothALLTS, col=4, lwd=2)"
   ]
  },
  {
   "cell_type": "markdown",
   "metadata": {},
   "source": [
    "### Change point detection for mean signal"
   ]
  },
  {
   "cell_type": "code",
   "execution_count": 28,
   "metadata": {
    "collapsed": false
   },
   "outputs": [
    {
     "name": "stderr",
     "output_type": "stream",
     "text": [
      "Loading required package: changepoint\n",
      "Loading required package: zoo\n",
      "\n",
      "Attaching package: 'zoo'\n",
      "\n",
      "The following objects are masked from 'package:base':\n",
      "\n",
      "    as.Date, as.Date.numeric\n",
      "\n",
      "Successfully loaded changepoint package version 2.2.1\n",
      " NOTE: Predefined penalty values have changed.  Previous penalty values with a postfix 1 i.e. SIC1 are now without i.e. SIC and previous penalties without a postfix i.e. SIC are now with a postfix 0 i.e. SIC0. See NEWS and help files for further details.\n"
     ]
    }
   ],
   "source": [
    "require(changepoint)"
   ]
  },
  {
   "cell_type": "code",
   "execution_count": 33,
   "metadata": {
    "collapsed": false
   },
   "outputs": [
    {
     "data": {
      "text/plain": [
       "Class 'cpt' : Changepoint Object\n",
       "       ~~   : S4 class containing 12 slots with names\n",
       "              date version data.set cpttype method test.stat pen.type pen.value minseglen cpts ncpts.max param.est \n",
       "\n",
       "Created on  : Tue Sep 13 17:22:34 2016 \n",
       "\n",
       "summary(.)  :\n",
       "----------\n",
       "Created Using changepoint version 2.2.1 \n",
       "Changepoint type      : Change in mean \n",
       "Method of analysis    : AMOC \n",
       "Test Statistic  : Normal \n",
       "Type of penalty       : MBIC with value, 19.30845 \n",
       "Minimum Segment Length : 1 \n",
       "Maximum no. of cpts   : 1 \n",
       "Changepoint Locations : 239 "
      ]
     },
     "metadata": {},
     "output_type": "display_data"
    }
   ],
   "source": [
    "cpt.mean(smoothTS)"
   ]
  },
  {
   "cell_type": "code",
   "execution_count": 35,
   "metadata": {
    "collapsed": true
   },
   "outputs": [],
   "source": [
    "cp=239"
   ]
  },
  {
   "cell_type": "code",
   "execution_count": 38,
   "metadata": {
    "collapsed": false
   },
   "outputs": [
    {
     "data": {
      "image/png": "[encoded data removed]",
      "text/plain": [
       "plot without title"
      ]
     },
     "metadata": {},
     "output_type": "display_data"
    }
   ],
   "source": [
    "#rollSmall = runmean(data$Max.PRCP., 300)\n",
    "plot(smoothTS, type=\"l\", xlab = \"Time (years)\", lwd=2,\n",
    "    ylab = \"Precipitation (1/10mm)\", col = 1\n",
    "     #main=\"Smoothed 24 hour max rainfall from 1898 to 2014\"\n",
    "    )\n",
    "lines(smoothALLTS, col=4, lwd=2)\n",
    "abline(v=data[cp,],col=2,lwd=2)"
   ]
  },
  {
   "cell_type": "code",
   "execution_count": 36,
   "metadata": {
    "collapsed": false
   },
   "outputs": [
    {
     "data": {
      "text/html": [
       "<table>\n",
       "<thead><tr><th></th><th scope=col>STATION</th><th scope=col>STATION_NAME</th><th scope=col>YEAR</th><th scope=col>MONTH</th><th scope=col>Obs</th><th scope=col>Max.PRCP.</th><th scope=col>month</th></tr></thead>\n",
       "<tbody>\n",
       "\t<tr><th scope=row>239</th><td>GHCND:USC00054762</td><td>LAKEWOOD CO US   </td><td>1982             </td><td>11               </td><td>30               </td><td>58               </td><td>239              </td></tr>\n",
       "</tbody>\n",
       "</table>\n"
      ],
      "text/latex": [
       "\\begin{tabular}{r|lllllll}\n",
       "  & STATION & STATION\\_NAME & YEAR & MONTH & Obs & Max.PRCP. & month\\\\\n",
       "\\hline\n",
       "\t239 & GHCND:USC00054762 & LAKEWOOD CO US    & 1982              & 11                & 30                & 58                & 239              \\\\\n",
       "\\end{tabular}\n"
      ],
      "text/plain": [
       "    STATION           STATION_NAME   YEAR MONTH Obs Max.PRCP. month\n",
       "239 GHCND:USC00054762 LAKEWOOD CO US 1982 11    30  58        239  "
      ]
     },
     "metadata": {},
     "output_type": "display_data"
    }
   ],
   "source": [
    "data[cp,]"
   ]
  },
  {
   "cell_type": "code",
   "execution_count": 39,
   "metadata": {
    "collapsed": true
   },
   "outputs": [],
   "source": [
    "cpYear = data[cp,\"YEAR\"]"
   ]
  },
  {
   "cell_type": "code",
   "execution_count": 40,
   "metadata": {
    "collapsed": false
   },
   "outputs": [
    {
     "data": {
      "text/html": [
       "146.2"
      ],
      "text/latex": [
       "146.2"
      ],
      "text/markdown": [
       "146.2"
      ],
      "text/plain": [
       "[1] 146.2"
      ]
     },
     "metadata": {},
     "output_type": "display_data"
    }
   ],
   "source": [
    "smoothTS[cp]"
   ]
  },
  {
   "cell_type": "code",
   "execution_count": 43,
   "metadata": {
    "collapsed": false
   },
   "outputs": [
    {
     "data": {
      "text/plain": [
       "\n",
       "\tShapiro-Wilk normality test\n",
       "\n",
       "data:  smoothTS\n",
       "W = 0.95249, p-value = 2.721e-13\n"
      ]
     },
     "metadata": {},
     "output_type": "display_data"
    }
   ],
   "source": [
    "shapiro.test(smoothTS)"
   ]
  },
  {
   "cell_type": "code",
   "execution_count": 44,
   "metadata": {
    "collapsed": false
   },
   "outputs": [
    {
     "data": {
      "image/png": "[encoded data removed]",
      "text/plain": [
       "Plot with title \"Normal Q-Q Plot\""
      ]
     },
     "metadata": {},
     "output_type": "display_data"
    }
   ],
   "source": [
    "qqnorm(smoothTS);qqline(smoothTS)"
   ]
  },
  {
   "cell_type": "code",
   "execution_count": 45,
   "metadata": {
    "collapsed": false
   },
   "outputs": [
    {
     "data": {
      "image/png": "[encoded data removed]",
      "text/plain": [
       "Plot with title \"Histogram of smoothTS\""
      ]
     },
     "metadata": {},
     "output_type": "display_data"
    }
   ],
   "source": [
    "hist(smoothTS,breaks=40)"
   ]
  },
  {
   "cell_type": "code",
   "execution_count": 46,
   "metadata": {
    "collapsed": false
   },
   "outputs": [
    {
     "data": {
      "text/html": [
       "<ol class=list-inline>\n",
       "\t<li>137.075</li>\n",
       "\t<li>137.2</li>\n",
       "\t<li>137.558333333333</li>\n",
       "\t<li>137.075</li>\n",
       "\t<li>139.658333333333</li>\n",
       "\t<li>143.55</li>\n",
       "\t<li>141.883333333333</li>\n",
       "\t<li>143.05</li>\n",
       "\t<li>143.45</li>\n",
       "\t<li>145.083333333333</li>\n",
       "\t<li>146.2</li>\n",
       "\t<li>148.191666666667</li>\n",
       "\t<li>148.4</li>\n",
       "\t<li>148.908333333333</li>\n",
       "\t<li>148.841666666667</li>\n",
       "\t<li>148.5</li>\n",
       "\t<li>149.891666666667</li>\n",
       "\t<li>150.758333333333</li>\n",
       "\t<li>150.525</li>\n",
       "\t<li>154.625</li>\n",
       "\t<li>155.6</li>\n",
       "</ol>\n"
      ],
      "text/latex": [
       "\\begin{enumerate*}\n",
       "\\item 137.075\n",
       "\\item 137.2\n",
       "\\item 137.558333333333\n",
       "\\item 137.075\n",
       "\\item 139.658333333333\n",
       "\\item 143.55\n",
       "\\item 141.883333333333\n",
       "\\item 143.05\n",
       "\\item 143.45\n",
       "\\item 145.083333333333\n",
       "\\item 146.2\n",
       "\\item 148.191666666667\n",
       "\\item 148.4\n",
       "\\item 148.908333333333\n",
       "\\item 148.841666666667\n",
       "\\item 148.5\n",
       "\\item 149.891666666667\n",
       "\\item 150.758333333333\n",
       "\\item 150.525\n",
       "\\item 154.625\n",
       "\\item 155.6\n",
       "\\end{enumerate*}\n"
      ],
      "text/markdown": [
       "1. 137.075\n",
       "2. 137.2\n",
       "3. 137.558333333333\n",
       "4. 137.075\n",
       "5. 139.658333333333\n",
       "6. 143.55\n",
       "7. 141.883333333333\n",
       "8. 143.05\n",
       "9. 143.45\n",
       "10. 145.083333333333\n",
       "11. 146.2\n",
       "12. 148.191666666667\n",
       "13. 148.4\n",
       "14. 148.908333333333\n",
       "15. 148.841666666667\n",
       "16. 148.5\n",
       "17. 149.891666666667\n",
       "18. 150.758333333333\n",
       "19. 150.525\n",
       "20. 154.625\n",
       "21. 155.6\n",
       "\n",
       "\n"
      ],
      "text/plain": [
       " [1] 137.0750 137.2000 137.5583 137.0750 139.6583 143.5500 141.8833 143.0500\n",
       " [9] 143.4500 145.0833 146.2000 148.1917 148.4000 148.9083 148.8417 148.5000\n",
       "[17] 149.8917 150.7583 150.5250 154.6250 155.6000"
      ]
     },
     "metadata": {},
     "output_type": "display_data"
    }
   ],
   "source": [
    "smoothTS[(cp-10):(cp+10)]"
   ]
  },
  {
   "cell_type": "code",
   "execution_count": 47,
   "metadata": {
    "collapsed": true
   },
   "outputs": [],
   "source": [
    "anotherTS = smoothTS"
   ]
  },
  {
   "cell_type": "code",
   "execution_count": 48,
   "metadata": {
    "collapsed": true
   },
   "outputs": [],
   "source": [
    "mean1sthalf = mean(smoothTS[1:cp])\n",
    "mean2ndhalf = mean(smooth[(cp+1):length(smoothTS)])"
   ]
  },
  {
   "cell_type": "code",
   "execution_count": 49,
   "metadata": {
    "collapsed": true
   },
   "outputs": [],
   "source": [
    "anotherTS[1:cp] = mean1sthalf\n",
    "anotherTS[(cp+1):length(smoothTS)] = mean2ndhalf"
   ]
  },
  {
   "cell_type": "code",
   "execution_count": 50,
   "metadata": {
    "collapsed": false
   },
   "outputs": [
    {
     "data": {
      "image/png": "[encoded data removed]",
      "text/plain": [
       "plot without title"
      ]
     },
     "metadata": {},
     "output_type": "display_data"
    }
   ],
   "source": [
    "#rollSmall = runmean(data$Max.PRCP., 300)\n",
    "plot(smoothTS, type=\"l\", xlab = \"Time (years)\", lwd=2,\n",
    "    ylab = \"Max Precipitation (1/10mm)\", col = 1 #main=\"Smoothed 24 hour max rainfall from 1898 to 2012\"\n",
    "    )\n",
    "    #points(rollLarge, type=\"l\", col=4)\n",
    "    #egend(0,200, c(\"300 window\",\"\", \"900 window\"), col=c(2,0,4), lty=c(1,0,1), bty=\"n\")\n",
    "    abline(h=mean(na.omit(data$Max.PRCP.)),col=2,lwd=3)"
   ]
  },
  {
   "cell_type": "code",
   "execution_count": 51,
   "metadata": {
    "collapsed": false
   },
   "outputs": [
    {
     "data": {
      "image/png": "[encoded data removed]",
      "text/plain": [
       "plot without title"
      ]
     },
     "metadata": {},
     "output_type": "display_data"
    }
   ],
   "source": [
    "#rollSmall = runmean(data$Max.PRCP., 300)\n",
    "plot(smoothTS, type=\"l\", xlab = \"Time (years)\", lwd=2,\n",
    "    ylab = \"Max Precipitation (1/10mm)\", col = 1, #main=\"Smoothed 24 hour max rainfall from 1898 to 2012\"\n",
    "    )\n",
    "    #points(rollLarge, type=\"l\", col=4)\n",
    "    #egend(0,200, c(\"300 window\",\"\", \"900 window\"), col=c(2,0,4), lty=c(1,0,1), bty=\"n\")\n",
    "    lines(anotherTS,col=2,lwd=3)\n",
    "    legend(\"topleft\",c(\"Trend Line\",\"\",\"Mean prior and post change point\"), lty=c(1,0,1), lwd=c(2,0,2), col=c(1,0,2),\n",
    "    bty=\"n\", cex = .8, pt.cex=.8)"
   ]
  },
  {
   "cell_type": "code",
   "execution_count": 53,
   "metadata": {
    "collapsed": true
   },
   "outputs": [],
   "source": [
    "data[\"box\"] = as.numeric(data$YEAR>=cpYear)"
   ]
  },
  {
   "cell_type": "code",
   "execution_count": 54,
   "metadata": {
    "collapsed": false
   },
   "outputs": [
    {
     "data": {
      "text/html": [
       "135.771929824561"
      ],
      "text/latex": [
       "135.771929824561"
      ],
      "text/markdown": [
       "135.771929824561"
      ],
      "text/plain": [
       "[1] 135.7719"
      ]
     },
     "metadata": {},
     "output_type": "display_data"
    }
   ],
   "source": [
    "mean(na.omit(data[which(data$box == 0),\"Max.PRCP.\"]))"
   ]
  },
  {
   "cell_type": "code",
   "execution_count": 55,
   "metadata": {
    "collapsed": false
   },
   "outputs": [
    {
     "data": {
      "text/html": [
       "158.726342710997"
      ],
      "text/latex": [
       "158.726342710997"
      ],
      "text/markdown": [
       "158.726342710997"
      ],
      "text/plain": [
       "[1] 158.7263"
      ]
     },
     "metadata": {},
     "output_type": "display_data"
    }
   ],
   "source": [
    "mean(na.omit(data[which(data$box == 1),\"Max.PRCP.\"]))"
   ]
  },
  {
   "cell_type": "markdown",
   "metadata": {},
   "source": [
    "Box plots with noise from the event"
   ]
  },
  {
   "cell_type": "code",
   "execution_count": 56,
   "metadata": {
    "collapsed": false
   },
   "outputs": [
    {
     "data": {
      "image/png": "[encoded data removed]",
      "text/plain": [
       "plot without title"
      ]
     },
     "metadata": {},
     "output_type": "display_data"
    }
   ],
   "source": [
    "boxplot(data$Max.PRCP.~data$box)"
   ]
  },
  {
   "cell_type": "markdown",
   "metadata": {},
   "source": [
    "A little less noise in the box plots by removing the event"
   ]
  },
  {
   "cell_type": "code",
   "execution_count": 57,
   "metadata": {
    "collapsed": false
   },
   "outputs": [
    {
     "data": {
      "image/png": "[encoded data removed]",
      "text/plain": [
       "plot without title"
      ]
     },
     "metadata": {},
     "output_type": "display_data"
    }
   ],
   "source": [
    "boxplot(data$Max.PRCP.~data$box)"
   ]
  },
  {
   "cell_type": "code",
   "execution_count": 58,
   "metadata": {
    "collapsed": false
   },
   "outputs": [],
   "source": [
    "indicator = c(rep(0,cp),rep(1,(length(smoothTS)-cp)))"
   ]
  },
  {
   "cell_type": "code",
   "execution_count": 59,
   "metadata": {
    "collapsed": false
   },
   "outputs": [],
   "source": [
    "meansBox = as.data.frame(cbind(smoothTS,indicator))"
   ]
  },
  {
   "cell_type": "code",
   "execution_count": 60,
   "metadata": {
    "collapsed": false
   },
   "outputs": [],
   "source": [
    "meansBoxSea = as.data.frame(cbind(smoothTS, rep(c(1,2,3,4,5,6,7,8,9,10,11,12),length(smoothTS)/12)))"
   ]
  },
  {
   "cell_type": "code",
   "execution_count": 61,
   "metadata": {
    "collapsed": false
   },
   "outputs": [],
   "source": [
    "names(meansBoxSea) = c(\"precipitation\",\"month\")"
   ]
  },
  {
   "cell_type": "markdown",
   "metadata": {},
   "source": [
    "Now, can see the difference in the mean of the smoothed signals, however, given the actual variance of the data, the significance here is debatable - not to mention the independence assumption is not valid."
   ]
  },
  {
   "cell_type": "code",
   "execution_count": 62,
   "metadata": {
    "collapsed": false
   },
   "outputs": [
    {
     "data": {
      "image/png": "[encoded data removed]",
      "text/plain": [
       "plot without title"
      ]
     },
     "metadata": {},
     "output_type": "display_data"
    }
   ],
   "source": [
    "boxplot(meansBox$smoothTS ~ meansBox$indicator, xlab = \"Group (0=pre change point, 1=post change point)\",\n",
    "       col = c(\"blue\",\"green\"), ylab = \"Precipitation (1/10mm)\")"
   ]
  },
  {
   "cell_type": "markdown",
   "metadata": {},
   "source": [
    "#  Variances"
   ]
  },
  {
   "cell_type": "code",
   "execution_count": 63,
   "metadata": {
    "collapsed": true
   },
   "outputs": [],
   "source": [
    "vars1 = NULL\n",
    "for(i in 1:(length(max_PRCP))){\n",
    "    vars1 = c(vars1,var(na.omit(max_PRCP[,i])))\n",
    "}\n",
    "vars1TS = ts(vars1, start = firstYear)"
   ]
  },
  {
   "cell_type": "code",
   "execution_count": 64,
   "metadata": {
    "collapsed": false
   },
   "outputs": [
    {
     "data": {
      "text/plain": [
       "Time Series:\n",
       "Start = 1963 \n",
       "End = 2005 \n",
       "Frequency = 1 \n",
       " [1] 15890.21 15549.93 15675.24 17568.89 18549.42 17351.99 17684.84 16413.22\n",
       " [9] 14850.82 14463.85 15261.29 14061.07 19000.99 16374.37 16034.83 17801.05\n",
       "[17] 19259.49 18377.21 18946.45 20031.54 20441.69 19028.65 14684.37 15231.76\n",
       "[25] 14543.00 13753.18 12200.74 14588.57 16395.91 15577.56 15003.50 20674.83\n",
       "[33] 21821.69 22064.03 21764.12 20999.18 20823.16 19454.89 17826.27 18195.16\n",
       "[41] 18203.10 15788.14 14687.92"
      ]
     },
     "metadata": {},
     "output_type": "display_data"
    }
   ],
   "source": [
    "vars1TS"
   ]
  },
  {
   "cell_type": "code",
   "execution_count": 65,
   "metadata": {
    "collapsed": true
   },
   "outputs": [],
   "source": [
    "rollSmall = ts(runmean(vars1TS,15),start=firstYear)\n",
    "rollSmall2 = ts(runmean(vars1TS,30),start=firstYear)\n",
    "rollSmall3 = ts(runmean(vars1TS,50),start=firstYear)"
   ]
  },
  {
   "cell_type": "code",
   "execution_count": 67,
   "metadata": {
    "collapsed": false
   },
   "outputs": [
    {
     "data": {
      "image/png": "[encoded data removed]",
      "text/plain": [
       "plot without title"
      ]
     },
     "metadata": {},
     "output_type": "display_data"
    }
   ],
   "source": [
    "plot(vars1TS, type=\"l\", xlab = \"Time (years)\", lwd=2,\n",
    "    ylab = \"Precipitation (1/10mm)^2\", col = 1)\n",
    "lines(rollSmall, col=3,lwd=2)\n",
    "lines(rollSmall2, col=2,lwd=2)\n",
    "lines(rollSmall3, col=4,lwd=2)\n",
    "legend(\"topleft\",c(\"Variance, of Intervals\",\"\",\"Small Smoothing\", \"\",\"Medium Smoothing\",\"\",\"Large Smoothing\"),\n",
    "      col = c(1,0,3,0,2,0,4), lty = c(1,0,1,0,1,0,1), lwd=c(2,2,2,2), bty=\"n\")"
   ]
  },
  {
   "cell_type": "code",
   "execution_count": 68,
   "metadata": {
    "collapsed": false
   },
   "outputs": [
    {
     "data": {
      "image/png": "[encoded data removed]",
      "text/plain": [
       "plot without title"
      ]
     },
     "metadata": {},
     "output_type": "display_data"
    }
   ],
   "source": [
    "plot(sqrt(vars1TS), type=\"l\", xlab = \"Time (years)\", lwd=2,\n",
    "    ylab = \"Precipitation (1/10mm)^2\", col = 1)\n",
    "lines(sqrt(rollSmall), col=3,lwd=2)\n",
    "lines(sqrt(rollSmall2), col=2,lwd=2)\n",
    "lines(sqrt(rollSmall3), col=4,lwd=2)\n",
    "legend(\"topleft\",c(\"Standard Deviation, of Intervals\",\"\",\"Small Smoothing\", \"\",\"Medium Smoothing\",\"\",\"Large Smoothing\"),\n",
    "      col = c(1,0,3,0,2,0,4), lty = c(1,0,1,0,1,0,1), lwd=c(2,2,2,2), bty=\"n\")"
   ]
  },
  {
   "cell_type": "code",
   "execution_count": null,
   "metadata": {
    "collapsed": true
   },
   "outputs": [],
   "source": []
  },
  {
   "cell_type": "code",
   "execution_count": 70,
   "metadata": {
    "collapsed": false
   },
   "outputs": [
    {
     "data": {
      "text/html": [
       "52"
      ],
      "text/latex": [
       "52"
      ],
      "text/markdown": [
       "52"
      ],
      "text/plain": [
       "[1] 52"
      ]
     },
     "metadata": {},
     "output_type": "display_data"
    }
   ],
   "source": [
    "nrow(data)/12"
   ]
  },
  {
   "cell_type": "code",
   "execution_count": 71,
   "metadata": {
    "collapsed": false
   },
   "outputs": [
    {
     "data": {
      "text/html": [
       "1963"
      ],
      "text/latex": [
       "1963"
      ],
      "text/markdown": [
       "1963"
      ],
      "text/plain": [
       "[1] 1963"
      ]
     },
     "metadata": {},
     "output_type": "display_data"
    }
   ],
   "source": [
    "min(data$YEAR)"
   ]
  },
  {
   "cell_type": "code",
   "execution_count": 72,
   "metadata": {
    "collapsed": false
   },
   "outputs": [
    {
     "data": {
      "text/html": [
       "2014"
      ],
      "text/latex": [
       "2014"
      ],
      "text/markdown": [
       "2014"
      ],
      "text/plain": [
       "[1] 2014"
      ]
     },
     "metadata": {},
     "output_type": "display_data"
    }
   ],
   "source": [
    "max(data$YEAR)"
   ]
  },
  {
   "cell_type": "code",
   "execution_count": 73,
   "metadata": {
    "collapsed": false
   },
   "outputs": [
    {
     "data": {
      "text/html": [
       "2015"
      ],
      "text/latex": [
       "2015"
      ],
      "text/markdown": [
       "2015"
      ],
      "text/plain": [
       "[1] 2015"
      ]
     },
     "metadata": {},
     "output_type": "display_data"
    }
   ],
   "source": [
    "1963+52"
   ]
  },
  {
   "cell_type": "code",
   "execution_count": null,
   "metadata": {
    "collapsed": true
   },
   "outputs": [],
   "source": []
  }
 ],
 "metadata": {
  "anaconda-cloud": {},
  "kernelspec": {
   "display_name": "R",
   "language": "R",
   "name": "ir"
  },
  "language_info": {
   "codemirror_mode": "r",
   "file_extension": ".r",
   "mimetype": "text/x-r-source",
   "name": "R",
   "pygments_lexer": "r",
   "version": "3.3.1"
  }
 },
 "nbformat": 4,
 "nbformat_minor": 0
}
